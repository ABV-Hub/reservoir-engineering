{
  "nbformat": 4,
  "nbformat_minor": 0,
  "metadata": {
    "colab": {
      "name": "7_examples_part1.ipynb",
      "provenance": [],
      "collapsed_sections": [],
      "authorship_tag": "ABX9TyNFZJaIqhrCXIlblZ7qn0bw",
      "include_colab_link": true
    },
    "kernelspec": {
      "name": "python3",
      "display_name": "Python 3"
    }
  },
  "cells": [
    {
      "cell_type": "markdown",
      "metadata": {
        "id": "view-in-github",
        "colab_type": "text"
      },
      "source": [
        "<a href=\"https://colab.research.google.com/github/yohanesnuwara/reservoir-engineering/blob/master/Unit%207%20Introduction%20to%20Well-Test%20Analysis/notebook/7_examples_part1.ipynb\" target=\"_parent\"><img src=\"https://colab.research.google.com/assets/colab-badge.svg\" alt=\"Open In Colab\"/></a>"
      ]
    },
    {
      "cell_type": "markdown",
      "metadata": {
        "id": "Ogve4wNgboV_",
        "colab_type": "text"
      },
      "source": [
        "# **Unit 7 Introduction to Well-Test Analysis (Part 1)**\n",
        "\n",
        "The **Part 1** of **Unit 7** notebook contains **4 of 6 flow test types** (Chap 7.2, 7.3, 7.4, and 7.5)\n",
        "\n",
        "The overall types of well-test types are:\n",
        "* Constant-Rate Flow Tests (Chap 7.2)\n",
        "* Multirate Flow Tests (Chap 7.3)\n",
        "* Constant-Pressure Flow Tests (Chap 7.4)\n",
        "* Constant-Rate Pressure Buildup Tests (Chap 7.5)\n",
        "* Multirate Buildup Tests (Chap 7.6)\n",
        "* Buildup Analysis of Finite-Acting Wells (Chap 7.7)"
      ]
    },
    {
      "cell_type": "code",
      "metadata": {
        "id": "inATze29sE4T",
        "colab_type": "code",
        "colab": {}
      },
      "source": [
        "import numpy as np\n",
        "import matplotlib.pyplot as plt\n",
        "import pandas as pd"
      ],
      "execution_count": 0,
      "outputs": []
    },
    {
      "cell_type": "code",
      "metadata": {
        "id": "iKaasC-W6yzt",
        "colab_type": "code",
        "outputId": "e1aebbad-176a-4d5d-ddd1-6be4593afe9b",
        "colab": {
          "base_uri": "https://localhost:8080/",
          "height": 151
        }
      },
      "source": [
        "!git clone https://www.github.com/yohanesnuwara/reservoir-engineering"
      ],
      "execution_count": 0,
      "outputs": [
        {
          "output_type": "stream",
          "text": [
            "Cloning into 'reservoir-engineering'...\n",
            "warning: redirecting to https://github.com/yohanesnuwara/reservoir-engineering.git/\n",
            "remote: Enumerating objects: 170, done.\u001b[K\n",
            "remote: Counting objects: 100% (170/170), done.\u001b[K\n",
            "remote: Compressing objects: 100% (156/156), done.\u001b[K\n",
            "remote: Total 530 (delta 65), reused 0 (delta 0), pack-reused 360\u001b[K\n",
            "Receiving objects: 100% (530/530), 1.26 MiB | 12.51 MiB/s, done.\n",
            "Resolving deltas: 100% (219/219), done.\n"
          ],
          "name": "stdout"
        }
      ]
    },
    {
      "cell_type": "markdown",
      "metadata": {
        "id": "Ir4DfsEZb0Wi",
        "colab_type": "text"
      },
      "source": [
        "## **Chap 7.2 Constant-Rate Flow Tests**"
      ]
    },
    {
      "cell_type": "markdown",
      "metadata": {
        "id": "d6BsdX_gb_XM",
        "colab_type": "text"
      },
      "source": [
        "### Example 7.1 Analysis of a Constant-Rate Well Test"
      ]
    },
    {
      "cell_type": "code",
      "metadata": {
        "id": "13O-7HYl7I5P",
        "colab_type": "code",
        "outputId": "30904743-add3-4271-b01a-42a5b54a334b",
        "colab": {
          "base_uri": "https://localhost:8080/",
          "height": 488
        }
      },
      "source": [
        "data_bhfp = pd.read_csv('/content/reservoir-engineering/Unit 7 Introduction to Well-Test Analysis/data/Table 7.2-Reservoir Parameters and BHFP Example 7.1.csv')\n",
        "\n",
        "axisx = data_bhfp.t\n",
        "axisy = data_bhfp.p\n",
        "\n",
        "\"guess time index in time data that mark the end of straight line for regression (Fig 7.1 in book)\"\n",
        "index = 19 # continuously adjust this value until it reaches the point\n",
        "\n",
        "# plot borehole flowing pressure vs time\n",
        "plt.figure(figsize=(10, 7))\n",
        "p1 = plt.semilogx(axisx, axisy, '.')\n",
        "\n",
        "# plot the guessed 'end of straight' line for regression\n",
        "p2 = plt.semilogx(data_bhfp.t[index], data_bhfp.p[index], '*', color='r', ms=10)\n",
        "plt.legend((p1[0], p2[0]), ('BHFP data', 'End of straight line'))\n",
        "\n",
        "plt.title('Semilog Plot of Borehole Flowing Pressure vs Time', size=20, pad=10)\n",
        "plt.xlabel('Time (hours)'); plt.ylabel('Pressure (psia)')"
      ],
      "execution_count": 0,
      "outputs": [
        {
          "output_type": "execute_result",
          "data": {
            "text/plain": [
              "Text(0, 0.5, 'Pressure (psia)')"
            ]
          },
          "metadata": {
            "tags": []
          },
          "execution_count": 3
        },
        {
          "output_type": "display_data",
          "data": {
            "image/png": "[encoded data removed]",
            "text/plain": [
              "<Figure size 720x504 with 1 Axes>"
            ]
          },
          "metadata": {
            "tags": []
          }
        }
      ]
    },
    {
      "cell_type": "markdown",
      "metadata": {
        "id": "rIj6LRKLBhd9",
        "colab_type": "text"
      },
      "source": [
        "To do regression we cut the dataframe from `df[0]` until the index of our guessed *end of straight line* `df[index]`. Only if the BHFP data contains pressure at `time = 0` (first row), drop the first row `df[0]`, because when log operation is underway, `log(0) = indefinite`. "
      ]
    },
    {
      "cell_type": "code",
      "metadata": {
        "id": "-RZNETiYB2TX",
        "colab_type": "code",
        "outputId": "c9a80a95-7b2c-4735-9a11-8dcd51ccc299",
        "colab": {
          "base_uri": "https://localhost:8080/",
          "height": 50
        }
      },
      "source": [
        "# cut dataframe from index 0 to index of end of straight line\n",
        "df1 = data_bhfp.iloc[:index+1, :]\n",
        "\n",
        "# drop the first row with time=0, because when log operation is underway, log(0) = indefinite\n",
        "dff1 = df1.drop(df1.index[0])\n",
        "\n",
        "x = np.log(np.array(dff1.t))\n",
        "y = np.array(dff1.p)\n",
        "\n",
        "def regression(x, y): \n",
        "    # number of observations/points \n",
        "    n = np.size(x) \n",
        "  \n",
        "    # mean of x and y vector \n",
        "    m_x, m_y = np.mean(x), np.mean(y) \n",
        "  \n",
        "    # calculating cross-deviation and deviation about x \n",
        "    SS_xy = np.sum(y*x) - n*m_y*m_x \n",
        "    SS_xx = np.sum(x*x) - n*m_x*m_x \n",
        "  \n",
        "    # calculating regression coefficients \n",
        "    b_1 = SS_xy / SS_xx \n",
        "    b_0 = m_y - b_1*m_x \n",
        "  \n",
        "    return(b_0, b_1) \n",
        "\n",
        "c, m = regression(x,y)\n",
        "print(\"Slope of semilog plot of BHFP vs time:\", m)\n",
        "print(\"Pressure intercept of semilog plot of BHFP vs time:\", c, \"psia\")"
      ],
      "execution_count": 0,
      "outputs": [
        {
          "output_type": "stream",
          "text": [
            "Slope of semilog plot of BHFP vs time: -9.816049286818531\n",
            "Pressure intercept of semilog plot of BHFP vs time: 2365.6951804701193 psia\n"
          ],
          "name": "stdout"
        }
      ]
    },
    {
      "cell_type": "markdown",
      "metadata": {
        "id": "q1zpQNAiLF33",
        "colab_type": "text"
      },
      "source": [
        "Plot the regression line on the semilog plot"
      ]
    },
    {
      "cell_type": "code",
      "metadata": {
        "id": "CKyZfK16LJa4",
        "colab_type": "code",
        "outputId": "bf6c5fab-f4e9-48ab-9742-44eccf324b8b",
        "colab": {
          "base_uri": "https://localhost:8080/",
          "height": 522
        }
      },
      "source": [
        "# plot regression line on semilog plot\n",
        "\n",
        "# x_reg = dff1.t\n",
        "# y_reg = m * x + c\n",
        "# x_reg = np.log(np.array(df1.t))\n",
        "x_reg = np.log(np.array(data_bhfp.t))\n",
        "y_reg = m * x_reg + c\n",
        "\n",
        "plt.figure(figsize=(10, 7))\n",
        "\n",
        "# p3 = plt.semilogx(df1.t, y_reg, '--', color='g', ms=0.5)\n",
        "p3 = plt.semilogx(data_bhfp.t, y_reg, '--', color='g', ms=0.5)\n",
        "\n",
        "# plot borehole flowing pressure vs time\n",
        "p1 = plt.semilogx(axisx, axisy, '.')\n",
        "\n",
        "# plot the guessed 'end of straight' line for regression\n",
        "p2 = plt.semilogx(data_bhfp.t[index], data_bhfp.p[index], '*', color='r', ms=10)\n",
        "plt.legend((p1[0], p2[0], p3[0]), ('BHFP data', 'End of straight line', 'Regression line'))\n",
        "\n",
        "plt.title('Semilog Plot of Borehole Flowing Pressure vs Time', size=20, pad=10)\n",
        "plt.xlabel('Time (hours)'); plt.ylabel('Pressure (psia)')"
      ],
      "execution_count": 0,
      "outputs": [
        {
          "output_type": "stream",
          "text": [
            "/usr/local/lib/python3.6/dist-packages/ipykernel_launcher.py:1: RuntimeWarning: divide by zero encountered in log\n",
            "  \"\"\"Entry point for launching an IPython kernel.\n"
          ],
          "name": "stderr"
        },
        {
          "output_type": "execute_result",
          "data": {
            "text/plain": [
              "Text(0, 0.5, 'Pressure (psia)')"
            ]
          },
          "metadata": {
            "tags": []
          },
          "execution_count": 96
        },
        {
          "output_type": "display_data",
          "data": {
            "image/png": "[encoded data removed]",
            "text/plain": [
              "<Figure size 720x504 with 1 Axes>"
            ]
          },
          "metadata": {
            "tags": []
          }
        }
      ]
    },
    {
      "cell_type": "markdown",
      "metadata": {
        "id": "OcCdiHUwC3t1",
        "colab_type": "text"
      },
      "source": [
        "The first task, determine reservoir permeability from the resulted slope `m` from regression."
      ]
    },
    {
      "cell_type": "code",
      "metadata": {
        "id": "_gjS6XzOCxU-",
        "colab_type": "code",
        "outputId": "4a0df63f-9d3a-484a-e57f-47feb08293d5",
        "colab": {
          "base_uri": "https://localhost:8080/",
          "height": 34
        }
      },
      "source": [
        "\"Task 1. determine permeability\"\n",
        "\n",
        "# known reservoir parameters\n",
        "\n",
        "poro = 0.15\n",
        "rw = 0.333 # in ft\n",
        "h = 32 # in ft\n",
        "qo = 1000 # in STB/d\n",
        "swi = 0.25\n",
        "ct = 12E-06 # in psi^-1\n",
        "pi = 2500 # initial pressure in psia\n",
        "mu_oil = 2 # in cP\n",
        "Bo = 1.333 # in RB/STB\n",
        "\n",
        "# conversion: NONE, all units already in oilfield units\n",
        "\n",
        "# multiply m with ln(10)\n",
        "\n",
        "m_cycle = m * np.log(10)\n",
        "m_cycle # result in psi/cycle\n",
        "\n",
        "# find k from Eq 7.10 (oilfield units)\n",
        "\n",
        "k = - (162.6 * qo * Bo * mu_oil) / (m_cycle * h)\n",
        "print(\"Permeability calculated from BHFP data:\", k, \"milidarcies\")"
      ],
      "execution_count": 0,
      "outputs": [
        {
          "output_type": "stream",
          "text": [
            "Permeability calculated from BHFP data: 599.3469353431107 milidarcies\n"
          ],
          "name": "stdout"
        }
      ]
    },
    {
      "cell_type": "markdown",
      "metadata": {
        "id": "erDp-1eYFbdi",
        "colab_type": "text"
      },
      "source": [
        "Second task, determine time to finite acting period. This is different to Example 6.1 in Unit 6 to calculate `t_finite_acting` previously because in Example 6.1, distance to outer boundary of reservoir (`re`) is known. Here in Example 7.1, `re` is not known, so `t_finite_acting` is barely determined by looking at the **semilog plot** above, where the pressure plots **start to deviate from straight line**.  \n",
        "\n",
        "**Different from the book**, `t_finite_acting` is more likely to start at `t = 10` hours, exactly where we have guessed the *index of end of straight line* as `index = 19` before. \n",
        "\n",
        "So leaving out, `t_finite_acting = 10`"
      ]
    },
    {
      "cell_type": "code",
      "metadata": {
        "id": "v2ZyKRgmJD3r",
        "colab_type": "code",
        "colab": {}
      },
      "source": [
        "\"Task 2. determine t finite acting from semilog plot\"\n",
        "\n",
        "t_finite_acting = 10"
      ],
      "execution_count": 0,
      "outputs": []
    },
    {
      "cell_type": "markdown",
      "metadata": {
        "id": "ktMnP7B4JOFL",
        "colab_type": "text"
      },
      "source": [
        "Third task, determine reservoir size `re`. There are 2 methods: one, presented in the book, using **normal plot of BHFP to time** and determine the slope. The another method, use **Eq 6.16** like in **Unit 6** since `t_finite_acting` has been approximated.  "
      ]
    },
    {
      "cell_type": "code",
      "metadata": {
        "id": "udt91QImJL5a",
        "colab_type": "code",
        "outputId": "0d678cbc-c5b4-4a98-debb-5ee2481ef2e8",
        "colab": {
          "base_uri": "https://localhost:8080/",
          "height": 34
        }
      },
      "source": [
        "\"Task 3. determine reservoir size\"\n",
        "\n",
        "# method 1. analytical, use previously Eq 6.16\n",
        "\n",
        "t_Dw = (t_finite_acting * 0.0002637 * k) / (poro * mu_oil * ct * (rw**2))\n",
        "\n",
        "# solve re from t_Dw = 0.25 * r_eD**2\n",
        "\n",
        "r_eD_square = 4 * t_Dw\n",
        "re = rw * np.sqrt(r_eD_square)\n",
        "print(\"Reservoir size from solving analytically Eq 6.16:\", re, \"ft\")"
      ],
      "execution_count": 0,
      "outputs": [
        {
          "output_type": "stream",
          "text": [
            "Reservoir size from solving analytically Eq 6.16: 1325.174147255867 ft\n"
          ],
          "name": "stdout"
        }
      ]
    },
    {
      "cell_type": "code",
      "metadata": {
        "id": "EJuob-cLOtBN",
        "colab_type": "code",
        "outputId": "27980dbf-5511-45c1-9380-21ae3bf0c00b",
        "colab": {
          "base_uri": "https://localhost:8080/",
          "height": 484
        }
      },
      "source": [
        "# find re from graphical (book's method), again guess for the straight line\n",
        "\n",
        "\"time when plot starts deviating equals to index at t_finite_acting, similar index to previous semilog plot\"\n",
        "index2 = index # similar to the index of semilog plot\n",
        "\n",
        "# plot borehole flowing pressure vs time\n",
        "plt.figure(figsize=(10, 7))\n",
        "p1 = plt.plot(axisx, axisy, '.')\n",
        "\n",
        "# plot the guessed 'end of straight' line for regression\n",
        "p2 = plt.plot(data_bhfp.t[index2], data_bhfp.p[index2], '*', color='r', ms=10)\n",
        "plt.legend((p1[0], p2[0]), ('BHFP data', 'Start of straight line'))\n",
        "\n",
        "plt.xlim(0, 50)\n",
        "plt.title('Normal Plot of Borehole Flowing Pressure vs Time', size=20, pad=10)\n",
        "plt.xlabel('Time (hours)'); plt.ylabel('Pressure (psia)')"
      ],
      "execution_count": 0,
      "outputs": [
        {
          "output_type": "execute_result",
          "data": {
            "text/plain": [
              "Text(0, 0.5, 'Pressure (psia)')"
            ]
          },
          "metadata": {
            "tags": []
          },
          "execution_count": 71
        },
        {
          "output_type": "display_data",
          "data": {
            "image/png": "[encoded data removed]",
            "text/plain": [
              "<Figure size 720x504 with 1 Axes>"
            ]
          },
          "metadata": {
            "tags": []
          }
        }
      ]
    },
    {
      "cell_type": "code",
      "metadata": {
        "id": "30zF3UgxPWoV",
        "colab_type": "code",
        "outputId": "b2e43a3b-4bbc-4ac5-8901-b49144eb80a7",
        "colab": {
          "base_uri": "https://localhost:8080/",
          "height": 50
        }
      },
      "source": [
        "# cut dataframe from index of start of straight line to the last index\n",
        "dff2 = data_bhfp.iloc[index2:, :]\n",
        "\n",
        "x2 = np.array(dff2.t)\n",
        "y2 = np.array(dff2.p)\n",
        "\n",
        "def regression(x, y): \n",
        "    # number of observations/points \n",
        "    n = np.size(x) \n",
        "  \n",
        "    # mean of x and y vector \n",
        "    m_x, m_y = np.mean(x), np.mean(y) \n",
        "  \n",
        "    # calculating cross-deviation and deviation about x \n",
        "    SS_xy = np.sum(y*x) - n*m_y*m_x \n",
        "    SS_xx = np.sum(x*x) - n*m_x*m_x \n",
        "  \n",
        "    # calculating regression coefficients \n",
        "    b_1 = SS_xy / SS_xx \n",
        "    b_0 = m_y - b_1*m_x \n",
        "  \n",
        "    return(b_0, b_1) \n",
        "\n",
        "c2, m2 = regression(x2,y2)\n",
        "print(\"Slope of semilog plot of BHFP vs time:\", m2)\n",
        "print(\"Pressure intercept of semilog plot of BHFP vs time:\", c2, \"psia\")"
      ],
      "execution_count": 0,
      "outputs": [
        {
          "output_type": "stream",
          "text": [
            "Slope of semilog plot of BHFP vs time: -1.7357010538030258\n",
            "Pressure intercept of semilog plot of BHFP vs time: 2358.0966492729244 psia\n"
          ],
          "name": "stdout"
        }
      ]
    },
    {
      "cell_type": "code",
      "metadata": {
        "id": "WOnYiAXCRx9O",
        "colab_type": "code",
        "outputId": "a1e1d8f2-71eb-4677-da55-b63ca636cbe8",
        "colab": {
          "base_uri": "https://localhost:8080/",
          "height": 484
        }
      },
      "source": [
        "# plot regression line on plot\n",
        "\n",
        "x_reg2 = np.array(data_bhfp.t)\n",
        "y_reg2 = m2 * x_reg2 + c2\n",
        "\n",
        "plt.figure(figsize=(10, 7))\n",
        "\n",
        "p3 = plt.plot(data_bhfp.t, y_reg2, '--', color='g', ms=0.5)\n",
        "\n",
        "# plot borehole flowing pressure vs time\n",
        "p1 = plt.plot(axisx, axisy, '.')\n",
        "\n",
        "# plot the guessed 'end of straight' line for regression\n",
        "p2 = plt.plot(data_bhfp.t[index2], data_bhfp.p[index2], '*', color='r', ms=10)\n",
        "plt.legend((p1[0], p2[0], p3[0]), ('BHFP data', 'End of straight line', 'Regression line'))\n",
        "\n",
        "plt.title('Semilog Plot of Borehole Flowing Pressure vs Time', size=20, pad=10)\n",
        "plt.xlabel('Time (hours)'); plt.ylabel('Pressure (psia)')"
      ],
      "execution_count": 0,
      "outputs": [
        {
          "output_type": "execute_result",
          "data": {
            "text/plain": [
              "Text(0, 0.5, 'Pressure (psia)')"
            ]
          },
          "metadata": {
            "tags": []
          },
          "execution_count": 73
        },
        {
          "output_type": "display_data",
          "data": {
            "image/png": "[encoded data removed]",
            "text/plain": [
              "<Figure size 720x504 with 1 Axes>"
            ]
          },
          "metadata": {
            "tags": []
          }
        }
      ]
    },
    {
      "cell_type": "code",
      "metadata": {
        "id": "GVsn13D6TES1",
        "colab_type": "code",
        "outputId": "61a14ff1-e2d8-4f55-b557-bd17d86a4dc1",
        "colab": {
          "base_uri": "https://localhost:8080/",
          "height": 34
        }
      },
      "source": [
        "# re-arranging Eq 7.22\n",
        "\n",
        "# m2 is not converted into psi/cycle, remains psi/hour\n",
        "\n",
        "re2 = np.sqrt(-((0.07447 * qo * Bo) / (poro * h * ct * m2)))\n",
        "print(\"Reservoir Size using Eq 7.22 graphical normal plot:\", re2, \"ft\")"
      ],
      "execution_count": 0,
      "outputs": [
        {
          "output_type": "stream",
          "text": [
            "Reservoir Size using Eq 7.22 graphical normal plot: 996.4535215820936 ft\n"
          ],
          "name": "stdout"
        }
      ]
    },
    {
      "cell_type": "markdown",
      "metadata": {
        "id": "UJjdebXBXJrY",
        "colab_type": "text"
      },
      "source": [
        "The fourth task, is to determine the **skin factor**, using Eq 7.12. "
      ]
    },
    {
      "cell_type": "code",
      "metadata": {
        "id": "beTRTkftXS5s",
        "colab_type": "code",
        "outputId": "150f44fb-c90c-4dc5-9940-c239f35cae1f",
        "colab": {
          "base_uri": "https://localhost:8080/",
          "height": 50
        }
      },
      "source": [
        "\"Task 4. calculate skin factor\"\n",
        "\n",
        "# determine first, the b1hr (pressure at 1 hour from regression line)\n",
        "t1hr = 1 # time at 1 hour\n",
        "b1hr = m2 * t1hr + c2 # m2 and c2 are slope and intercept of the second regression line from normal plot\n",
        "\n",
        "# calculate skin factor, in oilfied formula\n",
        "\n",
        "# m (slope) is m from semilog plot, m_cycle \n",
        "\n",
        "# first = (((pi - b1hr) / -m_cycle))\n",
        "s = 1.1513 * (((pi - b1hr) / -m_cycle) - np.log10(k / (poro * mu_oil * ct * (rw**2))) + 3.2275)\n",
        "print(\"Pressure intercept at 1 hour:\", b1hr, \"psia\")\n",
        "print(\"Skin factor using Eq 7.1:\", s)"
      ],
      "execution_count": 0,
      "outputs": [
        {
          "output_type": "stream",
          "text": [
            "Pressure intercept at 1 hour: 2356.3609482191214 psia\n",
            "Skin factor using Eq 7.1: 0.4675191449502658\n"
          ],
          "name": "stdout"
        }
      ]
    },
    {
      "cell_type": "markdown",
      "metadata": {
        "id": "_oaXweIjbiQK",
        "colab_type": "text"
      },
      "source": [
        "Which is little different from the result of the book. But, it's fine. "
      ]
    },
    {
      "cell_type": "markdown",
      "metadata": {
        "id": "iweEB9IFd3-D",
        "colab_type": "text"
      },
      "source": [
        "## **Chapter 7.3 Multirate Flow Tests**"
      ]
    },
    {
      "cell_type": "markdown",
      "metadata": {
        "id": "eDzu_U4peAht",
        "colab_type": "text"
      },
      "source": [
        "### Example 7.2 Analysis of a Multirate Flow Test"
      ]
    },
    {
      "cell_type": "code",
      "metadata": {
        "id": "vriuxHhgaaiV",
        "colab_type": "code",
        "outputId": "81354215-7bb4-416b-ab3f-9a64a43b5cef",
        "colab": {
          "base_uri": "https://localhost:8080/",
          "height": 312
        }
      },
      "source": [
        "\"Task. determine permeability k and skin factor s\"\n",
        "\n",
        "# known: flow is infinite in reservoir for full 30 hours, ETR (wellbore storage) period under 1 hour\n",
        "\n",
        "poro = 0.15\n",
        "rw = 4 # in inch\n",
        "h = 32 # in ft\n",
        "ct = 12E-06 # in psi^-1\n",
        "pi = 2500 # initial pressure in psia\n",
        "mu_oil = 2 # in cP\n",
        "Bo = 1.333 # in RB/STB\n",
        "re = np.Infinity # reservoir is infinity in size\n",
        "\n",
        "# conversion\n",
        "rw = rw * 0.08333 # convert from in to ft\n",
        "\n",
        "time_change = [10, 20] # time when rate changes\n",
        "q = [1000, 1500, 300]\n",
        "\n",
        "data_multirate = pd.read_csv('/content/reservoir-engineering/Unit 7 Introduction to Well-Test Analysis/data/Table 7.3-Reservoir Parameters and Pressure Data Example 7.2.csv')\n",
        "\n",
        "# plot BHFP data vs time (normal plot)\n",
        "plt.plot(data_multirate.t, data_multirate.p, '.-', color='black')\n",
        "plt.title('Normal Plot of BHFP vs Time')\n",
        "plt.xlabel('Time (hour)'); plt.ylabel('Pressure (psia)')"
      ],
      "execution_count": 0,
      "outputs": [
        {
          "output_type": "execute_result",
          "data": {
            "text/plain": [
              "Text(0, 0.5, 'Pressure (psia)')"
            ]
          },
          "metadata": {
            "tags": []
          },
          "execution_count": 156
        },
        {
          "output_type": "display_data",
          "data": {
            "image/png": "[encoded data removed]",
            "text/plain": [
              "<Figure size 432x288 with 1 Axes>"
            ]
          },
          "metadata": {
            "tags": []
          }
        }
      ]
    },
    {
      "cell_type": "code",
      "metadata": {
        "id": "p4aVf27Ec6Tg",
        "colab_type": "code",
        "outputId": "8ca041b1-5f5f-4a14-a68a-9a12e9e558a2",
        "colab": {
          "base_uri": "https://localhost:8080/",
          "height": 935
        }
      },
      "source": [
        "y_arr = []\n",
        "Fp_arr = []\n",
        "\n",
        "for i in range(len(data_multirate.t)):\n",
        "  if data_multirate.t[i] <= time_change[0]:\n",
        "    # first rate\n",
        "    y = (pi - data_multirate.p[i]) / q[0] # the y axis (pi-pwf)/qn\n",
        "    Fp = ((q[0] - 0) / q[0]) * np.log10(data_multirate.t[i] - 0) # the x axis, plotting function\n",
        "  if data_multirate.t[i] > time_change[0] and data_multirate.t[i] <= time_change[1]:\n",
        "    # second rate\n",
        "    y = (pi - data_multirate.p[i]) / q[1] # the y axis (pi-pwf)/qn\n",
        "    Fp = (((q[1] - q[0]) / q[1]) * np.log10(data_multirate.t[i] - time_change[0])) + (((q[0] - 0) / q[1]) * np.log10(data_multirate.t[i] - 0)) # the x axis, plotting function\n",
        "  if data_multirate.t[i] > time_change[1]:\n",
        "    # third rate\n",
        "    y = (pi - data_multirate.p[i]) / q[2] # the y axis (pi-pwf)/qn\n",
        "    Fp = (((q[2] - q[1]) / q[2]) * np.log10(data_multirate.t[i] - time_change[1])) + (((q[1] - q[0]) / q[2]) * np.log10(data_multirate.t[i] - time_change[0])) + (((q[0] - 0) / q[2]) * np.log10(data_multirate.t[i] - 0)) # the x axis, plotting function\n",
        "  \n",
        "  y_arr.append(float(y))\n",
        "  Fp_arr.append(float(Fp))\n",
        "\n",
        "result = pd.DataFrame({\"Time (hour)\": data_multirate.t, \"Fp\": Fp_arr, \"y\": y_arr})\n",
        "result"
      ],
      "execution_count": 0,
      "outputs": [
        {
          "output_type": "execute_result",
          "data": {
            "text/html": [
              "<div>\n",
              "<style scoped>\n",
              "    .dataframe tbody tr th:only-of-type {\n",
              "        vertical-align: middle;\n",
              "    }\n",
              "\n",
              "    .dataframe tbody tr th {\n",
              "        vertical-align: top;\n",
              "    }\n",
              "\n",
              "    .dataframe thead th {\n",
              "        text-align: right;\n",
              "    }\n",
              "</style>\n",
              "<table border=\"1\" class=\"dataframe\">\n",
              "  <thead>\n",
              "    <tr style=\"text-align: right;\">\n",
              "      <th></th>\n",
              "      <th>Time (hour)</th>\n",
              "      <th>Fp</th>\n",
              "      <th>y</th>\n",
              "    </tr>\n",
              "  </thead>\n",
              "  <tbody>\n",
              "    <tr>\n",
              "      <th>0</th>\n",
              "      <td>1</td>\n",
              "      <td>0.000000</td>\n",
              "      <td>0.310700</td>\n",
              "    </tr>\n",
              "    <tr>\n",
              "      <th>1</th>\n",
              "      <td>2</td>\n",
              "      <td>0.301030</td>\n",
              "      <td>0.317500</td>\n",
              "    </tr>\n",
              "    <tr>\n",
              "      <th>2</th>\n",
              "      <td>3</td>\n",
              "      <td>0.477121</td>\n",
              "      <td>0.321500</td>\n",
              "    </tr>\n",
              "    <tr>\n",
              "      <th>3</th>\n",
              "      <td>4</td>\n",
              "      <td>0.602060</td>\n",
              "      <td>0.324300</td>\n",
              "    </tr>\n",
              "    <tr>\n",
              "      <th>4</th>\n",
              "      <td>5</td>\n",
              "      <td>0.698970</td>\n",
              "      <td>0.326500</td>\n",
              "    </tr>\n",
              "    <tr>\n",
              "      <th>5</th>\n",
              "      <td>6</td>\n",
              "      <td>0.778151</td>\n",
              "      <td>0.328300</td>\n",
              "    </tr>\n",
              "    <tr>\n",
              "      <th>6</th>\n",
              "      <td>7</td>\n",
              "      <td>0.845098</td>\n",
              "      <td>0.329800</td>\n",
              "    </tr>\n",
              "    <tr>\n",
              "      <th>7</th>\n",
              "      <td>8</td>\n",
              "      <td>0.903090</td>\n",
              "      <td>0.331100</td>\n",
              "    </tr>\n",
              "    <tr>\n",
              "      <th>8</th>\n",
              "      <td>9</td>\n",
              "      <td>0.954243</td>\n",
              "      <td>0.332300</td>\n",
              "    </tr>\n",
              "    <tr>\n",
              "      <th>9</th>\n",
              "      <td>10</td>\n",
              "      <td>1.000000</td>\n",
              "      <td>0.333300</td>\n",
              "    </tr>\n",
              "    <tr>\n",
              "      <th>10</th>\n",
              "      <td>11</td>\n",
              "      <td>0.694262</td>\n",
              "      <td>0.326400</td>\n",
              "    </tr>\n",
              "    <tr>\n",
              "      <th>11</th>\n",
              "      <td>12</td>\n",
              "      <td>0.819797</td>\n",
              "      <td>0.329267</td>\n",
              "    </tr>\n",
              "    <tr>\n",
              "      <th>12</th>\n",
              "      <td>13</td>\n",
              "      <td>0.901669</td>\n",
              "      <td>0.331067</td>\n",
              "    </tr>\n",
              "    <tr>\n",
              "      <th>13</th>\n",
              "      <td>14</td>\n",
              "      <td>0.964772</td>\n",
              "      <td>0.332533</td>\n",
              "    </tr>\n",
              "    <tr>\n",
              "      <th>14</th>\n",
              "      <td>15</td>\n",
              "      <td>1.017051</td>\n",
              "      <td>0.333667</td>\n",
              "    </tr>\n",
              "    <tr>\n",
              "      <th>15</th>\n",
              "      <td>16</td>\n",
              "      <td>1.062130</td>\n",
              "      <td>0.334733</td>\n",
              "    </tr>\n",
              "    <tr>\n",
              "      <th>16</th>\n",
              "      <td>17</td>\n",
              "      <td>1.101999</td>\n",
              "      <td>0.335600</td>\n",
              "    </tr>\n",
              "    <tr>\n",
              "      <th>17</th>\n",
              "      <td>18</td>\n",
              "      <td>1.137878</td>\n",
              "      <td>0.336400</td>\n",
              "    </tr>\n",
              "    <tr>\n",
              "      <th>18</th>\n",
              "      <td>19</td>\n",
              "      <td>1.170583</td>\n",
              "      <td>0.337133</td>\n",
              "    </tr>\n",
              "    <tr>\n",
              "      <th>19</th>\n",
              "      <td>20</td>\n",
              "      <td>1.200687</td>\n",
              "      <td>0.337867</td>\n",
              "    </tr>\n",
              "    <tr>\n",
              "      <th>20</th>\n",
              "      <td>21</td>\n",
              "      <td>6.143052</td>\n",
              "      <td>0.449333</td>\n",
              "    </tr>\n",
              "    <tr>\n",
              "      <th>21</th>\n",
              "      <td>22</td>\n",
              "      <td>5.069258</td>\n",
              "      <td>0.425000</td>\n",
              "    </tr>\n",
              "    <tr>\n",
              "      <th>22</th>\n",
              "      <td>23</td>\n",
              "      <td>4.487180</td>\n",
              "      <td>0.412000</td>\n",
              "    </tr>\n",
              "    <tr>\n",
              "      <th>23</th>\n",
              "      <td>24</td>\n",
              "      <td>4.102678</td>\n",
              "      <td>0.403333</td>\n",
              "    </tr>\n",
              "    <tr>\n",
              "      <th>24</th>\n",
              "      <td>25</td>\n",
              "      <td>3.824072</td>\n",
              "      <td>0.397000</td>\n",
              "    </tr>\n",
              "    <tr>\n",
              "      <th>25</th>\n",
              "      <td>26</td>\n",
              "      <td>3.610839</td>\n",
              "      <td>0.392333</td>\n",
              "    </tr>\n",
              "    <tr>\n",
              "      <th>26</th>\n",
              "      <td>27</td>\n",
              "      <td>3.441569</td>\n",
              "      <td>0.388333</td>\n",
              "    </tr>\n",
              "    <tr>\n",
              "      <th>27</th>\n",
              "      <td>28</td>\n",
              "      <td>3.303621</td>\n",
              "      <td>0.385333</td>\n",
              "    </tr>\n",
              "    <tr>\n",
              "      <th>28</th>\n",
              "      <td>29</td>\n",
              "      <td>3.188946</td>\n",
              "      <td>0.382667</td>\n",
              "    </tr>\n",
              "    <tr>\n",
              "      <th>29</th>\n",
              "      <td>30</td>\n",
              "      <td>3.092121</td>\n",
              "      <td>0.380667</td>\n",
              "    </tr>\n",
              "  </tbody>\n",
              "</table>\n",
              "</div>"
            ],
            "text/plain": [
              "    Time (hour)        Fp         y\n",
              "0             1  0.000000  0.310700\n",
              "1             2  0.301030  0.317500\n",
              "2             3  0.477121  0.321500\n",
              "3             4  0.602060  0.324300\n",
              "4             5  0.698970  0.326500\n",
              "5             6  0.778151  0.328300\n",
              "6             7  0.845098  0.329800\n",
              "7             8  0.903090  0.331100\n",
              "8             9  0.954243  0.332300\n",
              "9            10  1.000000  0.333300\n",
              "10           11  0.694262  0.326400\n",
              "11           12  0.819797  0.329267\n",
              "12           13  0.901669  0.331067\n",
              "13           14  0.964772  0.332533\n",
              "14           15  1.017051  0.333667\n",
              "15           16  1.062130  0.334733\n",
              "16           17  1.101999  0.335600\n",
              "17           18  1.137878  0.336400\n",
              "18           19  1.170583  0.337133\n",
              "19           20  1.200687  0.337867\n",
              "20           21  6.143052  0.449333\n",
              "21           22  5.069258  0.425000\n",
              "22           23  4.487180  0.412000\n",
              "23           24  4.102678  0.403333\n",
              "24           25  3.824072  0.397000\n",
              "25           26  3.610839  0.392333\n",
              "26           27  3.441569  0.388333\n",
              "27           28  3.303621  0.385333\n",
              "28           29  3.188946  0.382667\n",
              "29           30  3.092121  0.380667"
            ]
          },
          "metadata": {
            "tags": []
          },
          "execution_count": 157
        }
      ]
    },
    {
      "cell_type": "code",
      "metadata": {
        "id": "ygriNjm_vWXS",
        "colab_type": "code",
        "outputId": "20b9c598-244c-4178-e87a-a07597b135c0",
        "colab": {
          "base_uri": "https://localhost:8080/",
          "height": 312
        }
      },
      "source": [
        "# plot result of y and Fp: drawdown plot\n",
        "\n",
        "plt.plot(Fp_arr, y_arr, '.', color='r')\n",
        "plt.title('Drawdown plot for multirate flow')\n",
        "plt.xlabel('Fp'); plt.ylabel('(pi-pwf)/qn, psi-D/STB')\n",
        "plt.xlim(0, 7)"
      ],
      "execution_count": 0,
      "outputs": [
        {
          "output_type": "execute_result",
          "data": {
            "text/plain": [
              "(0, 7)"
            ]
          },
          "metadata": {
            "tags": []
          },
          "execution_count": 158
        },
        {
          "output_type": "display_data",
          "data": {
            "image/png": "[encoded data removed]",
            "text/plain": [
              "<Figure size 432x288 with 1 Axes>"
            ]
          },
          "metadata": {
            "tags": []
          }
        }
      ]
    },
    {
      "cell_type": "code",
      "metadata": {
        "id": "fqN1cKuFzACP",
        "colab_type": "code",
        "outputId": "faa052da-3f56-4b8a-885f-872651c995d1",
        "colab": {
          "base_uri": "https://localhost:8080/",
          "height": 50
        }
      },
      "source": [
        "# linear regression to find slope and intercept of a straight line\n",
        "\n",
        "x3 = np.array(Fp_arr)\n",
        "y3 = np.array(y_arr)\n",
        "\n",
        "def regression(x, y): \n",
        "    # number of observations/points \n",
        "    n = np.size(x) \n",
        "  \n",
        "    # mean of x and y vector \n",
        "    m_x, m_y = np.mean(x), np.mean(y) \n",
        "  \n",
        "    # calculating cross-deviation and deviation about x \n",
        "    SS_xy = np.sum(y*x) - n*m_y*m_x \n",
        "    SS_xx = np.sum(x*x) - n*m_x*m_x \n",
        "  \n",
        "    # calculating regression coefficients \n",
        "    b_1 = SS_xy / SS_xx \n",
        "    b_0 = m_y - b_1*m_x \n",
        "  \n",
        "    return(b_0, b_1) \n",
        "\n",
        "c3, m3 = regression(x3,y3)\n",
        "print(\"Slope of drawdown plot:\", m3)\n",
        "print(\"Intercept of drawdown plot:\", c3, \"psi-D/STB\")"
      ],
      "execution_count": 0,
      "outputs": [
        {
          "output_type": "stream",
          "text": [
            "Slope of drawdown plot: 0.022564511968585745\n",
            "Intercept of drawdown plot: 0.3107394322295188 psi-D/STB\n"
          ],
          "name": "stdout"
        }
      ]
    },
    {
      "cell_type": "code",
      "metadata": {
        "id": "PTyj4osBzwOC",
        "colab_type": "code",
        "outputId": "a471e329-9ad2-4c58-dc85-0a29cd88e482",
        "colab": {
          "base_uri": "https://localhost:8080/",
          "height": 312
        }
      },
      "source": [
        "# plot regression line\n",
        "\n",
        "x_reg3 = np.linspace(0, np.max(x3), 10)\n",
        "\n",
        "y_reg3 = m3 * x_reg3 + c3\n",
        "\n",
        "# plt.figure(figsize=(10, 7))\n",
        "\n",
        "p1 = plt.plot(x_reg3, y_reg3, '--', color='g', ms=0.5)\n",
        "\n",
        "# drawdown plot\n",
        "plt.plot(Fp_arr, y_arr, '.', color='r')\n",
        "plt.title('Drawdown plot for multirate flow')\n",
        "plt.xlabel('Fp'); plt.ylabel('(pi-pwf)/qn, psi-D/STB')\n",
        "plt.xlim(0, 7)"
      ],
      "execution_count": 0,
      "outputs": [
        {
          "output_type": "execute_result",
          "data": {
            "text/plain": [
              "(0, 7)"
            ]
          },
          "metadata": {
            "tags": []
          },
          "execution_count": 160
        },
        {
          "output_type": "display_data",
          "data": {
            "image/png": "[encoded data removed]",
            "text/plain": [
              "<Figure size 432x288 with 1 Axes>"
            ]
          },
          "metadata": {
            "tags": []
          }
        }
      ]
    },
    {
      "cell_type": "code",
      "metadata": {
        "id": "LP5Yzw4y1GUH",
        "colab_type": "code",
        "outputId": "9413ce58-db7d-4c58-e661-ef3539328c97",
        "colab": {
          "base_uri": "https://localhost:8080/",
          "height": 50
        }
      },
      "source": [
        "# calculate permeability k from slope m\n",
        "k = (162.6 * Bo * mu_oil) / (m3 * h)\n",
        "\n",
        "# calculate skin factor s from intercept c\n",
        "s = 1.1513 * ((c3 / m3) - np.log10(k / (poro * mu_oil * ct * (rw**2))) + 3.2275)\n",
        "\n",
        "print(\"Permeability from well-test analysis:\", k, \"mD\")\n",
        "print(\"Skin factor from well-test analysis:\", s)"
      ],
      "execution_count": 0,
      "outputs": [
        {
          "output_type": "stream",
          "text": [
            "Permeability from well-test analysis: 600.3503430014156 mD\n",
            "Skin factor from well-test analysis: 9.005787826564966\n"
          ],
          "name": "stdout"
        }
      ]
    },
    {
      "cell_type": "markdown",
      "metadata": {
        "id": "-wOfUGBV4c7P",
        "colab_type": "text"
      },
      "source": [
        "With the result of skin factor, `s = 9`, the well is said to be **severely damaged**."
      ]
    },
    {
      "cell_type": "markdown",
      "metadata": {
        "id": "ZVE5GK-QQt8X",
        "colab_type": "text"
      },
      "source": [
        "## **Chapter 7.4 Constant Pressure Flow-Tests**"
      ]
    },
    {
      "cell_type": "markdown",
      "metadata": {
        "id": "YaNqwr4YQ3kQ",
        "colab_type": "text"
      },
      "source": [
        "### Example 7.3 Analysis of a Constant-Pressure Well Test"
      ]
    },
    {
      "cell_type": "code",
      "metadata": {
        "id": "hnw-Po_LQ_3x",
        "colab_type": "code",
        "outputId": "9ea31f1f-f92d-4e94-a2e4-acec670c0230",
        "colab": {
          "base_uri": "https://localhost:8080/",
          "height": 371
        }
      },
      "source": [
        "\"Task. determine reservoir permeability k and skin factor s\"\n",
        "\n",
        "# known: no ETR (wellbore storage) period\n",
        "\n",
        "poro = 0.2\n",
        "rw = 0.5 # in ft\n",
        "h = 45 # in ft\n",
        "ct = 6E-06 # in psi^-1\n",
        "pi = 2100 # initial reservoir pressure in psia\n",
        "mu_oil = 4 # in cP\n",
        "Bo = 1.33 # in RB/STB\n",
        "pwf = 1500 # flowing pressure, constant, in psia\n",
        "\n",
        "# conversion: NONE, already in oilfield units\n",
        "\n",
        "constant_pressure = pd.read_csv('/content/reservoir-engineering/Unit 7 Introduction to Well-Test Analysis/data/Table 7.5-Reservoir Parameters and Well-Rate Data Example 7.3.csv')\n",
        "\n",
        "q_inverse = 1 / constant_pressure.q # as y axis for semilog plot\n",
        "\n",
        "plt.figure(figsize=(12, 5))\n",
        "\n",
        "# plot wellrate data vs time (normal plot)\n",
        "plt.subplot(1, 2, 1)\n",
        "plt.plot(constant_pressure.t, constant_pressure.q, '.-', color='black')\n",
        "plt.title('Well Rate vs Time (Constant Pressure Well-Test)')\n",
        "plt.xlabel('Time (hour)'); plt.ylabel('Well rate (STB/d)')\n",
        "plt.xlim(1, 200)\n",
        "\n",
        "# semilog plot of 1/q vs log(time)\n",
        "\n",
        "plt.subplot(1, 2, 2)\n",
        "plt.semilogx(constant_pressure.t, q_inverse, '.', color='r')\n",
        "plt.title('Semilog Plot (Constant Pressure Well-Test)')\n",
        "plt.xlabel('log(time)'); plt.ylabel('1/rate')\n",
        "plt.xlim(1, 200)\n",
        "\n",
        "plt.tight_layout(pad=1.0) # set distance between two plots"
      ],
      "execution_count": 0,
      "outputs": [
        {
          "output_type": "display_data",
          "data": {
            "image/png": "[encoded data removed]",
            "text/plain": [
              "<Figure size 864x360 with 2 Axes>"
            ]
          },
          "metadata": {
            "tags": []
          }
        }
      ]
    },
    {
      "cell_type": "code",
      "metadata": {
        "id": "KTP7sclIU6TK",
        "colab_type": "code",
        "outputId": "7aaf7289-3aed-44b1-afe8-d498f3686f9f",
        "colab": {
          "base_uri": "https://localhost:8080/",
          "height": 50
        }
      },
      "source": [
        "# linear regression to find slope and intercept of a straight line\n",
        "\n",
        "x4 = np.log10(np.array(constant_pressure.t))\n",
        "y4 = np.array(q_inverse)\n",
        "\n",
        "def regression(x, y): \n",
        "    # number of observations/points \n",
        "    n = np.size(x) \n",
        "  \n",
        "    # mean of x and y vector \n",
        "    m_x, m_y = np.mean(x), np.mean(y) \n",
        "  \n",
        "    # calculating cross-deviation and deviation about x \n",
        "    SS_xy = np.sum(y*x) - n*m_y*m_x \n",
        "    SS_xx = np.sum(x*x) - n*m_x*m_x \n",
        "  \n",
        "    # calculating regression coefficients \n",
        "    b_1 = SS_xy / SS_xx \n",
        "    b_0 = m_y - b_1*m_x \n",
        "  \n",
        "    return(b_0, b_1) \n",
        "\n",
        "c4, m4 = regression(x4,y4)\n",
        "print(\"Slope of semilog plot:\", m4)\n",
        "print(\"Intercept of semilog plot:\", c4, \"(STB/d)^-1\")"
      ],
      "execution_count": 0,
      "outputs": [
        {
          "output_type": "stream",
          "text": [
            "Slope of semilog plot: 0.0003396924088389693\n",
            "Intercept of semilog plot: 0.0016262059170703601 (STB/d)^-1\n"
          ],
          "name": "stdout"
        }
      ]
    },
    {
      "cell_type": "code",
      "metadata": {
        "id": "JcbUNeXlXkkN",
        "colab_type": "code",
        "outputId": "81e82a68-5a00-4560-f993-0f9a4e8eedd2",
        "colab": {
          "base_uri": "https://localhost:8080/",
          "height": 50
        }
      },
      "source": [
        "# determine permeability\n",
        "k = (162.6 * Bo * mu_oil) / (m4 * h * (pi - pwf))\n",
        "\n",
        "# determine skin factor\n",
        "b1hr = m4 * np.log10(1) + c4 # 1/q at 1 hour \n",
        "s = 1.1513 * ((b1hr / m4) - np.log10(k / (poro * mu_oil * ct * (rw**2))) + 3.2275)\n",
        "\n",
        "print(\"Permeability from well-test analysis:\", k, \"mD\")\n",
        "print(\"Skin factor from well-test analysis:\", s)"
      ],
      "execution_count": 0,
      "outputs": [
        {
          "output_type": "stream",
          "text": [
            "Permeability from well-test analysis: 94.31539059623171 mD\n",
            "Skin factor from well-test analysis: 0.13745166063103187\n"
          ],
          "name": "stdout"
        }
      ]
    },
    {
      "cell_type": "markdown",
      "metadata": {
        "id": "uTvdaqOvct2h",
        "colab_type": "text"
      },
      "source": [
        "## **Chapter 7.5 Constant-Rate Buildup Tests**\n",
        "\n",
        "![shut in test](https://user-images.githubusercontent.com/51282928/75114146-24217400-5686-11ea-96ad-3f7328ab223c.JPG)"
      ]
    },
    {
      "cell_type": "markdown",
      "metadata": {
        "id": "uqRGjJm9c6eC",
        "colab_type": "text"
      },
      "source": [
        "### Example 7.4 Analysis of a Constant-Rate Pressure-Buildup Well Test"
      ]
    },
    {
      "cell_type": "code",
      "metadata": {
        "id": "tkKL7hnGdB36",
        "colab_type": "code",
        "outputId": "fe384a8a-b950-443e-f634-9eb90e69d7cc",
        "colab": {
          "base_uri": "https://localhost:8080/",
          "height": 312
        }
      },
      "source": [
        "\"Task. determine permeability k and skin factor s\"\n",
        "\n",
        "# known\n",
        "poro = 0.22\n",
        "rw = 0.4 # in ft\n",
        "h = 86 # in ft\n",
        "ct = 9E-06 # in psi^-1\n",
        "pi = 2500 # initial pressure in psia\n",
        "mu_oil = 1 # in cP\n",
        "Bo = 1.421 # in RB/STB\n",
        "re = np.Infinity # reservoir is infinity in size\n",
        "q = 1000 # RB/D\n",
        "pwf = 2962.4 # in psia, flowing pressure\n",
        "\n",
        "# the well is flowed for 24 hours, then shut-in for another 24 hours (24-hour buildup)\n",
        "tp = 24\n",
        "\n",
        "data_buildup = pd.read_csv('/content/reservoir-engineering/Unit 7 Introduction to Well-Test Analysis/data/Table 7.7-Reservoir Parameters and Pressure Data Example 7.4.csv')\n",
        "\n",
        "plt.plot(data_buildup.t, data_buildup.p, '.')\n",
        "plt.title('Pressure Buildup Profile over Time')\n",
        "plt.xlabel('Time (hour)'); plt.ylabel('Pressure (psia)')"
      ],
      "execution_count": 0,
      "outputs": [
        {
          "output_type": "execute_result",
          "data": {
            "text/plain": [
              "Text(0, 0.5, 'Pressure (psia)')"
            ]
          },
          "metadata": {
            "tags": []
          },
          "execution_count": 11
        },
        {
          "output_type": "display_data",
          "data": {
            "image/png": "[encoded data removed]",
            "text/plain": [
              "<Figure size 432x288 with 1 Axes>"
            ]
          },
          "metadata": {
            "tags": []
          }
        }
      ]
    },
    {
      "cell_type": "code",
      "metadata": {
        "id": "A0jqTPPwr-Sj",
        "colab_type": "code",
        "outputId": "7dabc9ab-bbfd-44d1-88d8-fdbba05ece8c",
        "colab": {
          "base_uri": "https://localhost:8080/",
          "height": 639
        }
      },
      "source": [
        "# calculate x Horner axis: log((tp + delta_t) / delta_t)\n",
        "\n",
        "delta_t = data_buildup.t - data_buildup.t[0]\n",
        "x_horner = np.log10((24 + delta_t) / delta_t)\n",
        "\n",
        "horner = pd.DataFrame({\"Time(hour)\": data_buildup.t, \"logtime\": x_horner, \"Shut-in pressure(psia)\": data_buildup.p})\n",
        "horner.head(20)"
      ],
      "execution_count": 0,
      "outputs": [
        {
          "output_type": "execute_result",
          "data": {
            "text/html": [
              "<div>\n",
              "<style scoped>\n",
              "    .dataframe tbody tr th:only-of-type {\n",
              "        vertical-align: middle;\n",
              "    }\n",
              "\n",
              "    .dataframe tbody tr th {\n",
              "        vertical-align: top;\n",
              "    }\n",
              "\n",
              "    .dataframe thead th {\n",
              "        text-align: right;\n",
              "    }\n",
              "</style>\n",
              "<table border=\"1\" class=\"dataframe\">\n",
              "  <thead>\n",
              "    <tr style=\"text-align: right;\">\n",
              "      <th></th>\n",
              "      <th>Time(hour)</th>\n",
              "      <th>logtime</th>\n",
              "      <th>Shut-in pressure(psia)</th>\n",
              "    </tr>\n",
              "  </thead>\n",
              "  <tbody>\n",
              "    <tr>\n",
              "      <th>0</th>\n",
              "      <td>0.000</td>\n",
              "      <td>inf</td>\n",
              "      <td>2962.4</td>\n",
              "    </tr>\n",
              "    <tr>\n",
              "      <th>1</th>\n",
              "      <td>0.020</td>\n",
              "      <td>3.079543</td>\n",
              "      <td>3129.2</td>\n",
              "    </tr>\n",
              "    <tr>\n",
              "      <th>2</th>\n",
              "      <td>0.050</td>\n",
              "      <td>2.682145</td>\n",
              "      <td>3357.5</td>\n",
              "    </tr>\n",
              "    <tr>\n",
              "      <th>3</th>\n",
              "      <td>0.100</td>\n",
              "      <td>2.382017</td>\n",
              "      <td>3688.0</td>\n",
              "    </tr>\n",
              "    <tr>\n",
              "      <th>4</th>\n",
              "      <td>0.150</td>\n",
              "      <td>2.206826</td>\n",
              "      <td>3967.0</td>\n",
              "    </tr>\n",
              "    <tr>\n",
              "      <th>5</th>\n",
              "      <td>0.250</td>\n",
              "      <td>1.986772</td>\n",
              "      <td>4403.9</td>\n",
              "    </tr>\n",
              "    <tr>\n",
              "      <th>6</th>\n",
              "      <td>0.348</td>\n",
              "      <td>1.844884</td>\n",
              "      <td>4712.3</td>\n",
              "    </tr>\n",
              "    <tr>\n",
              "      <th>7</th>\n",
              "      <td>0.500</td>\n",
              "      <td>1.690196</td>\n",
              "      <td>5039.8</td>\n",
              "    </tr>\n",
              "    <tr>\n",
              "      <th>8</th>\n",
              "      <td>0.650</td>\n",
              "      <td>1.578904</td>\n",
              "      <td>5244.3</td>\n",
              "    </tr>\n",
              "    <tr>\n",
              "      <th>9</th>\n",
              "      <td>0.880</td>\n",
              "      <td>1.451368</td>\n",
              "      <td>5431.2</td>\n",
              "    </tr>\n",
              "    <tr>\n",
              "      <th>10</th>\n",
              "      <td>1.425</td>\n",
              "      <td>1.251446</td>\n",
              "      <td>5616.9</td>\n",
              "    </tr>\n",
              "    <tr>\n",
              "      <th>11</th>\n",
              "      <td>1.983</td>\n",
              "      <td>1.117367</td>\n",
              "      <td>5687.0</td>\n",
              "    </tr>\n",
              "    <tr>\n",
              "      <th>12</th>\n",
              "      <td>2.555</td>\n",
              "      <td>1.016755</td>\n",
              "      <td>5723.2</td>\n",
              "    </tr>\n",
              "    <tr>\n",
              "      <th>13</th>\n",
              "      <td>3.140</td>\n",
              "      <td>0.936680</td>\n",
              "      <td>5745.8</td>\n",
              "    </tr>\n",
              "    <tr>\n",
              "      <th>14</th>\n",
              "      <td>3.740</td>\n",
              "      <td>0.870235</td>\n",
              "      <td>5761.8</td>\n",
              "    </tr>\n",
              "    <tr>\n",
              "      <th>15</th>\n",
              "      <td>4.355</td>\n",
              "      <td>0.813641</td>\n",
              "      <td>5775.0</td>\n",
              "    </tr>\n",
              "    <tr>\n",
              "      <th>16</th>\n",
              "      <td>4.984</td>\n",
              "      <td>0.764580</td>\n",
              "      <td>5784.9</td>\n",
              "    </tr>\n",
              "    <tr>\n",
              "      <th>17</th>\n",
              "      <td>5.628</td>\n",
              "      <td>0.721348</td>\n",
              "      <td>5792.3</td>\n",
              "    </tr>\n",
              "    <tr>\n",
              "      <th>18</th>\n",
              "      <td>6.289</td>\n",
              "      <td>0.682703</td>\n",
              "      <td>5799.9</td>\n",
              "    </tr>\n",
              "    <tr>\n",
              "      <th>19</th>\n",
              "      <td>6.965</td>\n",
              "      <td>0.647950</td>\n",
              "      <td>5804.8</td>\n",
              "    </tr>\n",
              "  </tbody>\n",
              "</table>\n",
              "</div>"
            ],
            "text/plain": [
              "    Time(hour)   logtime  Shut-in pressure(psia)\n",
              "0        0.000       inf                  2962.4\n",
              "1        0.020  3.079543                  3129.2\n",
              "2        0.050  2.682145                  3357.5\n",
              "3        0.100  2.382017                  3688.0\n",
              "4        0.150  2.206826                  3967.0\n",
              "5        0.250  1.986772                  4403.9\n",
              "6        0.348  1.844884                  4712.3\n",
              "7        0.500  1.690196                  5039.8\n",
              "8        0.650  1.578904                  5244.3\n",
              "9        0.880  1.451368                  5431.2\n",
              "10       1.425  1.251446                  5616.9\n",
              "11       1.983  1.117367                  5687.0\n",
              "12       2.555  1.016755                  5723.2\n",
              "13       3.140  0.936680                  5745.8\n",
              "14       3.740  0.870235                  5761.8\n",
              "15       4.355  0.813641                  5775.0\n",
              "16       4.984  0.764580                  5784.9\n",
              "17       5.628  0.721348                  5792.3\n",
              "18       6.289  0.682703                  5799.9\n",
              "19       6.965  0.647950                  5804.8"
            ]
          },
          "metadata": {
            "tags": []
          },
          "execution_count": 41
        }
      ]
    },
    {
      "cell_type": "markdown",
      "metadata": {
        "id": "4rZ9al3-ybbJ",
        "colab_type": "text"
      },
      "source": [
        "**Horner Plot** is plot of **shut-in pressure** `pws` versus **log time** `log((tp+delta_t)/delta_t)`. Visualize the Horner plot, find the linear region of the plot by zooming-in, and mark where the linear region **ends**, using the same method that we use before in Problem 7.1. "
      ]
    },
    {
      "cell_type": "code",
      "metadata": {
        "id": "gbD8nA7zvUZR",
        "colab_type": "code",
        "outputId": "f7775323-b50a-4ab4-f98f-42f5e9ac225e",
        "colab": {
          "base_uri": "https://localhost:8080/",
          "height": 388
        }
      },
      "source": [
        "plt.figure(figsize=(19, 5))\n",
        "\n",
        "p0 = plt.subplot(1, 3, 1)\n",
        "p0 = plt.plot(data_buildup.t, data_buildup.p, '.')\n",
        "p0 = plt.title('Pressure Buildup Profile over Time (Normal Plot)')\n",
        "p0 = plt.xlabel('Time (hour)'); plt.ylabel('Pressure (psia)')\n",
        "\n",
        "# Horner plot\n",
        "\n",
        "p1 = plt.subplot(1, 3, 2)\n",
        "p1 = plt.plot(x_horner, data_buildup.p, '.')\n",
        "p1 = plt.title('Complete Horner Buildup Plot')\n",
        "p1 = plt.xlabel('log((tp+delta_t)/delta_t)'); plt.ylabel('Shut-in pressure, pws (psia)')\n",
        "\n",
        "p2 = plt.subplot(1, 3, 3)\n",
        "p2 = plt.plot(x_horner, data_buildup.p, '.')\n",
        "p2 = plt.title('Zoomed-in Horner Buildup Plot')\n",
        "p2 = plt.xlabel('log((tp+delta_t)/delta_t)'); plt.ylabel('Shut-in pressure, pws (psia)')\n",
        "\n",
        "\"adjust the limits of x and y to zoom-in and find the linear region\"\n",
        "p2 = plt.xlim(0, 1); plt.ylim(5500, 6000)"
      ],
      "execution_count": 0,
      "outputs": [
        {
          "output_type": "execute_result",
          "data": {
            "text/plain": [
              "(5500, 6000)"
            ]
          },
          "metadata": {
            "tags": []
          },
          "execution_count": 98
        },
        {
          "output_type": "display_data",
          "data": {
            "image/png": "[encoded data removed]",
            "text/plain": [
              "<Figure size 1368x360 with 3 Axes>"
            ]
          },
          "metadata": {
            "tags": []
          }
        }
      ]
    },
    {
      "cell_type": "markdown",
      "metadata": {
        "id": "Xur9rg3258-O",
        "colab_type": "text"
      },
      "source": [
        "**Figure 1** is the normal plot of shut-in pressure to time data (original data). **Figure 2** is the complete Horner Buildup plot from calculation. **Figure 3** is the zoomed-in Horner Plot. The zoomed-in plot (by adjusting the x and y limit) is to characterize the **linear region** of the plot when the **wellbore-storage period** ends. \n",
        "\n",
        "Next, we guess the **point when that wellbore-storage period ends**, by indexing (the same method we use previously in Problem 7.1), then plot it again on the three plots above."
      ]
    },
    {
      "cell_type": "code",
      "metadata": {
        "id": "CBawWQE45aAd",
        "colab_type": "code",
        "outputId": "70c10f85-0196-480e-8ffe-b469a9848556",
        "colab": {
          "base_uri": "https://localhost:8080/",
          "height": 351
        }
      },
      "source": [
        "\"guess time index in time data that when the linear region is ended. that time is the end of WELLBORE-STORAGE PERIOD\"\n",
        "index5 = 19 # continuously adjust this value until it reaches the point\n",
        "\n",
        "# plot the guessed 'end of linear region\n",
        "\n",
        "plt.figure(figsize=(19, 5))\n",
        "\n",
        "p0 = plt.subplot(1, 3, 1)\n",
        "p0 = plt.plot(data_buildup.t, data_buildup.p, '.')\n",
        "p0 = plt.title('Pressure Buildup Profile over Time (Normal Plot)')\n",
        "p0 = plt.xlabel('Time (hour)'); plt.ylabel('Pressure (psia)')\n",
        "\n",
        "p0 = plt.plot(data_buildup.t[index5], data_buildup.p[index5], '*', color='r', ms=10)\n",
        "\n",
        "# Horner plot\n",
        "\n",
        "p1 = plt.subplot(1, 3, 2)\n",
        "p1 = plt.plot(x_horner, data_buildup.p, '.')\n",
        "p1 = plt.title('Complete Horner Buildup Plot')\n",
        "p1 = plt.xlabel('log((tp+delta_t)/delta_t)'); plt.ylabel('Shut-in pressure, pws (psia)')\n",
        "\n",
        "p1 = plt.plot(x_horner[index5], data_buildup.p[index5], '*', color='r', ms=10)\n",
        "\n",
        "p2 = plt.subplot(1, 3, 3)\n",
        "p2 = plt.plot(x_horner, data_buildup.p, '.')\n",
        "p2 = plt.title('Zoomed-in Horner Buildup Plot')\n",
        "p2 = plt.xlabel('log((tp+delta_t)/delta_t)'); plt.ylabel('Shut-in pressure, pws (psia)')\n",
        "p2 = plt.xlim(0, 1); plt.ylim(5500, 6000)\n",
        "\n",
        "p2 = plt.plot(x_horner[index5], data_buildup.p[index5], '*', color='r', ms=10)"
      ],
      "execution_count": 0,
      "outputs": [
        {
          "output_type": "display_data",
          "data": {
            "image/png": "[encoded data removed]",
            "text/plain": [
              "<Figure size 1368x360 with 3 Axes>"
            ]
          },
          "metadata": {
            "tags": []
          }
        }
      ]
    },
    {
      "cell_type": "code",
      "metadata": {
        "id": "jAL1DdIIADnM",
        "colab_type": "code",
        "outputId": "fd568556-a8f4-4886-a7a9-69a87626531c",
        "colab": {
          "base_uri": "https://localhost:8080/",
          "height": 34
        }
      },
      "source": [
        "print(\"End of wellbore-storage period occurs approximately at:\", data_buildup.t[index5], \"hour\")"
      ],
      "execution_count": 0,
      "outputs": [
        {
          "output_type": "stream",
          "text": [
            "End of wellbore-storage period occurs approximately at: 6.965 hour\n"
          ],
          "name": "stdout"
        }
      ]
    },
    {
      "cell_type": "markdown",
      "metadata": {
        "id": "_H33Fnuv_qrs",
        "colab_type": "text"
      },
      "source": [
        "To avoid misleading, **Figure 1** represents **time axis**, the time goes **greater** over axis. Wellbore-storage period occurs from **time** 0 hour to 6.965 hours. After 6.965 hours, is the **linear region**. However, in **Fig 2** and **Fig 3**, they represent **logtime axis** which means, the time goes **smaller** over axis. So, it represents time from **greater** to **smaller**. Wellbore-storage period occurs from **logtime** 3 to 0.6.\n",
        "\n",
        "### Regression of the linear region\n",
        "\n",
        "So, we will **do regression** at the later part, from time 6.965 hours onward. Similar to method in **Example 7.1**, first the `horner` dataframe will be cut. "
      ]
    },
    {
      "cell_type": "code",
      "metadata": {
        "id": "o0JzGkuUz7Oa",
        "colab_type": "code",
        "outputId": "86bf583d-bf92-45ad-b8ec-5683893cb2c7",
        "colab": {
          "base_uri": "https://localhost:8080/",
          "height": 67
        }
      },
      "source": [
        "# cut dataframe from index 0 to index of end of straight line\n",
        "dfhorner = horner.iloc[index5:, :]\n",
        "\n",
        "# linear regression to find slope and intercept of a straight line\n",
        "\n",
        "x5 = dfhorner.iloc[:, 1]\n",
        "y5 = dfhorner.iloc[:, 2]\n",
        "\n",
        "def regression(x, y): \n",
        "    # number of observations/points \n",
        "    n = np.size(x) \n",
        "  \n",
        "    # mean of x and y vector \n",
        "    m_x, m_y = np.mean(x), np.mean(y) \n",
        "  \n",
        "    # calculating cross-deviation and deviation about x \n",
        "    SS_xy = np.sum(y*x) - n*m_y*m_x \n",
        "    SS_xx = np.sum(x*x) - n*m_x*m_x \n",
        "  \n",
        "    # calculating regression coefficients \n",
        "    b_1 = SS_xy / SS_xx \n",
        "    b_0 = m_y - b_1*m_x \n",
        "  \n",
        "    return(b_0, b_1) \n",
        "\n",
        "c5, m5 = regression(x5,y5)\n",
        "pi = c5 # initial pressure equals to intercept c5\n",
        "print(\"Slope of linear-region Horner plot:\", m5)\n",
        "print(\"Intercept of linear-region Horner plot:\", c5, \"psia\")\n",
        "print(\"The initial reservoir pressure equals to the intercept:\", pi, \"psia\")"
      ],
      "execution_count": 0,
      "outputs": [
        {
          "output_type": "stream",
          "text": [
            "Slope of linear-region Horner plot: -86.85944722538667\n",
            "Intercept of linear-region Horner plot: 5863.734172839222 psia\n",
            "The initial reservoir pressure equals to the intercept: 5863.734172839222 psia\n"
          ],
          "name": "stdout"
        }
      ]
    },
    {
      "cell_type": "markdown",
      "metadata": {
        "id": "NGEzdK9BDQ8g",
        "colab_type": "text"
      },
      "source": [
        "The **initial reservoir pressure**, `pi` equals to the intercept `c5`, `pi = 5863.73 psia`. Plot the regression line"
      ]
    },
    {
      "cell_type": "code",
      "metadata": {
        "id": "bqrPMN9xDTdB",
        "colab_type": "code",
        "outputId": "3e148747-8cc7-43f4-c1c6-f7afcab85672",
        "colab": {
          "base_uri": "https://localhost:8080/",
          "height": 351
        }
      },
      "source": [
        "# drop the first row with time=0, because when log operation is underway, log(0) = indefinite\n",
        "x_cut = horner.drop(horner.index[0])\n",
        "\n",
        "x_reg5 = x_cut.iloc[:, 1]\n",
        "y_reg5 = m5 * x_reg5 + c5\n",
        "\n",
        "plt.figure(figsize=(19, 5))\n",
        "\n",
        "# Normal plot\n",
        "\n",
        "# cut dataframe from index to onward\n",
        "normal = data_buildup.iloc[19:]\n",
        "xnormal = normal.iloc[:, 0] # normal time axis\n",
        "ynormal = normal.iloc[:, 1] # normal time axis\n",
        "\n",
        "p0 = plt.subplot(1, 3, 1)\n",
        "p0 = plt.plot(data_buildup.t, data_buildup.p, '.')\n",
        "p0 = plt.title('Pressure Buildup Profile over Time (Normal Plot)')\n",
        "p0 = plt.xlabel('Time (hour)'); plt.ylabel('Pressure (psia)')\n",
        "\n",
        "p0 = plt.plot(data_buildup.t[index5], data_buildup.p[index5], '*', color='r', ms=10)\n",
        "\n",
        "p0 = plt.plot(xnormal, ynormal)\n",
        "\n",
        "# Horner plot\n",
        "\n",
        "p1 = plt.subplot(1, 3, 2)\n",
        "p1 = plt.plot(x_horner, data_buildup.p, '.')\n",
        "p1 = plt.title('Complete Horner Buildup Plot')\n",
        "p1 = plt.xlabel('log((tp+delta_t)/delta_t)'); plt.ylabel('Shut-in pressure, pws (psia)')\n",
        "\n",
        "p1 = plt.plot(x_horner[index5], data_buildup.p[index5], '*', color='r', ms=10)\n",
        "\n",
        "p1 = plt.plot(x_reg5, y_reg5) # regression\n",
        "\n",
        "p2 = plt.subplot(1, 3, 3)\n",
        "p2 = plt.plot(x_horner, data_buildup.p, '.')\n",
        "p2 = plt.title('Zoomed-in Horner Buildup Plot')\n",
        "p2 = plt.xlabel('log((tp+delta_t)/delta_t)'); plt.ylabel('Shut-in pressure, pws (psia)')\n",
        "p2 = plt.xlim(0, 1); plt.ylim(5500, 6000)\n",
        "\n",
        "p2 = plt.plot(x_horner[index5], data_buildup.p[index5], '*', color='r', ms=10)\n",
        "\n",
        "p2 = plt.plot(x_reg5, y_reg5) # regression"
      ],
      "execution_count": 0,
      "outputs": [
        {
          "output_type": "display_data",
          "data": {
            "image/png": "[encoded data removed]",
            "text/plain": [
              "<Figure size 1368x360 with 3 Axes>"
            ]
          },
          "metadata": {
            "tags": []
          }
        }
      ]
    },
    {
      "cell_type": "markdown",
      "metadata": {
        "id": "EZz6FqH6JLm9",
        "colab_type": "text"
      },
      "source": [
        "Determine permeability `k` and skin factor `s`"
      ]
    },
    {
      "cell_type": "code",
      "metadata": {
        "id": "oVUEpWjqJSiy",
        "colab_type": "code",
        "outputId": "e087d21f-fa5a-4afc-ccd0-ea5c75369585",
        "colab": {
          "base_uri": "https://localhost:8080/",
          "height": 34
        }
      },
      "source": [
        "# calculate permeability\n",
        "k = - (162.6 * q * Bo * mu_oil) / (m5 * h)\n",
        "\n",
        "# calculate skin factor\n",
        "\n",
        "# determine b1hr: pressure value at t = 1 hour, in psia\n",
        "b1hr = c5 + m5 * np.log10(tp + 1)\n",
        "\n",
        "s = 1.1513 * (((pwf - b1hr) / m5) - np.log10(k / (poro * mu_oil * ct * (rw**2))) + 3.2275)\n",
        "print(\"Skin factor:\", s)"
      ],
      "execution_count": 0,
      "outputs": [
        {
          "output_type": "stream",
          "text": [
            "Skin factor: 31.364380401844183\n"
          ],
          "name": "stdout"
        }
      ]
    },
    {
      "cell_type": "markdown",
      "metadata": {
        "id": "35ZqTov-Mceu",
        "colab_type": "text"
      },
      "source": [
        "Large skin factor indicates the **well is severely damaged**. Additional information that can be drawn from this: Calculate the **pressure drop** `delta_ps`, can use **Equation 7.3**, different from approach in the book."
      ]
    },
    {
      "cell_type": "code",
      "metadata": {
        "id": "xT5TnpCTM7RU",
        "colab_type": "code",
        "outputId": "914f4588-a42a-4d06-bf61-9fa79412cd9f",
        "colab": {
          "base_uri": "https://localhost:8080/",
          "height": 34
        }
      },
      "source": [
        "# Calculate pressure drop due to well damage\n",
        "delta_ps = ((141.2 * q * Bo * mu_oil) / (k * h)) * s\n",
        "print(\"Pressure drop due to well skin:\", delta_ps, \"psia\")"
      ],
      "execution_count": 0,
      "outputs": [
        {
          "output_type": "stream",
          "text": [
            "Pressure drop due to well skin: 2365.744990719904 psia\n"
          ],
          "name": "stdout"
        }
      ]
    },
    {
      "cell_type": "markdown",
      "metadata": {
        "id": "C7QoxuoUQFYr",
        "colab_type": "text"
      },
      "source": [
        "**Rephrase from book**: When the well was flowing before shut-in, total pressure drop was:"
      ]
    },
    {
      "cell_type": "code",
      "metadata": {
        "id": "tTD19i8DQP96",
        "colab_type": "code",
        "outputId": "d004bbfd-51fa-468a-f02c-db4ba0a39052",
        "colab": {
          "base_uri": "https://localhost:8080/",
          "height": 34
        }
      },
      "source": [
        "delta_p_shutin = pi - data_buildup.p[0]\n",
        "print(\"Pressure drop before shut-in:\", delta_p_shutin, \"psia\")"
      ],
      "execution_count": 0,
      "outputs": [
        {
          "output_type": "stream",
          "text": [
            "Pressure drop before shut-in: 2901.334172839222 psia\n"
          ],
          "name": "stdout"
        }
      ]
    },
    {
      "cell_type": "markdown",
      "metadata": {
        "id": "OSPx4hgBQ-Ij",
        "colab_type": "text"
      },
      "source": [
        "That means, **well skin / damage contributes to**:"
      ]
    },
    {
      "cell_type": "code",
      "metadata": {
        "id": "UjlJh6v5d_LN",
        "colab_type": "code",
        "outputId": "e0bc2883-cc04-40c8-a588-63c948f07267",
        "colab": {
          "base_uri": "https://localhost:8080/",
          "height": 34
        }
      },
      "source": [
        "wellskin_contribution = (delta_ps / delta_p_shutin) * 100\n",
        "print(\"Well damage contribute to:\", wellskin_contribution, \"% of total pressure drop\")"
      ],
      "execution_count": 0,
      "outputs": [
        {
          "output_type": "stream",
          "text": [
            "Well damage contribute to: 81.53990025922471 % of total pressure drop\n"
          ],
          "name": "stdout"
        }
      ]
    },
    {
      "cell_type": "markdown",
      "metadata": {
        "id": "jOkj4yVWeUIe",
        "colab_type": "text"
      },
      "source": [
        "... mostly of the pressure drop. **The formation itself contributes to**:"
      ]
    },
    {
      "cell_type": "code",
      "metadata": {
        "id": "4Vr2acJJevzg",
        "colab_type": "code",
        "outputId": "7e206aaf-89a3-4a34-9843-1ee443bbf41a",
        "colab": {
          "base_uri": "https://localhost:8080/",
          "height": 34
        }
      },
      "source": [
        "formation_drop = delta_p_shutin - delta_ps\n",
        "formation_contribution = 100 - wellskin_contribution\n",
        "print(\"Reservoir formation contribute to:\", formation_drop, \"psia of the total pressure drop, or in percent:\", formation_contribution, \"% of total pressure drop\")"
      ],
      "execution_count": 0,
      "outputs": [
        {
          "output_type": "stream",
          "text": [
            "Reservoir formation contribute to: 535.5891821193181 psia of the total pressure drop, or in percent: 18.46009974077529 % of total pressure drop\n"
          ],
          "name": "stdout"
        }
      ]
    },
    {
      "cell_type": "markdown",
      "metadata": {
        "id": "Fj_8CtfXImYr",
        "colab_type": "text"
      },
      "source": [
        "# ***"
      ]
    },
    {
      "cell_type": "code",
      "metadata": {
        "id": "P67tqWekHMKX",
        "colab_type": "code",
        "outputId": "aa9349a1-fc3e-47c1-aa57-a1ee0d680365",
        "colab": {
          "base_uri": "https://localhost:8080/",
          "height": 386
        }
      },
      "source": [
        "# dataframe after 19th index, then the second row\n",
        "\n",
        "a = horner.iloc[19:].iloc[:, 1]\n",
        "a"
      ],
      "execution_count": 0,
      "outputs": [
        {
          "output_type": "execute_result",
          "data": {
            "text/plain": [
              "19    0.647950\n",
              "20    0.616411\n",
              "21    0.587533\n",
              "22    0.561029\n",
              "23    0.536529\n",
              "24    0.513799\n",
              "25    0.492616\n",
              "26    0.472821\n",
              "27    0.454280\n",
              "28    0.436875\n",
              "29    0.420449\n",
              "30    0.404959\n",
              "31    0.390315\n",
              "32    0.376437\n",
              "33    0.363258\n",
              "34    0.350744\n",
              "35    0.338827\n",
              "36    0.327470\n",
              "37    0.316631\n",
              "38    0.306281\n",
              "39    0.301030\n",
              "Name: logtime, dtype: float64"
            ]
          },
          "metadata": {
            "tags": []
          },
          "execution_count": 140
        }
      ]
    }
  ]
}