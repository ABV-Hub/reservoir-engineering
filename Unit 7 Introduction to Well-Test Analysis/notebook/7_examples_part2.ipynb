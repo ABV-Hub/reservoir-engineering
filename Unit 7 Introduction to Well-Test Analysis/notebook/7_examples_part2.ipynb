{
  "nbformat": 4,
  "nbformat_minor": 0,
  "metadata": {
    "colab": {
      "name": "7_examples_part2.ipynb",
      "provenance": [],
      "collapsed_sections": [],
      "authorship_tag": "ABX9TyPp+JlebvgaLFYGTXZVy+UL",
      "include_colab_link": true
    },
    "kernelspec": {
      "name": "python3",
      "display_name": "Python 3"
    }
  },
  "cells": [
    {
      "cell_type": "markdown",
      "metadata": {
        "id": "view-in-github",
        "colab_type": "text"
      },
      "source": [
        "<a href=\"https://colab.research.google.com/github/yohanesnuwara/reservoir-engineering/blob/master/Unit%207%20Introduction%20to%20Well-Test%20Analysis/notebook/7_examples_part2.ipynb\" target=\"_parent\"><img src=\"https://colab.research.google.com/assets/colab-badge.svg\" alt=\"Open In Colab\"/></a>"
      ]
    },
    {
      "cell_type": "markdown",
      "metadata": {
        "id": "zh0SzcfBLdDa",
        "colab_type": "text"
      },
      "source": [
        "# **Unit 7 Introduction to Well-Test Analysis (Part 2)**\n",
        "\n",
        "The **Part 1** of **Unit 7** notebook contains **2 of 6 flow test types** (Chap 7.6 and 7.7)\n",
        "\n",
        "The overall types of well-test types are:\n",
        "* Constant-Rate Flow Tests (Chap 7.2)\n",
        "* Multirate Flow Tests (Chap 7.3)\n",
        "* Constant-Pressure Flow Tests (Chap 7.4)\n",
        "* Constant-Rate Pressure Buildup Tests (Chap 7.5)\n",
        "* Multirate Buildup Tests (Chap 7.6)\n",
        "* Buildup Analysis of Finite-Acting Wells (Chap 7.7)"
      ]
    },
    {
      "cell_type": "code",
      "metadata": {
        "id": "rULMUVWRLfgz",
        "colab_type": "code",
        "colab": {}
      },
      "source": [
        "import numpy as np\n",
        "import matplotlib.pyplot as plt\n",
        "import pandas as pd"
      ],
      "execution_count": 0,
      "outputs": []
    },
    {
      "cell_type": "code",
      "metadata": {
        "id": "O6SqjJM7LoTP",
        "colab_type": "code",
        "outputId": "65dbe7b6-4c4b-48ea-e4fe-eb06762bffc5",
        "colab": {
          "base_uri": "https://localhost:8080/",
          "height": 151
        }
      },
      "source": [
        "!git clone https://www.github.com/yohanesnuwara/reservoir-engineering"
      ],
      "execution_count": 2,
      "outputs": [
        {
          "output_type": "stream",
          "text": [
            "Cloning into 'reservoir-engineering'...\n",
            "warning: redirecting to https://github.com/yohanesnuwara/reservoir-engineering.git/\n",
            "remote: Enumerating objects: 91, done.\u001b[K\n",
            "remote: Counting objects: 100% (91/91), done.\u001b[K\n",
            "remote: Compressing objects: 100% (90/90), done.\u001b[K\n",
            "remote: Total 626 (delta 36), reused 0 (delta 0), pack-reused 535\u001b[K\n",
            "Receiving objects: 100% (626/626), 2.79 MiB | 24.04 MiB/s, done.\n",
            "Resolving deltas: 100% (259/259), done.\n"
          ],
          "name": "stdout"
        }
      ]
    },
    {
      "cell_type": "markdown",
      "metadata": {
        "id": "GOyjfpg-Lsto",
        "colab_type": "text"
      },
      "source": [
        "## **Chapter 7.6 Multirate Buildup Tests**"
      ]
    },
    {
      "cell_type": "markdown",
      "metadata": {
        "id": "CIhLSzEYL1y9",
        "colab_type": "text"
      },
      "source": [
        "### Example 7.5 Multirate Buildup Test"
      ]
    },
    {
      "cell_type": "code",
      "metadata": {
        "id": "PliROaFIMCaQ",
        "colab_type": "code",
        "outputId": "681c407a-8872-4306-824e-2d96e0832829",
        "colab": {
          "base_uri": "https://localhost:8080/",
          "height": 367
        }
      },
      "source": [
        "\"Task. determine permeability-thickness product (kh) and initial pressure (pi)\"\n",
        "\n",
        "# known: buildup (shut-in) is preceded by multirate tests\n",
        "\n",
        "mu_oil = 0.6\n",
        "\n",
        "time = [0, 3, 6, 9, 26] # time at j=0, 1, 2, 3, 4\n",
        "q = [0, 478.5, 319, 159.5, 0] # rate times Bo (in unit RB/d, because RB/STB*STB/d), at time 4 = 0 RB/d\n",
        "time_shut = time[3] # time when shut-in\n",
        "\n",
        "# time in the data is time after shut-in\n",
        "multirate_buildup = pd.read_csv('/content/reservoir-engineering/Unit 7 Introduction to Well-Test Analysis/data/Table 7.9-Multirate-Buildup-Test Data Example 7.5.csv')\n",
        "\n",
        "# visualize rate change before shut-in\n",
        "time_arr = np.arange(0, 27, 1)\n",
        "q_arr = []\n",
        "for i in range(len(time_arr)):\n",
        "  if i >= time[0] and i <= time[1]:\n",
        "    rate = q[1]\n",
        "    q_arr.append(float(rate))\n",
        "  if i > time[1] and i <= time[2]:\n",
        "    rate = q[2]\n",
        "    q_arr.append(float(rate))\n",
        "  if i > time[2] and i <= time[3]:\n",
        "    rate = q[3]\n",
        "    q_arr.append(float(rate))\n",
        "  if i > time[3] and i <= time[4]:\n",
        "    rate = q[4]\n",
        "    q_arr.append(float(rate))\n",
        "\n",
        "time_since = multirate_buildup.t + time_shut\n",
        "\n",
        "plt.figure(figsize=(15, 5))\n",
        "\n",
        "plt.subplot(1, 2, 1)\n",
        "plt.plot(time_arr, q_arr, '.-')\n",
        "plt.title('Well Rate Change Profile')\n",
        "plt.xlabel('Time since flow start (hour)'); plt.ylabel('Rate-Bo (RB/d)')\n",
        "plt.xticks(np.arange(1, 27, 2))\n",
        "plt.xlim(0, 26)\n",
        "\n",
        "# plot buildup pressure transient profile\n",
        "plt.subplot(1, 2, 2)\n",
        "plt.plot(time_since, multirate_buildup.p, '.-')\n",
        "plt.title('Pressure Buildup Profile')\n",
        "plt.xlabel('Time since flow start (hour)'); plt.ylabel('Pressure shut-in, pws (psia)')\n",
        "plt.xticks(np.arange(1, 27, 2))\n",
        "plt.xlim(0, 26)"
      ],
      "execution_count": 13,
      "outputs": [
        {
          "output_type": "execute_result",
          "data": {
            "text/plain": [
              "(0, 26)"
            ]
          },
          "metadata": {
            "tags": []
          },
          "execution_count": 13
        },
        {
          "output_type": "display_data",
          "data": {
            "image/png": "[encoded data removed]",
            "text/plain": [
              "<Figure size 1080x360 with 2 Axes>"
            ]
          },
          "metadata": {
            "tags": []
          }
        }
      ]
    },
    {
      "cell_type": "code",
      "metadata": {
        "id": "pJBs7-SBTBz1",
        "colab_type": "code",
        "outputId": "76eb6dd9-f956-4771-a254-0ee30dcb81a5",
        "colab": {
          "base_uri": "https://localhost:8080/",
          "height": 367
        }
      },
      "source": [
        "first_term = (q[1] / q[3]) * np.log10(time_since / (time_since - time[1]))\n",
        "second_term = (q[2] / q[3]) * np.log10((time_since - time[1]) / (time_since - time[2]))\n",
        "third_term = (q[3] / q[3]) * np.log10((time_since - time[2]) / (time_since - time[3]))\n",
        "sigma = first_term + second_term + third_term # result is similar to Table 7.10, the Multirate Buildup Plotting Function\n",
        "\n",
        "plt.figure(figsize=(8, 5))\n",
        "\n",
        "plt.plot(sigma, multirate_buildup.p, '.', color='r')\n",
        "plt.title('Buildup Plot')\n",
        "plt.xlabel('Time since flow start (hour)'); plt.ylabel('Pressure shut-in, pws (psia)')\n",
        "# plt.xticks(np.arange(1, 27, 2))\n",
        "# plt.xlim(0, 26)"
      ],
      "execution_count": 4,
      "outputs": [
        {
          "output_type": "execute_result",
          "data": {
            "text/plain": [
              "Text(0, 0.5, 'Pressure shut-in, pws (psia)')"
            ]
          },
          "metadata": {
            "tags": []
          },
          "execution_count": 4
        },
        {
          "output_type": "display_data",
          "data": {
            "image/png": "[encoded data removed]",
            "text/plain": [
              "<Figure size 576x360 with 1 Axes>"
            ]
          },
          "metadata": {
            "tags": []
          }
        }
      ]
    },
    {
      "cell_type": "code",
      "metadata": {
        "id": "roXFR8sLU8qE",
        "colab_type": "code",
        "outputId": "962afac2-0ab4-4294-ecf4-f6d27d10467f",
        "colab": {
          "base_uri": "https://localhost:8080/",
          "height": 67
        }
      },
      "source": [
        "# linear regression the buildup plot\n",
        "\n",
        "x6 = sigma\n",
        "y6 = multirate_buildup.p\n",
        "\n",
        "def regression(x, y): \n",
        "    # number of observations/points \n",
        "    n = np.size(x) \n",
        "  \n",
        "    # mean of x and y vector \n",
        "    m_x, m_y = np.mean(x), np.mean(y) \n",
        "  \n",
        "    # calculating cross-deviation and deviation about x \n",
        "    SS_xy = np.sum(y*x) - n*m_y*m_x \n",
        "    SS_xx = np.sum(x*x) - n*m_x*m_x \n",
        "  \n",
        "    # calculating regression coefficients \n",
        "    b_1 = SS_xy / SS_xx \n",
        "    b_0 = m_y - b_1*m_x \n",
        "  \n",
        "    return(b_0, b_1) \n",
        "\n",
        "c6, m6 = regression(x6, y6)\n",
        "pi = c6 # initial pressure equals to intercept c5\n",
        "print(\"Slope of linear-region Horner plot:\", m6)\n",
        "print(\"Intercept of linear-region Horner plot:\", c6, \"psia\")\n",
        "print(\"The initial reservoir pressure equals to the intercept:\", pi, \"psia\")"
      ],
      "execution_count": 5,
      "outputs": [
        {
          "output_type": "stream",
          "text": [
            "Slope of linear-region Horner plot: -149.44284950739163\n",
            "Intercept of linear-region Horner plot: 2992.934339488698 psia\n",
            "The initial reservoir pressure equals to the intercept: 2992.934339488698 psia\n"
          ],
          "name": "stdout"
        }
      ]
    },
    {
      "cell_type": "code",
      "metadata": {
        "id": "ed4HdHkfVdZx",
        "colab_type": "code",
        "outputId": "e86a440c-4360-495a-e5e0-2e2564bb5a8f",
        "colab": {
          "base_uri": "https://localhost:8080/",
          "height": 34
        }
      },
      "source": [
        "# calculate permeability-factor\n",
        "kh = - (162.6 * q[3] * mu_oil) / m6\n",
        "print(\"Permeability-factor from buildup test:\", kh, \"mD-ft\")"
      ],
      "execution_count": 6,
      "outputs": [
        {
          "output_type": "stream",
          "text": [
            "Permeability-factor from buildup test: 104.12555737054748 mD-ft\n"
          ],
          "name": "stdout"
        }
      ]
    },
    {
      "cell_type": "markdown",
      "metadata": {
        "id": "Yt__hhQ9M5O_",
        "colab_type": "text"
      },
      "source": [
        "Skin factor `s` cannot be calculated because:\n",
        "* Only permeability factor `kh` is already known, but no `k` or `h`\n",
        "* No information on `poro`, `Bo`, `ct`, and `rw`\n",
        "\n",
        "However, in common practices of calculating `s`, similar to previous Chapters, **pressure value at 1 hour after shut-in** (well shut-in after 9 hours flowing) `b1hr` can be calculated. If the above information is known, then `s` can be calculated. "
      ]
    },
    {
      "cell_type": "code",
      "metadata": {
        "id": "uiIyeEGQLTYH",
        "colab_type": "code",
        "colab": {
          "base_uri": "https://localhost:8080/",
          "height": 34
        },
        "outputId": "74d321f1-0ab9-4b38-a793-37131a97403f"
      },
      "source": [
        "# calculate b1hr, pressure at 1 hour\n",
        "b1hr = pi + m6 * np.log10(time[3] + 1) # time[3] is time when shut-in\n",
        "print(\"Pressure in well 1 hour after shut-in (10 hours since flowing):\", b1hr, \"psia\")"
      ],
      "execution_count": 12,
      "outputs": [
        {
          "output_type": "stream",
          "text": [
            "Pressure in well 1 hour after shut-in (10 hours since flowing): 2843.491489981306 psia\n"
          ],
          "name": "stdout"
        }
      ]
    },
    {
      "cell_type": "markdown",
      "metadata": {
        "id": "SLgOw_AMOILZ",
        "colab_type": "text"
      },
      "source": [
        "## **Chapter 7.7 Buildup Analysis of Finite-Acting Wells**\n",
        "\n",
        "Analysis of pressure buildup in finite-acting wells is based on determination of 3 parameters: `C`, `m`, and `m*` from plot of **pressure vs time** to fit **Equation 7.55**. There are 2 methods:\n",
        "\n",
        "\n",
        "*   **Nonlinear regression**: If **the rate at which pressure declines before shut-in for buildup, or `m*`** is **not known**, nonlinear regression is used to directly determine all 3 parameters. \n",
        "*   **Slider's method**: If **the rate at which pressure declines before shut-in for buildup, or `m*`** is **known**, the other 2 parameters `C` and `m` can be determined from **linear regression of plot `(pws - (m*) * delta_t)` vs `log(delta_t)`**.\n",
        "\n"
      ]
    },
    {
      "cell_type": "markdown",
      "metadata": {
        "id": "FomqlCCMOWia",
        "colab_type": "text"
      },
      "source": [
        "### Example 7.6 Buildup Test on a Finite-Acting Reservoir"
      ]
    },
    {
      "cell_type": "code",
      "metadata": {
        "id": "btTPz9y0OigW",
        "colab_type": "code",
        "colab": {
          "base_uri": "https://localhost:8080/",
          "height": 312
        },
        "outputId": "90a7980e-a69e-4ec3-dd80-06ef0f5ddadd"
      },
      "source": [
        "\"Task. calculate pore volume Vp and permeability-thickness kh\"\n",
        "\n",
        "# known\n",
        "qB = 333.3 # rate multiplied by Bo, in RB/d\n",
        "ct = 8E-06 # in psi^-1\n",
        "mu_oil = 2 # cP\n",
        "\n",
        "# rate at which pressure declines before shut-in buildup, m*, we use Slider's method\n",
        "m_star = -0.431 # in psi/h\n",
        "\n",
        "finite_buildup = pd.read_csv('/content/reservoir-engineering/Unit 7 Introduction to Well-Test Analysis/data/Table 7.11-Reservoir Parameters and Pressure Data Example 7.6.csv')\n",
        "\n",
        "plt.plot(finite_buildup.t, finite_buildup.p, '.-')\n",
        "plt.title('Shut-in Pressure Transient Profile')\n",
        "plt.xlabel('Time after shut-in (hour)'); plt.ylabel('Pressure (psia)')\n",
        "plt.xticks(np.arange(1, 28, 2))\n",
        "plt.xlim(0, 28)"
      ],
      "execution_count": 9,
      "outputs": [
        {
          "output_type": "execute_result",
          "data": {
            "text/plain": [
              "(0, 28)"
            ]
          },
          "metadata": {
            "tags": []
          },
          "execution_count": 9
        },
        {
          "output_type": "display_data",
          "data": {
            "image/png": "[encoded data removed]",
            "text/plain": [
              "<Figure size 432x288 with 1 Axes>"
            ]
          },
          "metadata": {
            "tags": []
          }
        }
      ]
    },
    {
      "cell_type": "code",
      "metadata": {
        "id": "5dv2mJhAbLwd",
        "colab_type": "code",
        "colab": {
          "base_uri": "https://localhost:8080/",
          "height": 34
        },
        "outputId": "08347d12-47fe-4b5f-aa2d-a6b054392fea"
      },
      "source": [
        "# calculate pore volume Vp\n",
        "Vp = - (0.23395 * qB) / (ct * m_star)\n",
        "print(\"Pore volume:\", Vp / 1E+06, \"million cubic ft\")"
      ],
      "execution_count": 4,
      "outputs": [
        {
          "output_type": "stream",
          "text": [
            "Pore volume: 22.61471432714617 million cubic ft\n"
          ],
          "name": "stdout"
        }
      ]
    },
    {
      "cell_type": "code",
      "metadata": {
        "id": "-iZyMDNSbxBh",
        "colab_type": "code",
        "colab": {
          "base_uri": "https://localhost:8080/",
          "height": 313
        },
        "outputId": "86a52747-a853-4a62-837d-930590982c1d"
      },
      "source": [
        "# buildup plot\n",
        "axis_x = np.log10(finite_buildup.t)\n",
        "axis_y = finite_buildup.p - (m_star * finite_buildup.t)\n",
        "\n",
        "plt.plot(axis_x, axis_y, '.')\n",
        "plt.title('Buildup Plot')\n",
        "plt.xlabel('log(delta_t)'); plt.ylabel('pws-m*delta_t (psia)')\n",
        "plt.xlim(0, 1.6)"
      ],
      "execution_count": 5,
      "outputs": [
        {
          "output_type": "execute_result",
          "data": {
            "text/plain": [
              "(0, 1.6)"
            ]
          },
          "metadata": {
            "tags": []
          },
          "execution_count": 5
        },
        {
          "output_type": "display_data",
          "data": {
            "image/png": "[encoded data removed]",
            "text/plain": [
              "<Figure size 432x288 with 1 Axes>"
            ]
          },
          "metadata": {
            "tags": []
          }
        }
      ]
    },
    {
      "cell_type": "code",
      "metadata": {
        "id": "NRC3xyqSeDpy",
        "colab_type": "code",
        "colab": {
          "base_uri": "https://localhost:8080/",
          "height": 50
        },
        "outputId": "f18fbb90-d3e2-40b5-830b-fd00a1d17c15"
      },
      "source": [
        "x7 = axis_x\n",
        "y7 = axis_y\n",
        "\n",
        "def regression(x, y): \n",
        "    # number of observations/points \n",
        "    n = np.size(x) \n",
        "  \n",
        "    # mean of x and y vector \n",
        "    m_x, m_y = np.mean(x), np.mean(y) \n",
        "  \n",
        "    # calculating cross-deviation and deviation about x \n",
        "    SS_xy = np.sum(y*x) - n*m_y*m_x \n",
        "    SS_xx = np.sum(x*x) - n*m_x*m_x \n",
        "  \n",
        "    # calculating regression coefficients \n",
        "    b_1 = SS_xy / SS_xx \n",
        "    b_0 = m_y - b_1*m_x \n",
        "  \n",
        "    return(b_0, b_1) \n",
        "\n",
        "c7, m7 = regression(x7, y7)\n",
        "pi = c7 # initial pressure equals to intercept c5\n",
        "print(\"Slope of buildup plot (m):\", m7, \"psi/cycle\")\n",
        "print(\"Intercept of buildup plot (C):\", c7, \"psia\")"
      ],
      "execution_count": 7,
      "outputs": [
        {
          "output_type": "stream",
          "text": [
            "Slope of buildup plot (m): 28.33596536151054 psi/cycle\n",
            "Intercept of buildup plot (C): 3139.0808716766155 psia\n"
          ],
          "name": "stdout"
        }
      ]
    },
    {
      "cell_type": "code",
      "metadata": {
        "id": "p0M1-xknet6z",
        "colab_type": "code",
        "colab": {
          "base_uri": "https://localhost:8080/",
          "height": 34
        },
        "outputId": "775bec17-5027-4064-a40a-5c61719ece95"
      },
      "source": [
        "# calculate permeability-factor\n",
        "kh = - (162.6 * qB * mu_oil) / m7\n",
        "print(\"Permeability-factor from buildup test:\", np.abs(kh), \"mD-ft\")"
      ],
      "execution_count": 8,
      "outputs": [
        {
          "output_type": "stream",
          "text": [
            "Permeability-factor from buildup test: 3825.1444274853525 mD-ft\n"
          ],
          "name": "stdout"
        }
      ]
    },
    {
      "cell_type": "markdown",
      "metadata": {
        "id": "NzsoRjESnzNv",
        "colab_type": "text"
      },
      "source": [
        "### Example 7.6 (Bonus) Use of Nonlinear Regression\n",
        "\n",
        "Nonlinear regression equation: `pws = C + (m * log(t)) + (m_star * t)`. \n",
        "\n",
        "Plot: `pws` vs `time`, regression **at early time** (???)"
      ]
    },
    {
      "cell_type": "code",
      "metadata": {
        "id": "UfnHiN5-n5IO",
        "colab_type": "code",
        "colab": {
          "base_uri": "https://localhost:8080/",
          "height": 312
        },
        "outputId": "db1bc6b9-8d9b-4332-8c1b-64abb43532c6"
      },
      "source": [
        "plt.plot(finite_buildup.t, finite_buildup.p, '.')\n",
        "plt.title('Shut-in Pressure Transient Profile')\n",
        "plt.xlabel('Time after shut-in (hour)'); plt.ylabel('Pressure (psia)')\n",
        "plt.xticks(np.arange(1, 28, 2))\n",
        "plt.xlim(0, 28)"
      ],
      "execution_count": 11,
      "outputs": [
        {
          "output_type": "execute_result",
          "data": {
            "text/plain": [
              "(0, 28)"
            ]
          },
          "metadata": {
            "tags": []
          },
          "execution_count": 11
        },
        {
          "output_type": "display_data",
          "data": {
            "image/png": "[encoded data removed]",
            "text/plain": [
              "<Figure size 432x288 with 1 Axes>"
            ]
          },
          "metadata": {
            "tags": []
          }
        }
      ]
    },
    {
      "cell_type": "code",
      "metadata": {
        "id": "sub3x82Tp46s",
        "colab_type": "code",
        "colab": {
          "base_uri": "https://localhost:8080/",
          "height": 312
        },
        "outputId": "cf88c5bb-aef0-4617-95a3-e7e06ce2669e"
      },
      "source": [
        "def nonlinreg_iterative(x, c, m, m_star):\n",
        "  # x: time\n",
        "  y_reg = c + (m * np.log10(x)) + (m_star * x)\n",
        "  return(y_reg)\n",
        "\n",
        "# my own solution\n",
        "P_reg1 = nonlinreg_iterative(finite_buildup.t, c=3139.1, m=21, m_star=0.5)\n",
        "\n",
        "# book's solution\n",
        "P_reg2 = nonlinreg_iterative(finite_buildup.t, c=3139.1, m=28.33, m_star=0.43095)\n",
        "\n",
        "plt.plot(finite_buildup.t, finite_buildup.p, '.')\n",
        "\n",
        "# regression\n",
        "plt.plot(finite_buildup.t, P_reg1, color='orange')\n",
        "plt.plot(finite_buildup.t, P_reg2, color='green')\n",
        "\n",
        "plt.title('Shut-in Pressure Transient Profile')\n",
        "plt.xlabel('Time after shut-in (hour)'); plt.ylabel('Pressure (psia)')\n",
        "plt.xticks(np.arange(1, 28, 2))\n",
        "plt.xlim(0, 28)"
      ],
      "execution_count": 62,
      "outputs": [
        {
          "output_type": "execute_result",
          "data": {
            "text/plain": [
              "(0, 28)"
            ]
          },
          "metadata": {
            "tags": []
          },
          "execution_count": 62
        },
        {
          "output_type": "display_data",
          "data": {
            "image/png": "[encoded data removed]",
            "text/plain": [
              "<Figure size 432x288 with 1 Axes>"
            ]
          },
          "metadata": {
            "tags": []
          }
        }
      ]
    }
  ]
}