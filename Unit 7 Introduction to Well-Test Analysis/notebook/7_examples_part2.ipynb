{
  "nbformat": 4,
  "nbformat_minor": 0,
  "metadata": {
    "colab": {
      "name": "7_examples_part2.ipynb",
      "provenance": [],
      "collapsed_sections": [],
      "authorship_tag": "ABX9TyN38cCZm3brLHB0ObpjJenF",
      "include_colab_link": true
    },
    "kernelspec": {
      "name": "python3",
      "display_name": "Python 3"
    }
  },
  "cells": [
    {
      "cell_type": "markdown",
      "metadata": {
        "id": "view-in-github",
        "colab_type": "text"
      },
      "source": [
        "<a href=\"https://colab.research.google.com/github/yohanesnuwara/reservoir-engineering/blob/master/Unit%207%20Introduction%20to%20Well-Test%20Analysis/notebook/7_examples_part2.ipynb\" target=\"_parent\"><img src=\"https://colab.research.google.com/assets/colab-badge.svg\" alt=\"Open In Colab\"/></a>"
      ]
    },
    {
      "cell_type": "markdown",
      "metadata": {
        "id": "zh0SzcfBLdDa",
        "colab_type": "text"
      },
      "source": [
        "# **Unit 7 Introduction to Well-Test Analysis (Part 2)**\n",
        "\n",
        "The **Part 1** of **Unit 7** notebook contains **2 of 6 flow test types** (Chap 7.6 and 7.7)\n",
        "\n",
        "The overall types of well-test types are:\n",
        "* Constant-Rate Flow Tests (Chap 7.2)\n",
        "* Multirate Flow Tests (Chap 7.3)\n",
        "* Constant-Pressure Flow Tests (Chap 7.4)\n",
        "* Constant-Rate Pressure Buildup Tests (Chap 7.5)\n",
        "* Multirate Buildup Tests (Chap 7.6)\n",
        "* Buildup Analysis of Finite-Acting Wells (Chap 7.7)"
      ]
    },
    {
      "cell_type": "code",
      "metadata": {
        "id": "rULMUVWRLfgz",
        "colab_type": "code",
        "colab": {}
      },
      "source": [
        "import numpy as np\n",
        "import matplotlib.pyplot as plt\n",
        "import pandas as pd"
      ],
      "execution_count": 0,
      "outputs": []
    },
    {
      "cell_type": "code",
      "metadata": {
        "id": "O6SqjJM7LoTP",
        "colab_type": "code",
        "colab": {
          "base_uri": "https://localhost:8080/",
          "height": 151
        },
        "outputId": "5a3dd011-4f07-4e25-b718-d5e032208c82"
      },
      "source": [
        "!git clone https://www.github.com/yohanesnuwara/reservoir-engineering"
      ],
      "execution_count": 2,
      "outputs": [
        {
          "output_type": "stream",
          "text": [
            "Cloning into 'reservoir-engineering'...\n",
            "warning: redirecting to https://github.com/yohanesnuwara/reservoir-engineering.git/\n",
            "remote: Enumerating objects: 23, done.\u001b[K\n",
            "remote: Counting objects: 100% (23/23), done.\u001b[K\n",
            "remote: Compressing objects: 100% (23/23), done.\u001b[K\n",
            "remote: Total 558 (delta 8), reused 0 (delta 0), pack-reused 535\u001b[K\n",
            "Receiving objects: 100% (558/558), 1.51 MiB | 11.46 MiB/s, done.\n",
            "Resolving deltas: 100% (231/231), done.\n"
          ],
          "name": "stdout"
        }
      ]
    },
    {
      "cell_type": "markdown",
      "metadata": {
        "id": "GOyjfpg-Lsto",
        "colab_type": "text"
      },
      "source": [
        "## **Chapter 7.6 Multirate Buildup Tests**"
      ]
    },
    {
      "cell_type": "markdown",
      "metadata": {
        "id": "CIhLSzEYL1y9",
        "colab_type": "text"
      },
      "source": [
        "### Example 7.5 Multirate Buildup Test"
      ]
    },
    {
      "cell_type": "code",
      "metadata": {
        "id": "PliROaFIMCaQ",
        "colab_type": "code",
        "colab": {
          "base_uri": "https://localhost:8080/",
          "height": 367
        },
        "outputId": "a2156c4a-365a-4a66-db96-076e13d6688f"
      },
      "source": [
        "\"Task. determine permeability-thickness product (kh) and initial pressure (pi)\"\n",
        "\n",
        "# known: buildup (shut-in) is preceded by multirate tests\n",
        "\n",
        "mu_oil = 0.6\n",
        "\n",
        "time = [0, 3, 6, 9, 26] # time at j=0, 1, 2, 3, 4\n",
        "q = [0, 478.5, 319, 159.5, 0] # rate times Bo (in unit RB/d, because RB/STB*STB/d), at time 4 = 0 RB/d\n",
        "time_shut = time[3] # time when shut-in\n",
        "\n",
        "# time in the data is time after shut-in\n",
        "multirate_buildup = pd.read_csv('/content/reservoir-engineering/Unit 7 Introduction to Well-Test Analysis/data/Table 7.9-Multirate-Buildup-Test Data Example 7.5.csv')\n",
        "\n",
        "# visualize rate change before shut-in\n",
        "time_arr = np.arange(0, 27, 1)\n",
        "q_arr = []\n",
        "for i in range(len(time_arr)):\n",
        "  if i >= time[0] and i <= time[1]:\n",
        "    rate = q[1]\n",
        "    q_arr.append(float(rate))\n",
        "  if i > time[1] and i <= time[2]:\n",
        "    rate = q[2]\n",
        "    q_arr.append(float(rate))\n",
        "  if i > time[2] and i <= time[3]:\n",
        "    rate = q[3]\n",
        "    q_arr.append(float(rate))\n",
        "  if i > time[3] and i <= time[4]:\n",
        "    rate = q[4]\n",
        "    q_arr.append(float(rate))\n",
        "\n",
        "time_since = multirate_buildup.t + time_shut\n",
        "\n",
        "plt.figure(figsize=(15, 5))\n",
        "\n",
        "plt.subplot(1, 2, 1)\n",
        "plt.plot(time_arr, q_arr, '.-')\n",
        "plt.title('Well Rate Change Profile')\n",
        "plt.xlabel('Time since flow start (hour)'); plt.ylabel('Rate (STB/d)')\n",
        "plt.xticks(np.arange(1, 27, 2))\n",
        "plt.xlim(0, 26)\n",
        "\n",
        "# plot buildup pressure transient profile\n",
        "plt.subplot(1, 2, 2)\n",
        "plt.plot(time_since, multirate_buildup.p, '.-')\n",
        "plt.title('Pressure Buildup Profile')\n",
        "plt.xlabel('Time since flow start (hour)'); plt.ylabel('Pressure shut-in, pws (psia)')\n",
        "plt.xticks(np.arange(1, 27, 2))\n",
        "plt.xlim(0, 26)"
      ],
      "execution_count": 38,
      "outputs": [
        {
          "output_type": "execute_result",
          "data": {
            "text/plain": [
              "(0, 26)"
            ]
          },
          "metadata": {
            "tags": []
          },
          "execution_count": 38
        },
        {
          "output_type": "display_data",
          "data": {
            "image/png": "[encoded data removed]",
            "text/plain": [
              "<Figure size 1080x360 with 2 Axes>"
            ]
          },
          "metadata": {
            "tags": []
          }
        }
      ]
    },
    {
      "cell_type": "code",
      "metadata": {
        "id": "pJBs7-SBTBz1",
        "colab_type": "code",
        "colab": {
          "base_uri": "https://localhost:8080/",
          "height": 367
        },
        "outputId": "7ea078c1-dbe2-4030-e2d5-7700039ee783"
      },
      "source": [
        "first_term = (q[1] / q[3]) * np.log10(time_since / (time_since - time[1]))\n",
        "second_term = (q[2] / q[3]) * np.log10((time_since - time[1]) / (time_since - time[2]))\n",
        "third_term = (q[3] / q[3]) * np.log10((time_since - time[2]) / (time_since - time[3]))\n",
        "sigma = first_term + second_term + third_term # result is similar to Table 7.10, the Multirate Buildup Plotting Function\n",
        "\n",
        "plt.figure(figsize=(8, 5))\n",
        "\n",
        "plt.plot(sigma, multirate_buildup.p, '.', color='r')\n",
        "plt.title('Buildup Plot')\n",
        "plt.xlabel('Time since flow start (hour)'); plt.ylabel('Pressure shut-in, pws (psia)')\n",
        "# plt.xticks(np.arange(1, 27, 2))\n",
        "# plt.xlim(0, 26)"
      ],
      "execution_count": 35,
      "outputs": [
        {
          "output_type": "execute_result",
          "data": {
            "text/plain": [
              "Text(0, 0.5, 'Pressure shut-in, pws (psia)')"
            ]
          },
          "metadata": {
            "tags": []
          },
          "execution_count": 35
        },
        {
          "output_type": "display_data",
          "data": {
            "image/png": "[encoded data removed]",
            "text/plain": [
              "<Figure size 576x360 with 1 Axes>"
            ]
          },
          "metadata": {
            "tags": []
          }
        }
      ]
    },
    {
      "cell_type": "code",
      "metadata": {
        "id": "roXFR8sLU8qE",
        "colab_type": "code",
        "colab": {
          "base_uri": "https://localhost:8080/",
          "height": 67
        },
        "outputId": "2f44e96b-938f-4e10-bfb5-8a85641e5804"
      },
      "source": [
        "# linear regression the buildup plot\n",
        "\n",
        "x6 = sigma\n",
        "y6 = multirate_buildup.p\n",
        "\n",
        "def regression(x, y): \n",
        "    # number of observations/points \n",
        "    n = np.size(x) \n",
        "  \n",
        "    # mean of x and y vector \n",
        "    m_x, m_y = np.mean(x), np.mean(y) \n",
        "  \n",
        "    # calculating cross-deviation and deviation about x \n",
        "    SS_xy = np.sum(y*x) - n*m_y*m_x \n",
        "    SS_xx = np.sum(x*x) - n*m_x*m_x \n",
        "  \n",
        "    # calculating regression coefficients \n",
        "    b_1 = SS_xy / SS_xx \n",
        "    b_0 = m_y - b_1*m_x \n",
        "  \n",
        "    return(b_0, b_1) \n",
        "\n",
        "c6, m6 = regression(x6, y6)\n",
        "pi = c6 # initial pressure equals to intercept c5\n",
        "print(\"Slope of linear-region Horner plot:\", m6)\n",
        "print(\"Intercept of linear-region Horner plot:\", c6, \"psia\")\n",
        "print(\"The initial reservoir pressure equals to the intercept:\", pi, \"psia\")"
      ],
      "execution_count": 36,
      "outputs": [
        {
          "output_type": "stream",
          "text": [
            "Slope of linear-region Horner plot: -149.44284950739163\n",
            "Intercept of linear-region Horner plot: 2992.934339488698 psia\n",
            "The initial reservoir pressure equals to the intercept: 2992.934339488698 psia\n"
          ],
          "name": "stdout"
        }
      ]
    },
    {
      "cell_type": "code",
      "metadata": {
        "id": "ed4HdHkfVdZx",
        "colab_type": "code",
        "colab": {
          "base_uri": "https://localhost:8080/",
          "height": 34
        },
        "outputId": "eb406c15-cda8-4a90-add8-a6553a502f7a"
      },
      "source": [
        "# calculate permeability\n",
        "kh = - (162.6 * q[3] * mu_oil) / m6\n",
        "print(\"Permeability-factor from buildup test:\", kh, \"mD-ft\")"
      ],
      "execution_count": 44,
      "outputs": [
        {
          "output_type": "stream",
          "text": [
            "Permeability-factor from buildup test: 104.12555737054748 mD-ft\n"
          ],
          "name": "stdout"
        }
      ]
    }
  ]
}