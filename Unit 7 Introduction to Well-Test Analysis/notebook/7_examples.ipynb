{
  "nbformat": 4,
  "nbformat_minor": 0,
  "metadata": {
    "colab": {
      "name": "7_examples.ipynb",
      "provenance": [],
      "collapsed_sections": [],
      "authorship_tag": "ABX9TyNhoOQhAmfw+KQlGyVYD1Ry",
      "include_colab_link": true
    },
    "kernelspec": {
      "name": "python3",
      "display_name": "Python 3"
    }
  },
  "cells": [
    {
      "cell_type": "markdown",
      "metadata": {
        "id": "view-in-github",
        "colab_type": "text"
      },
      "source": [
        "<a href=\"https://colab.research.google.com/github/yohanesnuwara/reservoir-engineering/blob/master/Unit%207%20Introduction%20to%20Well-Test%20Analysis/notebook/7_examples.ipynb\" target=\"_parent\"><img src=\"https://colab.research.google.com/assets/colab-badge.svg\" alt=\"Open In Colab\"/></a>"
      ]
    },
    {
      "cell_type": "markdown",
      "metadata": {
        "id": "Ogve4wNgboV_",
        "colab_type": "text"
      },
      "source": [
        "# **Unit 7 Introduction to Well-Test Analysis**"
      ]
    },
    {
      "cell_type": "code",
      "metadata": {
        "id": "inATze29sE4T",
        "colab_type": "code",
        "colab": {}
      },
      "source": [
        "import numpy as np\n",
        "import matplotlib.pyplot as plt\n",
        "import pandas as pd"
      ],
      "execution_count": 0,
      "outputs": []
    },
    {
      "cell_type": "code",
      "metadata": {
        "id": "iKaasC-W6yzt",
        "colab_type": "code",
        "outputId": "0100b933-c0b8-4e7c-faa3-0f8ee999c358",
        "colab": {
          "base_uri": "https://localhost:8080/",
          "height": 151
        }
      },
      "source": [
        "!git clone https://www.github.com/yohanesnuwara/reservoir-engineering"
      ],
      "execution_count": 2,
      "outputs": [
        {
          "output_type": "stream",
          "text": [
            "Cloning into 'reservoir-engineering'...\n",
            "warning: redirecting to https://github.com/yohanesnuwara/reservoir-engineering.git/\n",
            "remote: Enumerating objects: 123, done.\u001b[K\n",
            "remote: Counting objects: 100% (123/123), done.\u001b[K\n",
            "remote: Compressing objects: 100% (111/111), done.\u001b[K\n",
            "remote: Total 483 (delta 48), reused 0 (delta 0), pack-reused 360\u001b[K\n",
            "Receiving objects: 100% (483/483), 1.11 MiB | 11.35 MiB/s, done.\n",
            "Resolving deltas: 100% (202/202), done.\n"
          ],
          "name": "stdout"
        }
      ]
    },
    {
      "cell_type": "markdown",
      "metadata": {
        "id": "Ir4DfsEZb0Wi",
        "colab_type": "text"
      },
      "source": [
        "## **Chap 7.2 Constant-Rate Flow Tests**"
      ]
    },
    {
      "cell_type": "markdown",
      "metadata": {
        "id": "d6BsdX_gb_XM",
        "colab_type": "text"
      },
      "source": [
        "### Example 7.1 Analysis of a Constant-Rate Well Test"
      ]
    },
    {
      "cell_type": "code",
      "metadata": {
        "id": "13O-7HYl7I5P",
        "colab_type": "code",
        "outputId": "d8e5c01c-fafb-453b-a3a3-6e18bdd84688",
        "colab": {
          "base_uri": "https://localhost:8080/",
          "height": 488
        }
      },
      "source": [
        "data_bhfp = pd.read_csv('/content/reservoir-engineering/Unit 7 Introduction to Well-Test Analysis/data/Table 7.2-Reservoir Parameters and BHFP Example 7.1.csv')\n",
        "\n",
        "axisx = data_bhfp.t\n",
        "axisy = data_bhfp.p\n",
        "\n",
        "\"guess time index in time data that mark the end of straight line for regression (Fig 7.1 in book)\"\n",
        "index = 19 # continuously adjust this value until it reaches the point\n",
        "\n",
        "# plot borehole flowing pressure vs time\n",
        "plt.figure(figsize=(10, 7))\n",
        "p1 = plt.semilogx(axisx, axisy, '.')\n",
        "\n",
        "# plot the guessed 'end of straight' line for regression\n",
        "p2 = plt.semilogx(data_bhfp.t[index], data_bhfp.p[index], '*', color='r', ms=10)\n",
        "plt.legend((p1[0], p2[0]), ('BHFP data', 'End of straight line'))\n",
        "\n",
        "plt.title('Semilog Plot of Borehole Flowing Pressure vs Time', size=20, pad=10)\n",
        "plt.xlabel('Time (hours)'); plt.ylabel('Pressure (psia)')"
      ],
      "execution_count": 94,
      "outputs": [
        {
          "output_type": "execute_result",
          "data": {
            "text/plain": [
              "Text(0, 0.5, 'Pressure (psia)')"
            ]
          },
          "metadata": {
            "tags": []
          },
          "execution_count": 94
        },
        {
          "output_type": "display_data",
          "data": {
            "image/png": "[encoded data removed]",
            "text/plain": [
              "<Figure size 720x504 with 1 Axes>"
            ]
          },
          "metadata": {
            "tags": []
          }
        }
      ]
    },
    {
      "cell_type": "markdown",
      "metadata": {
        "id": "rIj6LRKLBhd9",
        "colab_type": "text"
      },
      "source": [
        "To do regression we cut the dataframe from `df[0]` until the index of our guessed *end of straight line* `df[index]`. Only if the BHFP data contains pressure at `time = 0` (first row), drop the first row `df[0]`, because when log operation is underway, `log(0) = indefinite`. "
      ]
    },
    {
      "cell_type": "code",
      "metadata": {
        "id": "-RZNETiYB2TX",
        "colab_type": "code",
        "outputId": "2972a99b-33c9-4e8f-a14d-9f0305725659",
        "colab": {
          "base_uri": "https://localhost:8080/",
          "height": 50
        }
      },
      "source": [
        "# cut dataframe from index 0 to index of end of straight line\n",
        "df1 = data_bhfp.iloc[:index+1, :]\n",
        "\n",
        "# drop the first row with time=0, because when log operation is underway, log(0) = indefinite\n",
        "dff1 = df1.drop(df1.index[0])\n",
        "\n",
        "x = np.log(np.array(dff1.t))\n",
        "y = np.array(dff1.p)\n",
        "\n",
        "def regression(x, y): \n",
        "    # number of observations/points \n",
        "    n = np.size(x) \n",
        "  \n",
        "    # mean of x and y vector \n",
        "    m_x, m_y = np.mean(x), np.mean(y) \n",
        "  \n",
        "    # calculating cross-deviation and deviation about x \n",
        "    SS_xy = np.sum(y*x) - n*m_y*m_x \n",
        "    SS_xx = np.sum(x*x) - n*m_x*m_x \n",
        "  \n",
        "    # calculating regression coefficients \n",
        "    b_1 = SS_xy / SS_xx \n",
        "    b_0 = m_y - b_1*m_x \n",
        "  \n",
        "    return(b_0, b_1) \n",
        "\n",
        "c, m = regression(x,y)\n",
        "print(\"Slope of semilog plot of BHFP vs time:\", m)\n",
        "print(\"Pressure intercept of semilog plot of BHFP vs time:\", c, \"psia\")"
      ],
      "execution_count": 95,
      "outputs": [
        {
          "output_type": "stream",
          "text": [
            "Slope of semilog plot of BHFP vs time: -9.816049286818531\n",
            "Pressure intercept of semilog plot of BHFP vs time: 2365.6951804701193 psia\n"
          ],
          "name": "stdout"
        }
      ]
    },
    {
      "cell_type": "markdown",
      "metadata": {
        "id": "q1zpQNAiLF33",
        "colab_type": "text"
      },
      "source": [
        "Plot the regression line on the semilog plot"
      ]
    },
    {
      "cell_type": "code",
      "metadata": {
        "id": "CKyZfK16LJa4",
        "colab_type": "code",
        "outputId": "bf6c5fab-f4e9-48ab-9742-44eccf324b8b",
        "colab": {
          "base_uri": "https://localhost:8080/",
          "height": 522
        }
      },
      "source": [
        "# plot regression line on semilog plot\n",
        "\n",
        "# x_reg = dff1.t\n",
        "# y_reg = m * x + c\n",
        "# x_reg = np.log(np.array(df1.t))\n",
        "x_reg = np.log(np.array(data_bhfp.t))\n",
        "y_reg = m * x_reg + c\n",
        "\n",
        "plt.figure(figsize=(10, 7))\n",
        "\n",
        "# p3 = plt.semilogx(df1.t, y_reg, '--', color='g', ms=0.5)\n",
        "p3 = plt.semilogx(data_bhfp.t, y_reg, '--', color='g', ms=0.5)\n",
        "\n",
        "# plot borehole flowing pressure vs time\n",
        "p1 = plt.semilogx(axisx, axisy, '.')\n",
        "\n",
        "# plot the guessed 'end of straight' line for regression\n",
        "p2 = plt.semilogx(data_bhfp.t[index], data_bhfp.p[index], '*', color='r', ms=10)\n",
        "plt.legend((p1[0], p2[0], p3[0]), ('BHFP data', 'End of straight line', 'Regression line'))\n",
        "\n",
        "plt.title('Semilog Plot of Borehole Flowing Pressure vs Time', size=20, pad=10)\n",
        "plt.xlabel('Time (hours)'); plt.ylabel('Pressure (psia)')"
      ],
      "execution_count": 96,
      "outputs": [
        {
          "output_type": "stream",
          "text": [
            "/usr/local/lib/python3.6/dist-packages/ipykernel_launcher.py:1: RuntimeWarning: divide by zero encountered in log\n",
            "  \"\"\"Entry point for launching an IPython kernel.\n"
          ],
          "name": "stderr"
        },
        {
          "output_type": "execute_result",
          "data": {
            "text/plain": [
              "Text(0, 0.5, 'Pressure (psia)')"
            ]
          },
          "metadata": {
            "tags": []
          },
          "execution_count": 96
        },
        {
          "output_type": "display_data",
          "data": {
            "image/png": "[encoded data removed]",
            "text/plain": [
              "<Figure size 720x504 with 1 Axes>"
            ]
          },
          "metadata": {
            "tags": []
          }
        }
      ]
    },
    {
      "cell_type": "markdown",
      "metadata": {
        "id": "OcCdiHUwC3t1",
        "colab_type": "text"
      },
      "source": [
        "The first task, determine reservoir permeability from the resulted slope `m` from regression."
      ]
    },
    {
      "cell_type": "code",
      "metadata": {
        "id": "_gjS6XzOCxU-",
        "colab_type": "code",
        "colab": {
          "base_uri": "https://localhost:8080/",
          "height": 34
        },
        "outputId": "386332a7-e378-4ea3-c6fd-c33c99de9326"
      },
      "source": [
        "\"Task 1. determine permeability\"\n",
        "\n",
        "# known reservoir parameters\n",
        "\n",
        "poro = 0.15\n",
        "rw = 0.333 # in ft\n",
        "h = 32 # in ft\n",
        "qo = 1000 # in STB/d\n",
        "swi = 0.25\n",
        "ct = 12E-06 # in psi^-1\n",
        "pi = 2500 # initial pressure in psia\n",
        "mu_oil = 2 # in cP\n",
        "Bo = 1.333 # in RB/STB\n",
        "\n",
        "# conversion: NONE, all units already in oilfield units\n",
        "\n",
        "# multiply m with ln(10)\n",
        "\n",
        "m_cycle = m * np.log(10)\n",
        "m_cycle # result in psi/cycle\n",
        "\n",
        "# find k from Eq 7.10 (oilfield units)\n",
        "\n",
        "k = - (162.6 * qo * Bo * mu_oil) / (m_cycle * h)\n",
        "print(\"Permeability calculated from BHFP data:\", k, \"milidarcies\")"
      ],
      "execution_count": 100,
      "outputs": [
        {
          "output_type": "stream",
          "text": [
            "Permeability calculated from BHFP data: 599.3469353431107 milidarcies\n"
          ],
          "name": "stdout"
        }
      ]
    },
    {
      "cell_type": "markdown",
      "metadata": {
        "id": "erDp-1eYFbdi",
        "colab_type": "text"
      },
      "source": [
        "Second task, determine time to finite acting period. This is different to Example 6.1 in Unit 6 to calculate `t_finite_acting` previously because in Example 6.1, distance to outer boundary of reservoir (`re`) is known. Here in Example 7.1, `re` is not known, so `t_finite_acting` is barely determined by looking at the **semilog plot** above, where the pressure plots **start to deviate from straight line**.  \n",
        "\n",
        "**Different from the book**, `t_finite_acting` is more likely to start at `t = 10` hours, exactly where we have guessed the *index of end of straight line* as `index = 19` before. \n",
        "\n",
        "So leaving out, `t_finite_acting = 10`"
      ]
    },
    {
      "cell_type": "code",
      "metadata": {
        "id": "v2ZyKRgmJD3r",
        "colab_type": "code",
        "colab": {}
      },
      "source": [
        "\"Task 2. determine t finite acting from semilog plot\"\n",
        "\n",
        "t_finite_acting = 10"
      ],
      "execution_count": 0,
      "outputs": []
    },
    {
      "cell_type": "markdown",
      "metadata": {
        "id": "ktMnP7B4JOFL",
        "colab_type": "text"
      },
      "source": [
        "Third task, determine reservoir size `re`. There are 2 methods: one, presented in the book, using **normal plot of BHFP to time** and determine the slope. The another method, use **Eq 6.16** like in **Unit 6** since `t_finite_acting` has been approximated.  "
      ]
    },
    {
      "cell_type": "code",
      "metadata": {
        "id": "udt91QImJL5a",
        "colab_type": "code",
        "colab": {
          "base_uri": "https://localhost:8080/",
          "height": 34
        },
        "outputId": "0d678cbc-c5b4-4a98-debb-5ee2481ef2e8"
      },
      "source": [
        "\"Task 3. determine reservoir size\"\n",
        "\n",
        "# method 1. analytical, use previously Eq 6.16\n",
        "\n",
        "t_Dw = (t_finite_acting * 0.0002637 * k) / (poro * mu_oil * ct * (rw**2))\n",
        "\n",
        "# solve re from t_Dw = 0.25 * r_eD**2\n",
        "\n",
        "r_eD_square = 4 * t_Dw\n",
        "re = rw * np.sqrt(r_eD_square)\n",
        "print(\"Reservoir size from solving analytically Eq 6.16:\", re, \"ft\")"
      ],
      "execution_count": 76,
      "outputs": [
        {
          "output_type": "stream",
          "text": [
            "Reservoir size from solving analytically Eq 6.16: 1325.174147255867 ft\n"
          ],
          "name": "stdout"
        }
      ]
    },
    {
      "cell_type": "code",
      "metadata": {
        "id": "EJuob-cLOtBN",
        "colab_type": "code",
        "colab": {
          "base_uri": "https://localhost:8080/",
          "height": 484
        },
        "outputId": "27980dbf-5511-45c1-9380-21ae3bf0c00b"
      },
      "source": [
        "# find re from graphical (book's method), again guess for the straight line\n",
        "\n",
        "\"time when plot starts deviating equals to index at t_finite_acting, similar index to previous semilog plot\"\n",
        "index2 = index # similar to the index of semilog plot\n",
        "\n",
        "# plot borehole flowing pressure vs time\n",
        "plt.figure(figsize=(10, 7))\n",
        "p1 = plt.plot(axisx, axisy, '.')\n",
        "\n",
        "# plot the guessed 'end of straight' line for regression\n",
        "p2 = plt.plot(data_bhfp.t[index2], data_bhfp.p[index2], '*', color='r', ms=10)\n",
        "plt.legend((p1[0], p2[0]), ('BHFP data', 'Start of straight line'))\n",
        "\n",
        "plt.xlim(0, 50)\n",
        "plt.title('Normal Plot of Borehole Flowing Pressure vs Time', size=20, pad=10)\n",
        "plt.xlabel('Time (hours)'); plt.ylabel('Pressure (psia)')"
      ],
      "execution_count": 71,
      "outputs": [
        {
          "output_type": "execute_result",
          "data": {
            "text/plain": [
              "Text(0, 0.5, 'Pressure (psia)')"
            ]
          },
          "metadata": {
            "tags": []
          },
          "execution_count": 71
        },
        {
          "output_type": "display_data",
          "data": {
            "image/png": "[encoded data removed]",
            "text/plain": [
              "<Figure size 720x504 with 1 Axes>"
            ]
          },
          "metadata": {
            "tags": []
          }
        }
      ]
    },
    {
      "cell_type": "code",
      "metadata": {
        "id": "30zF3UgxPWoV",
        "colab_type": "code",
        "colab": {
          "base_uri": "https://localhost:8080/",
          "height": 50
        },
        "outputId": "b2e43a3b-4bbc-4ac5-8901-b49144eb80a7"
      },
      "source": [
        "# cut dataframe from index of start of straight line to the last index\n",
        "dff2 = data_bhfp.iloc[index2:, :]\n",
        "\n",
        "x2 = np.array(dff2.t)\n",
        "y2 = np.array(dff2.p)\n",
        "\n",
        "def regression(x, y): \n",
        "    # number of observations/points \n",
        "    n = np.size(x) \n",
        "  \n",
        "    # mean of x and y vector \n",
        "    m_x, m_y = np.mean(x), np.mean(y) \n",
        "  \n",
        "    # calculating cross-deviation and deviation about x \n",
        "    SS_xy = np.sum(y*x) - n*m_y*m_x \n",
        "    SS_xx = np.sum(x*x) - n*m_x*m_x \n",
        "  \n",
        "    # calculating regression coefficients \n",
        "    b_1 = SS_xy / SS_xx \n",
        "    b_0 = m_y - b_1*m_x \n",
        "  \n",
        "    return(b_0, b_1) \n",
        "\n",
        "c2, m2 = regression(x2,y2)\n",
        "print(\"Slope of semilog plot of BHFP vs time:\", m2)\n",
        "print(\"Pressure intercept of semilog plot of BHFP vs time:\", c2, \"psia\")"
      ],
      "execution_count": 72,
      "outputs": [
        {
          "output_type": "stream",
          "text": [
            "Slope of semilog plot of BHFP vs time: -1.7357010538030258\n",
            "Pressure intercept of semilog plot of BHFP vs time: 2358.0966492729244 psia\n"
          ],
          "name": "stdout"
        }
      ]
    },
    {
      "cell_type": "code",
      "metadata": {
        "id": "WOnYiAXCRx9O",
        "colab_type": "code",
        "colab": {
          "base_uri": "https://localhost:8080/",
          "height": 484
        },
        "outputId": "a1e1d8f2-71eb-4677-da55-b63ca636cbe8"
      },
      "source": [
        "# plot regression line on plot\n",
        "\n",
        "x_reg2 = np.array(data_bhfp.t)\n",
        "y_reg2 = m2 * x_reg2 + c2\n",
        "\n",
        "plt.figure(figsize=(10, 7))\n",
        "\n",
        "p3 = plt.plot(data_bhfp.t, y_reg2, '--', color='g', ms=0.5)\n",
        "\n",
        "# plot borehole flowing pressure vs time\n",
        "p1 = plt.plot(axisx, axisy, '.')\n",
        "\n",
        "# plot the guessed 'end of straight' line for regression\n",
        "p2 = plt.plot(data_bhfp.t[index2], data_bhfp.p[index2], '*', color='r', ms=10)\n",
        "plt.legend((p1[0], p2[0], p3[0]), ('BHFP data', 'End of straight line', 'Regression line'))\n",
        "\n",
        "plt.title('Semilog Plot of Borehole Flowing Pressure vs Time', size=20, pad=10)\n",
        "plt.xlabel('Time (hours)'); plt.ylabel('Pressure (psia)')"
      ],
      "execution_count": 73,
      "outputs": [
        {
          "output_type": "execute_result",
          "data": {
            "text/plain": [
              "Text(0, 0.5, 'Pressure (psia)')"
            ]
          },
          "metadata": {
            "tags": []
          },
          "execution_count": 73
        },
        {
          "output_type": "display_data",
          "data": {
            "image/png": "[encoded data removed]",
            "text/plain": [
              "<Figure size 720x504 with 1 Axes>"
            ]
          },
          "metadata": {
            "tags": []
          }
        }
      ]
    },
    {
      "cell_type": "code",
      "metadata": {
        "id": "GVsn13D6TES1",
        "colab_type": "code",
        "colab": {
          "base_uri": "https://localhost:8080/",
          "height": 34
        },
        "outputId": "61a14ff1-e2d8-4f55-b557-bd17d86a4dc1"
      },
      "source": [
        "# re-arranging Eq 7.22\n",
        "\n",
        "# m2 is not converted into psi/cycle, remains psi/hour\n",
        "\n",
        "re2 = np.sqrt(-((0.07447 * qo * Bo) / (poro * h * ct * m2)))\n",
        "print(\"Reservoir Size using Eq 7.22 graphical normal plot:\", re2, \"ft\")"
      ],
      "execution_count": 77,
      "outputs": [
        {
          "output_type": "stream",
          "text": [
            "Reservoir Size using Eq 7.22 graphical normal plot: 996.4535215820936 ft\n"
          ],
          "name": "stdout"
        }
      ]
    },
    {
      "cell_type": "markdown",
      "metadata": {
        "id": "UJjdebXBXJrY",
        "colab_type": "text"
      },
      "source": [
        "The fourth task, is to determine the **skin factor**, using Eq 7.12. "
      ]
    },
    {
      "cell_type": "code",
      "metadata": {
        "id": "beTRTkftXS5s",
        "colab_type": "code",
        "colab": {
          "base_uri": "https://localhost:8080/",
          "height": 50
        },
        "outputId": "150f44fb-c90c-4dc5-9940-c239f35cae1f"
      },
      "source": [
        "\"Task 4. calculate skin factor\"\n",
        "\n",
        "# determine first, the b1hr (pressure at 1 hour from regression line)\n",
        "t1hr = 1 # time at 1 hour\n",
        "b1hr = m2 * t1hr + c2 # m2 and c2 are slope and intercept of the second regression line from normal plot\n",
        "\n",
        "# calculate skin factor, in oilfied formula\n",
        "\n",
        "# m (slope) is m from semilog plot, m_cycle \n",
        "\n",
        "# first = (((pi - b1hr) / -m_cycle))\n",
        "s = 1.1513 * (((pi - b1hr) / -m_cycle) - np.log10(k / (poro * mu_oil * ct * (rw**2))) + 3.2275)\n",
        "print(\"Pressure intercept at 1 hour:\", b1hr, \"psia\")\n",
        "print(\"Skin factor using Eq 7.1:\", s)"
      ],
      "execution_count": 105,
      "outputs": [
        {
          "output_type": "stream",
          "text": [
            "Pressure intercept at 1 hour: 2356.3609482191214 psia\n",
            "Skin factor using Eq 7.1: 0.4675191449502658\n"
          ],
          "name": "stdout"
        }
      ]
    },
    {
      "cell_type": "markdown",
      "metadata": {
        "id": "_oaXweIjbiQK",
        "colab_type": "text"
      },
      "source": [
        "Which is little different from the result of the book. But, it's fine. "
      ]
    },
    {
      "cell_type": "markdown",
      "metadata": {
        "id": "iweEB9IFd3-D",
        "colab_type": "text"
      },
      "source": [
        "## **Chapter 7.3 Multirate Flow Tests**"
      ]
    },
    {
      "cell_type": "markdown",
      "metadata": {
        "id": "eDzu_U4peAht",
        "colab_type": "text"
      },
      "source": [
        "### Example 7.2 Analysis of a Multirate Flow Test"
      ]
    }
  ]
}