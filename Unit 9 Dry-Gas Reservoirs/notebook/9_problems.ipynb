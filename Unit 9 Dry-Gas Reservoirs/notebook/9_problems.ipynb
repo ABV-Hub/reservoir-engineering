{
  "nbformat": 4,
  "nbformat_minor": 0,
  "metadata": {
    "colab": {
      "name": "9_problems.ipynb",
      "provenance": [],
      "collapsed_sections": [],
      "toc_visible": true,
      "authorship_tag": "ABX9TyP2esLYwPeS0NwYxLjs2Xkg",
      "include_colab_link": true
    },
    "kernelspec": {
      "name": "python3",
      "display_name": "Python 3"
    }
  },
  "cells": [
    {
      "cell_type": "markdown",
      "metadata": {
        "id": "view-in-github",
        "colab_type": "text"
      },
      "source": [
        "<a href=\"https://colab.research.google.com/github/yohanesnuwara/reservoir-engineering/blob/master/Unit%209%20Dry-Gas%20Reservoirs/notebook/9_problems.ipynb\" target=\"_parent\"><img src=\"https://colab.research.google.com/assets/colab-badge.svg\" alt=\"Open In Colab\"/></a>"
      ]
    },
    {
      "cell_type": "markdown",
      "metadata": {
        "id": "hph39tTqsMNV",
        "colab_type": "text"
      },
      "source": [
        "# **Unit 9. Dry-Gas Reservoirs**"
      ]
    },
    {
      "cell_type": "code",
      "metadata": {
        "id": "yvSG30b-lRTb",
        "colab_type": "code",
        "colab": {
          "base_uri": "https://localhost:8080/",
          "height": 134
        },
        "outputId": "ffeb0647-ff6a-41f0-a9a9-e0fe317b4c08"
      },
      "source": [
        "!git clone https://github.com/yohanesnuwara/reservoir-engineering"
      ],
      "execution_count": 1,
      "outputs": [
        {
          "output_type": "stream",
          "text": [
            "Cloning into 'reservoir-engineering'...\n",
            "remote: Enumerating objects: 95, done.\u001b[K\n",
            "remote: Counting objects: 100% (95/95), done.\u001b[K\n",
            "remote: Compressing objects: 100% (93/93), done.\u001b[K\n",
            "remote: Total 1004 (delta 48), reused 0 (delta 0), pack-reused 909\u001b[K\n",
            "Receiving objects: 100% (1004/1004), 12.47 MiB | 12.90 MiB/s, done.\n",
            "Resolving deltas: 100% (443/443), done.\n"
          ],
          "name": "stdout"
        }
      ]
    },
    {
      "cell_type": "code",
      "metadata": {
        "id": "xmknNKYj4ci3",
        "colab_type": "code",
        "colab": {}
      },
      "source": [
        "import numpy as np\n",
        "import matplotlib.pyplot as plt\n",
        "import pandas as pd\n",
        "from scipy.optimize import curve_fit"
      ],
      "execution_count": 0,
      "outputs": []
    },
    {
      "cell_type": "markdown",
      "metadata": {
        "id": "BVLS6jR1sZIJ",
        "colab_type": "text"
      },
      "source": [
        "## Problem 9.1"
      ]
    },
    {
      "cell_type": "markdown",
      "metadata": {
        "id": "Ap0VuFrw0K-7",
        "colab_type": "text"
      },
      "source": [
        "No information on gas production (Gp)? Answers recovery factor (Fr) incorrect? Correct answer from book, Fr under waterdrive condition is 0.65?"
      ]
    },
    {
      "cell_type": "code",
      "metadata": {
        "id": "9iihz2yerk66",
        "colab_type": "code",
        "colab": {
          "base_uri": "https://localhost:8080/",
          "height": 0
        },
        "outputId": "430bc43f-d7c8-4205-c3bd-54936a9a88cf"
      },
      "source": [
        "# Task 1. calculate OGIP in scf and recovery factor (volumetric)\n",
        "\n",
        "# knowns: reservois is volumetric\n",
        "zi = 0.8 # initial gas compressibility gas\n",
        "pi = 3000 # initial pressure, psia\n",
        "pa = 500 # psia\n",
        "za = 0.96\n",
        "sw = 0.3\n",
        "temp = 200 # fahrenheit\n",
        "poro = 0.25\n",
        "bulkvol = 20000 # acre-ft\n",
        "sgr = 0.25 # residual gas saturation to waterflood\n",
        "\n",
        "\"Calculate Bg and Bgi\"\n",
        "Bgi = 0.0282793 * zi * (temp + 460) / pi \n",
        "Bg = 0.0282793 * za * (temp + 460) / pa # convert fahrenheit to reamur\n",
        "\n",
        "\"Calculate Fr volumetric\"\n",
        "Fr_vol = 1 - Bgi / Bg\n",
        "print('Recovery Factor under volumetric assumption:', Fr_vol)\n",
        "\n",
        "\"Calculate Fr with waterdrive\"\n",
        "Fr_water = 1 - ((sgr * Bgi) / (Bg * (1 - sw)))\n",
        "print('Recovery Factor under waterdrive assumption:', Fr_water)"
      ],
      "execution_count": 3,
      "outputs": [
        {
          "output_type": "stream",
          "text": [
            "Recovery Factor under volumetric assumption: 0.861111111111111\n",
            "Recovery Factor under waterdrive assumption: 0.9503968253968254\n"
          ],
          "name": "stdout"
        }
      ]
    },
    {
      "cell_type": "markdown",
      "metadata": {
        "id": "MYD8jJ170XNC",
        "colab_type": "text"
      },
      "source": [
        "## Problem 9.2"
      ]
    },
    {
      "cell_type": "markdown",
      "metadata": {
        "id": "fLXijFzX5OEn",
        "colab_type": "text"
      },
      "source": [
        "### Task 1"
      ]
    },
    {
      "cell_type": "code",
      "metadata": {
        "id": "gX88U07l0Z9x",
        "colab_type": "code",
        "colab": {
          "base_uri": "https://localhost:8080/",
          "height": 0
        },
        "outputId": "f27a5fd8-1141-4a6b-bc97-7dc498a27925"
      },
      "source": [
        "# Task 1. calculate OGIP (volumetric, compressibility=0)\n",
        "\n",
        "# known\n",
        "p = np.array([3200, 2925, 2525, 2125])\n",
        "Gp = np.array([0, 79, 221, 452])\n",
        "Bg = np.array([52622, 57004, 65311, 77360]) * 1E-7\n",
        "\n",
        "pi = 3200 # initial pressure, psia\n",
        "temp = 220 # fahrenheit\n",
        "\n",
        "F = Gp * Bg\n",
        "Eg = Bg - Bg[0]\n",
        "\n",
        "plt.plot(Eg, F, '.')\n",
        "plt.title('Plot F vs Eg')\n",
        "plt.xlabel('Eg'); plt.ylabel('F')\n",
        "plt.show()"
      ],
      "execution_count": 4,
      "outputs": [
        {
          "output_type": "display_data",
          "data": {
            "image/png": "[encoded data removed]",
            "text/plain": [
              "<Figure size 432x288 with 1 Axes>"
            ]
          },
          "metadata": {
            "tags": [],
            "needs_background": "light"
          }
        }
      ]
    },
    {
      "cell_type": "markdown",
      "metadata": {
        "id": "_6AeQTfV6kff",
        "colab_type": "text"
      },
      "source": [
        "OGIP at the end of each interval"
      ]
    },
    {
      "cell_type": "code",
      "metadata": {
        "id": "52FlcLcz6j6V",
        "colab_type": "code",
        "colab": {
          "base_uri": "https://localhost:8080/",
          "height": 0
        },
        "outputId": "5d238c07-2da6-44a5-c4e4-14fbc2ce4e6b"
      },
      "source": [
        "interval = np.array([1,2,3,4])\n",
        "\n",
        "for i in range(len(F)):\n",
        "  ogip = (F[i] / Eg[i]) * 1E-03\n",
        "  print('OGIP at interval {} is {} Bscf'.format(interval[i], ogip))"
      ],
      "execution_count": 5,
      "outputs": [
        {
          "output_type": "stream",
          "text": [
            "OGIP at interval 1 is nan Bscf\n",
            "OGIP at interval 2 is 1.027685075308079 Bscf\n",
            "OGIP at interval 3 is 1.137499487745291 Bscf\n",
            "OGIP at interval 4 is 1.4134820923275933 Bscf\n"
          ],
          "name": "stdout"
        },
        {
          "output_type": "stream",
          "text": [
            "/usr/local/lib/python3.6/dist-packages/ipykernel_launcher.py:4: RuntimeWarning: invalid value encountered in double_scalars\n",
            "  after removing the cwd from sys.path.\n"
          ],
          "name": "stderr"
        }
      ]
    },
    {
      "cell_type": "markdown",
      "metadata": {
        "id": "uTOUwffX7PD9",
        "colab_type": "text"
      },
      "source": [
        "### Task 2\n",
        "\n",
        "Prove why from the plot indicates waterdrive?\n",
        "\n",
        "The plot curves upward. Suppose we take the first 2 points of the plot, take regression, and show the curving upward."
      ]
    },
    {
      "cell_type": "code",
      "metadata": {
        "id": "n-MSBLC-5YV-",
        "colab_type": "code",
        "colab": {}
      },
      "source": [
        "def linear(x, a, b):\n",
        "  # a: slope\n",
        "  # b: intercept\n",
        "  y = a * x + b\n",
        "  return(y)"
      ],
      "execution_count": 0,
      "outputs": []
    },
    {
      "cell_type": "code",
      "metadata": {
        "id": "KEnasp0e7ok6",
        "colab_type": "code",
        "colab": {
          "base_uri": "https://localhost:8080/",
          "height": 0
        },
        "outputId": "d0e4d5f9-b798-4c0a-96ae-b70dacfa78a0"
      },
      "source": [
        "Eg[:2]"
      ],
      "execution_count": 7,
      "outputs": [
        {
          "output_type": "execute_result",
          "data": {
            "text/plain": [
              "array([0.       , 0.0004382])"
            ]
          },
          "metadata": {
            "tags": []
          },
          "execution_count": 7
        }
      ]
    },
    {
      "cell_type": "code",
      "metadata": {
        "id": "etnHBdjy5fXn",
        "colab_type": "code",
        "colab": {
          "base_uri": "https://localhost:8080/",
          "height": 0
        },
        "outputId": "a861a408-9a4f-4119-c349-4219dd097257"
      },
      "source": [
        "popt, pcov = curve_fit(linear, Eg[:2], F[:2])\n",
        "print('Calculated OGIP:', popt[0])\n",
        "\n",
        "# regression line\n",
        "y = popt[0] * Eg + popt[1]\n",
        "\n",
        "plt.plot(Eg, F, '.-', label='data')\n",
        "plt.plot(Eg, y, label='regression')\n",
        "plt.title('Plot F vs Eg')\n",
        "plt.xlabel('Eg'); plt.ylabel('F')\n",
        "plt.legend()\n",
        "plt.show()"
      ],
      "execution_count": 8,
      "outputs": [
        {
          "output_type": "stream",
          "text": [
            "Calculated OGIP: 1027.685075308079\n"
          ],
          "name": "stdout"
        },
        {
          "output_type": "stream",
          "text": [
            "/usr/local/lib/python3.6/dist-packages/scipy/optimize/minpack.py:808: OptimizeWarning: Covariance of the parameters could not be estimated\n",
            "  category=OptimizeWarning)\n"
          ],
          "name": "stderr"
        },
        {
          "output_type": "display_data",
          "data": {
            "image/png": "[encoded data removed]",
            "text/plain": [
              "<Figure size 432x288 with 1 Axes>"
            ]
          },
          "metadata": {
            "tags": [],
            "needs_background": "light"
          }
        }
      ]
    },
    {
      "cell_type": "markdown",
      "metadata": {
        "id": "SRJHzewUAfvd",
        "colab_type": "text"
      },
      "source": [
        "### Task 3 \n",
        "\n",
        "Plot $F/E_g$ vs $t$ , prove the existence of waterdrive\n",
        "\n",
        "Plot is curving upward, $F/E_g$ increases means OGIP \"apparently\" increases. This appearance may indicate waterdrive."
      ]
    },
    {
      "cell_type": "code",
      "metadata": {
        "id": "_0HSKbqPAyRy",
        "colab_type": "code",
        "colab": {
          "base_uri": "https://localhost:8080/",
          "height": 0
        },
        "outputId": "002f3ed8-f481-4f78-b1a1-bb2ceb64ccfa"
      },
      "source": [
        "plt.plot(interval, F/Eg, '.-')\n",
        "plt.title('F/Eg vs time')\n",
        "plt.xlabel('time'); plt.ylabel('F/Eg')\n",
        "plt.show()"
      ],
      "execution_count": 9,
      "outputs": [
        {
          "output_type": "stream",
          "text": [
            "/usr/local/lib/python3.6/dist-packages/ipykernel_launcher.py:1: RuntimeWarning: invalid value encountered in true_divide\n",
            "  \"\"\"Entry point for launching an IPython kernel.\n"
          ],
          "name": "stderr"
        },
        {
          "output_type": "display_data",
          "data": {
            "image/png": "[encoded data removed]",
            "text/plain": [
              "<Figure size 432x288 with 1 Axes>"
            ]
          },
          "metadata": {
            "tags": [],
            "needs_background": "light"
          }
        }
      ]
    },
    {
      "cell_type": "markdown",
      "metadata": {
        "id": "jnQQaOFEBSQy",
        "colab_type": "text"
      },
      "source": [
        "### Task 4\n",
        "\n",
        "\n",
        "Calculate water encroachment $(W_e)$, known that OGIP from volumetric study is 1.018 Bscf.\n",
        "\n",
        "$$W_e=B_wW_p+F-G_{fgi}E_g-G_{fgi}B_{gi}E_{fw}$$\n",
        "\n",
        "Can't be answered because there's no info about water production $W_p$ and water FVF $B_w$"
      ]
    },
    {
      "cell_type": "markdown",
      "metadata": {
        "id": "JYTa6JbqW7JI",
        "colab_type": "text"
      },
      "source": [
        "## Problem 9.3"
      ]
    },
    {
      "cell_type": "markdown",
      "metadata": {
        "id": "Ez6EepYYaxOC",
        "colab_type": "text"
      },
      "source": [
        "### Task 1\n",
        "\n",
        "Use Plot 9.1 to determine apparent gas in place\n",
        "\n",
        "My answer is 253 Bscf, book's answer is 239 Bscf. Difference is 14 Bscf, pretty large!!!"
      ]
    },
    {
      "cell_type": "code",
      "metadata": {
        "id": "HWI8SiinW9UQ",
        "colab_type": "code",
        "colab": {
          "base_uri": "https://localhost:8080/",
          "height": 639
        },
        "outputId": "7cf33cca-a1a7-4036-e9b9-2f23b617045e"
      },
      "source": [
        "# Task 1. use Plot 9.1 to determine apparent gas in place\n",
        "\n",
        "temp = 122 # fahrenheit\n",
        "swi = 0.25\n",
        "cf = 3E-6 # psi^-1\n",
        "cw = 3.3E-6 # psi^-1\n",
        "\n",
        "columns = ['date', 'p', 'p/z', 'Gp', 'Wp', 'z', 'Bg']\n",
        "data = pd.read_csv('/content/reservoir-engineering/Unit 9 Dry-Gas Reservoirs/data/Table 9.11-Reservoir and Production Data for Problem 9.3.csv', names=columns)\n",
        "\n",
        "data['date'] =  pd.to_datetime(data['date'], format='%d %B %Y') # format check web: https://strftime.org/\n",
        "# data.head(10)\n",
        "data"
      ],
      "execution_count": 10,
      "outputs": [
        {
          "output_type": "execute_result",
          "data": {
            "text/html": [
              "<div>\n",
              "<style scoped>\n",
              "    .dataframe tbody tr th:only-of-type {\n",
              "        vertical-align: middle;\n",
              "    }\n",
              "\n",
              "    .dataframe tbody tr th {\n",
              "        vertical-align: top;\n",
              "    }\n",
              "\n",
              "    .dataframe thead th {\n",
              "        text-align: right;\n",
              "    }\n",
              "</style>\n",
              "<table border=\"1\" class=\"dataframe\">\n",
              "  <thead>\n",
              "    <tr style=\"text-align: right;\">\n",
              "      <th></th>\n",
              "      <th>date</th>\n",
              "      <th>p</th>\n",
              "      <th>p/z</th>\n",
              "      <th>Gp</th>\n",
              "      <th>Wp</th>\n",
              "      <th>z</th>\n",
              "      <th>Bg</th>\n",
              "    </tr>\n",
              "  </thead>\n",
              "  <tbody>\n",
              "    <tr>\n",
              "      <th>0</th>\n",
              "      <td>1964-12-01</td>\n",
              "      <td>2039.0</td>\n",
              "      <td>2326.0</td>\n",
              "      <td>0.0</td>\n",
              "      <td>0.0</td>\n",
              "      <td>0.876612</td>\n",
              "      <td>0.007074</td>\n",
              "    </tr>\n",
              "    <tr>\n",
              "      <th>1</th>\n",
              "      <td>1964-12-10</td>\n",
              "      <td>2026.0</td>\n",
              "      <td>2311.0</td>\n",
              "      <td>4.0</td>\n",
              "      <td>0.0</td>\n",
              "      <td>0.876677</td>\n",
              "      <td>0.007120</td>\n",
              "    </tr>\n",
              "    <tr>\n",
              "      <th>2</th>\n",
              "      <td>1965-03-26</td>\n",
              "      <td>2031.0</td>\n",
              "      <td>2316.0</td>\n",
              "      <td>7.0</td>\n",
              "      <td>0.0</td>\n",
              "      <td>0.876943</td>\n",
              "      <td>0.007104</td>\n",
              "    </tr>\n",
              "    <tr>\n",
              "      <th>3</th>\n",
              "      <td>1967-01-25</td>\n",
              "      <td>2021.0</td>\n",
              "      <td>2304.0</td>\n",
              "      <td>258.0</td>\n",
              "      <td>0.0</td>\n",
              "      <td>0.877170</td>\n",
              "      <td>0.007141</td>\n",
              "    </tr>\n",
              "    <tr>\n",
              "      <th>4</th>\n",
              "      <td>1967-05-12</td>\n",
              "      <td>2021.0</td>\n",
              "      <td>2304.0</td>\n",
              "      <td>265.0</td>\n",
              "      <td>0.0</td>\n",
              "      <td>0.877170</td>\n",
              "      <td>0.007141</td>\n",
              "    </tr>\n",
              "    <tr>\n",
              "      <th>5</th>\n",
              "      <td>1967-05-29</td>\n",
              "      <td>2031.0</td>\n",
              "      <td>2316.0</td>\n",
              "      <td>267.0</td>\n",
              "      <td>0.0</td>\n",
              "      <td>0.876943</td>\n",
              "      <td>0.007104</td>\n",
              "    </tr>\n",
              "    <tr>\n",
              "      <th>6</th>\n",
              "      <td>1968-08-19</td>\n",
              "      <td>1982.0</td>\n",
              "      <td>2259.0</td>\n",
              "      <td>4767.0</td>\n",
              "      <td>0.0</td>\n",
              "      <td>0.877379</td>\n",
              "      <td>0.007284</td>\n",
              "    </tr>\n",
              "    <tr>\n",
              "      <th>7</th>\n",
              "      <td>1968-08-20</td>\n",
              "      <td>1984.0</td>\n",
              "      <td>2261.0</td>\n",
              "      <td>4767.0</td>\n",
              "      <td>0.0</td>\n",
              "      <td>0.877488</td>\n",
              "      <td>0.007277</td>\n",
              "    </tr>\n",
              "    <tr>\n",
              "      <th>8</th>\n",
              "      <td>1968-09-06</td>\n",
              "      <td>1988.0</td>\n",
              "      <td>2265.0</td>\n",
              "      <td>4786.0</td>\n",
              "      <td>0.0</td>\n",
              "      <td>0.877704</td>\n",
              "      <td>0.007264</td>\n",
              "    </tr>\n",
              "    <tr>\n",
              "      <th>9</th>\n",
              "      <td>1969-01-17</td>\n",
              "      <td>1991.0</td>\n",
              "      <td>2270.0</td>\n",
              "      <td>6886.0</td>\n",
              "      <td>0.0</td>\n",
              "      <td>0.877093</td>\n",
              "      <td>0.007248</td>\n",
              "    </tr>\n",
              "    <tr>\n",
              "      <th>10</th>\n",
              "      <td>1969-01-24</td>\n",
              "      <td>1971.0</td>\n",
              "      <td>2245.0</td>\n",
              "      <td>7055.0</td>\n",
              "      <td>0.0</td>\n",
              "      <td>0.877951</td>\n",
              "      <td>0.007329</td>\n",
              "    </tr>\n",
              "    <tr>\n",
              "      <th>11</th>\n",
              "      <td>1969-01-31</td>\n",
              "      <td>1975.0</td>\n",
              "      <td>2251.0</td>\n",
              "      <td>7225.0</td>\n",
              "      <td>0.0</td>\n",
              "      <td>0.877388</td>\n",
              "      <td>0.007309</td>\n",
              "    </tr>\n",
              "    <tr>\n",
              "      <th>12</th>\n",
              "      <td>1970-06-18</td>\n",
              "      <td>1823.0</td>\n",
              "      <td>2069.0</td>\n",
              "      <td>27030.0</td>\n",
              "      <td>0.0</td>\n",
              "      <td>0.881102</td>\n",
              "      <td>0.007952</td>\n",
              "    </tr>\n",
              "    <tr>\n",
              "      <th>13</th>\n",
              "      <td>1970-07-16</td>\n",
              "      <td>1840.0</td>\n",
              "      <td>2090.0</td>\n",
              "      <td>27890.0</td>\n",
              "      <td>0.0</td>\n",
              "      <td>0.880383</td>\n",
              "      <td>0.007872</td>\n",
              "    </tr>\n",
              "    <tr>\n",
              "      <th>14</th>\n",
              "      <td>1970-07-22</td>\n",
              "      <td>1820.0</td>\n",
              "      <td>2066.0</td>\n",
              "      <td>28040.0</td>\n",
              "      <td>0.0</td>\n",
              "      <td>0.880929</td>\n",
              "      <td>0.007964</td>\n",
              "    </tr>\n",
              "    <tr>\n",
              "      <th>15</th>\n",
              "      <td>1970-09-23</td>\n",
              "      <td>1839.0</td>\n",
              "      <td>2087.0</td>\n",
              "      <td>29530.0</td>\n",
              "      <td>0.0</td>\n",
              "      <td>0.881169</td>\n",
              "      <td>0.007884</td>\n",
              "    </tr>\n",
              "    <tr>\n",
              "      <th>16</th>\n",
              "      <td>1970-09-25</td>\n",
              "      <td>1829.0</td>\n",
              "      <td>2076.0</td>\n",
              "      <td>29610.0</td>\n",
              "      <td>0.0</td>\n",
              "      <td>0.881021</td>\n",
              "      <td>0.007926</td>\n",
              "    </tr>\n",
              "    <tr>\n",
              "      <th>17</th>\n",
              "      <td>1971-02-02</td>\n",
              "      <td>1731.0</td>\n",
              "      <td>1959.0</td>\n",
              "      <td>38920.0</td>\n",
              "      <td>5995.0</td>\n",
              "      <td>0.883614</td>\n",
              "      <td>0.008399</td>\n",
              "    </tr>\n",
              "    <tr>\n",
              "      <th>18</th>\n",
              "      <td>1971-02-18</td>\n",
              "      <td>1722.0</td>\n",
              "      <td>1947.0</td>\n",
              "      <td>40220.0</td>\n",
              "      <td>8427.0</td>\n",
              "      <td>0.884438</td>\n",
              "      <td>0.008451</td>\n",
              "    </tr>\n",
              "    <tr>\n",
              "      <th>19</th>\n",
              "      <td>1971-02-19</td>\n",
              "      <td>1727.0</td>\n",
              "      <td>1954.0</td>\n",
              "      <td>40290.0</td>\n",
              "      <td>8427.0</td>\n",
              "      <td>0.883828</td>\n",
              "      <td>0.008420</td>\n",
              "    </tr>\n",
              "  </tbody>\n",
              "</table>\n",
              "</div>"
            ],
            "text/plain": [
              "         date       p     p/z       Gp      Wp         z        Bg\n",
              "0  1964-12-01  2039.0  2326.0      0.0     0.0  0.876612  0.007074\n",
              "1  1964-12-10  2026.0  2311.0      4.0     0.0  0.876677  0.007120\n",
              "2  1965-03-26  2031.0  2316.0      7.0     0.0  0.876943  0.007104\n",
              "3  1967-01-25  2021.0  2304.0    258.0     0.0  0.877170  0.007141\n",
              "4  1967-05-12  2021.0  2304.0    265.0     0.0  0.877170  0.007141\n",
              "5  1967-05-29  2031.0  2316.0    267.0     0.0  0.876943  0.007104\n",
              "6  1968-08-19  1982.0  2259.0   4767.0     0.0  0.877379  0.007284\n",
              "7  1968-08-20  1984.0  2261.0   4767.0     0.0  0.877488  0.007277\n",
              "8  1968-09-06  1988.0  2265.0   4786.0     0.0  0.877704  0.007264\n",
              "9  1969-01-17  1991.0  2270.0   6886.0     0.0  0.877093  0.007248\n",
              "10 1969-01-24  1971.0  2245.0   7055.0     0.0  0.877951  0.007329\n",
              "11 1969-01-31  1975.0  2251.0   7225.0     0.0  0.877388  0.007309\n",
              "12 1970-06-18  1823.0  2069.0  27030.0     0.0  0.881102  0.007952\n",
              "13 1970-07-16  1840.0  2090.0  27890.0     0.0  0.880383  0.007872\n",
              "14 1970-07-22  1820.0  2066.0  28040.0     0.0  0.880929  0.007964\n",
              "15 1970-09-23  1839.0  2087.0  29530.0     0.0  0.881169  0.007884\n",
              "16 1970-09-25  1829.0  2076.0  29610.0     0.0  0.881021  0.007926\n",
              "17 1971-02-02  1731.0  1959.0  38920.0  5995.0  0.883614  0.008399\n",
              "18 1971-02-18  1722.0  1947.0  40220.0  8427.0  0.884438  0.008451\n",
              "19 1971-02-19  1727.0  1954.0  40290.0  8427.0  0.883828  0.008420"
            ]
          },
          "metadata": {
            "tags": []
          },
          "execution_count": 10
        }
      ]
    },
    {
      "cell_type": "code",
      "metadata": {
        "id": "uMwKTUjYannX",
        "colab_type": "code",
        "colab": {
          "base_uri": "https://localhost:8080/",
          "height": 312
        },
        "outputId": "81eafb02-7e8b-4968-c9b2-04c0cb4cd545"
      },
      "source": [
        "Gp = data['Gp'].values\n",
        "Bg = data['Bg'].values\n",
        "\n",
        "F = Gp * Bg\n",
        "Eg = Bg - Bg[0]\n",
        "\n",
        "plt.plot(Eg, F, '.')\n",
        "plt.title('Plot 9.1: F vs Eg')\n",
        "plt.xlabel('Eg'); plt.ylabel('F')\n",
        "plt.xlim(xmin=0); plt.ylim(ymin=0)"
      ],
      "execution_count": 11,
      "outputs": [
        {
          "output_type": "execute_result",
          "data": {
            "text/plain": [
              "(0.0, 356.894181)"
            ]
          },
          "metadata": {
            "tags": []
          },
          "execution_count": 11
        },
        {
          "output_type": "display_data",
          "data": {
            "image/png": "[encoded data removed]",
            "text/plain": [
              "<Figure size 432x288 with 1 Axes>"
            ]
          },
          "metadata": {
            "tags": [],
            "needs_background": "light"
          }
        }
      ]
    },
    {
      "cell_type": "code",
      "metadata": {
        "id": "wi6Sg40Md4pu",
        "colab_type": "code",
        "colab": {}
      },
      "source": [
        "def linear(x, a):\n",
        "  # a: slope\n",
        "  # b = 0, intercept at origin (0,0)\n",
        "  y = a * x\n",
        "  return(y)"
      ],
      "execution_count": 0,
      "outputs": []
    },
    {
      "cell_type": "code",
      "metadata": {
        "id": "aZzzEY9XcSsx",
        "colab_type": "code",
        "colab": {
          "base_uri": "https://localhost:8080/",
          "height": 329
        },
        "outputId": "4e29aa95-05f7-48b1-dd59-f08ad23d310f"
      },
      "source": [
        "popt, pcov = curve_fit(linear, Eg, F)\n",
        "print('Apparent Gas in Place:', popt[0] * 1E-03, 'Bscf')\n",
        "\n",
        "y = popt[0] * Eg\n",
        "\n",
        "plt.plot(Eg, F, '.')\n",
        "plt.plot(Eg, y)\n",
        "plt.title('Plot 9.1: F vs Eg')\n",
        "plt.xlabel('Eg'); plt.ylabel('F')\n",
        "plt.xlim(xmin=0); plt.ylim(ymin=0)"
      ],
      "execution_count": 13,
      "outputs": [
        {
          "output_type": "stream",
          "text": [
            "Apparent Gas in Place: 253.4293146193645 Bscf\n"
          ],
          "name": "stdout"
        },
        {
          "output_type": "execute_result",
          "data": {
            "text/plain": [
              "(0.0, 366.4207745424083)"
            ]
          },
          "metadata": {
            "tags": []
          },
          "execution_count": 13
        },
        {
          "output_type": "display_data",
          "data": {
            "image/png": "[encoded data removed]",
            "text/plain": [
              "<Figure size 432x288 with 1 Axes>"
            ]
          },
          "metadata": {
            "tags": [],
            "needs_background": "light"
          }
        }
      ]
    },
    {
      "cell_type": "markdown",
      "metadata": {
        "id": "OyzGHA4bgGHI",
        "colab_type": "text"
      },
      "source": [
        "### Task 2. \n",
        "\n",
        "Use Plot 9.3 to show existence of waterdrive and calculate aquifer influx using material balance.\n",
        "\n",
        "From Plot 9.3 below, the data is not horizontal. Thus, it confirms the presence of waterdrive.\n",
        "\n",
        "Material balance for aquifer influx:\n",
        "\n",
        "$$W_e=B_wW_p+F-G_{fgi}E_g-G_{fgi}B_{gi}E_{fw}$$\n",
        "\n",
        "**Aquifer influx can't be answered** because of minus values: $F$ less than $G_{fgi}E_g$, so $(F-G_{fgi}E_g) < 0$ "
      ]
    },
    {
      "cell_type": "code",
      "metadata": {
        "id": "hYmEqMlbgcbr",
        "colab_type": "code",
        "colab": {
          "base_uri": "https://localhost:8080/",
          "height": 418
        },
        "outputId": "a68243c9-6882-48de-94ad-92d235b7d243"
      },
      "source": [
        "plt.figure(figsize=(13,5))\n",
        "\n",
        "plt.subplot(1,2,1)\n",
        "plt.plot(Gp, F/Eg, '.')\n",
        "plt.title('Plot 9.3: F/Eg vs Gp')\n",
        "plt.xlabel('Gp'); plt.ylabel('F/Eg')\n",
        "plt.xlim(xmin=0), plt.ylim(ymin=0)\n",
        "\n",
        "plt.subplot(1,2,2)\n",
        "plt.plot(data['date'], F/Eg, '.')\n",
        "plt.title('Plot 9.3: F/Eg vs time')\n",
        "plt.xlabel('t'); plt.ylabel('F/Eg')\n",
        "plt.ylim(ymin=0)\n",
        "\n",
        "plt.show()"
      ],
      "execution_count": 14,
      "outputs": [
        {
          "output_type": "stream",
          "text": [
            "/usr/local/lib/python3.6/dist-packages/ipykernel_launcher.py:4: RuntimeWarning: invalid value encountered in true_divide\n",
            "  after removing the cwd from sys.path.\n",
            "/usr/local/lib/python3.6/dist-packages/ipykernel_launcher.py:10: RuntimeWarning: invalid value encountered in true_divide\n",
            "  # Remove the CWD from sys.path while we load stuff.\n"
          ],
          "name": "stderr"
        },
        {
          "output_type": "display_data",
          "data": {
            "image/png": "[encoded data removed]",
            "text/plain": [
              "<Figure size 936x360 with 2 Axes>"
            ]
          },
          "metadata": {
            "tags": [],
            "needs_background": "light"
          }
        }
      ]
    },
    {
      "cell_type": "code",
      "metadata": {
        "id": "h7Vi03Y0ky6P",
        "colab_type": "code",
        "colab": {}
      },
      "source": [
        "def waterfvf(temp, p):\n",
        "  \"Water FVF (Bw)\"\n",
        "  # temp in Fahrenheit\n",
        "  # p pressure in psia\n",
        "  Vwp = (-1.95301E-9 * p * temp) - (1.72834E-13 * (p**2) * temp) - (3.588922E-7 * p) - (2.25341E-10 * p**2)\n",
        "  Vwt = (-1E-2) + (1.33391E-2 * temp) + (5.50654E-7 * temp**2)\n",
        "  Bw = (1 + Vwt) * (1 + Vwp)\n",
        "  return(Bw)"
      ],
      "execution_count": 0,
      "outputs": []
    },
    {
      "cell_type": "code",
      "metadata": {
        "id": "W_gF3vQyr0E3",
        "colab_type": "code",
        "colab": {
          "base_uri": "https://localhost:8080/",
          "height": 134
        },
        "outputId": "e069e23b-db7b-4d38-e80f-7eae06eb7ded"
      },
      "source": [
        "p = data['p'].values\n",
        "Wp = data['Wp'].values\n",
        "Gfgi = popt[0]\n",
        "\n",
        "\"Calculate water FVF\"\n",
        "\n",
        "Bw = []\n",
        "for i in range(len(p)):\n",
        "  bw = waterfvf(temp, p[i])\n",
        "  Bw.append(bw)\n",
        "\n",
        "\"Calculate aquifer influx\"\n",
        "Efw = ((cf + cw * sw) / (1 - sw)) * ((data['p'].values)[0] - (data['p'].values))\n",
        "F = (Gp * 1E+06) * Bg # result in ft3\n",
        "Gfgi_Eg = (Gfgi * 1E+06) * Eg # result in ft3\n",
        "Gfgi_Bgi_Efw = (Gfgi * 1E+06) * Bg[0] * Efw\n",
        "Bw_Wp = Bw * Wp\n",
        "We = Bw_Wp + F - Gfgi_Eg - Gfgi_Bgi_Efw\n",
        "We"
      ],
      "execution_count": 17,
      "outputs": [
        {
          "output_type": "execute_result",
          "data": {
            "text/plain": [
              "array([        0.        , -11762111.91228784,  -7634901.24768704,\n",
              "       -15321323.14998542, -15271336.14998542,  -5787861.24768704,\n",
              "       -19079795.45994528, -17318721.80533306, -13907220.81072845,\n",
              "         5322528.40159592, -13613253.60533707,  -7402362.40839689,\n",
              "        -9775623.08165726,  15279960.43224127,  -4479431.03550462,\n",
              "        25493029.93067074,  16621151.45527515, -12036417.14505811,\n",
              "       -12290195.69062728,  -5040213.46682443])"
            ]
          },
          "metadata": {
            "tags": []
          },
          "execution_count": 17
        }
      ]
    },
    {
      "cell_type": "markdown",
      "metadata": {
        "id": "En7392tElzl3",
        "colab_type": "text"
      },
      "source": [
        "## Problem 9.4"
      ]
    },
    {
      "cell_type": "markdown",
      "metadata": {
        "id": "53-lRMhAmGpa",
        "colab_type": "text"
      },
      "source": [
        "Estimate the OGIP and determine what drive mechanism\n",
        "\n",
        "Drive mechanism from the Plots indicates volumetric (gas expansion). Both Plots curve downward, indicates water and formation compressibility plays enough important role (not negligible)\n",
        "\n",
        "My OGIP answer is 460 Bscf, book's answer is 330 Bscf. Huge difference???"
      ]
    },
    {
      "cell_type": "code",
      "metadata": {
        "id": "yWqwAmc_yH4j",
        "colab_type": "code",
        "colab": {
          "base_uri": "https://localhost:8080/",
          "height": 462
        },
        "outputId": "f126ce96-3514-4585-9f90-a619d4665173"
      },
      "source": [
        "# Task. estimate OGIP and determine drive mech\n",
        "\n",
        "# knowns\n",
        "sw = 0.22 # water sat\n",
        "cw = 3E-6 # water compressibility\n",
        "cf = 19.5E-6 # formation compressibility\n",
        "temp = 263 # fahrenheit\n",
        "sg = 0.6 # specific gravity\n",
        "\n",
        "columns = ['date', 'p', 'z', 'Gp', 'Bg']\n",
        "data = pd.read_csv('/content/reservoir-engineering/Unit 9 Dry-Gas Reservoirs/data/Table 9.12-Reservoir Properties and Production Data for Problem 9.4.csv', names=columns)\n",
        "\n",
        "data['date'] =  pd.to_datetime(data['date'], format='%d %B %Y') # format check web: https://strftime.org/\n",
        "# data.head(10)\n",
        "data"
      ],
      "execution_count": 18,
      "outputs": [
        {
          "output_type": "execute_result",
          "data": {
            "text/html": [
              "<div>\n",
              "<style scoped>\n",
              "    .dataframe tbody tr th:only-of-type {\n",
              "        vertical-align: middle;\n",
              "    }\n",
              "\n",
              "    .dataframe tbody tr th {\n",
              "        vertical-align: top;\n",
              "    }\n",
              "\n",
              "    .dataframe thead th {\n",
              "        text-align: right;\n",
              "    }\n",
              "</style>\n",
              "<table border=\"1\" class=\"dataframe\">\n",
              "  <thead>\n",
              "    <tr style=\"text-align: right;\">\n",
              "      <th></th>\n",
              "      <th>date</th>\n",
              "      <th>p</th>\n",
              "      <th>z</th>\n",
              "      <th>Gp</th>\n",
              "      <th>Bg</th>\n",
              "    </tr>\n",
              "  </thead>\n",
              "  <tbody>\n",
              "    <tr>\n",
              "      <th>0</th>\n",
              "      <td>1966-01-25</td>\n",
              "      <td>11444</td>\n",
              "      <td>1.496</td>\n",
              "      <td>0.00</td>\n",
              "      <td>0.002672</td>\n",
              "    </tr>\n",
              "    <tr>\n",
              "      <th>1</th>\n",
              "      <td>1967-02-01</td>\n",
              "      <td>10674</td>\n",
              "      <td>1.438</td>\n",
              "      <td>9.92</td>\n",
              "      <td>0.002753</td>\n",
              "    </tr>\n",
              "    <tr>\n",
              "      <th>2</th>\n",
              "      <td>1968-02-01</td>\n",
              "      <td>10131</td>\n",
              "      <td>1.397</td>\n",
              "      <td>28.62</td>\n",
              "      <td>0.002818</td>\n",
              "    </tr>\n",
              "    <tr>\n",
              "      <th>3</th>\n",
              "      <td>1969-06-01</td>\n",
              "      <td>9253</td>\n",
              "      <td>1.330</td>\n",
              "      <td>53.60</td>\n",
              "      <td>0.002938</td>\n",
              "    </tr>\n",
              "    <tr>\n",
              "      <th>4</th>\n",
              "      <td>1970-06-01</td>\n",
              "      <td>8574</td>\n",
              "      <td>1.280</td>\n",
              "      <td>77.67</td>\n",
              "      <td>0.003051</td>\n",
              "    </tr>\n",
              "    <tr>\n",
              "      <th>5</th>\n",
              "      <td>1971-06-01</td>\n",
              "      <td>7906</td>\n",
              "      <td>1.230</td>\n",
              "      <td>101.42</td>\n",
              "      <td>0.003180</td>\n",
              "    </tr>\n",
              "    <tr>\n",
              "      <th>6</th>\n",
              "      <td>1972-06-01</td>\n",
              "      <td>7380</td>\n",
              "      <td>1.192</td>\n",
              "      <td>120.36</td>\n",
              "      <td>0.003301</td>\n",
              "    </tr>\n",
              "    <tr>\n",
              "      <th>7</th>\n",
              "      <td>1973-09-01</td>\n",
              "      <td>6847</td>\n",
              "      <td>1.154</td>\n",
              "      <td>145.01</td>\n",
              "      <td>0.003445</td>\n",
              "    </tr>\n",
              "    <tr>\n",
              "      <th>8</th>\n",
              "      <td>1974-08-01</td>\n",
              "      <td>6388</td>\n",
              "      <td>1.122</td>\n",
              "      <td>160.63</td>\n",
              "      <td>0.003590</td>\n",
              "    </tr>\n",
              "    <tr>\n",
              "      <th>9</th>\n",
              "      <td>1975-08-01</td>\n",
              "      <td>5827</td>\n",
              "      <td>1.084</td>\n",
              "      <td>182.34</td>\n",
              "      <td>0.003802</td>\n",
              "    </tr>\n",
              "    <tr>\n",
              "      <th>10</th>\n",
              "      <td>1976-06-10</td>\n",
              "      <td>5409</td>\n",
              "      <td>1.057</td>\n",
              "      <td>197.73</td>\n",
              "      <td>0.003994</td>\n",
              "    </tr>\n",
              "    <tr>\n",
              "      <th>11</th>\n",
              "      <td>1977-06-01</td>\n",
              "      <td>5000</td>\n",
              "      <td>1.033</td>\n",
              "      <td>215.66</td>\n",
              "      <td>0.004223</td>\n",
              "    </tr>\n",
              "    <tr>\n",
              "      <th>12</th>\n",
              "      <td>1978-08-01</td>\n",
              "      <td>4500</td>\n",
              "      <td>1.005</td>\n",
              "      <td>235.74</td>\n",
              "      <td>0.004565</td>\n",
              "    </tr>\n",
              "    <tr>\n",
              "      <th>13</th>\n",
              "      <td>1979-08-01</td>\n",
              "      <td>4170</td>\n",
              "      <td>0.988</td>\n",
              "      <td>245.90</td>\n",
              "      <td>0.004843</td>\n",
              "    </tr>\n",
              "  </tbody>\n",
              "</table>\n",
              "</div>"
            ],
            "text/plain": [
              "         date      p      z      Gp        Bg\n",
              "0  1966-01-25  11444  1.496    0.00  0.002672\n",
              "1  1967-02-01  10674  1.438    9.92  0.002753\n",
              "2  1968-02-01  10131  1.397   28.62  0.002818\n",
              "3  1969-06-01   9253  1.330   53.60  0.002938\n",
              "4  1970-06-01   8574  1.280   77.67  0.003051\n",
              "5  1971-06-01   7906  1.230  101.42  0.003180\n",
              "6  1972-06-01   7380  1.192  120.36  0.003301\n",
              "7  1973-09-01   6847  1.154  145.01  0.003445\n",
              "8  1974-08-01   6388  1.122  160.63  0.003590\n",
              "9  1975-08-01   5827  1.084  182.34  0.003802\n",
              "10 1976-06-10   5409  1.057  197.73  0.003994\n",
              "11 1977-06-01   5000  1.033  215.66  0.004223\n",
              "12 1978-08-01   4500  1.005  235.74  0.004565\n",
              "13 1979-08-01   4170  0.988  245.90  0.004843"
            ]
          },
          "metadata": {
            "tags": []
          },
          "execution_count": 18
        }
      ]
    },
    {
      "cell_type": "code",
      "metadata": {
        "id": "i3v6OOR90AcR",
        "colab_type": "code",
        "colab": {
          "base_uri": "https://localhost:8080/",
          "height": 350
        },
        "outputId": "0efca070-0c14-40da-dd60-a37e0403d38a"
      },
      "source": [
        "# Task. calculate OGIP and determine drive mechanism\n",
        "\n",
        "pz = data['p'].values / data['z'].values\n",
        "Gp = data['Gp'].values\n",
        "Bg = data['Bg'].values\n",
        "F = Gp * Bg\n",
        "Eg = Bg - Bg[0]\n",
        "\n",
        "plt.figure(figsize=(15,5))\n",
        "\n",
        "plt.subplot(1,2,1)\n",
        "plt.plot(Eg, F, '.-')\n",
        "plt.title('Plot 9.1: F vs Eg')\n",
        "plt.xlabel('Eg (res ft3/scf)'); plt.ylabel('F (million res ft3)')\n",
        "plt.xlim(xmin=0); plt.ylim(ymin=0)\n",
        "\n",
        "plt.subplot(1,2,2)\n",
        "plt.plot(Gp, pz, '.-')\n",
        "plt.title('Plot 9.2: p/z vs Gp')\n",
        "plt.xlabel('Gp (Bscf)'); plt.ylabel('p/z (psia)')\n",
        "plt.xlim(xmin=0)\n",
        "\n",
        "plt.show()"
      ],
      "execution_count": 19,
      "outputs": [
        {
          "output_type": "display_data",
          "data": {
            "image/png": "[encoded data removed]",
            "text/plain": [
              "<Figure size 1080x360 with 2 Axes>"
            ]
          },
          "metadata": {
            "tags": [],
            "needs_background": "light"
          }
        }
      ]
    },
    {
      "cell_type": "markdown",
      "metadata": {
        "id": "8QLy05Mz9_Gd",
        "colab_type": "text"
      },
      "source": [
        "So, use Plot 9.6 and 9.7 to determine OGIP of an overpressured reservoir"
      ]
    },
    {
      "cell_type": "code",
      "metadata": {
        "id": "UQNuOFCr-FOD",
        "colab_type": "code",
        "colab": {
          "base_uri": "https://localhost:8080/",
          "height": 50
        },
        "outputId": "01583541-87e0-4eb8-d12c-f41dd46ed6b6"
      },
      "source": [
        "\"Compute parameters for Plot 9.6 and 9.7\"\n",
        "\n",
        "# Eg+Bgi*Efw\n",
        "Efw = ((cf + cw * sw) / (1 - sw)) * ((data['p'].values)[0] - (data['p'].values))\n",
        "Eg_Bgi_Efw = Eg + Bg[0] * Efw\n",
        "\n",
        "# F/(Eg+Bgi*Efw)\n",
        "F_Eg_Bgi_Efw = F / Eg_Bgi_Efw\n",
        "\n",
        "# (p/z)*(1-Efw)\n",
        "p_z_Efw = pz * (1 - Efw)"
      ],
      "execution_count": 20,
      "outputs": [
        {
          "output_type": "stream",
          "text": [
            "/usr/local/lib/python3.6/dist-packages/ipykernel_launcher.py:8: RuntimeWarning: invalid value encountered in true_divide\n",
            "  \n"
          ],
          "name": "stderr"
        }
      ]
    },
    {
      "cell_type": "code",
      "metadata": {
        "id": "xoYJ0rDEAA_n",
        "colab_type": "code",
        "colab": {}
      },
      "source": [
        "def linear(x, a, b):\n",
        "  # for Plot 9.2\n",
        "  # a: slope\n",
        "  # b: intercept\n",
        "  y = a * x + b\n",
        "  return(y)"
      ],
      "execution_count": 0,
      "outputs": []
    },
    {
      "cell_type": "code",
      "metadata": {
        "id": "yUqD99THADzh",
        "colab_type": "code",
        "colab": {
          "base_uri": "https://localhost:8080/",
          "height": 386
        },
        "outputId": "689e1819-a308-4d48-c47d-20de739261b3"
      },
      "source": [
        "popt1, pcov1 = curve_fit(linear, Eg_Bgi_Efw, F)\n",
        "popt2, pcov2 = curve_fit(linear, Gp, p_z_Efw)\n",
        "\n",
        "# regression line\n",
        "y1 = popt1[0] * Eg_Bgi_Efw + popt1[1]\n",
        "y2 = popt2[0] * Gp + popt2[1]\n",
        "\n",
        "ogip1 = popt1[0]\n",
        "ogip2 = np.abs(popt2[1] / popt2[0])\n",
        "print('OGIP from Plot 9.6:', ogip1, 'Bscf')\n",
        "print('OGIP from Plot 9.7:', ogip2, 'Bscf')\n",
        "\n",
        "plt.figure(figsize=(15,5))\n",
        "\n",
        "plt.subplot(1,2,1)\n",
        "plt.plot(Eg_Bgi_Efw, F, '.', label='Data')\n",
        "plt.plot(Eg_Bgi_Efw, y1, label='y={}x+({})'.format(np.round(popt1[0], 4), \n",
        "                                                   np.round(popt1[1], 4)))\n",
        "plt.title('Plot 9.6: F vs (Eg+Bgi*Efw)', size=15)\n",
        "plt.xlim(xmin=0); plt.ylim(ymin=0)\n",
        "plt.xlabel('Eg+Bgi*Efw'); plt.ylabel('F')\n",
        "plt.legend(loc='lower right')\n",
        "\n",
        "plt.subplot(1,2,2)\n",
        "plt.plot(data['Gp'].values, p_z_Efw, '.', label='Data')\n",
        "plt.plot(data['Gp'].values, y2, label='y={}x+({})'.format(np.round(popt2[0], 4), \n",
        "                                                          np.round(popt2[1], 4)))\n",
        "plt.title('Plot 9.7: p/z*(1-Efw) vs Gp', size=15)\n",
        "plt.xlim(xmin=0)\n",
        "plt.xlabel('Gp'); plt.ylabel('p/z')\n",
        "plt.legend(loc='lower left')\n",
        "\n",
        "plt.show()"
      ],
      "execution_count": 22,
      "outputs": [
        {
          "output_type": "stream",
          "text": [
            "OGIP from Plot 9.6: 461.86620028887415 Bscf\n",
            "OGIP from Plot 9.7: 462.63171034068205 Bscf\n"
          ],
          "name": "stdout"
        },
        {
          "output_type": "display_data",
          "data": {
            "image/png": "[encoded data removed]",
            "text/plain": [
              "<Figure size 1080x360 with 2 Axes>"
            ]
          },
          "metadata": {
            "tags": [],
            "needs_background": "light"
          }
        }
      ]
    },
    {
      "cell_type": "markdown",
      "metadata": {
        "id": "FrF-umqLBy9L",
        "colab_type": "text"
      },
      "source": [
        "## Problem 9.5\n",
        "\n",
        "Task 1. Use Plot 9.1 to calculate apparent gas in place, and Plot 9.3 to confirm waterdrive\n",
        "\n",
        "Task 2. Calculate aquifer influx amount by material balance, OGIP 1.325 Tscf"
      ]
    },
    {
      "cell_type": "code",
      "metadata": {
        "id": "yluin9ccB1MI",
        "colab_type": "code",
        "colab": {
          "base_uri": "https://localhost:8080/",
          "height": 610
        },
        "outputId": "cdbd3f2c-40d4-4d03-a835-05806a63af70"
      },
      "source": [
        "columns = ['months', 'p', 'F', 'Eg']\n",
        "data = pd.read_csv('/content/reservoir-engineering/Unit 9 Dry-Gas Reservoirs/data/Table 9.13-Data for Problem 9.5.csv', names=columns)\n",
        "data"
      ],
      "execution_count": 23,
      "outputs": [
        {
          "output_type": "execute_result",
          "data": {
            "text/html": [
              "<div>\n",
              "<style scoped>\n",
              "    .dataframe tbody tr th:only-of-type {\n",
              "        vertical-align: middle;\n",
              "    }\n",
              "\n",
              "    .dataframe tbody tr th {\n",
              "        vertical-align: top;\n",
              "    }\n",
              "\n",
              "    .dataframe thead th {\n",
              "        text-align: right;\n",
              "    }\n",
              "</style>\n",
              "<table border=\"1\" class=\"dataframe\">\n",
              "  <thead>\n",
              "    <tr style=\"text-align: right;\">\n",
              "      <th></th>\n",
              "      <th>months</th>\n",
              "      <th>p</th>\n",
              "      <th>F</th>\n",
              "      <th>Eg</th>\n",
              "    </tr>\n",
              "  </thead>\n",
              "  <tbody>\n",
              "    <tr>\n",
              "      <th>0</th>\n",
              "      <td>0</td>\n",
              "      <td>2883</td>\n",
              "      <td>0.0000</td>\n",
              "      <td>0.0</td>\n",
              "    </tr>\n",
              "    <tr>\n",
              "      <th>1</th>\n",
              "      <td>2</td>\n",
              "      <td>2881</td>\n",
              "      <td>5.5340</td>\n",
              "      <td>4.0</td>\n",
              "    </tr>\n",
              "    <tr>\n",
              "      <th>2</th>\n",
              "      <td>4</td>\n",
              "      <td>2874</td>\n",
              "      <td>24.5967</td>\n",
              "      <td>18.0</td>\n",
              "    </tr>\n",
              "    <tr>\n",
              "      <th>3</th>\n",
              "      <td>6</td>\n",
              "      <td>2866</td>\n",
              "      <td>51.1776</td>\n",
              "      <td>34.0</td>\n",
              "    </tr>\n",
              "    <tr>\n",
              "      <th>4</th>\n",
              "      <td>8</td>\n",
              "      <td>2857</td>\n",
              "      <td>76.9426</td>\n",
              "      <td>52.0</td>\n",
              "    </tr>\n",
              "    <tr>\n",
              "      <th>5</th>\n",
              "      <td>10</td>\n",
              "      <td>2849</td>\n",
              "      <td>103.3184</td>\n",
              "      <td>68.0</td>\n",
              "    </tr>\n",
              "    <tr>\n",
              "      <th>6</th>\n",
              "      <td>12</td>\n",
              "      <td>2841</td>\n",
              "      <td>131.5371</td>\n",
              "      <td>85.0</td>\n",
              "    </tr>\n",
              "    <tr>\n",
              "      <th>7</th>\n",
              "      <td>14</td>\n",
              "      <td>2826</td>\n",
              "      <td>180.0178</td>\n",
              "      <td>116.5</td>\n",
              "    </tr>\n",
              "    <tr>\n",
              "      <th>8</th>\n",
              "      <td>16</td>\n",
              "      <td>2808</td>\n",
              "      <td>240.7764</td>\n",
              "      <td>154.5</td>\n",
              "    </tr>\n",
              "    <tr>\n",
              "      <th>9</th>\n",
              "      <td>18</td>\n",
              "      <td>2794</td>\n",
              "      <td>291.3014</td>\n",
              "      <td>185.5</td>\n",
              "    </tr>\n",
              "    <tr>\n",
              "      <th>10</th>\n",
              "      <td>20</td>\n",
              "      <td>2782</td>\n",
              "      <td>336.6281</td>\n",
              "      <td>212.0</td>\n",
              "    </tr>\n",
              "    <tr>\n",
              "      <th>11</th>\n",
              "      <td>22</td>\n",
              "      <td>2767</td>\n",
              "      <td>392.8592</td>\n",
              "      <td>246.0</td>\n",
              "    </tr>\n",
              "    <tr>\n",
              "      <th>12</th>\n",
              "      <td>24</td>\n",
              "      <td>2755</td>\n",
              "      <td>441.3134</td>\n",
              "      <td>273.5</td>\n",
              "    </tr>\n",
              "    <tr>\n",
              "      <th>13</th>\n",
              "      <td>26</td>\n",
              "      <td>2741</td>\n",
              "      <td>497.2907</td>\n",
              "      <td>305.5</td>\n",
              "    </tr>\n",
              "    <tr>\n",
              "      <th>14</th>\n",
              "      <td>28</td>\n",
              "      <td>2726</td>\n",
              "      <td>556.1110</td>\n",
              "      <td>340.0</td>\n",
              "    </tr>\n",
              "    <tr>\n",
              "      <th>15</th>\n",
              "      <td>30</td>\n",
              "      <td>2712</td>\n",
              "      <td>613.6513</td>\n",
              "      <td>373.5</td>\n",
              "    </tr>\n",
              "    <tr>\n",
              "      <th>16</th>\n",
              "      <td>32</td>\n",
              "      <td>2699</td>\n",
              "      <td>672.5969</td>\n",
              "      <td>405.0</td>\n",
              "    </tr>\n",
              "    <tr>\n",
              "      <th>17</th>\n",
              "      <td>34</td>\n",
              "      <td>2688</td>\n",
              "      <td>723.0868</td>\n",
              "      <td>432.5</td>\n",
              "    </tr>\n",
              "    <tr>\n",
              "      <th>18</th>\n",
              "      <td>36</td>\n",
              "      <td>2667</td>\n",
              "      <td>771.4902</td>\n",
              "      <td>455.5</td>\n",
              "    </tr>\n",
              "  </tbody>\n",
              "</table>\n",
              "</div>"
            ],
            "text/plain": [
              "    months     p         F     Eg\n",
              "0        0  2883    0.0000    0.0\n",
              "1        2  2881    5.5340    4.0\n",
              "2        4  2874   24.5967   18.0\n",
              "3        6  2866   51.1776   34.0\n",
              "4        8  2857   76.9426   52.0\n",
              "5       10  2849  103.3184   68.0\n",
              "6       12  2841  131.5371   85.0\n",
              "7       14  2826  180.0178  116.5\n",
              "8       16  2808  240.7764  154.5\n",
              "9       18  2794  291.3014  185.5\n",
              "10      20  2782  336.6281  212.0\n",
              "11      22  2767  392.8592  246.0\n",
              "12      24  2755  441.3134  273.5\n",
              "13      26  2741  497.2907  305.5\n",
              "14      28  2726  556.1110  340.0\n",
              "15      30  2712  613.6513  373.5\n",
              "16      32  2699  672.5969  405.0\n",
              "17      34  2688  723.0868  432.5\n",
              "18      36  2667  771.4902  455.5"
            ]
          },
          "metadata": {
            "tags": []
          },
          "execution_count": 23
        }
      ]
    }
  ]
}