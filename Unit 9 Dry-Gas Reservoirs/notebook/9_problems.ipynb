{
  "nbformat": 4,
  "nbformat_minor": 0,
  "metadata": {
    "colab": {
      "name": "9_problems.ipynb",
      "provenance": [],
      "collapsed_sections": [
        "BVLS6jR1sZIJ",
        "En7392tElzl3"
      ],
      "toc_visible": true,
      "authorship_tag": "ABX9TyMOcMa57zWqtDzn2O6YhCd0",
      "include_colab_link": true
    },
    "kernelspec": {
      "name": "python3",
      "display_name": "Python 3"
    }
  },
  "cells": [
    {
      "cell_type": "markdown",
      "metadata": {
        "id": "view-in-github",
        "colab_type": "text"
      },
      "source": [
        "<a href=\"https://colab.research.google.com/github/yohanesnuwara/reservoir-engineering/blob/master/Unit%209%20Dry-Gas%20Reservoirs/notebook/9_problems.ipynb\" target=\"_parent\"><img src=\"https://colab.research.google.com/assets/colab-badge.svg\" alt=\"Open In Colab\"/></a>"
      ]
    },
    {
      "cell_type": "markdown",
      "metadata": {
        "id": "hph39tTqsMNV",
        "colab_type": "text"
      },
      "source": [
        "# **Unit 9. Dry-Gas Reservoirs**"
      ]
    },
    {
      "cell_type": "code",
      "metadata": {
        "id": "yvSG30b-lRTb",
        "colab_type": "code",
        "colab": {
          "base_uri": "https://localhost:8080/",
          "height": 134
        },
        "outputId": "d571b70c-af65-4aa8-f31a-c136510b2eb1"
      },
      "source": [
        "!git clone https://github.com/yohanesnuwara/reservoir-engineering"
      ],
      "execution_count": 1,
      "outputs": [
        {
          "output_type": "stream",
          "text": [
            "Cloning into 'reservoir-engineering'...\n",
            "remote: Enumerating objects: 100, done.\u001b[K\n",
            "remote: Counting objects:   1% (1/100)\u001b[K\rremote: Counting objects:   2% (2/100)\u001b[K\rremote: Counting objects:   3% (3/100)\u001b[K\rremote: Counting objects:   4% (4/100)\u001b[K\rremote: Counting objects:   5% (5/100)\u001b[K\rremote: Counting objects:   6% (6/100)\u001b[K\rremote: Counting objects:   7% (7/100)\u001b[K\rremote: Counting objects:   8% (8/100)\u001b[K\rremote: Counting objects:   9% (9/100)\u001b[K\rremote: Counting objects:  10% (10/100)\u001b[K\rremote: Counting objects:  11% (11/100)\u001b[K\rremote: Counting objects:  12% (12/100)\u001b[K\rremote: Counting objects:  13% (13/100)\u001b[K\rremote: Counting objects:  14% (14/100)\u001b[K\rremote: Counting objects:  15% (15/100)\u001b[K\rremote: Counting objects:  16% (16/100)\u001b[K\rremote: Counting objects:  17% (17/100)\u001b[K\rremote: Counting objects:  18% (18/100)\u001b[K\rremote: Counting objects:  19% (19/100)\u001b[K\rremote: Counting objects:  20% (20/100)\u001b[K\rremote: Counting objects:  21% (21/100)\u001b[K\rremote: Counting objects:  22% (22/100)\u001b[K\rremote: Counting objects:  23% (23/100)\u001b[K\rremote: Counting objects:  24% (24/100)\u001b[K\rremote: Counting objects:  25% (25/100)\u001b[K\rremote: Counting objects:  26% (26/100)\u001b[K\rremote: Counting objects:  27% (27/100)\u001b[K\rremote: Counting objects:  28% (28/100)\u001b[K\rremote: Counting objects:  29% (29/100)\u001b[K\rremote: Counting objects:  30% (30/100)\u001b[K\rremote: Counting objects:  31% (31/100)\u001b[K\rremote: Counting objects:  32% (32/100)\u001b[K\rremote: Counting objects:  33% (33/100)\u001b[K\rremote: Counting objects:  34% (34/100)\u001b[K\rremote: Counting objects:  35% (35/100)\u001b[K\rremote: Counting objects:  36% (36/100)\u001b[K\rremote: Counting objects:  37% (37/100)\u001b[K\rremote: Counting objects:  38% (38/100)\u001b[K\rremote: Counting objects:  39% (39/100)\u001b[K\rremote: Counting objects:  40% (40/100)\u001b[K\rremote: Counting objects:  41% (41/100)\u001b[K\rremote: Counting objects:  42% (42/100)\u001b[K\rremote: Counting objects:  43% (43/100)\u001b[K\rremote: Counting objects:  44% (44/100)\u001b[K\rremote: Counting objects:  45% (45/100)\u001b[K\rremote: Counting objects:  46% (46/100)\u001b[K\rremote: Counting objects:  47% (47/100)\u001b[K\rremote: Counting objects:  48% (48/100)\u001b[K\rremote: Counting objects:  49% (49/100)\u001b[K\rremote: Counting objects:  50% (50/100)\u001b[K\rremote: Counting objects:  51% (51/100)\u001b[K\rremote: Counting objects:  52% (52/100)\u001b[K\rremote: Counting objects:  53% (53/100)\u001b[K\rremote: Counting objects:  54% (54/100)\u001b[K\rremote: Counting objects:  55% (55/100)\u001b[K\rremote: Counting objects:  56% (56/100)\u001b[K\rremote: Counting objects:  57% (57/100)\u001b[K\rremote: Counting objects:  58% (58/100)\u001b[K\rremote: Counting objects:  59% (59/100)\u001b[K\rremote: Counting objects:  60% (60/100)\u001b[K\rremote: Counting objects:  61% (61/100)\u001b[K\rremote: Counting objects:  62% (62/100)\u001b[K\rremote: Counting objects:  63% (63/100)\u001b[K\rremote: Counting objects:  64% (64/100)\u001b[K\rremote: Counting objects:  65% (65/100)\u001b[K\rremote: Counting objects:  66% (66/100)\u001b[K\rremote: Counting objects:  67% (67/100)\u001b[K\rremote: Counting objects:  68% (68/100)\u001b[K\rremote: Counting objects:  69% (69/100)\u001b[K\rremote: Counting objects:  70% (70/100)\u001b[K\rremote: Counting objects:  71% (71/100)\u001b[K\rremote: Counting objects:  72% (72/100)\u001b[K\rremote: Counting objects:  73% (73/100)\u001b[K\rremote: Counting objects:  74% (74/100)\u001b[K\rremote: Counting objects:  75% (75/100)\u001b[K\rremote: Counting objects:  76% (76/100)\u001b[K\rremote: Counting objects:  77% (77/100)\u001b[K\rremote: Counting objects:  78% (78/100)\u001b[K\rremote: Counting objects:  79% (79/100)\u001b[K\rremote: Counting objects:  80% (80/100)\u001b[K\rremote: Counting objects:  81% (81/100)\u001b[K\rremote: Counting objects:  82% (82/100)\u001b[K\rremote: Counting objects:  83% (83/100)\u001b[K\rremote: Counting objects:  84% (84/100)\u001b[K\rremote: Counting objects:  85% (85/100)\u001b[K\rremote: Counting objects:  86% (86/100)\u001b[K\rremote: Counting objects:  87% (87/100)\u001b[K\rremote: Counting objects:  88% (88/100)\u001b[K\rremote: Counting objects:  89% (89/100)\u001b[K\rremote: Counting objects:  90% (90/100)\u001b[K\rremote: Counting objects:  91% (91/100)\u001b[K\rremote: Counting objects:  92% (92/100)\u001b[K\rremote: Counting objects:  93% (93/100)\u001b[K\rremote: Counting objects:  94% (94/100)\u001b[K\rremote: Counting objects:  95% (95/100)\u001b[K\rremote: Counting objects:  96% (96/100)\u001b[K\rremote: Counting objects:  97% (97/100)\u001b[K\rremote: Counting objects:  98% (98/100)\u001b[K\rremote: Counting objects:  99% (99/100)\u001b[K\rremote: Counting objects: 100% (100/100)\u001b[K\rremote: Counting objects: 100% (100/100), done.\u001b[K\n",
            "remote: Compressing objects: 100% (98/98), done.\u001b[K\n",
            "remote: Total 1009 (delta 51), reused 0 (delta 0), pack-reused 909\u001b[K\n",
            "Receiving objects: 100% (1009/1009), 12.60 MiB | 14.84 MiB/s, done.\n",
            "Resolving deltas: 100% (446/446), done.\n"
          ],
          "name": "stdout"
        }
      ]
    },
    {
      "cell_type": "code",
      "metadata": {
        "id": "xmknNKYj4ci3",
        "colab_type": "code",
        "colab": {}
      },
      "source": [
        "import numpy as np\n",
        "import matplotlib.pyplot as plt\n",
        "import pandas as pd\n",
        "from scipy.optimize import curve_fit"
      ],
      "execution_count": 0,
      "outputs": []
    },
    {
      "cell_type": "markdown",
      "metadata": {
        "id": "BVLS6jR1sZIJ",
        "colab_type": "text"
      },
      "source": [
        "## Problem 9.1"
      ]
    },
    {
      "cell_type": "markdown",
      "metadata": {
        "id": "Ap0VuFrw0K-7",
        "colab_type": "text"
      },
      "source": [
        "No information on gas production (Gp)? Answers recovery factor (Fr) incorrect? Correct answer from book, Fr under waterdrive condition is 0.65?"
      ]
    },
    {
      "cell_type": "code",
      "metadata": {
        "id": "9iihz2yerk66",
        "colab_type": "code",
        "colab": {
          "base_uri": "https://localhost:8080/",
          "height": 0
        },
        "outputId": "430bc43f-d7c8-4205-c3bd-54936a9a88cf"
      },
      "source": [
        "# Task 1. calculate OGIP in scf and recovery factor (volumetric)\n",
        "\n",
        "# knowns: reservois is volumetric\n",
        "zi = 0.8 # initial gas compressibility gas\n",
        "pi = 3000 # initial pressure, psia\n",
        "pa = 500 # psia\n",
        "za = 0.96\n",
        "sw = 0.3\n",
        "temp = 200 # fahrenheit\n",
        "poro = 0.25\n",
        "bulkvol = 20000 # acre-ft\n",
        "sgr = 0.25 # residual gas saturation to waterflood\n",
        "\n",
        "\"Calculate Bg and Bgi\"\n",
        "Bgi = 0.0282793 * zi * (temp + 460) / pi \n",
        "Bg = 0.0282793 * za * (temp + 460) / pa # convert fahrenheit to reamur\n",
        "\n",
        "\"Calculate Fr volumetric\"\n",
        "Fr_vol = 1 - Bgi / Bg\n",
        "print('Recovery Factor under volumetric assumption:', Fr_vol)\n",
        "\n",
        "\"Calculate Fr with waterdrive\"\n",
        "Fr_water = 1 - ((sgr * Bgi) / (Bg * (1 - sw)))\n",
        "print('Recovery Factor under waterdrive assumption:', Fr_water)"
      ],
      "execution_count": 3,
      "outputs": [
        {
          "output_type": "stream",
          "text": [
            "Recovery Factor under volumetric assumption: 0.861111111111111\n",
            "Recovery Factor under waterdrive assumption: 0.9503968253968254\n"
          ],
          "name": "stdout"
        }
      ]
    },
    {
      "cell_type": "markdown",
      "metadata": {
        "id": "MYD8jJ170XNC",
        "colab_type": "text"
      },
      "source": [
        "## Problem 9.2"
      ]
    },
    {
      "cell_type": "markdown",
      "metadata": {
        "id": "fLXijFzX5OEn",
        "colab_type": "text"
      },
      "source": [
        "### Task 1"
      ]
    },
    {
      "cell_type": "code",
      "metadata": {
        "id": "gX88U07l0Z9x",
        "colab_type": "code",
        "colab": {
          "base_uri": "https://localhost:8080/",
          "height": 295
        },
        "outputId": "f27a5fd8-1141-4a6b-bc97-7dc498a27925"
      },
      "source": [
        "# Task 1. calculate OGIP (volumetric, compressibility=0)\n",
        "\n",
        "# known\n",
        "p = np.array([3200, 2925, 2525, 2125])\n",
        "Gp = np.array([0, 79, 221, 452])\n",
        "Bg = np.array([52622, 57004, 65311, 77360]) * 1E-7\n",
        "\n",
        "pi = 3200 # initial pressure, psia\n",
        "temp = 220 # fahrenheit\n",
        "\n",
        "F = Gp * Bg\n",
        "Eg = Bg - Bg[0]\n",
        "\n",
        "plt.plot(Eg, F, '.')\n",
        "plt.title('Plot F vs Eg')\n",
        "plt.xlabel('Eg'); plt.ylabel('F')\n",
        "plt.show()"
      ],
      "execution_count": 4,
      "outputs": [
        {
          "output_type": "display_data",
          "data": {
            "image/png": "[encoded data removed]",
            "text/plain": [
              "<Figure size 432x288 with 1 Axes>"
            ]
          },
          "metadata": {
            "tags": [],
            "needs_background": "light"
          }
        }
      ]
    },
    {
      "cell_type": "markdown",
      "metadata": {
        "id": "_6AeQTfV6kff",
        "colab_type": "text"
      },
      "source": [
        "OGIP at the end of each interval"
      ]
    },
    {
      "cell_type": "code",
      "metadata": {
        "id": "52FlcLcz6j6V",
        "colab_type": "code",
        "colab": {
          "base_uri": "https://localhost:8080/",
          "height": 118
        },
        "outputId": "5d238c07-2da6-44a5-c4e4-14fbc2ce4e6b"
      },
      "source": [
        "interval = np.array([1,2,3,4])\n",
        "\n",
        "for i in range(len(F)):\n",
        "  ogip = (F[i] / Eg[i]) * 1E-03\n",
        "  print('OGIP at interval {} is {} Bscf'.format(interval[i], ogip))"
      ],
      "execution_count": 5,
      "outputs": [
        {
          "output_type": "stream",
          "text": [
            "OGIP at interval 1 is nan Bscf\n",
            "OGIP at interval 2 is 1.027685075308079 Bscf\n",
            "OGIP at interval 3 is 1.137499487745291 Bscf\n",
            "OGIP at interval 4 is 1.4134820923275933 Bscf\n"
          ],
          "name": "stdout"
        },
        {
          "output_type": "stream",
          "text": [
            "/usr/local/lib/python3.6/dist-packages/ipykernel_launcher.py:4: RuntimeWarning: invalid value encountered in double_scalars\n",
            "  after removing the cwd from sys.path.\n"
          ],
          "name": "stderr"
        }
      ]
    },
    {
      "cell_type": "markdown",
      "metadata": {
        "id": "uTOUwffX7PD9",
        "colab_type": "text"
      },
      "source": [
        "### Task 2\n",
        "\n",
        "Prove why from the plot indicates waterdrive?\n",
        "\n",
        "The plot curves upward. Suppose we take the first 2 points of the plot, take regression, and show the curving upward."
      ]
    },
    {
      "cell_type": "code",
      "metadata": {
        "id": "n-MSBLC-5YV-",
        "colab_type": "code",
        "colab": {}
      },
      "source": [
        "def linear(x, a, b):\n",
        "  # a: slope\n",
        "  # b: intercept\n",
        "  y = a * x + b\n",
        "  return(y)"
      ],
      "execution_count": 0,
      "outputs": []
    },
    {
      "cell_type": "code",
      "metadata": {
        "id": "KEnasp0e7ok6",
        "colab_type": "code",
        "colab": {
          "base_uri": "https://localhost:8080/",
          "height": 34
        },
        "outputId": "d0e4d5f9-b798-4c0a-96ae-b70dacfa78a0"
      },
      "source": [
        "Eg[:2]"
      ],
      "execution_count": 7,
      "outputs": [
        {
          "output_type": "execute_result",
          "data": {
            "text/plain": [
              "array([0.       , 0.0004382])"
            ]
          },
          "metadata": {
            "tags": []
          },
          "execution_count": 7
        }
      ]
    },
    {
      "cell_type": "code",
      "metadata": {
        "id": "etnHBdjy5fXn",
        "colab_type": "code",
        "colab": {
          "base_uri": "https://localhost:8080/",
          "height": 346
        },
        "outputId": "a861a408-9a4f-4119-c349-4219dd097257"
      },
      "source": [
        "popt, pcov = curve_fit(linear, Eg[:2], F[:2])\n",
        "print('Calculated OGIP:', popt[0])\n",
        "\n",
        "# regression line\n",
        "y = popt[0] * Eg + popt[1]\n",
        "\n",
        "plt.plot(Eg, F, '.-', label='data')\n",
        "plt.plot(Eg, y, label='regression')\n",
        "plt.title('Plot F vs Eg')\n",
        "plt.xlabel('Eg'); plt.ylabel('F')\n",
        "plt.legend()\n",
        "plt.show()"
      ],
      "execution_count": 8,
      "outputs": [
        {
          "output_type": "stream",
          "text": [
            "Calculated OGIP: 1027.685075308079\n"
          ],
          "name": "stdout"
        },
        {
          "output_type": "stream",
          "text": [
            "/usr/local/lib/python3.6/dist-packages/scipy/optimize/minpack.py:808: OptimizeWarning: Covariance of the parameters could not be estimated\n",
            "  category=OptimizeWarning)\n"
          ],
          "name": "stderr"
        },
        {
          "output_type": "display_data",
          "data": {
            "image/png": "[encoded data removed]",
            "text/plain": [
              "<Figure size 432x288 with 1 Axes>"
            ]
          },
          "metadata": {
            "tags": [],
            "needs_background": "light"
          }
        }
      ]
    },
    {
      "cell_type": "markdown",
      "metadata": {
        "id": "SRJHzewUAfvd",
        "colab_type": "text"
      },
      "source": [
        "### Task 3 \n",
        "\n",
        "Plot $F/E_g$ vs $t$ , prove the existence of waterdrive\n",
        "\n",
        "Plot is curving upward, $F/E_g$ increases means OGIP \"apparently\" increases. This appearance may indicate waterdrive."
      ]
    },
    {
      "cell_type": "code",
      "metadata": {
        "id": "_0HSKbqPAyRy",
        "colab_type": "code",
        "colab": {
          "base_uri": "https://localhost:8080/",
          "height": 329
        },
        "outputId": "002f3ed8-f481-4f78-b1a1-bb2ceb64ccfa"
      },
      "source": [
        "plt.plot(interval, F/Eg, '.-')\n",
        "plt.title('F/Eg vs time')\n",
        "plt.xlabel('time'); plt.ylabel('F/Eg')\n",
        "plt.show()"
      ],
      "execution_count": 9,
      "outputs": [
        {
          "output_type": "stream",
          "text": [
            "/usr/local/lib/python3.6/dist-packages/ipykernel_launcher.py:1: RuntimeWarning: invalid value encountered in true_divide\n",
            "  \"\"\"Entry point for launching an IPython kernel.\n"
          ],
          "name": "stderr"
        },
        {
          "output_type": "display_data",
          "data": {
            "image/png": "[encoded data removed]",
            "text/plain": [
              "<Figure size 432x288 with 1 Axes>"
            ]
          },
          "metadata": {
            "tags": [],
            "needs_background": "light"
          }
        }
      ]
    },
    {
      "cell_type": "markdown",
      "metadata": {
        "id": "jnQQaOFEBSQy",
        "colab_type": "text"
      },
      "source": [
        "### Task 4\n",
        "\n",
        "\n",
        "Calculate water encroachment $(W_e)$, known that OGIP from volumetric study is 1.018 Bscf.\n",
        "\n",
        "$$W_e=B_wW_p+F-G_{fgi}E_g-G_{fgi}B_{gi}E_{fw}$$\n",
        "\n",
        "Can't be answered because there's no info about water production $W_p$ and water FVF $B_w$"
      ]
    },
    {
      "cell_type": "markdown",
      "metadata": {
        "id": "JYTa6JbqW7JI",
        "colab_type": "text"
      },
      "source": [
        "## Problem 9.3"
      ]
    },
    {
      "cell_type": "markdown",
      "metadata": {
        "id": "Ez6EepYYaxOC",
        "colab_type": "text"
      },
      "source": [
        "### Task 1\n",
        "\n",
        "Use Plot 9.1 to determine apparent gas in place\n",
        "\n",
        "My answer is 253 Bscf, book's answer is 239 Bscf. Difference is 14 Bscf, pretty large!!!"
      ]
    },
    {
      "cell_type": "code",
      "metadata": {
        "id": "HWI8SiinW9UQ",
        "colab_type": "code",
        "colab": {
          "base_uri": "https://localhost:8080/",
          "height": 639
        },
        "outputId": "7cf33cca-a1a7-4036-e9b9-2f23b617045e"
      },
      "source": [
        "# Task 1. use Plot 9.1 to determine apparent gas in place\n",
        "\n",
        "temp = 122 # fahrenheit\n",
        "swi = 0.25\n",
        "cf = 3E-6 # psi^-1\n",
        "cw = 3.3E-6 # psi^-1\n",
        "\n",
        "columns = ['date', 'p', 'p/z', 'Gp', 'Wp', 'z', 'Bg']\n",
        "data = pd.read_csv('/content/reservoir-engineering/Unit 9 Dry-Gas Reservoirs/data/Table 9.11-Reservoir and Production Data for Problem 9.3.csv', names=columns)\n",
        "\n",
        "data['date'] =  pd.to_datetime(data['date'], format='%d %B %Y') # format check web: https://strftime.org/\n",
        "# data.head(10)\n",
        "data"
      ],
      "execution_count": 10,
      "outputs": [
        {
          "output_type": "execute_result",
          "data": {
            "text/html": [
              "<div>\n",
              "<style scoped>\n",
              "    .dataframe tbody tr th:only-of-type {\n",
              "        vertical-align: middle;\n",
              "    }\n",
              "\n",
              "    .dataframe tbody tr th {\n",
              "        vertical-align: top;\n",
              "    }\n",
              "\n",
              "    .dataframe thead th {\n",
              "        text-align: right;\n",
              "    }\n",
              "</style>\n",
              "<table border=\"1\" class=\"dataframe\">\n",
              "  <thead>\n",
              "    <tr style=\"text-align: right;\">\n",
              "      <th></th>\n",
              "      <th>date</th>\n",
              "      <th>p</th>\n",
              "      <th>p/z</th>\n",
              "      <th>Gp</th>\n",
              "      <th>Wp</th>\n",
              "      <th>z</th>\n",
              "      <th>Bg</th>\n",
              "    </tr>\n",
              "  </thead>\n",
              "  <tbody>\n",
              "    <tr>\n",
              "      <th>0</th>\n",
              "      <td>1964-12-01</td>\n",
              "      <td>2039.0</td>\n",
              "      <td>2326.0</td>\n",
              "      <td>0.0</td>\n",
              "      <td>0.0</td>\n",
              "      <td>0.876612</td>\n",
              "      <td>0.007074</td>\n",
              "    </tr>\n",
              "    <tr>\n",
              "      <th>1</th>\n",
              "      <td>1964-12-10</td>\n",
              "      <td>2026.0</td>\n",
              "      <td>2311.0</td>\n",
              "      <td>4.0</td>\n",
              "      <td>0.0</td>\n",
              "      <td>0.876677</td>\n",
              "      <td>0.007120</td>\n",
              "    </tr>\n",
              "    <tr>\n",
              "      <th>2</th>\n",
              "      <td>1965-03-26</td>\n",
              "      <td>2031.0</td>\n",
              "      <td>2316.0</td>\n",
              "      <td>7.0</td>\n",
              "      <td>0.0</td>\n",
              "      <td>0.876943</td>\n",
              "      <td>0.007104</td>\n",
              "    </tr>\n",
              "    <tr>\n",
              "      <th>3</th>\n",
              "      <td>1967-01-25</td>\n",
              "      <td>2021.0</td>\n",
              "      <td>2304.0</td>\n",
              "      <td>258.0</td>\n",
              "      <td>0.0</td>\n",
              "      <td>0.877170</td>\n",
              "      <td>0.007141</td>\n",
              "    </tr>\n",
              "    <tr>\n",
              "      <th>4</th>\n",
              "      <td>1967-05-12</td>\n",
              "      <td>2021.0</td>\n",
              "      <td>2304.0</td>\n",
              "      <td>265.0</td>\n",
              "      <td>0.0</td>\n",
              "      <td>0.877170</td>\n",
              "      <td>0.007141</td>\n",
              "    </tr>\n",
              "    <tr>\n",
              "      <th>5</th>\n",
              "      <td>1967-05-29</td>\n",
              "      <td>2031.0</td>\n",
              "      <td>2316.0</td>\n",
              "      <td>267.0</td>\n",
              "      <td>0.0</td>\n",
              "      <td>0.876943</td>\n",
              "      <td>0.007104</td>\n",
              "    </tr>\n",
              "    <tr>\n",
              "      <th>6</th>\n",
              "      <td>1968-08-19</td>\n",
              "      <td>1982.0</td>\n",
              "      <td>2259.0</td>\n",
              "      <td>4767.0</td>\n",
              "      <td>0.0</td>\n",
              "      <td>0.877379</td>\n",
              "      <td>0.007284</td>\n",
              "    </tr>\n",
              "    <tr>\n",
              "      <th>7</th>\n",
              "      <td>1968-08-20</td>\n",
              "      <td>1984.0</td>\n",
              "      <td>2261.0</td>\n",
              "      <td>4767.0</td>\n",
              "      <td>0.0</td>\n",
              "      <td>0.877488</td>\n",
              "      <td>0.007277</td>\n",
              "    </tr>\n",
              "    <tr>\n",
              "      <th>8</th>\n",
              "      <td>1968-09-06</td>\n",
              "      <td>1988.0</td>\n",
              "      <td>2265.0</td>\n",
              "      <td>4786.0</td>\n",
              "      <td>0.0</td>\n",
              "      <td>0.877704</td>\n",
              "      <td>0.007264</td>\n",
              "    </tr>\n",
              "    <tr>\n",
              "      <th>9</th>\n",
              "      <td>1969-01-17</td>\n",
              "      <td>1991.0</td>\n",
              "      <td>2270.0</td>\n",
              "      <td>6886.0</td>\n",
              "      <td>0.0</td>\n",
              "      <td>0.877093</td>\n",
              "      <td>0.007248</td>\n",
              "    </tr>\n",
              "    <tr>\n",
              "      <th>10</th>\n",
              "      <td>1969-01-24</td>\n",
              "      <td>1971.0</td>\n",
              "      <td>2245.0</td>\n",
              "      <td>7055.0</td>\n",
              "      <td>0.0</td>\n",
              "      <td>0.877951</td>\n",
              "      <td>0.007329</td>\n",
              "    </tr>\n",
              "    <tr>\n",
              "      <th>11</th>\n",
              "      <td>1969-01-31</td>\n",
              "      <td>1975.0</td>\n",
              "      <td>2251.0</td>\n",
              "      <td>7225.0</td>\n",
              "      <td>0.0</td>\n",
              "      <td>0.877388</td>\n",
              "      <td>0.007309</td>\n",
              "    </tr>\n",
              "    <tr>\n",
              "      <th>12</th>\n",
              "      <td>1970-06-18</td>\n",
              "      <td>1823.0</td>\n",
              "      <td>2069.0</td>\n",
              "      <td>27030.0</td>\n",
              "      <td>0.0</td>\n",
              "      <td>0.881102</td>\n",
              "      <td>0.007952</td>\n",
              "    </tr>\n",
              "    <tr>\n",
              "      <th>13</th>\n",
              "      <td>1970-07-16</td>\n",
              "      <td>1840.0</td>\n",
              "      <td>2090.0</td>\n",
              "      <td>27890.0</td>\n",
              "      <td>0.0</td>\n",
              "      <td>0.880383</td>\n",
              "      <td>0.007872</td>\n",
              "    </tr>\n",
              "    <tr>\n",
              "      <th>14</th>\n",
              "      <td>1970-07-22</td>\n",
              "      <td>1820.0</td>\n",
              "      <td>2066.0</td>\n",
              "      <td>28040.0</td>\n",
              "      <td>0.0</td>\n",
              "      <td>0.880929</td>\n",
              "      <td>0.007964</td>\n",
              "    </tr>\n",
              "    <tr>\n",
              "      <th>15</th>\n",
              "      <td>1970-09-23</td>\n",
              "      <td>1839.0</td>\n",
              "      <td>2087.0</td>\n",
              "      <td>29530.0</td>\n",
              "      <td>0.0</td>\n",
              "      <td>0.881169</td>\n",
              "      <td>0.007884</td>\n",
              "    </tr>\n",
              "    <tr>\n",
              "      <th>16</th>\n",
              "      <td>1970-09-25</td>\n",
              "      <td>1829.0</td>\n",
              "      <td>2076.0</td>\n",
              "      <td>29610.0</td>\n",
              "      <td>0.0</td>\n",
              "      <td>0.881021</td>\n",
              "      <td>0.007926</td>\n",
              "    </tr>\n",
              "    <tr>\n",
              "      <th>17</th>\n",
              "      <td>1971-02-02</td>\n",
              "      <td>1731.0</td>\n",
              "      <td>1959.0</td>\n",
              "      <td>38920.0</td>\n",
              "      <td>5995.0</td>\n",
              "      <td>0.883614</td>\n",
              "      <td>0.008399</td>\n",
              "    </tr>\n",
              "    <tr>\n",
              "      <th>18</th>\n",
              "      <td>1971-02-18</td>\n",
              "      <td>1722.0</td>\n",
              "      <td>1947.0</td>\n",
              "      <td>40220.0</td>\n",
              "      <td>8427.0</td>\n",
              "      <td>0.884438</td>\n",
              "      <td>0.008451</td>\n",
              "    </tr>\n",
              "    <tr>\n",
              "      <th>19</th>\n",
              "      <td>1971-02-19</td>\n",
              "      <td>1727.0</td>\n",
              "      <td>1954.0</td>\n",
              "      <td>40290.0</td>\n",
              "      <td>8427.0</td>\n",
              "      <td>0.883828</td>\n",
              "      <td>0.008420</td>\n",
              "    </tr>\n",
              "  </tbody>\n",
              "</table>\n",
              "</div>"
            ],
            "text/plain": [
              "         date       p     p/z       Gp      Wp         z        Bg\n",
              "0  1964-12-01  2039.0  2326.0      0.0     0.0  0.876612  0.007074\n",
              "1  1964-12-10  2026.0  2311.0      4.0     0.0  0.876677  0.007120\n",
              "2  1965-03-26  2031.0  2316.0      7.0     0.0  0.876943  0.007104\n",
              "3  1967-01-25  2021.0  2304.0    258.0     0.0  0.877170  0.007141\n",
              "4  1967-05-12  2021.0  2304.0    265.0     0.0  0.877170  0.007141\n",
              "5  1967-05-29  2031.0  2316.0    267.0     0.0  0.876943  0.007104\n",
              "6  1968-08-19  1982.0  2259.0   4767.0     0.0  0.877379  0.007284\n",
              "7  1968-08-20  1984.0  2261.0   4767.0     0.0  0.877488  0.007277\n",
              "8  1968-09-06  1988.0  2265.0   4786.0     0.0  0.877704  0.007264\n",
              "9  1969-01-17  1991.0  2270.0   6886.0     0.0  0.877093  0.007248\n",
              "10 1969-01-24  1971.0  2245.0   7055.0     0.0  0.877951  0.007329\n",
              "11 1969-01-31  1975.0  2251.0   7225.0     0.0  0.877388  0.007309\n",
              "12 1970-06-18  1823.0  2069.0  27030.0     0.0  0.881102  0.007952\n",
              "13 1970-07-16  1840.0  2090.0  27890.0     0.0  0.880383  0.007872\n",
              "14 1970-07-22  1820.0  2066.0  28040.0     0.0  0.880929  0.007964\n",
              "15 1970-09-23  1839.0  2087.0  29530.0     0.0  0.881169  0.007884\n",
              "16 1970-09-25  1829.0  2076.0  29610.0     0.0  0.881021  0.007926\n",
              "17 1971-02-02  1731.0  1959.0  38920.0  5995.0  0.883614  0.008399\n",
              "18 1971-02-18  1722.0  1947.0  40220.0  8427.0  0.884438  0.008451\n",
              "19 1971-02-19  1727.0  1954.0  40290.0  8427.0  0.883828  0.008420"
            ]
          },
          "metadata": {
            "tags": []
          },
          "execution_count": 10
        }
      ]
    },
    {
      "cell_type": "code",
      "metadata": {
        "id": "uMwKTUjYannX",
        "colab_type": "code",
        "colab": {
          "base_uri": "https://localhost:8080/",
          "height": 312
        },
        "outputId": "81eafb02-7e8b-4968-c9b2-04c0cb4cd545"
      },
      "source": [
        "Gp = data['Gp'].values\n",
        "Bg = data['Bg'].values\n",
        "\n",
        "F = Gp * Bg\n",
        "Eg = Bg - Bg[0]\n",
        "\n",
        "plt.plot(Eg, F, '.')\n",
        "plt.title('Plot 9.1: F vs Eg')\n",
        "plt.xlabel('Eg'); plt.ylabel('F')\n",
        "plt.xlim(xmin=0); plt.ylim(ymin=0)"
      ],
      "execution_count": 11,
      "outputs": [
        {
          "output_type": "execute_result",
          "data": {
            "text/plain": [
              "(0.0, 356.894181)"
            ]
          },
          "metadata": {
            "tags": []
          },
          "execution_count": 11
        },
        {
          "output_type": "display_data",
          "data": {
            "image/png": "[encoded data removed]",
            "text/plain": [
              "<Figure size 432x288 with 1 Axes>"
            ]
          },
          "metadata": {
            "tags": [],
            "needs_background": "light"
          }
        }
      ]
    },
    {
      "cell_type": "code",
      "metadata": {
        "id": "wi6Sg40Md4pu",
        "colab_type": "code",
        "colab": {}
      },
      "source": [
        "def linear(x, a):\n",
        "  # a: slope\n",
        "  # b = 0, intercept at origin (0,0)\n",
        "  y = a * x\n",
        "  return(y)"
      ],
      "execution_count": 0,
      "outputs": []
    },
    {
      "cell_type": "code",
      "metadata": {
        "id": "aZzzEY9XcSsx",
        "colab_type": "code",
        "colab": {
          "base_uri": "https://localhost:8080/",
          "height": 329
        },
        "outputId": "4e29aa95-05f7-48b1-dd59-f08ad23d310f"
      },
      "source": [
        "popt, pcov = curve_fit(linear, Eg, F)\n",
        "print('Apparent Gas in Place:', popt[0] * 1E-03, 'Bscf')\n",
        "\n",
        "y = popt[0] * Eg\n",
        "\n",
        "plt.plot(Eg, F, '.')\n",
        "plt.plot(Eg, y)\n",
        "plt.title('Plot 9.1: F vs Eg')\n",
        "plt.xlabel('Eg'); plt.ylabel('F')\n",
        "plt.xlim(xmin=0); plt.ylim(ymin=0)"
      ],
      "execution_count": 13,
      "outputs": [
        {
          "output_type": "stream",
          "text": [
            "Apparent Gas in Place: 253.4293146193645 Bscf\n"
          ],
          "name": "stdout"
        },
        {
          "output_type": "execute_result",
          "data": {
            "text/plain": [
              "(0.0, 366.4207745424083)"
            ]
          },
          "metadata": {
            "tags": []
          },
          "execution_count": 13
        },
        {
          "output_type": "display_data",
          "data": {
            "image/png": "[encoded data removed]",
            "text/plain": [
              "<Figure size 432x288 with 1 Axes>"
            ]
          },
          "metadata": {
            "tags": [],
            "needs_background": "light"
          }
        }
      ]
    },
    {
      "cell_type": "markdown",
      "metadata": {
        "id": "OyzGHA4bgGHI",
        "colab_type": "text"
      },
      "source": [
        "### Task 2. \n",
        "\n",
        "Use Plot 9.3 to show existence of waterdrive and calculate aquifer influx using material balance.\n",
        "\n",
        "From Plot 9.3 below, the data is not horizontal. Thus, it confirms the presence of waterdrive.\n",
        "\n",
        "Material balance for aquifer influx:\n",
        "\n",
        "$$W_e=B_wW_p+F-G_{fgi}E_g-G_{fgi}B_{gi}E_{fw}$$\n",
        "\n",
        "**Aquifer influx can't be answered** because of minus values: $F$ less than $G_{fgi}E_g$, so $(F-G_{fgi}E_g) < 0$ "
      ]
    },
    {
      "cell_type": "code",
      "metadata": {
        "id": "hYmEqMlbgcbr",
        "colab_type": "code",
        "colab": {
          "base_uri": "https://localhost:8080/",
          "height": 418
        },
        "outputId": "a68243c9-6882-48de-94ad-92d235b7d243"
      },
      "source": [
        "plt.figure(figsize=(13,5))\n",
        "\n",
        "plt.subplot(1,2,1)\n",
        "plt.plot(Gp, F/Eg, '.')\n",
        "plt.title('Plot 9.3: F/Eg vs Gp')\n",
        "plt.xlabel('Gp'); plt.ylabel('F/Eg')\n",
        "plt.xlim(xmin=0), plt.ylim(ymin=0)\n",
        "\n",
        "plt.subplot(1,2,2)\n",
        "plt.plot(data['date'], F/Eg, '.')\n",
        "plt.title('Plot 9.3: F/Eg vs time')\n",
        "plt.xlabel('t'); plt.ylabel('F/Eg')\n",
        "plt.ylim(ymin=0)\n",
        "\n",
        "plt.show()"
      ],
      "execution_count": 14,
      "outputs": [
        {
          "output_type": "stream",
          "text": [
            "/usr/local/lib/python3.6/dist-packages/ipykernel_launcher.py:4: RuntimeWarning: invalid value encountered in true_divide\n",
            "  after removing the cwd from sys.path.\n",
            "/usr/local/lib/python3.6/dist-packages/ipykernel_launcher.py:10: RuntimeWarning: invalid value encountered in true_divide\n",
            "  # Remove the CWD from sys.path while we load stuff.\n"
          ],
          "name": "stderr"
        },
        {
          "output_type": "display_data",
          "data": {
            "image/png": "[encoded data removed]",
            "text/plain": [
              "<Figure size 936x360 with 2 Axes>"
            ]
          },
          "metadata": {
            "tags": [],
            "needs_background": "light"
          }
        }
      ]
    },
    {
      "cell_type": "code",
      "metadata": {
        "id": "h7Vi03Y0ky6P",
        "colab_type": "code",
        "colab": {}
      },
      "source": [
        "def waterfvf(temp, p):\n",
        "  \"Water FVF (Bw)\"\n",
        "  # temp in Fahrenheit\n",
        "  # p pressure in psia\n",
        "  Vwp = (-1.95301E-9 * p * temp) - (1.72834E-13 * (p**2) * temp) - (3.588922E-7 * p) - (2.25341E-10 * p**2)\n",
        "  Vwt = (-1E-2) + (1.33391E-2 * temp) + (5.50654E-7 * temp**2)\n",
        "  Bw = (1 + Vwt) * (1 + Vwp)\n",
        "  return(Bw)"
      ],
      "execution_count": 0,
      "outputs": []
    },
    {
      "cell_type": "code",
      "metadata": {
        "id": "W_gF3vQyr0E3",
        "colab_type": "code",
        "colab": {
          "base_uri": "https://localhost:8080/",
          "height": 134
        },
        "outputId": "e069e23b-db7b-4d38-e80f-7eae06eb7ded"
      },
      "source": [
        "p = data['p'].values\n",
        "Wp = data['Wp'].values\n",
        "Gfgi = popt[0]\n",
        "\n",
        "\"Calculate water FVF\"\n",
        "\n",
        "Bw = []\n",
        "for i in range(len(p)):\n",
        "  bw = waterfvf(temp, p[i])\n",
        "  Bw.append(bw)\n",
        "\n",
        "\"Calculate aquifer influx\"\n",
        "Efw = ((cf + cw * sw) / (1 - sw)) * ((data['p'].values)[0] - (data['p'].values))\n",
        "F = (Gp * 1E+06) * Bg # result in ft3\n",
        "Gfgi_Eg = (Gfgi * 1E+06) * Eg # result in ft3\n",
        "Gfgi_Bgi_Efw = (Gfgi * 1E+06) * Bg[0] * Efw\n",
        "Bw_Wp = Bw * Wp\n",
        "We = Bw_Wp + F - Gfgi_Eg - Gfgi_Bgi_Efw\n",
        "We"
      ],
      "execution_count": 17,
      "outputs": [
        {
          "output_type": "execute_result",
          "data": {
            "text/plain": [
              "array([        0.        , -11762111.91228784,  -7634901.24768704,\n",
              "       -15321323.14998542, -15271336.14998542,  -5787861.24768704,\n",
              "       -19079795.45994528, -17318721.80533306, -13907220.81072845,\n",
              "         5322528.40159592, -13613253.60533707,  -7402362.40839689,\n",
              "        -9775623.08165726,  15279960.43224127,  -4479431.03550462,\n",
              "        25493029.93067074,  16621151.45527515, -12036417.14505811,\n",
              "       -12290195.69062728,  -5040213.46682443])"
            ]
          },
          "metadata": {
            "tags": []
          },
          "execution_count": 17
        }
      ]
    },
    {
      "cell_type": "markdown",
      "metadata": {
        "id": "En7392tElzl3",
        "colab_type": "text"
      },
      "source": [
        "## Problem 9.4"
      ]
    },
    {
      "cell_type": "markdown",
      "metadata": {
        "id": "53-lRMhAmGpa",
        "colab_type": "text"
      },
      "source": [
        "Estimate the OGIP and determine what drive mechanism\n",
        "\n",
        "Drive mechanism from the Plots indicates volumetric (gas expansion). Both Plots curve downward, indicates water and formation compressibility plays enough important role (not negligible)\n",
        "\n",
        "My OGIP answer is 460 Bscf, book's answer is 330 Bscf. Huge difference???"
      ]
    },
    {
      "cell_type": "code",
      "metadata": {
        "id": "yWqwAmc_yH4j",
        "colab_type": "code",
        "colab": {
          "base_uri": "https://localhost:8080/",
          "height": 462
        },
        "outputId": "f126ce96-3514-4585-9f90-a619d4665173"
      },
      "source": [
        "# Task. estimate OGIP and determine drive mech\n",
        "\n",
        "# knowns\n",
        "sw = 0.22 # water sat\n",
        "cw = 3E-6 # water compressibility\n",
        "cf = 19.5E-6 # formation compressibility\n",
        "temp = 263 # fahrenheit\n",
        "sg = 0.6 # specific gravity\n",
        "\n",
        "columns = ['date', 'p', 'z', 'Gp', 'Bg']\n",
        "data = pd.read_csv('/content/reservoir-engineering/Unit 9 Dry-Gas Reservoirs/data/Table 9.12-Reservoir Properties and Production Data for Problem 9.4.csv', names=columns)\n",
        "\n",
        "data['date'] =  pd.to_datetime(data['date'], format='%d %B %Y') # format check web: https://strftime.org/\n",
        "# data.head(10)\n",
        "data"
      ],
      "execution_count": 18,
      "outputs": [
        {
          "output_type": "execute_result",
          "data": {
            "text/html": [
              "<div>\n",
              "<style scoped>\n",
              "    .dataframe tbody tr th:only-of-type {\n",
              "        vertical-align: middle;\n",
              "    }\n",
              "\n",
              "    .dataframe tbody tr th {\n",
              "        vertical-align: top;\n",
              "    }\n",
              "\n",
              "    .dataframe thead th {\n",
              "        text-align: right;\n",
              "    }\n",
              "</style>\n",
              "<table border=\"1\" class=\"dataframe\">\n",
              "  <thead>\n",
              "    <tr style=\"text-align: right;\">\n",
              "      <th></th>\n",
              "      <th>date</th>\n",
              "      <th>p</th>\n",
              "      <th>z</th>\n",
              "      <th>Gp</th>\n",
              "      <th>Bg</th>\n",
              "    </tr>\n",
              "  </thead>\n",
              "  <tbody>\n",
              "    <tr>\n",
              "      <th>0</th>\n",
              "      <td>1966-01-25</td>\n",
              "      <td>11444</td>\n",
              "      <td>1.496</td>\n",
              "      <td>0.00</td>\n",
              "      <td>0.002672</td>\n",
              "    </tr>\n",
              "    <tr>\n",
              "      <th>1</th>\n",
              "      <td>1967-02-01</td>\n",
              "      <td>10674</td>\n",
              "      <td>1.438</td>\n",
              "      <td>9.92</td>\n",
              "      <td>0.002753</td>\n",
              "    </tr>\n",
              "    <tr>\n",
              "      <th>2</th>\n",
              "      <td>1968-02-01</td>\n",
              "      <td>10131</td>\n",
              "      <td>1.397</td>\n",
              "      <td>28.62</td>\n",
              "      <td>0.002818</td>\n",
              "    </tr>\n",
              "    <tr>\n",
              "      <th>3</th>\n",
              "      <td>1969-06-01</td>\n",
              "      <td>9253</td>\n",
              "      <td>1.330</td>\n",
              "      <td>53.60</td>\n",
              "      <td>0.002938</td>\n",
              "    </tr>\n",
              "    <tr>\n",
              "      <th>4</th>\n",
              "      <td>1970-06-01</td>\n",
              "      <td>8574</td>\n",
              "      <td>1.280</td>\n",
              "      <td>77.67</td>\n",
              "      <td>0.003051</td>\n",
              "    </tr>\n",
              "    <tr>\n",
              "      <th>5</th>\n",
              "      <td>1971-06-01</td>\n",
              "      <td>7906</td>\n",
              "      <td>1.230</td>\n",
              "      <td>101.42</td>\n",
              "      <td>0.003180</td>\n",
              "    </tr>\n",
              "    <tr>\n",
              "      <th>6</th>\n",
              "      <td>1972-06-01</td>\n",
              "      <td>7380</td>\n",
              "      <td>1.192</td>\n",
              "      <td>120.36</td>\n",
              "      <td>0.003301</td>\n",
              "    </tr>\n",
              "    <tr>\n",
              "      <th>7</th>\n",
              "      <td>1973-09-01</td>\n",
              "      <td>6847</td>\n",
              "      <td>1.154</td>\n",
              "      <td>145.01</td>\n",
              "      <td>0.003445</td>\n",
              "    </tr>\n",
              "    <tr>\n",
              "      <th>8</th>\n",
              "      <td>1974-08-01</td>\n",
              "      <td>6388</td>\n",
              "      <td>1.122</td>\n",
              "      <td>160.63</td>\n",
              "      <td>0.003590</td>\n",
              "    </tr>\n",
              "    <tr>\n",
              "      <th>9</th>\n",
              "      <td>1975-08-01</td>\n",
              "      <td>5827</td>\n",
              "      <td>1.084</td>\n",
              "      <td>182.34</td>\n",
              "      <td>0.003802</td>\n",
              "    </tr>\n",
              "    <tr>\n",
              "      <th>10</th>\n",
              "      <td>1976-06-10</td>\n",
              "      <td>5409</td>\n",
              "      <td>1.057</td>\n",
              "      <td>197.73</td>\n",
              "      <td>0.003994</td>\n",
              "    </tr>\n",
              "    <tr>\n",
              "      <th>11</th>\n",
              "      <td>1977-06-01</td>\n",
              "      <td>5000</td>\n",
              "      <td>1.033</td>\n",
              "      <td>215.66</td>\n",
              "      <td>0.004223</td>\n",
              "    </tr>\n",
              "    <tr>\n",
              "      <th>12</th>\n",
              "      <td>1978-08-01</td>\n",
              "      <td>4500</td>\n",
              "      <td>1.005</td>\n",
              "      <td>235.74</td>\n",
              "      <td>0.004565</td>\n",
              "    </tr>\n",
              "    <tr>\n",
              "      <th>13</th>\n",
              "      <td>1979-08-01</td>\n",
              "      <td>4170</td>\n",
              "      <td>0.988</td>\n",
              "      <td>245.90</td>\n",
              "      <td>0.004843</td>\n",
              "    </tr>\n",
              "  </tbody>\n",
              "</table>\n",
              "</div>"
            ],
            "text/plain": [
              "         date      p      z      Gp        Bg\n",
              "0  1966-01-25  11444  1.496    0.00  0.002672\n",
              "1  1967-02-01  10674  1.438    9.92  0.002753\n",
              "2  1968-02-01  10131  1.397   28.62  0.002818\n",
              "3  1969-06-01   9253  1.330   53.60  0.002938\n",
              "4  1970-06-01   8574  1.280   77.67  0.003051\n",
              "5  1971-06-01   7906  1.230  101.42  0.003180\n",
              "6  1972-06-01   7380  1.192  120.36  0.003301\n",
              "7  1973-09-01   6847  1.154  145.01  0.003445\n",
              "8  1974-08-01   6388  1.122  160.63  0.003590\n",
              "9  1975-08-01   5827  1.084  182.34  0.003802\n",
              "10 1976-06-10   5409  1.057  197.73  0.003994\n",
              "11 1977-06-01   5000  1.033  215.66  0.004223\n",
              "12 1978-08-01   4500  1.005  235.74  0.004565\n",
              "13 1979-08-01   4170  0.988  245.90  0.004843"
            ]
          },
          "metadata": {
            "tags": []
          },
          "execution_count": 18
        }
      ]
    },
    {
      "cell_type": "code",
      "metadata": {
        "id": "i3v6OOR90AcR",
        "colab_type": "code",
        "colab": {
          "base_uri": "https://localhost:8080/",
          "height": 350
        },
        "outputId": "0efca070-0c14-40da-dd60-a37e0403d38a"
      },
      "source": [
        "# Task. calculate OGIP and determine drive mechanism\n",
        "\n",
        "pz = data['p'].values / data['z'].values\n",
        "Gp = data['Gp'].values\n",
        "Bg = data['Bg'].values\n",
        "F = Gp * Bg\n",
        "Eg = Bg - Bg[0]\n",
        "\n",
        "plt.figure(figsize=(15,5))\n",
        "\n",
        "plt.subplot(1,2,1)\n",
        "plt.plot(Eg, F, '.-')\n",
        "plt.title('Plot 9.1: F vs Eg')\n",
        "plt.xlabel('Eg (res ft3/scf)'); plt.ylabel('F (million res ft3)')\n",
        "plt.xlim(xmin=0); plt.ylim(ymin=0)\n",
        "\n",
        "plt.subplot(1,2,2)\n",
        "plt.plot(Gp, pz, '.-')\n",
        "plt.title('Plot 9.2: p/z vs Gp')\n",
        "plt.xlabel('Gp (Bscf)'); plt.ylabel('p/z (psia)')\n",
        "plt.xlim(xmin=0)\n",
        "\n",
        "plt.show()"
      ],
      "execution_count": 19,
      "outputs": [
        {
          "output_type": "display_data",
          "data": {
            "image/png": "[encoded data removed]",
            "text/plain": [
              "<Figure size 1080x360 with 2 Axes>"
            ]
          },
          "metadata": {
            "tags": [],
            "needs_background": "light"
          }
        }
      ]
    },
    {
      "cell_type": "markdown",
      "metadata": {
        "id": "8QLy05Mz9_Gd",
        "colab_type": "text"
      },
      "source": [
        "So, use Plot 9.6 and 9.7 to determine OGIP of an overpressured reservoir"
      ]
    },
    {
      "cell_type": "code",
      "metadata": {
        "id": "UQNuOFCr-FOD",
        "colab_type": "code",
        "colab": {
          "base_uri": "https://localhost:8080/",
          "height": 50
        },
        "outputId": "01583541-87e0-4eb8-d12c-f41dd46ed6b6"
      },
      "source": [
        "\"Compute parameters for Plot 9.6 and 9.7\"\n",
        "\n",
        "# Eg+Bgi*Efw\n",
        "Efw = ((cf + cw * sw) / (1 - sw)) * ((data['p'].values)[0] - (data['p'].values))\n",
        "Eg_Bgi_Efw = Eg + Bg[0] * Efw\n",
        "\n",
        "# F/(Eg+Bgi*Efw)\n",
        "F_Eg_Bgi_Efw = F / Eg_Bgi_Efw\n",
        "\n",
        "# (p/z)*(1-Efw)\n",
        "p_z_Efw = pz * (1 - Efw)"
      ],
      "execution_count": 20,
      "outputs": [
        {
          "output_type": "stream",
          "text": [
            "/usr/local/lib/python3.6/dist-packages/ipykernel_launcher.py:8: RuntimeWarning: invalid value encountered in true_divide\n",
            "  \n"
          ],
          "name": "stderr"
        }
      ]
    },
    {
      "cell_type": "code",
      "metadata": {
        "id": "xoYJ0rDEAA_n",
        "colab_type": "code",
        "colab": {}
      },
      "source": [
        "def linear(x, a, b):\n",
        "  # for Plot 9.2\n",
        "  # a: slope\n",
        "  # b: intercept\n",
        "  y = a * x + b\n",
        "  return(y)"
      ],
      "execution_count": 0,
      "outputs": []
    },
    {
      "cell_type": "code",
      "metadata": {
        "id": "yUqD99THADzh",
        "colab_type": "code",
        "colab": {
          "base_uri": "https://localhost:8080/",
          "height": 386
        },
        "outputId": "689e1819-a308-4d48-c47d-20de739261b3"
      },
      "source": [
        "popt1, pcov1 = curve_fit(linear, Eg_Bgi_Efw, F)\n",
        "popt2, pcov2 = curve_fit(linear, Gp, p_z_Efw)\n",
        "\n",
        "# regression line\n",
        "y1 = popt1[0] * Eg_Bgi_Efw + popt1[1]\n",
        "y2 = popt2[0] * Gp + popt2[1]\n",
        "\n",
        "ogip1 = popt1[0]\n",
        "ogip2 = np.abs(popt2[1] / popt2[0])\n",
        "print('OGIP from Plot 9.6:', ogip1, 'Bscf')\n",
        "print('OGIP from Plot 9.7:', ogip2, 'Bscf')\n",
        "\n",
        "plt.figure(figsize=(15,5))\n",
        "\n",
        "plt.subplot(1,2,1)\n",
        "plt.plot(Eg_Bgi_Efw, F, '.', label='Data')\n",
        "plt.plot(Eg_Bgi_Efw, y1, label='y={}x+({})'.format(np.round(popt1[0], 4), \n",
        "                                                   np.round(popt1[1], 4)))\n",
        "plt.title('Plot 9.6: F vs (Eg+Bgi*Efw)', size=15)\n",
        "plt.xlim(xmin=0); plt.ylim(ymin=0)\n",
        "plt.xlabel('Eg+Bgi*Efw'); plt.ylabel('F')\n",
        "plt.legend(loc='lower right')\n",
        "\n",
        "plt.subplot(1,2,2)\n",
        "plt.plot(data['Gp'].values, p_z_Efw, '.', label='Data')\n",
        "plt.plot(data['Gp'].values, y2, label='y={}x+({})'.format(np.round(popt2[0], 4), \n",
        "                                                          np.round(popt2[1], 4)))\n",
        "plt.title('Plot 9.7: p/z*(1-Efw) vs Gp', size=15)\n",
        "plt.xlim(xmin=0)\n",
        "plt.xlabel('Gp'); plt.ylabel('p/z')\n",
        "plt.legend(loc='lower left')\n",
        "\n",
        "plt.show()"
      ],
      "execution_count": 22,
      "outputs": [
        {
          "output_type": "stream",
          "text": [
            "OGIP from Plot 9.6: 461.86620028887415 Bscf\n",
            "OGIP from Plot 9.7: 462.63171034068205 Bscf\n"
          ],
          "name": "stdout"
        },
        {
          "output_type": "display_data",
          "data": {
            "image/png": "[encoded data removed]",
            "text/plain": [
              "<Figure size 1080x360 with 2 Axes>"
            ]
          },
          "metadata": {
            "tags": [],
            "needs_background": "light"
          }
        }
      ]
    },
    {
      "cell_type": "markdown",
      "metadata": {
        "id": "FrF-umqLBy9L",
        "colab_type": "text"
      },
      "source": [
        "## Problem 9.5\n",
        "\n",
        "Task 1. Use Plot 9.1 to calculate apparent gas in place, and Plot 9.3 to confirm waterdrive\n",
        "\n",
        "Task 2. Calculate aquifer influx amount by material balance, OGIP 1.325 Tscf\n",
        "\n",
        "From Plot 9.1 enough, we can see the plot is curving upward from the black dashed lines\n",
        "\n",
        "From Plot 9.3, we can see that the data is not horizontal, meaning there's effect of waterdrive."
      ]
    },
    {
      "cell_type": "code",
      "metadata": {
        "id": "yluin9ccB1MI",
        "colab_type": "code",
        "colab": {
          "base_uri": "https://localhost:8080/",
          "height": 610
        },
        "outputId": "cdbd3f2c-40d4-4d03-a835-05806a63af70"
      },
      "source": [
        "columns = ['months', 'p', 'F', 'Eg']\n",
        "data = pd.read_csv('/content/reservoir-engineering/Unit 9 Dry-Gas Reservoirs/data/Table 9.13-Data for Problem 9.5.csv', names=columns)\n",
        "data"
      ],
      "execution_count": 23,
      "outputs": [
        {
          "output_type": "execute_result",
          "data": {
            "text/html": [
              "<div>\n",
              "<style scoped>\n",
              "    .dataframe tbody tr th:only-of-type {\n",
              "        vertical-align: middle;\n",
              "    }\n",
              "\n",
              "    .dataframe tbody tr th {\n",
              "        vertical-align: top;\n",
              "    }\n",
              "\n",
              "    .dataframe thead th {\n",
              "        text-align: right;\n",
              "    }\n",
              "</style>\n",
              "<table border=\"1\" class=\"dataframe\">\n",
              "  <thead>\n",
              "    <tr style=\"text-align: right;\">\n",
              "      <th></th>\n",
              "      <th>months</th>\n",
              "      <th>p</th>\n",
              "      <th>F</th>\n",
              "      <th>Eg</th>\n",
              "    </tr>\n",
              "  </thead>\n",
              "  <tbody>\n",
              "    <tr>\n",
              "      <th>0</th>\n",
              "      <td>0</td>\n",
              "      <td>2883</td>\n",
              "      <td>0.0000</td>\n",
              "      <td>0.0</td>\n",
              "    </tr>\n",
              "    <tr>\n",
              "      <th>1</th>\n",
              "      <td>2</td>\n",
              "      <td>2881</td>\n",
              "      <td>5.5340</td>\n",
              "      <td>4.0</td>\n",
              "    </tr>\n",
              "    <tr>\n",
              "      <th>2</th>\n",
              "      <td>4</td>\n",
              "      <td>2874</td>\n",
              "      <td>24.5967</td>\n",
              "      <td>18.0</td>\n",
              "    </tr>\n",
              "    <tr>\n",
              "      <th>3</th>\n",
              "      <td>6</td>\n",
              "      <td>2866</td>\n",
              "      <td>51.1776</td>\n",
              "      <td>34.0</td>\n",
              "    </tr>\n",
              "    <tr>\n",
              "      <th>4</th>\n",
              "      <td>8</td>\n",
              "      <td>2857</td>\n",
              "      <td>76.9426</td>\n",
              "      <td>52.0</td>\n",
              "    </tr>\n",
              "    <tr>\n",
              "      <th>5</th>\n",
              "      <td>10</td>\n",
              "      <td>2849</td>\n",
              "      <td>103.3184</td>\n",
              "      <td>68.0</td>\n",
              "    </tr>\n",
              "    <tr>\n",
              "      <th>6</th>\n",
              "      <td>12</td>\n",
              "      <td>2841</td>\n",
              "      <td>131.5371</td>\n",
              "      <td>85.0</td>\n",
              "    </tr>\n",
              "    <tr>\n",
              "      <th>7</th>\n",
              "      <td>14</td>\n",
              "      <td>2826</td>\n",
              "      <td>180.0178</td>\n",
              "      <td>116.5</td>\n",
              "    </tr>\n",
              "    <tr>\n",
              "      <th>8</th>\n",
              "      <td>16</td>\n",
              "      <td>2808</td>\n",
              "      <td>240.7764</td>\n",
              "      <td>154.5</td>\n",
              "    </tr>\n",
              "    <tr>\n",
              "      <th>9</th>\n",
              "      <td>18</td>\n",
              "      <td>2794</td>\n",
              "      <td>291.3014</td>\n",
              "      <td>185.5</td>\n",
              "    </tr>\n",
              "    <tr>\n",
              "      <th>10</th>\n",
              "      <td>20</td>\n",
              "      <td>2782</td>\n",
              "      <td>336.6281</td>\n",
              "      <td>212.0</td>\n",
              "    </tr>\n",
              "    <tr>\n",
              "      <th>11</th>\n",
              "      <td>22</td>\n",
              "      <td>2767</td>\n",
              "      <td>392.8592</td>\n",
              "      <td>246.0</td>\n",
              "    </tr>\n",
              "    <tr>\n",
              "      <th>12</th>\n",
              "      <td>24</td>\n",
              "      <td>2755</td>\n",
              "      <td>441.3134</td>\n",
              "      <td>273.5</td>\n",
              "    </tr>\n",
              "    <tr>\n",
              "      <th>13</th>\n",
              "      <td>26</td>\n",
              "      <td>2741</td>\n",
              "      <td>497.2907</td>\n",
              "      <td>305.5</td>\n",
              "    </tr>\n",
              "    <tr>\n",
              "      <th>14</th>\n",
              "      <td>28</td>\n",
              "      <td>2726</td>\n",
              "      <td>556.1110</td>\n",
              "      <td>340.0</td>\n",
              "    </tr>\n",
              "    <tr>\n",
              "      <th>15</th>\n",
              "      <td>30</td>\n",
              "      <td>2712</td>\n",
              "      <td>613.6513</td>\n",
              "      <td>373.5</td>\n",
              "    </tr>\n",
              "    <tr>\n",
              "      <th>16</th>\n",
              "      <td>32</td>\n",
              "      <td>2699</td>\n",
              "      <td>672.5969</td>\n",
              "      <td>405.0</td>\n",
              "    </tr>\n",
              "    <tr>\n",
              "      <th>17</th>\n",
              "      <td>34</td>\n",
              "      <td>2688</td>\n",
              "      <td>723.0868</td>\n",
              "      <td>432.5</td>\n",
              "    </tr>\n",
              "    <tr>\n",
              "      <th>18</th>\n",
              "      <td>36</td>\n",
              "      <td>2667</td>\n",
              "      <td>771.4902</td>\n",
              "      <td>455.5</td>\n",
              "    </tr>\n",
              "  </tbody>\n",
              "</table>\n",
              "</div>"
            ],
            "text/plain": [
              "    months     p         F     Eg\n",
              "0        0  2883    0.0000    0.0\n",
              "1        2  2881    5.5340    4.0\n",
              "2        4  2874   24.5967   18.0\n",
              "3        6  2866   51.1776   34.0\n",
              "4        8  2857   76.9426   52.0\n",
              "5       10  2849  103.3184   68.0\n",
              "6       12  2841  131.5371   85.0\n",
              "7       14  2826  180.0178  116.5\n",
              "8       16  2808  240.7764  154.5\n",
              "9       18  2794  291.3014  185.5\n",
              "10      20  2782  336.6281  212.0\n",
              "11      22  2767  392.8592  246.0\n",
              "12      24  2755  441.3134  273.5\n",
              "13      26  2741  497.2907  305.5\n",
              "14      28  2726  556.1110  340.0\n",
              "15      30  2712  613.6513  373.5\n",
              "16      32  2699  672.5969  405.0\n",
              "17      34  2688  723.0868  432.5\n",
              "18      36  2667  771.4902  455.5"
            ]
          },
          "metadata": {
            "tags": []
          },
          "execution_count": 23
        }
      ]
    },
    {
      "cell_type": "code",
      "metadata": {
        "id": "is9vXbX8GenN",
        "colab_type": "code",
        "colab": {
          "base_uri": "https://localhost:8080/",
          "height": 384
        },
        "outputId": "ebfa3f0d-ed8a-46fb-af90-3f6dce250a4d"
      },
      "source": [
        "plt.figure(figsize=(15,5))\n",
        "\n",
        "plt.subplot(1,2,1)\n",
        "F, Eg = data['F'].values, data['Eg'].values\n",
        "plt.plot(Eg, F, '.-', label='data')\n",
        "plt.title('Plot 9.1: F vs Eg')\n",
        "plt.xlabel('Eg'); plt.ylabel('F')\n",
        "plt.xlim(xmin=0); plt.ylim(ymin=0)\n",
        "\n",
        "# confirm waterdrive\n",
        "def linear(x, a):\n",
        "  # a: slope\n",
        "  # b = 0, intercept at origin (0,0)\n",
        "  y = a * x\n",
        "  return(y)\n",
        "\n",
        "# popt, pcov = curve_fit(linear, Eg[:cutoff], F[:cutoff])\n",
        "popt, pcov = curve_fit(linear, Eg, F)\n",
        "y = popt[0] * Eg\n",
        "print('Apparent gas in place:', popt[0], 'Tscf')\n",
        "\n",
        "plt.plot(Eg, y, '-', label='Regression line')\n",
        "\n",
        "# showing the curve upward \n",
        "cutoff = 4\n",
        "popt1, pcov1 = curve_fit(linear, Eg[:cutoff], F[:cutoff])\n",
        "y1 = popt1[0] * Eg\n",
        "\n",
        "plt.plot(Eg, y1, '--', color='black', label='Normal line')\n",
        "plt.legend()\n",
        "\n",
        "plt.subplot(1,2,2)\n",
        "plt.plot(data['months'].values, (F/Eg), '.')\n",
        "plt.title('Plot 9.3: F/Eg vs t')\n",
        "plt.xlabel('months'); plt.ylabel('F/Eg')\n",
        "\n",
        "plt.show()"
      ],
      "execution_count": 50,
      "outputs": [
        {
          "output_type": "stream",
          "text": [
            "Apparent gas in place: 1.6441004430056645 Tscf\n"
          ],
          "name": "stdout"
        },
        {
          "output_type": "stream",
          "text": [
            "/usr/local/lib/python3.6/dist-packages/ipykernel_launcher.py:33: RuntimeWarning: invalid value encountered in true_divide\n"
          ],
          "name": "stderr"
        },
        {
          "output_type": "display_data",
          "data": {
            "image/png": "[encoded data removed]",
            "text/plain": [
              "<Figure size 1080x360 with 2 Axes>"
            ]
          },
          "metadata": {
            "tags": [],
            "needs_background": "light"
          }
        }
      ]
    },
    {
      "cell_type": "markdown",
      "metadata": {
        "id": "bbZiFQTSIg23",
        "colab_type": "text"
      },
      "source": [
        "Because there's no information on water production $(W_p)$, water compressibility $(B_w)$, etc, so I use Plot 9.4: $\\frac{F}{E_g}$ vs $\\frac{1}{E_g}$. Intercept has been known, $G_{fgi}$ 1.325 Tscf, then the slope is its aquifer constant.\n",
        "\n",
        "From Plot 9.4 below, seems that the slope is changing "
      ]
    },
    {
      "cell_type": "code",
      "metadata": {
        "id": "81YJNJUmI7L9",
        "colab_type": "code",
        "colab": {
          "base_uri": "https://localhost:8080/",
          "height": 362
        },
        "outputId": "90ed5fa4-09e5-403c-b0c4-e14aa49fd042"
      },
      "source": [
        "plt.plot((1/Eg), (F/Eg), '.')\n",
        "plt.title('Plot 9.1: F/Eg vs 1/Eg')\n",
        "plt.xlabel('1/Eg'); plt.ylabel('F/Eg')\n",
        "plt.xlim(xmin=0)\n",
        "plt.show()"
      ],
      "execution_count": 34,
      "outputs": [
        {
          "output_type": "stream",
          "text": [
            "/usr/local/lib/python3.6/dist-packages/ipykernel_launcher.py:1: RuntimeWarning: divide by zero encountered in true_divide\n",
            "  \"\"\"Entry point for launching an IPython kernel.\n",
            "/usr/local/lib/python3.6/dist-packages/ipykernel_launcher.py:1: RuntimeWarning: invalid value encountered in true_divide\n",
            "  \"\"\"Entry point for launching an IPython kernel.\n"
          ],
          "name": "stderr"
        },
        {
          "output_type": "display_data",
          "data": {
            "image/png": "[encoded data removed]",
            "text/plain": [
              "<Figure size 432x288 with 1 Axes>"
            ]
          },
          "metadata": {
            "tags": [],
            "needs_background": "light"
          }
        }
      ]
    },
    {
      "cell_type": "markdown",
      "metadata": {
        "id": "q9ZhU9XxP7Hd",
        "colab_type": "text"
      },
      "source": [
        "## Problem 9.6"
      ]
    },
    {
      "cell_type": "markdown",
      "metadata": {
        "id": "q5ci_PQIUZmR",
        "colab_type": "text"
      },
      "source": [
        "Similar instructions as in Problem 9.5\n",
        "\n",
        "Task 1. Plot 9.1 and 9.3 to calculate Apparent Gas in Place and confirm waterdrive\n",
        "\n",
        "Task 2. calculate aquifer influx"
      ]
    },
    {
      "cell_type": "code",
      "metadata": {
        "id": "4qujFUnUQFhi",
        "colab_type": "code",
        "colab": {
          "base_uri": "https://localhost:8080/",
          "height": 698
        },
        "outputId": "fb7517ee-ba30-4645-d5f8-d56584c6ebf3"
      },
      "source": [
        "columns = ['months', 'Gp', 'p', 'Bg']\n",
        "data = pd.read_csv('/content/Table 9.14-Data for Problem 9.6.csv', names=columns)\n",
        "data"
      ],
      "execution_count": 3,
      "outputs": [
        {
          "output_type": "execute_result",
          "data": {
            "text/html": [
              "<div>\n",
              "<style scoped>\n",
              "    .dataframe tbody tr th:only-of-type {\n",
              "        vertical-align: middle;\n",
              "    }\n",
              "\n",
              "    .dataframe tbody tr th {\n",
              "        vertical-align: top;\n",
              "    }\n",
              "\n",
              "    .dataframe thead th {\n",
              "        text-align: right;\n",
              "    }\n",
              "</style>\n",
              "<table border=\"1\" class=\"dataframe\">\n",
              "  <thead>\n",
              "    <tr style=\"text-align: right;\">\n",
              "      <th></th>\n",
              "      <th>months</th>\n",
              "      <th>Gp</th>\n",
              "      <th>p</th>\n",
              "      <th>Bg</th>\n",
              "    </tr>\n",
              "  </thead>\n",
              "  <tbody>\n",
              "    <tr>\n",
              "      <th>0</th>\n",
              "      <td>0</td>\n",
              "      <td>0.0000</td>\n",
              "      <td>2418</td>\n",
              "      <td>0.005639</td>\n",
              "    </tr>\n",
              "    <tr>\n",
              "      <th>1</th>\n",
              "      <td>4</td>\n",
              "      <td>3.0159</td>\n",
              "      <td>2364</td>\n",
              "      <td>0.005769</td>\n",
              "    </tr>\n",
              "    <tr>\n",
              "      <th>2</th>\n",
              "      <td>6</td>\n",
              "      <td>4.9369</td>\n",
              "      <td>2367</td>\n",
              "      <td>0.005762</td>\n",
              "    </tr>\n",
              "    <tr>\n",
              "      <th>3</th>\n",
              "      <td>8</td>\n",
              "      <td>6.2935</td>\n",
              "      <td>2365</td>\n",
              "      <td>0.005767</td>\n",
              "    </tr>\n",
              "    <tr>\n",
              "      <th>4</th>\n",
              "      <td>10</td>\n",
              "      <td>7.8446</td>\n",
              "      <td>2350</td>\n",
              "      <td>0.005804</td>\n",
              "    </tr>\n",
              "    <tr>\n",
              "      <th>5</th>\n",
              "      <td>12</td>\n",
              "      <td>10.0671</td>\n",
              "      <td>2335</td>\n",
              "      <td>0.005842</td>\n",
              "    </tr>\n",
              "    <tr>\n",
              "      <th>6</th>\n",
              "      <td>14</td>\n",
              "      <td>10.9672</td>\n",
              "      <td>2335</td>\n",
              "      <td>0.005842</td>\n",
              "    </tr>\n",
              "    <tr>\n",
              "      <th>7</th>\n",
              "      <td>16</td>\n",
              "      <td>12.5068</td>\n",
              "      <td>2327</td>\n",
              "      <td>0.005863</td>\n",
              "    </tr>\n",
              "    <tr>\n",
              "      <th>8</th>\n",
              "      <td>22</td>\n",
              "      <td>19.1569</td>\n",
              "      <td>2269</td>\n",
              "      <td>0.006017</td>\n",
              "    </tr>\n",
              "    <tr>\n",
              "      <th>9</th>\n",
              "      <td>24</td>\n",
              "      <td>21.8601</td>\n",
              "      <td>2254</td>\n",
              "      <td>0.006058</td>\n",
              "    </tr>\n",
              "    <tr>\n",
              "      <th>10</th>\n",
              "      <td>26</td>\n",
              "      <td>25.0694</td>\n",
              "      <td>2237</td>\n",
              "      <td>0.006105</td>\n",
              "    </tr>\n",
              "    <tr>\n",
              "      <th>11</th>\n",
              "      <td>28</td>\n",
              "      <td>27.3912</td>\n",
              "      <td>2213</td>\n",
              "      <td>0.006174</td>\n",
              "    </tr>\n",
              "    <tr>\n",
              "      <th>12</th>\n",
              "      <td>36</td>\n",
              "      <td>39.7172</td>\n",
              "      <td>2156</td>\n",
              "      <td>0.006345</td>\n",
              "    </tr>\n",
              "    <tr>\n",
              "      <th>13</th>\n",
              "      <td>38</td>\n",
              "      <td>41.5226</td>\n",
              "      <td>2143</td>\n",
              "      <td>0.006385</td>\n",
              "    </tr>\n",
              "    <tr>\n",
              "      <th>14</th>\n",
              "      <td>46</td>\n",
              "      <td>52.8945</td>\n",
              "      <td>2098</td>\n",
              "      <td>0.006529</td>\n",
              "    </tr>\n",
              "    <tr>\n",
              "      <th>15</th>\n",
              "      <td>50</td>\n",
              "      <td>58.0177</td>\n",
              "      <td>2091</td>\n",
              "      <td>0.006552</td>\n",
              "    </tr>\n",
              "    <tr>\n",
              "      <th>16</th>\n",
              "      <td>56</td>\n",
              "      <td>67.3282</td>\n",
              "      <td>2034</td>\n",
              "      <td>0.006746</td>\n",
              "    </tr>\n",
              "    <tr>\n",
              "      <th>17</th>\n",
              "      <td>60</td>\n",
              "      <td>72.8696</td>\n",
              "      <td>2014</td>\n",
              "      <td>0.006816</td>\n",
              "    </tr>\n",
              "    <tr>\n",
              "      <th>18</th>\n",
              "      <td>62</td>\n",
              "      <td>75.7672</td>\n",
              "      <td>1996</td>\n",
              "      <td>0.006881</td>\n",
              "    </tr>\n",
              "    <tr>\n",
              "      <th>19</th>\n",
              "      <td>66</td>\n",
              "      <td>81.8056</td>\n",
              "      <td>1980</td>\n",
              "      <td>0.006940</td>\n",
              "    </tr>\n",
              "    <tr>\n",
              "      <th>20</th>\n",
              "      <td>76</td>\n",
              "      <td>96.2496</td>\n",
              "      <td>1913</td>\n",
              "      <td>0.007196</td>\n",
              "    </tr>\n",
              "    <tr>\n",
              "      <th>21</th>\n",
              "      <td>86</td>\n",
              "      <td>110.3559</td>\n",
              "      <td>1853</td>\n",
              "      <td>0.007440</td>\n",
              "    </tr>\n",
              "  </tbody>\n",
              "</table>\n",
              "</div>"
            ],
            "text/plain": [
              "    months        Gp     p        Bg\n",
              "0        0    0.0000  2418  0.005639\n",
              "1        4    3.0159  2364  0.005769\n",
              "2        6    4.9369  2367  0.005762\n",
              "3        8    6.2935  2365  0.005767\n",
              "4       10    7.8446  2350  0.005804\n",
              "5       12   10.0671  2335  0.005842\n",
              "6       14   10.9672  2335  0.005842\n",
              "7       16   12.5068  2327  0.005863\n",
              "8       22   19.1569  2269  0.006017\n",
              "9       24   21.8601  2254  0.006058\n",
              "10      26   25.0694  2237  0.006105\n",
              "11      28   27.3912  2213  0.006174\n",
              "12      36   39.7172  2156  0.006345\n",
              "13      38   41.5226  2143  0.006385\n",
              "14      46   52.8945  2098  0.006529\n",
              "15      50   58.0177  2091  0.006552\n",
              "16      56   67.3282  2034  0.006746\n",
              "17      60   72.8696  2014  0.006816\n",
              "18      62   75.7672  1996  0.006881\n",
              "19      66   81.8056  1980  0.006940\n",
              "20      76   96.2496  1913  0.007196\n",
              "21      86  110.3559  1853  0.007440"
            ]
          },
          "metadata": {
            "tags": []
          },
          "execution_count": 3
        }
      ]
    },
    {
      "cell_type": "code",
      "metadata": {
        "id": "FAtkGNWQVIm5",
        "colab_type": "code",
        "colab": {
          "base_uri": "https://localhost:8080/",
          "height": 384
        },
        "outputId": "fb5ae55d-2acb-40d2-b29d-a2b6cfb57f19"
      },
      "source": [
        "Gp, Bg = data['Gp'].values, data['Bg'].values\n",
        "F = Gp * Bg\n",
        "Eg = Bg - Bg[0]\n",
        "\n",
        "plt.figure(figsize=(15,5))\n",
        "\n",
        "plt.subplot(1,2,1)\n",
        "plt.plot(Eg, F, '.-', label='data')\n",
        "plt.title('Plot 9.1: F vs Eg')\n",
        "plt.xlabel('Eg'); plt.ylabel('F')\n",
        "plt.xlim(xmin=0); plt.ylim(ymin=0)\n",
        "\n",
        "# confirm waterdrive\n",
        "def linear(x, a):\n",
        "  # a: slope\n",
        "  # b = 0, intercept at origin (0,0)\n",
        "  y = a * x\n",
        "  return(y)\n",
        "\n",
        "# popt, pcov = curve_fit(linear, Eg[:cutoff], F[:cutoff])\n",
        "popt, pcov = curve_fit(linear, Eg, F)\n",
        "y = popt[0] * Eg\n",
        "print('Apparent gas in place:', popt[0], 'Tscf')\n",
        "\n",
        "plt.plot(Eg, y, '-', label='Regression line')\n",
        "\n",
        "# showing the curve upward \n",
        "cutoff = 9\n",
        "popt1, pcov1 = curve_fit(linear, Eg[:cutoff], F[:cutoff])\n",
        "y1 = popt1[0] * Eg\n",
        "\n",
        "plt.plot(Eg, y1, '--', color='black', label='Normal line')\n",
        "plt.legend()\n",
        "\n",
        "plt.subplot(1,2,2)\n",
        "plt.plot(Gp, (F/Eg), '.-')\n",
        "plt.title('Plot 9.3: F/Eg vs Gp')\n",
        "plt.xlabel('Gp'); plt.ylabel('F/Eg')\n",
        "plt.xlim(xmin=0)\n",
        "\n",
        "plt.show()"
      ],
      "execution_count": 12,
      "outputs": [
        {
          "output_type": "stream",
          "text": [
            "Apparent gas in place: 419.25977419650883 Tscf\n"
          ],
          "name": "stdout"
        },
        {
          "output_type": "stream",
          "text": [
            "/usr/local/lib/python3.6/dist-packages/ipykernel_launcher.py:36: RuntimeWarning: invalid value encountered in true_divide\n"
          ],
          "name": "stderr"
        },
        {
          "output_type": "display_data",
          "data": {
            "image/png": "[encoded data removed]",
            "text/plain": [
              "<Figure size 1080x360 with 2 Axes>"
            ]
          },
          "metadata": {
            "tags": [],
            "needs_background": "light"
          }
        }
      ]
    },
    {
      "cell_type": "markdown",
      "metadata": {
        "id": "l_W7Aj2uCV8Z",
        "colab_type": "text"
      },
      "source": [
        "## Problem 9.7\n",
        "\n",
        "Task 1. Determine productive area $A$ (from the known OGIP)\n",
        "\n",
        "$$G=\\frac{Ah \\phi (1-S_{wi})}{B_{gi}}$$\n",
        "\n",
        "$$A=\\frac{G_{fgi}B_{gi}}{h \\phi (1-S_{wi})}$$\n",
        "\n",
        "Task 2. Determine reservoir pressure when only the cushion gas remains in the reservoir \n",
        "\n",
        "Task 3. Determine reservoir pressure when there's 8 Bscf of working storage gas + cushion gas in reservoir"
      ]
    },
    {
      "cell_type": "markdown",
      "metadata": {
        "id": "TXMzDmjRqowe",
        "colab_type": "text"
      },
      "source": [
        "### Task 1"
      ]
    },
    {
      "cell_type": "code",
      "metadata": {
        "id": "wKuo_pTTCoHb",
        "colab_type": "code",
        "colab": {
          "base_uri": "https://localhost:8080/",
          "height": 34
        },
        "outputId": "76cb1c12-1395-476c-dc0f-1ce493ef8866"
      },
      "source": [
        "# Task 1. determine productive area\n",
        "\n",
        "# knowns\n",
        "poro = 0.25\n",
        "k = 600 # mD\n",
        "pi = 1145 # initial pressure, pi\n",
        "temp = 90 # fahrenheit\n",
        "swi = 0.35 # initial Sw\n",
        "h = 20 # reservoir thickness, ft\n",
        "zi = 0.86 # initial gas compressibility factor\n",
        "sg = 0.6 # storaged gas specific gravity\n",
        "Gfgi = 22.2 # ogip, Bscf\n",
        "cush = 12.5 # amount of cushion gas, Bscf \n",
        "\n",
        "\"calculate Bgi\"\n",
        "import sys\n",
        "sys.path.append('/content/reservoir-engineering/Unit 2 Review of Rock and Fluid Properties/functions')\n",
        "from gasfvf import gasfvf\n",
        "\n",
        "temp = temp + 460 # fahrenheit to rankine\n",
        "Bgi = gasfvf(zi, temp, pi)\n",
        "Bgi # res ft3/scf\n",
        "\n",
        "Gfgi_conv = Gfgi * 1E+9 # Bscf to scf\n",
        "\n",
        "A = (Gfgi_conv * Bgi) / (h * poro * (1 - swi)) # result in ft2\n",
        "print('Reservoir productive area:', A, 'ft2')"
      ],
      "execution_count": 37,
      "outputs": [
        {
          "output_type": "stream",
          "text": [
            "Reservoir productive area: 79798352.05374539 ft2\n"
          ],
          "name": "stdout"
        }
      ]
    },
    {
      "cell_type": "markdown",
      "metadata": {
        "id": "Rk5Gcw3krdHP",
        "colab_type": "text"
      },
      "source": [
        "### Task 2"
      ]
    },
    {
      "cell_type": "code",
      "metadata": {
        "id": "7su4ZnT8NqsL",
        "colab_type": "code",
        "colab": {
          "base_uri": "https://localhost:8080/",
          "height": 50
        },
        "outputId": "1be3b8ec-9f32-424b-89ee-3cdb2298af8b"
      },
      "source": [
        "# Task 2. determine pressure when cushion gas remained in the reservoir\n",
        "# solve using coupled system of equations\n",
        "\n",
        "\"pseudocritical pressure and temperature\"\n",
        "P_pc = 756.8 - (131.07 * sg) - (3.6 * sg**2)\n",
        "T_pc = 169.2 + (349.5 * sg) - (74 * sg**2)\n",
        "\n",
        "\"pseudoreduced temp\"\n",
        "T_pr = temp / T_pc\n",
        "# P_pr is not known because p is not known\n",
        "\n",
        "\"calculate p/z\"\n",
        "Gp = Gfgi - cush # produced gas is OGIP minus the remaining cushion gas amount\n",
        "pz = (pi / zi) * (1 - (Gp / Gfgi))\n",
        "\n",
        "print('p/z ratio of the reservoir:', pz)\n",
        "print('pseudocritical pressure:', P_pc)"
      ],
      "execution_count": 39,
      "outputs": [
        {
          "output_type": "stream",
          "text": [
            "p/z ratio of the reservoir: 749.6595432641944\n",
            "pseudocritical pressure: 676.8619999999999\n"
          ],
          "name": "stdout"
        }
      ]
    },
    {
      "cell_type": "markdown",
      "metadata": {
        "id": "8O9-qje9dqmN",
        "colab_type": "text"
      },
      "source": [
        "Already known from above calculation:\n",
        "\n",
        "$$\\frac{p}{z}=749.66$$\n",
        "\n",
        "Substitute $p_{pr}=\\frac{p}{p_{pc}}$, then:\n",
        "\n",
        "$$\\frac{p_{pr} \\cdot p_{pc}}{z}=749.66$$\n",
        "\n",
        "Already known from above calculation as well, $p_{pc}=676.862$ psia. The above relations becomes:\n",
        "\n",
        "$$\\frac{p_{pr} \\cdot 676.862}{z}=749.66$$\n",
        "\n",
        "$$z=\\frac{676.862}{749.66} p_{pr}$$"
      ]
    },
    {
      "cell_type": "code",
      "metadata": {
        "id": "P1jodp85ZCWt",
        "colab_type": "code",
        "colab": {
          "base_uri": "https://localhost:8080/",
          "height": 386
        },
        "outputId": "a10adc28-e22c-4c09-bcc9-8c2e19e7ef57"
      },
      "source": [
        "ppr = np.arange(1, 1.2, 0.05)\n",
        "\n",
        "\"calculate z of known T_pr and arrays of P_pr\"\n",
        "from dranchuk_aboukassem import dranchuk\n",
        "\n",
        "z = []\n",
        "for i in range(len(ppr)):\n",
        "  rho_calc, z_calc = dranchuk(T_pr, ppr[i])\n",
        "  z.append(z_calc)\n",
        "\n",
        "y = (P_pc / pz) * ppr # the above relations\n",
        "\n",
        "plt.figure(figsize=(10,5))\n",
        "plt.plot(ppr, z, label='Dranchuk-Aboukassem using T_pr={}'.format(np.round(T_pr, 2)))\n",
        "plt.plot(ppr, y, label='Relations z = {} * P_pr'.format(np.round((P_pc / pz), 4)))\n",
        "plt.xlabel('P_pr'); plt.ylabel('z')\n",
        "plt.grid('true')\n",
        "\n",
        "# cue point\n",
        "P_pr = 1.0135\n",
        "rho_calc, z_calc = dranchuk(T_pr, P_pr)\n",
        "plt.plot(P_pr, z_calc, 'o', label='solution cue point')\n",
        "print('pseudoreduced pressure solution from cue point:', P_pr)\n",
        "print('z solution from cue point:', z_calc)\n",
        "\n",
        "\"Finally, calculate the pressure\"\n",
        "p = P_pr * P_pc\n",
        "print('Pressure solution:', p, 'psia')\n",
        "\n",
        "plt.legend()\n",
        "plt.show()"
      ],
      "execution_count": 59,
      "outputs": [
        {
          "output_type": "stream",
          "text": [
            "pseudoreduced pressure solution from cue point: 1.0135\n",
            "z solution from cue point: 0.915360532818813\n",
            "Pressure solution: 685.9996369999999 psia\n"
          ],
          "name": "stdout"
        },
        {
          "output_type": "display_data",
          "data": {
            "image/png": "[encoded data removed]",
            "text/plain": [
              "<Figure size 720x360 with 1 Axes>"
            ]
          },
          "metadata": {
            "tags": [],
            "needs_background": "light"
          }
        }
      ]
    },
    {
      "cell_type": "markdown",
      "metadata": {
        "id": "HGtgOUGTrfLn",
        "colab_type": "text"
      },
      "source": [
        "### Task 3"
      ]
    },
    {
      "cell_type": "code",
      "metadata": {
        "id": "qUjbshxjrgkY",
        "colab_type": "code",
        "colab": {
          "base_uri": "https://localhost:8080/",
          "height": 402
        },
        "outputId": "407feeab-cb16-4242-a13b-c1255915a413"
      },
      "source": [
        "# Task 2. determine pressure when cushion + working gas remained in the reservoir\n",
        "# solve using coupled system of equations\n",
        "\n",
        "\"pseudocritical pressure and temperature\"\n",
        "P_pc = 756.8 - (131.07 * sg) - (3.6 * sg**2)\n",
        "T_pc = 169.2 + (349.5 * sg) - (74 * sg**2)\n",
        "\n",
        "\"pseudoreduced temp\"\n",
        "T_pr = temp / T_pc\n",
        "# P_pr is not known because p is not known\n",
        "\n",
        "\"calculate p/z\"\n",
        "working_gas = 8\n",
        "Gp = Gfgi - (cush + working_gas) # produced gas is OGIP minus the remaining cushion gas amount\n",
        "pz = (pi / zi) * (1 - (Gp / Gfgi))\n",
        "\n",
        "print('p/z ratio of the reservoir:', pz)\n",
        "\n",
        "\" Solving for z and pressure \"\n",
        "\n",
        "ppr = np.arange(1, 3, 0.1)\n",
        "\n",
        "\"calculate z of known T_pr and arrays of P_pr\"\n",
        "from dranchuk_aboukassem import dranchuk\n",
        "\n",
        "z = []\n",
        "for i in range(len(ppr)):\n",
        "  rho_calc, z_calc = dranchuk(T_pr, ppr[i])\n",
        "  z.append(z_calc)\n",
        "\n",
        "y = (P_pc / pz) * ppr # the above relations\n",
        "\n",
        "plt.figure(figsize=(10,5))\n",
        "plt.plot(ppr, z, label='Dranchuk-Aboukassem using T_pr={}'.format(np.round(T_pr, 2)))\n",
        "plt.plot(ppr, y, label='Relations z = {} * P_pr'.format(np.round((P_pc / pz), 4)))\n",
        "plt.xlabel('P_pr'); plt.ylabel('z')\n",
        "plt.grid('true')\n",
        "\n",
        "# cue point\n",
        "P_pr = 1.585\n",
        "rho_calc, z_calc = dranchuk(T_pr, P_pr)\n",
        "plt.plot(P_pr, z_calc, 'o', label='solution cue point')\n",
        "print('pseudoreduced pressure solution from cue point:', P_pr)\n",
        "print('z solution from cue point:', z_calc)\n",
        "\n",
        "\"Finally, calculate the pressure\"\n",
        "p = P_pr * P_pc\n",
        "print('Pressure solution:', p, 'psia')\n",
        "\n",
        "plt.legend()\n",
        "plt.show()"
      ],
      "execution_count": 71,
      "outputs": [
        {
          "output_type": "stream",
          "text": [
            "p/z ratio of the reservoir: 1229.441650953279\n",
            "pseudoreduced pressure solution from cue point: 1.585\n",
            "z solution from cue point: 0.8733562805332019\n",
            "Pressure solution: 1072.8262699999998 psia\n"
          ],
          "name": "stdout"
        },
        {
          "output_type": "display_data",
          "data": {
            "image/png": "[encoded data removed]",
            "text/plain": [
              "<Figure size 720x360 with 1 Axes>"
            ]
          },
          "metadata": {
            "tags": [],
            "needs_background": "light"
          }
        }
      ]
    }
  ]
}