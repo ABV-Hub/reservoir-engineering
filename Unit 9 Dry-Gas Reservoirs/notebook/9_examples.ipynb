{
  "nbformat": 4,
  "nbformat_minor": 0,
  "metadata": {
    "colab": {
      "name": "9_examples.ipynb",
      "provenance": [],
      "collapsed_sections": [],
      "authorship_tag": "ABX9TyMjzMsBjGkKQs7IW4bO6d40",
      "include_colab_link": true
    },
    "kernelspec": {
      "name": "python3",
      "display_name": "Python 3"
    }
  },
  "cells": [
    {
      "cell_type": "markdown",
      "metadata": {
        "id": "view-in-github",
        "colab_type": "text"
      },
      "source": [
        "<a href=\"https://colab.research.google.com/github/yohanesnuwara/reservoir-engineering/blob/master/Unit%209%20Dry-Gas%20Reservoirs/notebook/9_examples.ipynb\" target=\"_parent\"><img src=\"https://colab.research.google.com/assets/colab-badge.svg\" alt=\"Open In Colab\"/></a>"
      ]
    },
    {
      "cell_type": "markdown",
      "metadata": {
        "id": "1er5gHgqaN6H",
        "colab_type": "text"
      },
      "source": [
        "# **Unit 9 Dry-Gas Reservoirs**"
      ]
    },
    {
      "cell_type": "code",
      "metadata": {
        "id": "t5m6_8UAZy3F",
        "colab_type": "code",
        "colab": {}
      },
      "source": [
        "import numpy as np\n",
        "import matplotlib.pyplot as plt\n",
        "import pandas as pd"
      ],
      "execution_count": 0,
      "outputs": []
    },
    {
      "cell_type": "code",
      "metadata": {
        "id": "Jmy2wJWFanIV",
        "colab_type": "code",
        "outputId": "58867e98-cf76-4709-f95e-fb0e0aa80dcd",
        "colab": {
          "base_uri": "https://localhost:8080/",
          "height": 151
        }
      },
      "source": [
        "!git clone https://www.github.com/yohanesnuwara/reservoir-engineering"
      ],
      "execution_count": 0,
      "outputs": [
        {
          "output_type": "stream",
          "text": [
            "Cloning into 'reservoir-engineering'...\n",
            "warning: redirecting to https://github.com/yohanesnuwara/reservoir-engineering.git/\n",
            "remote: Enumerating objects: 115, done.\u001b[K\n",
            "remote: Counting objects: 100% (115/115), done.\u001b[K\n",
            "remote: Compressing objects: 100% (102/102), done.\u001b[K\n",
            "remote: Total 811 (delta 33), reused 0 (delta 0), pack-reused 696\u001b[K\n",
            "Receiving objects: 100% (811/811), 3.41 MiB | 29.56 MiB/s, done.\n",
            "Resolving deltas: 100% (331/331), done.\n"
          ],
          "name": "stdout"
        }
      ]
    },
    {
      "cell_type": "markdown",
      "metadata": {
        "id": "zAEggd9Kc_4P",
        "colab_type": "text"
      },
      "source": [
        "## **Functions (Chapter 9.2 Volumetrics and Recovery Factors)**"
      ]
    },
    {
      "cell_type": "code",
      "metadata": {
        "id": "lI6KAQSob-0y",
        "colab_type": "code",
        "colab": {}
      },
      "source": [
        "def recovery_factor_drygas_waterdrive(swi, Bgi, sgr, Bga):\n",
        "  \"recovery factor of dry gas reservoir with waterdrive\"\n",
        "  # gas FVF at abandonment pressure (RB/scf)\n",
        "  # sgr: residual gas saturation\n",
        "  rf = (((1 - swi) / Bgi) - (sgr / Bga)) / ((1 - swi) / Bgi)\n",
        "  return(rf)\n",
        "\n",
        "def recovery_factor_drygas_volumetric(Bgi, Bga):\n",
        "  \"recovery factor of dry gas reservoir with NO waterdrive\"  \n",
        "  # gas FVF at abandonment pressure (RB/scf)\n",
        "  # sgr: residual gas saturation\n",
        "  rf = 1 - (Bgi / Bga)\n",
        "  return(rf)"
      ],
      "execution_count": 0,
      "outputs": []
    },
    {
      "cell_type": "markdown",
      "metadata": {
        "id": "zu77fWYXgsbp",
        "colab_type": "text"
      },
      "source": [
        "## **Chapter 9.3 Gas Equivalence to Condensates and Water**\n",
        "\n",
        "It's already mentioned in book that **1 STB of condensate is equivalent with 700 to 750 scf of gas** measured at standard conditions (`T = 519.67 R; 15.6 C; 60 F` and `P = 14.7 psi; 101.325 kPa`). I'm interested to find out the **API gravity** of condensates, by re-arranging Equation 9.5, 9.6, and 9.7)"
      ]
    },
    {
      "cell_type": "code",
      "metadata": {
        "id": "GdJLGrbGgvxB",
        "colab_type": "code",
        "outputId": "dee6e9e9-6923-452c-fa8f-3fa848deb5e7",
        "colab": {
          "base_uri": "https://localhost:8080/",
          "height": 34
        }
      },
      "source": [
        "\"Gas equivalence to condensate\"\n",
        "\n",
        "Tsc = 519.57 # standard temp in Rankine\n",
        "psc = 14.7 # standard pressure in psi\n",
        "R = 10.732\n",
        "rho_w = 350.16 # water density in lbm/STB\n",
        "V1 = 700 # the smallest value of gas equivalence (scf)\n",
        "V2 = 750 # the largest value of gas equivalence (scf)\n",
        "\n",
        "# solve for api from Equation 9.5, 9.6, 9.7\n",
        "from scipy.optimize import fsolve\n",
        "\n",
        "def f(api):\n",
        "  so = 141.5 / (api + 131.5) # so: specific gravity of oil (dimensionless)\n",
        "  Mo = 5854 / (api - 8.811) # molecular weight of oil\n",
        "  n = (rho_w * so) / Mo\n",
        "  # real gas equation: V = nRT/p\n",
        "  f1 = ((n * R * Tsc) / psc) - V1\n",
        "  return(f1)\n",
        "\n",
        "api1 = fsolve(f, 40)\n",
        "api1 = np.float64(api1)\n",
        "\n",
        "def f(api):\n",
        "  so = 141.5 / (api + 131.5) # so: specific gravity of oil (dimensionless)\n",
        "  Mo = 5854 / (api - 8.811) # molecular weight of oil\n",
        "  n = (rho_w * so) / Mo\n",
        "  # real gas equation: V = nRT/p\n",
        "  f2 = ((n * R * Tsc) / psc) - V2\n",
        "  return(f2)\n",
        "\n",
        "api2 = fsolve(f, 40)\n",
        "api2 = np.float64(api2)\n",
        "\n",
        "print(\"API gravity of condensate is between:\", api1, \"API and:\", api2, \"API\")"
      ],
      "execution_count": 15,
      "outputs": [
        {
          "output_type": "stream",
          "text": [
            "API gravity of condensate is between: 47.93319100231802 API and: 51.57941144067795 API\n"
          ],
          "name": "stdout"
        }
      ]
    },
    {
      "cell_type": "markdown",
      "metadata": {
        "id": "oZalZLnZq3H2",
        "colab_type": "text"
      },
      "source": [
        "In most references, the value of API for condesates is greater than this value range (50 to 80 API). For example:\n",
        "\n",
        "<div>\n",
        "<img src=\"https://user-images.githubusercontent.com/51282928/75760535-0335de80-5d6a-11ea-899d-a1f7fde50c80.jpg\" width=\"500\"/>\n",
        "</div>"
      ]
    },
    {
      "cell_type": "markdown",
      "metadata": {
        "id": "MO8QdbW6t-W-",
        "colab_type": "text"
      },
      "source": [
        "**100 STB of condensate with API gravity of 65**, is therefore equivalent to: "
      ]
    },
    {
      "cell_type": "code",
      "metadata": {
        "id": "LKhWCk6Fp0cF",
        "colab_type": "code",
        "outputId": "76915f8c-0583-4d69-ef92-f3db4f4daee6",
        "colab": {
          "base_uri": "https://localhost:8080/",
          "height": 34
        }
      },
      "source": [
        "def condensate_to_gas_equivalence(api, stb):\n",
        "  \"Derivation from real gas equation\"\n",
        "  Tsc = 519.57 # standard temp in Rankine\n",
        "  psc = 14.7 # standard pressure in psi\n",
        "  R = 10.732\n",
        "  rho_w = 350.16 # water density in lbm/STB\n",
        "\n",
        "  so = 141.5 / (api + 131.5) # so: specific gravity of oil (dimensionless)\n",
        "  Mo = 5854 / (api - 8.811) # molecular weight of oil\n",
        "  n = (rho_w * so) / Mo  \n",
        "\n",
        "  V1stb = ((n * R * Tsc) / psc)\n",
        "  V = V1stb * stb\n",
        "  return(V1stb, V)\n",
        "\n",
        "stb = 100; api = 65\n",
        "\n",
        "V1stb, V = condensate_to_gas_equivalence(api, stb)\n",
        "print(\"1 STB of condensate is equivalent to:\", V1stb, \"scf of gas.\", stb, \"STB of condensate is equivalent to:\", V, \"scf of gas\")"
      ],
      "execution_count": 16,
      "outputs": [
        {
          "output_type": "stream",
          "text": [
            "1 STB of condensate is equivalent to: 918.0501371833875 scf of gas. 100 STB of condensate is equivalent to: 91805.01371833876 scf of gas\n"
          ],
          "name": "stdout"
        }
      ]
    },
    {
      "cell_type": "markdown",
      "metadata": {
        "id": "e33YiYDJO-Ka",
        "colab_type": "text"
      },
      "source": [
        "The gas equivalence is also simplified into a more general form (Eq 9.5)\n",
        "\n",
        "$$V = 132849\\frac{\\gamma}{M}$$\n",
        "\n",
        "$M$ is molecular weight \n",
        "* for condensate/oil, $M_o = \\frac{42.43\\gamma_o}{1.008-\\gamma_o}$ with $\\gamma_o$ is oil specific gravity; $\\gamma_o = \\frac{141.5}{api + 131.5}$ and $api$ is the API gravity\n",
        "* for water, $M_w = 18$ and $\\gamma_w = 1$"
      ]
    },
    {
      "cell_type": "markdown",
      "metadata": {
        "id": "GKvuvdcJM_fb",
        "colab_type": "text"
      },
      "source": [
        "**100 STB of water**, is therefore equivalent to: "
      ]
    },
    {
      "cell_type": "code",
      "metadata": {
        "id": "BaX_INStNC9P",
        "colab_type": "code",
        "outputId": "25d33b6b-5d08-40e8-875d-ad1abe745bf9",
        "colab": {
          "base_uri": "https://localhost:8080/",
          "height": 34
        }
      },
      "source": [
        "stb = 100\n",
        "V1stb = 132849 * (1 / 18)\n",
        "V = stb * V1stb\n",
        "print(stb, \"STB of water is equivalent to:\", V, \"scf of gas\")"
      ],
      "execution_count": 17,
      "outputs": [
        {
          "output_type": "stream",
          "text": [
            "100 STB of water is equivalent to: 738050.0 scf of gas\n"
          ],
          "name": "stdout"
        }
      ]
    },
    {
      "cell_type": "markdown",
      "metadata": {
        "id": "-rCDg8zHYD_q",
        "colab_type": "text"
      },
      "source": [
        "## **Chapter 9.4 Material-Balance Analysis of Dry-Gas Reservoirs**\n",
        "\n",
        "General equation of material balance in dry gas reservoirs:\n",
        "$$F = Gfgi \\cdot Eg + \\Delta W + Gfgi \\cdot Bgi \\cdot Efw$$\n",
        "\n",
        "$Gfgi \\cdot Bgi \\cdot Efw = 0$ because gas normally has compressibility higher than water and rock. In **no waterdrive**, aquifer influx $\\Delta W = 0$. The material balance becomes:"
      ]
    },
    {
      "cell_type": "code",
      "metadata": {
        "id": "gUTMmUInYK90",
        "colab_type": "code",
        "colab": {}
      },
      "source": [
        "def matbalance_drygas_volumetric(Gp, Bg, Bgi, Gfgi):\n",
        "  # no waterdrive\n",
        "  right_term = Gp * Bg\n",
        "  left_term = Gfgi * (Bg - Bgi)\n",
        "  return(right_term, left_term) # right term = left term (balance)"
      ],
      "execution_count": 0,
      "outputs": []
    },
    {
      "cell_type": "markdown",
      "metadata": {
        "id": "U0Krj9N5aBQO",
        "colab_type": "text"
      },
      "source": [
        "$B_g = \\frac{zTp_s}{pT_s}$ from Chapter 2 is subtituted into the material balance, it becomes Eq 9.15: \n",
        "\n",
        "$$\\frac{p}{z} = \\frac{pi}{zi} - \\frac{pi \\cdot Gp}{zi \\cdot Gfgi}$$ \n",
        "\n",
        "Re-arranging the equation gives **estimation of OGIP**:"
      ]
    },
    {
      "cell_type": "code",
      "metadata": {
        "id": "OiXqkrnfah9P",
        "colab_type": "code",
        "colab": {}
      },
      "source": [
        "def ogip_matbalance_drygas_volumetric(Gp, p, z, pi, zi):\n",
        "  # no waterdrive\n",
        "  Gfgi = Gp / (1 - ((p * zi) / (pi * z)))\n",
        "  return(Gfgi)"
      ],
      "execution_count": 0,
      "outputs": []
    },
    {
      "cell_type": "markdown",
      "metadata": {
        "id": "JkJhlQDOcXuD",
        "colab_type": "text"
      },
      "source": [
        "### Example 9.1 Determination of OGIP by Material-Balance"
      ]
    },
    {
      "cell_type": "code",
      "metadata": {
        "id": "BZhzqgiVcd-x",
        "colab_type": "code",
        "outputId": "38b376a1-544b-48c8-da29-87ddb79fdd96",
        "colab": {
          "base_uri": "https://localhost:8080/",
          "height": 67
        }
      },
      "source": [
        "\"Task. determine OGIP\"\n",
        "\n",
        "# known: volumetric (no waterdrive) dry gas reservoir\n",
        "pi = 3000 # initial pressure, psi\n",
        "temp = 190 # formation temperature, F\n",
        "p_current = 2876 # current pressure after production, psia\n",
        "Gp = 384 # gas production, MMscf\n",
        "pc = 671 # critical pressure, psia\n",
        "Tc = 358 # critical temperature, Rankine\n",
        "\n",
        "# conversion\n",
        "Gp = Gp * 1E+06 # from MMscf to scf\n",
        "\n",
        "# determine gas compressibility factor z using Dranchuk-Abou Kassem EOS rather than using chart\n",
        "import os, sys\n",
        "sys.path.append('/content/reservoir-engineering/Unit 2 Review of Rock and Fluid Properties/functions')\n",
        "from dranchuk_aboukassem import dranchuk\n",
        "\n",
        "# convert temperature from F to Rankine\n",
        "temp_conv = temp + 459.67\n",
        "\n",
        "P_pr_initial = pi / pc\n",
        "P_pr_current = p_current / pc\n",
        "T_pr = temp_conv / Tc\n",
        "\n",
        "rho_pr_initial, z_initial = dranchuk(T_pr, P_pr_initial)\n",
        "rho_pr_current, z_current = dranchuk(T_pr, P_pr_current)\n",
        "print(\"Initial gas compressibility factor:\", z_initial) \n",
        "print(\"Current gas compressibility factor:\", z_current) \n",
        "\n",
        "# calculate OGIP\n",
        "Gfgi = ogip_matbalance_drygas_volumetric(Gp, p_current, z_current, pi, z_initial)\n",
        "print(\"Original Gas in Place:\", Gfgi / 1E+09, \"Bscf\")"
      ],
      "execution_count": 20,
      "outputs": [
        {
          "output_type": "stream",
          "text": [
            "Initial gas compressibility factor: 0.9069024150713222\n",
            "Current gas compressibility factor: 0.9039322509456235\n",
            "Original Gas in Place: 10.056746912653262 Bscf\n"
          ],
          "name": "stdout"
        }
      ]
    },
    {
      "cell_type": "markdown",
      "metadata": {
        "id": "CbX7Q4XJt__L",
        "colab_type": "text"
      },
      "source": [
        "## **Chapter 9.5 Material-Balance Plots to Determine OGIP**\n",
        "\n",
        "### Plot 9.1: $G_p B_g$ vs $B_g - B_gi$\n",
        "* **Straight line** indicates gas is volumetric (waterdrive is negligible). Intercept $b = 0$ and slope $m = Gfgi$\n",
        "* **Curving upward** indicates waterdrive is present ($\\Delta W$ is not negligible, See Chapter 9.6)\n",
        "* **Curving downward** indicates that $Efg$ is not negligible and formation compressibility $ct$ is comparable with gas compressibility (See Chapter 9.7).\n",
        "\n",
        "### Plot 9.2: $\\frac{p}{z}$ vs $G_p$\n",
        "* **Straight line** indicates gas is volumetric (waterdrive is negligible). Intercept $b = Gfgi$ and slope $m = \\frac{p_i}{z_i \\cdot Gfgi}$\n",
        "* **Curving upward** indicates waterdrive is present ($\\Delta W$ is not negligible, See Chapter 9.6)\n",
        "* **Curving downward** indicates that $Efg$ is not negligible and formation compressibility $ct$ is comparable with gas compressibility (See Chapter 9.7)."
      ]
    },
    {
      "cell_type": "markdown",
      "metadata": {
        "id": "KunQDY4XwdXP",
        "colab_type": "text"
      },
      "source": [
        "### Example 9.2 Determination of OGIP by Material-Balance Plot"
      ]
    },
    {
      "cell_type": "code",
      "metadata": {
        "id": "BP0YEhgIwGc1",
        "colab_type": "code",
        "outputId": "34a7d0d0-cea4-483e-e839-d37fd6c95075",
        "colab": {
          "base_uri": "https://localhost:8080/",
          "height": 411
        }
      },
      "source": [
        "\"Task. determine OGIP\"\n",
        "\n",
        "# known Table 9.1 \n",
        "pressure = np.array([3000, 2876, 2824, 2755, 2688, 2570, 2435, 2226, 2122, 1866])\n",
        "Gp = np.array([0, 384, 550, 788, 1002, 1445, 1899, 2670, 3113, 3982])\n",
        "\n",
        "# properties similar to Example 9.1\n",
        "temp = 190 + 459.67 # F to Rankine\n",
        "Tc = 358\n",
        "pc = 671\n",
        "\n",
        "# calculate gas z factor and FVF\n",
        "z_arr = []\n",
        "Bg_arr = []\n",
        "for i in range(len(pressure)):\n",
        "  P_pr = pressure[i] / pc\n",
        "  T_pr = temp / Tc\n",
        "  rho_pr, z = dranchuk(T_pr, P_pr)\n",
        "  Bg = 0.0282793 * z * temp / pressure[i] # Eq 2.2, temp in Rankine, p in psia\n",
        "  z_arr.append(float(z))\n",
        "  Bg_arr.append(float(Bg))\n",
        "\n",
        "\"Using Plot 9.1\"\n",
        "Eg = np.array(Bg_arr) - Bg_arr[0]\n",
        "Gp_Bg = Gp * np.array(Bg_arr)\n",
        "\n",
        "# regression\n",
        "sys.path.append('/content/reservoir-engineering/Unit 7 Introduction to Well-Test Analysis/functions')\n",
        "from regression import regression\n",
        "c1, m1 = regression(Eg, Gp_Bg)\n",
        "\n",
        "# straight line has slope m\n",
        "Gfgi_plot1 = np.abs(m1)\n",
        "print(\"OGIP calculated using Plot 9.1:\", Gfgi_plot1 / 1E+03, \"Bscf\")\n",
        "\n",
        "\"Using Plot 9.2\"\n",
        "p_z = pressure / z_arr\n",
        "\n",
        "# regression\n",
        "sys.path.append('/content/reservoir-engineering/Unit 7 Introduction to Well-Test Analysis/functions')\n",
        "from regression import regression\n",
        "c2, m2 = regression(Gp, p_z)\n",
        "\n",
        "# straight line has equation of: y=mx+c. Gfgi is the line intercept when y=0\n",
        "Gfgi_plot2 = c2 / np.abs(m2)\n",
        "print(\"OGIP calculated using Plot 9.2:\", Gfgi_plot2 / 1E+03, \"Bscf\")\n",
        "\n",
        "# Material-Balance Plots\n",
        "plt.figure(figsize=(15, 5))\n",
        "\n",
        "plt.subplot(1, 2, 1)\n",
        "plt.plot(Eg, Gp_Bg, '.')\n",
        "# plot regression\n",
        "F_reg = m1 * Eg + c1\n",
        "plt.plot(Eg, F_reg, '--')\n",
        "plt.title('$F$ vs $Eg$ Plot', size=20)\n",
        "plt.xlabel('$G_p B_g$ (million res cubic ft)'); plt.ylabel('$E_g-B_gi$ (res cubic ft/scf)')\n",
        "plt.xlim(xmin=0); plt.ylim(ymin=0)\n",
        "\n",
        "plt.subplot(1, 2, 2)\n",
        "plt.plot(Gp, p_z, '.')\n",
        "# plot regression\n",
        "p_z_reg = m2 * Gp + c2\n",
        "plt.plot(Gp, p_z_reg, '--')\n",
        "plt.title('$p/z$ Plot', size=20)\n",
        "plt.xlabel('$G_p$ (MMscf)'); plt.ylabel('$p/z$ (psia)')\n",
        "plt.xlim(xmin=0)"
      ],
      "execution_count": 21,
      "outputs": [
        {
          "output_type": "stream",
          "text": [
            "OGIP calculated using Plot 9.1: 10.748033224262944 Bscf\n",
            "OGIP calculated using Plot 9.2: 10.758397571436433 Bscf\n"
          ],
          "name": "stdout"
        },
        {
          "output_type": "execute_result",
          "data": {
            "text/plain": [
              "(0, 4181.1)"
            ]
          },
          "metadata": {
            "tags": []
          },
          "execution_count": 21
        },
        {
          "output_type": "display_data",
          "data": {
            "image/png": "[encoded data removed]",
            "text/plain": [
              "<Figure size 1080x360 with 2 Axes>"
            ]
          },
          "metadata": {
            "tags": []
          }
        }
      ]
    },
    {
      "cell_type": "markdown",
      "metadata": {
        "id": "rh1RkAUQgl9l",
        "colab_type": "text"
      },
      "source": [
        "## **Chapter 9.6 Waterdrive Gas Reservoirs**\n",
        "\n",
        "### **Plot 9.3**: $\\frac{F}{E_g + Bgi \\cdot Efw}$ vs. $G_p$ or $t$\n",
        "\n",
        "* If the line is **horizontal**, indicates **volumetric gas reservoir** (no waterdrive), equal to $Gfgi$.\n",
        "* If the line is **sloping**, the gas reservoir has **waterdrive**\n",
        "\n",
        "### **Plot 9.4**: $\\frac{F}{E_g}$ vs. $\\sum (\\Delta p \\cdot We_d)$ (Havlena and Odeh)\n",
        "\n",
        "$We_d$ is calculated using **aquifer infux** in Unit 8. The slope is constant, equals to **aquifer constant, $k'$**. Intercept equals to $Gfgi$\n",
        "\n",
        "### **Plot 9.5**: $F$ vs. $E_c$ (Sills)\n",
        "\n",
        "Where $E_c = E_g + Bgi \\cdot Efw + \\frac{2(c_f + c_w)Bgi \\sum (\\Delta p \\cdot We_d)}{1-Sw_i} \\cdot (\\frac{aquiferthickness}{reservoirthickness})$\n",
        "\n",
        "$m = Gfgi$ and $intercept = 0$"
      ]
    },
    {
      "cell_type": "markdown",
      "metadata": {
        "id": "cJBnqME3j-nt",
        "colab_type": "text"
      },
      "source": [
        "### Example 9.3 Verification of Volumetric Nature of a Gas Reservoir"
      ]
    },
    {
      "cell_type": "code",
      "metadata": {
        "id": "g6hV-1XPjwBZ",
        "colab_type": "code",
        "colab": {
          "base_uri": "https://localhost:8080/",
          "height": 376
        },
        "outputId": "d6d79104-597a-4023-f3b2-a6f92cb77037"
      },
      "source": [
        "\"Task. use Plot 9.3 to verify that reservoir in Example 9.2 is volumetric (no waterdrive)\"\n",
        "\n",
        "axisx = (np.array(Gp))[1:]\n",
        "F = Gp_Bg\n",
        "axisy = (np.array(F / Eg))[1:]\n",
        "\n",
        "# regression\n",
        "sys.path.append('/content/reservoir-engineering/Unit 7 Introduction to Well-Test Analysis/functions')\n",
        "from regression import regression\n",
        "c3, m3 = regression(axisx, axisy)\n",
        "y_reg = m3 * axisx + c3\n",
        "\n",
        "plt.plot(axisx, axisy, '.')\n",
        "plt.plot(axisx, y_reg, '--')\n",
        "plt.title('$F/E_g$ vs $G_p$ Plot', size=20)\n",
        "plt.xlabel('$G_p$ (MMscf)'); plt.ylabel('$F/E_g$ (MMscf)')\n",
        "plt.xlim(xmin=0); plt.ylim(8000, 11000)\n",
        "\n",
        "print(\"Slope:\", m3, \"is relatively horizontal\")\n",
        "print(\"Intercept is OGIP:\", c3 / 1E+03, \"Bscf\")"
      ],
      "execution_count": 52,
      "outputs": [
        {
          "output_type": "stream",
          "text": [
            "/usr/local/lib/python3.6/dist-packages/ipykernel_launcher.py:5: RuntimeWarning: invalid value encountered in true_divide\n",
            "  \"\"\"\n"
          ],
          "name": "stderr"
        },
        {
          "output_type": "stream",
          "text": [
            "Slope: 0.18826023842710268 is relatively horizontal\n",
            "Intercept is OGIP: 10.130185127404664 Bscf\n"
          ],
          "name": "stdout"
        },
        {
          "output_type": "display_data",
          "data": {
            "image/png": "[encoded data removed]",
            "text/plain": [
              "<Figure size 432x288 with 1 Axes>"
            ]
          },
          "metadata": {
            "tags": []
          }
        }
      ]
    },
    {
      "cell_type": "markdown",
      "metadata": {
        "id": "0z4-Gf89p0Va",
        "colab_type": "text"
      },
      "source": [
        "Therefore, the reservoir is most likely to be **volumetric (NO waterdrive)**"
      ]
    },
    {
      "cell_type": "code",
      "metadata": {
        "id": "gSmhrDo7tYx4",
        "colab_type": "code",
        "colab": {
          "base_uri": "https://localhost:8080/",
          "height": 50
        },
        "outputId": "b160ea05-1d17-46d0-9327-7ea359ebfea3"
      },
      "source": [
        "Bw = 1.052 # rb/stb\n",
        "Wp = 0\n",
        "F = 3.196244 * 1E+06 # million res bbl to rb\n",
        "Gfgi = 231 * 1E+06 # bscf to mscf (thousand scf)\n",
        "Eg = 0.0056 # res bbl/mscf\n",
        "Bgi = 0.5404 * 0.178108 # res ft3/mscf to res bbl/mscf\n",
        "\n",
        "cf = 3.5E-6 # psi^-1\n",
        "cw = 2.9E-6 # psi^-1\n",
        "swi = 0.21\n",
        "Efw = ((cf + cw * swi) / (1 - swi)) * (8330 - 8323)\n",
        "\n",
        "we = (Bw * Wp) + F - (Gfgi * Eg) - (Gfgi * Bgi * Efw)\n",
        "\n",
        "w2 = F - (Gfgi * (Eg + (Bgi * Efw)))\n",
        "print(we)\n",
        "print(w2)"
      ],
      "execution_count": 60,
      "outputs": [
        {
          "output_type": "stream",
          "text": [
            "1901834.4981657718\n",
            "1901834.4981657718\n"
          ],
          "name": "stdout"
        }
      ]
    }
  ]
}