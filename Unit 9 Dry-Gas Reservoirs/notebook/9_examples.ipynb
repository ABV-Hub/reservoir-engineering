{
  "nbformat": 4,
  "nbformat_minor": 0,
  "metadata": {
    "colab": {
      "name": "9_examples.ipynb",
      "provenance": [],
      "collapsed_sections": [],
      "authorship_tag": "ABX9TyNNjrFnNq/adefwu+TTr+Cv",
      "include_colab_link": true
    },
    "kernelspec": {
      "name": "python3",
      "display_name": "Python 3"
    }
  },
  "cells": [
    {
      "cell_type": "markdown",
      "metadata": {
        "id": "view-in-github",
        "colab_type": "text"
      },
      "source": [
        "<a href=\"https://colab.research.google.com/github/yohanesnuwara/reservoir-engineering/blob/master/Unit%209%20Dry-Gas%20Reservoirs/notebook/9_examples.ipynb\" target=\"_parent\"><img src=\"https://colab.research.google.com/assets/colab-badge.svg\" alt=\"Open In Colab\"/></a>"
      ]
    },
    {
      "cell_type": "markdown",
      "metadata": {
        "id": "1er5gHgqaN6H",
        "colab_type": "text"
      },
      "source": [
        "# **Unit 9 Dry-Gas Reservoirs**"
      ]
    },
    {
      "cell_type": "code",
      "metadata": {
        "id": "t5m6_8UAZy3F",
        "colab_type": "code",
        "colab": {}
      },
      "source": [
        "import numpy as np\n",
        "import matplotlib.pyplot as plt\n",
        "import pandas as pd"
      ],
      "execution_count": 0,
      "outputs": []
    },
    {
      "cell_type": "code",
      "metadata": {
        "id": "Jmy2wJWFanIV",
        "colab_type": "code",
        "outputId": "747e4fa6-694b-48ee-da7d-9fe0ed3c167c",
        "colab": {
          "base_uri": "https://localhost:8080/",
          "height": 150
        }
      },
      "source": [
        "!git clone https://www.github.com/yohanesnuwara/reservoir-engineering"
      ],
      "execution_count": 0,
      "outputs": [
        {
          "output_type": "stream",
          "text": [
            "Cloning into 'reservoir-engineering'...\n",
            "warning: redirecting to https://github.com/yohanesnuwara/reservoir-engineering.git/\n",
            "remote: Enumerating objects: 18, done.\u001b[K\n",
            "remote: Counting objects: 100% (18/18), done.\u001b[K\n",
            "remote: Compressing objects: 100% (18/18), done.\u001b[K\n",
            "remote: Total 927 (delta 9), reused 0 (delta 0), pack-reused 909\n",
            "Receiving objects: 100% (927/927), 12.07 MiB | 39.76 MiB/s, done.\n",
            "Resolving deltas: 100% (404/404), done.\n"
          ],
          "name": "stdout"
        }
      ]
    },
    {
      "cell_type": "markdown",
      "metadata": {
        "id": "zAEggd9Kc_4P",
        "colab_type": "text"
      },
      "source": [
        "## **Functions (Chapter 9.2 Volumetrics and Recovery Factors)**"
      ]
    },
    {
      "cell_type": "code",
      "metadata": {
        "id": "lI6KAQSob-0y",
        "colab_type": "code",
        "colab": {}
      },
      "source": [
        "def recovery_factor_drygas_waterdrive(swi, Bgi, sgr, Bga):\n",
        "  \"recovery factor of dry gas reservoir with waterdrive\"\n",
        "  # gas FVF at abandonment pressure (RB/scf)\n",
        "  # sgr: residual gas saturation\n",
        "  rf = (((1 - swi) / Bgi) - (sgr / Bga)) / ((1 - swi) / Bgi)\n",
        "  return(rf)\n",
        "\n",
        "def recovery_factor_drygas_volumetric(Bgi, Bga):\n",
        "  \"recovery factor of dry gas reservoir with NO waterdrive\"  \n",
        "  # gas FVF at abandonment pressure (RB/scf)\n",
        "  # sgr: residual gas saturation\n",
        "  rf = 1 - (Bgi / Bga)\n",
        "  return(rf)"
      ],
      "execution_count": 0,
      "outputs": []
    },
    {
      "cell_type": "markdown",
      "metadata": {
        "id": "zu77fWYXgsbp",
        "colab_type": "text"
      },
      "source": [
        "## **Chapter 9.3 Gas Equivalence to Condensates and Water**\n",
        "\n",
        "It's already mentioned in book that **1 STB of condensate is equivalent with 700 to 750 scf of gas** measured at standard conditions (`T = 519.67 R; 15.6 C; 60 F` and `P = 14.7 psi; 101.325 kPa`). I'm interested to find out the **API gravity** of condensates, by re-arranging Equation 9.5, 9.6, and 9.7)"
      ]
    },
    {
      "cell_type": "code",
      "metadata": {
        "id": "GdJLGrbGgvxB",
        "colab_type": "code",
        "outputId": "fc25d995-c4cb-4ebf-f278-ace818e7c7f7",
        "colab": {
          "base_uri": "https://localhost:8080/",
          "height": 33
        }
      },
      "source": [
        "\"Gas equivalence to condensate\"\n",
        "\n",
        "Tsc = 519.57 # standard temp in Rankine\n",
        "psc = 14.7 # standard pressure in psi\n",
        "R = 10.732\n",
        "rho_w = 350.16 # water density in lbm/STB\n",
        "V1 = 700 # the smallest value of gas equivalence (scf)\n",
        "V2 = 750 # the largest value of gas equivalence (scf)\n",
        "\n",
        "# solve for api from Equation 9.5, 9.6, 9.7\n",
        "from scipy.optimize import fsolve\n",
        "\n",
        "def f(api):\n",
        "  so = 141.5 / (api + 131.5) # so: specific gravity of oil (dimensionless)\n",
        "  Mo = 5854 / (api - 8.811) # molecular weight of oil\n",
        "  n = (rho_w * so) / Mo\n",
        "  # real gas equation: V = nRT/p\n",
        "  f1 = ((n * R * Tsc) / psc) - V1\n",
        "  return(f1)\n",
        "\n",
        "api1 = fsolve(f, 40)\n",
        "api1 = np.float64(api1)\n",
        "\n",
        "def f(api):\n",
        "  so = 141.5 / (api + 131.5) # so: specific gravity of oil (dimensionless)\n",
        "  Mo = 5854 / (api - 8.811) # molecular weight of oil\n",
        "  n = (rho_w * so) / Mo\n",
        "  # real gas equation: V = nRT/p\n",
        "  f2 = ((n * R * Tsc) / psc) - V2\n",
        "  return(f2)\n",
        "\n",
        "api2 = fsolve(f, 40)\n",
        "api2 = np.float64(api2)\n",
        "\n",
        "print(\"API gravity of condensate is between:\", api1, \"API and:\", api2, \"API\")"
      ],
      "execution_count": 3,
      "outputs": [
        {
          "output_type": "stream",
          "text": [
            "API gravity of condensate is between: 47.93319100231802 API and: 51.57941144067795 API\n"
          ],
          "name": "stdout"
        }
      ]
    },
    {
      "cell_type": "markdown",
      "metadata": {
        "id": "oZalZLnZq3H2",
        "colab_type": "text"
      },
      "source": [
        "In most references, the value of API for condesates is greater than this value range (50 to 80 API). For example:\n",
        "\n",
        "<div>\n",
        "<img src=\"https://user-images.githubusercontent.com/51282928/75760535-0335de80-5d6a-11ea-899d-a1f7fde50c80.jpg\" width=\"500\"/>\n",
        "</div>"
      ]
    },
    {
      "cell_type": "markdown",
      "metadata": {
        "id": "MO8QdbW6t-W-",
        "colab_type": "text"
      },
      "source": [
        "**100 STB of condensate with API gravity of 65**, is therefore equivalent to: "
      ]
    },
    {
      "cell_type": "code",
      "metadata": {
        "id": "LKhWCk6Fp0cF",
        "colab_type": "code",
        "outputId": "349ba311-17cf-450a-dbc2-736bc112f4f4",
        "colab": {
          "base_uri": "https://localhost:8080/",
          "height": 33
        }
      },
      "source": [
        "def condensate_to_gas_equivalence(api, stb):\n",
        "  \"Derivation from real gas equation\"\n",
        "  Tsc = 519.57 # standard temp in Rankine\n",
        "  psc = 14.7 # standard pressure in psi\n",
        "  R = 10.732\n",
        "  rho_w = 350.16 # water density in lbm/STB\n",
        "\n",
        "  so = 141.5 / (api + 131.5) # so: specific gravity of oil (dimensionless)\n",
        "  Mo = 5854 / (api - 8.811) # molecular weight of oil\n",
        "  n = (rho_w * so) / Mo  \n",
        "\n",
        "  V1stb = ((n * R * Tsc) / psc)\n",
        "  V = V1stb * stb\n",
        "  return(V1stb, V)\n",
        "\n",
        "stb = 100; api = 65\n",
        "\n",
        "V1stb, V = condensate_to_gas_equivalence(api, stb)\n",
        "print(\"1 STB of condensate is equivalent to:\", V1stb, \"scf of gas.\", stb, \"STB of condensate is equivalent to:\", V, \"scf of gas\")"
      ],
      "execution_count": 4,
      "outputs": [
        {
          "output_type": "stream",
          "text": [
            "1 STB of condensate is equivalent to: 918.0501371833875 scf of gas. 100 STB of condensate is equivalent to: 91805.01371833876 scf of gas\n"
          ],
          "name": "stdout"
        }
      ]
    },
    {
      "cell_type": "markdown",
      "metadata": {
        "id": "e33YiYDJO-Ka",
        "colab_type": "text"
      },
      "source": [
        "The gas equivalence is also simplified into a more general form (Eq 9.5)\n",
        "\n",
        "$$V = 132849\\frac{\\gamma}{M}$$\n",
        "\n",
        "$M$ is molecular weight \n",
        "* for condensate/oil, $M_o = \\frac{42.43\\gamma_o}{1.008-\\gamma_o}$ with $\\gamma_o$ is oil specific gravity; $\\gamma_o = \\frac{141.5}{api + 131.5}$ and $api$ is the API gravity\n",
        "* for water, $M_w = 18$ and $\\gamma_w = 1$"
      ]
    },
    {
      "cell_type": "markdown",
      "metadata": {
        "id": "GKvuvdcJM_fb",
        "colab_type": "text"
      },
      "source": [
        "**100 STB of water**, is therefore equivalent to: "
      ]
    },
    {
      "cell_type": "code",
      "metadata": {
        "id": "BaX_INStNC9P",
        "colab_type": "code",
        "outputId": "089739a2-c4eb-46af-b43d-ec3cbc689d34",
        "colab": {
          "base_uri": "https://localhost:8080/",
          "height": 33
        }
      },
      "source": [
        "stb = 100\n",
        "V1stb = 132849 * (1 / 18)\n",
        "V = stb * V1stb\n",
        "print(stb, \"STB of water is equivalent to:\", V, \"scf of gas\")"
      ],
      "execution_count": 5,
      "outputs": [
        {
          "output_type": "stream",
          "text": [
            "100 STB of water is equivalent to: 738050.0 scf of gas\n"
          ],
          "name": "stdout"
        }
      ]
    },
    {
      "cell_type": "markdown",
      "metadata": {
        "id": "-rCDg8zHYD_q",
        "colab_type": "text"
      },
      "source": [
        "## **Chapter 9.4 Material-Balance Analysis of Dry-Gas Reservoirs**\n",
        "\n",
        "General equation of material balance in dry gas reservoirs:\n",
        "$$F = Gfgi \\cdot Eg + \\Delta W + Gfgi \\cdot Bgi \\cdot Efw$$\n",
        "\n",
        "$Gfgi \\cdot Bgi \\cdot Efw = 0$ because gas normally has compressibility higher than water and rock. In **no waterdrive**, aquifer influx $\\Delta W = 0$. The material balance becomes:"
      ]
    },
    {
      "cell_type": "code",
      "metadata": {
        "id": "gUTMmUInYK90",
        "colab_type": "code",
        "colab": {}
      },
      "source": [
        "def matbalance_drygas_volumetric(Gp, Bg, Bgi, Gfgi):\n",
        "  # no waterdrive\n",
        "  right_term = Gp * Bg\n",
        "  left_term = Gfgi * (Bg - Bgi)\n",
        "  return(right_term, left_term) # right term = left term (balance)"
      ],
      "execution_count": 0,
      "outputs": []
    },
    {
      "cell_type": "markdown",
      "metadata": {
        "id": "U0Krj9N5aBQO",
        "colab_type": "text"
      },
      "source": [
        "$B_g = \\frac{zTp_s}{pT_s}$ from Chapter 2 is subtituted into the material balance, it becomes Eq 9.15: \n",
        "\n",
        "$$\\frac{p}{z} = \\frac{pi}{zi} - \\frac{pi \\cdot Gp}{zi \\cdot Gfgi}$$ \n",
        "\n",
        "Re-arranging the equation gives **estimation of OGIP**:"
      ]
    },
    {
      "cell_type": "code",
      "metadata": {
        "id": "OiXqkrnfah9P",
        "colab_type": "code",
        "colab": {}
      },
      "source": [
        "def ogip_matbalance_drygas_volumetric(Gp, p, z, pi, zi):\n",
        "  # no waterdrive\n",
        "  Gfgi = Gp / (1 - ((p * zi) / (pi * z)))\n",
        "  return(Gfgi)"
      ],
      "execution_count": 0,
      "outputs": []
    },
    {
      "cell_type": "markdown",
      "metadata": {
        "id": "JkJhlQDOcXuD",
        "colab_type": "text"
      },
      "source": [
        "### Example 9.1 Determination of OGIP by Material-Balance"
      ]
    },
    {
      "cell_type": "code",
      "metadata": {
        "id": "BZhzqgiVcd-x",
        "colab_type": "code",
        "outputId": "ab709eaa-ca2b-4f26-c140-4110c61eff60",
        "colab": {
          "base_uri": "https://localhost:8080/",
          "height": 67
        }
      },
      "source": [
        "\"Task. determine OGIP\"\n",
        "\n",
        "# known: volumetric (no waterdrive) dry gas reservoir\n",
        "pi = 3000 # initial pressure, psi\n",
        "temp = 190 # formation temperature, F\n",
        "p_current = 2876 # current pressure after production, psia\n",
        "Gp = 384 # gas production, MMscf\n",
        "pc = 671 # critical pressure, psia\n",
        "Tc = 358 # critical temperature, Rankine\n",
        "\n",
        "# conversion\n",
        "Gp = Gp * 1E+06 # from MMscf to scf\n",
        "\n",
        "# determine gas compressibility factor z using Dranchuk-Abou Kassem EOS rather than using chart\n",
        "import os, sys\n",
        "sys.path.append('/content/reservoir-engineering/Unit 2 Review of Rock and Fluid Properties/functions')\n",
        "from dranchuk_aboukassem import dranchuk\n",
        "\n",
        "# convert temperature from F to Rankine\n",
        "temp_conv = temp + 459.67\n",
        "\n",
        "P_pr_initial = pi / pc\n",
        "P_pr_current = p_current / pc\n",
        "T_pr = temp_conv / Tc\n",
        "\n",
        "rho_pr_initial, z_initial = dranchuk(T_pr, P_pr_initial)\n",
        "rho_pr_current, z_current = dranchuk(T_pr, P_pr_current)\n",
        "print(\"Initial gas compressibility factor:\", z_initial) \n",
        "print(\"Current gas compressibility factor:\", z_current) \n",
        "\n",
        "# calculate OGIP\n",
        "Gfgi = ogip_matbalance_drygas_volumetric(Gp, p_current, z_current, pi, z_initial)\n",
        "print(\"Original Gas in Place:\", Gfgi / 1E+09, \"Bscf\")"
      ],
      "execution_count": 8,
      "outputs": [
        {
          "output_type": "stream",
          "text": [
            "Initial gas compressibility factor: 0.9069024150713222\n",
            "Current gas compressibility factor: 0.9039322509456235\n",
            "Original Gas in Place: 10.056746912653262 Bscf\n"
          ],
          "name": "stdout"
        }
      ]
    },
    {
      "cell_type": "markdown",
      "metadata": {
        "id": "CbX7Q4XJt__L",
        "colab_type": "text"
      },
      "source": [
        "## **Chapter 9.5 Material-Balance Plots to Determine OGIP**\n",
        "\n",
        "### Plot 9.1: $G_p B_g$ vs $B_g - B_gi$\n",
        "* **Straight line** indicates gas is volumetric (waterdrive is negligible). Intercept $b = 0$ and slope $m = Gfgi$\n",
        "* **Curving upward** indicates waterdrive is present ($\\Delta W$ is not negligible, See Chapter 9.6)\n",
        "* **Curving downward** indicates that $Efg$ is not negligible and formation compressibility $ct$ is comparable with gas compressibility (See Chapter 9.7).\n",
        "\n",
        "### Plot 9.2: $\\frac{p}{z}$ vs $G_p$\n",
        "* **Straight line** indicates gas is volumetric (waterdrive is negligible). Intercept $b = Gfgi$ and slope $m = \\frac{p_i}{z_i \\cdot Gfgi}$\n",
        "* **Curving upward** indicates waterdrive is present ($\\Delta W$ is not negligible, See Chapter 9.6)\n",
        "* **Curving downward** indicates that $Efg$ is not negligible and formation compressibility $ct$ is comparable with gas compressibility (See Chapter 9.7)."
      ]
    },
    {
      "cell_type": "markdown",
      "metadata": {
        "id": "KunQDY4XwdXP",
        "colab_type": "text"
      },
      "source": [
        "### Example 9.2 Determination of OGIP by Material-Balance Plot"
      ]
    },
    {
      "cell_type": "code",
      "metadata": {
        "id": "BP0YEhgIwGc1",
        "colab_type": "code",
        "outputId": "55c5581e-421d-4caf-8c3a-e50c0c524264",
        "colab": {
          "base_uri": "https://localhost:8080/",
          "height": 411
        }
      },
      "source": [
        "\"Task. determine OGIP\"\n",
        "\n",
        "# known Table 9.1 \n",
        "pressure = np.array([3000, 2876, 2824, 2755, 2688, 2570, 2435, 2226, 2122, 1866])\n",
        "Gp = np.array([0, 384, 550, 788, 1002, 1445, 1899, 2670, 3113, 3982])\n",
        "\n",
        "# properties similar to Example 9.1\n",
        "temp = 190 + 459.67 # F to Rankine\n",
        "Tc = 358\n",
        "pc = 671\n",
        "\n",
        "# calculate gas z factor and FVF\n",
        "z_arr = []\n",
        "Bg_arr = []\n",
        "for i in range(len(pressure)):\n",
        "  P_pr = pressure[i] / pc\n",
        "  T_pr = temp / Tc\n",
        "  rho_pr, z = dranchuk(T_pr, P_pr)\n",
        "  Bg = 0.0282793 * z * temp / pressure[i] # Eq 2.2, temp in Rankine, p in psia\n",
        "  z_arr.append(float(z))\n",
        "  Bg_arr.append(float(Bg))\n",
        "\n",
        "\"Using Plot 9.1\"\n",
        "Eg = np.array(Bg_arr) - Bg_arr[0]\n",
        "Gp_Bg = Gp * np.array(Bg_arr)\n",
        "\n",
        "# regression\n",
        "sys.path.append('/content/reservoir-engineering/Unit 7 Introduction to Well-Test Analysis/functions')\n",
        "from regression import regression\n",
        "c1, m1 = regression(Eg, Gp_Bg)\n",
        "\n",
        "# straight line has slope m\n",
        "Gfgi_plot1 = np.abs(m1)\n",
        "print(\"OGIP calculated using Plot 9.1:\", Gfgi_plot1 / 1E+03, \"Bscf\")\n",
        "\n",
        "\"Using Plot 9.2\"\n",
        "p_z = pressure / z_arr\n",
        "\n",
        "# regression\n",
        "sys.path.append('/content/reservoir-engineering/Unit 7 Introduction to Well-Test Analysis/functions')\n",
        "from regression import regression\n",
        "c2, m2 = regression(Gp, p_z)\n",
        "\n",
        "# straight line has equation of: y=mx+c. Gfgi is the line intercept when y=0\n",
        "Gfgi_plot2 = c2 / np.abs(m2)\n",
        "print(\"OGIP calculated using Plot 9.2:\", Gfgi_plot2 / 1E+03, \"Bscf\")\n",
        "\n",
        "# Material-Balance Plots\n",
        "plt.figure(figsize=(15, 5))\n",
        "\n",
        "plt.subplot(1, 2, 1)\n",
        "plt.plot(Eg, Gp_Bg, '.')\n",
        "# plot regression\n",
        "F_reg = m1 * Eg + c1\n",
        "plt.plot(Eg, F_reg, '--')\n",
        "plt.title('$F$ vs $Eg$ Plot', size=20)\n",
        "plt.ylabel('$G_p B_g$ (million res cubic ft)'); plt.xlabel('$B_g-B_{gi}$ (res cubic ft/scf)')\n",
        "plt.xlim(xmin=0); plt.ylim(ymin=0)\n",
        "\n",
        "plt.subplot(1, 2, 2)\n",
        "plt.plot(Gp, p_z, '.')\n",
        "# plot regression\n",
        "p_z_reg = m2 * Gp + c2\n",
        "plt.plot(Gp, p_z_reg, '--')\n",
        "plt.title('$p/z$ Plot', size=20)\n",
        "plt.xlabel('$G_p$ (MMscf)'); plt.ylabel('$p/z$ (psia)')\n",
        "plt.xlim(xmin=0)"
      ],
      "execution_count": 9,
      "outputs": [
        {
          "output_type": "stream",
          "text": [
            "OGIP calculated using Plot 9.1: 10.748033224262944 Bscf\n",
            "OGIP calculated using Plot 9.2: 10.758397571436433 Bscf\n"
          ],
          "name": "stdout"
        },
        {
          "output_type": "execute_result",
          "data": {
            "text/plain": [
              "(0, 4181.1)"
            ]
          },
          "metadata": {
            "tags": []
          },
          "execution_count": 9
        },
        {
          "output_type": "display_data",
          "data": {
            "image/png": "[encoded data removed]",
            "text/plain": [
              "<Figure size 1080x360 with 2 Axes>"
            ]
          },
          "metadata": {
            "tags": []
          }
        }
      ]
    },
    {
      "cell_type": "markdown",
      "metadata": {
        "id": "rh1RkAUQgl9l",
        "colab_type": "text"
      },
      "source": [
        "## **Chapter 9.6 Waterdrive Gas Reservoirs**\n",
        "\n",
        "### **Plot 9.3**: $\\frac{F}{E_g + Bgi \\cdot Efw}$ vs. $G_p$ or $t$ (Waterdrive Diagnostic Plot)\n",
        "\n",
        "* If the line is **horizontal**, indicates **volumetric gas reservoir** (no waterdrive), equal to $Gfgi$.\n",
        "* If the line is **sloping**, the gas reservoir has **waterdrive**\n",
        "\n",
        "### **Plot 9.4**: $\\frac{F}{E_g}$ vs. $\\sum (\\Delta p \\cdot We_d)$ (Havlena and Odeh)\n",
        "\n",
        "$We_d$ is calculated using **aquifer infux** in Unit 8. The slope is constant, equals to **aquifer constant, $k'$**. Intercept equals to $Gfgi$\n",
        "\n",
        "### **Plot 9.5**: $F$ vs. $E_c$ (Sills)\n",
        "\n",
        "Where $E_c = E_g + Bgi \\cdot Efw + \\frac{2(c_f + c_w)Bgi \\sum (\\Delta p \\cdot We_d)}{1-Sw_i} \\cdot (\\frac{aquiferthickness}{reservoirthickness})$\n",
        "\n",
        "$m = Gfgi$ and $intercept = 0$"
      ]
    },
    {
      "cell_type": "markdown",
      "metadata": {
        "id": "cJBnqME3j-nt",
        "colab_type": "text"
      },
      "source": [
        "### Example 9.3 Verification of Volumetric Nature of a Gas Reservoir"
      ]
    },
    {
      "cell_type": "code",
      "metadata": {
        "id": "g6hV-1XPjwBZ",
        "colab_type": "code",
        "outputId": "04eed223-1f1d-40fa-aaf2-b7c618141542",
        "colab": {
          "base_uri": "https://localhost:8080/",
          "height": 376
        }
      },
      "source": [
        "\"Task. use Plot 9.3 to verify that reservoir in Example 9.2 is volumetric (no waterdrive)\"\n",
        "\n",
        "axisx = (np.array(Gp))[1:]\n",
        "F = Gp_Bg\n",
        "axisy = (np.array(F / Eg))[1:]\n",
        "\n",
        "# regression\n",
        "sys.path.append('/content/reservoir-engineering/Unit 7 Introduction to Well-Test Analysis/functions')\n",
        "from regression import regression\n",
        "c3, m3 = regression(axisx, axisy)\n",
        "y_reg = m3 * axisx + c3\n",
        "\n",
        "# waterdrive diagnostic plot\n",
        "plt.plot(axisx, axisy, '.')\n",
        "plt.plot(axisx, y_reg, '--')\n",
        "plt.title('$F/E_g$ vs $G_p$ Plot', size=20)\n",
        "plt.xlabel('$G_p$ (MMscf)'); plt.ylabel('$F/E_g$ (MMscf)')\n",
        "plt.xlim(xmin=0); plt.ylim(8000, 11000)\n",
        "\n",
        "print(\"Slope:\", m3, \"is relatively horizontal\")\n",
        "print(\"Intercept is OGIP:\", c3 / 1E+03, \"Bscf\")"
      ],
      "execution_count": 10,
      "outputs": [
        {
          "output_type": "stream",
          "text": [
            "/usr/local/lib/python3.6/dist-packages/ipykernel_launcher.py:5: RuntimeWarning: invalid value encountered in true_divide\n",
            "  \"\"\"\n"
          ],
          "name": "stderr"
        },
        {
          "output_type": "stream",
          "text": [
            "Slope: 0.18826023842710268 is relatively horizontal\n",
            "Intercept is OGIP: 10.130185127404664 Bscf\n"
          ],
          "name": "stdout"
        },
        {
          "output_type": "display_data",
          "data": {
            "image/png": "[encoded data removed]",
            "text/plain": [
              "<Figure size 432x288 with 1 Axes>"
            ]
          },
          "metadata": {
            "tags": []
          }
        }
      ]
    },
    {
      "cell_type": "markdown",
      "metadata": {
        "id": "0z4-Gf89p0Va",
        "colab_type": "text"
      },
      "source": [
        "Therefore, the reservoir is most likely to be **volumetric (NO waterdrive)**"
      ]
    },
    {
      "cell_type": "markdown",
      "metadata": {
        "id": "ZF6OhNdWRM2I",
        "colab_type": "text"
      },
      "source": [
        "### Example 9.4 Analysis of a Waterdrive Gas Reservoir"
      ]
    },
    {
      "cell_type": "code",
      "metadata": {
        "id": "CE9mxHnAIy7G",
        "colab_type": "code",
        "outputId": "34c2aed5-1e47-4135-f37d-22e07f9d7b6c",
        "colab": {
          "base_uri": "https://localhost:8080/",
          "height": 283
        }
      },
      "source": [
        "# load data\n",
        "dataprod = pd.read_csv('/content/reservoir-engineering/Unit 9 Dry-Gas Reservoirs/data/Table 9.4-Reservoir Data and Documented Pressures and Production Example 9.4.csv')\n",
        "\n",
        "# visualize data Gp, Np, Wp in one plot\n",
        "time = np.array(dataprod.t); Gp = np.array(dataprod.Gp); Np = np.array(dataprod.Np); Wp = np.array(dataprod.Wp)\n",
        "\n",
        "fig = plt.figure()\n",
        "host = fig.add_subplot(111)\n",
        "\n",
        "par1 = host.twinx()\n",
        "par2 = host.twinx()\n",
        "\n",
        "host.set_xlabel(\"Time (years)\")\n",
        "host.set_ylabel(\"Water Production (STB)\")\n",
        "par1.set_ylabel(\"Gas Production (STB)\")\n",
        "par2.set_ylabel(\"Oil Production (STB)\")\n",
        "\n",
        "color1 = plt.cm.viridis(0)\n",
        "color2 = plt.cm.viridis(0.5)\n",
        "color3 = plt.cm.viridis(.9)\n",
        "\n",
        "p1, = host.plot(time, Wp, color=color1,label=\"Water production\")\n",
        "p2, = par1.plot(time, Gp, color=color2, label=\"Gas production\")\n",
        "p3, = par2.plot(time, Np, color=color3, label=\"Oil production\")\n",
        "\n",
        "lns = [p1, p2, p3]\n",
        "host.legend(handles=lns, loc='best')\n",
        "\n",
        "# right, left, top, bottom\n",
        "par2.spines['right'].set_position(('outward', 60))      "
      ],
      "execution_count": 11,
      "outputs": [
        {
          "output_type": "display_data",
          "data": {
            "image/png": "[encoded data removed]",
            "text/plain": [
              "<Figure size 432x288 with 3 Axes>"
            ]
          },
          "metadata": {
            "tags": []
          }
        }
      ]
    },
    {
      "cell_type": "code",
      "metadata": {
        "id": "QnTd0qOGu2iZ",
        "colab_type": "code",
        "outputId": "7764fcd1-e336-4b0f-b76b-c34cead080ad",
        "colab": {
          "base_uri": "https://localhost:8080/",
          "height": 364
        }
      },
      "source": [
        "pressure = np.array(dataprod.p); z = np.array(dataprod.z)\n",
        "p_z = pressure / z\n",
        "\n",
        "# conversion\n",
        "Gp = np.array(dataprod.Gp) * 1E+06 # mmscf to scf\n",
        "Bg = np.array(dataprod.Bg) * (1 / (1E+03)) # res ft3/mscf to resft3/scf\n",
        "F = Gp * Bg # result in res ft3\n",
        "Eg = Bg - Bg[0] # resft3/scf\n",
        "F_Eg = F / Eg # res ft3 * (scf/res ft3), result in scf\n",
        "F_Eg = F_Eg / (1E+09) # convert scf to Bscf\n",
        "\n",
        "plt.figure(figsize=(13,5))\n",
        "\n",
        "plt.subplot(1,2,1)\n",
        "plt.plot((Gp / 1E+06), p_z, '.') # plot x in mmscf\n",
        "plt.title('p/z vs $G_p$ plot', size=15, pad=10)\n",
        "plt.xlabel('$G_p$ (MMscf)'); plt.ylabel('$p/z$ (psia)')\n",
        "\n",
        "plt.subplot(1,2,2)\n",
        "plt.plot((Gp / 1E+06), F_Eg, '.')\n",
        "plt.title('$F/E_g$ vs $G_p$ plot', size=15, pad=10)\n",
        "plt.xlabel('$G_p$ (MMscf)'); plt.ylabel('$F/E_g$ (Bscf)')\n",
        "\n",
        "plt.tight_layout(pad=3.0) # set distance between two plots"
      ],
      "execution_count": 12,
      "outputs": [
        {
          "output_type": "stream",
          "text": [
            "/usr/local/lib/python3.6/dist-packages/ipykernel_launcher.py:9: RuntimeWarning: invalid value encountered in true_divide\n",
            "  if __name__ == '__main__':\n"
          ],
          "name": "stderr"
        },
        {
          "output_type": "display_data",
          "data": {
            "image/png": "[encoded data removed]",
            "text/plain": [
              "<Figure size 936x360 with 2 Axes>"
            ]
          },
          "metadata": {
            "tags": []
          }
        }
      ]
    },
    {
      "cell_type": "code",
      "metadata": {
        "id": "DfFH7zg4xGnL",
        "colab_type": "code",
        "outputId": "71030b60-0698-4697-cd02-18a98574dbb7",
        "colab": {
          "base_uri": "https://localhost:8080/",
          "height": 348
        }
      },
      "source": [
        "# regression to estimate OGIP\n",
        "c4, m4 = regression(Gp, p_z)\n",
        "Gfgi_pz = c4 / np.abs(m4)\n",
        "print(\"Original Gas in Place from p/z plot:\", Gfgi_pz / 1E+12, \"Tscf\") # convert scf to Tscf\n",
        "\n",
        "# the first row contains NaN, so filter it out\n",
        "Gp_new = Gp[1:]; F_Eg_new = F_Eg[1:]\n",
        "c5, m5 = regression(Gp_new, F_Eg_new)\n",
        "\n",
        "y_reg4 = c4 + m4 * Gp\n",
        "y_reg5 = c5 + m5 * Gp\n",
        "\n",
        "plt.figure(figsize=(13,5))\n",
        "\n",
        "plt.subplot(1,2,1)\n",
        "plt.plot((Gp / 1E+06), p_z, '.')\n",
        "plt.plot((Gp / 1E+06), y_reg4)\n",
        "plt.title('p/z vs $G_p$ plot', size=15, pad=10)\n",
        "plt.xlabel('$G_p$ (MMscf)'); plt.ylabel('$p/z$ (psia)')\n",
        "\n",
        "plt.subplot(1,2,2)\n",
        "plt.plot((Gp / 1E+06), F_Eg, '.')\n",
        "plt.plot((Gp / 1E+06), y_reg5)\n",
        "plt.title('$F/E_g$ vs $G_p$ plot', size=15, pad=10)\n",
        "plt.xlabel('$G_p$ (MMscf)'); plt.ylabel('$F/E_g$ (Bscf)')\n",
        "\n",
        "plt.tight_layout(pad=3.0) # set distance between two plots"
      ],
      "execution_count": 13,
      "outputs": [
        {
          "output_type": "stream",
          "text": [
            "Original Gas in Place from p/z plot: 1.3384478020004833 Tscf\n"
          ],
          "name": "stdout"
        },
        {
          "output_type": "display_data",
          "data": {
            "image/png": "[encoded data removed]",
            "text/plain": [
              "<Figure size 936x360 with 2 Axes>"
            ]
          },
          "metadata": {
            "tags": []
          }
        }
      ]
    },
    {
      "cell_type": "markdown",
      "metadata": {
        "id": "GfRFZT5OUG1x",
        "colab_type": "text"
      },
      "source": [
        "From p/z plot, the OGIP estimated is 1.33 Tscf. However, the **waterdrive diagnostic plot** of $F/E_g$ vs $G_p$ indicates a sloping upward, meaning there's waterdrive in the reservoir, therefore the OGIP estimated from p/z plot is **misleading**. OGIP calculated by Sills is 231 Bscf.\n",
        "\n",
        "After knowing that the reservoir has waterdrive, calculate the aquifer influx ($W_e$) (Eq 9.18)\n",
        "\n",
        "Check units first:\n",
        "$$W_e=B_wW_p+F-G_{fgi}E_g-G_{fgi}B_{gi}E_{fw}$$\n",
        "$$W_e=(\\frac{RB}{STB} STB) + (res ft^3) - (Bscf \\cdot \\frac{res ft^3}{scf}) - (Bscf \\cdot \\frac{res ft^3}{scf} \\cdot)$$\n",
        "\n",
        "$G_{fgi}$ should be converted to $scf$\n"
      ]
    },
    {
      "cell_type": "code",
      "metadata": {
        "id": "ioUU033v5mUJ",
        "colab_type": "code",
        "colab": {}
      },
      "source": [
        "Gfgi = 231 * 1E+09 # 231 from Sills, bscf to scf"
      ],
      "execution_count": 0,
      "outputs": []
    },
    {
      "cell_type": "markdown",
      "metadata": {
        "id": "yB3rYdOT2set",
        "colab_type": "text"
      },
      "source": [
        "In Table 9.5, $F$ is in unit million res bbl. It's wrong, **should be million res $ft^3$** instead of million  res bbl. "
      ]
    },
    {
      "cell_type": "code",
      "metadata": {
        "id": "rJS2lTlw2ocL",
        "colab_type": "code",
        "colab": {}
      },
      "source": [
        "F_conv = F / 1E+06 # from ft3 to million ft3"
      ],
      "execution_count": 0,
      "outputs": []
    },
    {
      "cell_type": "markdown",
      "metadata": {
        "id": "moTb2-5p4BNI",
        "colab_type": "text"
      },
      "source": [
        "If we stick to the book, we will use this number instead. "
      ]
    },
    {
      "cell_type": "code",
      "metadata": {
        "id": "YC1PGTeS5yAI",
        "colab_type": "code",
        "outputId": "27ee3164-a105-4e70-f41a-9fa81913279d",
        "colab": {
          "base_uri": "https://localhost:8080/",
          "height": 134
        }
      },
      "source": [
        "# known\n",
        "cf = 3.5E-6 # psi^-1\n",
        "cw = 2.9E-6 # psi^-1\n",
        "swi = 0.21\n",
        "\n",
        "Bw = np.array(dataprod.Bw)\n",
        "pi = pressure[0]\n",
        "Efw = ((cf + cw * swi) / (1 - swi)) * (pi - pressure)\n",
        "\n",
        "Bgi = Bg[0]\n",
        "Bw_Wp = Bw * Wp\n",
        "Gfgi_Eg = Gfgi * Eg\n",
        "Gfgi_Bgi_Efw = Gfgi * Bgi * Efw\n",
        "We = (Bw * Wp) + F - (Gfgi * Eg) - (Gfgi * Bgi * Efw)\n",
        "We"
      ],
      "execution_count": 17,
      "outputs": [
        {
          "output_type": "execute_result",
          "data": {
            "text/plain": [
              "array([       0.        ,  -391769.43931137,  1794213.15521873,\n",
              "        2947743.77539444,  4824099.06667848,  6620390.00001773,\n",
              "        9156722.88873721, 11253030.33472   , 13132682.96753925,\n",
              "       14729619.10873369, 15715811.09711241, 17180391.69027949,\n",
              "       20684302.19404558, 23730577.39849316, 27115561.71969114,\n",
              "       30020925.41883038, 30726167.7060076 , 31604852.51883038,\n",
              "       33585854.21883038, 34928897.41626581, 36243003.10823141])"
            ]
          },
          "metadata": {
            "tags": []
          },
          "execution_count": 17
        }
      ]
    },
    {
      "cell_type": "code",
      "metadata": {
        "id": "rMZJeumK9rQU",
        "colab_type": "code",
        "colab": {
          "base_uri": "https://localhost:8080/",
          "height": 690
        },
        "outputId": "de8df5eb-1cac-41b2-c159-19ae7f491b36"
      },
      "source": [
        "result = pd.DataFrame({\"Years\": time, \"Pressure\": pressure, \"F(million bbl)\": F_conv, \"Eg(RB/Mscf)\": Eg * 1E+03, \"F/Eg(Bscf)\": F_Eg, \"z\": z, \"We(res bbl)\": We, \"p/z(psia)\": p_z})\n",
        "print(\"Table 9.5-Calculated Parameters for Example 9.4\")\n",
        "result"
      ],
      "execution_count": 27,
      "outputs": [
        {
          "output_type": "stream",
          "text": [
            "Table 9.5-Calculated Parameters for Example 9.4\n"
          ],
          "name": "stdout"
        },
        {
          "output_type": "execute_result",
          "data": {
            "text/html": [
              "<div>\n",
              "<style scoped>\n",
              "    .dataframe tbody tr th:only-of-type {\n",
              "        vertical-align: middle;\n",
              "    }\n",
              "\n",
              "    .dataframe tbody tr th {\n",
              "        vertical-align: top;\n",
              "    }\n",
              "\n",
              "    .dataframe thead th {\n",
              "        text-align: right;\n",
              "    }\n",
              "</style>\n",
              "<table border=\"1\" class=\"dataframe\">\n",
              "  <thead>\n",
              "    <tr style=\"text-align: right;\">\n",
              "      <th></th>\n",
              "      <th>Years</th>\n",
              "      <th>Pressure</th>\n",
              "      <th>F(million bbl)</th>\n",
              "      <th>Eg(RB/Mscf)</th>\n",
              "      <th>F/Eg(Bscf)</th>\n",
              "      <th>z</th>\n",
              "      <th>We(res bbl)</th>\n",
              "      <th>p/z(psia)</th>\n",
              "    </tr>\n",
              "  </thead>\n",
              "  <tbody>\n",
              "    <tr>\n",
              "      <th>0</th>\n",
              "      <td>0.0</td>\n",
              "      <td>8490.0</td>\n",
              "      <td>0.000000</td>\n",
              "      <td>0.0000</td>\n",
              "      <td>NaN</td>\n",
              "      <td>1.271392</td>\n",
              "      <td>0.000000e+00</td>\n",
              "      <td>6677.720168</td>\n",
              "    </tr>\n",
              "    <tr>\n",
              "      <th>1</th>\n",
              "      <td>0.5</td>\n",
              "      <td>8330.0</td>\n",
              "      <td>0.959516</td>\n",
              "      <td>0.0054</td>\n",
              "      <td>177.688222</td>\n",
              "      <td>1.259897</td>\n",
              "      <td>-3.917694e+05</td>\n",
              "      <td>6611.651587</td>\n",
              "    </tr>\n",
              "    <tr>\n",
              "      <th>2</th>\n",
              "      <td>1.0</td>\n",
              "      <td>8323.0</td>\n",
              "      <td>3.195192</td>\n",
              "      <td>0.0056</td>\n",
              "      <td>570.570000</td>\n",
              "      <td>1.259299</td>\n",
              "      <td>1.794213e+06</td>\n",
              "      <td>6609.232597</td>\n",
              "    </tr>\n",
              "    <tr>\n",
              "      <th>3</th>\n",
              "      <td>1.5</td>\n",
              "      <td>8166.0</td>\n",
              "      <td>5.742156</td>\n",
              "      <td>0.0112</td>\n",
              "      <td>512.692500</td>\n",
              "      <td>1.248217</td>\n",
              "      <td>2.947744e+06</td>\n",
              "      <td>6542.131697</td>\n",
              "    </tr>\n",
              "    <tr>\n",
              "      <th>4</th>\n",
              "      <td>2.0</td>\n",
              "      <td>8100.0</td>\n",
              "      <td>8.214712</td>\n",
              "      <td>0.0136</td>\n",
              "      <td>604.022941</td>\n",
              "      <td>1.243516</td>\n",
              "      <td>4.824099e+06</td>\n",
              "      <td>6513.788323</td>\n",
              "    </tr>\n",
              "    <tr>\n",
              "      <th>5</th>\n",
              "      <td>2.5</td>\n",
              "      <td>7905.0</td>\n",
              "      <td>11.843856</td>\n",
              "      <td>0.0210</td>\n",
              "      <td>563.993133</td>\n",
              "      <td>1.229789</td>\n",
              "      <td>6.620390e+06</td>\n",
              "      <td>6427.931946</td>\n",
              "    </tr>\n",
              "    <tr>\n",
              "      <th>6</th>\n",
              "      <td>3.0</td>\n",
              "      <td>7854.0</td>\n",
              "      <td>14.873197</td>\n",
              "      <td>0.0230</td>\n",
              "      <td>646.660722</td>\n",
              "      <td>1.226208</td>\n",
              "      <td>9.156723e+06</td>\n",
              "      <td>6405.112346</td>\n",
              "    </tr>\n",
              "    <tr>\n",
              "      <th>7</th>\n",
              "      <td>3.5</td>\n",
              "      <td>7858.0</td>\n",
              "      <td>16.919654</td>\n",
              "      <td>0.0228</td>\n",
              "      <td>742.090105</td>\n",
              "      <td>1.226397</td>\n",
              "      <td>1.125303e+07</td>\n",
              "      <td>6407.386841</td>\n",
              "    </tr>\n",
              "    <tr>\n",
              "      <th>8</th>\n",
              "      <td>4.0</td>\n",
              "      <td>7900.0</td>\n",
              "      <td>18.401386</td>\n",
              "      <td>0.0212</td>\n",
              "      <td>867.989887</td>\n",
              "      <td>1.229449</td>\n",
              "      <td>1.313268e+07</td>\n",
              "      <td>6425.642707</td>\n",
              "    </tr>\n",
              "    <tr>\n",
              "      <th>9</th>\n",
              "      <td>4.5</td>\n",
              "      <td>7971.0</td>\n",
              "      <td>19.305422</td>\n",
              "      <td>0.0184</td>\n",
              "      <td>1049.207739</td>\n",
              "      <td>1.234314</td>\n",
              "      <td>1.472962e+07</td>\n",
              "      <td>6457.838119</td>\n",
              "    </tr>\n",
              "    <tr>\n",
              "      <th>10</th>\n",
              "      <td>5.0</td>\n",
              "      <td>7883.0</td>\n",
              "      <td>21.133098</td>\n",
              "      <td>0.0218</td>\n",
              "      <td>969.408165</td>\n",
              "      <td>1.228114</td>\n",
              "      <td>1.571581e+07</td>\n",
              "      <td>6418.785227</td>\n",
              "    </tr>\n",
              "    <tr>\n",
              "      <th>11</th>\n",
              "      <td>5.5</td>\n",
              "      <td>7728.0</td>\n",
              "      <td>24.126306</td>\n",
              "      <td>0.0280</td>\n",
              "      <td>861.653800</td>\n",
              "      <td>1.217244</td>\n",
              "      <td>1.718039e+07</td>\n",
              "      <td>6348.768201</td>\n",
              "    </tr>\n",
              "    <tr>\n",
              "      <th>12</th>\n",
              "      <td>6.0</td>\n",
              "      <td>7550.0</td>\n",
              "      <td>29.438280</td>\n",
              "      <td>0.0355</td>\n",
              "      <td>829.247332</td>\n",
              "      <td>1.204899</td>\n",
              "      <td>2.068430e+07</td>\n",
              "      <td>6266.085373</td>\n",
              "    </tr>\n",
              "    <tr>\n",
              "      <th>13</th>\n",
              "      <td>6.5</td>\n",
              "      <td>7446.0</td>\n",
              "      <td>33.487339</td>\n",
              "      <td>0.0400</td>\n",
              "      <td>837.183470</td>\n",
              "      <td>1.197586</td>\n",
              "      <td>2.373058e+07</td>\n",
              "      <td>6217.507553</td>\n",
              "    </tr>\n",
              "    <tr>\n",
              "      <th>14</th>\n",
              "      <td>7.0</td>\n",
              "      <td>7400.0</td>\n",
              "      <td>37.092435</td>\n",
              "      <td>0.0421</td>\n",
              "      <td>881.055463</td>\n",
              "      <td>1.194494</td>\n",
              "      <td>2.711556e+07</td>\n",
              "      <td>6195.091813</td>\n",
              "    </tr>\n",
              "    <tr>\n",
              "      <th>15</th>\n",
              "      <td>7.5</td>\n",
              "      <td>7600.0</td>\n",
              "      <td>37.538338</td>\n",
              "      <td>0.0333</td>\n",
              "      <td>1127.277429</td>\n",
              "      <td>1.208245</td>\n",
              "      <td>3.002093e+07</td>\n",
              "      <td>6290.115002</td>\n",
              "    </tr>\n",
              "    <tr>\n",
              "      <th>16</th>\n",
              "      <td>8.0</td>\n",
              "      <td>7675.0</td>\n",
              "      <td>37.438778</td>\n",
              "      <td>0.0302</td>\n",
              "      <td>1239.694629</td>\n",
              "      <td>1.213575</td>\n",
              "      <td>3.072617e+07</td>\n",
              "      <td>6324.289805</td>\n",
              "    </tr>\n",
              "    <tr>\n",
              "      <th>17</th>\n",
              "      <td>8.5</td>\n",
              "      <td>7600.0</td>\n",
              "      <td>38.778104</td>\n",
              "      <td>0.0333</td>\n",
              "      <td>1164.507631</td>\n",
              "      <td>1.208245</td>\n",
              "      <td>3.160485e+07</td>\n",
              "      <td>6290.115002</td>\n",
              "    </tr>\n",
              "    <tr>\n",
              "      <th>18</th>\n",
              "      <td>9.0</td>\n",
              "      <td>7600.0</td>\n",
              "      <td>40.553706</td>\n",
              "      <td>0.0333</td>\n",
              "      <td>1217.828997</td>\n",
              "      <td>1.208245</td>\n",
              "      <td>3.358585e+07</td>\n",
              "      <td>6290.115002</td>\n",
              "    </tr>\n",
              "    <tr>\n",
              "      <th>19</th>\n",
              "      <td>9.5</td>\n",
              "      <td>7615.0</td>\n",
              "      <td>41.392721</td>\n",
              "      <td>0.0327</td>\n",
              "      <td>1265.832434</td>\n",
              "      <td>1.209363</td>\n",
              "      <td>3.492890e+07</td>\n",
              "      <td>6296.703306</td>\n",
              "    </tr>\n",
              "    <tr>\n",
              "      <th>20</th>\n",
              "      <td>10.0</td>\n",
              "      <td>7623.0</td>\n",
              "      <td>41.781750</td>\n",
              "      <td>0.0324</td>\n",
              "      <td>1289.560198</td>\n",
              "      <td>1.210000</td>\n",
              "      <td>3.624300e+07</td>\n",
              "      <td>6300.000000</td>\n",
              "    </tr>\n",
              "  </tbody>\n",
              "</table>\n",
              "</div>"
            ],
            "text/plain": [
              "    Years  Pressure  F(million bbl)  ...         z   We(res bbl)    p/z(psia)\n",
              "0     0.0    8490.0        0.000000  ...  1.271392  0.000000e+00  6677.720168\n",
              "1     0.5    8330.0        0.959516  ...  1.259897 -3.917694e+05  6611.651587\n",
              "2     1.0    8323.0        3.195192  ...  1.259299  1.794213e+06  6609.232597\n",
              "3     1.5    8166.0        5.742156  ...  1.248217  2.947744e+06  6542.131697\n",
              "4     2.0    8100.0        8.214712  ...  1.243516  4.824099e+06  6513.788323\n",
              "5     2.5    7905.0       11.843856  ...  1.229789  6.620390e+06  6427.931946\n",
              "6     3.0    7854.0       14.873197  ...  1.226208  9.156723e+06  6405.112346\n",
              "7     3.5    7858.0       16.919654  ...  1.226397  1.125303e+07  6407.386841\n",
              "8     4.0    7900.0       18.401386  ...  1.229449  1.313268e+07  6425.642707\n",
              "9     4.5    7971.0       19.305422  ...  1.234314  1.472962e+07  6457.838119\n",
              "10    5.0    7883.0       21.133098  ...  1.228114  1.571581e+07  6418.785227\n",
              "11    5.5    7728.0       24.126306  ...  1.217244  1.718039e+07  6348.768201\n",
              "12    6.0    7550.0       29.438280  ...  1.204899  2.068430e+07  6266.085373\n",
              "13    6.5    7446.0       33.487339  ...  1.197586  2.373058e+07  6217.507553\n",
              "14    7.0    7400.0       37.092435  ...  1.194494  2.711556e+07  6195.091813\n",
              "15    7.5    7600.0       37.538338  ...  1.208245  3.002093e+07  6290.115002\n",
              "16    8.0    7675.0       37.438778  ...  1.213575  3.072617e+07  6324.289805\n",
              "17    8.5    7600.0       38.778104  ...  1.208245  3.160485e+07  6290.115002\n",
              "18    9.0    7600.0       40.553706  ...  1.208245  3.358585e+07  6290.115002\n",
              "19    9.5    7615.0       41.392721  ...  1.209363  3.492890e+07  6296.703306\n",
              "20   10.0    7623.0       41.781750  ...  1.210000  3.624300e+07  6300.000000\n",
              "\n",
              "[21 rows x 8 columns]"
            ]
          },
          "metadata": {
            "tags": []
          },
          "execution_count": 27
        }
      ]
    },
    {
      "cell_type": "code",
      "metadata": {
        "id": "Dbi_Rl_K_Awf",
        "colab_type": "code",
        "colab": {
          "base_uri": "https://localhost:8080/",
          "height": 312
        },
        "outputId": "bf2807fc-53ff-426f-8677-cf601cb4d550"
      },
      "source": [
        "# visualize We\n",
        "plt.plot(time, We, '.-')\n",
        "plt.ylim(ymin=0)\n",
        "plt.xlabel(\"Time (years)\"); plt.ylabel(\"Aquifer influx $W_e$ (res bbl)\")\n",
        "plt.title(\"Aquifer Influx over Production Years\")"
      ],
      "execution_count": 31,
      "outputs": [
        {
          "output_type": "execute_result",
          "data": {
            "text/plain": [
              "Text(0.5, 1.0, 'Aquifer Influx over Production Years')"
            ]
          },
          "metadata": {
            "tags": []
          },
          "execution_count": 31
        },
        {
          "output_type": "display_data",
          "data": {
            "image/png": "[encoded data removed]",
            "text/plain": [
              "<Figure size 432x288 with 1 Axes>"
            ]
          },
          "metadata": {
            "tags": []
          }
        }
      ]
    },
    {
      "cell_type": "markdown",
      "metadata": {
        "id": "KJk8Q8fTL-FA",
        "colab_type": "text"
      },
      "source": [
        "# ***"
      ]
    },
    {
      "cell_type": "code",
      "metadata": {
        "id": "vmd9WqmhKKtL",
        "colab_type": "code",
        "outputId": "9292b544-3574-47d0-d0c6-6bfa8ba4a87e",
        "colab": {
          "base_uri": "https://localhost:8080/",
          "height": 278
        }
      },
      "source": [
        "\"Plot more than one graphs in one plot matplotlib\"\n",
        "\n",
        "import matplotlib.pyplot as plt \n",
        "\n",
        "x = [1, 2, 3, 4, 5, 6, 7]\n",
        "y1 = [20, 34, 56, 10, 70, 80, 90]\n",
        "y2 = [2, 3, 6, 10, 1, 3, 6]\n",
        "y3 = [100, 200, 300, 200, 100, 90, 80]\n",
        "\n",
        "fig = plt.figure()\n",
        "host = fig.add_subplot(111)\n",
        "\n",
        "par1 = host.twinx()\n",
        "par2 = host.twinx()\n",
        "\n",
        "# host.set_xlim(0, 2)\n",
        "# host.set_ylim(0, 2)\n",
        "# par1.set_ylim(0, 4)\n",
        "# par2.set_ylim(1, 65)\n",
        "\n",
        "host.set_xlabel(\"Distance\")\n",
        "host.set_ylabel(\"Density\")\n",
        "par1.set_ylabel(\"Temperature\")\n",
        "par2.set_ylabel(\"Velocity\")\n",
        "\n",
        "color1 = plt.cm.viridis(0)\n",
        "color2 = plt.cm.viridis(0.5)\n",
        "color3 = plt.cm.viridis(.9)\n",
        "\n",
        "# p1, = host.plot([0, 1, 2], [0, 1, 2], color=color1,label=\"Density\")\n",
        "# p2, = par1.plot([0, 1, 2], [0, 3, 2], color=color2, label=\"Temperature\")\n",
        "# p3, = par2.plot([0, 1, 2], [50, 30, 15], color=color3, label=\"Velocity\")\n",
        "\n",
        "p1, = host.plot(x, y1, color=color1,label=\"Density\")\n",
        "p2, = par1.plot(x, y2, color=color2, label=\"Temperature\")\n",
        "p3, = par2.plot(x, y3, color=color3, label=\"Velocity\")\n",
        "\n",
        "lns = [p1, p2, p3]\n",
        "host.legend(handles=lns, loc='best')\n",
        "\n",
        "# right, left, top, bottom\n",
        "par2.spines['right'].set_position(('outward', 60))      \n",
        "# no x-ticks                 \n",
        "par2.xaxis.set_ticks([])\n",
        "# Sometimes handy, same for xaxis\n",
        "par2.yaxis.set_ticks_position('right')"
      ],
      "execution_count": 0,
      "outputs": [
        {
          "output_type": "execute_result",
          "data": {
            "text/plain": [
              "[]"
            ]
          },
          "metadata": {
            "tags": []
          },
          "execution_count": 13
        },
        {
          "output_type": "display_data",
          "data": {
            "image/png": "[encoded data removed]",
            "text/plain": [
              "<Figure size 432x288 with 3 Axes>"
            ]
          },
          "metadata": {
            "tags": []
          }
        }
      ]
    }
  ]
}