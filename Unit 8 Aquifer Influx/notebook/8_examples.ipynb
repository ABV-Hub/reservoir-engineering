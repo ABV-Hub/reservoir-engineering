{
  "nbformat": 4,
  "nbformat_minor": 0,
  "metadata": {
    "colab": {
      "name": "8_examples.ipynb",
      "provenance": [],
      "collapsed_sections": [],
      "authorship_tag": "ABX9TyMWiqRNCaUEWxRwUffFPlCy",
      "include_colab_link": true
    },
    "kernelspec": {
      "name": "python3",
      "display_name": "Python 3"
    }
  },
  "cells": [
    {
      "cell_type": "markdown",
      "metadata": {
        "id": "view-in-github",
        "colab_type": "text"
      },
      "source": [
        "<a href=\"https://colab.research.google.com/github/yohanesnuwara/reservoir-engineering/blob/master/Unit%208%20Aquifer%20Influx/notebook/8_examples.ipynb\" target=\"_parent\"><img src=\"https://colab.research.google.com/assets/colab-badge.svg\" alt=\"Open In Colab\"/></a>"
      ]
    },
    {
      "cell_type": "markdown",
      "metadata": {
        "id": "987ob_NFn-N-",
        "colab_type": "text"
      },
      "source": [
        "# **Unit 8 Aquifer Influx**"
      ]
    },
    {
      "cell_type": "code",
      "metadata": {
        "id": "nUxdVncJn128",
        "colab_type": "code",
        "colab": {}
      },
      "source": [
        "import numpy as np\n",
        "import matplotlib.pyplot as plt\n",
        "import pandas as pd"
      ],
      "execution_count": 0,
      "outputs": []
    },
    {
      "cell_type": "code",
      "metadata": {
        "id": "xDwHbF_GoI7_",
        "colab_type": "code",
        "outputId": "2af558d5-7a2a-41ad-b2d2-b987657c5777",
        "colab": {
          "base_uri": "https://localhost:8080/",
          "height": 151
        }
      },
      "source": [
        "!git clone https://www.github.com/yohanesnuwara/reservoir-engineering"
      ],
      "execution_count": 0,
      "outputs": [
        {
          "output_type": "stream",
          "text": [
            "Cloning into 'reservoir-engineering'...\n",
            "warning: redirecting to https://github.com/yohanesnuwara/reservoir-engineering.git/\n",
            "remote: Enumerating objects: 29, done.\u001b[K\n",
            "remote: Counting objects:   3% (1/29)\u001b[K\rremote: Counting objects:   6% (2/29)\u001b[K\rremote: Counting objects:  10% (3/29)\u001b[K\rremote: Counting objects:  13% (4/29)\u001b[K\rremote: Counting objects:  17% (5/29)\u001b[K\rremote: Counting objects:  20% (6/29)\u001b[K\rremote: Counting objects:  24% (7/29)\u001b[K\rremote: Counting objects:  27% (8/29)\u001b[K\rremote: Counting objects:  31% (9/29)\u001b[K\rremote: Counting objects:  34% (10/29)\u001b[K\rremote: Counting objects:  37% (11/29)\u001b[K\rremote: Counting objects:  41% (12/29)\u001b[K\rremote: Counting objects:  44% (13/29)\u001b[K\rremote: Counting objects:  48% (14/29)\u001b[K\rremote: Counting objects:  51% (15/29)\u001b[K\rremote: Counting objects:  55% (16/29)\u001b[K\rremote: Counting objects:  58% (17/29)\u001b[K\rremote: Counting objects:  62% (18/29)\u001b[K\rremote: Counting objects:  65% (19/29)\u001b[K\rremote: Counting objects:  68% (20/29)\u001b[K\rremote: Counting objects:  72% (21/29)\u001b[K\rremote: Counting objects:  75% (22/29)\u001b[K\rremote: Counting objects:  79% (23/29)\u001b[K\rremote: Counting objects:  82% (24/29)\u001b[K\rremote: Counting objects:  86% (25/29)\u001b[K\rremote: Counting objects:  89% (26/29)\u001b[K\rremote: Counting objects:  93% (27/29)\u001b[K\rremote: Counting objects:  96% (28/29)\u001b[K\rremote: Counting objects: 100% (29/29)\u001b[K\rremote: Counting objects: 100% (29/29), done.\u001b[K\n",
            "remote: Compressing objects: 100% (25/25), done.\u001b[K\n",
            "remote: Total 725 (delta 7), reused 0 (delta 0), pack-reused 696\u001b[K\n",
            "Receiving objects: 100% (725/725), 3.15 MiB | 24.84 MiB/s, done.\n",
            "Resolving deltas: 100% (305/305), done.\n"
          ],
          "name": "stdout"
        }
      ]
    },
    {
      "cell_type": "markdown",
      "metadata": {
        "id": "f8MMHj-HomG8",
        "colab_type": "text"
      },
      "source": [
        "## **Chapter 8.2 Schiltuis Steady-State Method**"
      ]
    },
    {
      "cell_type": "markdown",
      "metadata": {
        "id": "xhoT_Xh3wkAR",
        "colab_type": "text"
      },
      "source": [
        "### Functions"
      ]
    },
    {
      "cell_type": "code",
      "metadata": {
        "id": "xNvKyCL9t9Nd",
        "colab_type": "code",
        "colab": {}
      },
      "source": [
        "def influx_matbalance_undersaturated(pressure, Bw, Wp, Np, Bo, Nfoi, cf, cw, swi, Boi, delta_time):\n",
        "  \"Eq 8.3\"\n",
        "  # in case of undersaturated (above bubblepoint), Rp = Rs = Rsi, Gfgi = Bgi = Eg = 0\n",
        "  # pressure and Bo are pressure and oil FVF data over time (so, it must be in ARRAY)\n",
        "  # Bw: water FVF (RB/STB)\n",
        "  # Wp: cumulative water production (STB), in ARRAY\n",
        "  # Np: cumulative oil production (STB), in ARRAY\n",
        "  # Bo: oil FVF\n",
        "  # Nfoi, Gfgi: original oil, gas, in place (cubic ft), from volumetrics\n",
        "  # cf, cw: rock, water compressibility (psi^-1)\n",
        "  # swi: initial water saturation\n",
        "  # Boi, Bgi: initial oil, gas FVF \n",
        "\n",
        "  F = Np * Bo\n",
        "  Eo = Bo - Boi\n",
        "  delta_time = delta_time\n",
        "  delta_pressure = pressure - pressure[0]\n",
        "  delta_pressure = np.abs(delta_pressure)\n",
        "\n",
        "  Efw = ((4E-06 + (3E-06 * 0.48)) / (1 - 0.48)) * delta_pressure\n",
        "\n",
        "  We = (Bw * Wp) + F - (Nfoi * Eo) - ((Nfoi * Boi) * Efw)\n",
        "\n",
        "  delta_We = [j-i for i, j in zip(We[:-1], We[1:])]\n",
        "  delta_We = np.append([0], delta_We)\n",
        "  We_rate = delta_We / delta_time\n",
        "\n",
        "  return(delta_pressure, Efw, Eo, F, We, We_rate)\n",
        "\n",
        "def influx_rate_schiltuis_general(F_rate, Bw, Wp_rate):\n",
        "  \"Eq 8.4\"\n",
        "  # F_rate: reservoir voidage rate\n",
        "  # Bw: water FVF\n",
        "  # Wp_rate: water production rate\n",
        "  We_rate = F_rate + (Bw * Wp_rate)\n",
        "  return(We_rate)\n",
        "\n",
        "def influx_rate_schiltuis_nonvolatile(Bw, Wp_rate, Bo, Rs, Bg, Np_rate, Gp_rate):\n",
        "  \"Eq 8.5\"\n",
        "  # Bo, Bg: oil, gas FVF\n",
        "  # Rs: solution gas-oil ratio (scf/STB)\n",
        "  # Np_rate, Gp_rate: oil, gas production rate\n",
        "  We_rate = (Bw * Wp_rate) + ((Bo - (Rs * Bg)) * Np_rate) + (Bg * Gp_rate)\n",
        "  return(We_rate)\n",
        "\n",
        "def influx_rate_schiltuis_undersaturated(Bw, Wp_rate, Bo, Np_rate):\n",
        "  \"Eq 8.6\"\n",
        "  # above bubblepoint pressure, P_bubble\n",
        "  We_rate = (Bo * Np_rate) + (Bw * Wp_rate)\n",
        "  return(We_rate)"
      ],
      "execution_count": 0,
      "outputs": []
    },
    {
      "cell_type": "markdown",
      "metadata": {
        "id": "Sd67ogZ-oyDV",
        "colab_type": "text"
      },
      "source": [
        "### Example 8.1 Determination of Schiltuis Aquifer Influx Constant at Constant Pressure"
      ]
    },
    {
      "cell_type": "code",
      "metadata": {
        "id": "O_WxfHjCo_ft",
        "colab_type": "code",
        "outputId": "72a2efcc-e468-41a3-b850-fe6f72d5263b",
        "colab": {
          "base_uri": "https://localhost:8080/",
          "height": 50
        }
      },
      "source": [
        "\"Task. calculate aquifer influx constant (k')\"\n",
        "\n",
        "# known: pressure maintained above bubblepoint pressure\n",
        "pi = 3200 # in psia\n",
        "p_current = 2850 # current pressure, in psia\n",
        "Np_rate = 5000 # oil production rate, in STB/d\n",
        "Wp_rate = 1000 # water production rate, in STB/d\n",
        "Bo = 1.45 # oil FVF, in RB/STB\n",
        "Bw = 1.02 # water FVF, in RB/STB\n",
        "\n",
        "# calculate aquifer influx rate (We_rate or dWe/dt)\n",
        "We_rate = influx_rate_schiltuis_undersaturated(Bw, Wp_rate, Bo, Np_rate)\n",
        "print(\"Schiltuis steady-state aquifer influx RATE above bubblepoint pressure:\", We_rate, \"RB/d\")\n",
        "\n",
        "# calculate k' from Eq 8.1\n",
        "k_aqui = We_rate / (pi - p_current)\n",
        "print(\"Schiltuis steady-state aquifer influx CONSTANT above bubblepoint pressure:\", k_aqui, \"RB/(D-psi)\")"
      ],
      "execution_count": 112,
      "outputs": [
        {
          "output_type": "stream",
          "text": [
            "Schiltuis steady-state aquifer influx RATE above bubblepoint pressure: 8270.0 RB/d\n",
            "Schiltuis steady-state aquifer influx CONSTANT above bubblepoint pressure: 23.62857142857143 RB/(D-psi)\n"
          ],
          "name": "stdout"
        }
      ]
    },
    {
      "cell_type": "markdown",
      "metadata": {
        "id": "JBa3-SvBhOej",
        "colab_type": "text"
      },
      "source": [
        "### Example 8.2 Determination of Schiltuis Aquifer Influx Constant for Moonie Field"
      ]
    },
    {
      "cell_type": "code",
      "metadata": {
        "id": "G-uXjcCbhbpp",
        "colab_type": "code",
        "outputId": "de0edfbf-78d8-45b8-f47d-c8752cf36df3",
        "colab": {
          "base_uri": "https://localhost:8080/",
          "height": 343
        }
      },
      "source": [
        "\"Task. calculate k' (aquifer-influx constant)\"\n",
        "\n",
        "# known\n",
        "P_bubble = 737 # psia\n",
        "pi = 2532 # psia\n",
        "temp = 156 # in F\n",
        "# Bw = 1.02 # no information in the book, so assume similar to Problem 8.1, in RB/STB\n",
        "Nfoi = 48.75 # in MSTB (million STB)\n",
        "Boi = 1.078 # RB/STB\n",
        "cf = 4E-06 # in psi^-1\n",
        "cw = 3E-06 # in psi^-1\n",
        "swi = 0.48\n",
        "\n",
        "# conversion\n",
        "Nfoi = Nfoi * 1E+06 # convert from MSTB to STB\n",
        "\n",
        "\"because pi > P_bubble, reservoir is undersaturated (above bubblepoint)\"\n",
        "\n",
        "# no data on Bw, so Bw will be assumed constant: 1.02 RB/STB\n",
        "Bw = 1.02\n",
        "\n",
        "# load data and review datetime format\n",
        "data2 = pd.read_csv('/content/reservoir-engineering/Unit 8 Aquifer Influx/data/Table 8.3-Production Data Moonie Field Example 8.2.csv')\n",
        "data2"
      ],
      "execution_count": 131,
      "outputs": [
        {
          "output_type": "execute_result",
          "data": {
            "text/html": [
              "<div>\n",
              "<style scoped>\n",
              "    .dataframe tbody tr th:only-of-type {\n",
              "        vertical-align: middle;\n",
              "    }\n",
              "\n",
              "    .dataframe tbody tr th {\n",
              "        vertical-align: top;\n",
              "    }\n",
              "\n",
              "    .dataframe thead th {\n",
              "        text-align: right;\n",
              "    }\n",
              "</style>\n",
              "<table border=\"1\" class=\"dataframe\">\n",
              "  <thead>\n",
              "    <tr style=\"text-align: right;\">\n",
              "      <th></th>\n",
              "      <th>t</th>\n",
              "      <th>p</th>\n",
              "      <th>Np</th>\n",
              "      <th>Gp</th>\n",
              "      <th>Wp</th>\n",
              "      <th>Bo</th>\n",
              "    </tr>\n",
              "  </thead>\n",
              "  <tbody>\n",
              "    <tr>\n",
              "      <th>0</th>\n",
              "      <td>01 January 1964</td>\n",
              "      <td>2532</td>\n",
              "      <td>0</td>\n",
              "      <td>0.000000e+00</td>\n",
              "      <td>0</td>\n",
              "      <td>1.07800</td>\n",
              "    </tr>\n",
              "    <tr>\n",
              "      <th>1</th>\n",
              "      <td>01 October 1964</td>\n",
              "      <td>2503</td>\n",
              "      <td>1107012</td>\n",
              "      <td>1.240000e+08</td>\n",
              "      <td>27400</td>\n",
              "      <td>1.07826</td>\n",
              "    </tr>\n",
              "    <tr>\n",
              "      <th>2</th>\n",
              "      <td>01 January 1965</td>\n",
              "      <td>2496</td>\n",
              "      <td>1574736</td>\n",
              "      <td>1.760000e+08</td>\n",
              "      <td>55000</td>\n",
              "      <td>1.07832</td>\n",
              "    </tr>\n",
              "    <tr>\n",
              "      <th>3</th>\n",
              "      <td>01 April 1965</td>\n",
              "      <td>2485</td>\n",
              "      <td>2157206</td>\n",
              "      <td>2.420000e+08</td>\n",
              "      <td>109000</td>\n",
              "      <td>1.07842</td>\n",
              "    </tr>\n",
              "    <tr>\n",
              "      <th>4</th>\n",
              "      <td>01 September 1965</td>\n",
              "      <td>2476</td>\n",
              "      <td>3268489</td>\n",
              "      <td>3.660000e+08</td>\n",
              "      <td>277300</td>\n",
              "      <td>1.07850</td>\n",
              "    </tr>\n",
              "    <tr>\n",
              "      <th>5</th>\n",
              "      <td>01 April 1966</td>\n",
              "      <td>2471</td>\n",
              "      <td>5007092</td>\n",
              "      <td>5.610000e+08</td>\n",
              "      <td>495450</td>\n",
              "      <td>1.07854</td>\n",
              "    </tr>\n",
              "    <tr>\n",
              "      <th>6</th>\n",
              "      <td>01 April 1967</td>\n",
              "      <td>2465</td>\n",
              "      <td>7739388</td>\n",
              "      <td>8.670000e+08</td>\n",
              "      <td>1514500</td>\n",
              "      <td>1.07860</td>\n",
              "    </tr>\n",
              "    <tr>\n",
              "      <th>7</th>\n",
              "      <td>01 June 1977</td>\n",
              "      <td>2442</td>\n",
              "      <td>18311694</td>\n",
              "      <td>2.050000e+09</td>\n",
              "      <td>39123000</td>\n",
              "      <td>1.07880</td>\n",
              "    </tr>\n",
              "    <tr>\n",
              "      <th>8</th>\n",
              "      <td>01 June 1981</td>\n",
              "      <td>2439</td>\n",
              "      <td>19657804</td>\n",
              "      <td>2.200000e+09</td>\n",
              "      <td>57345000</td>\n",
              "      <td>1.07883</td>\n",
              "    </tr>\n",
              "    <tr>\n",
              "      <th>9</th>\n",
              "      <td>01 July 1985</td>\n",
              "      <td>2430</td>\n",
              "      <td>20657249</td>\n",
              "      <td>2.310000e+09</td>\n",
              "      <td>78372000</td>\n",
              "      <td>1.07891</td>\n",
              "    </tr>\n",
              "  </tbody>\n",
              "</table>\n",
              "</div>"
            ],
            "text/plain": [
              "                   t     p        Np            Gp        Wp       Bo\n",
              "0    01 January 1964  2532         0  0.000000e+00         0  1.07800\n",
              "1    01 October 1964  2503   1107012  1.240000e+08     27400  1.07826\n",
              "2    01 January 1965  2496   1574736  1.760000e+08     55000  1.07832\n",
              "3      01 April 1965  2485   2157206  2.420000e+08    109000  1.07842\n",
              "4  01 September 1965  2476   3268489  3.660000e+08    277300  1.07850\n",
              "5      01 April 1966  2471   5007092  5.610000e+08    495450  1.07854\n",
              "6      01 April 1967  2465   7739388  8.670000e+08   1514500  1.07860\n",
              "7       01 June 1977  2442  18311694  2.050000e+09  39123000  1.07880\n",
              "8       01 June 1981  2439  19657804  2.200000e+09  57345000  1.07883\n",
              "9       01 July 1985  2430  20657249  2.310000e+09  78372000  1.07891"
            ]
          },
          "metadata": {
            "tags": []
          },
          "execution_count": 131
        }
      ]
    },
    {
      "cell_type": "code",
      "metadata": {
        "id": "jJsvizLN9iYp",
        "colab_type": "code",
        "outputId": "c2195354-c704-45c1-9e0d-ddf423db2c3a",
        "colab": {
          "base_uri": "https://localhost:8080/",
          "height": 639
        }
      },
      "source": [
        "\"Converting to Panda datetime\"\n",
        "\n",
        "# time data in format: 01 January 1964\n",
        "\n",
        "data2['t'] =  pd.to_datetime(data2['t'], format='%d %B %Y') # format check web: https://strftime.org/\n",
        "data2 # already converted to YYYY-MM-DD\n",
        "\n",
        "\"Subtracting datetimes to get time differences (how many days) IN INTEGER\"\n",
        "\n",
        "diff = [j-i for i, j in zip(data2.t[:-1], data2.t[1:])]\n",
        "diff = np.array(diff)\n",
        "\n",
        "# convert datetime format to integer\n",
        "diffr_arr = []\n",
        "for k in range(len(diff)):\n",
        "  diffr = diff[k] / np.timedelta64(1,'D')\n",
        "  diffr_arr.append(float(diffr))\n",
        "\n",
        "# append 0 to the first index of numpy\n",
        "diffr_arr = np.append([0], diffr_arr) # now diff has same dimension with time data (a)\n",
        "\n",
        "\"Calculate We\"\n",
        "\n",
        "pressure = np.array(data2.p)\n",
        "Np = np.array(data2.Np)\n",
        "Wp = np.array(data2.Wp)\n",
        "Bo = np.array(data2.Bo)\n",
        "\n",
        "\"Material Balance\"\n",
        "\n",
        "# call function\n",
        "delta_pressure, Efw, Eo, F, We_schiltuis, We_rate = influx_matbalance_undersaturated(pressure, Bw, Wp, Np, Bo, Nfoi, cf, cw, swi, Boi, diffr_arr)\n",
        "\n",
        "# plot We_rate vs delta_pressure\n",
        "plt.plot(delta_pressure, We_rate, '.')\n",
        "plt.xlabel('delta_pressure (psi)'); plt.ylabel('We_rate (RB/D)')\n",
        "plt.title('Schiltuis Aquifer Influx Plot of Moonie Field')\n",
        "\n",
        "# result in table\n",
        "schiltuis = pd.DataFrame({\"Date\": data2.t, \"delta_pressure(psi)\": delta_pressure, \"Efw\": Efw, \"Eo(RB/STB)\": Eo, \"F(res bbl)\": F, \"We(res bbl)\": We_schiltuis, \"We_rate(RB/D)\": We_rate})\n",
        "schiltuis = schiltuis.fillna(0) # replace NaN with zero\n",
        "schiltuis"
      ],
      "execution_count": 132,
      "outputs": [
        {
          "output_type": "stream",
          "text": [
            "/usr/local/lib/python3.6/dist-packages/ipykernel_launcher.py:26: RuntimeWarning: invalid value encountered in true_divide\n"
          ],
          "name": "stderr"
        },
        {
          "output_type": "execute_result",
          "data": {
            "text/html": [
              "<div>\n",
              "<style scoped>\n",
              "    .dataframe tbody tr th:only-of-type {\n",
              "        vertical-align: middle;\n",
              "    }\n",
              "\n",
              "    .dataframe tbody tr th {\n",
              "        vertical-align: top;\n",
              "    }\n",
              "\n",
              "    .dataframe thead th {\n",
              "        text-align: right;\n",
              "    }\n",
              "</style>\n",
              "<table border=\"1\" class=\"dataframe\">\n",
              "  <thead>\n",
              "    <tr style=\"text-align: right;\">\n",
              "      <th></th>\n",
              "      <th>Date</th>\n",
              "      <th>delta_pressure(psi)</th>\n",
              "      <th>Efw</th>\n",
              "      <th>Eo(RB/STB)</th>\n",
              "      <th>F(res bbl)</th>\n",
              "      <th>We(res bbl)</th>\n",
              "      <th>We_rate(RB/D)</th>\n",
              "    </tr>\n",
              "  </thead>\n",
              "  <tbody>\n",
              "    <tr>\n",
              "      <th>0</th>\n",
              "      <td>1964-01-01</td>\n",
              "      <td>0</td>\n",
              "      <td>0.000000</td>\n",
              "      <td>0.00000</td>\n",
              "      <td>0.000000e+00</td>\n",
              "      <td>0.000000e+00</td>\n",
              "      <td>0.000000</td>\n",
              "    </tr>\n",
              "    <tr>\n",
              "      <th>1</th>\n",
              "      <td>1964-10-01</td>\n",
              "      <td>29</td>\n",
              "      <td>0.000303</td>\n",
              "      <td>0.00026</td>\n",
              "      <td>1.193647e+06</td>\n",
              "      <td>1.192976e+06</td>\n",
              "      <td>4353.927515</td>\n",
              "    </tr>\n",
              "    <tr>\n",
              "      <th>2</th>\n",
              "      <td>1965-01-01</td>\n",
              "      <td>36</td>\n",
              "      <td>0.000377</td>\n",
              "      <td>0.00032</td>\n",
              "      <td>1.698069e+06</td>\n",
              "      <td>1.718777e+06</td>\n",
              "      <td>5715.229396</td>\n",
              "    </tr>\n",
              "    <tr>\n",
              "      <th>3</th>\n",
              "      <td>1965-04-01</td>\n",
              "      <td>47</td>\n",
              "      <td>0.000492</td>\n",
              "      <td>0.00042</td>\n",
              "      <td>2.326374e+06</td>\n",
              "      <td>2.391239e+06</td>\n",
              "      <td>7471.802122</td>\n",
              "    </tr>\n",
              "    <tr>\n",
              "      <th>4</th>\n",
              "      <td>1965-09-01</td>\n",
              "      <td>56</td>\n",
              "      <td>0.000586</td>\n",
              "      <td>0.00050</td>\n",
              "      <td>3.525065e+06</td>\n",
              "      <td>3.752749e+06</td>\n",
              "      <td>8898.753412</td>\n",
              "    </tr>\n",
              "    <tr>\n",
              "      <th>5</th>\n",
              "      <td>1966-04-01</td>\n",
              "      <td>61</td>\n",
              "      <td>0.000638</td>\n",
              "      <td>0.00054</td>\n",
              "      <td>5.400349e+06</td>\n",
              "      <td>5.845846e+06</td>\n",
              "      <td>9873.102449</td>\n",
              "    </tr>\n",
              "    <tr>\n",
              "      <th>6</th>\n",
              "      <td>1967-04-01</td>\n",
              "      <td>67</td>\n",
              "      <td>0.000701</td>\n",
              "      <td>0.00060</td>\n",
              "      <td>8.347704e+06</td>\n",
              "      <td>9.826409e+06</td>\n",
              "      <td>10905.649893</td>\n",
              "    </tr>\n",
              "    <tr>\n",
              "      <th>7</th>\n",
              "      <td>1977-06-01</td>\n",
              "      <td>90</td>\n",
              "      <td>0.000942</td>\n",
              "      <td>0.00080</td>\n",
              "      <td>1.975466e+07</td>\n",
              "      <td>5.957164e+07</td>\n",
              "      <td>13393.975942</td>\n",
              "    </tr>\n",
              "    <tr>\n",
              "      <th>8</th>\n",
              "      <td>1981-06-01</td>\n",
              "      <td>93</td>\n",
              "      <td>0.000973</td>\n",
              "      <td>0.00083</td>\n",
              "      <td>2.120743e+07</td>\n",
              "      <td>7.960774e+07</td>\n",
              "      <td>13713.963971</td>\n",
              "    </tr>\n",
              "    <tr>\n",
              "      <th>9</th>\n",
              "      <td>1985-07-01</td>\n",
              "      <td>102</td>\n",
              "      <td>0.001067</td>\n",
              "      <td>0.00091</td>\n",
              "      <td>2.228731e+07</td>\n",
              "      <td>1.021263e+08</td>\n",
              "      <td>15103.001884</td>\n",
              "    </tr>\n",
              "  </tbody>\n",
              "</table>\n",
              "</div>"
            ],
            "text/plain": [
              "        Date  delta_pressure(psi)  ...   We(res bbl)  We_rate(RB/D)\n",
              "0 1964-01-01                    0  ...  0.000000e+00       0.000000\n",
              "1 1964-10-01                   29  ...  1.192976e+06    4353.927515\n",
              "2 1965-01-01                   36  ...  1.718777e+06    5715.229396\n",
              "3 1965-04-01                   47  ...  2.391239e+06    7471.802122\n",
              "4 1965-09-01                   56  ...  3.752749e+06    8898.753412\n",
              "5 1966-04-01                   61  ...  5.845846e+06    9873.102449\n",
              "6 1967-04-01                   67  ...  9.826409e+06   10905.649893\n",
              "7 1977-06-01                   90  ...  5.957164e+07   13393.975942\n",
              "8 1981-06-01                   93  ...  7.960774e+07   13713.963971\n",
              "9 1985-07-01                  102  ...  1.021263e+08   15103.001884\n",
              "\n",
              "[10 rows x 7 columns]"
            ]
          },
          "metadata": {
            "tags": []
          },
          "execution_count": 132
        },
        {
          "output_type": "display_data",
          "data": {
            "image/png": "[encoded data removed]",
            "text/plain": [
              "<Figure size 432x288 with 1 Axes>"
            ]
          },
          "metadata": {
            "tags": []
          }
        }
      ]
    },
    {
      "cell_type": "code",
      "metadata": {
        "id": "e-3noBXTon5-",
        "colab_type": "code",
        "outputId": "b076a79d-8d8a-4a6d-fc33-491f4651fdf6",
        "colab": {
          "base_uri": "https://localhost:8080/",
          "height": 330
        }
      },
      "source": [
        "\"Regression of Schiltuis Plot\"\n",
        "\n",
        "# import regression function from Unit 7 function folder\n",
        "import sys, os \n",
        "sys.path.append('/content/reservoir-engineering/Unit 7 Introduction to Well-Test Analysis/functions')\n",
        "\n",
        "from regression import regression\n",
        "\n",
        "x = np.array(schiltuis.iloc[:, 1]) # delta_pressure\n",
        "y = np.array(schiltuis.iloc[:, 6]) # We_rate\n",
        "\n",
        "c, m = regression(x, y)\n",
        "print(\"Aquifer influx constant from slope of Schiltuis Plot:\", m, \"RB/(D-psi)\")\n",
        "\n",
        "# plot regression\n",
        "\n",
        "y_reg = m * x + c\n",
        "\n",
        "plt.plot(delta_pressure, We_rate, '.')\n",
        "plt.xlabel('delta_pressure (psi)'); plt.ylabel('We_rate (RB/D)')\n",
        "plt.title('Schiltuis Aquifer Influx Plot of Moonie Field')\n",
        "plt.plot(x, y_reg)"
      ],
      "execution_count": 133,
      "outputs": [
        {
          "output_type": "stream",
          "text": [
            "Aquifer influx constant from slope of Schiltuis Plot: 147.42917107467179 RB/(D-psi)\n"
          ],
          "name": "stdout"
        },
        {
          "output_type": "execute_result",
          "data": {
            "text/plain": [
              "[<matplotlib.lines.Line2D at 0x7fdd7a7620f0>]"
            ]
          },
          "metadata": {
            "tags": []
          },
          "execution_count": 133
        },
        {
          "output_type": "display_data",
          "data": {
            "image/png": "[encoded data removed]",
            "text/plain": [
              "<Figure size 432x288 with 1 Axes>"
            ]
          },
          "metadata": {
            "tags": []
          }
        }
      ]
    },
    {
      "cell_type": "markdown",
      "metadata": {
        "id": "EKyVMY5RwQJ0",
        "colab_type": "text"
      },
      "source": [
        "## **Chapter 8.3 Van Everdingen-Hurst (VEH) Unsteady-State Method**"
      ]
    },
    {
      "cell_type": "markdown",
      "metadata": {
        "id": "BvRjfpN6woD_",
        "colab_type": "text"
      },
      "source": [
        "### Functions"
      ]
    },
    {
      "cell_type": "code",
      "metadata": {
        "id": "C3eSE29QwYck",
        "colab_type": "code",
        "colab": {}
      },
      "source": [
        ""
      ],
      "execution_count": 0,
      "outputs": []
    },
    {
      "cell_type": "markdown",
      "metadata": {
        "id": "F1uRozVQAukS",
        "colab_type": "text"
      },
      "source": [
        "**NOTE**: In previous VEH method, `B'` is calculated from **reservoir bulk volume** and **reservoir thickness**, assuming cyclindical reservoir, leading to **underestimated result of aquifer influx `We`**. Here, in material balance, `B'` is calculated by **material balance plots**.### Example 8.3 Aquifer Influx using VEH Unsteady-State Method\n",
        "\n",
        "Data similar to Problem 8.2"
      ]
    },
    {
      "cell_type": "code",
      "metadata": {
        "id": "4Jbm-7ybBINm",
        "colab_type": "code",
        "outputId": "80b5d23a-0edf-4798-85af-88a12830bb2b",
        "colab": {
          "base_uri": "https://localhost:8080/",
          "height": 343
        }
      },
      "source": [
        "\"Task. calculate aquifer influx vs time using VEH method\"\n",
        "\n",
        "# known \n",
        "pi = 2532 # psia\n",
        "temp = 156 # reservoir temperature, F\n",
        "P_bubble = 737 # psia\n",
        "Nfoi = 48.75 # in MSTB (million STB)\n",
        "Rsi = 112 # initial solution gas-oil ratio, scf/STB\n",
        "Boi = 1.078 # RB/STB\n",
        "Bob = 1.094 # oil FVF at bubblepoint, RB/STB\n",
        "Bw = 1.02 # water FVF, no information in the book, so assume to be constant, similar to Problem 8.1, in RB/STB\n",
        "swi = 0.48\n",
        "cf = 4E-06 # in psi^-1\n",
        "cw = 3E-06 # in psi^-1\n",
        "poro = 0.177\n",
        "perm = 432 # permeability, md\n",
        "h = 31.8 # reservoir thicknes, ft\n",
        "vbulk = 73590 # reservoir bulk volume, acre ft\n",
        "mu_w = 0.38 # water viscosity, cp\n",
        "mu_oil_initial = 1.02 # initial oil viscosity, cp\n",
        "date_initial = '1964-01-01' # initial date of production\n",
        "\n",
        "# conversion\n",
        "Nfoi = Nfoi * 1E+06 # convert from MSTB to STB\n",
        "vbulk = vbulk * 43559.9 # convert from acre-ft to cubic ft\n",
        "\n",
        "# data used is similar to Problem 8.2\n",
        "data3 = pd.read_csv('/content/reservoir-engineering/Unit 8 Aquifer Influx/data/Table 8.3-Production Data Moonie Field Example 8.2.csv')\n",
        "\n",
        "# calculate reservoir area size\n",
        "area = vbulk / h\n",
        "r_R = np.sqrt(area / np.pi) # radius of reservoir, assume reservoir shape is cylindrical\n",
        "\n",
        "ct = cf + cw # total compressibility, in aquifer sw=1\n",
        "theta = 360 # full circle cylindrical\n",
        "B_star = 1.119 * poro * ct * h *(r_R**2) * (theta / 360)\n",
        "\n",
        "\"calculate delta_pressure_j and visualize in table similar to Table 8.5\"\n",
        "\n",
        "# time data in format: 01 January 1964, convert to PANDA datetime format\n",
        "\n",
        "data3['t'] =  pd.to_datetime(data3['t'], format='%d %B %Y') # format check web: https://strftime.org/\n",
        "\n",
        "# Subtracting datetimes to get time differences from initial production date to date[i] (how many days) IN INTEGER\"\n",
        "\n",
        "diff = data3.t - data3.t[0]\n",
        "\n",
        "# convert datetime format to integer\n",
        "diffr_arr = []\n",
        "for k in range(len(diff)):\n",
        "  diffr = diff[k] / np.timedelta64(1,'D')\n",
        "  diffr_arr.append(float(diffr))\n",
        "\n",
        "# convert time difference from day to hour\n",
        "diffr_arr = np.array(diffr_arr) * 24\n",
        "\n",
        "# create j index for dataframe\n",
        "j_index = np.arange(0, (len(data3.t)), 1)\n",
        "\n",
        "# calculate delta_pj for each date\n",
        "# append an array consists of two initial pressures [pi, pi] (as dummy) to the pressure data\n",
        "p_dummy = np.append(np.array([pi, pi]), data3.p)\n",
        "# delta_p_j = p_(j) - p_(j-2)\n",
        "delta_p_j = [b-a for a, b in zip(p_dummy[:-2], p_dummy[2:])]\n",
        "delta_p_j = 0.5 * np.array(np.abs(delta_p_j))\n",
        "\n",
        "# construct Table 8.5\n",
        "pressure_drop_calc = pd.DataFrame({\"Date\": data3.t, \"j\": j_index, \"Time(hours)\": diffr_arr, \"Pressure(psia)\": data3.p, \"delta_p_j(psia)\": delta_p_j})\n",
        "pressure_drop_calc"
      ],
      "execution_count": 134,
      "outputs": [
        {
          "output_type": "execute_result",
          "data": {
            "text/html": [
              "<div>\n",
              "<style scoped>\n",
              "    .dataframe tbody tr th:only-of-type {\n",
              "        vertical-align: middle;\n",
              "    }\n",
              "\n",
              "    .dataframe tbody tr th {\n",
              "        vertical-align: top;\n",
              "    }\n",
              "\n",
              "    .dataframe thead th {\n",
              "        text-align: right;\n",
              "    }\n",
              "</style>\n",
              "<table border=\"1\" class=\"dataframe\">\n",
              "  <thead>\n",
              "    <tr style=\"text-align: right;\">\n",
              "      <th></th>\n",
              "      <th>Date</th>\n",
              "      <th>j</th>\n",
              "      <th>Time(hours)</th>\n",
              "      <th>Pressure(psia)</th>\n",
              "      <th>delta_p_j(psia)</th>\n",
              "    </tr>\n",
              "  </thead>\n",
              "  <tbody>\n",
              "    <tr>\n",
              "      <th>0</th>\n",
              "      <td>1964-01-01</td>\n",
              "      <td>0</td>\n",
              "      <td>0.0</td>\n",
              "      <td>2532</td>\n",
              "      <td>0.0</td>\n",
              "    </tr>\n",
              "    <tr>\n",
              "      <th>1</th>\n",
              "      <td>1964-10-01</td>\n",
              "      <td>1</td>\n",
              "      <td>6576.0</td>\n",
              "      <td>2503</td>\n",
              "      <td>14.5</td>\n",
              "    </tr>\n",
              "    <tr>\n",
              "      <th>2</th>\n",
              "      <td>1965-01-01</td>\n",
              "      <td>2</td>\n",
              "      <td>8784.0</td>\n",
              "      <td>2496</td>\n",
              "      <td>18.0</td>\n",
              "    </tr>\n",
              "    <tr>\n",
              "      <th>3</th>\n",
              "      <td>1965-04-01</td>\n",
              "      <td>3</td>\n",
              "      <td>10944.0</td>\n",
              "      <td>2485</td>\n",
              "      <td>9.0</td>\n",
              "    </tr>\n",
              "    <tr>\n",
              "      <th>4</th>\n",
              "      <td>1965-09-01</td>\n",
              "      <td>4</td>\n",
              "      <td>14616.0</td>\n",
              "      <td>2476</td>\n",
              "      <td>10.0</td>\n",
              "    </tr>\n",
              "    <tr>\n",
              "      <th>5</th>\n",
              "      <td>1966-04-01</td>\n",
              "      <td>5</td>\n",
              "      <td>19704.0</td>\n",
              "      <td>2471</td>\n",
              "      <td>7.0</td>\n",
              "    </tr>\n",
              "    <tr>\n",
              "      <th>6</th>\n",
              "      <td>1967-04-01</td>\n",
              "      <td>6</td>\n",
              "      <td>28464.0</td>\n",
              "      <td>2465</td>\n",
              "      <td>5.5</td>\n",
              "    </tr>\n",
              "    <tr>\n",
              "      <th>7</th>\n",
              "      <td>1977-06-01</td>\n",
              "      <td>7</td>\n",
              "      <td>117600.0</td>\n",
              "      <td>2442</td>\n",
              "      <td>14.5</td>\n",
              "    </tr>\n",
              "    <tr>\n",
              "      <th>8</th>\n",
              "      <td>1981-06-01</td>\n",
              "      <td>8</td>\n",
              "      <td>152664.0</td>\n",
              "      <td>2439</td>\n",
              "      <td>13.0</td>\n",
              "    </tr>\n",
              "    <tr>\n",
              "      <th>9</th>\n",
              "      <td>1985-07-01</td>\n",
              "      <td>9</td>\n",
              "      <td>188448.0</td>\n",
              "      <td>2430</td>\n",
              "      <td>6.0</td>\n",
              "    </tr>\n",
              "  </tbody>\n",
              "</table>\n",
              "</div>"
            ],
            "text/plain": [
              "        Date  j  Time(hours)  Pressure(psia)  delta_p_j(psia)\n",
              "0 1964-01-01  0          0.0            2532              0.0\n",
              "1 1964-10-01  1       6576.0            2503             14.5\n",
              "2 1965-01-01  2       8784.0            2496             18.0\n",
              "3 1965-04-01  3      10944.0            2485              9.0\n",
              "4 1965-09-01  4      14616.0            2476             10.0\n",
              "5 1966-04-01  5      19704.0            2471              7.0\n",
              "6 1967-04-01  6      28464.0            2465              5.5\n",
              "7 1977-06-01  7     117600.0            2442             14.5\n",
              "8 1981-06-01  8     152664.0            2439             13.0\n",
              "9 1985-07-01  9     188448.0            2430              6.0"
            ]
          },
          "metadata": {
            "tags": []
          },
          "execution_count": 134
        }
      ]
    },
    {
      "cell_type": "code",
      "metadata": {
        "id": "70Dugy9u1H0z",
        "colab_type": "code",
        "outputId": "e2d42b3a-a0e1-40c1-a4aa-3d14c2ce17d4",
        "colab": {
          "base_uri": "https://localhost:8080/",
          "height": 330
        }
      },
      "source": [
        "\"Full code to create Table 8.6\"\n",
        "\n",
        "time_array = np.array(pressure_drop_calc.iloc[:, 2]) # time\n",
        "\n",
        "j_array = np.arange(1, (len(time_array)+1), 1)\n",
        "\n",
        "delta_p_j = np.array(pressure_drop_calc.iloc[:, 4]) # delta_pj\n",
        "delta_p_j_array = delta_p_j[1:]\n",
        "\n",
        "array_j = []\n",
        "array_time = []\n",
        "array_delta_p_j = []\n",
        "array_time_repeat = []\n",
        "\n",
        "for i in range(len(time_array)):\n",
        "  new_j = j_array[:i]\n",
        "  new_time = time_array[:i]\n",
        "  new_delta_p_j = delta_p_j_array[:i]\n",
        "\n",
        "  array_j.append(new_j)\n",
        "  array_time.append(new_time)\n",
        "  array_delta_p_j.append(new_delta_p_j)\n",
        "\n",
        "  # make arrays of repeated times\n",
        "  new_time_repeat = np.repeat((time_array[i]), i)\n",
        "  array_time_repeat.append(new_time_repeat)\n",
        "\n",
        "\"To calculate delta_time, SUBTRACT arrr_time TO arrr_time_repeat\"\n",
        "\n",
        "delta_time = np.subtract(array_time_repeat, array_time) # numpy subtract array to array\n",
        "\n",
        "\"Calculate t_DR and W_eD\" \n",
        "\n",
        "t_DR_factor = (0.0002637 * perm) / (poro * mu_w * ct * (r_R**2))\n",
        "\n",
        "# e.g. we'd like to calculate both parameters at July 1985, like in the book page 81; time index = 9\n",
        "\n",
        "index = 9\n",
        "\n",
        "t_DR_arr = []\n",
        "W_eD_arr = []\n",
        "\n",
        "for i in range(len(delta_time[index])):\n",
        "  t_DR = t_DR_factor * (delta_time[index])[i]\n",
        "\n",
        "  \"calculate W_eD using Eq 6.36 and 6.37 for infinite reservoir (See: 6_examples_part2.ipynb)\"\n",
        "  if t_DR > 0.01 and t_DR <= 200:\n",
        "    # use Eq 6.36\n",
        "    W_eD = ((1.12838 * np.sqrt(t_DR)) + (1.19328 * t_DR) + (0.269872 * t_DR * np.sqrt(t_DR)) + (0.00855294 * (t_DR**2))) / (1 + (0.616599 * np.sqrt(t_DR) + (0.0413008 * t_DR)))\n",
        "  if t_DR > 200:\n",
        "    # use Eq 6.37\n",
        "    W_eD = ((2.02566 * t_DR) - 4.29881) / np.log(t_DR)\n",
        "    \n",
        "  W_eD_arr.append(float(W_eD))\n",
        "  t_DR_arr.append(float(t_DR))\n",
        "\n",
        "\"create into Table 8.6\"\n",
        "\n",
        "timestamp = np.array(pressure_drop_calc.iloc[:, 0][index])\n",
        "\n",
        "veh_parameters = pd.DataFrame({\"j\": array_j[index], \"delta_p_j(psi)\": array_delta_p_j[index], \"delta_time(hours)\": delta_time[index], \"t_DR\": t_DR_arr, \"W_eD\": W_eD_arr})\n",
        "\n",
        "print(\"Table 8.6-Calculated Times Associated with Pressure Drops at:\", timestamp)\n",
        "veh_parameters"
      ],
      "execution_count": 135,
      "outputs": [
        {
          "output_type": "stream",
          "text": [
            "Table 8.6-Calculated Times Associated with Pressure Drops at: 1985-07-01 00:00:00\n"
          ],
          "name": "stdout"
        },
        {
          "output_type": "execute_result",
          "data": {
            "text/html": [
              "<div>\n",
              "<style scoped>\n",
              "    .dataframe tbody tr th:only-of-type {\n",
              "        vertical-align: middle;\n",
              "    }\n",
              "\n",
              "    .dataframe tbody tr th {\n",
              "        vertical-align: top;\n",
              "    }\n",
              "\n",
              "    .dataframe thead th {\n",
              "        text-align: right;\n",
              "    }\n",
              "</style>\n",
              "<table border=\"1\" class=\"dataframe\">\n",
              "  <thead>\n",
              "    <tr style=\"text-align: right;\">\n",
              "      <th></th>\n",
              "      <th>j</th>\n",
              "      <th>delta_p_j(psi)</th>\n",
              "      <th>delta_time(hours)</th>\n",
              "      <th>t_DR</th>\n",
              "      <th>W_eD</th>\n",
              "    </tr>\n",
              "  </thead>\n",
              "  <tbody>\n",
              "    <tr>\n",
              "      <th>0</th>\n",
              "      <td>1</td>\n",
              "      <td>14.5</td>\n",
              "      <td>188448.0</td>\n",
              "      <td>1421.025338</td>\n",
              "      <td>395.944667</td>\n",
              "    </tr>\n",
              "    <tr>\n",
              "      <th>1</th>\n",
              "      <td>2</td>\n",
              "      <td>18.0</td>\n",
              "      <td>181872.0</td>\n",
              "      <td>1371.437852</td>\n",
              "      <td>383.986133</td>\n",
              "    </tr>\n",
              "    <tr>\n",
              "      <th>2</th>\n",
              "      <td>3</td>\n",
              "      <td>9.0</td>\n",
              "      <td>179664.0</td>\n",
              "      <td>1354.788039</td>\n",
              "      <td>379.959650</td>\n",
              "    </tr>\n",
              "    <tr>\n",
              "      <th>3</th>\n",
              "      <td>4</td>\n",
              "      <td>10.0</td>\n",
              "      <td>177504.0</td>\n",
              "      <td>1338.500179</td>\n",
              "      <td>376.015110</td>\n",
              "    </tr>\n",
              "    <tr>\n",
              "      <th>4</th>\n",
              "      <td>5</td>\n",
              "      <td>7.0</td>\n",
              "      <td>173832.0</td>\n",
              "      <td>1310.810816</td>\n",
              "      <td>369.296472</td>\n",
              "    </tr>\n",
              "    <tr>\n",
              "      <th>5</th>\n",
              "      <td>6</td>\n",
              "      <td>5.5</td>\n",
              "      <td>168744.0</td>\n",
              "      <td>1272.443856</td>\n",
              "      <td>359.959398</td>\n",
              "    </tr>\n",
              "    <tr>\n",
              "      <th>6</th>\n",
              "      <td>7</td>\n",
              "      <td>14.5</td>\n",
              "      <td>159984.0</td>\n",
              "      <td>1206.387533</td>\n",
              "      <td>343.805436</td>\n",
              "    </tr>\n",
              "    <tr>\n",
              "      <th>7</th>\n",
              "      <td>8</td>\n",
              "      <td>13.0</td>\n",
              "      <td>70848.0</td>\n",
              "      <td>534.241824</td>\n",
              "      <td>171.615900</td>\n",
              "    </tr>\n",
              "    <tr>\n",
              "      <th>8</th>\n",
              "      <td>9</td>\n",
              "      <td>6.0</td>\n",
              "      <td>35784.0</td>\n",
              "      <td>269.835555</td>\n",
              "      <td>96.876460</td>\n",
              "    </tr>\n",
              "  </tbody>\n",
              "</table>\n",
              "</div>"
            ],
            "text/plain": [
              "   j  delta_p_j(psi)  delta_time(hours)         t_DR        W_eD\n",
              "0  1            14.5           188448.0  1421.025338  395.944667\n",
              "1  2            18.0           181872.0  1371.437852  383.986133\n",
              "2  3             9.0           179664.0  1354.788039  379.959650\n",
              "3  4            10.0           177504.0  1338.500179  376.015110\n",
              "4  5             7.0           173832.0  1310.810816  369.296472\n",
              "5  6             5.5           168744.0  1272.443856  359.959398\n",
              "6  7            14.5           159984.0  1206.387533  343.805436\n",
              "7  8            13.0            70848.0   534.241824  171.615900\n",
              "8  9             6.0            35784.0   269.835555   96.876460"
            ]
          },
          "metadata": {
            "tags": []
          },
          "execution_count": 135
        }
      ]
    },
    {
      "cell_type": "code",
      "metadata": {
        "id": "LYg-0lIY5FaC",
        "colab_type": "code",
        "outputId": "f2c0df93-a933-4723-d940-dd409615fdfa",
        "colab": {
          "base_uri": "https://localhost:8080/",
          "height": 34
        }
      },
      "source": [
        "\"calculate We, Equation 8.7\"\n",
        "\n",
        "W_eD_multipy_delta_p_j = array_delta_p_j[index] * W_eD_arr\n",
        "sigma_We = np.sum(W_eD_multipy_delta_p_j)\n",
        "We_veh = B_star * sigma_We\n",
        "print(\"Aquifer influx amount at:\", timestamp, \"is:\", We_veh, \"res bbl\")"
      ],
      "execution_count": 136,
      "outputs": [
        {
          "output_type": "stream",
          "text": [
            "Aquifer influx amount at: 1985-07-01 00:00:00 is: 45545561.66428348 res bbl\n"
          ],
          "name": "stdout"
        }
      ]
    },
    {
      "cell_type": "code",
      "metadata": {
        "id": "9vFGEajv7ZoO",
        "colab_type": "code",
        "outputId": "9e6d14b9-7d88-4330-b0b0-67c46e733b23",
        "colab": {
          "base_uri": "https://localhost:8080/",
          "height": 185
        }
      },
      "source": [
        "\"iterate the process of calculating We for all times (October 1964 to July 1985)\"\n",
        "\n",
        "def calculate_parameter_VEH(index, t_DR_factor):\n",
        "  t_DR_arr = []\n",
        "  W_eD_arr = []\n",
        "\n",
        "  for i in range(len(delta_time[index])):\n",
        "    t_DR = t_DR_factor * (delta_time[index])[i]\n",
        "\n",
        "    \"calculate W_eD using Eq 6.36 and 6.37 for infinite reservoir (See: 6_examples_part2.ipynb)\"\n",
        "    if t_DR > 0.01 and t_DR <= 200:\n",
        "      # use Eq 6.36\n",
        "      W_eD = ((1.12838 * np.sqrt(t_DR)) + (1.19328 * t_DR) + (0.269872 * t_DR * np.sqrt(t_DR)) + (0.00855294 * (t_DR**2))) / (1 + (0.616599 * np.sqrt(t_DR) + (0.0413008 * t_DR)))\n",
        "    if t_DR > 200:\n",
        "      # use Eq 6.37\n",
        "      W_eD = ((2.02566 * t_DR) - 4.29881) / np.log(t_DR)\n",
        "      \n",
        "    W_eD_arr.append(float(W_eD))\n",
        "    t_DR_arr.append(float(t_DR))\n",
        "    \n",
        "  return(t_DR_arr, W_eD_arr)\n",
        "\n",
        "# numpy array from j index 0 (initial production) to 9; [0, 1, 2, 3, 4, 5, 6, 7, 8, 9]\n",
        "indextimes = np.arange(0,(len(j_index)), 1)\n",
        "\n",
        "We_arr = []\n",
        "\n",
        "for x in range(len(indextimes)): # range from j index 1 to 9\n",
        "\n",
        "  t_DR_arr, W_eD_arr = calculate_parameter_VEH(x, t_DR_factor) # call function \n",
        "\n",
        "  # calculate We, Equation 8.7\n",
        "\n",
        "  W_eD_multipy_delta_p_j = array_delta_p_j[x] * W_eD_arr\n",
        "  sigma_We = np.sum(W_eD_multipy_delta_p_j)\n",
        "  We_veh = B_star * sigma_We\n",
        "  We_arr.append(float(We_veh))\n",
        "\n",
        "  timestamp = np.array(pressure_drop_calc.iloc[:, 0][x])\n",
        "\n",
        "  print(\"Aquifer influx amount at:\", timestamp, \"is:\", We_veh, \"res bbl\")"
      ],
      "execution_count": 137,
      "outputs": [
        {
          "output_type": "stream",
          "text": [
            "Aquifer influx amount at: 1964-01-01 00:00:00 is: 0.0 res bbl\n",
            "Aquifer influx amount at: 1964-10-01 00:00:00 is: 506254.4946583441 res bbl\n",
            "Aquifer influx amount at: 1965-01-01 00:00:00 is: 909239.1242932233 res bbl\n",
            "Aquifer influx amount at: 1965-04-01 00:00:00 is: 1349294.2742815115 res bbl\n",
            "Aquifer influx amount at: 1965-09-01 00:00:00 is: 2199165.2967753867 res bbl\n",
            "Aquifer influx amount at: 1966-04-01 00:00:00 is: 3409326.3093490894 res bbl\n",
            "Aquifer influx amount at: 1967-04-01 00:00:00 is: 5487661.051901658 res bbl\n",
            "Aquifer influx amount at: 1977-06-01 00:00:00 is: 26765099.404743448 res bbl\n",
            "Aquifer influx amount at: 1981-06-01 00:00:00 is: 35956377.94908929 res bbl\n",
            "Aquifer influx amount at: 1985-07-01 00:00:00 is: 45545561.66428348 res bbl\n"
          ],
          "name": "stdout"
        }
      ]
    },
    {
      "cell_type": "code",
      "metadata": {
        "id": "vz-XgiowQc-8",
        "colab_type": "code",
        "outputId": "d5dd796e-d807-4db3-e584-e92b5d2f4eb5",
        "colab": {
          "base_uri": "https://localhost:8080/",
          "height": 360
        }
      },
      "source": [
        "\"create into Table 8.7\"\n",
        "\n",
        "print(\"Table 8.7-Calculated Aquifer Influx Over the Production Dates\")\n",
        "veh_final_result = pd.DataFrame({\"Date\": data3.t, \"Time(hours)\": diffr_arr, \"Pressure(psia)\": data3.p, \"delta_p_j(psia)\": delta_p_j, \"We(res bbl)\": We_arr})\n",
        "veh_final_result"
      ],
      "execution_count": 138,
      "outputs": [
        {
          "output_type": "stream",
          "text": [
            "Table 8.7-Calculated Aquifer Influx Over the Production Dates\n"
          ],
          "name": "stdout"
        },
        {
          "output_type": "execute_result",
          "data": {
            "text/html": [
              "<div>\n",
              "<style scoped>\n",
              "    .dataframe tbody tr th:only-of-type {\n",
              "        vertical-align: middle;\n",
              "    }\n",
              "\n",
              "    .dataframe tbody tr th {\n",
              "        vertical-align: top;\n",
              "    }\n",
              "\n",
              "    .dataframe thead th {\n",
              "        text-align: right;\n",
              "    }\n",
              "</style>\n",
              "<table border=\"1\" class=\"dataframe\">\n",
              "  <thead>\n",
              "    <tr style=\"text-align: right;\">\n",
              "      <th></th>\n",
              "      <th>Date</th>\n",
              "      <th>Time(hours)</th>\n",
              "      <th>Pressure(psia)</th>\n",
              "      <th>delta_p_j(psia)</th>\n",
              "      <th>We(res bbl)</th>\n",
              "    </tr>\n",
              "  </thead>\n",
              "  <tbody>\n",
              "    <tr>\n",
              "      <th>0</th>\n",
              "      <td>1964-01-01</td>\n",
              "      <td>0.0</td>\n",
              "      <td>2532</td>\n",
              "      <td>0.0</td>\n",
              "      <td>0.000000e+00</td>\n",
              "    </tr>\n",
              "    <tr>\n",
              "      <th>1</th>\n",
              "      <td>1964-10-01</td>\n",
              "      <td>6576.0</td>\n",
              "      <td>2503</td>\n",
              "      <td>14.5</td>\n",
              "      <td>5.062545e+05</td>\n",
              "    </tr>\n",
              "    <tr>\n",
              "      <th>2</th>\n",
              "      <td>1965-01-01</td>\n",
              "      <td>8784.0</td>\n",
              "      <td>2496</td>\n",
              "      <td>18.0</td>\n",
              "      <td>9.092391e+05</td>\n",
              "    </tr>\n",
              "    <tr>\n",
              "      <th>3</th>\n",
              "      <td>1965-04-01</td>\n",
              "      <td>10944.0</td>\n",
              "      <td>2485</td>\n",
              "      <td>9.0</td>\n",
              "      <td>1.349294e+06</td>\n",
              "    </tr>\n",
              "    <tr>\n",
              "      <th>4</th>\n",
              "      <td>1965-09-01</td>\n",
              "      <td>14616.0</td>\n",
              "      <td>2476</td>\n",
              "      <td>10.0</td>\n",
              "      <td>2.199165e+06</td>\n",
              "    </tr>\n",
              "    <tr>\n",
              "      <th>5</th>\n",
              "      <td>1966-04-01</td>\n",
              "      <td>19704.0</td>\n",
              "      <td>2471</td>\n",
              "      <td>7.0</td>\n",
              "      <td>3.409326e+06</td>\n",
              "    </tr>\n",
              "    <tr>\n",
              "      <th>6</th>\n",
              "      <td>1967-04-01</td>\n",
              "      <td>28464.0</td>\n",
              "      <td>2465</td>\n",
              "      <td>5.5</td>\n",
              "      <td>5.487661e+06</td>\n",
              "    </tr>\n",
              "    <tr>\n",
              "      <th>7</th>\n",
              "      <td>1977-06-01</td>\n",
              "      <td>117600.0</td>\n",
              "      <td>2442</td>\n",
              "      <td>14.5</td>\n",
              "      <td>2.676510e+07</td>\n",
              "    </tr>\n",
              "    <tr>\n",
              "      <th>8</th>\n",
              "      <td>1981-06-01</td>\n",
              "      <td>152664.0</td>\n",
              "      <td>2439</td>\n",
              "      <td>13.0</td>\n",
              "      <td>3.595638e+07</td>\n",
              "    </tr>\n",
              "    <tr>\n",
              "      <th>9</th>\n",
              "      <td>1985-07-01</td>\n",
              "      <td>188448.0</td>\n",
              "      <td>2430</td>\n",
              "      <td>6.0</td>\n",
              "      <td>4.554556e+07</td>\n",
              "    </tr>\n",
              "  </tbody>\n",
              "</table>\n",
              "</div>"
            ],
            "text/plain": [
              "        Date  Time(hours)  Pressure(psia)  delta_p_j(psia)   We(res bbl)\n",
              "0 1964-01-01          0.0            2532              0.0  0.000000e+00\n",
              "1 1964-10-01       6576.0            2503             14.5  5.062545e+05\n",
              "2 1965-01-01       8784.0            2496             18.0  9.092391e+05\n",
              "3 1965-04-01      10944.0            2485              9.0  1.349294e+06\n",
              "4 1965-09-01      14616.0            2476             10.0  2.199165e+06\n",
              "5 1966-04-01      19704.0            2471              7.0  3.409326e+06\n",
              "6 1967-04-01      28464.0            2465              5.5  5.487661e+06\n",
              "7 1977-06-01     117600.0            2442             14.5  2.676510e+07\n",
              "8 1981-06-01     152664.0            2439             13.0  3.595638e+07\n",
              "9 1985-07-01     188448.0            2430              6.0  4.554556e+07"
            ]
          },
          "metadata": {
            "tags": []
          },
          "execution_count": 138
        }
      ]
    },
    {
      "cell_type": "code",
      "metadata": {
        "id": "Pewa_vRBVggI",
        "colab_type": "code",
        "outputId": "1c57815f-b97a-48d2-eaaa-c0b7f6a5a381",
        "colab": {
          "base_uri": "https://localhost:8080/",
          "height": 491
        }
      },
      "source": [
        "\"Compare We result of SCHILTUIS STEADY-STATE (Problem 8.2) to this method VEH UNSTEADY-STATE (Problem 8.3)\"\n",
        "# RUN FIRST codes in Problem 8.2\n",
        "We_schiltuis = We\n",
        "We_veh = We_arr\n",
        "\n",
        "\"Create Fig 8.1\"\n",
        "# schiltuis plot\n",
        "plt.figure(figsize=(10, 7))\n",
        "p1 = plt.plot(data3.t, We_schiltuis, '.-')\n",
        "p2 = plt.plot(data3.t, We_veh, '.-')\n",
        "plt.legend((p1[0], p2[0]), ('Schiltuis Steady-State Method', 'Van Everdingen-Hurst Unsteady-State Method'))\n",
        "plt.title(\"Comparison of Aquifer Influx Result Using Schiltuis and VEH\", pad=20, size=15)\n",
        "plt.xlabel(\"Production (year)\"); plt.ylabel(\"Aquifer Influx Amount (res bbl)\")"
      ],
      "execution_count": 139,
      "outputs": [
        {
          "output_type": "execute_result",
          "data": {
            "text/plain": [
              "Text(0, 0.5, 'Aquifer Influx Amount (res bbl)')"
            ]
          },
          "metadata": {
            "tags": []
          },
          "execution_count": 139
        },
        {
          "output_type": "display_data",
          "data": {
            "image/png": "[encoded data removed]",
            "text/plain": [
              "<Figure size 720x504 with 1 Axes>"
            ]
          },
          "metadata": {
            "tags": []
          }
        }
      ]
    },
    {
      "cell_type": "markdown",
      "metadata": {
        "id": "QRSYI_cXX3wv",
        "colab_type": "text"
      },
      "source": [
        "Here, the result of **aquifer influx amount** `We` calculated using VEH is **too underestimated** compared to the Schilthuis Method, because `B_star` or `B'` is still **too small**. We can revise the `B'` by implementing the next method: **Material Balance**."
      ]
    },
    {
      "cell_type": "markdown",
      "metadata": {
        "id": "92PoeKNPx8kV",
        "colab_type": "text"
      },
      "source": [
        "## **Chapter 8.4 Determination of Aquifer Parameters by Material Balance**\n",
        "\n",
        "Purpose:\n",
        "* Calculate aquifer constant `B'` (or `B_star` in the code), unit: RB/psi\n",
        "* Estimate Original Oil in Place `Nfoi`, unit: STB\n",
        "\n",
        "**NOTE**: In previous VEH method, `B'` is calculated from **reservoir bulk volume** and **reservoir thickness**, assuming cyclindical reservoir, leading to **underestimated result of aquifer influx `We`**. Here, in material balance, `B'` is calculated by **material balance plots**."
      ]
    },
    {
      "cell_type": "markdown",
      "metadata": {
        "id": "crnSnOMB3ISg",
        "colab_type": "text"
      },
      "source": [
        "### Function"
      ]
    },
    {
      "cell_type": "code",
      "metadata": {
        "id": "CB3c-BMc3KHo",
        "colab_type": "code",
        "colab": {}
      },
      "source": [
        "def matbalance_plot_undersaturated(sigma_We, Eo, Efw, Boi, F, Bw, Wp):\n",
        "  \"calculate the axis x and y for Material-Balance Plot 8.1\"\n",
        "  # sigma_We: result of previous VEH method\n",
        "  axisx = sigma_We / (Eo + (Boi * Efw))\n",
        "  axisy = (F + (Bw * Wp)) / (Eo + (Boi * Efw))\n",
        "  return(axisx, axisy)"
      ],
      "execution_count": 0,
      "outputs": []
    },
    {
      "cell_type": "markdown",
      "metadata": {
        "id": "s1b5tL0AxrXm",
        "colab_type": "text"
      },
      "source": [
        "### Example 8.4 Determination of Aquifer-Influx Parameters and OOIP Using the VEH Method and Material-Balance Plots\n",
        "\n",
        "**NOTE**: Example 8.4 continues the previously worked **Example 8.3**. In Example 8.3, we do calculation of `sigma_We`, and then `We`, straightforward by the equation: `We = B_star * sigma_We`. In Example 8.4, we also do calculation of `sigma_We`, but rather than continue with calculating `We`, we use the value `sigma_We`, combined with `Eo` and `Efw` from **Example 8.2**, for plotting **Plot 8.1**. So, we just copy the last lines of codes from previous Example 8.3."
      ]
    },
    {
      "cell_type": "code",
      "metadata": {
        "id": "6EtMs97ay3-Z",
        "colab_type": "code",
        "outputId": "2a1b13d0-b422-47e2-bb12-12e73b4374c6",
        "colab": {
          "base_uri": "https://localhost:8080/",
          "height": 427
        }
      },
      "source": [
        "\"RUN FIRST CODES IN EXAMPLE 8.2 and EXAMPLE 8.3 !!! \"\n",
        "\n",
        "# COPIED FROM SECTION: \"iterate the process of calculating We for other times (October 1964 to July 1981)\"\n",
        "\n",
        "\"iterate the process of calculating sigma_We for other times (October 1964 to June 1981)\"\n",
        "\n",
        "# numpy array from j index 0 (initial production) to 9; [0, 1, 2, 3, 4, 5, 6, 7, 8, 9]\n",
        "indextimes = np.arange(0,(len(j_index)), 1)\n",
        "\n",
        "sigma_We_arr = []\n",
        "\n",
        "for x in range(len(indextimes)): # range from j index 1 to 9\n",
        "\n",
        "  t_DR_arr, W_eD_arr = calculate_parameter_VEH(x, t_DR_factor) # call function \n",
        "\n",
        "  # calculate We, Equation 8.7\n",
        "\n",
        "  W_eD_multipy_delta_p_j = array_delta_p_j[x] * W_eD_arr\n",
        "  sigma_We = np.sum(W_eD_multipy_delta_p_j)\n",
        "  sigma_We_arr.append(float(sigma_We))\n",
        "  # print(sigma_We)\n",
        "\n",
        "\"Call again few codes in Example 8.2\"\n",
        "\n",
        "\"Material Balance\"\n",
        "\n",
        "# call function\n",
        "delta_pressure, Efw, Eo, F, We_schiltuis, We_rate = influx_matbalance_undersaturated(pressure, Bw, Wp, Np, Bo, Nfoi, cf, cw, swi, Boi, diffr_arr)\n",
        "\n",
        "\"Calculate the x axis of Material-Balance Plot 8.1\"\n",
        "\n",
        "Wp = np.array(data3.Wp)\n",
        "axisx, axisy = matbalance_plot_undersaturated(sigma_We_arr, Eo, Efw, Boi, F, Bw, Wp)\n",
        "\n",
        "matbalance = pd.DataFrame({\"Date\": data3.t, \"Pressure(psia)\": data3.p, \"delta_pressure\": delta_pressure, \"Wp(STB)\": data3.Wp, \"Efw\": Efw, \"Eo\": Eo, \"F\": F, \"x axis\": axisx, \"y axis\": axisy})\n",
        "matbalance"
      ],
      "execution_count": 141,
      "outputs": [
        {
          "output_type": "stream",
          "text": [
            "/usr/local/lib/python3.6/dist-packages/ipykernel_launcher.py:26: RuntimeWarning: invalid value encountered in true_divide\n",
            "/usr/local/lib/python3.6/dist-packages/ipykernel_launcher.py:4: RuntimeWarning: invalid value encountered in true_divide\n",
            "  after removing the cwd from sys.path.\n",
            "/usr/local/lib/python3.6/dist-packages/ipykernel_launcher.py:5: RuntimeWarning: invalid value encountered in true_divide\n",
            "  \"\"\"\n"
          ],
          "name": "stderr"
        },
        {
          "output_type": "execute_result",
          "data": {
            "text/html": [
              "<div>\n",
              "<style scoped>\n",
              "    .dataframe tbody tr th:only-of-type {\n",
              "        vertical-align: middle;\n",
              "    }\n",
              "\n",
              "    .dataframe tbody tr th {\n",
              "        vertical-align: top;\n",
              "    }\n",
              "\n",
              "    .dataframe thead th {\n",
              "        text-align: right;\n",
              "    }\n",
              "</style>\n",
              "<table border=\"1\" class=\"dataframe\">\n",
              "  <thead>\n",
              "    <tr style=\"text-align: right;\">\n",
              "      <th></th>\n",
              "      <th>Date</th>\n",
              "      <th>Pressure(psia)</th>\n",
              "      <th>delta_pressure</th>\n",
              "      <th>Wp(STB)</th>\n",
              "      <th>Efw</th>\n",
              "      <th>Eo</th>\n",
              "      <th>F</th>\n",
              "      <th>x axis</th>\n",
              "      <th>y axis</th>\n",
              "    </tr>\n",
              "  </thead>\n",
              "  <tbody>\n",
              "    <tr>\n",
              "      <th>0</th>\n",
              "      <td>1964-01-01</td>\n",
              "      <td>2532</td>\n",
              "      <td>0</td>\n",
              "      <td>0</td>\n",
              "      <td>0.000000</td>\n",
              "      <td>0.00000</td>\n",
              "      <td>0.000000e+00</td>\n",
              "      <td>NaN</td>\n",
              "      <td>NaN</td>\n",
              "    </tr>\n",
              "    <tr>\n",
              "      <th>1</th>\n",
              "      <td>1964-10-01</td>\n",
              "      <td>2503</td>\n",
              "      <td>29</td>\n",
              "      <td>27400</td>\n",
              "      <td>0.000303</td>\n",
              "      <td>0.00026</td>\n",
              "      <td>1.193647e+06</td>\n",
              "      <td>6.095897e+05</td>\n",
              "      <td>2.080909e+09</td>\n",
              "    </tr>\n",
              "    <tr>\n",
              "      <th>2</th>\n",
              "      <td>1965-01-01</td>\n",
              "      <td>2496</td>\n",
              "      <td>36</td>\n",
              "      <td>55000</td>\n",
              "      <td>0.000377</td>\n",
              "      <td>0.00032</td>\n",
              "      <td>1.698069e+06</td>\n",
              "      <td>8.852979e+05</td>\n",
              "      <td>2.416240e+09</td>\n",
              "    </tr>\n",
              "    <tr>\n",
              "      <th>3</th>\n",
              "      <td>1965-04-01</td>\n",
              "      <td>2485</td>\n",
              "      <td>47</td>\n",
              "      <td>109000</td>\n",
              "      <td>0.000492</td>\n",
              "      <td>0.00042</td>\n",
              "      <td>2.326374e+06</td>\n",
              "      <td>1.003935e+06</td>\n",
              "      <td>2.565727e+09</td>\n",
              "    </tr>\n",
              "    <tr>\n",
              "      <th>4</th>\n",
              "      <td>1965-09-01</td>\n",
              "      <td>2476</td>\n",
              "      <td>56</td>\n",
              "      <td>277300</td>\n",
              "      <td>0.000586</td>\n",
              "      <td>0.00050</td>\n",
              "      <td>3.525065e+06</td>\n",
              "      <td>1.373820e+06</td>\n",
              "      <td>3.365240e+09</td>\n",
              "    </tr>\n",
              "    <tr>\n",
              "      <th>5</th>\n",
              "      <td>1966-04-01</td>\n",
              "      <td>2471</td>\n",
              "      <td>61</td>\n",
              "      <td>495450</td>\n",
              "      <td>0.000638</td>\n",
              "      <td>0.00054</td>\n",
              "      <td>5.400349e+06</td>\n",
              "      <td>1.962627e+06</td>\n",
              "      <td>4.809483e+09</td>\n",
              "    </tr>\n",
              "    <tr>\n",
              "      <th>6</th>\n",
              "      <td>1967-04-01</td>\n",
              "      <td>2465</td>\n",
              "      <td>67</td>\n",
              "      <td>1514500</td>\n",
              "      <td>0.000701</td>\n",
              "      <td>0.00060</td>\n",
              "      <td>8.347704e+06</td>\n",
              "      <td>2.861542e+06</td>\n",
              "      <td>7.297529e+09</td>\n",
              "    </tr>\n",
              "    <tr>\n",
              "      <th>7</th>\n",
              "      <td>1977-06-01</td>\n",
              "      <td>2442</td>\n",
              "      <td>90</td>\n",
              "      <td>39123000</td>\n",
              "      <td>0.000942</td>\n",
              "      <td>0.00080</td>\n",
              "      <td>1.975466e+07</td>\n",
              "      <td>1.042414e+07</td>\n",
              "      <td>3.287098e+10</td>\n",
              "    </tr>\n",
              "    <tr>\n",
              "      <th>8</th>\n",
              "      <td>1981-06-01</td>\n",
              "      <td>2439</td>\n",
              "      <td>93</td>\n",
              "      <td>57345000</td>\n",
              "      <td>0.000973</td>\n",
              "      <td>0.00083</td>\n",
              "      <td>2.120743e+07</td>\n",
              "      <td>1.352806e+07</td>\n",
              "      <td>4.242009e+10</td>\n",
              "    </tr>\n",
              "    <tr>\n",
              "      <th>9</th>\n",
              "      <td>1985-07-01</td>\n",
              "      <td>2430</td>\n",
              "      <td>102</td>\n",
              "      <td>78372000</td>\n",
              "      <td>0.001067</td>\n",
              "      <td>0.00091</td>\n",
              "      <td>2.228731e+07</td>\n",
              "      <td>1.562631e+07</td>\n",
              "      <td>4.961720e+10</td>\n",
              "    </tr>\n",
              "  </tbody>\n",
              "</table>\n",
              "</div>"
            ],
            "text/plain": [
              "        Date  Pressure(psia)  ...        x axis        y axis\n",
              "0 1964-01-01            2532  ...           NaN           NaN\n",
              "1 1964-10-01            2503  ...  6.095897e+05  2.080909e+09\n",
              "2 1965-01-01            2496  ...  8.852979e+05  2.416240e+09\n",
              "3 1965-04-01            2485  ...  1.003935e+06  2.565727e+09\n",
              "4 1965-09-01            2476  ...  1.373820e+06  3.365240e+09\n",
              "5 1966-04-01            2471  ...  1.962627e+06  4.809483e+09\n",
              "6 1967-04-01            2465  ...  2.861542e+06  7.297529e+09\n",
              "7 1977-06-01            2442  ...  1.042414e+07  3.287098e+10\n",
              "8 1981-06-01            2439  ...  1.352806e+07  4.242009e+10\n",
              "9 1985-07-01            2430  ...  1.562631e+07  4.961720e+10\n",
              "\n",
              "[10 rows x 9 columns]"
            ]
          },
          "metadata": {
            "tags": []
          },
          "execution_count": 141
        }
      ]
    },
    {
      "cell_type": "code",
      "metadata": {
        "id": "TJ8ux9kpPwTL",
        "colab_type": "code",
        "outputId": "e8a3889a-0522-4ef7-e25c-4a6905d00c2e",
        "colab": {
          "base_uri": "https://localhost:8080/",
          "height": 384
        }
      },
      "source": [
        "plt.figure(figsize=(8, 5))\n",
        "plt.plot(axisx, axisy, '.')\n",
        "plt.title(\"Material-Balance Plot 8.1 for Moonie Field\", pad=20, size=15)\n",
        "plt.xlabel(\"((sigma(W_eD*delta_p_j))/(Eo+Boi*Efw)), psi-STB/RB\"); plt.ylabel(\"((F+Bw*Wp)/(Eo+Boi*Efw)), STB\")"
      ],
      "execution_count": 142,
      "outputs": [
        {
          "output_type": "execute_result",
          "data": {
            "text/plain": [
              "Text(0, 0.5, '((F+Bw*Wp)/(Eo+Boi*Efw)), STB')"
            ]
          },
          "metadata": {
            "tags": []
          },
          "execution_count": 142
        },
        {
          "output_type": "display_data",
          "data": {
            "image/png": "[encoded data removed]",
            "text/plain": [
              "<Figure size 576x360 with 1 Axes>"
            ]
          },
          "metadata": {
            "tags": []
          }
        }
      ]
    },
    {
      "cell_type": "code",
      "metadata": {
        "id": "706w1sKrRBqk",
        "colab_type": "code",
        "outputId": "6ff3ed7d-731d-4fc0-d5ae-e93c08676fd4",
        "colab": {
          "base_uri": "https://localhost:8080/",
          "height": 418
        }
      },
      "source": [
        "\"Regression of Material-Balance Plot\"\n",
        "\n",
        "# import regression function from Unit 7 function folder\n",
        "import sys, os \n",
        "sys.path.append('/content/reservoir-engineering/Unit 7 Introduction to Well-Test Analysis/functions')\n",
        "\n",
        "from regression import regression\n",
        "\n",
        "x = (np.array(axisx))[1:]\n",
        "y = (np.array(axisy))[1:]\n",
        "\n",
        "c, m = regression(x, y)\n",
        "B_star = m\n",
        "Nfoi = c\n",
        "print(\"Value B' or aquifer constant from material balance:\", B_star, \"RB/psi\")\n",
        "print(\"Original Oil in Place calculated from material balance:\", Nfoi / 1E+06, \"Million STB\")\n",
        "\n",
        "# plot regression line\n",
        "\n",
        "x_reg = np.linspace(0, max(x), 1)\n",
        "y_reg = m * x + c\n",
        "\n",
        "plt.figure(figsize=(8, 5))\n",
        "plt.plot(axisx, axisy, '.')\n",
        "plt.plot(x, y_reg)\n",
        "plt.title(\"Material-Balance Plot 8.1 for Moonie Field\", pad=20, size=15)\n",
        "plt.xlabel(\"((sigma(W_eD*delta_p_j))/(Eo+Boi*Efw)), psi-STB/RB\"); plt.ylabel(\"((F+Bw*Wp)/(Eo+Boi*Efw)), STB\")"
      ],
      "execution_count": 143,
      "outputs": [
        {
          "output_type": "stream",
          "text": [
            "Value B' or aquifer constant from material balance: 3214.691361789756 RB/psi\n",
            "Original Oil in Place calculated from material balance: -860.7655218073406 Million STB\n"
          ],
          "name": "stdout"
        },
        {
          "output_type": "execute_result",
          "data": {
            "text/plain": [
              "Text(0, 0.5, '((F+Bw*Wp)/(Eo+Boi*Efw)), STB')"
            ]
          },
          "metadata": {
            "tags": []
          },
          "execution_count": 143
        },
        {
          "output_type": "display_data",
          "data": {
            "image/png": "[encoded data removed]",
            "text/plain": [
              "<Figure size 576x360 with 1 Axes>"
            ]
          },
          "metadata": {
            "tags": []
          }
        }
      ]
    },
    {
      "cell_type": "markdown",
      "metadata": {
        "id": "kF2PSj3zVaQ0",
        "colab_type": "text"
      },
      "source": [
        "OOIP (`Nfoi`) or the intercept `c` is negative, meaning negative OOIP. This is unreasonable, however the negative value can arise with this plot **when reservoir pressure is above bubblepoint**. It gives **good estimate** for **aquifer constant `B'`**, but **poor estimate** for OOIP."
      ]
    },
    {
      "cell_type": "markdown",
      "metadata": {
        "id": "ETRC_upIYly7",
        "colab_type": "text"
      },
      "source": [
        "#### Revising value of B' for Figure 8.4 (**Aquifer Influx Calculation using VEH Method**)"
      ]
    },
    {
      "cell_type": "code",
      "metadata": {
        "id": "1dmsLt_OYz1K",
        "colab_type": "code",
        "colab": {
          "base_uri": "https://localhost:8080/",
          "height": 491
        },
        "outputId": "fa34b9dd-0b73-4ddd-85de-f9ad1ba2e8cb"
      },
      "source": [
        "\"VEH Method\"\n",
        "\n",
        "# numpy array from j index 0 (initial production) to 9; [0, 1, 2, 3, 4, 5, 6, 7, 8, 9]\n",
        "indextimes = np.arange(0,(len(j_index)), 1)\n",
        "\n",
        "We_arr_revised = []\n",
        "\n",
        "for x in range(len(indextimes)): # range from j index 1 to 9\n",
        "\n",
        "  t_DR_arr, W_eD_arr = calculate_parameter_VEH(x, t_DR_factor) # call function \n",
        "\n",
        "  # calculate We, Equation 8.7\n",
        "\n",
        "  W_eD_multipy_delta_p_j = array_delta_p_j[x] * W_eD_arr\n",
        "  sigma_We = np.sum(W_eD_multipy_delta_p_j)\n",
        "\n",
        "  \"revise B_star to the value of B_star obtained from the above material balance slope\"\n",
        "  B_star = m\n",
        "\n",
        "  We_veh = B_star * sigma_We\n",
        "  We_arr_revised.append(float(We_veh))\n",
        "\n",
        "\"plot Fig 8.4\"\n",
        "\"Compare We result of SCHILTUIS STEADY-STATE (Problem 8.2) to this method VEH UNSTEADY-STATE (Problem 8.3)\"\n",
        "# RUN FIRST codes in Problem 8.2\n",
        "We_schiltuis = We\n",
        "We_veh = We_arr_revised\n",
        "\n",
        "\"Create Fig 8.1\"\n",
        "# schiltuis plot\n",
        "plt.figure(figsize=(10, 7))\n",
        "p1 = plt.plot(data3.t, We_schiltuis, '.-')\n",
        "p2 = plt.plot(data3.t, We_veh, '.-')\n",
        "plt.legend((p1[0], p2[0]), ('Schiltuis Steady-State Method', 'Van Everdingen-Hurst Unsteady-State Method'))\n",
        "plt.title(\"Comparison of Aquifer Influx Result Using Schiltuis and VEH\", pad=20, size=15)\n",
        "plt.xlabel(\"Production (year)\"); plt.ylabel(\"Aquifer Influx Amount (res bbl)\")\n",
        "\n",
        "print(We_arr_revised)"
      ],
      "execution_count": 153,
      "outputs": [
        {
          "output_type": "stream",
          "text": [
            "[0.0, 1150405.5759198063, 2066142.166574295, 3066117.285018233, 4997352.214101557, 7747305.036871227, 12470083.603161085, 60820634.523046516, 81706766.29829803, 103497092.1736734]\n"
          ],
          "name": "stdout"
        },
        {
          "output_type": "display_data",
          "data": {
            "image/png": "[encoded data removed]",
            "text/plain": [
              "<Figure size 720x504 with 1 Axes>"
            ]
          },
          "metadata": {
            "tags": []
          }
        }
      ]
    },
    {
      "cell_type": "markdown",
      "metadata": {
        "id": "6oL7TjdIbCbS",
        "colab_type": "text"
      },
      "source": [
        "**YEAY! VEH method already agrees with Schiltuis Method!** In **Example 8.2**, value of `B'` is **1414.68 RB/psi (Page 81)**, **revised to `B'` 3214 RB/psi** from **material balance**. "
      ]
    },
    {
      "cell_type": "markdown",
      "metadata": {
        "id": "qpUbGYHghFev",
        "colab_type": "text"
      },
      "source": [
        "# ***"
      ]
    },
    {
      "cell_type": "code",
      "metadata": {
        "id": "LEADIB9-eitR",
        "colab_type": "code",
        "outputId": "074c4f74-7677-4ea8-ebed-032c42643e6a",
        "colab": {
          "base_uri": "https://localhost:8080/",
          "height": 34
        }
      },
      "source": [
        "a = np.array([pi, pi])\n",
        "b = np.append(np.array([1, 1]), a)\n",
        "b"
      ],
      "execution_count": 0,
      "outputs": [
        {
          "output_type": "execute_result",
          "data": {
            "text/plain": [
              "array([   1,    1, 2532, 2532])"
            ]
          },
          "metadata": {
            "tags": []
          },
          "execution_count": 74
        }
      ]
    },
    {
      "cell_type": "code",
      "metadata": {
        "id": "hjrrs6SlLnQV",
        "colab_type": "code",
        "outputId": "193869b5-5a5f-4950-ce6c-80e84bdf91b0",
        "colab": {
          "base_uri": "https://localhost:8080/",
          "height": 67
        }
      },
      "source": [
        "data = np.array([1, 1, 2, 4, 5, 6, 10])\n",
        "print(data[2:None])\n",
        "print(data[:2])\n",
        "[b-a for a, b in zip(data[:-2], data[2:])]"
      ],
      "execution_count": 0,
      "outputs": [
        {
          "output_type": "stream",
          "text": [
            "[ 2  4  5  6 10]\n",
            "[1 1]\n"
          ],
          "name": "stdout"
        },
        {
          "output_type": "execute_result",
          "data": {
            "text/plain": [
              "[1, 3, 3, 2, 5]"
            ]
          },
          "metadata": {
            "tags": []
          },
          "execution_count": 70
        }
      ]
    },
    {
      "cell_type": "code",
      "metadata": {
        "id": "epyovMaXjnpW",
        "colab_type": "code",
        "outputId": "d5354fd6-371f-445c-9b01-4ceda4cceea2",
        "colab": {
          "base_uri": "https://localhost:8080/",
          "height": 202
        }
      },
      "source": [
        "time_array = np.array(pressure_drop_calc.iloc[:, 2]) # time\n",
        "\n",
        "array_arr = []\n",
        "\n",
        "for i in range(len(time_array)):\n",
        "  # new_array = pressure_array[:i+1]\n",
        "  new_array = time_array[:i]\n",
        "  array_arr.append(new_array)\n",
        "\n",
        "array_arrr = array_arr[1:]\n",
        "array_arrr"
      ],
      "execution_count": 0,
      "outputs": [
        {
          "output_type": "execute_result",
          "data": {
            "text/plain": [
              "[array([0.]),\n",
              " array([   0., 6576.]),\n",
              " array([   0., 6576., 8784.]),\n",
              " array([    0.,  6576.,  8784., 10944.]),\n",
              " array([    0.,  6576.,  8784., 10944., 14616.]),\n",
              " array([    0.,  6576.,  8784., 10944., 14616., 19704.]),\n",
              " array([    0.,  6576.,  8784., 10944., 14616., 19704., 28464.]),\n",
              " array([     0.,   6576.,   8784.,  10944.,  14616.,  19704.,  28464.,\n",
              "        117600.]),\n",
              " array([     0.,   6576.,   8784.,  10944.,  14616.,  19704.,  28464.,\n",
              "        117600., 152664.])]"
            ]
          },
          "metadata": {
            "tags": []
          },
          "execution_count": 128
        }
      ]
    },
    {
      "cell_type": "code",
      "metadata": {
        "id": "OqXNPQXkrgWJ",
        "colab_type": "code",
        "outputId": "1b7f20ab-06c3-4281-c0a2-171c17765eec",
        "colab": {
          "base_uri": "https://localhost:8080/",
          "height": 202
        }
      },
      "source": [
        "b_arr = []\n",
        "\n",
        "for i in range(len(time_array)):\n",
        "  b = np.repeat((time_array[i]), i)\n",
        "  b_arr.append(b)\n",
        "\n",
        "b_arrr = b_arr[1:]\n",
        "b_arrr"
      ],
      "execution_count": 0,
      "outputs": [
        {
          "output_type": "execute_result",
          "data": {
            "text/plain": [
              "[array([6576.]),\n",
              " array([8784., 8784.]),\n",
              " array([10944., 10944., 10944.]),\n",
              " array([14616., 14616., 14616., 14616.]),\n",
              " array([19704., 19704., 19704., 19704., 19704.]),\n",
              " array([28464., 28464., 28464., 28464., 28464., 28464.]),\n",
              " array([117600., 117600., 117600., 117600., 117600., 117600., 117600.]),\n",
              " array([152664., 152664., 152664., 152664., 152664., 152664., 152664.,\n",
              "        152664.]),\n",
              " array([188448., 188448., 188448., 188448., 188448., 188448., 188448.,\n",
              "        188448., 188448.])]"
            ]
          },
          "metadata": {
            "tags": []
          },
          "execution_count": 131
        }
      ]
    },
    {
      "cell_type": "code",
      "metadata": {
        "id": "t9hhKrHIs-aO",
        "colab_type": "code",
        "outputId": "18fb7235-0f7f-489b-ad85-2f06f8862fa2",
        "colab": {
          "base_uri": "https://localhost:8080/",
          "height": 50
        }
      },
      "source": [
        "solved = np.subtract(b_arrr, array_arrr)\n",
        "solved[8]"
      ],
      "execution_count": 0,
      "outputs": [
        {
          "output_type": "execute_result",
          "data": {
            "text/plain": [
              "array([188448., 181872., 179664., 177504., 173832., 168744., 159984.,\n",
              "        70848.,  35784.])"
            ]
          },
          "metadata": {
            "tags": []
          },
          "execution_count": 136
        }
      ]
    },
    {
      "cell_type": "code",
      "metadata": {
        "id": "LTmK6Flx-FW9",
        "colab_type": "code",
        "outputId": "ac771f4b-99e6-453e-babe-3c381cbf36e8",
        "colab": {
          "base_uri": "https://localhost:8080/",
          "height": 34
        }
      },
      "source": [
        "\"Converting to Panda datetime\"\n",
        "\n",
        "# time data in format: 1 January 1964\n",
        "a = np.array([\"1 January 1964\", \"1 October 1964\", \"1 December 1964\", \"31 March 1965\"])\n",
        "b = np.array([1000, 2000, 3000, 4000])\n",
        "raw_data = pd.DataFrame({\"a\": a, \"b\": b})\n",
        "raw_data['a'] =  pd.to_datetime(raw_data['a'], format='%d %B %Y') # format check web: https://strftime.org/\n",
        "# raw_data['a'] =  pd.to_datetime(raw_data['a'], format='%B %Y') \"if format in: January 1964, October 1964\"\n",
        "raw_data # already converted to YYYY-MM-DD\n",
        "\n",
        "\"Subtracting datetimes to get time differences (how many days) IN INTEGER\"\n",
        "\n",
        "diff = [j-i for i, j in zip(raw_data.a[:-1], raw_data.a[1:])]\n",
        "diff = np.array(diff)\n",
        "\n",
        "# convert datetime format to integer\n",
        "diffr_arr = []\n",
        "for k in range(len(diff)):\n",
        "  diffr = diff[k] / np.timedelta64(1,'D')\n",
        "  diffr_arr.append(float(diffr))\n",
        "\n",
        "# append 0 to the first index of numpy\n",
        "diffr_arr = np.append([0], diffr_arr) # now diff has same dimension with time data (a)\n",
        "diffr_arr"
      ],
      "execution_count": 0,
      "outputs": [
        {
          "output_type": "execute_result",
          "data": {
            "text/plain": [
              "array([  0., 274.,  61., 120.])"
            ]
          },
          "metadata": {
            "tags": []
          },
          "execution_count": 84
        }
      ]
    }
  ]
}