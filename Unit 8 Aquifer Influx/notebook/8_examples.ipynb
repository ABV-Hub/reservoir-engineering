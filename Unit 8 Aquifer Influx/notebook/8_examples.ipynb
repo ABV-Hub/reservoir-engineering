{
  "nbformat": 4,
  "nbformat_minor": 0,
  "metadata": {
    "colab": {
      "name": "8_examples.ipynb",
      "provenance": [],
      "collapsed_sections": [],
      "authorship_tag": "ABX9TyN/NJoa1xrlcdG4FKRYVZmh",
      "include_colab_link": true
    },
    "kernelspec": {
      "name": "python3",
      "display_name": "Python 3"
    }
  },
  "cells": [
    {
      "cell_type": "markdown",
      "metadata": {
        "id": "view-in-github",
        "colab_type": "text"
      },
      "source": [
        "<a href=\"https://colab.research.google.com/github/yohanesnuwara/reservoir-engineering/blob/master/Unit%208%20Aquifer%20Influx/notebook/8_examples.ipynb\" target=\"_parent\"><img src=\"https://colab.research.google.com/assets/colab-badge.svg\" alt=\"Open In Colab\"/></a>"
      ]
    },
    {
      "cell_type": "markdown",
      "metadata": {
        "id": "987ob_NFn-N-",
        "colab_type": "text"
      },
      "source": [
        "# **Unit 8 Aquifer Influx**"
      ]
    },
    {
      "cell_type": "code",
      "metadata": {
        "id": "nUxdVncJn128",
        "colab_type": "code",
        "colab": {}
      },
      "source": [
        "import numpy as np\n",
        "import matplotlib.pyplot as plt\n",
        "import pandas as pd"
      ],
      "execution_count": 0,
      "outputs": []
    },
    {
      "cell_type": "code",
      "metadata": {
        "id": "xDwHbF_GoI7_",
        "colab_type": "code",
        "colab": {
          "base_uri": "https://localhost:8080/",
          "height": 151
        },
        "outputId": "6fbc6088-ccb0-4de3-e3d1-d464702d7678"
      },
      "source": [
        "!git clone https://www.github.com/yohanesnuwara/reservoir-engineering"
      ],
      "execution_count": 1,
      "outputs": [
        {
          "output_type": "stream",
          "text": [
            "Cloning into 'reservoir-engineering'...\n",
            "warning: redirecting to https://github.com/yohanesnuwara/reservoir-engineering.git/\n",
            "remote: Enumerating objects: 151, done.\u001b[K\n",
            "remote: Counting objects: 100% (151/151), done.\u001b[K\n",
            "remote: Compressing objects: 100% (150/150), done.\u001b[K\n",
            "remote: Total 686 (delta 68), reused 0 (delta 0), pack-reused 535\u001b[K\n",
            "Receiving objects: 100% (686/686), 3.08 MiB | 23.34 MiB/s, done.\n",
            "Resolving deltas: 100% (291/291), done.\n"
          ],
          "name": "stdout"
        }
      ]
    },
    {
      "cell_type": "markdown",
      "metadata": {
        "id": "f8MMHj-HomG8",
        "colab_type": "text"
      },
      "source": [
        "## **Chapter 8.2 Schiltuis Steady-State Method**"
      ]
    },
    {
      "cell_type": "code",
      "metadata": {
        "id": "xNvKyCL9t9Nd",
        "colab_type": "code",
        "colab": {}
      },
      "source": [
        "def influx_rate_schiltuis_general(F_rate, Bw, Wp_rate):\n",
        "  \"Eq 8.4\"\n",
        "  # F_rate: reservoir voidage rate\n",
        "  # Bw: water FVF\n",
        "  # Wp_rate: water production rate\n",
        "  We_rate = F_rate + (Bw * Wp_rate)\n",
        "  return(We_rate)\n",
        "\n",
        "def influx_rate_schiltuis_nonvolatile(Bw, Wp_rate, Bo, Rs, Bg, Np_rate, Gp_rate):\n",
        "  \"Eq 8.5\"\n",
        "  # Bo, Bg: oil, gas FVF\n",
        "  # Rs: solution gas-oil ratio (scf/STB)\n",
        "  # Np_rate, Gp_rate: oil, gas production rate\n",
        "  We_rate = (Bw * Wp_rate) + ((Bo - (Rs * Bg)) * Np_rate) + (Bg * Gp_rate)\n",
        "  return(We_rate)\n",
        "\n",
        "def influx_rate_schiltuis_undersaturated(Bw, Wp_rate, Bo, Np_rate):\n",
        "  \"Eq 8.6\"\n",
        "  # above bubblepoint pressure, P_bubble\n",
        "  We_rate = (Bo * Np_rate) + (Bw * Wp_rate)\n",
        "  return(We_rate)"
      ],
      "execution_count": 0,
      "outputs": []
    },
    {
      "cell_type": "markdown",
      "metadata": {
        "id": "Sd67ogZ-oyDV",
        "colab_type": "text"
      },
      "source": [
        "### Example 8.1 Determination of Schiltuis Aquifer Influx Constant at Constant Pressure"
      ]
    },
    {
      "cell_type": "code",
      "metadata": {
        "id": "O_WxfHjCo_ft",
        "colab_type": "code",
        "colab": {
          "base_uri": "https://localhost:8080/",
          "height": 34
        },
        "outputId": "7638cc57-1f28-4848-804b-3d85d263d308"
      },
      "source": [
        "\"Task. calculate aquifer influx rate (We_rate or dWe/dt)\"\n",
        "\n",
        "# known: pressure maintained above bubblepoint pressure\n",
        "pi = 3200 # in psia\n",
        "p_current = 2850 # current pressure, in psia\n",
        "Np_rate = 5000 # oil production rate, in STB/d\n",
        "Wp_rate = 1000 # water production rate, in STB/d\n",
        "Bo = 1.45 # oil FVF, in RB/STB\n",
        "Bw = 1.02 # water FVF, in RB/STB\n",
        "\n",
        "We_rate = influx_rate_schiltuis_undersaturated(Bw, Wp_rate, Bo, Np_rate)\n",
        "print(\"Schiltuis steady-state aquifer influx rate above bubblepoint pressure:\", We_rate, \"RB/d\")"
      ],
      "execution_count": 3,
      "outputs": [
        {
          "output_type": "stream",
          "text": [
            "Schiltuis steady-state aquifer influx rate above bubblepoint pressure: 8270.0 RB/d\n"
          ],
          "name": "stdout"
        }
      ]
    }
  ]
}