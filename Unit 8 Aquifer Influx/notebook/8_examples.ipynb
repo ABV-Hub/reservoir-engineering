{
  "nbformat": 4,
  "nbformat_minor": 0,
  "metadata": {
    "colab": {
      "name": "8_examples.ipynb",
      "provenance": [],
      "collapsed_sections": [
        "c4_-ee2ew8XL"
      ],
      "authorship_tag": "ABX9TyMz++In8mNY88kCDCBb8tqJ",
      "include_colab_link": true
    },
    "kernelspec": {
      "name": "python3",
      "display_name": "Python 3"
    }
  },
  "cells": [
    {
      "cell_type": "markdown",
      "metadata": {
        "id": "view-in-github",
        "colab_type": "text"
      },
      "source": [
        "<a href=\"https://colab.research.google.com/github/yohanesnuwara/reservoir-engineering/blob/master/Unit%208%20Aquifer%20Influx/notebook/8_examples.ipynb\" target=\"_parent\"><img src=\"https://colab.research.google.com/assets/colab-badge.svg\" alt=\"Open In Colab\"/></a>"
      ]
    },
    {
      "cell_type": "markdown",
      "metadata": {
        "id": "987ob_NFn-N-",
        "colab_type": "text"
      },
      "source": [
        "# **Unit 8 Aquifer Influx**"
      ]
    },
    {
      "cell_type": "code",
      "metadata": {
        "id": "nUxdVncJn128",
        "colab_type": "code",
        "colab": {}
      },
      "source": [
        "import numpy as np\n",
        "import matplotlib.pyplot as plt\n",
        "import pandas as pd"
      ],
      "execution_count": 0,
      "outputs": []
    },
    {
      "cell_type": "code",
      "metadata": {
        "id": "xDwHbF_GoI7_",
        "colab_type": "code",
        "colab": {
          "base_uri": "https://localhost:8080/",
          "height": 151
        },
        "outputId": "8e3e4a1d-6151-4a5b-9592-5adf303ba898"
      },
      "source": [
        "!git clone https://www.github.com/yohanesnuwara/reservoir-engineering"
      ],
      "execution_count": 2,
      "outputs": [
        {
          "output_type": "stream",
          "text": [
            "Cloning into 'reservoir-engineering'...\n",
            "warning: redirecting to https://github.com/yohanesnuwara/reservoir-engineering.git/\n",
            "remote: Enumerating objects: 5, done.\u001b[K\n",
            "remote: Counting objects:  20% (1/5)\u001b[K\rremote: Counting objects:  40% (2/5)\u001b[K\rremote: Counting objects:  60% (3/5)\u001b[K\rremote: Counting objects:  80% (4/5)\u001b[K\rremote: Counting objects: 100% (5/5)\u001b[K\rremote: Counting objects: 100% (5/5), done.\u001b[K\n",
            "remote: Compressing objects:  20% (1/5)\u001b[K\rremote: Compressing objects:  40% (2/5)\u001b[K\rremote: Compressing objects:  60% (3/5)\u001b[K\rremote: Compressing objects:  80% (4/5)\u001b[K\rremote: Compressing objects: 100% (5/5)\u001b[K\rremote: Compressing objects: 100% (5/5), done.\u001b[K\n",
            "Receiving objects:   0% (1/701)   \rReceiving objects:   1% (8/701)   \rReceiving objects:   2% (15/701)   \rReceiving objects:   3% (22/701)   \rReceiving objects:   4% (29/701)   \rReceiving objects:   5% (36/701)   \rReceiving objects:   6% (43/701)   \rReceiving objects:   7% (50/701)   \rReceiving objects:   8% (57/701)   \rReceiving objects:   9% (64/701)   \rReceiving objects:  10% (71/701)   \rReceiving objects:  11% (78/701)   \rReceiving objects:  12% (85/701)   \rReceiving objects:  13% (92/701)   \rReceiving objects:  14% (99/701)   \rReceiving objects:  15% (106/701)   \rReceiving objects:  16% (113/701)   \rReceiving objects:  17% (120/701)   \rReceiving objects:  18% (127/701)   \rReceiving objects:  19% (134/701)   \rReceiving objects:  20% (141/701)   \rReceiving objects:  21% (148/701)   \rReceiving objects:  22% (155/701)   \rReceiving objects:  23% (162/701)   \rReceiving objects:  24% (169/701)   \rReceiving objects:  25% (176/701)   \rReceiving objects:  26% (183/701)   \rReceiving objects:  27% (190/701)   \rReceiving objects:  28% (197/701)   \rReceiving objects:  29% (204/701)   \rReceiving objects:  30% (211/701)   \rReceiving objects:  31% (218/701)   \rReceiving objects:  32% (225/701)   \rReceiving objects:  33% (232/701)   \rReceiving objects:  34% (239/701)   \rReceiving objects:  35% (246/701)   \rReceiving objects:  36% (253/701)   \rReceiving objects:  37% (260/701)   \rReceiving objects:  38% (267/701)   \rReceiving objects:  39% (274/701)   \rReceiving objects:  40% (281/701)   \rReceiving objects:  41% (288/701)   \rReceiving objects:  42% (295/701)   \rReceiving objects:  43% (302/701)   \rReceiving objects:  44% (309/701)   \rReceiving objects:  45% (316/701)   \rReceiving objects:  46% (323/701)   \rReceiving objects:  47% (330/701)   \rReceiving objects:  48% (337/701)   \rReceiving objects:  49% (344/701)   \rReceiving objects:  50% (351/701)   \rReceiving objects:  51% (358/701)   \rReceiving objects:  52% (365/701)   \rremote: Total 701 (delta 0), reused 0 (delta 0), pack-reused 696\u001b[K\n",
            "Receiving objects:  53% (372/701)   \rReceiving objects:  54% (379/701)   \rReceiving objects:  55% (386/701)   \rReceiving objects:  56% (393/701)   \rReceiving objects:  57% (400/701)   \rReceiving objects:  58% (407/701)   \rReceiving objects:  59% (414/701)   \rReceiving objects:  60% (421/701)   \rReceiving objects:  61% (428/701)   \rReceiving objects:  62% (435/701)   \rReceiving objects:  63% (442/701)   \rReceiving objects:  64% (449/701)   \rReceiving objects:  65% (456/701)   \rReceiving objects:  66% (463/701)   \rReceiving objects:  67% (470/701)   \rReceiving objects:  68% (477/701)   \rReceiving objects:  69% (484/701)   \rReceiving objects:  70% (491/701)   \rReceiving objects:  71% (498/701)   \rReceiving objects:  72% (505/701)   \rReceiving objects:  73% (512/701)   \rReceiving objects:  74% (519/701)   \rReceiving objects:  75% (526/701)   \rReceiving objects:  76% (533/701)   \rReceiving objects:  77% (540/701)   \rReceiving objects:  78% (547/701)   \rReceiving objects:  79% (554/701)   \rReceiving objects:  80% (561/701)   \rReceiving objects:  81% (568/701)   \rReceiving objects:  82% (575/701)   \rReceiving objects:  83% (582/701)   \rReceiving objects:  84% (589/701)   \rReceiving objects:  85% (596/701)   \rReceiving objects:  86% (603/701)   \rReceiving objects:  87% (610/701)   \rReceiving objects:  88% (617/701)   \rReceiving objects:  89% (624/701)   \rReceiving objects:  90% (631/701)   \rReceiving objects:  91% (638/701)   \rReceiving objects:  92% (645/701)   \rReceiving objects:  93% (652/701)   \rReceiving objects:  94% (659/701)   \rReceiving objects:  95% (666/701)   \rReceiving objects:  96% (673/701)   \rReceiving objects:  97% (680/701)   \rReceiving objects:  98% (687/701)   \rReceiving objects:  99% (694/701)   \rReceiving objects: 100% (701/701)   \rReceiving objects: 100% (701/701), 3.08 MiB | 24.64 MiB/s, done.\n",
            "Resolving deltas:   0% (0/298)   \rResolving deltas:   1% (3/298)   \rResolving deltas:   2% (8/298)   \rResolving deltas:   3% (9/298)   \rResolving deltas:   7% (21/298)   \rResolving deltas:  11% (33/298)   \rResolving deltas:  28% (85/298)   \rResolving deltas:  29% (88/298)   \rResolving deltas:  33% (99/298)   \rResolving deltas:  39% (117/298)   \rResolving deltas:  40% (122/298)   \rResolving deltas:  51% (152/298)   \rResolving deltas:  54% (163/298)   \rResolving deltas:  57% (172/298)   \rResolving deltas:  58% (173/298)   \rResolving deltas:  59% (177/298)   \rResolving deltas:  64% (193/298)   \rResolving deltas:  66% (199/298)   \rResolving deltas:  70% (210/298)   \rResolving deltas:  71% (212/298)   \rResolving deltas:  72% (215/298)   \rResolving deltas:  73% (219/298)   \rResolving deltas:  74% (221/298)   \rResolving deltas:  76% (227/298)   \rResolving deltas:  77% (230/298)   \rResolving deltas:  78% (233/298)   \rResolving deltas:  79% (236/298)   \rResolving deltas:  80% (239/298)   \rResolving deltas:  81% (242/298)   \rResolving deltas:  83% (248/298)   \rResolving deltas:  88% (265/298)   \rResolving deltas:  89% (266/298)   \rResolving deltas:  90% (270/298)   \rResolving deltas:  92% (275/298)   \rResolving deltas:  93% (278/298)   \rResolving deltas:  94% (282/298)   \rResolving deltas:  95% (284/298)   \rResolving deltas:  96% (287/298)   \rResolving deltas:  97% (290/298)   \rResolving deltas:  98% (293/298)   \rResolving deltas:  99% (297/298)   \rResolving deltas: 100% (298/298)   \rResolving deltas: 100% (298/298), done.\n"
          ],
          "name": "stdout"
        }
      ]
    },
    {
      "cell_type": "markdown",
      "metadata": {
        "id": "f8MMHj-HomG8",
        "colab_type": "text"
      },
      "source": [
        "## **Chapter 8.2 Schiltuis Steady-State Method**"
      ]
    },
    {
      "cell_type": "markdown",
      "metadata": {
        "id": "xhoT_Xh3wkAR",
        "colab_type": "text"
      },
      "source": [
        "### Functions"
      ]
    },
    {
      "cell_type": "code",
      "metadata": {
        "id": "xNvKyCL9t9Nd",
        "colab_type": "code",
        "colab": {}
      },
      "source": [
        "def influx_matbalance_undersaturated(pressure, Bw, Wp, Np, Bo, Nfoi, cf, cw, swi, Boi, delta_time):\n",
        "  \"Eq 8.3\"\n",
        "  # in case of undersaturated (above bubblepoint), Rp = Rs = Rsi, Gfgi = Bgi = Eg = 0\n",
        "  # pressure and Bo are pressure and oil FVF data over time (so, it must be in ARRAY)\n",
        "  # Bw: water FVF (RB/STB)\n",
        "  # Wp: cumulative water production (STB), in ARRAY\n",
        "  # Np: cumulative oil production (STB), in ARRAY\n",
        "  # Bo: oil FVF\n",
        "  # Nfoi, Gfgi: original oil, gas, in place (cubic ft), from volumetrics\n",
        "  # cf, cw: rock, water compressibility (psi^-1)\n",
        "  # swi: initial water saturation\n",
        "  # Boi, Bgi: initial oil, gas FVF \n",
        "\n",
        "  F = Np * Bo\n",
        "  Eo = Bo - Boi\n",
        "  delta_time = delta_time\n",
        "  delta_pressure = pressure - pressure[0]\n",
        "  delta_pressure = np.abs(delta_pressure)\n",
        "\n",
        "  Efw = ((4E-06 + (3E-06 * 0.48)) / (1 - 0.48)) * delta_pressure\n",
        "\n",
        "  We = (Bw * Wp) + F - (Nfoi * Eo) - ((Nfoi * Boi) * Efw)\n",
        "\n",
        "  delta_We = [j-i for i, j in zip(We[:-1], We[1:])]\n",
        "  delta_We = np.append([0], delta_We)\n",
        "  We_rate = delta_We / delta_time\n",
        "\n",
        "  return(delta_pressure, Efw, Eo, F, We, We_rate)\n",
        "\n",
        "def influx_rate_schiltuis_general(F_rate, Bw, Wp_rate):\n",
        "  \"Eq 8.4\"\n",
        "  # F_rate: reservoir voidage rate\n",
        "  # Bw: water FVF\n",
        "  # Wp_rate: water production rate\n",
        "  We_rate = F_rate + (Bw * Wp_rate)\n",
        "  return(We_rate)\n",
        "\n",
        "def influx_rate_schiltuis_nonvolatile(Bw, Wp_rate, Bo, Rs, Bg, Np_rate, Gp_rate):\n",
        "  \"Eq 8.5\"\n",
        "  # Bo, Bg: oil, gas FVF\n",
        "  # Rs: solution gas-oil ratio (scf/STB)\n",
        "  # Np_rate, Gp_rate: oil, gas production rate\n",
        "  We_rate = (Bw * Wp_rate) + ((Bo - (Rs * Bg)) * Np_rate) + (Bg * Gp_rate)\n",
        "  return(We_rate)\n",
        "\n",
        "def influx_rate_schiltuis_undersaturated(Bw, Wp_rate, Bo, Np_rate):\n",
        "  \"Eq 8.6\"\n",
        "  # above bubblepoint pressure, P_bubble\n",
        "  We_rate = (Bo * Np_rate) + (Bw * Wp_rate)\n",
        "  return(We_rate)"
      ],
      "execution_count": 0,
      "outputs": []
    },
    {
      "cell_type": "markdown",
      "metadata": {
        "id": "Sd67ogZ-oyDV",
        "colab_type": "text"
      },
      "source": [
        "### Example 8.1 Determination of Schiltuis Aquifer Influx Constant at Constant Pressure"
      ]
    },
    {
      "cell_type": "code",
      "metadata": {
        "id": "O_WxfHjCo_ft",
        "colab_type": "code",
        "colab": {
          "base_uri": "https://localhost:8080/",
          "height": 50
        },
        "outputId": "77b2947b-7dff-4506-f0aa-25c3510e936e"
      },
      "source": [
        "\"Task. calculate aquifer influx constant (k')\"\n",
        "\n",
        "# known: pressure maintained above bubblepoint pressure\n",
        "pi = 3200 # in psia\n",
        "p_current = 2850 # current pressure, in psia\n",
        "Np_rate = 5000 # oil production rate, in STB/d\n",
        "Wp_rate = 1000 # water production rate, in STB/d\n",
        "Bo = 1.45 # oil FVF, in RB/STB\n",
        "Bw = 1.02 # water FVF, in RB/STB\n",
        "\n",
        "# calculate aquifer influx rate (We_rate or dWe/dt)\n",
        "We_rate = influx_rate_schiltuis_undersaturated(Bw, Wp_rate, Bo, Np_rate)\n",
        "print(\"Schiltuis steady-state aquifer influx RATE above bubblepoint pressure:\", We_rate, \"RB/d\")\n",
        "\n",
        "# calculate k' from Eq 8.1\n",
        "k_aqui = We_rate / (pi - p_current)\n",
        "print(\"Schiltuis steady-state aquifer influx CONSTANT above bubblepoint pressure:\", k_aqui, \"RB/(D-psi)\")"
      ],
      "execution_count": 4,
      "outputs": [
        {
          "output_type": "stream",
          "text": [
            "Schiltuis steady-state aquifer influx RATE above bubblepoint pressure: 8270.0 RB/d\n",
            "Schiltuis steady-state aquifer influx CONSTANT above bubblepoint pressure: 23.62857142857143 RB/(D-psi)\n"
          ],
          "name": "stdout"
        }
      ]
    },
    {
      "cell_type": "markdown",
      "metadata": {
        "id": "JBa3-SvBhOej",
        "colab_type": "text"
      },
      "source": [
        "### Example 8.2 Determination of Schiltuis Aquifer Influx Constant for Moonie Field"
      ]
    },
    {
      "cell_type": "code",
      "metadata": {
        "id": "G-uXjcCbhbpp",
        "colab_type": "code",
        "colab": {
          "base_uri": "https://localhost:8080/",
          "height": 343
        },
        "outputId": "38f72406-a597-4740-e34d-bbffdb324913"
      },
      "source": [
        "\"Task. calculate k' (aquifer-influx constant)\"\n",
        "\n",
        "# known\n",
        "P_bubble = 737 # psia\n",
        "pi = 2532 # psia\n",
        "temp = 156 # in F\n",
        "# Bw = 1.02 # no information in the book, so assume similar to Problem 8.1, in RB/STB\n",
        "Nfoi = 48.75 # in MSTB (million STB)\n",
        "Boi = 1.078 # RB/STB\n",
        "cf = 4E-06 # in psi^-1\n",
        "cw = 3E-06 # in psi^-1\n",
        "swi = 0.48\n",
        "\n",
        "# conversion\n",
        "Nfoi = Nfoi * 1E+06 # convert from MSTB to STB\n",
        "\n",
        "\"because pi > P_bubble, reservoir is undersaturated (above bubblepoint)\"\n",
        "\n",
        "# no data on Bw, so Bw will be assumed constant: 1.02 RB/STB\n",
        "Bw = 1.02\n",
        "\n",
        "# load data and review datetime format\n",
        "data2 = pd.read_csv('/content/reservoir-engineering/Unit 8 Aquifer Influx/data/Table 8.3-Production Data Moonie Field Example 8.2.csv')\n",
        "data2"
      ],
      "execution_count": 6,
      "outputs": [
        {
          "output_type": "execute_result",
          "data": {
            "text/html": [
              "<div>\n",
              "<style scoped>\n",
              "    .dataframe tbody tr th:only-of-type {\n",
              "        vertical-align: middle;\n",
              "    }\n",
              "\n",
              "    .dataframe tbody tr th {\n",
              "        vertical-align: top;\n",
              "    }\n",
              "\n",
              "    .dataframe thead th {\n",
              "        text-align: right;\n",
              "    }\n",
              "</style>\n",
              "<table border=\"1\" class=\"dataframe\">\n",
              "  <thead>\n",
              "    <tr style=\"text-align: right;\">\n",
              "      <th></th>\n",
              "      <th>t</th>\n",
              "      <th>p</th>\n",
              "      <th>Np</th>\n",
              "      <th>Gp</th>\n",
              "      <th>Wp</th>\n",
              "      <th>Bo</th>\n",
              "    </tr>\n",
              "  </thead>\n",
              "  <tbody>\n",
              "    <tr>\n",
              "      <th>0</th>\n",
              "      <td>01 January 1964</td>\n",
              "      <td>2532</td>\n",
              "      <td>0</td>\n",
              "      <td>0.000000e+00</td>\n",
              "      <td>0</td>\n",
              "      <td>1.07800</td>\n",
              "    </tr>\n",
              "    <tr>\n",
              "      <th>1</th>\n",
              "      <td>01 October 1964</td>\n",
              "      <td>2503</td>\n",
              "      <td>1107012</td>\n",
              "      <td>1.240000e+08</td>\n",
              "      <td>27400</td>\n",
              "      <td>1.07826</td>\n",
              "    </tr>\n",
              "    <tr>\n",
              "      <th>2</th>\n",
              "      <td>01 January 1965</td>\n",
              "      <td>2496</td>\n",
              "      <td>1574736</td>\n",
              "      <td>1.760000e+08</td>\n",
              "      <td>55000</td>\n",
              "      <td>1.07832</td>\n",
              "    </tr>\n",
              "    <tr>\n",
              "      <th>3</th>\n",
              "      <td>01 April 1965</td>\n",
              "      <td>2485</td>\n",
              "      <td>2157206</td>\n",
              "      <td>2.420000e+08</td>\n",
              "      <td>109000</td>\n",
              "      <td>1.07842</td>\n",
              "    </tr>\n",
              "    <tr>\n",
              "      <th>4</th>\n",
              "      <td>01 September 1965</td>\n",
              "      <td>2476</td>\n",
              "      <td>3268489</td>\n",
              "      <td>3.660000e+08</td>\n",
              "      <td>277300</td>\n",
              "      <td>1.07850</td>\n",
              "    </tr>\n",
              "    <tr>\n",
              "      <th>5</th>\n",
              "      <td>01 April 1966</td>\n",
              "      <td>2471</td>\n",
              "      <td>5007092</td>\n",
              "      <td>5.610000e+08</td>\n",
              "      <td>495450</td>\n",
              "      <td>1.07854</td>\n",
              "    </tr>\n",
              "    <tr>\n",
              "      <th>6</th>\n",
              "      <td>01 April 1967</td>\n",
              "      <td>2465</td>\n",
              "      <td>7739388</td>\n",
              "      <td>8.670000e+08</td>\n",
              "      <td>1514500</td>\n",
              "      <td>1.07860</td>\n",
              "    </tr>\n",
              "    <tr>\n",
              "      <th>7</th>\n",
              "      <td>01 June 1977</td>\n",
              "      <td>2442</td>\n",
              "      <td>18311694</td>\n",
              "      <td>2.050000e+09</td>\n",
              "      <td>39123000</td>\n",
              "      <td>1.07880</td>\n",
              "    </tr>\n",
              "    <tr>\n",
              "      <th>8</th>\n",
              "      <td>01 June 1981</td>\n",
              "      <td>2439</td>\n",
              "      <td>19657804</td>\n",
              "      <td>2.200000e+09</td>\n",
              "      <td>57345000</td>\n",
              "      <td>1.07883</td>\n",
              "    </tr>\n",
              "    <tr>\n",
              "      <th>9</th>\n",
              "      <td>01 July 1985</td>\n",
              "      <td>2430</td>\n",
              "      <td>20657249</td>\n",
              "      <td>2.310000e+09</td>\n",
              "      <td>78372000</td>\n",
              "      <td>1.07891</td>\n",
              "    </tr>\n",
              "  </tbody>\n",
              "</table>\n",
              "</div>"
            ],
            "text/plain": [
              "                   t     p        Np            Gp        Wp       Bo\n",
              "0    01 January 1964  2532         0  0.000000e+00         0  1.07800\n",
              "1    01 October 1964  2503   1107012  1.240000e+08     27400  1.07826\n",
              "2    01 January 1965  2496   1574736  1.760000e+08     55000  1.07832\n",
              "3      01 April 1965  2485   2157206  2.420000e+08    109000  1.07842\n",
              "4  01 September 1965  2476   3268489  3.660000e+08    277300  1.07850\n",
              "5      01 April 1966  2471   5007092  5.610000e+08    495450  1.07854\n",
              "6      01 April 1967  2465   7739388  8.670000e+08   1514500  1.07860\n",
              "7       01 June 1977  2442  18311694  2.050000e+09  39123000  1.07880\n",
              "8       01 June 1981  2439  19657804  2.200000e+09  57345000  1.07883\n",
              "9       01 July 1985  2430  20657249  2.310000e+09  78372000  1.07891"
            ]
          },
          "metadata": {
            "tags": []
          },
          "execution_count": 6
        }
      ]
    },
    {
      "cell_type": "code",
      "metadata": {
        "id": "jJsvizLN9iYp",
        "colab_type": "code",
        "colab": {
          "base_uri": "https://localhost:8080/",
          "height": 639
        },
        "outputId": "47a41280-28b7-4df2-d3e5-19d0af97ded2"
      },
      "source": [
        "\"Converting to Panda datetime\"\n",
        "\n",
        "# time data in format: 01 January 1964\n",
        "\n",
        "data2['t'] =  pd.to_datetime(data2['t'], format='%d %B %Y') # format check web: https://strftime.org/\n",
        "data2 # already converted to YYYY-MM-DD\n",
        "\n",
        "\"Subtracting datetimes to get time differences (how many days) IN INTEGER\"\n",
        "\n",
        "diff = [j-i for i, j in zip(data2.t[:-1], data2.t[1:])]\n",
        "diff = np.array(diff)\n",
        "\n",
        "# convert datetime format to integer\n",
        "diffr_arr = []\n",
        "for k in range(len(diff)):\n",
        "  diffr = diff[k] / np.timedelta64(1,'D')\n",
        "  diffr_arr.append(float(diffr))\n",
        "\n",
        "# append 0 to the first index of numpy\n",
        "diffr_arr = np.append([0], diffr_arr) # now diff has same dimension with time data (a)\n",
        "\n",
        "\"Calculate We\"\n",
        "\n",
        "pressure = np.array(data2.p)\n",
        "Np = np.array(data2.Np)\n",
        "Wp = np.array(data2.Wp)\n",
        "Bo = np.array(data2.Bo)\n",
        "\n",
        "\"Material Balance\"\n",
        "\n",
        "# call function\n",
        "delta_pressure, Efw, Eo, F, We, We_rate = influx_matbalance_undersaturated(pressure, Bw, Wp, Np, Bo, Nfoi, cf, cw, swi, Boi, diffr_arr)\n",
        "\n",
        "# plot We_rate vs delta_pressure\n",
        "plt.plot(delta_pressure, We_rate, '.')\n",
        "plt.xlabel('delta_pressure (psi)'); plt.ylabel('We_rate (RB/D)')\n",
        "plt.title('Schiltuis Aquifer Influx Plot of Moonie Field')\n",
        "\n",
        "# result in table\n",
        "schiltuis = pd.DataFrame({\"Date\": data2.t, \"delta_pressure(psi)\": delta_pressure, \"Efw\": Efw, \"Eo(RB/STB)\": Eo, \"F(res bbl)\": F, \"We(res bbl)\": We, \"We_rate(RB/D)\": We_rate})\n",
        "schiltuis = schiltuis.fillna(0) # replace NaN with zero\n",
        "schiltuis"
      ],
      "execution_count": 7,
      "outputs": [
        {
          "output_type": "stream",
          "text": [
            "/usr/local/lib/python3.6/dist-packages/ipykernel_launcher.py:26: RuntimeWarning: invalid value encountered in true_divide\n"
          ],
          "name": "stderr"
        },
        {
          "output_type": "execute_result",
          "data": {
            "text/html": [
              "<div>\n",
              "<style scoped>\n",
              "    .dataframe tbody tr th:only-of-type {\n",
              "        vertical-align: middle;\n",
              "    }\n",
              "\n",
              "    .dataframe tbody tr th {\n",
              "        vertical-align: top;\n",
              "    }\n",
              "\n",
              "    .dataframe thead th {\n",
              "        text-align: right;\n",
              "    }\n",
              "</style>\n",
              "<table border=\"1\" class=\"dataframe\">\n",
              "  <thead>\n",
              "    <tr style=\"text-align: right;\">\n",
              "      <th></th>\n",
              "      <th>Date</th>\n",
              "      <th>delta_pressure(psi)</th>\n",
              "      <th>Efw</th>\n",
              "      <th>Eo(RB/STB)</th>\n",
              "      <th>F(res bbl)</th>\n",
              "      <th>We(res bbl)</th>\n",
              "      <th>We_rate(RB/D)</th>\n",
              "    </tr>\n",
              "  </thead>\n",
              "  <tbody>\n",
              "    <tr>\n",
              "      <th>0</th>\n",
              "      <td>1964-01-01</td>\n",
              "      <td>0</td>\n",
              "      <td>0.000000</td>\n",
              "      <td>0.00000</td>\n",
              "      <td>0.000000e+00</td>\n",
              "      <td>0.000000e+00</td>\n",
              "      <td>0.000000</td>\n",
              "    </tr>\n",
              "    <tr>\n",
              "      <th>1</th>\n",
              "      <td>1964-10-01</td>\n",
              "      <td>29</td>\n",
              "      <td>0.000303</td>\n",
              "      <td>0.00026</td>\n",
              "      <td>1.193647e+06</td>\n",
              "      <td>1.192976e+06</td>\n",
              "      <td>4353.927515</td>\n",
              "    </tr>\n",
              "    <tr>\n",
              "      <th>2</th>\n",
              "      <td>1965-01-01</td>\n",
              "      <td>36</td>\n",
              "      <td>0.000377</td>\n",
              "      <td>0.00032</td>\n",
              "      <td>1.698069e+06</td>\n",
              "      <td>1.718777e+06</td>\n",
              "      <td>5715.229396</td>\n",
              "    </tr>\n",
              "    <tr>\n",
              "      <th>3</th>\n",
              "      <td>1965-04-01</td>\n",
              "      <td>47</td>\n",
              "      <td>0.000492</td>\n",
              "      <td>0.00042</td>\n",
              "      <td>2.326374e+06</td>\n",
              "      <td>2.391239e+06</td>\n",
              "      <td>7471.802122</td>\n",
              "    </tr>\n",
              "    <tr>\n",
              "      <th>4</th>\n",
              "      <td>1965-09-01</td>\n",
              "      <td>56</td>\n",
              "      <td>0.000586</td>\n",
              "      <td>0.00050</td>\n",
              "      <td>3.525065e+06</td>\n",
              "      <td>3.752749e+06</td>\n",
              "      <td>8898.753412</td>\n",
              "    </tr>\n",
              "    <tr>\n",
              "      <th>5</th>\n",
              "      <td>1966-04-01</td>\n",
              "      <td>61</td>\n",
              "      <td>0.000638</td>\n",
              "      <td>0.00054</td>\n",
              "      <td>5.400349e+06</td>\n",
              "      <td>5.845846e+06</td>\n",
              "      <td>9873.102449</td>\n",
              "    </tr>\n",
              "    <tr>\n",
              "      <th>6</th>\n",
              "      <td>1967-04-01</td>\n",
              "      <td>67</td>\n",
              "      <td>0.000701</td>\n",
              "      <td>0.00060</td>\n",
              "      <td>8.347704e+06</td>\n",
              "      <td>9.826409e+06</td>\n",
              "      <td>10905.649893</td>\n",
              "    </tr>\n",
              "    <tr>\n",
              "      <th>7</th>\n",
              "      <td>1977-06-01</td>\n",
              "      <td>90</td>\n",
              "      <td>0.000942</td>\n",
              "      <td>0.00080</td>\n",
              "      <td>1.975466e+07</td>\n",
              "      <td>5.957164e+07</td>\n",
              "      <td>13393.975942</td>\n",
              "    </tr>\n",
              "    <tr>\n",
              "      <th>8</th>\n",
              "      <td>1981-06-01</td>\n",
              "      <td>93</td>\n",
              "      <td>0.000973</td>\n",
              "      <td>0.00083</td>\n",
              "      <td>2.120743e+07</td>\n",
              "      <td>7.960774e+07</td>\n",
              "      <td>13713.963971</td>\n",
              "    </tr>\n",
              "    <tr>\n",
              "      <th>9</th>\n",
              "      <td>1985-07-01</td>\n",
              "      <td>102</td>\n",
              "      <td>0.001067</td>\n",
              "      <td>0.00091</td>\n",
              "      <td>2.228731e+07</td>\n",
              "      <td>1.021263e+08</td>\n",
              "      <td>15103.001884</td>\n",
              "    </tr>\n",
              "  </tbody>\n",
              "</table>\n",
              "</div>"
            ],
            "text/plain": [
              "        Date  delta_pressure(psi)  ...   We(res bbl)  We_rate(RB/D)\n",
              "0 1964-01-01                    0  ...  0.000000e+00       0.000000\n",
              "1 1964-10-01                   29  ...  1.192976e+06    4353.927515\n",
              "2 1965-01-01                   36  ...  1.718777e+06    5715.229396\n",
              "3 1965-04-01                   47  ...  2.391239e+06    7471.802122\n",
              "4 1965-09-01                   56  ...  3.752749e+06    8898.753412\n",
              "5 1966-04-01                   61  ...  5.845846e+06    9873.102449\n",
              "6 1967-04-01                   67  ...  9.826409e+06   10905.649893\n",
              "7 1977-06-01                   90  ...  5.957164e+07   13393.975942\n",
              "8 1981-06-01                   93  ...  7.960774e+07   13713.963971\n",
              "9 1985-07-01                  102  ...  1.021263e+08   15103.001884\n",
              "\n",
              "[10 rows x 7 columns]"
            ]
          },
          "metadata": {
            "tags": []
          },
          "execution_count": 7
        },
        {
          "output_type": "display_data",
          "data": {
            "image/png": "[encoded data removed]",
            "text/plain": [
              "<Figure size 432x288 with 1 Axes>"
            ]
          },
          "metadata": {
            "tags": []
          }
        }
      ]
    },
    {
      "cell_type": "code",
      "metadata": {
        "id": "e-3noBXTon5-",
        "colab_type": "code",
        "colab": {
          "base_uri": "https://localhost:8080/",
          "height": 330
        },
        "outputId": "382d7378-3342-4d1d-c385-1ff3f093aa30"
      },
      "source": [
        "\"Regression of Schiltuis Plot\"\n",
        "\n",
        "# import regression function from Unit 7 function folder\n",
        "import sys, os \n",
        "sys.path.append('/content/reservoir-engineering/Unit 7 Introduction to Well-Test Analysis/functions')\n",
        "\n",
        "from regression import regression\n",
        "\n",
        "x = np.array(schiltuis.iloc[:, 1]) # delta_pressure\n",
        "y = np.array(schiltuis.iloc[:, 6]) # We_rate\n",
        "\n",
        "c, m = regression(x, y)\n",
        "print(\"Aquifer influx constant from slope of Schiltuis Plot:\", m, \"RB/(D-psi)\")\n",
        "\n",
        "# plot regression\n",
        "\n",
        "y_reg = m * x + c\n",
        "\n",
        "plt.plot(delta_pressure, We_rate, '.')\n",
        "plt.xlabel('delta_pressure (psi)'); plt.ylabel('We_rate (RB/D)')\n",
        "plt.title('Schiltuis Aquifer Influx Plot of Moonie Field')\n",
        "plt.plot(x, y_reg)"
      ],
      "execution_count": 8,
      "outputs": [
        {
          "output_type": "stream",
          "text": [
            "Aquifer influx constant from slope of Schiltuis Plot: 147.42917107467179 RB/(D-psi)\n"
          ],
          "name": "stdout"
        },
        {
          "output_type": "execute_result",
          "data": {
            "text/plain": [
              "[<matplotlib.lines.Line2D at 0x7fef4b9cc320>]"
            ]
          },
          "metadata": {
            "tags": []
          },
          "execution_count": 8
        },
        {
          "output_type": "display_data",
          "data": {
            "image/png": "[encoded data removed]",
            "text/plain": [
              "<Figure size 432x288 with 1 Axes>"
            ]
          },
          "metadata": {
            "tags": []
          }
        }
      ]
    },
    {
      "cell_type": "markdown",
      "metadata": {
        "id": "EKyVMY5RwQJ0",
        "colab_type": "text"
      },
      "source": [
        "## **Chapter 8.3 Van Everdingen-Hurst (VEH) Unsteady-State Method**"
      ]
    },
    {
      "cell_type": "markdown",
      "metadata": {
        "id": "BvRjfpN6woD_",
        "colab_type": "text"
      },
      "source": [
        "### Functions"
      ]
    },
    {
      "cell_type": "code",
      "metadata": {
        "id": "C3eSE29QwYck",
        "colab_type": "code",
        "colab": {}
      },
      "source": [
        ""
      ],
      "execution_count": 0,
      "outputs": []
    },
    {
      "cell_type": "markdown",
      "metadata": {
        "id": "F1uRozVQAukS",
        "colab_type": "text"
      },
      "source": [
        "### Example 8.3 Aquifer Influx using VEH Unsteady-State Method\n",
        "\n",
        "Data similar to Problem 8.2"
      ]
    },
    {
      "cell_type": "code",
      "metadata": {
        "id": "4Jbm-7ybBINm",
        "colab_type": "code",
        "colab": {
          "base_uri": "https://localhost:8080/",
          "height": 343
        },
        "outputId": "6a0767dd-d4c9-41a9-b107-2e73b4367389"
      },
      "source": [
        "\"Task. calculate aquifer influx vs time using VEH method\"\n",
        "\n",
        "# known \n",
        "pi = 2532 # psia\n",
        "temp = 156 # reservoir temperature, F\n",
        "P_bubble = 737 # psia\n",
        "Nfoi = 48.75 # in MSTB (million STB)\n",
        "Rsi = 112 # initial solution gas-oil ratio, scf/STB\n",
        "Boi = 1.078 # RB/STB\n",
        "Bob = 1.094 # oil FVF at bubblepoint, RB/STB\n",
        "Bw = 1.02 # water FVF, no information in the book, so assume to be constant, similar to Problem 8.1, in RB/STB\n",
        "swi = 0.48\n",
        "cf = 4E-06 # in psi^-1\n",
        "cw = 3E-06 # in psi^-1\n",
        "poro = 0.177\n",
        "k = 432 # permeability, md\n",
        "h = 31.8 # reservoir thicknes, ft\n",
        "vbulk = 73590 # reservoir bulk volume, acre ft\n",
        "mu_w = 0.28 # water viscosity, cp\n",
        "mu_oil_initial = 1.02 # initial oil viscosity, cp\n",
        "date_initial = '1964-01-01' # initial date of production\n",
        "\n",
        "# conversion\n",
        "Nfoi = Nfoi * 1E+06 # convert from MSTB to STB\n",
        "vbulk = vbulk * 43559.9 # convert from acre-ft to cubic ft\n",
        "\n",
        "# data used is similar to Problem 8.2\n",
        "data3 = pd.read_csv('/content/reservoir-engineering/Unit 8 Aquifer Influx/data/Table 8.3-Production Data Moonie Field Example 8.2.csv')\n",
        "\n",
        "# calculate reservoir area size\n",
        "area = vbulk / h\n",
        "r_R = np.sqrt(area / np.pi) # radius of reservoir, assume reservoir shape is cylindrical\n",
        "\n",
        "ct = cf + cw # total compressibility, in aquifer sw=1\n",
        "theta = 360 # full circle cylindrical\n",
        "B_star = 1.119 * poro * ct * h *(r_R**2) * (theta / 360)\n",
        "\n",
        "\"calculate delta_pressure_j and visualize in table similar to Table 8.5\"\n",
        "\n",
        "# time data in format: 01 January 1964, convert to PANDA datetime format\n",
        "\n",
        "data3['t'] =  pd.to_datetime(data3['t'], format='%d %B %Y') # format check web: https://strftime.org/\n",
        "\n",
        "# Subtracting datetimes to get time differences from initial production date to date[i] (how many days) IN INTEGER\"\n",
        "\n",
        "diff = data3.t - data3.t[0]\n",
        "\n",
        "# convert datetime format to integer\n",
        "diffr_arr = []\n",
        "for k in range(len(diff)):\n",
        "  diffr = diff[k] / np.timedelta64(1,'D')\n",
        "  diffr_arr.append(float(diffr))\n",
        "\n",
        "# convert time difference from day to hour\n",
        "diffr_arr = np.array(diffr_arr) * 24\n",
        "\n",
        "# create j index for dataframe\n",
        "j_index = np.arange(0, (len(data3.t)), 1)\n",
        "\n",
        "# calculate delta_pj for each date\n",
        "# append an array consists of two initial pressures [pi, pi] (as dummy) to the pressure data\n",
        "p_dummy = np.append(np.array([pi, pi]), data3.p)\n",
        "# delta_p_j = p_(j) - p_(j-2)\n",
        "delta_p_j = [b-a for a, b in zip(p_dummy[:-2], p_dummy[2:])]\n",
        "delta_p_j = 0.5 * np.array(np.abs(delta_p_j))\n",
        "\n",
        "# construct Table 8.5\n",
        "pressure_drop_calc = pd.DataFrame({\"Date\": data3.t, \"j\": j_index, \"Time(hours)\": diffr_arr, \"Pressure(psia)\": data3.p, \"delta_p_j(psia)\": delta_p_j})\n",
        "pressure_drop_calc"
      ],
      "execution_count": 83,
      "outputs": [
        {
          "output_type": "execute_result",
          "data": {
            "text/html": [
              "<div>\n",
              "<style scoped>\n",
              "    .dataframe tbody tr th:only-of-type {\n",
              "        vertical-align: middle;\n",
              "    }\n",
              "\n",
              "    .dataframe tbody tr th {\n",
              "        vertical-align: top;\n",
              "    }\n",
              "\n",
              "    .dataframe thead th {\n",
              "        text-align: right;\n",
              "    }\n",
              "</style>\n",
              "<table border=\"1\" class=\"dataframe\">\n",
              "  <thead>\n",
              "    <tr style=\"text-align: right;\">\n",
              "      <th></th>\n",
              "      <th>Date</th>\n",
              "      <th>j</th>\n",
              "      <th>Time(hours)</th>\n",
              "      <th>Pressure(psia)</th>\n",
              "      <th>delta_p_j(psia)</th>\n",
              "    </tr>\n",
              "  </thead>\n",
              "  <tbody>\n",
              "    <tr>\n",
              "      <th>0</th>\n",
              "      <td>1964-01-01</td>\n",
              "      <td>0</td>\n",
              "      <td>0.0</td>\n",
              "      <td>2532</td>\n",
              "      <td>0.0</td>\n",
              "    </tr>\n",
              "    <tr>\n",
              "      <th>1</th>\n",
              "      <td>1964-10-01</td>\n",
              "      <td>1</td>\n",
              "      <td>6576.0</td>\n",
              "      <td>2503</td>\n",
              "      <td>14.5</td>\n",
              "    </tr>\n",
              "    <tr>\n",
              "      <th>2</th>\n",
              "      <td>1965-01-01</td>\n",
              "      <td>2</td>\n",
              "      <td>8784.0</td>\n",
              "      <td>2496</td>\n",
              "      <td>18.0</td>\n",
              "    </tr>\n",
              "    <tr>\n",
              "      <th>3</th>\n",
              "      <td>1965-04-01</td>\n",
              "      <td>3</td>\n",
              "      <td>10944.0</td>\n",
              "      <td>2485</td>\n",
              "      <td>9.0</td>\n",
              "    </tr>\n",
              "    <tr>\n",
              "      <th>4</th>\n",
              "      <td>1965-09-01</td>\n",
              "      <td>4</td>\n",
              "      <td>14616.0</td>\n",
              "      <td>2476</td>\n",
              "      <td>10.0</td>\n",
              "    </tr>\n",
              "    <tr>\n",
              "      <th>5</th>\n",
              "      <td>1966-04-01</td>\n",
              "      <td>5</td>\n",
              "      <td>19704.0</td>\n",
              "      <td>2471</td>\n",
              "      <td>7.0</td>\n",
              "    </tr>\n",
              "    <tr>\n",
              "      <th>6</th>\n",
              "      <td>1967-04-01</td>\n",
              "      <td>6</td>\n",
              "      <td>28464.0</td>\n",
              "      <td>2465</td>\n",
              "      <td>5.5</td>\n",
              "    </tr>\n",
              "    <tr>\n",
              "      <th>7</th>\n",
              "      <td>1977-06-01</td>\n",
              "      <td>7</td>\n",
              "      <td>117600.0</td>\n",
              "      <td>2442</td>\n",
              "      <td>14.5</td>\n",
              "    </tr>\n",
              "    <tr>\n",
              "      <th>8</th>\n",
              "      <td>1981-06-01</td>\n",
              "      <td>8</td>\n",
              "      <td>152664.0</td>\n",
              "      <td>2439</td>\n",
              "      <td>13.0</td>\n",
              "    </tr>\n",
              "    <tr>\n",
              "      <th>9</th>\n",
              "      <td>1985-07-01</td>\n",
              "      <td>9</td>\n",
              "      <td>188448.0</td>\n",
              "      <td>2430</td>\n",
              "      <td>6.0</td>\n",
              "    </tr>\n",
              "  </tbody>\n",
              "</table>\n",
              "</div>"
            ],
            "text/plain": [
              "        Date  j  Time(hours)  Pressure(psia)  delta_p_j(psia)\n",
              "0 1964-01-01  0          0.0            2532              0.0\n",
              "1 1964-10-01  1       6576.0            2503             14.5\n",
              "2 1965-01-01  2       8784.0            2496             18.0\n",
              "3 1965-04-01  3      10944.0            2485              9.0\n",
              "4 1965-09-01  4      14616.0            2476             10.0\n",
              "5 1966-04-01  5      19704.0            2471              7.0\n",
              "6 1967-04-01  6      28464.0            2465              5.5\n",
              "7 1977-06-01  7     117600.0            2442             14.5\n",
              "8 1981-06-01  8     152664.0            2439             13.0\n",
              "9 1985-07-01  9     188448.0            2430              6.0"
            ]
          },
          "metadata": {
            "tags": []
          },
          "execution_count": 83
        }
      ]
    },
    {
      "cell_type": "code",
      "metadata": {
        "id": "P7tUqCX3ut2Z",
        "colab_type": "code",
        "colab": {
          "base_uri": "https://localhost:8080/",
          "height": 330
        },
        "outputId": "5a92c694-a34e-4950-b38a-2d37ab9f9cdb"
      },
      "source": [
        "\"Whole code to create Table 8.6\"\n",
        "\n",
        "j_array = np.array(pressure_drop_calc.iloc[:, 1]) # j_index\n",
        "time_array = np.array(pressure_drop_calc.iloc[:, 2]) # time\n",
        "delta_p_j_array = np.array(pressure_drop_calc.iloc[:, 4]) # delta_pj\n",
        "\n",
        "array_j = []\n",
        "array_time = []\n",
        "array_delta_p_j = []\n",
        "array_time_repeat = []\n",
        "\n",
        "for i in range(len(time_array)):\n",
        "  new_j = j_array[:i]\n",
        "  new_time = time_array[:i]\n",
        "  new_delta_p_j = delta_p_j_array[:i]\n",
        "\n",
        "  array_j.append(new_j)\n",
        "  array_time.append(new_time)\n",
        "  array_delta_p_j.append(new_delta_p_j)\n",
        "\n",
        "  # make arrays of repeated times\n",
        "  new_time_repeat = np.repeat((time_array[i]), i)\n",
        "  array_time_repeat.append(new_time_repeat)\n",
        "\n",
        "arrr_j = array_j[1:] # j_index\n",
        "arrr_time = array_time[1:] # time\n",
        "arrr_delta_p_j = array_delta_p_j[1:] # delta_p_j\n",
        "arrr_time_repeat = array_time_repeat[1:] # array of repeated times\n",
        "\n",
        "\"To calculate delta_time, SUBTRACT arrr_time TO arrr_time_repeat\"\n",
        "\n",
        "delta_time = np.subtract(arrr_time_repeat, arrr_time) # numpy subtract array to array\n",
        "\n",
        "\"Calculate t_DR and W_eD\" #####################################\n",
        "\n",
        "\"create into Table 8.6\"\n",
        "\n",
        "# print calculated parameters for e.g. July 1985\n",
        "index = 9\n",
        "timestamp = np.array(pressure_drop_calc.iloc[:, 0][index])\n",
        "\n",
        "veh_parameters = pd.DataFrame({\"j\": arrr_j[index-1], \"delta_p_j(psi)\": arrr_delta_p_j[index-1], \"delta_time(hours)\": delta_time[index-1]})\n",
        "\n",
        "print(\"Table 8.6-Calculated Times Associated with Pressure Drops at:\", timestamp)\n",
        "veh_parameters"
      ],
      "execution_count": 179,
      "outputs": [
        {
          "output_type": "stream",
          "text": [
            "Table 8.6-Calculated Times Associated with Pressure Drops at: 1985-07-01 00:00:00\n"
          ],
          "name": "stdout"
        },
        {
          "output_type": "execute_result",
          "data": {
            "text/html": [
              "<div>\n",
              "<style scoped>\n",
              "    .dataframe tbody tr th:only-of-type {\n",
              "        vertical-align: middle;\n",
              "    }\n",
              "\n",
              "    .dataframe tbody tr th {\n",
              "        vertical-align: top;\n",
              "    }\n",
              "\n",
              "    .dataframe thead th {\n",
              "        text-align: right;\n",
              "    }\n",
              "</style>\n",
              "<table border=\"1\" class=\"dataframe\">\n",
              "  <thead>\n",
              "    <tr style=\"text-align: right;\">\n",
              "      <th></th>\n",
              "      <th>j</th>\n",
              "      <th>delta_p_j(psi)</th>\n",
              "      <th>delta_time(hours)</th>\n",
              "    </tr>\n",
              "  </thead>\n",
              "  <tbody>\n",
              "    <tr>\n",
              "      <th>0</th>\n",
              "      <td>0</td>\n",
              "      <td>0.0</td>\n",
              "      <td>188448.0</td>\n",
              "    </tr>\n",
              "    <tr>\n",
              "      <th>1</th>\n",
              "      <td>1</td>\n",
              "      <td>14.5</td>\n",
              "      <td>181872.0</td>\n",
              "    </tr>\n",
              "    <tr>\n",
              "      <th>2</th>\n",
              "      <td>2</td>\n",
              "      <td>18.0</td>\n",
              "      <td>179664.0</td>\n",
              "    </tr>\n",
              "    <tr>\n",
              "      <th>3</th>\n",
              "      <td>3</td>\n",
              "      <td>9.0</td>\n",
              "      <td>177504.0</td>\n",
              "    </tr>\n",
              "    <tr>\n",
              "      <th>4</th>\n",
              "      <td>4</td>\n",
              "      <td>10.0</td>\n",
              "      <td>173832.0</td>\n",
              "    </tr>\n",
              "    <tr>\n",
              "      <th>5</th>\n",
              "      <td>5</td>\n",
              "      <td>7.0</td>\n",
              "      <td>168744.0</td>\n",
              "    </tr>\n",
              "    <tr>\n",
              "      <th>6</th>\n",
              "      <td>6</td>\n",
              "      <td>5.5</td>\n",
              "      <td>159984.0</td>\n",
              "    </tr>\n",
              "    <tr>\n",
              "      <th>7</th>\n",
              "      <td>7</td>\n",
              "      <td>14.5</td>\n",
              "      <td>70848.0</td>\n",
              "    </tr>\n",
              "    <tr>\n",
              "      <th>8</th>\n",
              "      <td>8</td>\n",
              "      <td>13.0</td>\n",
              "      <td>35784.0</td>\n",
              "    </tr>\n",
              "  </tbody>\n",
              "</table>\n",
              "</div>"
            ],
            "text/plain": [
              "   j  delta_p_j(psi)  delta_time(hours)\n",
              "0  0             0.0           188448.0\n",
              "1  1            14.5           181872.0\n",
              "2  2            18.0           179664.0\n",
              "3  3             9.0           177504.0\n",
              "4  4            10.0           173832.0\n",
              "5  5             7.0           168744.0\n",
              "6  6             5.5           159984.0\n",
              "7  7            14.5            70848.0\n",
              "8  8            13.0            35784.0"
            ]
          },
          "metadata": {
            "tags": []
          },
          "execution_count": 179
        }
      ]
    },
    {
      "cell_type": "markdown",
      "metadata": {
        "id": "qpUbGYHghFev",
        "colab_type": "text"
      },
      "source": [
        "# ***"
      ]
    },
    {
      "cell_type": "code",
      "metadata": {
        "id": "LEADIB9-eitR",
        "colab_type": "code",
        "colab": {
          "base_uri": "https://localhost:8080/",
          "height": 34
        },
        "outputId": "074c4f74-7677-4ea8-ebed-032c42643e6a"
      },
      "source": [
        "a = np.array([pi, pi])\n",
        "b = np.append(np.array([1, 1]), a)\n",
        "b"
      ],
      "execution_count": 74,
      "outputs": [
        {
          "output_type": "execute_result",
          "data": {
            "text/plain": [
              "array([   1,    1, 2532, 2532])"
            ]
          },
          "metadata": {
            "tags": []
          },
          "execution_count": 74
        }
      ]
    },
    {
      "cell_type": "code",
      "metadata": {
        "id": "hjrrs6SlLnQV",
        "colab_type": "code",
        "colab": {
          "base_uri": "https://localhost:8080/",
          "height": 67
        },
        "outputId": "193869b5-5a5f-4950-ce6c-80e84bdf91b0"
      },
      "source": [
        "data = np.array([1, 1, 2, 4, 5, 6, 10])\n",
        "print(data[2:None])\n",
        "print(data[:2])\n",
        "[b-a for a, b in zip(data[:-2], data[2:])]"
      ],
      "execution_count": 70,
      "outputs": [
        {
          "output_type": "stream",
          "text": [
            "[ 2  4  5  6 10]\n",
            "[1 1]\n"
          ],
          "name": "stdout"
        },
        {
          "output_type": "execute_result",
          "data": {
            "text/plain": [
              "[1, 3, 3, 2, 5]"
            ]
          },
          "metadata": {
            "tags": []
          },
          "execution_count": 70
        }
      ]
    },
    {
      "cell_type": "code",
      "metadata": {
        "id": "epyovMaXjnpW",
        "colab_type": "code",
        "colab": {
          "base_uri": "https://localhost:8080/",
          "height": 202
        },
        "outputId": "d5354fd6-371f-445c-9b01-4ceda4cceea2"
      },
      "source": [
        "time_array = np.array(pressure_drop_calc.iloc[:, 2]) # time\n",
        "\n",
        "array_arr = []\n",
        "\n",
        "for i in range(len(time_array)):\n",
        "  # new_array = pressure_array[:i+1]\n",
        "  new_array = time_array[:i]\n",
        "  array_arr.append(new_array)\n",
        "\n",
        "array_arrr = array_arr[1:]\n",
        "array_arrr"
      ],
      "execution_count": 128,
      "outputs": [
        {
          "output_type": "execute_result",
          "data": {
            "text/plain": [
              "[array([0.]),\n",
              " array([   0., 6576.]),\n",
              " array([   0., 6576., 8784.]),\n",
              " array([    0.,  6576.,  8784., 10944.]),\n",
              " array([    0.,  6576.,  8784., 10944., 14616.]),\n",
              " array([    0.,  6576.,  8784., 10944., 14616., 19704.]),\n",
              " array([    0.,  6576.,  8784., 10944., 14616., 19704., 28464.]),\n",
              " array([     0.,   6576.,   8784.,  10944.,  14616.,  19704.,  28464.,\n",
              "        117600.]),\n",
              " array([     0.,   6576.,   8784.,  10944.,  14616.,  19704.,  28464.,\n",
              "        117600., 152664.])]"
            ]
          },
          "metadata": {
            "tags": []
          },
          "execution_count": 128
        }
      ]
    },
    {
      "cell_type": "code",
      "metadata": {
        "id": "OqXNPQXkrgWJ",
        "colab_type": "code",
        "colab": {
          "base_uri": "https://localhost:8080/",
          "height": 202
        },
        "outputId": "1b7f20ab-06c3-4281-c0a2-171c17765eec"
      },
      "source": [
        "b_arr = []\n",
        "\n",
        "for i in range(len(time_array)):\n",
        "  b = np.repeat((time_array[i]), i)\n",
        "  b_arr.append(b)\n",
        "\n",
        "b_arrr = b_arr[1:]\n",
        "b_arrr"
      ],
      "execution_count": 131,
      "outputs": [
        {
          "output_type": "execute_result",
          "data": {
            "text/plain": [
              "[array([6576.]),\n",
              " array([8784., 8784.]),\n",
              " array([10944., 10944., 10944.]),\n",
              " array([14616., 14616., 14616., 14616.]),\n",
              " array([19704., 19704., 19704., 19704., 19704.]),\n",
              " array([28464., 28464., 28464., 28464., 28464., 28464.]),\n",
              " array([117600., 117600., 117600., 117600., 117600., 117600., 117600.]),\n",
              " array([152664., 152664., 152664., 152664., 152664., 152664., 152664.,\n",
              "        152664.]),\n",
              " array([188448., 188448., 188448., 188448., 188448., 188448., 188448.,\n",
              "        188448., 188448.])]"
            ]
          },
          "metadata": {
            "tags": []
          },
          "execution_count": 131
        }
      ]
    },
    {
      "cell_type": "code",
      "metadata": {
        "id": "t9hhKrHIs-aO",
        "colab_type": "code",
        "colab": {
          "base_uri": "https://localhost:8080/",
          "height": 50
        },
        "outputId": "18fb7235-0f7f-489b-ad85-2f06f8862fa2"
      },
      "source": [
        "solved = np.subtract(b_arrr, array_arrr)\n",
        "solved[8]"
      ],
      "execution_count": 136,
      "outputs": [
        {
          "output_type": "execute_result",
          "data": {
            "text/plain": [
              "array([188448., 181872., 179664., 177504., 173832., 168744., 159984.,\n",
              "        70848.,  35784.])"
            ]
          },
          "metadata": {
            "tags": []
          },
          "execution_count": 136
        }
      ]
    },
    {
      "cell_type": "markdown",
      "metadata": {
        "id": "c4_-ee2ew8XL",
        "colab_type": "text"
      },
      "source": [
        "# ***"
      ]
    },
    {
      "cell_type": "code",
      "metadata": {
        "id": "LTmK6Flx-FW9",
        "colab_type": "code",
        "colab": {
          "base_uri": "https://localhost:8080/",
          "height": 34
        },
        "outputId": "ac771f4b-99e6-453e-babe-3c381cbf36e8"
      },
      "source": [
        "\"Converting to Panda datetime\"\n",
        "\n",
        "# time data in format: 1 January 1964\n",
        "a = np.array([\"1 January 1964\", \"1 October 1964\", \"1 December 1964\", \"31 March 1965\"])\n",
        "b = np.array([1000, 2000, 3000, 4000])\n",
        "raw_data = pd.DataFrame({\"a\": a, \"b\": b})\n",
        "raw_data['a'] =  pd.to_datetime(raw_data['a'], format='%d %B %Y') # format check web: https://strftime.org/\n",
        "# raw_data['a'] =  pd.to_datetime(raw_data['a'], format='%B %Y') \"if format in: January 1964, October 1964\"\n",
        "raw_data # already converted to YYYY-MM-DD\n",
        "\n",
        "\"Subtracting datetimes to get time differences (how many days) IN INTEGER\"\n",
        "\n",
        "diff = [j-i for i, j in zip(raw_data.a[:-1], raw_data.a[1:])]\n",
        "diff = np.array(diff)\n",
        "\n",
        "# convert datetime format to integer\n",
        "diffr_arr = []\n",
        "for k in range(len(diff)):\n",
        "  diffr = diff[k] / np.timedelta64(1,'D')\n",
        "  diffr_arr.append(float(diffr))\n",
        "\n",
        "# append 0 to the first index of numpy\n",
        "diffr_arr = np.append([0], diffr_arr) # now diff has same dimension with time data (a)\n",
        "diffr_arr"
      ],
      "execution_count": 84,
      "outputs": [
        {
          "output_type": "execute_result",
          "data": {
            "text/plain": [
              "array([  0., 274.,  61., 120.])"
            ]
          },
          "metadata": {
            "tags": []
          },
          "execution_count": 84
        }
      ]
    }
  ]
}