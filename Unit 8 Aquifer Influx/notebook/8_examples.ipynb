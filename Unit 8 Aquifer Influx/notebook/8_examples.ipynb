{
  "nbformat": 4,
  "nbformat_minor": 0,
  "metadata": {
    "colab": {
      "name": "8_examples.ipynb",
      "provenance": [],
      "collapsed_sections": [
        "qpUbGYHghFev"
      ],
      "authorship_tag": "ABX9TyOW6kW+chJWSAG9RYMpsTuT",
      "include_colab_link": true
    },
    "kernelspec": {
      "name": "python3",
      "display_name": "Python 3"
    }
  },
  "cells": [
    {
      "cell_type": "markdown",
      "metadata": {
        "id": "view-in-github",
        "colab_type": "text"
      },
      "source": [
        "<a href=\"https://colab.research.google.com/github/yohanesnuwara/reservoir-engineering/blob/master/Unit%208%20Aquifer%20Influx/notebook/8_examples.ipynb\" target=\"_parent\"><img src=\"https://colab.research.google.com/assets/colab-badge.svg\" alt=\"Open In Colab\"/></a>"
      ]
    },
    {
      "cell_type": "markdown",
      "metadata": {
        "id": "987ob_NFn-N-",
        "colab_type": "text"
      },
      "source": [
        "# **Unit 8 Aquifer Influx**"
      ]
    },
    {
      "cell_type": "code",
      "metadata": {
        "id": "nUxdVncJn128",
        "colab_type": "code",
        "colab": {}
      },
      "source": [
        "import numpy as np\n",
        "import matplotlib.pyplot as plt\n",
        "import pandas as pd"
      ],
      "execution_count": 0,
      "outputs": []
    },
    {
      "cell_type": "code",
      "metadata": {
        "id": "xDwHbF_GoI7_",
        "colab_type": "code",
        "outputId": "a508eb04-ddd0-41b6-c334-fad84e6a93de",
        "colab": {
          "base_uri": "https://localhost:8080/",
          "height": 151
        }
      },
      "source": [
        "!git clone https://www.github.com/yohanesnuwara/reservoir-engineering"
      ],
      "execution_count": 0,
      "outputs": [
        {
          "output_type": "stream",
          "text": [
            "Cloning into 'reservoir-engineering'...\n",
            "warning: redirecting to https://github.com/yohanesnuwara/reservoir-engineering.git/\n",
            "remote: Enumerating objects: 44, done.\u001b[K\n",
            "remote: Counting objects:   2% (1/44)\u001b[K\rremote: Counting objects:   4% (2/44)\u001b[K\rremote: Counting objects:   6% (3/44)\u001b[K\rremote: Counting objects:   9% (4/44)\u001b[K\rremote: Counting objects:  11% (5/44)\u001b[K\rremote: Counting objects:  13% (6/44)\u001b[K\rremote: Counting objects:  15% (7/44)\u001b[K\rremote: Counting objects:  18% (8/44)\u001b[K\rremote: Counting objects:  20% (9/44)\u001b[K\rremote: Counting objects:  22% (10/44)\u001b[K\rremote: Counting objects:  25% (11/44)\u001b[K\rremote: Counting objects:  27% (12/44)\u001b[K\rremote: Counting objects:  29% (13/44)\u001b[K\rremote: Counting objects:  31% (14/44)\u001b[K\rremote: Counting objects:  34% (15/44)\u001b[K\rremote: Counting objects:  36% (16/44)\u001b[K\rremote: Counting objects:  38% (17/44)\u001b[K\rremote: Counting objects:  40% (18/44)\u001b[K\rremote: Counting objects:  43% (19/44)\u001b[K\rremote: Counting objects:  45% (20/44)\u001b[K\rremote: Counting objects:  47% (21/44)\u001b[K\rremote: Counting objects:  50% (22/44)\u001b[K\rremote: Counting objects:  52% (23/44)\u001b[K\rremote: Counting objects:  54% (24/44)\u001b[K\rremote: Counting objects:  56% (25/44)\u001b[K\rremote: Counting objects:  59% (26/44)\u001b[K\rremote: Counting objects:  61% (27/44)\u001b[K\rremote: Counting objects:  63% (28/44)\u001b[K\rremote: Counting objects:  65% (29/44)\u001b[K\rremote: Counting objects:  68% (30/44)\u001b[K\rremote: Counting objects:  70% (31/44)\u001b[K\rremote: Counting objects:  72% (32/44)\u001b[K\rremote: Counting objects:  75% (33/44)\u001b[K\rremote: Counting objects:  77% (34/44)\u001b[K\rremote: Counting objects:  79% (35/44)\u001b[K\rremote: Counting objects:  81% (36/44)\u001b[K\rremote: Counting objects:  84% (37/44)\u001b[K\rremote: Counting objects:  86% (38/44)\u001b[K\rremote: Counting objects:  88% (39/44)\u001b[K\rremote: Counting objects:  90% (40/44)\u001b[K\rremote: Counting objects:  93% (41/44)\u001b[K\rremote: Counting objects:  95% (42/44)\u001b[K\rremote: Counting objects:  97% (43/44)\u001b[K\rremote: Counting objects: 100% (44/44)\u001b[K\rremote: Counting objects: 100% (44/44), done.\u001b[K\n",
            "remote: Compressing objects:   2% (1/38)\u001b[K\rremote: Compressing objects:   5% (2/38)\u001b[K\rremote: Compressing objects:   7% (3/38)\u001b[K\rremote: Compressing objects:  10% (4/38)\u001b[K\rremote: Compressing objects:  13% (5/38)\u001b[K\rremote: Compressing objects:  15% (6/38)\u001b[K\rremote: Compressing objects:  18% (7/38)\u001b[K\rremote: Compressing objects:  21% (8/38)\u001b[K\rremote: Compressing objects:  23% (9/38)\u001b[K\rremote: Compressing objects:  26% (10/38)\u001b[K\rremote: Compressing objects:  28% (11/38)\u001b[K\rremote: Compressing objects:  31% (12/38)\u001b[K\rremote: Compressing objects:  34% (13/38)\u001b[K\rremote: Compressing objects:  36% (14/38)\u001b[K\rremote: Compressing objects:  39% (15/38)\u001b[K\rremote: Compressing objects:  42% (16/38)\u001b[K\rremote: Compressing objects:  44% (17/38)\u001b[K\rremote: Compressing objects:  47% (18/38)\u001b[K\rremote: Compressing objects:  50% (19/38)\u001b[K\rremote: Compressing objects:  52% (20/38)\u001b[K\rremote: Compressing objects:  55% (21/38)\u001b[K\rremote: Compressing objects:  57% (22/38)\u001b[K\rremote: Compressing objects:  60% (23/38)\u001b[K\rremote: Compressing objects:  63% (24/38)\u001b[K\rremote: Compressing objects:  65% (25/38)\u001b[K\rremote: Compressing objects:  68% (26/38)\u001b[K\rremote: Compressing objects:  71% (27/38)\u001b[K\rremote: Compressing objects:  73% (28/38)\u001b[K\rremote: Compressing objects:  76% (29/38)\u001b[K\rremote: Compressing objects:  78% (30/38)\u001b[K\rremote: Compressing objects:  81% (31/38)\u001b[K\rremote: Compressing objects:  84% (32/38)\u001b[K\rremote: Compressing objects:  86% (33/38)\u001b[K\rremote: Compressing objects:  89% (34/38)\u001b[K\rremote: Compressing objects:  92% (35/38)\u001b[K\rremote: Compressing objects:  94% (36/38)\u001b[K\rremote: Compressing objects:  97% (37/38)\u001b[K\rremote: Compressing objects: 100% (38/38)\u001b[K\rremote: Compressing objects: 100% (38/38), done.\u001b[K\n",
            "Receiving objects:   0% (1/740)   \rReceiving objects:   1% (8/740)   \rReceiving objects:   2% (15/740)   \rReceiving objects:   3% (23/740)   \rReceiving objects:   4% (30/740)   \rReceiving objects:   5% (37/740)   \rReceiving objects:   6% (45/740)   \rReceiving objects:   7% (52/740)   \rReceiving objects:   8% (60/740)   \rReceiving objects:   9% (67/740)   \rReceiving objects:  10% (74/740)   \rReceiving objects:  11% (82/740)   \rReceiving objects:  12% (89/740)   \rReceiving objects:  13% (97/740)   \rReceiving objects:  14% (104/740)   \rReceiving objects:  15% (111/740)   \rReceiving objects:  16% (119/740)   \rReceiving objects:  17% (126/740)   \rReceiving objects:  18% (134/740)   \rReceiving objects:  19% (141/740)   \rReceiving objects:  20% (148/740)   \rReceiving objects:  21% (156/740)   \rReceiving objects:  22% (163/740)   \rReceiving objects:  23% (171/740)   \rReceiving objects:  24% (178/740)   \rReceiving objects:  25% (185/740)   \rReceiving objects:  26% (193/740)   \rReceiving objects:  27% (200/740)   \rReceiving objects:  28% (208/740)   \rReceiving objects:  29% (215/740)   \rReceiving objects:  30% (222/740)   \rReceiving objects:  31% (230/740)   \rReceiving objects:  32% (237/740)   \rReceiving objects:  33% (245/740)   \rReceiving objects:  34% (252/740)   \rReceiving objects:  35% (259/740)   \rReceiving objects:  36% (267/740)   \rReceiving objects:  37% (274/740)   \rReceiving objects:  38% (282/740)   \rReceiving objects:  39% (289/740)   \rReceiving objects:  40% (296/740)   \rReceiving objects:  41% (304/740)   \rReceiving objects:  42% (311/740)   \rReceiving objects:  43% (319/740)   \rReceiving objects:  44% (326/740)   \rReceiving objects:  45% (333/740)   \rReceiving objects:  46% (341/740)   \rReceiving objects:  47% (348/740)   \rReceiving objects:  48% (356/740)   \rReceiving objects:  49% (363/740)   \rReceiving objects:  50% (370/740)   \rReceiving objects:  51% (378/740)   \rReceiving objects:  52% (385/740)   \rReceiving objects:  53% (393/740)   \rReceiving objects:  54% (400/740)   \rReceiving objects:  55% (407/740)   \rReceiving objects:  56% (415/740)   \rReceiving objects:  57% (422/740)   \rReceiving objects:  58% (430/740)   \rReceiving objects:  59% (437/740)   \rReceiving objects:  60% (444/740)   \rReceiving objects:  61% (452/740)   \rReceiving objects:  62% (459/740)   \rReceiving objects:  63% (467/740)   \rReceiving objects:  64% (474/740)   \rReceiving objects:  65% (481/740)   \rReceiving objects:  66% (489/740)   \rReceiving objects:  67% (496/740)   \rReceiving objects:  68% (504/740)   \rReceiving objects:  69% (511/740)   \rReceiving objects:  70% (518/740)   \rReceiving objects:  71% (526/740)   \rReceiving objects:  72% (533/740)   \rReceiving objects:  73% (541/740)   \rReceiving objects:  74% (548/740)   \rReceiving objects:  75% (555/740)   \rReceiving objects:  76% (563/740)   \rReceiving objects:  77% (570/740)   \rReceiving objects:  78% (578/740)   \rReceiving objects:  79% (585/740)   \rReceiving objects:  80% (592/740)   \rReceiving objects:  81% (600/740)   \rReceiving objects:  82% (607/740)   \rReceiving objects:  83% (615/740)   \rReceiving objects:  84% (622/740)   \rReceiving objects:  85% (629/740)   \rReceiving objects:  86% (637/740)   \rReceiving objects:  87% (644/740)   \rReceiving objects:  88% (652/740)   \rReceiving objects:  89% (659/740)   \rReceiving objects:  90% (666/740)   \rReceiving objects:  91% (674/740)   \rReceiving objects:  92% (681/740)   \rReceiving objects:  93% (689/740)   \rReceiving objects:  94% (696/740)   \rReceiving objects:  95% (703/740)   \rReceiving objects:  96% (711/740)   \rremote: Total 740 (delta 12), reused 0 (delta 0), pack-reused 696\u001b[K\n",
            "Receiving objects:  97% (718/740)   \rReceiving objects:  98% (726/740)   \rReceiving objects:  99% (733/740)   \rReceiving objects: 100% (740/740)   \rReceiving objects: 100% (740/740), 3.28 MiB | 27.53 MiB/s, done.\n",
            "Resolving deltas:   0% (0/310)   \rResolving deltas:   1% (5/310)   \rResolving deltas:   2% (7/310)   \rResolving deltas:   5% (17/310)   \rResolving deltas:   8% (27/310)   \rResolving deltas:  20% (62/310)   \rResolving deltas:  21% (66/310)   \rResolving deltas:  24% (77/310)   \rResolving deltas:  25% (79/310)   \rResolving deltas:  29% (92/310)   \rResolving deltas:  30% (95/310)   \rResolving deltas:  37% (115/310)   \rResolving deltas:  38% (120/310)   \rResolving deltas:  40% (125/310)   \rResolving deltas:  44% (138/310)   \rResolving deltas:  45% (142/310)   \rResolving deltas:  67% (210/310)   \rResolving deltas:  68% (213/310)   \rResolving deltas:  69% (215/310)   \rResolving deltas:  70% (219/310)   \rResolving deltas:  71% (221/310)   \rResolving deltas:  73% (227/310)   \rResolving deltas:  74% (230/310)   \rResolving deltas:  75% (233/310)   \rResolving deltas:  76% (236/310)   \rResolving deltas:  77% (239/310)   \rResolving deltas:  78% (243/310)   \rResolving deltas:  79% (247/310)   \rResolving deltas:  80% (251/310)   \rResolving deltas:  81% (252/310)   \rResolving deltas:  86% (267/310)   \rResolving deltas:  87% (272/310)   \rResolving deltas:  88% (275/310)   \rResolving deltas:  89% (276/310)   \rResolving deltas:  90% (282/310)   \rResolving deltas:  91% (283/310)   \rResolving deltas:  92% (287/310)   \rResolving deltas:  93% (289/310)   \rResolving deltas:  94% (292/310)   \rResolving deltas:  95% (295/310)   \rResolving deltas:  98% (305/310)   \rResolving deltas:  99% (309/310)   \rResolving deltas: 100% (310/310)   \rResolving deltas: 100% (310/310), done.\n"
          ],
          "name": "stdout"
        }
      ]
    },
    {
      "cell_type": "markdown",
      "metadata": {
        "id": "f8MMHj-HomG8",
        "colab_type": "text"
      },
      "source": [
        "## **Chapter 8.2 Schiltuis Steady-State Method**\n",
        "\n",
        "* The application of **material balance equations** to calculate: **aquifer influx amount** or **water encroachment** (`We`) in unit STB\n",
        "* **Plot of aquifer influx rate `We_rate` vs. pressure change `delta_pressure`** to calculate: **aquifer influx constant** (`k'`) in unit RB/D-psi"
      ]
    },
    {
      "cell_type": "markdown",
      "metadata": {
        "id": "xhoT_Xh3wkAR",
        "colab_type": "text"
      },
      "source": [
        "### Functions"
      ]
    },
    {
      "cell_type": "code",
      "metadata": {
        "id": "xNvKyCL9t9Nd",
        "colab_type": "code",
        "colab": {}
      },
      "source": [
        "def influx_matbalance_undersaturated(pressure, Bw, Wp, Np, Bo, Nfoi, cf, cw, swi, Boi, delta_time):\n",
        "  \"Eq 8.3\"\n",
        "  # in case of undersaturated (above bubblepoint), Rp = Rs = Rsi, Gfgi = Bgi = Eg = 0\n",
        "  # pressure and Bo are pressure and oil FVF data over time (so, it must be in ARRAY)\n",
        "  # Bw: water FVF (RB/STB)\n",
        "  # Wp: cumulative water production (STB), in ARRAY\n",
        "  # Np: cumulative oil production (STB), in ARRAY\n",
        "  # Bo: oil FVF\n",
        "  # Nfoi, Gfgi: original oil, gas, in place (cubic ft), from volumetrics\n",
        "  # cf, cw: rock, water compressibility (psi^-1)\n",
        "  # swi: initial water saturation\n",
        "  # Boi, Bgi: initial oil, gas FVF \n",
        "\n",
        "  F = Np * Bo\n",
        "  Eo = Bo - Boi\n",
        "  delta_time = delta_time\n",
        "  delta_pressure = pressure - pressure[0]\n",
        "  delta_pressure = np.abs(delta_pressure)\n",
        "\n",
        "  # Efw = ((4E-06 + (3E-06 * 0.48)) / (1 - 0.48)) * delta_pressure\n",
        "  Efw = ((cf + (cw * swi)) / (1 - swi)) * delta_pressure\n",
        "\n",
        "  We = (Bw * Wp) + F - (Nfoi * Eo) - ((Nfoi * Boi) * Efw)\n",
        "\n",
        "  delta_We = [j-i for i, j in zip(We[:-1], We[1:])]\n",
        "  delta_We = np.append([0], delta_We)\n",
        "  We_rate = delta_We / delta_time\n",
        "\n",
        "  return(delta_pressure, Efw, Eo, F, We, We_rate)\n",
        "\n",
        "def influx_rate_schiltuis_general(F_rate, Bw, Wp_rate):\n",
        "  \"Eq 8.4\"\n",
        "  # F_rate: reservoir voidage rate\n",
        "  # Bw: water FVF\n",
        "  # Wp_rate: water production rate\n",
        "  We_rate = F_rate + (Bw * Wp_rate)\n",
        "  return(We_rate)\n",
        "\n",
        "def influx_rate_schiltuis_nonvolatile(Bw, Wp_rate, Bo, Rs, Bg, Np_rate, Gp_rate):\n",
        "  \"Eq 8.5\"\n",
        "  # Bo, Bg: oil, gas FVF\n",
        "  # Rs: solution gas-oil ratio (scf/STB)\n",
        "  # Np_rate, Gp_rate: oil, gas production rate\n",
        "  We_rate = (Bw * Wp_rate) + ((Bo - (Rs * Bg)) * Np_rate) + (Bg * Gp_rate)\n",
        "  return(We_rate)\n",
        "\n",
        "def influx_rate_schiltuis_undersaturated(Bw, Wp_rate, Bo, Np_rate):\n",
        "  \"Eq 8.6\"\n",
        "  # above bubblepoint pressure, P_bubble\n",
        "  We_rate = (Bo * Np_rate) + (Bw * Wp_rate)\n",
        "  return(We_rate)"
      ],
      "execution_count": 0,
      "outputs": []
    },
    {
      "cell_type": "markdown",
      "metadata": {
        "id": "Sd67ogZ-oyDV",
        "colab_type": "text"
      },
      "source": [
        "### Example 8.1 Determination of Schiltuis Aquifer Influx Constant at Constant Pressure"
      ]
    },
    {
      "cell_type": "code",
      "metadata": {
        "id": "O_WxfHjCo_ft",
        "colab_type": "code",
        "outputId": "37a3bade-c5ae-4b57-b908-1e555d93bc9a",
        "colab": {
          "base_uri": "https://localhost:8080/",
          "height": 50
        }
      },
      "source": [
        "\"Task. calculate aquifer influx constant (k')\"\n",
        "\n",
        "# known: pressure maintained above bubblepoint pressure\n",
        "pi = 3200 # in psia\n",
        "p_current = 2850 # current pressure, in psia\n",
        "Np_rate = 5000 # oil production rate, in STB/d\n",
        "Wp_rate = 1000 # water production rate, in STB/d\n",
        "Bo = 1.45 # oil FVF, in RB/STB\n",
        "Bw = 1.02 # water FVF, in RB/STB\n",
        "\n",
        "# calculate aquifer influx rate (We_rate or dWe/dt)\n",
        "We_rate = influx_rate_schiltuis_undersaturated(Bw, Wp_rate, Bo, Np_rate)\n",
        "print(\"Schiltuis steady-state aquifer influx RATE above bubblepoint pressure:\", We_rate, \"RB/d\")\n",
        "\n",
        "# calculate k' from Eq 8.1\n",
        "k_aqui = We_rate / (pi - p_current)\n",
        "print(\"Schiltuis steady-state aquifer influx CONSTANT above bubblepoint pressure:\", k_aqui, \"RB/(D-psi)\")"
      ],
      "execution_count": 0,
      "outputs": [
        {
          "output_type": "stream",
          "text": [
            "Schiltuis steady-state aquifer influx RATE above bubblepoint pressure: 8270.0 RB/d\n",
            "Schiltuis steady-state aquifer influx CONSTANT above bubblepoint pressure: 23.62857142857143 RB/(D-psi)\n"
          ],
          "name": "stdout"
        }
      ]
    },
    {
      "cell_type": "markdown",
      "metadata": {
        "id": "JBa3-SvBhOej",
        "colab_type": "text"
      },
      "source": [
        "### Example 8.2 Determination of Schiltuis Aquifer Influx Constant for Moonie Field"
      ]
    },
    {
      "cell_type": "code",
      "metadata": {
        "id": "G-uXjcCbhbpp",
        "colab_type": "code",
        "outputId": "0d02cf07-22da-4432-d21d-43340a547fde",
        "colab": {
          "base_uri": "https://localhost:8080/",
          "height": 343
        }
      },
      "source": [
        "\"Task. calculate k' (aquifer-influx constant)\"\n",
        "\n",
        "# known\n",
        "P_bubble = 737 # psia\n",
        "pi = 2532 # psia\n",
        "temp = 156 # in F\n",
        "# Bw = 1.02 # no information in the book, so assume similar to Problem 8.1, in RB/STB\n",
        "Nfoi = 48.75 # in MMSTB (million STB)\n",
        "Boi = 1.078 # RB/STB\n",
        "cf = 4E-06 # in psi^-1\n",
        "cw = 3E-06 # in psi^-1\n",
        "swi = 0.48\n",
        "\n",
        "# conversion\n",
        "Nfoi = Nfoi * 1E+06 # convert from MMSTB to STB\n",
        "\n",
        "\"because pi > P_bubble, reservoir is undersaturated (above bubblepoint)\"\n",
        "\n",
        "# no data on Bw, so Bw will be assumed constant: 1.02 RB/STB\n",
        "Bw = 1.02\n",
        "\n",
        "# load data and review datetime format\n",
        "data2 = pd.read_csv('/content/reservoir-engineering/Unit 8 Aquifer Influx/data/Table 8.3-Production Data Moonie Field Example 8.2.csv')\n",
        "data2"
      ],
      "execution_count": 0,
      "outputs": [
        {
          "output_type": "execute_result",
          "data": {
            "text/html": [
              "<div>\n",
              "<style scoped>\n",
              "    .dataframe tbody tr th:only-of-type {\n",
              "        vertical-align: middle;\n",
              "    }\n",
              "\n",
              "    .dataframe tbody tr th {\n",
              "        vertical-align: top;\n",
              "    }\n",
              "\n",
              "    .dataframe thead th {\n",
              "        text-align: right;\n",
              "    }\n",
              "</style>\n",
              "<table border=\"1\" class=\"dataframe\">\n",
              "  <thead>\n",
              "    <tr style=\"text-align: right;\">\n",
              "      <th></th>\n",
              "      <th>t</th>\n",
              "      <th>p</th>\n",
              "      <th>Np</th>\n",
              "      <th>Gp</th>\n",
              "      <th>Wp</th>\n",
              "      <th>Bo</th>\n",
              "    </tr>\n",
              "  </thead>\n",
              "  <tbody>\n",
              "    <tr>\n",
              "      <th>0</th>\n",
              "      <td>01 January 1964</td>\n",
              "      <td>2532</td>\n",
              "      <td>0</td>\n",
              "      <td>0.000000e+00</td>\n",
              "      <td>0</td>\n",
              "      <td>1.07800</td>\n",
              "    </tr>\n",
              "    <tr>\n",
              "      <th>1</th>\n",
              "      <td>01 October 1964</td>\n",
              "      <td>2503</td>\n",
              "      <td>1107012</td>\n",
              "      <td>1.240000e+08</td>\n",
              "      <td>27400</td>\n",
              "      <td>1.07826</td>\n",
              "    </tr>\n",
              "    <tr>\n",
              "      <th>2</th>\n",
              "      <td>01 January 1965</td>\n",
              "      <td>2496</td>\n",
              "      <td>1574736</td>\n",
              "      <td>1.760000e+08</td>\n",
              "      <td>55000</td>\n",
              "      <td>1.07832</td>\n",
              "    </tr>\n",
              "    <tr>\n",
              "      <th>3</th>\n",
              "      <td>01 April 1965</td>\n",
              "      <td>2485</td>\n",
              "      <td>2157206</td>\n",
              "      <td>2.420000e+08</td>\n",
              "      <td>109000</td>\n",
              "      <td>1.07842</td>\n",
              "    </tr>\n",
              "    <tr>\n",
              "      <th>4</th>\n",
              "      <td>01 September 1965</td>\n",
              "      <td>2476</td>\n",
              "      <td>3268489</td>\n",
              "      <td>3.660000e+08</td>\n",
              "      <td>277300</td>\n",
              "      <td>1.07850</td>\n",
              "    </tr>\n",
              "    <tr>\n",
              "      <th>5</th>\n",
              "      <td>01 April 1966</td>\n",
              "      <td>2471</td>\n",
              "      <td>5007092</td>\n",
              "      <td>5.610000e+08</td>\n",
              "      <td>495450</td>\n",
              "      <td>1.07854</td>\n",
              "    </tr>\n",
              "    <tr>\n",
              "      <th>6</th>\n",
              "      <td>01 April 1967</td>\n",
              "      <td>2465</td>\n",
              "      <td>7739388</td>\n",
              "      <td>8.670000e+08</td>\n",
              "      <td>1514500</td>\n",
              "      <td>1.07860</td>\n",
              "    </tr>\n",
              "    <tr>\n",
              "      <th>7</th>\n",
              "      <td>01 June 1977</td>\n",
              "      <td>2442</td>\n",
              "      <td>18311694</td>\n",
              "      <td>2.050000e+09</td>\n",
              "      <td>39123000</td>\n",
              "      <td>1.07880</td>\n",
              "    </tr>\n",
              "    <tr>\n",
              "      <th>8</th>\n",
              "      <td>01 June 1981</td>\n",
              "      <td>2439</td>\n",
              "      <td>19657804</td>\n",
              "      <td>2.200000e+09</td>\n",
              "      <td>57345000</td>\n",
              "      <td>1.07883</td>\n",
              "    </tr>\n",
              "    <tr>\n",
              "      <th>9</th>\n",
              "      <td>01 July 1985</td>\n",
              "      <td>2430</td>\n",
              "      <td>20657249</td>\n",
              "      <td>2.310000e+09</td>\n",
              "      <td>78372000</td>\n",
              "      <td>1.07891</td>\n",
              "    </tr>\n",
              "  </tbody>\n",
              "</table>\n",
              "</div>"
            ],
            "text/plain": [
              "                   t     p        Np            Gp        Wp       Bo\n",
              "0    01 January 1964  2532         0  0.000000e+00         0  1.07800\n",
              "1    01 October 1964  2503   1107012  1.240000e+08     27400  1.07826\n",
              "2    01 January 1965  2496   1574736  1.760000e+08     55000  1.07832\n",
              "3      01 April 1965  2485   2157206  2.420000e+08    109000  1.07842\n",
              "4  01 September 1965  2476   3268489  3.660000e+08    277300  1.07850\n",
              "5      01 April 1966  2471   5007092  5.610000e+08    495450  1.07854\n",
              "6      01 April 1967  2465   7739388  8.670000e+08   1514500  1.07860\n",
              "7       01 June 1977  2442  18311694  2.050000e+09  39123000  1.07880\n",
              "8       01 June 1981  2439  19657804  2.200000e+09  57345000  1.07883\n",
              "9       01 July 1985  2430  20657249  2.310000e+09  78372000  1.07891"
            ]
          },
          "metadata": {
            "tags": []
          },
          "execution_count": 101
        }
      ]
    },
    {
      "cell_type": "code",
      "metadata": {
        "id": "jJsvizLN9iYp",
        "colab_type": "code",
        "outputId": "5b15d5aa-598b-4d05-f5d0-b9c4c3cb4f44",
        "colab": {
          "base_uri": "https://localhost:8080/",
          "height": 639
        }
      },
      "source": [
        "\"Converting to Panda datetime\"\n",
        "\n",
        "# time data in format: 01 January 1964\n",
        "\n",
        "data2['t'] =  pd.to_datetime(data2['t'], format='%d %B %Y') # format check web: https://strftime.org/\n",
        "data2 # already converted to YYYY-MM-DD\n",
        "\n",
        "\"Subtracting datetimes to get time differences (how many days) IN INTEGER\"\n",
        "\n",
        "diff = [j-i for i, j in zip(data2.t[:-1], data2.t[1:])]\n",
        "diff = np.array(diff)\n",
        "\n",
        "# convert datetime format to integer\n",
        "diffr_arr = []\n",
        "for k in range(len(diff)):\n",
        "  diffr = diff[k] / np.timedelta64(1,'D')\n",
        "  diffr_arr.append(float(diffr))\n",
        "\n",
        "# append 0 to the first index of numpy\n",
        "diffr_arr = np.append([0], diffr_arr) # now diff has same dimension with time data (a)\n",
        "\n",
        "\"Calculate We\"\n",
        "\n",
        "pressure = np.array(data2.p)\n",
        "Np = np.array(data2.Np)\n",
        "Wp = np.array(data2.Wp)\n",
        "Bo = np.array(data2.Bo)\n",
        "\n",
        "\"Material Balance\"\n",
        "\n",
        "# call function\n",
        "delta_pressure, Efw, Eo, F, We_schiltuis, We_rate = influx_matbalance_undersaturated(pressure, Bw, Wp, Np, Bo, Nfoi, cf, cw, swi, Boi, diffr_arr)\n",
        "\n",
        "# plot We_rate vs delta_pressure\n",
        "plt.plot(delta_pressure, We_rate, '.')\n",
        "plt.xlabel('delta_pressure (psi)'); plt.ylabel('We_rate (RB/D)')\n",
        "plt.title('Schiltuis Aquifer Influx Plot of Moonie Field')\n",
        "\n",
        "# result in table\n",
        "schiltuis = pd.DataFrame({\"Date\": data2.t, \"delta_pressure(psi)\": delta_pressure, \"Efw\": Efw, \"Eo(RB/STB)\": Eo, \"F(res bbl)\": F, \"We(res bbl)\": We_schiltuis, \"We_rate(RB/D)\": We_rate})\n",
        "schiltuis = schiltuis.fillna(0) # replace NaN with zero\n",
        "schiltuis"
      ],
      "execution_count": 0,
      "outputs": [
        {
          "output_type": "stream",
          "text": [
            "/usr/local/lib/python3.6/dist-packages/ipykernel_launcher.py:27: RuntimeWarning: invalid value encountered in true_divide\n"
          ],
          "name": "stderr"
        },
        {
          "output_type": "execute_result",
          "data": {
            "text/html": [
              "<div>\n",
              "<style scoped>\n",
              "    .dataframe tbody tr th:only-of-type {\n",
              "        vertical-align: middle;\n",
              "    }\n",
              "\n",
              "    .dataframe tbody tr th {\n",
              "        vertical-align: top;\n",
              "    }\n",
              "\n",
              "    .dataframe thead th {\n",
              "        text-align: right;\n",
              "    }\n",
              "</style>\n",
              "<table border=\"1\" class=\"dataframe\">\n",
              "  <thead>\n",
              "    <tr style=\"text-align: right;\">\n",
              "      <th></th>\n",
              "      <th>Date</th>\n",
              "      <th>delta_pressure(psi)</th>\n",
              "      <th>Efw</th>\n",
              "      <th>Eo(RB/STB)</th>\n",
              "      <th>F(res bbl)</th>\n",
              "      <th>We(res bbl)</th>\n",
              "      <th>We_rate(RB/D)</th>\n",
              "    </tr>\n",
              "  </thead>\n",
              "  <tbody>\n",
              "    <tr>\n",
              "      <th>0</th>\n",
              "      <td>1964-01-01</td>\n",
              "      <td>0</td>\n",
              "      <td>0.000000</td>\n",
              "      <td>0.00000</td>\n",
              "      <td>0.000000e+00</td>\n",
              "      <td>0.000000e+00</td>\n",
              "      <td>0.000000</td>\n",
              "    </tr>\n",
              "    <tr>\n",
              "      <th>1</th>\n",
              "      <td>1964-10-01</td>\n",
              "      <td>29</td>\n",
              "      <td>0.000303</td>\n",
              "      <td>0.00026</td>\n",
              "      <td>1.193647e+06</td>\n",
              "      <td>1.192976e+06</td>\n",
              "      <td>4353.927515</td>\n",
              "    </tr>\n",
              "    <tr>\n",
              "      <th>2</th>\n",
              "      <td>1965-01-01</td>\n",
              "      <td>36</td>\n",
              "      <td>0.000377</td>\n",
              "      <td>0.00032</td>\n",
              "      <td>1.698069e+06</td>\n",
              "      <td>1.718777e+06</td>\n",
              "      <td>5715.229396</td>\n",
              "    </tr>\n",
              "    <tr>\n",
              "      <th>3</th>\n",
              "      <td>1965-04-01</td>\n",
              "      <td>47</td>\n",
              "      <td>0.000492</td>\n",
              "      <td>0.00042</td>\n",
              "      <td>2.326374e+06</td>\n",
              "      <td>2.391239e+06</td>\n",
              "      <td>7471.802122</td>\n",
              "    </tr>\n",
              "    <tr>\n",
              "      <th>4</th>\n",
              "      <td>1965-09-01</td>\n",
              "      <td>56</td>\n",
              "      <td>0.000586</td>\n",
              "      <td>0.00050</td>\n",
              "      <td>3.525065e+06</td>\n",
              "      <td>3.752749e+06</td>\n",
              "      <td>8898.753412</td>\n",
              "    </tr>\n",
              "    <tr>\n",
              "      <th>5</th>\n",
              "      <td>1966-04-01</td>\n",
              "      <td>61</td>\n",
              "      <td>0.000638</td>\n",
              "      <td>0.00054</td>\n",
              "      <td>5.400349e+06</td>\n",
              "      <td>5.845846e+06</td>\n",
              "      <td>9873.102449</td>\n",
              "    </tr>\n",
              "    <tr>\n",
              "      <th>6</th>\n",
              "      <td>1967-04-01</td>\n",
              "      <td>67</td>\n",
              "      <td>0.000701</td>\n",
              "      <td>0.00060</td>\n",
              "      <td>8.347704e+06</td>\n",
              "      <td>9.826409e+06</td>\n",
              "      <td>10905.649893</td>\n",
              "    </tr>\n",
              "    <tr>\n",
              "      <th>7</th>\n",
              "      <td>1977-06-01</td>\n",
              "      <td>90</td>\n",
              "      <td>0.000942</td>\n",
              "      <td>0.00080</td>\n",
              "      <td>1.975466e+07</td>\n",
              "      <td>5.957164e+07</td>\n",
              "      <td>13393.975942</td>\n",
              "    </tr>\n",
              "    <tr>\n",
              "      <th>8</th>\n",
              "      <td>1981-06-01</td>\n",
              "      <td>93</td>\n",
              "      <td>0.000973</td>\n",
              "      <td>0.00083</td>\n",
              "      <td>2.120743e+07</td>\n",
              "      <td>7.960774e+07</td>\n",
              "      <td>13713.963971</td>\n",
              "    </tr>\n",
              "    <tr>\n",
              "      <th>9</th>\n",
              "      <td>1985-07-01</td>\n",
              "      <td>102</td>\n",
              "      <td>0.001067</td>\n",
              "      <td>0.00091</td>\n",
              "      <td>2.228731e+07</td>\n",
              "      <td>1.021263e+08</td>\n",
              "      <td>15103.001884</td>\n",
              "    </tr>\n",
              "  </tbody>\n",
              "</table>\n",
              "</div>"
            ],
            "text/plain": [
              "        Date  delta_pressure(psi)  ...   We(res bbl)  We_rate(RB/D)\n",
              "0 1964-01-01                    0  ...  0.000000e+00       0.000000\n",
              "1 1964-10-01                   29  ...  1.192976e+06    4353.927515\n",
              "2 1965-01-01                   36  ...  1.718777e+06    5715.229396\n",
              "3 1965-04-01                   47  ...  2.391239e+06    7471.802122\n",
              "4 1965-09-01                   56  ...  3.752749e+06    8898.753412\n",
              "5 1966-04-01                   61  ...  5.845846e+06    9873.102449\n",
              "6 1967-04-01                   67  ...  9.826409e+06   10905.649893\n",
              "7 1977-06-01                   90  ...  5.957164e+07   13393.975942\n",
              "8 1981-06-01                   93  ...  7.960774e+07   13713.963971\n",
              "9 1985-07-01                  102  ...  1.021263e+08   15103.001884\n",
              "\n",
              "[10 rows x 7 columns]"
            ]
          },
          "metadata": {
            "tags": []
          },
          "execution_count": 102
        },
        {
          "output_type": "display_data",
          "data": {
            "image/png": "[encoded data removed]",
            "text/plain": [
              "<Figure size 432x288 with 1 Axes>"
            ]
          },
          "metadata": {
            "tags": []
          }
        }
      ]
    },
    {
      "cell_type": "code",
      "metadata": {
        "id": "e-3noBXTon5-",
        "colab_type": "code",
        "outputId": "f1993c3f-0ba5-4c91-97b9-b6fb3aae0e6e",
        "colab": {
          "base_uri": "https://localhost:8080/",
          "height": 330
        }
      },
      "source": [
        "\"Regression of Schiltuis Plot\"\n",
        "\n",
        "# import regression function from Unit 7 function folder\n",
        "import sys, os \n",
        "sys.path.append('/content/reservoir-engineering/Unit 7 Introduction to Well-Test Analysis/functions')\n",
        "\n",
        "from regression import regression\n",
        "\n",
        "x = np.array(schiltuis.iloc[:, 1]) # delta_pressure\n",
        "y = np.array(schiltuis.iloc[:, 6]) # We_rate\n",
        "\n",
        "c, m = regression(x, y)\n",
        "print(\"Aquifer influx constant from slope of Schiltuis Plot:\", m, \"RB/(D-psi)\")\n",
        "\n",
        "# plot regression\n",
        "\n",
        "y_reg = m * x + c\n",
        "\n",
        "p1 = plt.plot(delta_pressure, We_rate, '.')\n",
        "p2 = plt.plot(x, y_reg)\n",
        "plt.xlabel('delta_pressure (psi)'); plt.ylabel('We_rate (RB/D)')\n",
        "plt.title('Schiltuis Aquifer Influx Plot of Moonie Field')"
      ],
      "execution_count": 0,
      "outputs": [
        {
          "output_type": "stream",
          "text": [
            "Aquifer influx constant from slope of Schiltuis Plot: 147.42917107467179 RB/(D-psi)\n"
          ],
          "name": "stdout"
        },
        {
          "output_type": "execute_result",
          "data": {
            "text/plain": [
              "Text(0.5, 1.0, 'Schiltuis Aquifer Influx Plot of Moonie Field')"
            ]
          },
          "metadata": {
            "tags": []
          },
          "execution_count": 8
        },
        {
          "output_type": "display_data",
          "data": {
            "image/png": "[encoded data removed]",
            "text/plain": [
              "<Figure size 432x288 with 1 Axes>"
            ]
          },
          "metadata": {
            "tags": []
          }
        }
      ]
    },
    {
      "cell_type": "markdown",
      "metadata": {
        "id": "EKyVMY5RwQJ0",
        "colab_type": "text"
      },
      "source": [
        "## **Chapter 8.3 Van Everdingen-Hurst (VEH) Unsteady-State Method**"
      ]
    },
    {
      "cell_type": "markdown",
      "metadata": {
        "id": "F1uRozVQAukS",
        "colab_type": "text"
      },
      "source": [
        "**NOTE**: In previous VEH method, `B'` is calculated from **reservoir bulk volume** and **reservoir thickness**, assuming cyclindical reservoir, leading to **underestimated result of aquifer influx `We`**. Here, in material balance, `B'` is calculated by **material balance plots**.### Example 8.3 Aquifer Influx using VEH Unsteady-State Method\n",
        "\n",
        "Data similar to Problem 8.2"
      ]
    },
    {
      "cell_type": "code",
      "metadata": {
        "id": "4Jbm-7ybBINm",
        "colab_type": "code",
        "outputId": "6db92a7d-0d3a-41a1-8e84-bf83d0e51540",
        "colab": {
          "base_uri": "https://localhost:8080/",
          "height": 343
        }
      },
      "source": [
        "\"Task. calculate aquifer influx vs time using VEH method\"\n",
        "\n",
        "# known \n",
        "pi = 2532 # psia\n",
        "temp = 156 # reservoir temperature, F\n",
        "P_bubble = 737 # psia\n",
        "Nfoi = 48.75 # in MMSTB (million STB)\n",
        "Rsi = 112 # initial solution gas-oil ratio, scf/STB\n",
        "Boi = 1.078 # RB/STB\n",
        "Bob = 1.094 # oil FVF at bubblepoint, RB/STB\n",
        "Bw = 1.02 # water FVF, no information in the book, so assume to be constant, similar to Problem 8.1, in RB/STB\n",
        "swi = 0.48\n",
        "cf = 4E-06 # in psi^-1\n",
        "cw = 3E-06 # in psi^-1\n",
        "poro = 0.177\n",
        "perm = 432 # permeability, md\n",
        "h = 31.8 # reservoir thicknes, ft\n",
        "vbulk = 73590 # reservoir bulk volume, acre ft\n",
        "mu_w = 0.38 # water viscosity, cp\n",
        "mu_oil_initial = 1.02 # initial oil viscosity, cp\n",
        "date_initial = '1964-01-01' # initial date of production\n",
        "\n",
        "# conversion\n",
        "Nfoi = Nfoi * 1E+06 # convert from MMSTB to STB\n",
        "vbulk = vbulk * 43559.9 # convert from acre-ft to cubic ft\n",
        "\n",
        "# data used is similar to Problem 8.2\n",
        "data3 = pd.read_csv('/content/reservoir-engineering/Unit 8 Aquifer Influx/data/Table 8.3-Production Data Moonie Field Example 8.2.csv')\n",
        "\n",
        "# calculate reservoir area size\n",
        "area = vbulk / h\n",
        "r_R = np.sqrt(area / np.pi) # radius of reservoir, assume reservoir shape is cylindrical\n",
        "\n",
        "ct = cf + cw # total compressibility, in aquifer sw=1\n",
        "theta = 360 # full circle cylindrical\n",
        "B_star = 1.119 * poro * ct * h *(r_R**2) * (theta / 360)\n",
        "\n",
        "\"calculate delta_pressure_j and visualize in table similar to Table 8.5\"\n",
        "\n",
        "# time data in format: 01 January 1964, convert to PANDA datetime format\n",
        "\n",
        "data3['t'] =  pd.to_datetime(data3['t'], format='%d %B %Y') # format check web: https://strftime.org/\n",
        "\n",
        "# Subtracting datetimes to get time differences from initial production date to date[i] (how many days) IN INTEGER\"\n",
        "\n",
        "diff = data3.t - data3.t[0]\n",
        "\n",
        "# convert datetime format to integer\n",
        "diffr_arr = []\n",
        "for k in range(len(diff)):\n",
        "  diffr = diff[k] / np.timedelta64(1,'D')\n",
        "  diffr_arr.append(float(diffr))\n",
        "\n",
        "# convert time difference from day to hour\n",
        "diffr_arr = np.array(diffr_arr) * 24\n",
        "\n",
        "# create j index for dataframe\n",
        "j_index = np.arange(0, (len(data3.t)), 1)\n",
        "\n",
        "# calculate delta_pj for each date\n",
        "# append an array consists of two initial pressures [pi, pi] (as dummy) to the pressure data\n",
        "p_dummy = np.append(np.array([pi, pi]), data3.p)\n",
        "# delta_p_j = p_(j) - p_(j-2)\n",
        "delta_p_j = [b-a for a, b in zip(p_dummy[:-2], p_dummy[2:])]\n",
        "delta_p_j = 0.5 * np.array(np.abs(delta_p_j))\n",
        "\n",
        "# construct Table 8.5\n",
        "pressure_drop_calc = pd.DataFrame({\"Date\": data3.t, \"j\": j_index, \"Time(hours)\": diffr_arr, \"Pressure(psia)\": data3.p, \"delta_p_j(psia)\": delta_p_j})\n",
        "pressure_drop_calc"
      ],
      "execution_count": 0,
      "outputs": [
        {
          "output_type": "execute_result",
          "data": {
            "text/html": [
              "<div>\n",
              "<style scoped>\n",
              "    .dataframe tbody tr th:only-of-type {\n",
              "        vertical-align: middle;\n",
              "    }\n",
              "\n",
              "    .dataframe tbody tr th {\n",
              "        vertical-align: top;\n",
              "    }\n",
              "\n",
              "    .dataframe thead th {\n",
              "        text-align: right;\n",
              "    }\n",
              "</style>\n",
              "<table border=\"1\" class=\"dataframe\">\n",
              "  <thead>\n",
              "    <tr style=\"text-align: right;\">\n",
              "      <th></th>\n",
              "      <th>Date</th>\n",
              "      <th>j</th>\n",
              "      <th>Time(hours)</th>\n",
              "      <th>Pressure(psia)</th>\n",
              "      <th>delta_p_j(psia)</th>\n",
              "    </tr>\n",
              "  </thead>\n",
              "  <tbody>\n",
              "    <tr>\n",
              "      <th>0</th>\n",
              "      <td>1964-01-01</td>\n",
              "      <td>0</td>\n",
              "      <td>0.0</td>\n",
              "      <td>2532</td>\n",
              "      <td>0.0</td>\n",
              "    </tr>\n",
              "    <tr>\n",
              "      <th>1</th>\n",
              "      <td>1964-10-01</td>\n",
              "      <td>1</td>\n",
              "      <td>6576.0</td>\n",
              "      <td>2503</td>\n",
              "      <td>14.5</td>\n",
              "    </tr>\n",
              "    <tr>\n",
              "      <th>2</th>\n",
              "      <td>1965-01-01</td>\n",
              "      <td>2</td>\n",
              "      <td>8784.0</td>\n",
              "      <td>2496</td>\n",
              "      <td>18.0</td>\n",
              "    </tr>\n",
              "    <tr>\n",
              "      <th>3</th>\n",
              "      <td>1965-04-01</td>\n",
              "      <td>3</td>\n",
              "      <td>10944.0</td>\n",
              "      <td>2485</td>\n",
              "      <td>9.0</td>\n",
              "    </tr>\n",
              "    <tr>\n",
              "      <th>4</th>\n",
              "      <td>1965-09-01</td>\n",
              "      <td>4</td>\n",
              "      <td>14616.0</td>\n",
              "      <td>2476</td>\n",
              "      <td>10.0</td>\n",
              "    </tr>\n",
              "    <tr>\n",
              "      <th>5</th>\n",
              "      <td>1966-04-01</td>\n",
              "      <td>5</td>\n",
              "      <td>19704.0</td>\n",
              "      <td>2471</td>\n",
              "      <td>7.0</td>\n",
              "    </tr>\n",
              "    <tr>\n",
              "      <th>6</th>\n",
              "      <td>1967-04-01</td>\n",
              "      <td>6</td>\n",
              "      <td>28464.0</td>\n",
              "      <td>2465</td>\n",
              "      <td>5.5</td>\n",
              "    </tr>\n",
              "    <tr>\n",
              "      <th>7</th>\n",
              "      <td>1977-06-01</td>\n",
              "      <td>7</td>\n",
              "      <td>117600.0</td>\n",
              "      <td>2442</td>\n",
              "      <td>14.5</td>\n",
              "    </tr>\n",
              "    <tr>\n",
              "      <th>8</th>\n",
              "      <td>1981-06-01</td>\n",
              "      <td>8</td>\n",
              "      <td>152664.0</td>\n",
              "      <td>2439</td>\n",
              "      <td>13.0</td>\n",
              "    </tr>\n",
              "    <tr>\n",
              "      <th>9</th>\n",
              "      <td>1985-07-01</td>\n",
              "      <td>9</td>\n",
              "      <td>188448.0</td>\n",
              "      <td>2430</td>\n",
              "      <td>6.0</td>\n",
              "    </tr>\n",
              "  </tbody>\n",
              "</table>\n",
              "</div>"
            ],
            "text/plain": [
              "        Date  j  Time(hours)  Pressure(psia)  delta_p_j(psia)\n",
              "0 1964-01-01  0          0.0            2532              0.0\n",
              "1 1964-10-01  1       6576.0            2503             14.5\n",
              "2 1965-01-01  2       8784.0            2496             18.0\n",
              "3 1965-04-01  3      10944.0            2485              9.0\n",
              "4 1965-09-01  4      14616.0            2476             10.0\n",
              "5 1966-04-01  5      19704.0            2471              7.0\n",
              "6 1967-04-01  6      28464.0            2465              5.5\n",
              "7 1977-06-01  7     117600.0            2442             14.5\n",
              "8 1981-06-01  8     152664.0            2439             13.0\n",
              "9 1985-07-01  9     188448.0            2430              6.0"
            ]
          },
          "metadata": {
            "tags": []
          },
          "execution_count": 9
        }
      ]
    },
    {
      "cell_type": "code",
      "metadata": {
        "id": "70Dugy9u1H0z",
        "colab_type": "code",
        "outputId": "4ff6efe7-3c26-455e-f16a-1f4613500e94",
        "colab": {
          "base_uri": "https://localhost:8080/",
          "height": 330
        }
      },
      "source": [
        "\"Full code to create Table 8.6\"\n",
        "\n",
        "time_array = np.array(pressure_drop_calc.iloc[:, 2]) # time\n",
        "\n",
        "j_array = np.arange(1, (len(time_array)+1), 1)\n",
        "\n",
        "delta_p_j = np.array(pressure_drop_calc.iloc[:, 4]) # delta_pj\n",
        "delta_p_j_array = delta_p_j[1:]\n",
        "\n",
        "array_j = []\n",
        "array_time = []\n",
        "array_delta_p_j = []\n",
        "array_time_repeat = []\n",
        "\n",
        "for i in range(len(time_array)):\n",
        "  new_j = j_array[:i]\n",
        "  new_time = time_array[:i]\n",
        "  new_delta_p_j = delta_p_j_array[:i]\n",
        "\n",
        "  array_j.append(new_j)\n",
        "  array_time.append(new_time)\n",
        "  array_delta_p_j.append(new_delta_p_j)\n",
        "\n",
        "  # make arrays of repeated times\n",
        "  new_time_repeat = np.repeat((time_array[i]), i)\n",
        "  array_time_repeat.append(new_time_repeat)\n",
        "\n",
        "\"To calculate delta_time, SUBTRACT arrr_time TO arrr_time_repeat\"\n",
        "\n",
        "delta_time = np.subtract(array_time_repeat, array_time) # numpy subtract array to array\n",
        "\n",
        "\"Calculate t_DR and W_eD\" \n",
        "\n",
        "t_DR_factor = (0.0002637 * perm) / (poro * mu_w * ct * (r_R**2))\n",
        "\n",
        "# e.g. we'd like to calculate both parameters at July 1985, like in the book page 81; time index = 9\n",
        "\n",
        "index = 9\n",
        "\n",
        "t_DR_arr = []\n",
        "W_eD_arr = []\n",
        "\n",
        "for i in range(len(delta_time[index])):\n",
        "  t_DR = t_DR_factor * (delta_time[index])[i]\n",
        "\n",
        "  \"calculate W_eD using Eq 6.36 and 6.37 for infinite reservoir (See: 6_examples_part2.ipynb)\"\n",
        "  if t_DR > 0.01 and t_DR <= 200:\n",
        "    # use Eq 6.36\n",
        "    W_eD = ((1.12838 * np.sqrt(t_DR)) + (1.19328 * t_DR) + (0.269872 * t_DR * np.sqrt(t_DR)) + (0.00855294 * (t_DR**2))) / (1 + (0.616599 * np.sqrt(t_DR) + (0.0413008 * t_DR)))\n",
        "  if t_DR > 200:\n",
        "    # use Eq 6.37\n",
        "    W_eD = ((2.02566 * t_DR) - 4.29881) / np.log(t_DR)\n",
        "    \n",
        "  W_eD_arr.append(float(W_eD))\n",
        "  t_DR_arr.append(float(t_DR))\n",
        "\n",
        "\"create into Table 8.6\"\n",
        "\n",
        "timestamp = np.array(pressure_drop_calc.iloc[:, 0][index])\n",
        "\n",
        "veh_parameters = pd.DataFrame({\"j\": array_j[index], \"delta_p_j(psi)\": array_delta_p_j[index], \"delta_time(hours)\": delta_time[index], \"t_DR\": t_DR_arr, \"W_eD\": W_eD_arr})\n",
        "\n",
        "print(\"Table 8.6-Calculated Times Associated with Pressure Drops at:\", timestamp)\n",
        "veh_parameters"
      ],
      "execution_count": 0,
      "outputs": [
        {
          "output_type": "stream",
          "text": [
            "Table 8.6-Calculated Times Associated with Pressure Drops at: 1985-07-01 00:00:00\n"
          ],
          "name": "stdout"
        },
        {
          "output_type": "execute_result",
          "data": {
            "text/html": [
              "<div>\n",
              "<style scoped>\n",
              "    .dataframe tbody tr th:only-of-type {\n",
              "        vertical-align: middle;\n",
              "    }\n",
              "\n",
              "    .dataframe tbody tr th {\n",
              "        vertical-align: top;\n",
              "    }\n",
              "\n",
              "    .dataframe thead th {\n",
              "        text-align: right;\n",
              "    }\n",
              "</style>\n",
              "<table border=\"1\" class=\"dataframe\">\n",
              "  <thead>\n",
              "    <tr style=\"text-align: right;\">\n",
              "      <th></th>\n",
              "      <th>j</th>\n",
              "      <th>delta_p_j(psi)</th>\n",
              "      <th>delta_time(hours)</th>\n",
              "      <th>t_DR</th>\n",
              "      <th>W_eD</th>\n",
              "    </tr>\n",
              "  </thead>\n",
              "  <tbody>\n",
              "    <tr>\n",
              "      <th>0</th>\n",
              "      <td>1</td>\n",
              "      <td>14.5</td>\n",
              "      <td>188448.0</td>\n",
              "      <td>1421.025338</td>\n",
              "      <td>395.944667</td>\n",
              "    </tr>\n",
              "    <tr>\n",
              "      <th>1</th>\n",
              "      <td>2</td>\n",
              "      <td>18.0</td>\n",
              "      <td>181872.0</td>\n",
              "      <td>1371.437852</td>\n",
              "      <td>383.986133</td>\n",
              "    </tr>\n",
              "    <tr>\n",
              "      <th>2</th>\n",
              "      <td>3</td>\n",
              "      <td>9.0</td>\n",
              "      <td>179664.0</td>\n",
              "      <td>1354.788039</td>\n",
              "      <td>379.959650</td>\n",
              "    </tr>\n",
              "    <tr>\n",
              "      <th>3</th>\n",
              "      <td>4</td>\n",
              "      <td>10.0</td>\n",
              "      <td>177504.0</td>\n",
              "      <td>1338.500179</td>\n",
              "      <td>376.015110</td>\n",
              "    </tr>\n",
              "    <tr>\n",
              "      <th>4</th>\n",
              "      <td>5</td>\n",
              "      <td>7.0</td>\n",
              "      <td>173832.0</td>\n",
              "      <td>1310.810816</td>\n",
              "      <td>369.296472</td>\n",
              "    </tr>\n",
              "    <tr>\n",
              "      <th>5</th>\n",
              "      <td>6</td>\n",
              "      <td>5.5</td>\n",
              "      <td>168744.0</td>\n",
              "      <td>1272.443856</td>\n",
              "      <td>359.959398</td>\n",
              "    </tr>\n",
              "    <tr>\n",
              "      <th>6</th>\n",
              "      <td>7</td>\n",
              "      <td>14.5</td>\n",
              "      <td>159984.0</td>\n",
              "      <td>1206.387533</td>\n",
              "      <td>343.805436</td>\n",
              "    </tr>\n",
              "    <tr>\n",
              "      <th>7</th>\n",
              "      <td>8</td>\n",
              "      <td>13.0</td>\n",
              "      <td>70848.0</td>\n",
              "      <td>534.241824</td>\n",
              "      <td>171.615900</td>\n",
              "    </tr>\n",
              "    <tr>\n",
              "      <th>8</th>\n",
              "      <td>9</td>\n",
              "      <td>6.0</td>\n",
              "      <td>35784.0</td>\n",
              "      <td>269.835555</td>\n",
              "      <td>96.876460</td>\n",
              "    </tr>\n",
              "  </tbody>\n",
              "</table>\n",
              "</div>"
            ],
            "text/plain": [
              "   j  delta_p_j(psi)  delta_time(hours)         t_DR        W_eD\n",
              "0  1            14.5           188448.0  1421.025338  395.944667\n",
              "1  2            18.0           181872.0  1371.437852  383.986133\n",
              "2  3             9.0           179664.0  1354.788039  379.959650\n",
              "3  4            10.0           177504.0  1338.500179  376.015110\n",
              "4  5             7.0           173832.0  1310.810816  369.296472\n",
              "5  6             5.5           168744.0  1272.443856  359.959398\n",
              "6  7            14.5           159984.0  1206.387533  343.805436\n",
              "7  8            13.0            70848.0   534.241824  171.615900\n",
              "8  9             6.0            35784.0   269.835555   96.876460"
            ]
          },
          "metadata": {
            "tags": []
          },
          "execution_count": 10
        }
      ]
    },
    {
      "cell_type": "code",
      "metadata": {
        "id": "LYg-0lIY5FaC",
        "colab_type": "code",
        "outputId": "33d37d41-6832-4e4f-a6f0-885525ca83ba",
        "colab": {
          "base_uri": "https://localhost:8080/",
          "height": 34
        }
      },
      "source": [
        "\"calculate We, Equation 8.7\"\n",
        "\n",
        "W_eD_multipy_delta_p_j = array_delta_p_j[index] * W_eD_arr\n",
        "sigma_We = np.sum(W_eD_multipy_delta_p_j)\n",
        "We_veh = B_star * sigma_We\n",
        "print(\"Aquifer influx amount at:\", timestamp, \"is:\", We_veh, \"res bbl\")"
      ],
      "execution_count": 0,
      "outputs": [
        {
          "output_type": "stream",
          "text": [
            "Aquifer influx amount at: 1985-07-01 00:00:00 is: 45545561.66428348 res bbl\n"
          ],
          "name": "stdout"
        }
      ]
    },
    {
      "cell_type": "code",
      "metadata": {
        "id": "9vFGEajv7ZoO",
        "colab_type": "code",
        "outputId": "d9cbb367-8d0a-41e0-b0b4-205fc7b4302f",
        "colab": {
          "base_uri": "https://localhost:8080/",
          "height": 185
        }
      },
      "source": [
        "\"iterate the process of calculating We for all times (October 1964 to July 1985)\"\n",
        "\n",
        "def calculate_parameter_VEH(index, t_DR_factor):\n",
        "  t_DR_arr = []\n",
        "  W_eD_arr = []\n",
        "\n",
        "  for i in range(len(delta_time[index])):\n",
        "    t_DR = t_DR_factor * (delta_time[index])[i]\n",
        "\n",
        "    \"calculate W_eD using Eq 6.36 and 6.37 for infinite reservoir (See: 6_examples_part2.ipynb)\"\n",
        "    if t_DR > 0.01 and t_DR <= 200:\n",
        "      # use Eq 6.36\n",
        "      W_eD = ((1.12838 * np.sqrt(t_DR)) + (1.19328 * t_DR) + (0.269872 * t_DR * np.sqrt(t_DR)) + (0.00855294 * (t_DR**2))) / (1 + (0.616599 * np.sqrt(t_DR) + (0.0413008 * t_DR)))\n",
        "    if t_DR > 200:\n",
        "      # use Eq 6.37\n",
        "      W_eD = ((2.02566 * t_DR) - 4.29881) / np.log(t_DR)\n",
        "      \n",
        "    W_eD_arr.append(float(W_eD))\n",
        "    t_DR_arr.append(float(t_DR))\n",
        "    \n",
        "  return(t_DR_arr, W_eD_arr)\n",
        "\n",
        "# numpy array from j index 0 (initial production) to 9; [0, 1, 2, 3, 4, 5, 6, 7, 8, 9]\n",
        "indextimes = np.arange(0,(len(j_index)), 1)\n",
        "\n",
        "We_arr = []\n",
        "\n",
        "for x in range(len(indextimes)): # range from j index 1 to 9\n",
        "\n",
        "  t_DR_arr, W_eD_arr = calculate_parameter_VEH(x, t_DR_factor) # call function \n",
        "\n",
        "  # calculate We, Equation 8.7\n",
        "\n",
        "  W_eD_multipy_delta_p_j = array_delta_p_j[x] * W_eD_arr\n",
        "  sigma_We = np.sum(W_eD_multipy_delta_p_j)\n",
        "  We_veh = B_star * sigma_We\n",
        "  We_arr.append(float(We_veh))\n",
        "\n",
        "  timestamp = np.array(pressure_drop_calc.iloc[:, 0][x])\n",
        "\n",
        "  print(\"Aquifer influx amount at:\", timestamp, \"is:\", We_veh, \"res bbl\")"
      ],
      "execution_count": 0,
      "outputs": [
        {
          "output_type": "stream",
          "text": [
            "Aquifer influx amount at: 1964-01-01 00:00:00 is: 0.0 res bbl\n",
            "Aquifer influx amount at: 1964-10-01 00:00:00 is: 506254.4946583441 res bbl\n",
            "Aquifer influx amount at: 1965-01-01 00:00:00 is: 909239.1242932233 res bbl\n",
            "Aquifer influx amount at: 1965-04-01 00:00:00 is: 1349294.2742815115 res bbl\n",
            "Aquifer influx amount at: 1965-09-01 00:00:00 is: 2199165.2967753867 res bbl\n",
            "Aquifer influx amount at: 1966-04-01 00:00:00 is: 3409326.3093490894 res bbl\n",
            "Aquifer influx amount at: 1967-04-01 00:00:00 is: 5487661.051901658 res bbl\n",
            "Aquifer influx amount at: 1977-06-01 00:00:00 is: 26765099.404743448 res bbl\n",
            "Aquifer influx amount at: 1981-06-01 00:00:00 is: 35956377.94908929 res bbl\n",
            "Aquifer influx amount at: 1985-07-01 00:00:00 is: 45545561.66428348 res bbl\n"
          ],
          "name": "stdout"
        }
      ]
    },
    {
      "cell_type": "code",
      "metadata": {
        "id": "vz-XgiowQc-8",
        "colab_type": "code",
        "outputId": "05d6d95a-cea2-496c-eb3e-0829ae7df0bf",
        "colab": {
          "base_uri": "https://localhost:8080/",
          "height": 360
        }
      },
      "source": [
        "\"create into Table 8.7\"\n",
        "\n",
        "print(\"Table 8.7-Calculated Aquifer Influx Over the Production Dates\")\n",
        "veh_final_result = pd.DataFrame({\"Date\": data3.t, \"Time(hours)\": diffr_arr, \"Pressure(psia)\": data3.p, \"delta_p_j(psia)\": delta_p_j, \"We(res bbl)\": We_arr})\n",
        "veh_final_result"
      ],
      "execution_count": 0,
      "outputs": [
        {
          "output_type": "stream",
          "text": [
            "Table 8.7-Calculated Aquifer Influx Over the Production Dates\n"
          ],
          "name": "stdout"
        },
        {
          "output_type": "execute_result",
          "data": {
            "text/html": [
              "<div>\n",
              "<style scoped>\n",
              "    .dataframe tbody tr th:only-of-type {\n",
              "        vertical-align: middle;\n",
              "    }\n",
              "\n",
              "    .dataframe tbody tr th {\n",
              "        vertical-align: top;\n",
              "    }\n",
              "\n",
              "    .dataframe thead th {\n",
              "        text-align: right;\n",
              "    }\n",
              "</style>\n",
              "<table border=\"1\" class=\"dataframe\">\n",
              "  <thead>\n",
              "    <tr style=\"text-align: right;\">\n",
              "      <th></th>\n",
              "      <th>Date</th>\n",
              "      <th>Time(hours)</th>\n",
              "      <th>Pressure(psia)</th>\n",
              "      <th>delta_p_j(psia)</th>\n",
              "      <th>We(res bbl)</th>\n",
              "    </tr>\n",
              "  </thead>\n",
              "  <tbody>\n",
              "    <tr>\n",
              "      <th>0</th>\n",
              "      <td>1964-01-01</td>\n",
              "      <td>0.0</td>\n",
              "      <td>2532</td>\n",
              "      <td>0.0</td>\n",
              "      <td>0.000000e+00</td>\n",
              "    </tr>\n",
              "    <tr>\n",
              "      <th>1</th>\n",
              "      <td>1964-10-01</td>\n",
              "      <td>6576.0</td>\n",
              "      <td>2503</td>\n",
              "      <td>14.5</td>\n",
              "      <td>5.062545e+05</td>\n",
              "    </tr>\n",
              "    <tr>\n",
              "      <th>2</th>\n",
              "      <td>1965-01-01</td>\n",
              "      <td>8784.0</td>\n",
              "      <td>2496</td>\n",
              "      <td>18.0</td>\n",
              "      <td>9.092391e+05</td>\n",
              "    </tr>\n",
              "    <tr>\n",
              "      <th>3</th>\n",
              "      <td>1965-04-01</td>\n",
              "      <td>10944.0</td>\n",
              "      <td>2485</td>\n",
              "      <td>9.0</td>\n",
              "      <td>1.349294e+06</td>\n",
              "    </tr>\n",
              "    <tr>\n",
              "      <th>4</th>\n",
              "      <td>1965-09-01</td>\n",
              "      <td>14616.0</td>\n",
              "      <td>2476</td>\n",
              "      <td>10.0</td>\n",
              "      <td>2.199165e+06</td>\n",
              "    </tr>\n",
              "    <tr>\n",
              "      <th>5</th>\n",
              "      <td>1966-04-01</td>\n",
              "      <td>19704.0</td>\n",
              "      <td>2471</td>\n",
              "      <td>7.0</td>\n",
              "      <td>3.409326e+06</td>\n",
              "    </tr>\n",
              "    <tr>\n",
              "      <th>6</th>\n",
              "      <td>1967-04-01</td>\n",
              "      <td>28464.0</td>\n",
              "      <td>2465</td>\n",
              "      <td>5.5</td>\n",
              "      <td>5.487661e+06</td>\n",
              "    </tr>\n",
              "    <tr>\n",
              "      <th>7</th>\n",
              "      <td>1977-06-01</td>\n",
              "      <td>117600.0</td>\n",
              "      <td>2442</td>\n",
              "      <td>14.5</td>\n",
              "      <td>2.676510e+07</td>\n",
              "    </tr>\n",
              "    <tr>\n",
              "      <th>8</th>\n",
              "      <td>1981-06-01</td>\n",
              "      <td>152664.0</td>\n",
              "      <td>2439</td>\n",
              "      <td>13.0</td>\n",
              "      <td>3.595638e+07</td>\n",
              "    </tr>\n",
              "    <tr>\n",
              "      <th>9</th>\n",
              "      <td>1985-07-01</td>\n",
              "      <td>188448.0</td>\n",
              "      <td>2430</td>\n",
              "      <td>6.0</td>\n",
              "      <td>4.554556e+07</td>\n",
              "    </tr>\n",
              "  </tbody>\n",
              "</table>\n",
              "</div>"
            ],
            "text/plain": [
              "        Date  Time(hours)  Pressure(psia)  delta_p_j(psia)   We(res bbl)\n",
              "0 1964-01-01          0.0            2532              0.0  0.000000e+00\n",
              "1 1964-10-01       6576.0            2503             14.5  5.062545e+05\n",
              "2 1965-01-01       8784.0            2496             18.0  9.092391e+05\n",
              "3 1965-04-01      10944.0            2485              9.0  1.349294e+06\n",
              "4 1965-09-01      14616.0            2476             10.0  2.199165e+06\n",
              "5 1966-04-01      19704.0            2471              7.0  3.409326e+06\n",
              "6 1967-04-01      28464.0            2465              5.5  5.487661e+06\n",
              "7 1977-06-01     117600.0            2442             14.5  2.676510e+07\n",
              "8 1981-06-01     152664.0            2439             13.0  3.595638e+07\n",
              "9 1985-07-01     188448.0            2430              6.0  4.554556e+07"
            ]
          },
          "metadata": {
            "tags": []
          },
          "execution_count": 13
        }
      ]
    },
    {
      "cell_type": "code",
      "metadata": {
        "id": "Pewa_vRBVggI",
        "colab_type": "code",
        "outputId": "2203c6ed-9dda-4314-9dd7-1021b08681e6",
        "colab": {
          "base_uri": "https://localhost:8080/",
          "height": 491
        }
      },
      "source": [
        "\"Compare We result of SCHILTUIS STEADY-STATE (Problem 8.2) to this method VEH UNSTEADY-STATE (Problem 8.3)\"\n",
        "# RUN FIRST codes in Problem 8.2\n",
        "We_veh = We_arr\n",
        "\n",
        "\"Create Fig 8.1\"\n",
        "\n",
        "from pandas.plotting import register_matplotlib_converters\n",
        "register_matplotlib_converters()\n",
        "\n",
        "# schiltuis plot\n",
        "plt.figure(figsize=(10, 7))\n",
        "p1 = plt.plot(data3.t, We_schiltuis, '.-')\n",
        "p2 = plt.plot(data3.t, We_veh, '.-')\n",
        "plt.legend((p1[0], p2[0]), ('Schiltuis Steady-State Method', 'Van Everdingen-Hurst Unsteady-State Method'))\n",
        "plt.title(\"Comparison of Aquifer Influx Result Using Schiltuis and VEH\", pad=20, size=15)\n",
        "plt.xlabel(\"Production (year)\"); plt.ylabel(\"Aquifer Influx Amount (res bbl)\")"
      ],
      "execution_count": 0,
      "outputs": [
        {
          "output_type": "execute_result",
          "data": {
            "text/plain": [
              "Text(0, 0.5, 'Aquifer Influx Amount (res bbl)')"
            ]
          },
          "metadata": {
            "tags": []
          },
          "execution_count": 14
        },
        {
          "output_type": "display_data",
          "data": {
            "image/png": "[encoded data removed]",
            "text/plain": [
              "<Figure size 720x504 with 1 Axes>"
            ]
          },
          "metadata": {
            "tags": []
          }
        }
      ]
    },
    {
      "cell_type": "markdown",
      "metadata": {
        "id": "QRSYI_cXX3wv",
        "colab_type": "text"
      },
      "source": [
        "Here, the result of **aquifer influx amount** `We` calculated using VEH is **too underestimated** compared to the Schilthuis Method, because `B_star` or `B'` is still **too small**. We can revise the `B'` by implementing the next method: **Material Balance**."
      ]
    },
    {
      "cell_type": "markdown",
      "metadata": {
        "id": "92PoeKNPx8kV",
        "colab_type": "text"
      },
      "source": [
        "## **Chapter 8.4 Determination of Aquifer Parameters by Material Balance**\n",
        "\n",
        "Purpose:\n",
        "* Calculate aquifer constant `B'` (or `B_star` in the code), unit: RB/psi\n",
        "* Estimate Original Oil in Place `Nfoi`, unit: STB\n",
        "\n",
        "**NOTE**: In previous VEH method, `B'` is calculated from **reservoir bulk volume** and **reservoir thickness**, assuming cyclindical reservoir, leading to **underestimated result of aquifer influx `We`**. Here, in material balance, `B'` is calculated by **material balance plots**.\n",
        "\n",
        "**Material Balance Equations in Different Reservoir Types**:\n",
        "\n",
        "* **Undersaturated Reservoirs**: `F + (Bw * Wp) = Nfoi * (Eo + (Boi * Efw)) + (B' * sigma(W_eD * delta_p_j))`\n",
        "* **Gas/Condensate Reservoirs**: `F + (Bw * Wp) = Gfgi * (Eg + (Bgi * Efw)) + (B' * sigma(W_eD * delta_p_j))`\n",
        "* **Saturated Reservoirs**: `F + (Bw * Wp) = (Nfoi * Eo) + ((Gfgi * Eg) + ((Nfoi * Boi) + (Gfgi * Bgi)) * Efw) + (B' * sigma(W_eD * delta_p_j))`"
      ]
    },
    {
      "cell_type": "markdown",
      "metadata": {
        "id": "crnSnOMB3ISg",
        "colab_type": "text"
      },
      "source": [
        "### Function"
      ]
    },
    {
      "cell_type": "code",
      "metadata": {
        "id": "CB3c-BMc3KHo",
        "colab_type": "code",
        "colab": {}
      },
      "source": [
        "def matbalance_plot_undersaturated(sigma_We, Eo, Efw, Boi, F, Bw, Wp):\n",
        "  \"determine the axis x and y for Material-Balance Plot 8.1 for Undersaturated Reservoir\"\n",
        "  \"calculate B' and Nfoi\"\n",
        "  # sigma_We: result of previous VEH method\n",
        "  axisx = sigma_We / (Eo + (Boi * Efw))\n",
        "  axisy = (F + (Bw * Wp)) / (Eo + (Boi * Efw))\n",
        "  return(axisx, axisy)\n",
        "\n",
        "def matbalance_plot_gascondensate(sigma_We, Eg, Efw, Bgi, F, Bw, Wp):\n",
        "  \"determine the axis x and y for Material-Balance Plot 8.2 for Undersaturated Reservoir\"\n",
        "  \"calculate B' and Gfgi\"  \n",
        "  # sigma_We: result of previous VEH method\n",
        "  axisx = sigma_We / (Eg + (Bgi * Efw))\n",
        "  axisy = (F + (Bw * Wp)) / (Eg + (Bgi * Efw))\n",
        "  return(axisx, axisy) "
      ],
      "execution_count": 0,
      "outputs": []
    },
    {
      "cell_type": "markdown",
      "metadata": {
        "id": "s1b5tL0AxrXm",
        "colab_type": "text"
      },
      "source": [
        "### Example 8.4 Determination of Aquifer-Influx Parameters and OOIP Using the VEH Method and Material-Balance Plots\n",
        "\n",
        "**NOTE**: Example 8.4 continues the previously worked **Example 8.3**. In Example 8.3, we do calculation of `sigma_We`, and then `We`, straightforward by the equation: `We = B_star * sigma_We`. In Example 8.4, we also do calculation of `sigma_We`, but rather than continue with calculating `We`, we use the value `sigma_We`, combined with `Eo` and `Efw` from **Example 8.2**, for plotting **Plot 8.1**. So, we just copy the last lines of codes from previous Example 8.3."
      ]
    },
    {
      "cell_type": "code",
      "metadata": {
        "id": "6EtMs97ay3-Z",
        "colab_type": "code",
        "outputId": "cd4ab803-9cb4-4904-f7b4-948d78c2f5bb",
        "colab": {
          "base_uri": "https://localhost:8080/",
          "height": 427
        }
      },
      "source": [
        "\"RUN FIRST CODES IN EXAMPLE 8.2 and EXAMPLE 8.3 !!! \"\n",
        "\n",
        "# COPIED FROM SECTION: \"iterate the process of calculating We for other times (October 1964 to July 1981)\"\n",
        "\n",
        "\"iterate the process of calculating sigma_We for other times (October 1964 to June 1981)\"\n",
        "\n",
        "# numpy array from j index 0 (initial production) to 9; [0, 1, 2, 3, 4, 5, 6, 7, 8, 9]\n",
        "indextimes = np.arange(0,(len(j_index)), 1)\n",
        "\n",
        "sigma_We_arr = []\n",
        "\n",
        "for x in range(len(indextimes)): # range from j index 1 to 9\n",
        "\n",
        "  t_DR_arr, W_eD_arr = calculate_parameter_VEH(x, t_DR_factor) # call function \n",
        "\n",
        "  # calculate We, Equation 8.7\n",
        "\n",
        "  W_eD_multipy_delta_p_j = array_delta_p_j[x] * W_eD_arr\n",
        "  sigma_We = np.sum(W_eD_multipy_delta_p_j)\n",
        "  sigma_We_arr.append(float(sigma_We))\n",
        "  # print(sigma_We)\n",
        "\n",
        "\"Call again few codes in Example 8.2\"\n",
        "\n",
        "\"Material Balance\"\n",
        "\n",
        "# call function\n",
        "delta_pressure, Efw, Eo, F, We_schiltuis, We_rate = influx_matbalance_undersaturated(pressure, Bw, Wp, Np, Bo, Nfoi, cf, cw, swi, Boi, diffr_arr)\n",
        "\n",
        "\"Calculate the x axis of Material-Balance Plot 8.1\"\n",
        "\n",
        "Wp = np.array(data3.Wp)\n",
        "axisx, axisy = matbalance_plot_undersaturated(sigma_We_arr, Eo, Efw, Boi, F, Bw, Wp)\n",
        "\n",
        "matbalance = pd.DataFrame({\"Date\": data3.t, \"Pressure(psia)\": data3.p, \"delta_pressure\": delta_pressure, \"Wp(STB)\": data3.Wp, \"Efw\": Efw, \"Eo\": Eo, \"F\": F, \"x axis\": axisx, \"y axis\": axisy})\n",
        "matbalance"
      ],
      "execution_count": 0,
      "outputs": [
        {
          "output_type": "stream",
          "text": [
            "/usr/local/lib/python3.6/dist-packages/ipykernel_launcher.py:27: RuntimeWarning: invalid value encountered in true_divide\n",
            "/usr/local/lib/python3.6/dist-packages/ipykernel_launcher.py:5: RuntimeWarning: invalid value encountered in true_divide\n",
            "  \"\"\"\n",
            "/usr/local/lib/python3.6/dist-packages/ipykernel_launcher.py:6: RuntimeWarning: invalid value encountered in true_divide\n",
            "  \n"
          ],
          "name": "stderr"
        },
        {
          "output_type": "execute_result",
          "data": {
            "text/html": [
              "<div>\n",
              "<style scoped>\n",
              "    .dataframe tbody tr th:only-of-type {\n",
              "        vertical-align: middle;\n",
              "    }\n",
              "\n",
              "    .dataframe tbody tr th {\n",
              "        vertical-align: top;\n",
              "    }\n",
              "\n",
              "    .dataframe thead th {\n",
              "        text-align: right;\n",
              "    }\n",
              "</style>\n",
              "<table border=\"1\" class=\"dataframe\">\n",
              "  <thead>\n",
              "    <tr style=\"text-align: right;\">\n",
              "      <th></th>\n",
              "      <th>Date</th>\n",
              "      <th>Pressure(psia)</th>\n",
              "      <th>delta_pressure</th>\n",
              "      <th>Wp(STB)</th>\n",
              "      <th>Efw</th>\n",
              "      <th>Eo</th>\n",
              "      <th>F</th>\n",
              "      <th>x axis</th>\n",
              "      <th>y axis</th>\n",
              "    </tr>\n",
              "  </thead>\n",
              "  <tbody>\n",
              "    <tr>\n",
              "      <th>0</th>\n",
              "      <td>1964-01-01</td>\n",
              "      <td>2532</td>\n",
              "      <td>0</td>\n",
              "      <td>0</td>\n",
              "      <td>0.000000</td>\n",
              "      <td>0.00000</td>\n",
              "      <td>0.000000e+00</td>\n",
              "      <td>NaN</td>\n",
              "      <td>NaN</td>\n",
              "    </tr>\n",
              "    <tr>\n",
              "      <th>1</th>\n",
              "      <td>1964-10-01</td>\n",
              "      <td>2503</td>\n",
              "      <td>29</td>\n",
              "      <td>27400</td>\n",
              "      <td>0.000303</td>\n",
              "      <td>0.00026</td>\n",
              "      <td>1.193647e+06</td>\n",
              "      <td>6.095897e+05</td>\n",
              "      <td>2.080909e+09</td>\n",
              "    </tr>\n",
              "    <tr>\n",
              "      <th>2</th>\n",
              "      <td>1965-01-01</td>\n",
              "      <td>2496</td>\n",
              "      <td>36</td>\n",
              "      <td>55000</td>\n",
              "      <td>0.000377</td>\n",
              "      <td>0.00032</td>\n",
              "      <td>1.698069e+06</td>\n",
              "      <td>8.852979e+05</td>\n",
              "      <td>2.416240e+09</td>\n",
              "    </tr>\n",
              "    <tr>\n",
              "      <th>3</th>\n",
              "      <td>1965-04-01</td>\n",
              "      <td>2485</td>\n",
              "      <td>47</td>\n",
              "      <td>109000</td>\n",
              "      <td>0.000492</td>\n",
              "      <td>0.00042</td>\n",
              "      <td>2.326374e+06</td>\n",
              "      <td>1.003935e+06</td>\n",
              "      <td>2.565727e+09</td>\n",
              "    </tr>\n",
              "    <tr>\n",
              "      <th>4</th>\n",
              "      <td>1965-09-01</td>\n",
              "      <td>2476</td>\n",
              "      <td>56</td>\n",
              "      <td>277300</td>\n",
              "      <td>0.000586</td>\n",
              "      <td>0.00050</td>\n",
              "      <td>3.525065e+06</td>\n",
              "      <td>1.373820e+06</td>\n",
              "      <td>3.365240e+09</td>\n",
              "    </tr>\n",
              "    <tr>\n",
              "      <th>5</th>\n",
              "      <td>1966-04-01</td>\n",
              "      <td>2471</td>\n",
              "      <td>61</td>\n",
              "      <td>495450</td>\n",
              "      <td>0.000638</td>\n",
              "      <td>0.00054</td>\n",
              "      <td>5.400349e+06</td>\n",
              "      <td>1.962627e+06</td>\n",
              "      <td>4.809483e+09</td>\n",
              "    </tr>\n",
              "    <tr>\n",
              "      <th>6</th>\n",
              "      <td>1967-04-01</td>\n",
              "      <td>2465</td>\n",
              "      <td>67</td>\n",
              "      <td>1514500</td>\n",
              "      <td>0.000701</td>\n",
              "      <td>0.00060</td>\n",
              "      <td>8.347704e+06</td>\n",
              "      <td>2.861542e+06</td>\n",
              "      <td>7.297529e+09</td>\n",
              "    </tr>\n",
              "    <tr>\n",
              "      <th>7</th>\n",
              "      <td>1977-06-01</td>\n",
              "      <td>2442</td>\n",
              "      <td>90</td>\n",
              "      <td>39123000</td>\n",
              "      <td>0.000942</td>\n",
              "      <td>0.00080</td>\n",
              "      <td>1.975466e+07</td>\n",
              "      <td>1.042414e+07</td>\n",
              "      <td>3.287098e+10</td>\n",
              "    </tr>\n",
              "    <tr>\n",
              "      <th>8</th>\n",
              "      <td>1981-06-01</td>\n",
              "      <td>2439</td>\n",
              "      <td>93</td>\n",
              "      <td>57345000</td>\n",
              "      <td>0.000973</td>\n",
              "      <td>0.00083</td>\n",
              "      <td>2.120743e+07</td>\n",
              "      <td>1.352806e+07</td>\n",
              "      <td>4.242009e+10</td>\n",
              "    </tr>\n",
              "    <tr>\n",
              "      <th>9</th>\n",
              "      <td>1985-07-01</td>\n",
              "      <td>2430</td>\n",
              "      <td>102</td>\n",
              "      <td>78372000</td>\n",
              "      <td>0.001067</td>\n",
              "      <td>0.00091</td>\n",
              "      <td>2.228731e+07</td>\n",
              "      <td>1.562631e+07</td>\n",
              "      <td>4.961720e+10</td>\n",
              "    </tr>\n",
              "  </tbody>\n",
              "</table>\n",
              "</div>"
            ],
            "text/plain": [
              "        Date  Pressure(psia)  ...        x axis        y axis\n",
              "0 1964-01-01            2532  ...           NaN           NaN\n",
              "1 1964-10-01            2503  ...  6.095897e+05  2.080909e+09\n",
              "2 1965-01-01            2496  ...  8.852979e+05  2.416240e+09\n",
              "3 1965-04-01            2485  ...  1.003935e+06  2.565727e+09\n",
              "4 1965-09-01            2476  ...  1.373820e+06  3.365240e+09\n",
              "5 1966-04-01            2471  ...  1.962627e+06  4.809483e+09\n",
              "6 1967-04-01            2465  ...  2.861542e+06  7.297529e+09\n",
              "7 1977-06-01            2442  ...  1.042414e+07  3.287098e+10\n",
              "8 1981-06-01            2439  ...  1.352806e+07  4.242009e+10\n",
              "9 1985-07-01            2430  ...  1.562631e+07  4.961720e+10\n",
              "\n",
              "[10 rows x 9 columns]"
            ]
          },
          "metadata": {
            "tags": []
          },
          "execution_count": 16
        }
      ]
    },
    {
      "cell_type": "code",
      "metadata": {
        "id": "TJ8ux9kpPwTL",
        "colab_type": "code",
        "outputId": "78b00135-ea68-4a14-eb05-738d92380f6a",
        "colab": {
          "base_uri": "https://localhost:8080/",
          "height": 384
        }
      },
      "source": [
        "plt.figure(figsize=(8, 5))\n",
        "plt.plot(axisx, axisy, '.')\n",
        "plt.title(\"Material-Balance Plot 8.1 for Moonie Field\", pad=20, size=15)\n",
        "plt.xlabel(\"((sigma(W_eD*delta_p_j))/(Eo+Boi*Efw)), psi-STB/RB\"); plt.ylabel(\"((F+Bw*Wp)/(Eo+Boi*Efw)), STB\")"
      ],
      "execution_count": 0,
      "outputs": [
        {
          "output_type": "execute_result",
          "data": {
            "text/plain": [
              "Text(0, 0.5, '((F+Bw*Wp)/(Eo+Boi*Efw)), STB')"
            ]
          },
          "metadata": {
            "tags": []
          },
          "execution_count": 17
        },
        {
          "output_type": "display_data",
          "data": {
            "image/png": "[encoded data removed]",
            "text/plain": [
              "<Figure size 576x360 with 1 Axes>"
            ]
          },
          "metadata": {
            "tags": []
          }
        }
      ]
    },
    {
      "cell_type": "code",
      "metadata": {
        "id": "706w1sKrRBqk",
        "colab_type": "code",
        "outputId": "439354dc-9b73-47de-d01d-0a2302877090",
        "colab": {
          "base_uri": "https://localhost:8080/",
          "height": 418
        }
      },
      "source": [
        "\"Regression of Material-Balance Plot\"\n",
        "\n",
        "# import regression function from Unit 7 function folder\n",
        "import sys, os \n",
        "sys.path.append('/content/reservoir-engineering/Unit 7 Introduction to Well-Test Analysis/functions')\n",
        "\n",
        "from regression import regression\n",
        "\n",
        "x = (np.array(axisx))[1:]\n",
        "y = (np.array(axisy))[1:]\n",
        "\n",
        "c, m = regression(x, y)\n",
        "B_star = m\n",
        "Nfoi = c\n",
        "print(\"Value B' or aquifer constant from material balance:\", B_star, \"RB/psi\")\n",
        "print(\"Original Oil in Place calculated from material balance:\", Nfoi / 1E+06, \"Million STB\")\n",
        "\n",
        "# plot regression line\n",
        "\n",
        "x_reg = np.linspace(0, max(x), 1)\n",
        "y_reg = m * x + c\n",
        "\n",
        "plt.figure(figsize=(8, 5))\n",
        "plt.plot(axisx, axisy, '.')\n",
        "plt.plot(x, y_reg)\n",
        "plt.title(\"Material-Balance Plot 8.1 for Moonie Field\", pad=20, size=15)\n",
        "plt.xlabel(\"((sigma(W_eD*delta_p_j))/(Eo+Boi*Efw)), psi-STB/RB\"); plt.ylabel(\"((F+Bw*Wp)/(Eo+Boi*Efw)), STB\")"
      ],
      "execution_count": 0,
      "outputs": [
        {
          "output_type": "stream",
          "text": [
            "Value B' or aquifer constant from material balance: 3214.691361789756 RB/psi\n",
            "Original Oil in Place calculated from material balance: -860.7655218073406 Million STB\n"
          ],
          "name": "stdout"
        },
        {
          "output_type": "execute_result",
          "data": {
            "text/plain": [
              "Text(0, 0.5, '((F+Bw*Wp)/(Eo+Boi*Efw)), STB')"
            ]
          },
          "metadata": {
            "tags": []
          },
          "execution_count": 18
        },
        {
          "output_type": "display_data",
          "data": {
            "image/png": "[encoded data removed]",
            "text/plain": [
              "<Figure size 576x360 with 1 Axes>"
            ]
          },
          "metadata": {
            "tags": []
          }
        }
      ]
    },
    {
      "cell_type": "markdown",
      "metadata": {
        "id": "kF2PSj3zVaQ0",
        "colab_type": "text"
      },
      "source": [
        "OOIP (`Nfoi`) or the intercept `c` is negative, meaning negative OOIP. This is unreasonable, however the negative value can arise with this plot **when reservoir pressure is above bubblepoint**. It gives **good estimate** for **aquifer constant `B'`**, but **poor estimate** for OOIP."
      ]
    },
    {
      "cell_type": "markdown",
      "metadata": {
        "id": "ETRC_upIYly7",
        "colab_type": "text"
      },
      "source": [
        "#### Revising value of B' for Figure 8.4 (**Aquifer Influx Calculation using VEH Method**)"
      ]
    },
    {
      "cell_type": "code",
      "metadata": {
        "id": "1dmsLt_OYz1K",
        "colab_type": "code",
        "outputId": "4090c720-17d9-4988-951b-935f158beb39",
        "colab": {
          "base_uri": "https://localhost:8080/",
          "height": 491
        }
      },
      "source": [
        "\"VEH Method\"\n",
        "\n",
        "# numpy array from j index 0 (initial production) to 9; [0, 1, 2, 3, 4, 5, 6, 7, 8, 9]\n",
        "indextimes = np.arange(0,(len(j_index)), 1)\n",
        "\n",
        "We_arr_revised = []\n",
        "\n",
        "for x in range(len(indextimes)): # range from j index 1 to 9\n",
        "\n",
        "  t_DR_arr, W_eD_arr = calculate_parameter_VEH(x, t_DR_factor) # call function \n",
        "\n",
        "  # calculate We, Equation 8.7\n",
        "\n",
        "  W_eD_multipy_delta_p_j = array_delta_p_j[x] * W_eD_arr\n",
        "  sigma_We = np.sum(W_eD_multipy_delta_p_j)\n",
        "\n",
        "  \"revise B_star to the value of B_star obtained from the above material balance slope\"\n",
        "  B_star = m\n",
        "\n",
        "  We_veh = B_star * sigma_We\n",
        "  We_arr_revised.append(float(We_veh))\n",
        "\n",
        "\"plot Fig 8.4\"\n",
        "\"Compare We result of SCHILTUIS STEADY-STATE (Problem 8.2) to this method VEH UNSTEADY-STATE (Problem 8.3)\"\n",
        "# RUN FIRST codes in Problem 8.2\n",
        "We_veh = We_arr_revised\n",
        "\n",
        "\"Create Fig 8.1\"\n",
        "\n",
        "from pandas.plotting import register_matplotlib_converters\n",
        "register_matplotlib_converters()\n",
        "\n",
        "# schiltuis plot\n",
        "plt.figure(figsize=(10, 7))\n",
        "p1 = plt.plot(data3.t, We_schiltuis, '.-')\n",
        "p2 = plt.plot(data3.t, We_veh, '.-')\n",
        "plt.legend((p1[0], p2[0]), ('Schiltuis Steady-State Method', 'Van Everdingen-Hurst Unsteady-State Method'))\n",
        "plt.title(\"Comparison of Aquifer Influx Result Using Schiltuis and VEH\", pad=20, size=15)\n",
        "plt.xlabel(\"Production (year)\"); plt.ylabel(\"Aquifer Influx Amount (res bbl)\")"
      ],
      "execution_count": 0,
      "outputs": [
        {
          "output_type": "execute_result",
          "data": {
            "text/plain": [
              "Text(0, 0.5, 'Aquifer Influx Amount (res bbl)')"
            ]
          },
          "metadata": {
            "tags": []
          },
          "execution_count": 19
        },
        {
          "output_type": "display_data",
          "data": {
            "image/png": "[encoded data removed]",
            "text/plain": [
              "<Figure size 720x504 with 1 Axes>"
            ]
          },
          "metadata": {
            "tags": []
          }
        }
      ]
    },
    {
      "cell_type": "markdown",
      "metadata": {
        "id": "6oL7TjdIbCbS",
        "colab_type": "text"
      },
      "source": [
        "**YEAY! VEH method already agrees with Schiltuis Method!** In **Example 8.2**, value of `B'` is **1414.68 RB/psi (Page 81)**, **revised to `B'` 3214 RB/psi** from **material balance**. "
      ]
    },
    {
      "cell_type": "markdown",
      "metadata": {
        "id": "pfPOc0Xdsctf",
        "colab_type": "text"
      },
      "source": [
        "## **Chapter 8.5 Fetkovich Pseudosteady-State Method (Finite Aquifers)**"
      ]
    },
    {
      "cell_type": "markdown",
      "metadata": {
        "id": "ySEBzMCfFB4o",
        "colab_type": "text"
      },
      "source": [
        "### Functions"
      ]
    },
    {
      "cell_type": "code",
      "metadata": {
        "id": "trUZ-Ziq50tQ",
        "colab_type": "code",
        "colab": {}
      },
      "source": [
        "def fetkovich_initial_encroachable_water(pi, ct, r_R, r_aq, h_aq, poro, theta):\n",
        "  \"calculate initial encroachable water\"\n",
        "  # r_R: reservoir size (radius of cylindrical-assumed reservoir), in ft\n",
        "  # r_aq: aquifer size, in ft\n",
        "  # theta: for full circle cylindrical, theta=360. if half-circle, theta=180\n",
        "  Wei = (pi * ct * np.pi * ((r_aq**2) - (r_R**2)) * h_aq * poro * theta) / (5.61458 * 360)\n",
        "  return(Wei)\n",
        "\n",
        "def fetkovich_productivity_index_flow(perm, h_aq, mu_w, r_aq, r_R, theta):\n",
        "  \"calculate productivity index for condition of FLOW FROM THE AQUIFER\"\n",
        "  # mu_w: water viscosity\n",
        "  J = (0.007082 * perm * h_aq * theta) / ((mu_w * (np.log(r_aq / r_R) - 0.75) * 360))\n",
        "  return(J)\n",
        "\n",
        "def fetkovich_productivity_index_noflow(perm, h, mu_w, r_aq, r_R, theta):\n",
        "  \"calculate productivity index for condition of NO FLOW / CONSTANT PRESSURE AT THE OUTER BOUNDARY\"\n",
        "  # mu_w: water viscosity\n",
        "  J = (0.007082 * perm * h_aq * theta) / ((mu_w * (np.log(r_aq / r_R)) * 360))\n",
        "  return(J)"
      ],
      "execution_count": 0,
      "outputs": []
    },
    {
      "cell_type": "markdown",
      "metadata": {
        "id": "2GiOr6vB4uw9",
        "colab_type": "text"
      },
      "source": [
        "### Example 8.5 Determination of Aquifer Influx Using the Fetkovich Pseudosteady-State Method\n",
        "\n",
        "Example 8.5 uses the similar data from Moonie Field (Example 8.2, 8.3, 8.4)"
      ]
    },
    {
      "cell_type": "code",
      "metadata": {
        "id": "aCxqbjtm47ce",
        "colab_type": "code",
        "outputId": "418fc75f-ca77-4bc2-a339-caba4ecc709e",
        "colab": {
          "base_uri": "https://localhost:8080/",
          "height": 50
        }
      },
      "source": [
        "\"Task. calculate aquifer influx over time\"\n",
        "\n",
        "# known\n",
        "pi = 2532 # psia\n",
        "temp = 156 # reservoir temperature, F\n",
        "P_bubble = 737 # psia\n",
        "Nfoi = 48.75 # in MMSTB (million STB)\n",
        "Rsi = 112 # initial solution gas-oil ratio, scf/STB\n",
        "Boi = 1.078 # RB/STB\n",
        "Bob = 1.094 # oil FVF at bubblepoint, RB/STB\n",
        "Bw = 1.02 # water FVF, no information in the book, so assume to be constant, similar to Problem 8.1, in RB/STB\n",
        "swi = 0.48\n",
        "cf = 4E-06 # in psi^-1\n",
        "cw = 3E-06 # in psi^-1\n",
        "poro = 0.177\n",
        "perm = 432 # permeability, md\n",
        "# h = 31.8 # reservoir thicknes, ft\n",
        "# vbulk = 73590 # reservoir bulk volume, acre ft\n",
        "mu_w = 0.38 # water viscosity, cp\n",
        "mu_oil_initial = 1.02 # initial oil viscosity, cp\n",
        "date_initial = '1964-01-01' # initial date of production\n",
        "\n",
        "# reservoir and aquifer dimension\n",
        "r_R = 5664.5 # reservoir size, in ft, resulted from Example 6.3\n",
        "r_aq = 275000 # aquifer size, in ft\n",
        "h_aq = 71.73 # aquifer thickness, in ft\n",
        "\n",
        "# conversion\n",
        "Nfoi = Nfoi * 1E+06 # convert from MMSTB to STB\n",
        "vbulk = vbulk * 43559.9 # convert from acre-ft to cubic ft\n",
        "\n",
        "\"calculate initial encroachable water, Wei\"\n",
        "\n",
        "theta = 360\n",
        "ct = cf + cw\n",
        "Wei = fetkovich_initial_encroachable_water(pi, ct, r_R, r_aq, h_aq, poro, theta)\n",
        "print(\"Initial Encroachable Water using Fetkovich Method:\", Wei, \"RB\")\n",
        "\n",
        "\"calculate productivity index\"\n",
        "\n",
        "# flowing aquifer\n",
        "J = fetkovich_productivity_index_flow(perm, h_aq, mu_w, r_aq, r_R, theta)\n",
        "print(\"Initial Encroachable Water using Fetkovich Method:\", J, \"RB/D-psi\")"
      ],
      "execution_count": 0,
      "outputs": [
        {
          "output_type": "stream",
          "text": [
            "Initial Encroachable Water using Fetkovich Method: 9518083727.44512 RB\n",
            "Initial Encroachable Water using Fetkovich Method: 184.3565403665435 RB/D-psi\n"
          ],
          "name": "stdout"
        }
      ]
    },
    {
      "cell_type": "code",
      "metadata": {
        "id": "x_IDUMnCWMlb",
        "colab_type": "code",
        "outputId": "1e130fb3-dc93-40e5-dea9-8d7f9a4af7cc",
        "colab": {
          "base_uri": "https://localhost:8080/",
          "height": 360
        }
      },
      "source": [
        "# load data and review datetime format\n",
        "data4 = pd.read_csv('/content/reservoir-engineering/Unit 8 Aquifer Influx/data/Table 8.3-Production Data Moonie Field Example 8.2.csv')\n",
        "data4\n",
        "\n",
        "\"Converting to Panda datetime\"\n",
        "\n",
        "# time data in format: 01 January 1964\n",
        "\n",
        "data4['t'] =  pd.to_datetime(data4['t'], format='%d %B %Y') # format check web: https://strftime.org/\n",
        "data4 # already converted to YYYY-MM-DD\n",
        "\n",
        "\"Subtracting datetimes to get time differences (how many days) IN INTEGER\"\n",
        "\n",
        "diff = [j-i for i, j in zip(data4.t[:-1], data4.t[1:])]\n",
        "diff = np.array(diff)\n",
        "\n",
        "# convert datetime format to integer\n",
        "diffr_arr = []\n",
        "for k in range(len(diff)):\n",
        "  diffr = diff[k] / np.timedelta64(1,'D')\n",
        "  diffr_arr.append(float(diffr))\n",
        "\n",
        "# append 0 to the first index of numpy\n",
        "diffr_arr = np.append([0], diffr_arr) # now diff has same dimension with time data (a)\n",
        "delta_time = diffr_arr\n",
        "\n",
        "\"calculate p_Rn_average (Equation 8.29)\"\n",
        "\n",
        "p_Rn_average = 0.5 * np.array([j+i for i, j in zip(data4.p[:-1], data4.p[1:])])\n",
        "p_Rn_average = np.append([pi], p_Rn_average)\n",
        "\n",
        "\"calculate delta_Wen (Equation 8.30)\"\n",
        "\n",
        "\"Looping to calculate We\"\n",
        "We = 0 # We at initial production date (NOTE: different from Wei, initial encroachable water)\n",
        "delta_We_arr = []\n",
        "We_fetkovich = []\n",
        "pn_arr = []\n",
        "\n",
        "for i in range(len(data4.t)):\n",
        "  pn_min_one = pi * (1 - (We / Wei))\n",
        "  pn_min_prn = pn_min_one - p_Rn_average[i]\n",
        "  delta_We = (Wei / pi) * pn_min_prn * (1 - np.exp(-(J * pi * delta_time[i]) / (Wei)))\n",
        "  We = We + delta_We\n",
        "  delta_We_arr.append(float(delta_We))\n",
        "  We_fetkovich.append(float(We))\n",
        "  pn_arr.append(float(pn_min_one))\n",
        "\n",
        "\"Table 8.10\"\n",
        "fetkovich = pd.DataFrame({\"Date\": data4.t, \"delta_t(days)\": delta_time, \"p(psia)\": data4.p, \"p_Rn_average\": p_Rn_average, \"delta_We(resbbl)\": delta_We_arr, \"We(resbbl)\": We_fetkovich})\n",
        "print(\"Table 8.10-Calculated Water Influx Amount using Fetkovich Pseudosteady-State Method\")\n",
        "fetkovich"
      ],
      "execution_count": 0,
      "outputs": [
        {
          "output_type": "stream",
          "text": [
            "Table 8.10-Calculated Water Influx Amount using Fetkovich Pseudosteady-State Method\n"
          ],
          "name": "stdout"
        },
        {
          "output_type": "execute_result",
          "data": {
            "text/html": [
              "<div>\n",
              "<style scoped>\n",
              "    .dataframe tbody tr th:only-of-type {\n",
              "        vertical-align: middle;\n",
              "    }\n",
              "\n",
              "    .dataframe tbody tr th {\n",
              "        vertical-align: top;\n",
              "    }\n",
              "\n",
              "    .dataframe thead th {\n",
              "        text-align: right;\n",
              "    }\n",
              "</style>\n",
              "<table border=\"1\" class=\"dataframe\">\n",
              "  <thead>\n",
              "    <tr style=\"text-align: right;\">\n",
              "      <th></th>\n",
              "      <th>Date</th>\n",
              "      <th>delta_t(days)</th>\n",
              "      <th>p(psia)</th>\n",
              "      <th>p_Rn_average</th>\n",
              "      <th>delta_We(resbbl)</th>\n",
              "      <th>We(resbbl)</th>\n",
              "    </tr>\n",
              "  </thead>\n",
              "  <tbody>\n",
              "    <tr>\n",
              "      <th>0</th>\n",
              "      <td>1964-01-01</td>\n",
              "      <td>0.0</td>\n",
              "      <td>2532</td>\n",
              "      <td>2532.0</td>\n",
              "      <td>0.000000e+00</td>\n",
              "      <td>0.000000e+00</td>\n",
              "    </tr>\n",
              "    <tr>\n",
              "      <th>1</th>\n",
              "      <td>1964-10-01</td>\n",
              "      <td>274.0</td>\n",
              "      <td>2503</td>\n",
              "      <td>2517.5</td>\n",
              "      <td>7.275493e+05</td>\n",
              "      <td>7.275493e+05</td>\n",
              "    </tr>\n",
              "    <tr>\n",
              "      <th>2</th>\n",
              "      <td>1965-01-01</td>\n",
              "      <td>92.0</td>\n",
              "      <td>2496</td>\n",
              "      <td>2499.5</td>\n",
              "      <td>5.467091e+05</td>\n",
              "      <td>1.274258e+06</td>\n",
              "    </tr>\n",
              "    <tr>\n",
              "      <th>3</th>\n",
              "      <td>1965-04-01</td>\n",
              "      <td>90.0</td>\n",
              "      <td>2485</td>\n",
              "      <td>2490.5</td>\n",
              "      <td>6.814423e+05</td>\n",
              "      <td>1.955701e+06</td>\n",
              "    </tr>\n",
              "    <tr>\n",
              "      <th>4</th>\n",
              "      <td>1965-09-01</td>\n",
              "      <td>153.0</td>\n",
              "      <td>2476</td>\n",
              "      <td>2480.5</td>\n",
              "      <td>1.432581e+06</td>\n",
              "      <td>3.388282e+06</td>\n",
              "    </tr>\n",
              "    <tr>\n",
              "      <th>5</th>\n",
              "      <td>1966-04-01</td>\n",
              "      <td>212.0</td>\n",
              "      <td>2471</td>\n",
              "      <td>2473.5</td>\n",
              "      <td>2.239500e+06</td>\n",
              "      <td>5.627782e+06</td>\n",
              "    </tr>\n",
              "    <tr>\n",
              "      <th>6</th>\n",
              "      <td>1967-04-01</td>\n",
              "      <td>365.0</td>\n",
              "      <td>2465</td>\n",
              "      <td>2468.0</td>\n",
              "      <td>4.168409e+06</td>\n",
              "      <td>9.796191e+06</td>\n",
              "    </tr>\n",
              "    <tr>\n",
              "      <th>7</th>\n",
              "      <td>1977-06-01</td>\n",
              "      <td>3714.0</td>\n",
              "      <td>2442</td>\n",
              "      <td>2453.5</td>\n",
              "      <td>4.750684e+07</td>\n",
              "      <td>5.730303e+07</td>\n",
              "    </tr>\n",
              "    <tr>\n",
              "      <th>8</th>\n",
              "      <td>1981-06-01</td>\n",
              "      <td>1461.0</td>\n",
              "      <td>2439</td>\n",
              "      <td>2440.5</td>\n",
              "      <td>1.982067e+07</td>\n",
              "      <td>7.712370e+07</td>\n",
              "    </tr>\n",
              "    <tr>\n",
              "      <th>9</th>\n",
              "      <td>1985-07-01</td>\n",
              "      <td>1491.0</td>\n",
              "      <td>2430</td>\n",
              "      <td>2434.5</td>\n",
              "      <td>2.040575e+07</td>\n",
              "      <td>9.752945e+07</td>\n",
              "    </tr>\n",
              "  </tbody>\n",
              "</table>\n",
              "</div>"
            ],
            "text/plain": [
              "        Date  delta_t(days)  ...  delta_We(resbbl)    We(resbbl)\n",
              "0 1964-01-01            0.0  ...      0.000000e+00  0.000000e+00\n",
              "1 1964-10-01          274.0  ...      7.275493e+05  7.275493e+05\n",
              "2 1965-01-01           92.0  ...      5.467091e+05  1.274258e+06\n",
              "3 1965-04-01           90.0  ...      6.814423e+05  1.955701e+06\n",
              "4 1965-09-01          153.0  ...      1.432581e+06  3.388282e+06\n",
              "5 1966-04-01          212.0  ...      2.239500e+06  5.627782e+06\n",
              "6 1967-04-01          365.0  ...      4.168409e+06  9.796191e+06\n",
              "7 1977-06-01         3714.0  ...      4.750684e+07  5.730303e+07\n",
              "8 1981-06-01         1461.0  ...      1.982067e+07  7.712370e+07\n",
              "9 1985-07-01         1491.0  ...      2.040575e+07  9.752945e+07\n",
              "\n",
              "[10 rows x 6 columns]"
            ]
          },
          "metadata": {
            "tags": []
          },
          "execution_count": 105
        }
      ]
    },
    {
      "cell_type": "code",
      "metadata": {
        "id": "jb83nO3zIAvg",
        "colab_type": "code",
        "outputId": "cead973d-1729-4f63-b34f-6e179b265507",
        "colab": {
          "base_uri": "https://localhost:8080/",
          "height": 491
        }
      },
      "source": [
        "\"plot Fig 8.6 comparison between Schiltuis steady material balance, VEH unsteady method, and Fetkovich pseudosteady material balance\"\n",
        "\n",
        "from pandas.plotting import register_matplotlib_converters\n",
        "register_matplotlib_converters()\n",
        "\n",
        "plt.figure(figsize=(10, 7))\n",
        "p1 = plt.plot(data4.t, We_schiltuis, '.-')\n",
        "p2 = plt.plot(data4.t, We_veh, '.-')\n",
        "p3 = plt.plot(data4.t, We_fetkovich, '.-')\n",
        "plt.legend((p1[0], p2[0], p3[0]), ('Schilthuis Steady-State Material Balance Method', 'Van Everdingen-Hurst Unsteady-State Method', 'Fetkovich Pseudosteady-State Method'))\n",
        "plt.title(\"Comparison of Moonie Field's Aquifer Influx Using Schilthuis, VEH, and Fetkovich Method\", pad=20, size=15)\n",
        "plt.xlabel(\"Production (year)\"); plt.ylabel(\"Aquifer Influx Amount (res bbl)\")"
      ],
      "execution_count": 0,
      "outputs": [
        {
          "output_type": "execute_result",
          "data": {
            "text/plain": [
              "Text(0, 0.5, 'Aquifer Influx Amount (res bbl)')"
            ]
          },
          "metadata": {
            "tags": []
          },
          "execution_count": 106
        },
        {
          "output_type": "display_data",
          "data": {
            "image/png": "[encoded data removed]",
            "text/plain": [
              "<Figure size 720x504 with 1 Axes>"
            ]
          },
          "metadata": {
            "tags": []
          }
        }
      ]
    },
    {
      "cell_type": "markdown",
      "metadata": {
        "id": "Ete4TRmnLBW_",
        "colab_type": "text"
      },
      "source": [
        "## **Chapter 8.6 Alton Field Example**\n",
        "\n",
        "Calculate **aquifer influx amount** `We` using **Schilthuis Steady-State Material Balance** and **Fetkovich Pseudosteady-State Method**"
      ]
    },
    {
      "cell_type": "code",
      "metadata": {
        "id": "9eT_UrItLC2D",
        "colab_type": "code",
        "outputId": "835c9627-4410-4fcd-c90e-20d4340dc97c",
        "colab": {
          "base_uri": "https://localhost:8080/",
          "height": 373
        }
      },
      "source": [
        "# known\n",
        "pi = 2779 # psia\n",
        "temp = 164 # F\n",
        "P_bubble = 1080 # psia\n",
        "Nfoi = 6.572 # MMSTB, million STB\n",
        "Rsi = 475 # scf/STB\n",
        "Boi = 1.41 # RB/STB\n",
        "Bob = 1.48 # RB/Mscf\n",
        "swi = 0.4 \n",
        "cf = 4E-06 # psi^-1\n",
        "cw = 3.5E-06 # psi^-1\n",
        "poro = 0.168\n",
        "perm = 345 # md\n",
        "h = 10 # ft\n",
        "api = 54.2 # oil gravity, degree api\n",
        "mu_w = 0.363 # water viscosity, cp\n",
        "mu_oil_initial = 0.33 # oil viscosity initial, cp\n",
        "date_initial = \"1 January 1966\" # initial production date\n",
        "\n",
        "# conversion\n",
        "Nfoi = Nfoi * 1E+06 # MMSTB to STB\n",
        "\n",
        "# load data and review datetime format\n",
        "alton = pd.read_csv('/content/reservoir-engineering/Unit 8 Aquifer Influx/data/Table 8.12-Alton Field Material Balance Data.csv')\n",
        "alton = alton.dropna() # drop NaN rows\n",
        "alton"
      ],
      "execution_count": 126,
      "outputs": [
        {
          "output_type": "execute_result",
          "data": {
            "text/html": [
              "<div>\n",
              "<style scoped>\n",
              "    .dataframe tbody tr th:only-of-type {\n",
              "        vertical-align: middle;\n",
              "    }\n",
              "\n",
              "    .dataframe tbody tr th {\n",
              "        vertical-align: top;\n",
              "    }\n",
              "\n",
              "    .dataframe thead th {\n",
              "        text-align: right;\n",
              "    }\n",
              "</style>\n",
              "<table border=\"1\" class=\"dataframe\">\n",
              "  <thead>\n",
              "    <tr style=\"text-align: right;\">\n",
              "      <th></th>\n",
              "      <th>t</th>\n",
              "      <th>p</th>\n",
              "      <th>Np</th>\n",
              "      <th>Gp</th>\n",
              "      <th>Wp</th>\n",
              "      <th>Bo</th>\n",
              "    </tr>\n",
              "  </thead>\n",
              "  <tbody>\n",
              "    <tr>\n",
              "      <th>0</th>\n",
              "      <td>01 January 1966</td>\n",
              "      <td>2779.0</td>\n",
              "      <td>0.0</td>\n",
              "      <td>0.0</td>\n",
              "      <td>0.0</td>\n",
              "      <td>1.4100</td>\n",
              "    </tr>\n",
              "    <tr>\n",
              "      <th>1</th>\n",
              "      <td>01 February 1966</td>\n",
              "      <td>2685.0</td>\n",
              "      <td>20821.0</td>\n",
              "      <td>10206000.0</td>\n",
              "      <td>0.0</td>\n",
              "      <td>1.4133</td>\n",
              "    </tr>\n",
              "    <tr>\n",
              "      <th>2</th>\n",
              "      <td>01 April 1966</td>\n",
              "      <td>2473.0</td>\n",
              "      <td>79405.0</td>\n",
              "      <td>42651000.0</td>\n",
              "      <td>374.0</td>\n",
              "      <td>1.4221</td>\n",
              "    </tr>\n",
              "    <tr>\n",
              "      <th>3</th>\n",
              "      <td>01 August 1966</td>\n",
              "      <td>2259.0</td>\n",
              "      <td>166065.0</td>\n",
              "      <td>82485000.0</td>\n",
              "      <td>822.0</td>\n",
              "      <td>1.4310</td>\n",
              "    </tr>\n",
              "    <tr>\n",
              "      <th>4</th>\n",
              "      <td>01 February 1967</td>\n",
              "      <td>1959.0</td>\n",
              "      <td>314099.0</td>\n",
              "      <td>160170000.0</td>\n",
              "      <td>12887.0</td>\n",
              "      <td>1.4435</td>\n",
              "    </tr>\n",
              "    <tr>\n",
              "      <th>5</th>\n",
              "      <td>01 January 1968</td>\n",
              "      <td>1770.0</td>\n",
              "      <td>580419.0</td>\n",
              "      <td>282150000.0</td>\n",
              "      <td>27631.0</td>\n",
              "      <td>1.4513</td>\n",
              "    </tr>\n",
              "    <tr>\n",
              "      <th>6</th>\n",
              "      <td>01 January 1970</td>\n",
              "      <td>1559.0</td>\n",
              "      <td>1089315.0</td>\n",
              "      <td>512110000.0</td>\n",
              "      <td>56637.0</td>\n",
              "      <td>1.4601</td>\n",
              "    </tr>\n",
              "    <tr>\n",
              "      <th>7</th>\n",
              "      <td>01 January 1972</td>\n",
              "      <td>1337.0</td>\n",
              "      <td>1436899.0</td>\n",
              "      <td>688090000.0</td>\n",
              "      <td>84795.0</td>\n",
              "      <td>1.4693</td>\n",
              "    </tr>\n",
              "    <tr>\n",
              "      <th>8</th>\n",
              "      <td>01 January 1974</td>\n",
              "      <td>1248.0</td>\n",
              "      <td>1633927.0</td>\n",
              "      <td>780260000.0</td>\n",
              "      <td>111865.0</td>\n",
              "      <td>1.4730</td>\n",
              "    </tr>\n",
              "    <tr>\n",
              "      <th>9</th>\n",
              "      <td>01 January 1976</td>\n",
              "      <td>1126.0</td>\n",
              "      <td>1693737.0</td>\n",
              "      <td>802200000.0</td>\n",
              "      <td>143256.0</td>\n",
              "      <td>1.4781</td>\n",
              "    </tr>\n",
              "    <tr>\n",
              "      <th>10</th>\n",
              "      <td>01 January 1980</td>\n",
              "      <td>1080.0</td>\n",
              "      <td>1761704.0</td>\n",
              "      <td>803360000.0</td>\n",
              "      <td>289432.0</td>\n",
              "      <td>1.4800</td>\n",
              "    </tr>\n",
              "  </tbody>\n",
              "</table>\n",
              "</div>"
            ],
            "text/plain": [
              "                   t       p         Np           Gp        Wp      Bo\n",
              "0    01 January 1966  2779.0        0.0          0.0       0.0  1.4100\n",
              "1   01 February 1966  2685.0    20821.0   10206000.0       0.0  1.4133\n",
              "2      01 April 1966  2473.0    79405.0   42651000.0     374.0  1.4221\n",
              "3     01 August 1966  2259.0   166065.0   82485000.0     822.0  1.4310\n",
              "4   01 February 1967  1959.0   314099.0  160170000.0   12887.0  1.4435\n",
              "5    01 January 1968  1770.0   580419.0  282150000.0   27631.0  1.4513\n",
              "6    01 January 1970  1559.0  1089315.0  512110000.0   56637.0  1.4601\n",
              "7    01 January 1972  1337.0  1436899.0  688090000.0   84795.0  1.4693\n",
              "8    01 January 1974  1248.0  1633927.0  780260000.0  111865.0  1.4730\n",
              "9    01 January 1976  1126.0  1693737.0  802200000.0  143256.0  1.4781\n",
              "10   01 January 1980  1080.0  1761704.0  803360000.0  289432.0  1.4800"
            ]
          },
          "metadata": {
            "tags": []
          },
          "execution_count": 126
        }
      ]
    },
    {
      "cell_type": "code",
      "metadata": {
        "id": "O8r7iy9gR2NJ",
        "colab_type": "code",
        "outputId": "7f3a4f06-c016-4cd7-9f10-8141c07bef96",
        "colab": {
          "base_uri": "https://localhost:8080/",
          "height": 848
        }
      },
      "source": [
        "\"reservoir above bubblepoint pressure\"\n",
        "\n",
        "\"SCHILTHUIS MATERIAL BALANCE\"\n",
        "\n",
        "\"Converting to Panda datetime\"\n",
        "\n",
        "# time data in format: 01 January 1964\n",
        "\n",
        "alton['t'] =  pd.to_datetime(alton['t'], format='%d %B %Y') # format check web: https://strftime.org/\n",
        "alton # already converted to YYYY-MM-DD\n",
        "\n",
        "# \"Subtracting datetimes to get time differences (how many days) IN INTEGER\"\n",
        "\n",
        "timedata = alton.t\n",
        "\n",
        "diff = [j-i for i, j in zip(timedata[:-1], timedata[1:])]\n",
        "diff = np.array(diff)\n",
        "\n",
        "# convert datetime format to integer\n",
        "diffr_arr = []\n",
        "for k in range(len(diff)):\n",
        "  diffr = diff[k] / np.timedelta64(1,'D')\n",
        "  diffr_arr.append(float(diffr))\n",
        "\n",
        "# append 0 to the first index of numpy\n",
        "diffr_arr = np.append([0], diffr_arr) # now diff has same dimension with time data (a)\n",
        "\n",
        "\"Calculate We\"\n",
        "\n",
        "pressure = np.array(alton.p)\n",
        "Np = np.array(alton.Np)\n",
        "Wp = np.array(alton.Wp)\n",
        "Bo = np.array(alton.Bo)\n",
        "\n",
        "\"Material Balance\"\n",
        "\n",
        "# Bw = 1.02\n",
        "\n",
        "# calculate water FVF (Bw)\n",
        "import os, sys\n",
        "sys.path.append('/content/reservoir-engineering/Unit 2 Review of Rock and Fluid Properties/functions')\n",
        "from waterfvf import waterfvf\n",
        "Bw = waterfvf(alton.p, temp)\n",
        "\n",
        "# call function\n",
        "delta_pressure, Efw, Eo, F, We_schiltuis, We_rate = influx_matbalance_undersaturated(pressure, Bw, Wp, Np, Bo, Nfoi, cf, cw, swi, Boi, diffr_arr)\n",
        "\n",
        "# plot We vs time\n",
        "plt.figure(figsize=(12, 7))\n",
        "plt.plot(alton.t, We_schiltuis, '.-')\n",
        "plt.xlabel('Time (year)'); plt.ylabel('Aquifer Influx (res bbl)')\n",
        "plt.title('Schiltuis Aquifer Influx Plot of Alton Field')\n",
        "\n",
        "# result in table\n",
        "schiltuis = pd.DataFrame({\"Date\": alton.t, \"delta_pressure(psi)\": delta_pressure, \"Efw\": Efw, \"Eo(RB/STB)\": Eo, \"F(res bbl)\": F, \"We(res bbl)\": We_schiltuis})\n",
        "schiltuis = schiltuis.fillna(0) # replace NaN with zero\n",
        "print(\"Table 8.13-Aquifer Influx for Alton Field using Schilthuis Material Balance\")\n",
        "schiltuis"
      ],
      "execution_count": 142,
      "outputs": [
        {
          "output_type": "stream",
          "text": [
            "Table 8.13-Aquifer Influx for Alton Field using Schilthuis Material Balance\n"
          ],
          "name": "stdout"
        },
        {
          "output_type": "stream",
          "text": [
            "/usr/local/lib/python3.6/dist-packages/ipykernel_launcher.py:27: RuntimeWarning: invalid value encountered in true_divide\n"
          ],
          "name": "stderr"
        },
        {
          "output_type": "execute_result",
          "data": {
            "text/html": [
              "<div>\n",
              "<style scoped>\n",
              "    .dataframe tbody tr th:only-of-type {\n",
              "        vertical-align: middle;\n",
              "    }\n",
              "\n",
              "    .dataframe tbody tr th {\n",
              "        vertical-align: top;\n",
              "    }\n",
              "\n",
              "    .dataframe thead th {\n",
              "        text-align: right;\n",
              "    }\n",
              "</style>\n",
              "<table border=\"1\" class=\"dataframe\">\n",
              "  <thead>\n",
              "    <tr style=\"text-align: right;\">\n",
              "      <th></th>\n",
              "      <th>Date</th>\n",
              "      <th>delta_pressure(psi)</th>\n",
              "      <th>Efw</th>\n",
              "      <th>Eo(RB/STB)</th>\n",
              "      <th>F(res bbl)</th>\n",
              "      <th>We(res bbl)</th>\n",
              "    </tr>\n",
              "  </thead>\n",
              "  <tbody>\n",
              "    <tr>\n",
              "      <th>0</th>\n",
              "      <td>1966-01-01</td>\n",
              "      <td>0.0</td>\n",
              "      <td>0.000000</td>\n",
              "      <td>0.0000</td>\n",
              "      <td>0.000000e+00</td>\n",
              "      <td>0.000000e+00</td>\n",
              "    </tr>\n",
              "    <tr>\n",
              "      <th>1</th>\n",
              "      <td>1966-02-01</td>\n",
              "      <td>94.0</td>\n",
              "      <td>0.000846</td>\n",
              "      <td>0.0033</td>\n",
              "      <td>2.942632e+04</td>\n",
              "      <td>-1.007566e+02</td>\n",
              "    </tr>\n",
              "    <tr>\n",
              "      <th>2</th>\n",
              "      <td>1966-04-01</td>\n",
              "      <td>306.0</td>\n",
              "      <td>0.002754</td>\n",
              "      <td>0.0121</td>\n",
              "      <td>1.129219e+05</td>\n",
              "      <td>8.260522e+03</td>\n",
              "    </tr>\n",
              "    <tr>\n",
              "      <th>3</th>\n",
              "      <td>1966-08-01</td>\n",
              "      <td>520.0</td>\n",
              "      <td>0.004680</td>\n",
              "      <td>0.0210</td>\n",
              "      <td>2.376390e+05</td>\n",
              "      <td>5.709512e+04</td>\n",
              "    </tr>\n",
              "    <tr>\n",
              "      <th>4</th>\n",
              "      <td>1967-02-01</td>\n",
              "      <td>820.0</td>\n",
              "      <td>0.007380</td>\n",
              "      <td>0.0335</td>\n",
              "      <td>4.534019e+05</td>\n",
              "      <td>1.779618e+05</td>\n",
              "    </tr>\n",
              "    <tr>\n",
              "      <th>5</th>\n",
              "      <td>1968-01-01</td>\n",
              "      <td>1009.0</td>\n",
              "      <td>0.009081</td>\n",
              "      <td>0.0413</td>\n",
              "      <td>8.423621e+05</td>\n",
              "      <td>5.149112e+05</td>\n",
              "    </tr>\n",
              "    <tr>\n",
              "      <th>6</th>\n",
              "      <td>1970-01-01</td>\n",
              "      <td>1220.0</td>\n",
              "      <td>0.010980</td>\n",
              "      <td>0.0501</td>\n",
              "      <td>1.590509e+06</td>\n",
              "      <td>1.217184e+06</td>\n",
              "    </tr>\n",
              "    <tr>\n",
              "      <th>7</th>\n",
              "      <td>1972-01-01</td>\n",
              "      <td>1442.0</td>\n",
              "      <td>0.012978</td>\n",
              "      <td>0.0593</td>\n",
              "      <td>2.111236e+06</td>\n",
              "      <td>1.687666e+06</td>\n",
              "    </tr>\n",
              "    <tr>\n",
              "      <th>8</th>\n",
              "      <td>1974-01-01</td>\n",
              "      <td>1531.0</td>\n",
              "      <td>0.013779</td>\n",
              "      <td>0.0630</td>\n",
              "      <td>2.406774e+06</td>\n",
              "      <td>1.979082e+06</td>\n",
              "    </tr>\n",
              "    <tr>\n",
              "      <th>9</th>\n",
              "      <td>1976-01-01</td>\n",
              "      <td>1653.0</td>\n",
              "      <td>0.014877</td>\n",
              "      <td>0.0681</td>\n",
              "      <td>2.503513e+06</td>\n",
              "      <td>2.064178e+06</td>\n",
              "    </tr>\n",
              "    <tr>\n",
              "      <th>10</th>\n",
              "      <td>1980-01-01</td>\n",
              "      <td>1699.0</td>\n",
              "      <td>0.015291</td>\n",
              "      <td>0.0700</td>\n",
              "      <td>2.607322e+06</td>\n",
              "      <td>2.300758e+06</td>\n",
              "    </tr>\n",
              "  </tbody>\n",
              "</table>\n",
              "</div>"
            ],
            "text/plain": [
              "         Date  delta_pressure(psi)  ...    F(res bbl)   We(res bbl)\n",
              "0  1966-01-01                  0.0  ...  0.000000e+00  0.000000e+00\n",
              "1  1966-02-01                 94.0  ...  2.942632e+04 -1.007566e+02\n",
              "2  1966-04-01                306.0  ...  1.129219e+05  8.260522e+03\n",
              "3  1966-08-01                520.0  ...  2.376390e+05  5.709512e+04\n",
              "4  1967-02-01                820.0  ...  4.534019e+05  1.779618e+05\n",
              "5  1968-01-01               1009.0  ...  8.423621e+05  5.149112e+05\n",
              "6  1970-01-01               1220.0  ...  1.590509e+06  1.217184e+06\n",
              "7  1972-01-01               1442.0  ...  2.111236e+06  1.687666e+06\n",
              "8  1974-01-01               1531.0  ...  2.406774e+06  1.979082e+06\n",
              "9  1976-01-01               1653.0  ...  2.503513e+06  2.064178e+06\n",
              "10 1980-01-01               1699.0  ...  2.607322e+06  2.300758e+06\n",
              "\n",
              "[11 rows x 6 columns]"
            ]
          },
          "metadata": {
            "tags": []
          },
          "execution_count": 142
        },
        {
          "output_type": "display_data",
          "data": {
            "image/png": "[encoded data removed]",
            "text/plain": [
              "<Figure size 864x504 with 1 Axes>"
            ]
          },
          "metadata": {
            "tags": []
          }
        }
      ]
    },
    {
      "cell_type": "code",
      "metadata": {
        "id": "AsipCTlW3JxC",
        "colab_type": "code",
        "outputId": "3d8f32a3-05e6-4475-e000-be30a49a2e08",
        "colab": {
          "base_uri": "https://localhost:8080/",
          "height": 831
        }
      },
      "source": [
        "\"FETKOVICH PSEUDOSTEADY METHOD\"\n",
        "\n",
        "# known\n",
        "r_aq = 20300 # aquifer size, ft\n",
        "theta = 180\n",
        "\n",
        "J = 52.2 # calculated productivity index, RB/D-psi\n",
        "Wei = 3.787E+06 # calculated initial encroachable water, res bbl\n",
        "\n",
        "# J and Wei already known, so we don't have to calculate J and Wei ourselves\n",
        "\n",
        "\"Subtracting datetimes to get time differences (how many days) IN INTEGER\"\n",
        "\n",
        "diff = [j-i for i, j in zip(timedata[:-1], timedata[1:])]\n",
        "diff = np.array(diff)\n",
        "\n",
        "# convert datetime format to integer\n",
        "diffr_arr = []\n",
        "for k in range(len(diff)):\n",
        "  diffr = diff[k] / np.timedelta64(1,'D')\n",
        "  diffr_arr.append(float(diffr))\n",
        "\n",
        "# append 0 to the first index of numpy\n",
        "diffr_arr = np.append([0], diffr_arr) # now diff has same dimension with time data (a)\n",
        "delta_time = diffr_arr\n",
        "\n",
        "\"calculate p_Rn_average (Equation 8.29)\"\n",
        "\n",
        "p_Rn_average = 0.5 * np.array([j+i for i, j in zip(alton.p[:-1], alton.p[1:])])\n",
        "p_Rn_average = np.append([pi], p_Rn_average)\n",
        "\n",
        "\"calculate delta_Wen (Equation 8.30)\"\n",
        "\n",
        "# \"calculate delta_Wen (Equation 8.30)\"\n",
        "\n",
        "# pn_min_prn = np.abs(np.array([j-i for i, j in zip(data4.p[:-1], p_Rn_average[1:])]))\n",
        "# pn_min_prn = np.append([0], pn_min_prn)\n",
        "\n",
        "\"Looping to calculate We\"\n",
        "We = 0 # We at initial production date (NOTE: different from Wei, initial encroachable water)\n",
        "delta_We_arr = []\n",
        "We_fetkovich = []\n",
        "pn_arr = []\n",
        "\n",
        "for i in range(len(alton.t)):\n",
        "  pn_min_one = pi * (1 - (We / Wei))\n",
        "  pn_min_prn = pn_min_one - p_Rn_average[i]\n",
        "  delta_We = (Wei / pi) * pn_min_prn * (1 - np.exp(-(J * pi * delta_time[i]) / (Wei)))\n",
        "  We = We + delta_We\n",
        "  # print(We)\n",
        "  delta_We_arr.append(float(delta_We))\n",
        "  We_fetkovich.append(float(We))\n",
        "  pn_arr.append(float(pn_min_one))\n",
        "\n",
        "# plot We vs time\n",
        "plt.figure(figsize=(12, 7))\n",
        "plt.plot(alton.t, We_fetkovich, '.-')\n",
        "plt.xlabel('Time (year)'); plt.ylabel('Aquifer Influx (res bbl)')\n",
        "plt.title('Fetkovich Aquifer Influx Plot of Alton Field')\n",
        "\n",
        "\"Table 8.14\"\n",
        "fetkovich = pd.DataFrame({\"Date\": alton.t, \"delta_t(days)\": delta_time, \"p(psia)\": alton.p, \"p_Rn_average\": p_Rn_average, \"delta_We(resbbl)\": delta_We_arr, \"We(resbbl)\": We_fetkovich})\n",
        "print(\"Table 8.14-Aquifer Influx for Alton Field using Fetkovich Method\")\n",
        "fetkovich"
      ],
      "execution_count": 141,
      "outputs": [
        {
          "output_type": "stream",
          "text": [
            "Table 8.14-Aquifer Influx for Alton Field using Fetkovich Method\n"
          ],
          "name": "stdout"
        },
        {
          "output_type": "execute_result",
          "data": {
            "text/html": [
              "<div>\n",
              "<style scoped>\n",
              "    .dataframe tbody tr th:only-of-type {\n",
              "        vertical-align: middle;\n",
              "    }\n",
              "\n",
              "    .dataframe tbody tr th {\n",
              "        vertical-align: top;\n",
              "    }\n",
              "\n",
              "    .dataframe thead th {\n",
              "        text-align: right;\n",
              "    }\n",
              "</style>\n",
              "<table border=\"1\" class=\"dataframe\">\n",
              "  <thead>\n",
              "    <tr style=\"text-align: right;\">\n",
              "      <th></th>\n",
              "      <th>Date</th>\n",
              "      <th>delta_t(days)</th>\n",
              "      <th>p(psia)</th>\n",
              "      <th>p_Rn_average</th>\n",
              "      <th>delta_We(resbbl)</th>\n",
              "      <th>We(resbbl)</th>\n",
              "    </tr>\n",
              "  </thead>\n",
              "  <tbody>\n",
              "    <tr>\n",
              "      <th>0</th>\n",
              "      <td>1966-01-01</td>\n",
              "      <td>0.0</td>\n",
              "      <td>2779.0</td>\n",
              "      <td>2779.0</td>\n",
              "      <td>0.000000</td>\n",
              "      <td>0.000000e+00</td>\n",
              "    </tr>\n",
              "    <tr>\n",
              "      <th>1</th>\n",
              "      <td>1966-02-01</td>\n",
              "      <td>31.0</td>\n",
              "      <td>2685.0</td>\n",
              "      <td>2732.0</td>\n",
              "      <td>44513.928701</td>\n",
              "      <td>4.451393e+04</td>\n",
              "    </tr>\n",
              "    <tr>\n",
              "      <th>2</th>\n",
              "      <td>1966-04-01</td>\n",
              "      <td>59.0</td>\n",
              "      <td>2473.0</td>\n",
              "      <td>2579.0</td>\n",
              "      <td>204236.001056</td>\n",
              "      <td>2.487499e+05</td>\n",
              "    </tr>\n",
              "    <tr>\n",
              "      <th>3</th>\n",
              "      <td>1966-08-01</td>\n",
              "      <td>122.0</td>\n",
              "      <td>2259.0</td>\n",
              "      <td>2366.0</td>\n",
              "      <td>311119.896220</td>\n",
              "      <td>5.598698e+05</td>\n",
              "    </tr>\n",
              "    <tr>\n",
              "      <th>4</th>\n",
              "      <td>1967-02-01</td>\n",
              "      <td>184.0</td>\n",
              "      <td>1959.0</td>\n",
              "      <td>2109.0</td>\n",
              "      <td>352845.980898</td>\n",
              "      <td>9.127158e+05</td>\n",
              "    </tr>\n",
              "    <tr>\n",
              "      <th>5</th>\n",
              "      <td>1968-01-01</td>\n",
              "      <td>334.0</td>\n",
              "      <td>1770.0</td>\n",
              "      <td>1864.5</td>\n",
              "      <td>333491.075559</td>\n",
              "      <td>1.246207e+06</td>\n",
              "    </tr>\n",
              "    <tr>\n",
              "      <th>6</th>\n",
              "      <td>1970-01-01</td>\n",
              "      <td>731.0</td>\n",
              "      <td>1559.0</td>\n",
              "      <td>1664.5</td>\n",
              "      <td>272545.006735</td>\n",
              "      <td>1.518752e+06</td>\n",
              "    </tr>\n",
              "    <tr>\n",
              "      <th>7</th>\n",
              "      <td>1972-01-01</td>\n",
              "      <td>730.0</td>\n",
              "      <td>1337.0</td>\n",
              "      <td>1448.0</td>\n",
              "      <td>295028.967254</td>\n",
              "      <td>1.813781e+06</td>\n",
              "    </tr>\n",
              "    <tr>\n",
              "      <th>8</th>\n",
              "      <td>1974-01-01</td>\n",
              "      <td>731.0</td>\n",
              "      <td>1248.0</td>\n",
              "      <td>1292.5</td>\n",
              "      <td>211903.022670</td>\n",
              "      <td>2.025684e+06</td>\n",
              "    </tr>\n",
              "    <tr>\n",
              "      <th>9</th>\n",
              "      <td>1976-01-01</td>\n",
              "      <td>730.0</td>\n",
              "      <td>1126.0</td>\n",
              "      <td>1187.0</td>\n",
              "      <td>143767.002519</td>\n",
              "      <td>2.169451e+06</td>\n",
              "    </tr>\n",
              "    <tr>\n",
              "      <th>10</th>\n",
              "      <td>1980-01-01</td>\n",
              "      <td>1461.0</td>\n",
              "      <td>1080.0</td>\n",
              "      <td>1103.0</td>\n",
              "      <td>114468.513854</td>\n",
              "      <td>2.283919e+06</td>\n",
              "    </tr>\n",
              "  </tbody>\n",
              "</table>\n",
              "</div>"
            ],
            "text/plain": [
              "         Date  delta_t(days)  ...  delta_We(resbbl)    We(resbbl)\n",
              "0  1966-01-01            0.0  ...          0.000000  0.000000e+00\n",
              "1  1966-02-01           31.0  ...      44513.928701  4.451393e+04\n",
              "2  1966-04-01           59.0  ...     204236.001056  2.487499e+05\n",
              "3  1966-08-01          122.0  ...     311119.896220  5.598698e+05\n",
              "4  1967-02-01          184.0  ...     352845.980898  9.127158e+05\n",
              "5  1968-01-01          334.0  ...     333491.075559  1.246207e+06\n",
              "6  1970-01-01          731.0  ...     272545.006735  1.518752e+06\n",
              "7  1972-01-01          730.0  ...     295028.967254  1.813781e+06\n",
              "8  1974-01-01          731.0  ...     211903.022670  2.025684e+06\n",
              "9  1976-01-01          730.0  ...     143767.002519  2.169451e+06\n",
              "10 1980-01-01         1461.0  ...     114468.513854  2.283919e+06\n",
              "\n",
              "[11 rows x 6 columns]"
            ]
          },
          "metadata": {
            "tags": []
          },
          "execution_count": 141
        },
        {
          "output_type": "display_data",
          "data": {
            "image/png": "[encoded data removed]",
            "text/plain": [
              "<Figure size 864x504 with 1 Axes>"
            ]
          },
          "metadata": {
            "tags": []
          }
        }
      ]
    },
    {
      "cell_type": "code",
      "metadata": {
        "id": "uAqj0zjUPwWh",
        "colab_type": "code",
        "colab": {
          "base_uri": "https://localhost:8080/",
          "height": 491
        },
        "outputId": "cf7dd9b0-107f-404d-d68e-cd368bd0de7d"
      },
      "source": [
        "\"Compare Schilthuis and Fetkovich Plot\"\n",
        "\n",
        "plt.figure(figsize=(12, 7))\n",
        "p1 = plt.plot(alton.t, We_schiltuis, '.-')\n",
        "p2 = plt.plot(alton.t, We_fetkovich, '.-')\n",
        "plt.legend((p1[0], p2[0]), ('Schilthuis Steady-State Material Balance Method','Fetkovich Pseudosteady-State Method'))\n",
        "plt.xlabel('Time (year)'); plt.ylabel('Aquifer Influx (res bbl)')\n",
        "plt.title('Alton Field Aquifer Influx Comparisons of Schilthuis and Fetkovich Method', pad=20, size=15)\n",
        "plt.xlim(min(alton.t), max(alton.t)); plt.ylim(ymin=0)"
      ],
      "execution_count": 148,
      "outputs": [
        {
          "output_type": "execute_result",
          "data": {
            "text/plain": [
              "(0, 2415801.420646859)"
            ]
          },
          "metadata": {
            "tags": []
          },
          "execution_count": 148
        },
        {
          "output_type": "display_data",
          "data": {
            "image/png": "[encoded data removed]",
            "text/plain": [
              "<Figure size 864x504 with 1 Axes>"
            ]
          },
          "metadata": {
            "tags": []
          }
        }
      ]
    },
    {
      "cell_type": "markdown",
      "metadata": {
        "id": "qpUbGYHghFev",
        "colab_type": "text"
      },
      "source": [
        "# ***"
      ]
    },
    {
      "cell_type": "code",
      "metadata": {
        "id": "arp6pRVWEvTc",
        "colab_type": "code",
        "outputId": "ece205a9-1dd2-4ab3-edf4-858ceac66ebe",
        "colab": {
          "base_uri": "https://localhost:8080/",
          "height": 34
        }
      },
      "source": [
        "\"Cumulative sum\"\n",
        "array = [1, 2, 3, 4, 5]\n",
        "cum = np.cumsum(array)\n",
        "cum"
      ],
      "execution_count": 0,
      "outputs": [
        {
          "output_type": "execute_result",
          "data": {
            "text/plain": [
              "array([ 1,  3,  6, 10, 15])"
            ]
          },
          "metadata": {
            "tags": []
          },
          "execution_count": 205
        }
      ]
    },
    {
      "cell_type": "code",
      "metadata": {
        "id": "LEADIB9-eitR",
        "colab_type": "code",
        "outputId": "074c4f74-7677-4ea8-ebed-032c42643e6a",
        "colab": {
          "base_uri": "https://localhost:8080/",
          "height": 34
        }
      },
      "source": [
        "a = np.array([pi, pi])\n",
        "b = np.append(np.array([1, 1]), a)\n",
        "b"
      ],
      "execution_count": 0,
      "outputs": [
        {
          "output_type": "execute_result",
          "data": {
            "text/plain": [
              "array([   1,    1, 2532, 2532])"
            ]
          },
          "metadata": {
            "tags": []
          },
          "execution_count": 74
        }
      ]
    },
    {
      "cell_type": "code",
      "metadata": {
        "id": "hjrrs6SlLnQV",
        "colab_type": "code",
        "outputId": "193869b5-5a5f-4950-ce6c-80e84bdf91b0",
        "colab": {
          "base_uri": "https://localhost:8080/",
          "height": 67
        }
      },
      "source": [
        "data = np.array([1, 1, 2, 4, 5, 6, 10])\n",
        "print(data[2:None])\n",
        "print(data[:2])\n",
        "[b-a for a, b in zip(data[:-2], data[2:])]"
      ],
      "execution_count": 0,
      "outputs": [
        {
          "output_type": "stream",
          "text": [
            "[ 2  4  5  6 10]\n",
            "[1 1]\n"
          ],
          "name": "stdout"
        },
        {
          "output_type": "execute_result",
          "data": {
            "text/plain": [
              "[1, 3, 3, 2, 5]"
            ]
          },
          "metadata": {
            "tags": []
          },
          "execution_count": 70
        }
      ]
    },
    {
      "cell_type": "code",
      "metadata": {
        "id": "epyovMaXjnpW",
        "colab_type": "code",
        "outputId": "d5354fd6-371f-445c-9b01-4ceda4cceea2",
        "colab": {
          "base_uri": "https://localhost:8080/",
          "height": 202
        }
      },
      "source": [
        "time_array = np.array(pressure_drop_calc.iloc[:, 2]) # time\n",
        "\n",
        "array_arr = []\n",
        "\n",
        "for i in range(len(time_array)):\n",
        "  # new_array = pressure_array[:i+1]\n",
        "  new_array = time_array[:i]\n",
        "  array_arr.append(new_array)\n",
        "\n",
        "array_arrr = array_arr[1:]\n",
        "array_arrr"
      ],
      "execution_count": 0,
      "outputs": [
        {
          "output_type": "execute_result",
          "data": {
            "text/plain": [
              "[array([0.]),\n",
              " array([   0., 6576.]),\n",
              " array([   0., 6576., 8784.]),\n",
              " array([    0.,  6576.,  8784., 10944.]),\n",
              " array([    0.,  6576.,  8784., 10944., 14616.]),\n",
              " array([    0.,  6576.,  8784., 10944., 14616., 19704.]),\n",
              " array([    0.,  6576.,  8784., 10944., 14616., 19704., 28464.]),\n",
              " array([     0.,   6576.,   8784.,  10944.,  14616.,  19704.,  28464.,\n",
              "        117600.]),\n",
              " array([     0.,   6576.,   8784.,  10944.,  14616.,  19704.,  28464.,\n",
              "        117600., 152664.])]"
            ]
          },
          "metadata": {
            "tags": []
          },
          "execution_count": 128
        }
      ]
    },
    {
      "cell_type": "code",
      "metadata": {
        "id": "OqXNPQXkrgWJ",
        "colab_type": "code",
        "outputId": "1b7f20ab-06c3-4281-c0a2-171c17765eec",
        "colab": {
          "base_uri": "https://localhost:8080/",
          "height": 202
        }
      },
      "source": [
        "b_arr = []\n",
        "\n",
        "for i in range(len(time_array)):\n",
        "  b = np.repeat((time_array[i]), i)\n",
        "  b_arr.append(b)\n",
        "\n",
        "b_arrr = b_arr[1:]\n",
        "b_arrr"
      ],
      "execution_count": 0,
      "outputs": [
        {
          "output_type": "execute_result",
          "data": {
            "text/plain": [
              "[array([6576.]),\n",
              " array([8784., 8784.]),\n",
              " array([10944., 10944., 10944.]),\n",
              " array([14616., 14616., 14616., 14616.]),\n",
              " array([19704., 19704., 19704., 19704., 19704.]),\n",
              " array([28464., 28464., 28464., 28464., 28464., 28464.]),\n",
              " array([117600., 117600., 117600., 117600., 117600., 117600., 117600.]),\n",
              " array([152664., 152664., 152664., 152664., 152664., 152664., 152664.,\n",
              "        152664.]),\n",
              " array([188448., 188448., 188448., 188448., 188448., 188448., 188448.,\n",
              "        188448., 188448.])]"
            ]
          },
          "metadata": {
            "tags": []
          },
          "execution_count": 131
        }
      ]
    },
    {
      "cell_type": "code",
      "metadata": {
        "id": "t9hhKrHIs-aO",
        "colab_type": "code",
        "outputId": "18fb7235-0f7f-489b-ad85-2f06f8862fa2",
        "colab": {
          "base_uri": "https://localhost:8080/",
          "height": 50
        }
      },
      "source": [
        "solved = np.subtract(b_arrr, array_arrr)\n",
        "solved[8]"
      ],
      "execution_count": 0,
      "outputs": [
        {
          "output_type": "execute_result",
          "data": {
            "text/plain": [
              "array([188448., 181872., 179664., 177504., 173832., 168744., 159984.,\n",
              "        70848.,  35784.])"
            ]
          },
          "metadata": {
            "tags": []
          },
          "execution_count": 136
        }
      ]
    },
    {
      "cell_type": "code",
      "metadata": {
        "id": "LTmK6Flx-FW9",
        "colab_type": "code",
        "outputId": "ac771f4b-99e6-453e-babe-3c381cbf36e8",
        "colab": {
          "base_uri": "https://localhost:8080/",
          "height": 34
        }
      },
      "source": [
        "\"Converting to Panda datetime\"\n",
        "\n",
        "# time data in format: 1 January 1964\n",
        "a = np.array([\"1 January 1964\", \"1 October 1964\", \"1 December 1964\", \"31 March 1965\"])\n",
        "b = np.array([1000, 2000, 3000, 4000])\n",
        "raw_data = pd.DataFrame({\"a\": a, \"b\": b})\n",
        "raw_data['a'] =  pd.to_datetime(raw_data['a'], format='%d %B %Y') # format check web: https://strftime.org/\n",
        "# raw_data['a'] =  pd.to_datetime(raw_data['a'], format='%B %Y') \"if format in: January 1964, October 1964\"\n",
        "raw_data # already converted to YYYY-MM-DD\n",
        "\n",
        "\"Subtracting datetimes to get time differences (how many days) IN INTEGER\"\n",
        "\n",
        "diff = [j-i for i, j in zip(raw_data.a[:-1], raw_data.a[1:])]\n",
        "diff = np.array(diff)\n",
        "\n",
        "# convert datetime format to integer\n",
        "diffr_arr = []\n",
        "for k in range(len(diff)):\n",
        "  diffr = diff[k] / np.timedelta64(1,'D')\n",
        "  diffr_arr.append(float(diffr))\n",
        "\n",
        "# append 0 to the first index of numpy\n",
        "diffr_arr = np.append([0], diffr_arr) # now diff has same dimension with time data (a)\n",
        "diffr_arr\n"
      ],
      "execution_count": 0,
      "outputs": [
        {
          "output_type": "execute_result",
          "data": {
            "text/plain": [
              "array([  0., 274.,  61., 120.])"
            ]
          },
          "metadata": {
            "tags": []
          },
          "execution_count": 84
        }
      ]
    }
  ]
}