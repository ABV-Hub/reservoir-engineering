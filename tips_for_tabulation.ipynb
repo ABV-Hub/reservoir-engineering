{
  "nbformat": 4,
  "nbformat_minor": 0,
  "metadata": {
    "colab": {
      "name": "tips_for_tabulation.ipynb",
      "provenance": [],
      "collapsed_sections": [],
      "authorship_tag": "ABX9TyPYWSdoxg4YvliYwZO6RByW",
      "include_colab_link": true
    },
    "kernelspec": {
      "name": "python3",
      "display_name": "Python 3"
    }
  },
  "cells": [
    {
      "cell_type": "markdown",
      "metadata": {
        "id": "view-in-github",
        "colab_type": "text"
      },
      "source": [
        "<a href=\"https://colab.research.google.com/github/yohanesnuwara/reservoir-engineering/blob/master/tips_for_tabulation.ipynb\" target=\"_parent\"><img src=\"https://colab.research.google.com/assets/colab-badge.svg\" alt=\"Open In Colab\"/></a>"
      ]
    },
    {
      "cell_type": "markdown",
      "metadata": {
        "id": "F-UI9kQ9EFJV",
        "colab_type": "text"
      },
      "source": [
        "# **Value finder for Tabulation**\n",
        "\n",
        "Some engineering calculations usually use **tabulation** to do calculation, rather than solve analytically or numerically. For example in this book Unit 6, in the case in reservoir engineering of solving 1-phase flow, there are calculations that include **exponential integration function** (Equation 6.28). Van Everdingen and Hurst (1949) has solved this and published a table to simplify computation. \n",
        "\n",
        "So we have to find and trace the value in the table when using Tables. There are 2 methods in Python:\n",
        "\n",
        "\n",
        "*   **Pandas**. Convert Table in CSV format to dataframe and search value using `iloc`, but sometimes it fails to read the value we want\n",
        "*   Alternatively, the more traditional **Numpy** can be used, using `numpy.where`. Table is in TXT format.\n",
        "\n"
      ]
    },
    {
      "cell_type": "code",
      "metadata": {
        "id": "bKB_UYeDxx-P",
        "colab_type": "code",
        "colab": {}
      },
      "source": [
        "import numpy as np\n",
        "import matplotlib.pyplot as plt\n",
        "import pandas as pd"
      ],
      "execution_count": 0,
      "outputs": []
    },
    {
      "cell_type": "code",
      "metadata": {
        "id": "5Dy4V_Lkx7AP",
        "colab_type": "code",
        "colab": {
          "base_uri": "https://localhost:8080/",
          "height": 151
        },
        "outputId": "6c4c8e95-77db-408b-c74b-5b4b5cd9566d"
      },
      "source": [
        "!git clone https://www.github.com/yohanesnuwara/reservoir-engineering"
      ],
      "execution_count": 2,
      "outputs": [
        {
          "output_type": "stream",
          "text": [
            "Cloning into 'reservoir-engineering'...\n",
            "warning: redirecting to https://github.com/yohanesnuwara/reservoir-engineering.git/\n",
            "remote: Enumerating objects: 40, done.\u001b[K\n",
            "remote: Counting objects: 100% (40/40), done.\u001b[K\n",
            "remote: Compressing objects: 100% (34/34), done.\u001b[K\n",
            "remote: Total 400 (delta 13), reused 0 (delta 0), pack-reused 360\u001b[K\n",
            "Receiving objects: 100% (400/400), 1.06 MiB | 1.50 MiB/s, done.\n",
            "Resolving deltas: 100% (167/167), done.\n"
          ],
          "name": "stdout"
        }
      ]
    },
    {
      "cell_type": "code",
      "metadata": {
        "id": "YGTWX-hl0rqB",
        "colab_type": "code",
        "colab": {
          "base_uri": "https://localhost:8080/",
          "height": 34
        },
        "outputId": "d3137b3e-eedb-4c01-8270-83e65ff57235"
      },
      "source": [
        "# Step 1. load TXT data\n",
        "numpy = np.loadtxt('/content/reservoir-engineering/Appendix A. Values and Tabulations/LineSourceWellEi.txt')\n",
        "\n",
        "# Step 2. at column 1 (numpy[:, 0]), get the index of the row where the value x we want is located. The resulted index is still in LIST format, not in integer.\\\n",
        "value_x_we_want = 2.6\n",
        "index = np.where(numpy[:,0] == value_x_we_want)\n",
        "\n",
        "# Step 3. convert the index into integer\n",
        "index = np.array((index)[0])\n",
        "index = int(index)\n",
        "\n",
        "# Step 4. trace the value in column 2 at index (numpy[index, 1])\n",
        "value_y = numpy[index, 1]\n",
        "print(value_y)"
      ],
      "execution_count": 56,
      "outputs": [
        {
          "output_type": "stream",
          "text": [
            "0.0219\n"
          ],
          "name": "stdout"
        }
      ]
    }
  ]
}