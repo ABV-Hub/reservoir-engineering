{
  "nbformat": 4,
  "nbformat_minor": 0,
  "metadata": {
    "colab": {
      "name": "2_practices.ipynb",
      "provenance": [],
      "collapsed_sections": [],
      "toc_visible": true,
      "authorship_tag": "ABX9TyN2xlEn2VHbQpo32GJaLcT2",
      "include_colab_link": true
    },
    "kernelspec": {
      "name": "python3",
      "display_name": "Python 3"
    }
  },
  "cells": [
    {
      "cell_type": "markdown",
      "metadata": {
        "id": "view-in-github",
        "colab_type": "text"
      },
      "source": [
        "<a href=\"https://colab.research.google.com/github/yohanesnuwara/reservoir-engineering/blob/master/Unit%202%20Review%20of%20Rock%20and%20Fluid%20Properties/notebook/2_practices.ipynb\" target=\"_parent\"><img src=\"https://colab.research.google.com/assets/colab-badge.svg\" alt=\"Open In Colab\"/></a>"
      ]
    },
    {
      "cell_type": "markdown",
      "metadata": {
        "id": "t8W1DJSH0mQi",
        "colab_type": "text"
      },
      "source": [
        "# Unit 2. Review of Rock and Fluid Properties (Practice Problems)"
      ]
    },
    {
      "cell_type": "code",
      "metadata": {
        "id": "Ytqki01a1PEg",
        "colab_type": "code",
        "colab": {}
      },
      "source": [
        "import numpy as np\n",
        "import matplotlib.pyplot as plt\n",
        "import pandas as pd"
      ],
      "execution_count": 0,
      "outputs": []
    },
    {
      "cell_type": "code",
      "metadata": {
        "id": "MhgVvf27yhK4",
        "colab_type": "code",
        "colab": {
          "base_uri": "https://localhost:8080/",
          "height": 122
        },
        "outputId": "a200dabc-8aed-433c-b2be-5aa074a7d61d"
      },
      "source": [
        "!git clone https://github.com/yohanesnuwara/reservoir-engineering"
      ],
      "execution_count": 2,
      "outputs": [
        {
          "output_type": "stream",
          "text": [
            "Cloning into 'reservoir-engineering'...\n",
            "remote: Enumerating objects: 48, done.\u001b[K\n",
            "remote: Counting objects: 100% (48/48), done.\u001b[K\n",
            "remote: Compressing objects: 100% (43/43), done.\u001b[K\n",
            "remote: Total 48 (delta 19), reused 0 (delta 0), pack-reused 0\u001b[K\n",
            "Unpacking objects: 100% (48/48), done.\n"
          ],
          "name": "stdout"
        }
      ]
    },
    {
      "cell_type": "markdown",
      "metadata": {
        "id": "-WWYvGPR01nM",
        "colab_type": "text"
      },
      "source": [
        "# Example 2.2 Relative Permeability Calculations from Steady-State Tests"
      ]
    },
    {
      "cell_type": "code",
      "metadata": {
        "id": "2Locsuy64M_C",
        "colab_type": "code",
        "colab": {
          "base_uri": "https://localhost:8080/",
          "height": 343
        },
        "outputId": "cac1ece2-0659-4bf3-fe0b-0f39bdf40c96"
      },
      "source": [
        "flowrate = pd.read_csv('/content/reservoir-engineering/Unit 2 Review of Rock and Fluid Properties/data/Table 2.2-Flow Rates for Example 2.2.csv')\n",
        "flowrate"
      ],
      "execution_count": 21,
      "outputs": [
        {
          "output_type": "execute_result",
          "data": {
            "text/html": [
              "<div>\n",
              "<style scoped>\n",
              "    .dataframe tbody tr th:only-of-type {\n",
              "        vertical-align: middle;\n",
              "    }\n",
              "\n",
              "    .dataframe tbody tr th {\n",
              "        vertical-align: top;\n",
              "    }\n",
              "\n",
              "    .dataframe thead th {\n",
              "        text-align: right;\n",
              "    }\n",
              "</style>\n",
              "<table border=\"1\" class=\"dataframe\">\n",
              "  <thead>\n",
              "    <tr style=\"text-align: right;\">\n",
              "      <th></th>\n",
              "      <th>Sw</th>\n",
              "      <th>qo</th>\n",
              "      <th>qw</th>\n",
              "    </tr>\n",
              "  </thead>\n",
              "  <tbody>\n",
              "    <tr>\n",
              "      <th>0</th>\n",
              "      <td>0.00</td>\n",
              "      <td>0.0600</td>\n",
              "      <td>0.000</td>\n",
              "    </tr>\n",
              "    <tr>\n",
              "      <th>1</th>\n",
              "      <td>0.20</td>\n",
              "      <td>0.0420</td>\n",
              "      <td>0.000</td>\n",
              "    </tr>\n",
              "    <tr>\n",
              "      <th>2</th>\n",
              "      <td>0.30</td>\n",
              "      <td>0.0300</td>\n",
              "      <td>0.010</td>\n",
              "    </tr>\n",
              "    <tr>\n",
              "      <th>3</th>\n",
              "      <td>0.40</td>\n",
              "      <td>0.0200</td>\n",
              "      <td>0.020</td>\n",
              "    </tr>\n",
              "    <tr>\n",
              "      <th>4</th>\n",
              "      <td>0.50</td>\n",
              "      <td>0.0130</td>\n",
              "      <td>0.035</td>\n",
              "    </tr>\n",
              "    <tr>\n",
              "      <th>5</th>\n",
              "      <td>0.60</td>\n",
              "      <td>0.0075</td>\n",
              "      <td>0.051</td>\n",
              "    </tr>\n",
              "    <tr>\n",
              "      <th>6</th>\n",
              "      <td>0.70</td>\n",
              "      <td>0.0040</td>\n",
              "      <td>0.068</td>\n",
              "    </tr>\n",
              "    <tr>\n",
              "      <th>7</th>\n",
              "      <td>0.80</td>\n",
              "      <td>0.0010</td>\n",
              "      <td>0.085</td>\n",
              "    </tr>\n",
              "    <tr>\n",
              "      <th>8</th>\n",
              "      <td>0.85</td>\n",
              "      <td>0.0000</td>\n",
              "      <td>0.096</td>\n",
              "    </tr>\n",
              "    <tr>\n",
              "      <th>9</th>\n",
              "      <td>1.00</td>\n",
              "      <td>0.0000</td>\n",
              "      <td>0.250</td>\n",
              "    </tr>\n",
              "  </tbody>\n",
              "</table>\n",
              "</div>"
            ],
            "text/plain": [
              "     Sw      qo     qw\n",
              "0  0.00  0.0600  0.000\n",
              "1  0.20  0.0420  0.000\n",
              "2  0.30  0.0300  0.010\n",
              "3  0.40  0.0200  0.020\n",
              "4  0.50  0.0130  0.035\n",
              "5  0.60  0.0075  0.051\n",
              "6  0.70  0.0040  0.068\n",
              "7  0.80  0.0010  0.085\n",
              "8  0.85  0.0000  0.096\n",
              "9  1.00  0.0000  0.250"
            ]
          },
          "metadata": {
            "tags": []
          },
          "execution_count": 21
        }
      ]
    },
    {
      "cell_type": "code",
      "metadata": {
        "id": "4fx_1kmM5tBK",
        "colab_type": "code",
        "colab": {
          "base_uri": "https://localhost:8080/",
          "height": 313
        },
        "outputId": "4c88c995-0c1c-423b-e864-0a9d6e996d4a"
      },
      "source": [
        "# plot data\n",
        "p1 = plt.plot(flowrate.Sw, flowrate.qo)\n",
        "p2 = plt.plot(flowrate.Sw, flowrate.qw)\n",
        "plt.xlabel(\"Sw\"); plt.ylabel(\"q_oil, q_water (cm3/s)\")\n",
        "plt.legend((p1[0], p2[0]), ('q_oil', 'q_water'))\n",
        "plt.title(\"Flow Rates\")"
      ],
      "execution_count": 22,
      "outputs": [
        {
          "output_type": "execute_result",
          "data": {
            "text/plain": [
              "Text(0.5, 1.0, 'Flow Rates')"
            ]
          },
          "metadata": {
            "tags": []
          },
          "execution_count": 22
        },
        {
          "output_type": "display_data",
          "data": {
            "image/png": "[encoded data removed]",
            "text/plain": [
              "<Figure size 432x288 with 1 Axes>"
            ]
          },
          "metadata": {
            "tags": []
          }
        }
      ]
    },
    {
      "cell_type": "code",
      "metadata": {
        "id": "i2Rv1Wl77sxn",
        "colab_type": "code",
        "colab": {
          "base_uri": "https://localhost:8080/",
          "height": 313
        },
        "outputId": "f7e0d591-c86b-4ff7-b65f-dd1072a2799d"
      },
      "source": [
        "# Question 1. calculate relative permeabilities of oil and water\n",
        "kr_o = flowrate.qo / flowrate.qo[0] #qo per q0 at Sw=0\n",
        "kr_w = flowrate.qw / flowrate.qw[9] #qw per qw at Sw=1\n",
        "\n",
        "# plot result\n",
        "p1 = plt.plot(flowrate.Sw, kr_o)\n",
        "p2 = plt.plot(flowrate.Sw, kr_w)\n",
        "plt.xlabel(\"Sw\"); plt.ylabel(\"kr_o, kr_w (unitless)\")\n",
        "plt.legend((p1[0], p2[0]), ('kr_o', 'kr_w'))\n",
        "plt.title(\"Relative Permeabilities\")"
      ],
      "execution_count": 23,
      "outputs": [
        {
          "output_type": "execute_result",
          "data": {
            "text/plain": [
              "Text(0.5, 1.0, 'Relative Permeabilities')"
            ]
          },
          "metadata": {
            "tags": []
          },
          "execution_count": 23
        },
        {
          "output_type": "display_data",
          "data": {
            "image/png": "[encoded data removed]",
            "text/plain": [
              "<Figure size 432x288 with 1 Axes>"
            ]
          },
          "metadata": {
            "tags": []
          }
        }
      ]
    },
    {
      "cell_type": "code",
      "metadata": {
        "id": "m8-aCQN79sOR",
        "colab_type": "code",
        "colab": {
          "base_uri": "https://localhost:8080/",
          "height": 313
        },
        "outputId": "47e21c00-eeb6-4e28-8334-3fd2c3f115a5"
      },
      "source": [
        "# Question 2. calculate the phase permeabilities of oil and water\n",
        "\n",
        "#known\n",
        "mu_oil = 5 #oil viscosity, cP\n",
        "mu_water = 1.2 #water viscosity, cP\n",
        "core_length = 12 #cm\n",
        "dP = -2.5 #negative because of pressure drop, atm\n",
        "core_area = 5 #cm2\n",
        "\n",
        "# so in this case, Darcy units are used (refer to Table 2.1), the unit of k will be in Darcy \n",
        "# use q = -k*A/mu*dp/dx, negative sign because pressure drop\n",
        "\n",
        "k_o = -(flowrate.qo * mu_oil / core_area) / (dP / core_length)\n",
        "k_w = -(flowrate.qw * mu_water / core_area) / (dP / core_length)\n",
        "\n",
        "# plot result\n",
        "p1 = plt.plot(flowrate.Sw, k_o)\n",
        "p2 = plt.plot(flowrate.Sw, k_w)\n",
        "plt.xlabel(\"Sw\"); plt.ylabel(\"k_o, k_w (unitless)\")\n",
        "plt.legend((p1[0], p2[0]), ('k_o', 'k_w'))\n",
        "plt.title(\"Phase Permeabilities\")"
      ],
      "execution_count": 27,
      "outputs": [
        {
          "output_type": "execute_result",
          "data": {
            "text/plain": [
              "Text(0.5, 1.0, 'Phase Permeabilities')"
            ]
          },
          "metadata": {
            "tags": []
          },
          "execution_count": 27
        },
        {
          "output_type": "display_data",
          "data": {
            "image/png": "[encoded data removed]",
            "text/plain": [
              "<Figure size 432x288 with 1 Axes>"
            ]
          },
          "metadata": {
            "tags": []
          }
        }
      ]
    },
    {
      "cell_type": "markdown",
      "metadata": {
        "id": "ngIFsqPyUrQ-",
        "colab_type": "text"
      },
      "source": [
        "# Example 2.3 Calculation of Leverett J Function (Capillary Pressure)"
      ]
    },
    {
      "cell_type": "code",
      "metadata": {
        "id": "F-rdJ1GWU1Sr",
        "colab_type": "code",
        "colab": {
          "base_uri": "https://localhost:8080/",
          "height": 195
        },
        "outputId": "bd4c9b12-c148-4a1c-96c4-11f9c6b29cd7"
      },
      "source": [
        "# Question. calculate Leverett J function for different sets of core\n",
        "\n",
        "# known\n",
        "sigma = 72 # interfacial tension, in dyne/cm\n",
        "theta = 45 # angle of wettability\n",
        "\n",
        "# data: four sets of core from same reservoir, each has k and porosity (Table 2.5)\n",
        "# capillary pressure in psi\n",
        "capilar = pd.read_csv('/content/reservoir-engineering/Unit 2 Review of Rock and Fluid Properties/data/Table 2.3-Capillary Pressure Sets for Example 2.3.csv')\n",
        "capilar.head()\n",
        "\n",
        "# Pc_1: capillary pressure of core 1, at 1 md and poro 0.08\n",
        "# Pc_2: capillary pressure of core 2, at 15 md and poro 0.11\n",
        "# Pc_3: capillary pressure of core 3, at 100 md and poro 0.15\n",
        "# Pc_4: capillary pressure of core 4, at 500 md and poro 0.22"
      ],
      "execution_count": 31,
      "outputs": [
        {
          "output_type": "execute_result",
          "data": {
            "text/html": [
              "<div>\n",
              "<style scoped>\n",
              "    .dataframe tbody tr th:only-of-type {\n",
              "        vertical-align: middle;\n",
              "    }\n",
              "\n",
              "    .dataframe tbody tr th {\n",
              "        vertical-align: top;\n",
              "    }\n",
              "\n",
              "    .dataframe thead th {\n",
              "        text-align: right;\n",
              "    }\n",
              "</style>\n",
              "<table border=\"1\" class=\"dataframe\">\n",
              "  <thead>\n",
              "    <tr style=\"text-align: right;\">\n",
              "      <th></th>\n",
              "      <th>sw</th>\n",
              "      <th>Pc_1</th>\n",
              "      <th>Pc_2</th>\n",
              "      <th>Pc_3</th>\n",
              "      <th>Pc_4</th>\n",
              "    </tr>\n",
              "  </thead>\n",
              "  <tbody>\n",
              "    <tr>\n",
              "      <th>0</th>\n",
              "      <td>15.0</td>\n",
              "      <td>93.59</td>\n",
              "      <td>28.34</td>\n",
              "      <td>12.82</td>\n",
              "      <td>6.94</td>\n",
              "    </tr>\n",
              "    <tr>\n",
              "      <th>1</th>\n",
              "      <td>16.0</td>\n",
              "      <td>66.48</td>\n",
              "      <td>20.13</td>\n",
              "      <td>9.10</td>\n",
              "      <td>4.93</td>\n",
              "    </tr>\n",
              "    <tr>\n",
              "      <th>2</th>\n",
              "      <td>17.0</td>\n",
              "      <td>46.54</td>\n",
              "      <td>14.09</td>\n",
              "      <td>6.37</td>\n",
              "      <td>3.45</td>\n",
              "    </tr>\n",
              "    <tr>\n",
              "      <th>3</th>\n",
              "      <td>18.0</td>\n",
              "      <td>39.89</td>\n",
              "      <td>12.08</td>\n",
              "      <td>5.46</td>\n",
              "      <td>2.96</td>\n",
              "    </tr>\n",
              "    <tr>\n",
              "      <th>4</th>\n",
              "      <td>19.0</td>\n",
              "      <td>33.24</td>\n",
              "      <td>10.06</td>\n",
              "      <td>4.55</td>\n",
              "      <td>2.47</td>\n",
              "    </tr>\n",
              "  </tbody>\n",
              "</table>\n",
              "</div>"
            ],
            "text/plain": [
              "     sw   Pc_1   Pc_2   Pc_3  Pc_4\n",
              "0  15.0  93.59  28.34  12.82  6.94\n",
              "1  16.0  66.48  20.13   9.10  4.93\n",
              "2  17.0  46.54  14.09   6.37  3.45\n",
              "3  18.0  39.89  12.08   5.46  2.96\n",
              "4  19.0  33.24  10.06   4.55  2.47"
            ]
          },
          "metadata": {
            "tags": []
          },
          "execution_count": 31
        }
      ]
    },
    {
      "cell_type": "code",
      "metadata": {
        "id": "XtnOjAd7Zts6",
        "colab_type": "code",
        "colab": {}
      },
      "source": [
        "\"units are not coherent, convert units to psi, cm2\"\n",
        "\n",
        "sigma = 72 * (1/68947.57) # from dyne/cm convert to psi/cm, 1 psi = 68947.57 dyne/cm2\n",
        "\n",
        "# Pc in data is already in psi, correct.\n",
        "\n",
        "# permeability must be in unit cm2 to match with sigma dyne/cm\n",
        "k_1 = (1 / 1000) * (0.98689233 * 1E-08) # permeability of core 1, 1 darcy = 100 md = 0.98689233 micro.m2 = ... * 1E-08 cm2\n",
        "k_2 = (15 / 1000) * (0.98689233 * 1E-08)\n",
        "k_3 = (100 / 1000) * (0.98689233 * 1E-08)\n",
        "k_4 = (500 / 1000) * (0.98689233 * 1E-08)\n",
        "\n",
        "poro_1 = 0.08 # porosity of core 1\n",
        "poro_2 = 0.11\n",
        "poro_3 = 0.15\n",
        "poro_4 = 0.22"
      ],
      "execution_count": 0,
      "outputs": []
    },
    {
      "cell_type": "code",
      "metadata": {
        "id": "8FG-gTDNycJe",
        "colab_type": "code",
        "colab": {
          "base_uri": "https://localhost:8080/",
          "height": 195
        },
        "outputId": "967056e9-a660-4f34-e57e-ddb82b187cd5"
      },
      "source": [
        "J_1 = (capilar.Pc_1 / (sigma * np.cos(np.deg2rad(theta)))) * np.sqrt(k_1 / poro_1)\n",
        "J_2 = (capilar.Pc_2 / (sigma * np.cos(np.deg2rad(theta)))) * np.sqrt(k_2 / poro_2)\n",
        "J_3 = (capilar.Pc_3 / (sigma * np.cos(np.deg2rad(theta)))) * np.sqrt(k_3 / poro_3)\n",
        "J_4 = (capilar.Pc_4 / (sigma * np.cos(np.deg2rad(theta)))) * np.sqrt(k_4 / poro_4)\n",
        "J = pd.DataFrame({\"Sw\":capilar.sw, \"Leverett_1\":J_1, \"Leverett_2\":J_2, \"Leverett_3\":J_3, \"Leverett_4\":J_4})\n",
        "J.head()"
      ],
      "execution_count": 95,
      "outputs": [
        {
          "output_type": "execute_result",
          "data": {
            "text/html": [
              "<div>\n",
              "<style scoped>\n",
              "    .dataframe tbody tr th:only-of-type {\n",
              "        vertical-align: middle;\n",
              "    }\n",
              "\n",
              "    .dataframe tbody tr th {\n",
              "        vertical-align: top;\n",
              "    }\n",
              "\n",
              "    .dataframe thead th {\n",
              "        text-align: right;\n",
              "    }\n",
              "</style>\n",
              "<table border=\"1\" class=\"dataframe\">\n",
              "  <thead>\n",
              "    <tr style=\"text-align: right;\">\n",
              "      <th></th>\n",
              "      <th>Sw</th>\n",
              "      <th>Leverett_1</th>\n",
              "      <th>Leverett_2</th>\n",
              "      <th>Leverett_3</th>\n",
              "      <th>Leverett_4</th>\n",
              "    </tr>\n",
              "  </thead>\n",
              "  <tbody>\n",
              "    <tr>\n",
              "      <th>0</th>\n",
              "      <td>15.0</td>\n",
              "      <td>1.407735</td>\n",
              "      <td>1.407944</td>\n",
              "      <td>1.408247</td>\n",
              "      <td>1.407568</td>\n",
              "    </tr>\n",
              "    <tr>\n",
              "      <th>1</th>\n",
              "      <td>16.0</td>\n",
              "      <td>0.999959</td>\n",
              "      <td>1.000068</td>\n",
              "      <td>0.999614</td>\n",
              "      <td>0.999901</td>\n",
              "    </tr>\n",
              "    <tr>\n",
              "      <th>2</th>\n",
              "      <td>17.0</td>\n",
              "      <td>0.700032</td>\n",
              "      <td>0.699998</td>\n",
              "      <td>0.699729</td>\n",
              "      <td>0.699728</td>\n",
              "    </tr>\n",
              "    <tr>\n",
              "      <th>3</th>\n",
              "      <td>18.0</td>\n",
              "      <td>0.600006</td>\n",
              "      <td>0.600140</td>\n",
              "      <td>0.599768</td>\n",
              "      <td>0.600346</td>\n",
              "    </tr>\n",
              "    <tr>\n",
              "      <th>4</th>\n",
              "      <td>19.0</td>\n",
              "      <td>0.499980</td>\n",
              "      <td>0.499785</td>\n",
              "      <td>0.499807</td>\n",
              "      <td>0.500965</td>\n",
              "    </tr>\n",
              "  </tbody>\n",
              "</table>\n",
              "</div>"
            ],
            "text/plain": [
              "     Sw  Leverett_1  Leverett_2  Leverett_3  Leverett_4\n",
              "0  15.0    1.407735    1.407944    1.408247    1.407568\n",
              "1  16.0    0.999959    1.000068    0.999614    0.999901\n",
              "2  17.0    0.700032    0.699998    0.699729    0.699728\n",
              "3  18.0    0.600006    0.600140    0.599768    0.600346\n",
              "4  19.0    0.499980    0.499785    0.499807    0.500965"
            ]
          },
          "metadata": {
            "tags": []
          },
          "execution_count": 95
        }
      ]
    },
    {
      "cell_type": "code",
      "metadata": {
        "id": "k5mDi7zC4Fsj",
        "colab_type": "code",
        "colab": {
          "base_uri": "https://localhost:8080/",
          "height": 313
        },
        "outputId": "68c1147b-edd7-4c71-fd03-9616156fe065"
      },
      "source": [
        "# plot Leverett function result\n",
        "p1 = plt.plot(J[['Sw']], J[['Leverett_1']])\n",
        "p2 = plt.plot(J[['Sw']], J[['Leverett_2']])\n",
        "p3 = plt.plot(J[['Sw']], J[['Leverett_3']])\n",
        "p4 = plt.plot(J[['Sw']], J[['Leverett_4']])\n",
        "plt.xlabel(\"Sw\"); plt.ylabel(\"J-Function (unitless)\")\n",
        "plt.legend((p1[0], p2[0], p3[0], p4[0]), ('1 md, porosity 0.08', '15 md, porosity 0.11', '100 md, porosity 0.15', '500 md, porosity 0.22'))\n",
        "plt.title(\"Leverett J-Function\")"
      ],
      "execution_count": 99,
      "outputs": [
        {
          "output_type": "execute_result",
          "data": {
            "text/plain": [
              "Text(0.5, 1.0, 'Leverett J-Function')"
            ]
          },
          "metadata": {
            "tags": []
          },
          "execution_count": 99
        },
        {
          "output_type": "display_data",
          "data": {
            "image/png": "[encoded data removed]",
            "text/plain": [
              "<Figure size 432x288 with 1 Axes>"
            ]
          },
          "metadata": {
            "tags": []
          }
        }
      ]
    },
    {
      "cell_type": "markdown",
      "metadata": {
        "id": "iM07l8QmB8Mv",
        "colab_type": "text"
      },
      "source": [
        "# Example 2.4 Calculation of Z Factor for Sour Gas"
      ]
    },
    {
      "cell_type": "code",
      "metadata": {
        "id": "VY88StmMNzeM",
        "colab_type": "code",
        "colab": {
          "base_uri": "https://localhost:8080/",
          "height": 34
        },
        "outputId": "19320ead-ba67-48ee-a445-014b9182a150"
      },
      "source": [
        "# Question. calculate z factor for the sour gas\n",
        "# known\n",
        "pressure = 2010 # in psia\n",
        "temp = 75 # in deg F\n",
        "sg = 0.7 # specific gravity\n",
        "x_h2s = 0.07 # mole fraction\n",
        "x_co2 = 0.1\n",
        "\n",
        "temp = temp + 459.67 # convert to Rankine\n",
        "\n",
        "# calculate pseudocritical properties (Sutton, valid for 0.57<sg<1.68)\n",
        "P_pc = 756.8 - (131.07 * sg) - (3.6 * sg**2)\n",
        "T_pc = 169.2 + (349.50 * sg) - (74 * sg**2) # in Rankine\n",
        "\n",
        "# calculate adjustment to pseudocritical properties for sour gas (Wiechert-Aziz, valid for x_co2<0.544 and x_h2s<0.738)\n",
        "e = (120 * (((x_h2s + x_co2)**0.9) - ((x_h2s + x_co2)**1.6))) + (15 * (x_h2s**0.5 - x_h2s**4))\n",
        "T_pc_corr = T_pc - e # corrected T_pc\n",
        "P_pc_corr = (P_pc * T_pc_corr) / (T_pc - x_h2s * e * (1-x_h2s))\n",
        "\n",
        "# calculate pseudoreduced properties\n",
        "P_pr = pressure / P_pc_corr\n",
        "T_pr = temp / T_pc_corr\n",
        "print(P_pr, T_pr)"
      ],
      "execution_count": 149,
      "outputs": [
        {
          "output_type": "stream",
          "text": [
            "3.1995450990234966 1.5005661019949397\n"
          ],
          "name": "stdout"
        }
      ]
    },
    {
      "cell_type": "markdown",
      "metadata": {
        "id": "QXMIYH-0TWB0",
        "colab_type": "text"
      },
      "source": [
        "And then, insert the T_pr and P_pr to find the z factor from Standing-Katz graph\n",
        "\n",
        "![Standing-Katz EOS](https://petrowiki.org/images/thumb/7/76/Vol1_Page_225_Image_0001.png/708px-Vol1_Page_225_Image_0001.png)"
      ]
    },
    {
      "cell_type": "markdown",
      "metadata": {
        "id": "8cvud6S1Tefh",
        "colab_type": "text"
      },
      "source": [
        ""
      ]
    }
  ]
}