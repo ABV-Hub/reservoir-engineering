{
  "nbformat": 4,
  "nbformat_minor": 0,
  "metadata": {
    "colab": {
      "name": "fd1d_linearflow.ipynb",
      "provenance": [],
      "collapsed_sections": [],
      "authorship_tag": "ABX9TyNi/5Ojs1j42kgOvobQ2jlx",
      "include_colab_link": true
    },
    "kernelspec": {
      "name": "python3",
      "display_name": "Python 3"
    }
  },
  "cells": [
    {
      "cell_type": "markdown",
      "metadata": {
        "id": "view-in-github",
        "colab_type": "text"
      },
      "source": [
        "<a href=\"https://colab.research.google.com/github/yohanesnuwara/reservoir-engineering/blob/master/Reservoir%20Simulation%20Ertekin/Unit%205%20Finite-Difference%20Approximation%20to%20Linear-Flow%20Equations/fd1d_linearflow.ipynb\" target=\"_parent\"><img src=\"https://colab.research.google.com/assets/colab-badge.svg\" alt=\"Open In Colab\"/></a>"
      ]
    },
    {
      "cell_type": "markdown",
      "metadata": {
        "id": "eOe4EUXrFd9G",
        "colab_type": "text"
      },
      "source": [
        "# **Unit 5 Finite-Difference Approximations to Linear-Flow Problems**\n",
        "\n",
        "## Explicit Formulation\n",
        "\n",
        "$$p_{i}^{n+1} = p^i_n + (\\frac{\\alpha_c B_l \\Delta t}{V_b \\phi c_l})_i \\cdot q_{lsc_i} + (\\frac{\\alpha_c B_l \\Delta t}{V_b \\phi c_l})_i \\cdot [T_{lx_{i+1/2}}^{n} p_{i+1}^{n}-(T_{lx_{i+1/2}}^{n} + T_{lx_{i-1/2}}^{n})p_{i}^{n}+T_{lx_{i-1/2}}p_{i-1}^{n}]$$\n",
        "\n",
        "In the following codes, $(\\frac{\\alpha_c B_l \\Delta t}{V_b \\phi c_l})_i$ will be written as `factor`\n",
        "\n",
        "Transmissibility of coupling cells, $T_{lx_{i\\pm1/2}}^{n}$, written as `T_min_half` or `T_plus_half`"
      ]
    },
    {
      "cell_type": "code",
      "metadata": {
        "id": "IJsmLh1xKz8S",
        "colab_type": "code",
        "colab": {}
      },
      "source": [
        "import numpy as np\n",
        "import matplotlib.pyplot as plt\n",
        "import pandas as pd"
      ],
      "execution_count": 0,
      "outputs": []
    },
    {
      "cell_type": "code",
      "metadata": {
        "id": "rJZBuBCVK6JV",
        "colab_type": "code",
        "outputId": "e871c872-7bd9-49e5-f833-63db4056e97e",
        "colab": {
          "base_uri": "https://localhost:8080/",
          "height": 134
        }
      },
      "source": [
        "!git clone https://github.com/yohanesnuwara/reservoir-engineering"
      ],
      "execution_count": 0,
      "outputs": [
        {
          "output_type": "stream",
          "text": [
            "Cloning into 'reservoir-engineering'...\n",
            "remote: Enumerating objects: 149, done.\u001b[K\n",
            "remote: Counting objects:   0% (1/149)\u001b[K\rremote: Counting objects:   1% (2/149)\u001b[K\rremote: Counting objects:   2% (3/149)\u001b[K\rremote: Counting objects:   3% (5/149)\u001b[K\rremote: Counting objects:   4% (6/149)\u001b[K\rremote: Counting objects:   5% (8/149)\u001b[K\rremote: Counting objects:   6% (9/149)\u001b[K\rremote: Counting objects:   7% (11/149)\u001b[K\rremote: Counting objects:   8% (12/149)\u001b[K\rremote: Counting objects:   9% (14/149)\u001b[K\rremote: Counting objects:  10% (15/149)\u001b[K\rremote: Counting objects:  11% (17/149)\u001b[K\rremote: Counting objects:  12% (18/149)\u001b[K\rremote: Counting objects:  13% (20/149)\u001b[K\rremote: Counting objects:  14% (21/149)\u001b[K\rremote: Counting objects:  15% (23/149)\u001b[K\rremote: Counting objects:  16% (24/149)\u001b[K\rremote: Counting objects:  17% (26/149)\u001b[K\rremote: Counting objects:  18% (27/149)\u001b[K\rremote: Counting objects:  19% (29/149)\u001b[K\rremote: Counting objects:  20% (30/149)\u001b[K\rremote: Counting objects:  21% (32/149)\u001b[K\rremote: Counting objects:  22% (33/149)\u001b[K\rremote: Counting objects:  23% (35/149)\u001b[K\rremote: Counting objects:  24% (36/149)\u001b[K\rremote: Counting objects:  25% (38/149)\u001b[K\rremote: Counting objects:  26% (39/149)\u001b[K\rremote: Counting objects:  27% (41/149)\u001b[K\rremote: Counting objects:  28% (42/149)\u001b[K\rremote: Counting objects:  29% (44/149)\u001b[K\rremote: Counting objects:  30% (45/149)\u001b[K\rremote: Counting objects:  31% (47/149)\u001b[K\rremote: Counting objects:  32% (48/149)\u001b[K\rremote: Counting objects:  33% (50/149)\u001b[K\rremote: Counting objects:  34% (51/149)\u001b[K\rremote: Counting objects:  35% (53/149)\u001b[K\rremote: Counting objects:  36% (54/149)\u001b[K\rremote: Counting objects:  37% (56/149)\u001b[K\rremote: Counting objects:  38% (57/149)\u001b[K\rremote: Counting objects:  39% (59/149)\u001b[K\rremote: Counting objects:  40% (60/149)\u001b[K\rremote: Counting objects:  41% (62/149)\u001b[K\rremote: Counting objects:  42% (63/149)\u001b[K\rremote: Counting objects:  43% (65/149)\u001b[K\rremote: Counting objects:  44% (66/149)\u001b[K\rremote: Counting objects:  45% (68/149)\u001b[K\rremote: Counting objects:  46% (69/149)\u001b[K\rremote: Counting objects:  47% (71/149)\u001b[K\rremote: Counting objects:  48% (72/149)\u001b[K\rremote: Counting objects:  49% (74/149)\u001b[K\rremote: Counting objects:  50% (75/149)\u001b[K\rremote: Counting objects:  51% (76/149)\u001b[K\rremote: Counting objects:  52% (78/149)\u001b[K\rremote: Counting objects:  53% (79/149)\u001b[K\rremote: Counting objects:  54% (81/149)\u001b[K\rremote: Counting objects:  55% (82/149)\u001b[K\rremote: Counting objects:  56% (84/149)\u001b[K\rremote: Counting objects:  57% (85/149)\u001b[K\rremote: Counting objects:  58% (87/149)\u001b[K\rremote: Counting objects:  59% (88/149)\u001b[K\rremote: Counting objects:  60% (90/149)\u001b[K\rremote: Counting objects:  61% (91/149)\u001b[K\rremote: Counting objects:  62% (93/149)\u001b[K\rremote: Counting objects:  63% (94/149)\u001b[K\rremote: Counting objects:  64% (96/149)\u001b[K\rremote: Counting objects:  65% (97/149)\u001b[K\rremote: Counting objects:  66% (99/149)\u001b[K\rremote: Counting objects:  67% (100/149)\u001b[K\rremote: Counting objects:  68% (102/149)\u001b[K\rremote: Counting objects:  69% (103/149)\u001b[K\rremote: Counting objects:  70% (105/149)\u001b[K\rremote: Counting objects:  71% (106/149)\u001b[K\rremote: Counting objects:  72% (108/149)\u001b[K\rremote: Counting objects:  73% (109/149)\u001b[K\rremote: Counting objects:  74% (111/149)\u001b[K\rremote: Counting objects:  75% (112/149)\u001b[K\rremote: Counting objects:  76% (114/149)\u001b[K\rremote: Counting objects:  77% (115/149)\u001b[K\rremote: Counting objects:  78% (117/149)\u001b[K\rremote: Counting objects:  79% (118/149)\u001b[K\rremote: Counting objects:  80% (120/149)\u001b[K\rremote: Counting objects:  81% (121/149)\u001b[K\rremote: Counting objects:  82% (123/149)\u001b[K\rremote: Counting objects:  83% (124/149)\u001b[K\rremote: Counting objects:  84% (126/149)\u001b[K\rremote: Counting objects:  85% (127/149)\u001b[K\rremote: Counting objects:  86% (129/149)\u001b[K\rremote: Counting objects:  87% (130/149)\u001b[K\rremote: Counting objects:  88% (132/149)\u001b[K\rremote: Counting objects:  89% (133/149)\u001b[K\rremote: Counting objects:  90% (135/149)\u001b[K\rremote: Counting objects:  91% (136/149)\u001b[K\rremote: Counting objects:  92% (138/149)\u001b[K\rremote: Counting objects:  93% (139/149)\u001b[K\rremote: Counting objects:  94% (141/149)\u001b[K\rremote: Counting objects:  95% (142/149)\u001b[K\rremote: Counting objects:  96% (144/149)\u001b[K\rremote: Counting objects:  97% (145/149)\u001b[K\rremote: Counting objects:  98% (147/149)\u001b[K\rremote: Counting objects:  99% (148/149)\u001b[K\rremote: Counting objects: 100% (149/149)\u001b[K\rremote: Counting objects: 100% (149/149), done.\u001b[K\n",
            "remote: Compressing objects: 100% (134/134), done.\u001b[K\n",
            "remote: Total 845 (delta 49), reused 0 (delta 0), pack-reused 696\u001b[K\n",
            "Receiving objects: 100% (845/845), 4.95 MiB | 30.33 MiB/s, done.\n",
            "Resolving deltas: 100% (347/347), done.\n"
          ],
          "name": "stdout"
        }
      ]
    },
    {
      "cell_type": "markdown",
      "metadata": {
        "id": "N-NT2lf1GKb3",
        "colab_type": "text"
      },
      "source": [
        "## Example 5.8 \n",
        "\n",
        "![Example 5 8](https://user-images.githubusercontent.com/51282928/75949840-09e36380-5eda-11ea-824c-dd5c9ac6f6d5.PNG)"
      ]
    },
    {
      "cell_type": "code",
      "metadata": {
        "id": "dLVKK7xd7fGK",
        "colab_type": "code",
        "outputId": "97440016-7fab-449a-bafd-20bf2b240149",
        "colab": {
          "base_uri": "https://localhost:8080/",
          "height": 34
        }
      },
      "source": [
        "\"Task. determine pressure distribution during first year of production with timestep 10 days\"\n",
        "\n",
        "# known\n",
        "pi = 6000 # initial pressure, in psia\n",
        "delta_x = 1000 # ft\n",
        "delta_y = 1000\n",
        "delta_z = 75\n",
        "ngrid = 5\n",
        "grid_loc = 4 # grid location where production well is located\n",
        "B = 1 # phase FVF, assumed constant over pressure, rb/stb\n",
        "c = 3.5E-06 # phase compressibility, psi^-1\n",
        "k_x = 15 # perm in x direction, md\n",
        "poro = 0.18\n",
        "mu = 10 # phase viscosity, cp\n",
        "\n",
        "delta_t = 10 # days\n",
        "qsc = -150 # minus means production, stb/d\n",
        "\n",
        "# conversion\n",
        "k_x = 15 * 1E-03 # darcy to mD\n",
        "\n",
        "# calculate factor\n",
        "Vb = delta_x * delta_y * delta_z\n",
        "alpha = 5.615 # volume conversion factor, is a constant\n",
        "factor = (alpha * B * delta_t) / (Vb * poro * c)\n",
        "factor"
      ],
      "execution_count": 2,
      "outputs": [
        {
          "output_type": "execute_result",
          "data": {
            "text/plain": [
              "1.1883597883597885"
            ]
          },
          "metadata": {
            "tags": []
          },
          "execution_count": 2
        }
      ]
    },
    {
      "cell_type": "markdown",
      "metadata": {
        "id": "Qc6m3sTBQK1T",
        "colab_type": "text"
      },
      "source": [
        "Because of uniform gridblocks, the equation for `tr_plus_coupling` and `tr_min_coupling` become:\n",
        "\n",
        "$$T_{lx_{i+1/2}}^{n} = T_{lx_{i-1/2}}^{n} = (\\beta_c \\frac{A_x k_x}{\\mu_l B_l \\Delta x})_{i+1/2}^{n} = (\\beta_c \\frac{A_x k_x}{\\mu_l B_l \\Delta x})_{i-1/2}^{n}$$"
      ]
    },
    {
      "cell_type": "code",
      "metadata": {
        "id": "lvE1tGprRDlN",
        "colab_type": "code",
        "outputId": "f0f4118a-5055-46e5-d1d1-a7b05593e9ed",
        "colab": {
          "base_uri": "https://localhost:8080/",
          "height": 34
        }
      },
      "source": [
        "# calculate transmissibility of coupling cells\n",
        "beta = 1.127 # transmissibility conversion factor, is a constant\n",
        "Ax = delta_x * delta_z\n",
        "T_plus_half = beta * ((Ax * k_x) / (mu * B * delta_x))\n",
        "T_min_half = T_plus_half\n",
        "T_min_half, T_plus_half"
      ],
      "execution_count": 3,
      "outputs": [
        {
          "output_type": "execute_result",
          "data": {
            "text/plain": [
              "(0.1267875, 0.1267875)"
            ]
          },
          "metadata": {
            "tags": []
          },
          "execution_count": 3
        }
      ]
    },
    {
      "cell_type": "markdown",
      "metadata": {
        "id": "A0dUkd4SUYP_",
        "colab_type": "text"
      },
      "source": [
        "There are 5 grids (`grid_1`, `grid_2`, `grid_3`, `grid_4`, `grid_5`), so the transmissibility coefficients will be: $$T_{lx_{i+1/2}}^{n}=(T_{lx_{1+1/2}}^{n}, T_{lx_{2+1/2}}^{n}, T_{lx_{3+1/2}}^{n}, T_{lx_{4+1/2}}^{n}, T_{lx_{5+1/2}}^{n})$$\n",
        "\n",
        "and\n",
        "\n",
        "$$T_{lx_{i-1/2}}^{n}=(T_{lx_{1/2}}^{n}, T_{lx_{1+1/2}}^{n}, T_{lx_{2+1/2}}^{n}, T_{lx_{3+1/2}}^{n}, T_{lx_{4+1/2}}^{n})$$\n",
        "\n",
        "The values of $T_{lx_{5+1/2}}^{n}=0$ and $T_{lx_{1/2}}^{n}=0$ (the edge of gridblocks), so the values of each are:\n",
        "\n",
        "$$T_{lx_{i+1/2}}^{n}=(0, 0.127, 0.127, 0.127, 0.127)$$\n",
        "\n",
        "and\n",
        "\n",
        "$$T_{lx_{i-1/2}}^{n}=(0.127, 0.127, 0.127, 0.127, 0)$$\n",
        "\n",
        "\n"
      ]
    },
    {
      "cell_type": "code",
      "metadata": {
        "id": "DSCdjpuNTDlY",
        "colab_type": "code",
        "outputId": "ce7d7776-d531-4f72-9520-5424206d4e62",
        "colab": {
          "base_uri": "https://localhost:8080/",
          "height": 101
        }
      },
      "source": [
        "p = np.full(ngrid-1, T_plus_half)\n",
        "Ti_plus_halves = np.append([0], p)\n",
        "print(Ti_plus_halves)\n",
        "q = np.full(ngrid-1, T_min_half)\n",
        "Ti_min_halves = np.append(q, [0])\n",
        "print(Ti_min_halves)\n",
        "print(\"At grid 1, the coupling transmissibility coeffs are:\", Ti_min_halves[0], \"for T_min_half and:\", Ti_plus_halves[0], \"for T_plus_half.\")\n",
        "print(\"At grid 3, the coupling transmissibility coeffs are:\", Ti_min_halves[2], \"for T_min_half and:\", Ti_plus_halves[2], \"for T_plus_half.\")\n",
        "print(\"At grid 5, the coupling transmissibility coeffs are:\", Ti_min_halves[4], \"for T_min_half and:\", Ti_plus_halves[4], \"for T_plus_half.\")"
      ],
      "execution_count": 4,
      "outputs": [
        {
          "output_type": "stream",
          "text": [
            "[0.        0.1267875 0.1267875 0.1267875 0.1267875]\n",
            "[0.1267875 0.1267875 0.1267875 0.1267875 0.       ]\n",
            "At grid 1, the coupling transmissibility coeffs are: 0.1267875 for T_min_half and: 0.0 for T_plus_half.\n",
            "At grid 3, the coupling transmissibility coeffs are: 0.1267875 for T_min_half and: 0.1267875 for T_plus_half.\n",
            "At grid 5, the coupling transmissibility coeffs are: 0.0 for T_min_half and: 0.1267875 for T_plus_half.\n"
          ],
          "name": "stdout"
        }
      ]
    },
    {
      "cell_type": "markdown",
      "metadata": {
        "id": "Ektv_akOYbZO",
        "colab_type": "text"
      },
      "source": [
        "Requires array for $q_{sc}$"
      ]
    },
    {
      "cell_type": "code",
      "metadata": {
        "id": "Jh-Uh_VDYe86",
        "colab_type": "code",
        "colab": {}
      },
      "source": [
        "qsc = [0, 0, 0, -150, 0] # production well in grid 4"
      ],
      "execution_count": 0,
      "outputs": []
    },
    {
      "cell_type": "markdown",
      "metadata": {
        "id": "cwMJGOEQX3SG",
        "colab_type": "text"
      },
      "source": [
        "Calculate $p_{i}^{n+1}$ for each grid in each time"
      ]
    },
    {
      "cell_type": "code",
      "metadata": {
        "id": "4P9YDx4QX-mu",
        "colab_type": "code",
        "outputId": "ef1b60f8-bbbc-43b3-8151-2fa143d5a58e",
        "colab": {
          "base_uri": "https://localhost:8080/",
          "height": 101
        }
      },
      "source": [
        "pi = 6000\n",
        "for i in range(ngrid):\n",
        "  pi = pi + (factor * ((Ti_plus_halves[i] * pi) - ((Ti_plus_halves[i] + Ti_min_halves[i]) * pi) + (Ti_min_halves[i] * pi)) + (factor * qsc[i]))\n",
        "  print(pi)"
      ],
      "execution_count": 6,
      "outputs": [
        {
          "output_type": "stream",
          "text": [
            "6000.0\n",
            "6000.0\n",
            "6000.0\n",
            "5821.746031746032\n",
            "5821.746031746032\n"
          ],
          "name": "stdout"
        }
      ]
    },
    {
      "cell_type": "code",
      "metadata": {
        "id": "YSlj3idZY_sL",
        "colab_type": "code",
        "outputId": "7cc8a4e8-63f8-4472-c5e3-6c2dc07f8e3a",
        "colab": {
          "base_uri": "https://localhost:8080/",
          "height": 34
        }
      },
      "source": [
        "pi = [6000, 6000, 6000, 6000, 6000]\n",
        "qsc = [0, 0, 0, -150, 0]\n",
        "minus = pi[0]\n",
        "plus = pi[-1]\n",
        "\n",
        "pnew_arr = []\n",
        "for i, obj in enumerate(pi):\n",
        "  if i > 0:\n",
        "    minus = pi[i-1]\n",
        "  if i < (len(pi) - 1):\n",
        "    plus = pi[i+1]\n",
        "\n",
        "  pnew = pi[i] + (factor * ((Ti_plus_halves[i] * plus) - ((Ti_plus_halves[i] + Ti_min_halves[i]) * pi[i]) + (Ti_min_halves[i] * minus))) + (factor * qsc[i])\n",
        "  \n",
        "  pnew_arr.append(float(pnew))\n",
        "pnew_arr"
      ],
      "execution_count": 7,
      "outputs": [
        {
          "output_type": "execute_result",
          "data": {
            "text/plain": [
              "[6000.0, 6000.0, 6000.0, 5821.746031746032, 6000.0]"
            ]
          },
          "metadata": {
            "tags": []
          },
          "execution_count": 7
        }
      ]
    },
    {
      "cell_type": "code",
      "metadata": {
        "id": "it86V05To2MJ",
        "colab_type": "code",
        "colab": {
          "base_uri": "https://localhost:8080/",
          "height": 195
        },
        "outputId": "41d4d6db-13b2-463c-8499-6b79f17900f0"
      },
      "source": [
        "pi = [6000, 6000, 6000, 6000, 6000]\n",
        "qsc = [0, 0, 0, -150, 0]\n",
        "minus = pi[0]\n",
        "plus = pi[-1]\n",
        "time = [10, 20, 30, 40, 50]\n",
        "\n",
        "pi_arr = []\n",
        "for j in range(len(time)):\n",
        "  pnew_arr = []\n",
        "\n",
        "  # minus = pi[0]\n",
        "  # plus = pi[-1]\n",
        "\n",
        "  for i, obj in enumerate(pi):\n",
        "    if i > 0:\n",
        "      minus = pi[i-1]\n",
        "    if i < (len(pi) - 1):\n",
        "      plus = pi[i+1]\n",
        "\n",
        "    pnew = pi[i] + (factor * ((Ti_plus_halves[i] * plus) - ((Ti_plus_halves[i] + Ti_min_halves[i]) * pi[i]) + (Ti_min_halves[i] * minus))) + (factor * qsc[i])\n",
        "    pnew_arr.append(float(pnew))\n",
        "  pi = pnew_arr\n",
        "  pi_arr.append(pi)\n",
        "\n",
        "df = pd.DataFrame.from_records(pi_arr)\n",
        "df"
      ],
      "execution_count": 8,
      "outputs": [
        {
          "output_type": "execute_result",
          "data": {
            "text/html": [
              "<div>\n",
              "<style scoped>\n",
              "    .dataframe tbody tr th:only-of-type {\n",
              "        vertical-align: middle;\n",
              "    }\n",
              "\n",
              "    .dataframe tbody tr th {\n",
              "        vertical-align: top;\n",
              "    }\n",
              "\n",
              "    .dataframe thead th {\n",
              "        text-align: right;\n",
              "    }\n",
              "</style>\n",
              "<table border=\"1\" class=\"dataframe\">\n",
              "  <thead>\n",
              "    <tr style=\"text-align: right;\">\n",
              "      <th></th>\n",
              "      <th>0</th>\n",
              "      <th>1</th>\n",
              "      <th>2</th>\n",
              "      <th>3</th>\n",
              "      <th>4</th>\n",
              "    </tr>\n",
              "  </thead>\n",
              "  <tbody>\n",
              "    <tr>\n",
              "      <th>0</th>\n",
              "      <td>6000.000000</td>\n",
              "      <td>6000.000000</td>\n",
              "      <td>6000.000000</td>\n",
              "      <td>5821.746032</td>\n",
              "      <td>6000.0</td>\n",
              "    </tr>\n",
              "    <tr>\n",
              "      <th>1</th>\n",
              "      <td>6000.000000</td>\n",
              "      <td>6000.000000</td>\n",
              "      <td>5973.142623</td>\n",
              "      <td>5697.206817</td>\n",
              "      <td>6000.0</td>\n",
              "    </tr>\n",
              "    <tr>\n",
              "      <th>2</th>\n",
              "      <td>5973.142623</td>\n",
              "      <td>5995.953421</td>\n",
              "      <td>5935.614184</td>\n",
              "      <td>5606.149463</td>\n",
              "      <td>6000.0</td>\n",
              "    </tr>\n",
              "    <tr>\n",
              "      <th>3</th>\n",
              "      <td>5931.567605</td>\n",
              "      <td>5983.425275</td>\n",
              "      <td>5895.065272</td>\n",
              "      <td>5536.876802</td>\n",
              "      <td>6000.0</td>\n",
              "    </tr>\n",
              "    <tr>\n",
              "      <th>4</th>\n",
              "      <td>5882.537125</td>\n",
              "      <td>5962.298795</td>\n",
              "      <td>5854.410441</td>\n",
              "      <td>5482.369178</td>\n",
              "      <td>6000.0</td>\n",
              "    </tr>\n",
              "  </tbody>\n",
              "</table>\n",
              "</div>"
            ],
            "text/plain": [
              "             0            1            2            3       4\n",
              "0  6000.000000  6000.000000  6000.000000  5821.746032  6000.0\n",
              "1  6000.000000  6000.000000  5973.142623  5697.206817  6000.0\n",
              "2  5973.142623  5995.953421  5935.614184  5606.149463  6000.0\n",
              "3  5931.567605  5983.425275  5895.065272  5536.876802  6000.0\n",
              "4  5882.537125  5962.298795  5854.410441  5482.369178  6000.0"
            ]
          },
          "metadata": {
            "tags": []
          },
          "execution_count": 8
        }
      ]
    },
    {
      "cell_type": "code",
      "metadata": {
        "id": "4oJaZbUjjK5K",
        "colab_type": "code",
        "outputId": "e0535018-6d1b-42ea-90ea-52c227984c3a",
        "colab": {
          "base_uri": "https://localhost:8080/",
          "height": 166
        }
      },
      "source": [
        "data = [['New York Yankees', 'Acevedo Juan', 900000, 'Pitcher'], \n",
        "        ['New York Yankees', 'Anderson Jason', 300000, 'Pitcher'], \n",
        "        ['New York Yankees', 'Clemens Roger', 10100000, 'Pitcher'], \n",
        "        ['New York Yankees', 'Contreras Jose', 5500000, 'Pitcher']]\n",
        "\n",
        "df = pd.DataFrame.from_records(data)\n",
        "df"
      ],
      "execution_count": 0,
      "outputs": [
        {
          "output_type": "execute_result",
          "data": {
            "text/html": [
              "<div>\n",
              "<style scoped>\n",
              "    .dataframe tbody tr th:only-of-type {\n",
              "        vertical-align: middle;\n",
              "    }\n",
              "\n",
              "    .dataframe tbody tr th {\n",
              "        vertical-align: top;\n",
              "    }\n",
              "\n",
              "    .dataframe thead th {\n",
              "        text-align: right;\n",
              "    }\n",
              "</style>\n",
              "<table border=\"1\" class=\"dataframe\">\n",
              "  <thead>\n",
              "    <tr style=\"text-align: right;\">\n",
              "      <th></th>\n",
              "      <th>0</th>\n",
              "      <th>1</th>\n",
              "      <th>2</th>\n",
              "      <th>3</th>\n",
              "    </tr>\n",
              "  </thead>\n",
              "  <tbody>\n",
              "    <tr>\n",
              "      <th>0</th>\n",
              "      <td>New York Yankees</td>\n",
              "      <td>Acevedo Juan</td>\n",
              "      <td>900000</td>\n",
              "      <td>Pitcher</td>\n",
              "    </tr>\n",
              "    <tr>\n",
              "      <th>1</th>\n",
              "      <td>New York Yankees</td>\n",
              "      <td>Anderson Jason</td>\n",
              "      <td>300000</td>\n",
              "      <td>Pitcher</td>\n",
              "    </tr>\n",
              "    <tr>\n",
              "      <th>2</th>\n",
              "      <td>New York Yankees</td>\n",
              "      <td>Clemens Roger</td>\n",
              "      <td>10100000</td>\n",
              "      <td>Pitcher</td>\n",
              "    </tr>\n",
              "    <tr>\n",
              "      <th>3</th>\n",
              "      <td>New York Yankees</td>\n",
              "      <td>Contreras Jose</td>\n",
              "      <td>5500000</td>\n",
              "      <td>Pitcher</td>\n",
              "    </tr>\n",
              "  </tbody>\n",
              "</table>\n",
              "</div>"
            ],
            "text/plain": [
              "                  0               1         2        3\n",
              "0  New York Yankees    Acevedo Juan    900000  Pitcher\n",
              "1  New York Yankees  Anderson Jason    300000  Pitcher\n",
              "2  New York Yankees   Clemens Roger  10100000  Pitcher\n",
              "3  New York Yankees  Contreras Jose   5500000  Pitcher"
            ]
          },
          "metadata": {
            "tags": []
          },
          "execution_count": 277
        }
      ]
    },
    {
      "cell_type": "markdown",
      "metadata": {
        "id": "U-fTzgGQbXNe",
        "colab_type": "text"
      },
      "source": [
        "# ***"
      ]
    },
    {
      "cell_type": "code",
      "metadata": {
        "id": "wi1SCoKte2S2",
        "colab_type": "code",
        "outputId": "a29d3f29-2f31-4e34-9113-77504c91bcb6",
        "colab": {
          "base_uri": "https://localhost:8080/",
          "height": 50
        }
      },
      "source": [
        "pi = [200, 300, 500, 700, 800]\n",
        "foo = 800\n",
        "\n",
        "def minplus(objects, foo):\n",
        "  # get rid of boundary problem\n",
        "  minus = objects[0]\n",
        "  plus = objects[-1]\n",
        "  \n",
        "  l = len(objects)\n",
        "  for index, obj in enumerate(objects):\n",
        "      if obj == foo:\n",
        "          if index > 0:\n",
        "              minus = objects[index - 1]\n",
        "          if index < (l - 1):\n",
        "              plus = objects[index + 1] \n",
        "  return(minus, plus)\n",
        "\n",
        "minus, plus = minplus(pi, foo)\n",
        "print(minus)\n",
        "print(plus)"
      ],
      "execution_count": 0,
      "outputs": [
        {
          "output_type": "stream",
          "text": [
            "700\n",
            "800\n"
          ],
          "name": "stdout"
        }
      ]
    },
    {
      "cell_type": "code",
      "metadata": {
        "id": "w9GRPym-ftM2",
        "colab_type": "code",
        "outputId": "2bb38c65-f22f-4b7b-9754-8a8379df7a71",
        "colab": {
          "base_uri": "https://localhost:8080/",
          "height": 101
        }
      },
      "source": [
        "time = [10, 20, 30, 40, 50]\n",
        "pnewww_arr = []\n",
        "for j in range(len(time)):\n",
        "  pi = [6000, 6000, 6000, 6000, 6000]\n",
        "  pnew_arr =[]\n",
        "  for i in range(ngrid):\n",
        "    pnew = pi[i] + (factor * ((Ti_plus_halves[i] * pi[i]) - ((Ti_plus_halves[i] + Ti_min_halves[i]) * pi[i]) + (Ti_min_halves[i] * pi[i])) + (factor * qsc[i]))\n",
        "    pnew_arr.append(float(pnew))\n",
        "  pi = pnew_arr\n",
        "  print(pi)"
      ],
      "execution_count": 0,
      "outputs": [
        {
          "output_type": "stream",
          "text": [
            "[6000.0, 6000.0, 6000.0, 5821.746031746032, 6000.0]\n",
            "[6000.0, 6000.0, 6000.0, 5821.746031746032, 6000.0]\n",
            "[6000.0, 6000.0, 6000.0, 5821.746031746032, 6000.0]\n",
            "[6000.0, 6000.0, 6000.0, 5821.746031746032, 6000.0]\n",
            "[6000.0, 6000.0, 6000.0, 5821.746031746032, 6000.0]\n"
          ],
          "name": "stdout"
        }
      ]
    },
    {
      "cell_type": "code",
      "metadata": {
        "id": "caqVpoOCekVL",
        "colab_type": "code",
        "outputId": "4654a823-26db-4645-f8b5-ab351472f395",
        "colab": {
          "base_uri": "https://localhost:8080/",
          "height": 101
        }
      },
      "source": [
        "a = [1, 4, 5, 7, 9]\n",
        "\n",
        "for i, n in enumerate(a):\n",
        "  if i < (len(a)):\n",
        "    caw = a[i]- a[i-1]\n",
        "    print(caw)"
      ],
      "execution_count": 0,
      "outputs": [
        {
          "output_type": "stream",
          "text": [
            "-8\n",
            "3\n",
            "1\n",
            "2\n",
            "2\n"
          ],
          "name": "stdout"
        }
      ]
    },
    {
      "cell_type": "code",
      "metadata": {
        "id": "a8F6CHC4w2qQ",
        "colab_type": "code",
        "outputId": "0bf233b0-2f1e-43f3-c007-0e5f6772fc8c",
        "colab": {
          "base_uri": "https://localhost:8080/",
          "height": 101
        }
      },
      "source": [
        "pi = [1000, 2000, 3000, 4000, 5000]\n",
        "for i, n in enumerate(pi):\n",
        "  if i < (len(pi)):\n",
        "    c = pi[i - 1]\n",
        "    print(c)\n"
      ],
      "execution_count": 0,
      "outputs": [
        {
          "output_type": "stream",
          "text": [
            "5000\n",
            "1000\n",
            "2000\n",
            "3000\n",
            "4000\n"
          ],
          "name": "stdout"
        }
      ]
    },
    {
      "cell_type": "code",
      "metadata": {
        "id": "ye4Cy3elaivM",
        "colab_type": "code",
        "outputId": "c597db91-e5a8-42be-9578-a777591cec47",
        "colab": {
          "base_uri": "https://localhost:8080/",
          "height": 101
        }
      },
      "source": [
        "pi = [1, 2, 3, 4, 5]\n",
        "\n",
        "for i, string in enumerate(pi):\n",
        "  c = pi[i] * pi[i-1]\n",
        "  print(c)"
      ],
      "execution_count": 0,
      "outputs": [
        {
          "output_type": "stream",
          "text": [
            "5\n",
            "2\n",
            "6\n",
            "12\n",
            "20\n"
          ],
          "name": "stdout"
        }
      ]
    },
    {
      "cell_type": "code",
      "metadata": {
        "id": "wpXV4IvYBJT6",
        "colab_type": "code",
        "colab": {}
      },
      "source": [
        "pi = 6000\n",
        "for i in range(ngrid):\n",
        "  pi = pi + (factor * ((Ti_plus_halves[i] * pi) - ((Ti_plus_halves[i] + Ti_min_halves[i]) * pi) + (Ti_min_halves[i] * pi)) + (factor * qsc[i]))\n",
        "  print(pi)"
      ],
      "execution_count": 0,
      "outputs": []
    },
    {
      "cell_type": "code",
      "metadata": {
        "id": "I7yha2fL6L5m",
        "colab_type": "code",
        "outputId": "945f0bc1-e8d5-48d8-db8a-ecbd9bce3656",
        "colab": {
          "base_uri": "https://localhost:8080/",
          "height": 50
        }
      },
      "source": [
        "def find_prev_next(elem, elements):\n",
        "    previous, next = None, None\n",
        "    index = elements.index(elem)\n",
        "    if index > 0:\n",
        "        previous = elements[index -1]\n",
        "    if index < (len(elements)-1):\n",
        "        next = elements[index +1]\n",
        "    return previous, next\n",
        "\n",
        "# listi = [1000,2000,3000,4000,5000,6000]\n",
        "listi = [6000,6000,6000,6000,5000,6000]\n",
        "foo = listi[2]\n",
        "\n",
        "previous, nexti = find_prev_next(foo, listi)\n",
        "\n",
        "print(previous) # should print 'two'\n",
        "print(nexti) # should print 'four'"
      ],
      "execution_count": 0,
      "outputs": [
        {
          "output_type": "stream",
          "text": [
            "None\n",
            "6000\n"
          ],
          "name": "stdout"
        }
      ]
    }
  ]
}