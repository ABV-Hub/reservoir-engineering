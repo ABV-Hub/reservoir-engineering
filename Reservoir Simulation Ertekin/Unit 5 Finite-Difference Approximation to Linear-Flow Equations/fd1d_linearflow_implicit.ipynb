{
  "nbformat": 4,
  "nbformat_minor": 0,
  "metadata": {
    "colab": {
      "name": "fd1d_linearflow_implicit.ipynb",
      "provenance": [],
      "authorship_tag": "ABX9TyNTgDB1Gh4jG9NbkYs2VzDM",
      "include_colab_link": true
    },
    "kernelspec": {
      "name": "python3",
      "display_name": "Python 3"
    }
  },
  "cells": [
    {
      "cell_type": "markdown",
      "metadata": {
        "id": "view-in-github",
        "colab_type": "text"
      },
      "source": [
        "<a href=\"https://colab.research.google.com/github/yohanesnuwara/reservoir-engineering/blob/master/Reservoir%20Simulation%20Ertekin/Unit%205%20Finite-Difference%20Approximation%20to%20Linear-Flow%20Equations/fd1d_linearflow_implicit.ipynb\" target=\"_parent\"><img src=\"https://colab.research.google.com/assets/colab-badge.svg\" alt=\"Open In Colab\"/></a>"
      ]
    },
    {
      "cell_type": "markdown",
      "metadata": {
        "id": "eOe4EUXrFd9G",
        "colab_type": "text"
      },
      "source": [
        "# **Unit 5 Finite-Difference Approximations to Linear-Flow Problems**\n",
        "\n",
        "## Implicit Formulation (*Backward-Difference Approximation*)\n",
        "\n",
        "![Fig 5 30 Implicit Method](https://user-images.githubusercontent.com/51282928/76113827-60a28780-6017-11ea-9646-bb1c66683c08.PNG)\n",
        "\n",
        "$$T_{lx_{i+1/2}}^{n} p_{i+1}^{n+1}-[(\\frac{V_b \\phi c_l}{\\alpha_c B_l \\Delta t})_{i} + T_{lx_{i+1/2}}^{n}+T_{lx_{i-1/2}}] \\cdot p_{i}^{n+1} + T_{lx_{i-1/2}}^{n} p_{i-1}^{n+1} = -[q_{lsc_i}+(\\frac{V_b \\phi c_l}{\\alpha_c B_l \\Delta t})_{i} \\cdot p_{i}^{n}]$$\n",
        "\n",
        "In the following codes, $(\\frac{V_b \\phi c_l}{\\alpha_c B_l \\Delta t})_{i}$ will be written as `factor`\n",
        "\n",
        "Transmissibility of coupling cells, $T_{lx_{i\\pm1/2}}^{n}$, written as `T_min_half` or `T_plus_half`\n",
        "\n",
        "The above equation will be simplified to:\n",
        "\n",
        "$$pi_{next}^{+} \\cdot p_{i+1}^{n+1}-pi_{next} \\cdot p_{i}^{n+1} + pi_{next}^{-} \\cdot p_{i-1}^{n+1} = pi$$\n",
        "\n",
        "Where $pi_{next}^{+}$ (`pi_next_plus`), $pi_{next}$ (`pi_next`), $pi_{next}^{-}$ (`pi_next_minus`), and $pi$ (`pi`) are coefficients that contain the above `T_min_half` and `T_plus_half`.\n",
        "\n"
      ]
    },
    {
      "cell_type": "code",
      "metadata": {
        "id": "IJsmLh1xKz8S",
        "colab_type": "code",
        "colab": {}
      },
      "source": [
        "import numpy as np\n",
        "import matplotlib.pyplot as plt\n",
        "import pandas as pd"
      ],
      "execution_count": 0,
      "outputs": []
    },
    {
      "cell_type": "code",
      "metadata": {
        "id": "rJZBuBCVK6JV",
        "colab_type": "code",
        "outputId": "5ef39b94-c6e2-4927-b761-20671264c5aa",
        "colab": {
          "base_uri": "https://localhost:8080/",
          "height": 134
        }
      },
      "source": [
        "!git clone https://github.com/yohanesnuwara/reservoir-engineering"
      ],
      "execution_count": 0,
      "outputs": [
        {
          "output_type": "stream",
          "text": [
            "Cloning into 'reservoir-engineering'...\n",
            "remote: Enumerating objects: 213, done.\u001b[K\n",
            "remote: Counting objects: 100% (213/213), done.\u001b[K\n",
            "remote: Compressing objects: 100% (198/198), done.\u001b[K\n",
            "remote: Total 909 (delta 91), reused 0 (delta 0), pack-reused 696\u001b[K\n",
            "Receiving objects: 100% (909/909), 12.06 MiB | 24.17 MiB/s, done.\n",
            "Resolving deltas: 100% (389/389), done.\n"
          ],
          "name": "stdout"
        }
      ]
    },
    {
      "cell_type": "markdown",
      "metadata": {
        "id": "N-NT2lf1GKb3",
        "colab_type": "text"
      },
      "source": [
        "## Example 5.11 Five reservoir gridblocks with no flow at both boundaries\n",
        "\n",
        "![Example 5 8](https://user-images.githubusercontent.com/51282928/75949840-09e36380-5eda-11ea-824c-dd5c9ac6f6d5.PNG)"
      ]
    },
    {
      "cell_type": "markdown",
      "metadata": {
        "id": "fA3oDZbz9BR8",
        "colab_type": "text"
      },
      "source": [
        "### For timestep 15 days"
      ]
    },
    {
      "cell_type": "code",
      "metadata": {
        "id": "dLVKK7xd7fGK",
        "colab_type": "code",
        "outputId": "4780afa2-c271-42a6-ae12-fab25ed23104",
        "colab": {
          "base_uri": "https://localhost:8080/",
          "height": 34
        }
      },
      "source": [
        "\"Task. determine pressure distribution during first year of production with timestep 10 days\"\n",
        "\n",
        "# known\n",
        "p_initial = 6000 # initial pressure, in psia\n",
        "delta_x = 1000 # ft\n",
        "delta_y = 1000\n",
        "delta_z = 75\n",
        "ngrid = 5\n",
        "grid_loc = 4 # grid location where production well is located\n",
        "B = 1 # phase FVF, assumed constant over pressure, rb/stb\n",
        "c = 3.5E-06 # phase compressibility, psi^-1\n",
        "k_x = 15 # perm in x direction, md\n",
        "poro = 0.18\n",
        "mu = 10 # phase viscosity, cp\n",
        "\n",
        "delta_t = 15 # days\n",
        "qsc = -150 # minus means production, stb/d\n",
        "\n",
        "# conversion\n",
        "k_x = 15 * 1E-03 # darcy to mD\n",
        "\n",
        "# calculate factor\n",
        "Vb = delta_x * delta_y * delta_z\n",
        "alpha = 5.615 # volume conversion factor, is a constant\n",
        "factor = (Vb * poro * c) / (alpha * B * delta_t)\n",
        "factor"
      ],
      "execution_count": 11,
      "outputs": [
        {
          "output_type": "execute_result",
          "data": {
            "text/plain": [
              "0.5609973285841495"
            ]
          },
          "metadata": {
            "tags": []
          },
          "execution_count": 11
        }
      ]
    },
    {
      "cell_type": "markdown",
      "metadata": {
        "id": "Qc6m3sTBQK1T",
        "colab_type": "text"
      },
      "source": [
        "Because of uniform gridblocks, the equation for `tr_plus_coupling` and `tr_min_coupling` become:\n",
        "\n",
        "$$T_{lx_{i+1/2}}^{n} = T_{lx_{i-1/2}}^{n} = (\\beta_c \\frac{A_x k_x}{\\mu_l B_l \\Delta x})_{i+1/2}^{n} = (\\beta_c \\frac{A_x k_x}{\\mu_l B_l \\Delta x})_{i-1/2}^{n}$$"
      ]
    },
    {
      "cell_type": "code",
      "metadata": {
        "id": "lvE1tGprRDlN",
        "colab_type": "code",
        "outputId": "d1025f27-4066-48c0-ad2a-8f3210cf772f",
        "colab": {
          "base_uri": "https://localhost:8080/",
          "height": 34
        }
      },
      "source": [
        "# calculate transmissibility of coupling cells\n",
        "beta = 1.127 # transmissibility conversion factor, is a constant\n",
        "Ax = delta_y * delta_z\n",
        "T_plus_half = beta * ((Ax * k_x) / (mu * B * delta_x))\n",
        "T_min_half = T_plus_half\n",
        "T_min_half, T_plus_half"
      ],
      "execution_count": 12,
      "outputs": [
        {
          "output_type": "execute_result",
          "data": {
            "text/plain": [
              "(0.1267875, 0.1267875)"
            ]
          },
          "metadata": {
            "tags": []
          },
          "execution_count": 12
        }
      ]
    },
    {
      "cell_type": "markdown",
      "metadata": {
        "id": "A0dUkd4SUYP_",
        "colab_type": "text"
      },
      "source": [
        "There are 5 grids (`grid_1`, `grid_2`, `grid_3`, `grid_4`, `grid_5`), so the transmissibility coefficients will be: $$T_{lx_{i+1/2}}^{n}=(T_{lx_{1+1/2}}^{n}, T_{lx_{2+1/2}}^{n}, T_{lx_{3+1/2}}^{n}, T_{lx_{4+1/2}}^{n}, T_{lx_{5+1/2}}^{n})$$\n",
        "\n",
        "and\n",
        "\n",
        "$$T_{lx_{i-1/2}}^{n}=(T_{lx_{1/2}}^{n}, T_{lx_{1+1/2}}^{n}, T_{lx_{2+1/2}}^{n}, T_{lx_{3+1/2}}^{n}, T_{lx_{4+1/2}}^{n})$$\n",
        "\n",
        "The values of $T_{lx_{5+1/2}}^{n}=0$ and $T_{lx_{1/2}}^{n}=0$ (the edge of gridblocks), so the values of each are:\n",
        "\n",
        "$$T_{lx_{i+1/2}}^{n}=(0.127, 0.127, 0.127, 0.127, 0)$$\n",
        "\n",
        "and\n",
        "\n",
        "$$T_{lx_{i-1/2}}^{n}=(0, 0.127, 0.127, 0.127, 0.127)$$\n",
        "\n",
        "\n"
      ]
    },
    {
      "cell_type": "code",
      "metadata": {
        "id": "DSCdjpuNTDlY",
        "colab_type": "code",
        "outputId": "c1e86f5f-e921-4a5f-901c-0f4c9d1326b5",
        "colab": {
          "base_uri": "https://localhost:8080/",
          "height": 101
        }
      },
      "source": [
        "q = np.full(ngrid-1, T_min_half)\n",
        "Ti_plus_halves = np.append(q, [0])\n",
        "print(Ti_plus_halves)\n",
        "p = np.full(ngrid-1, T_plus_half)\n",
        "Ti_min_halves = np.append([0], p)\n",
        "print(Ti_min_halves)\n",
        "print(\"At grid 1, the coupling transmissibility coeffs are:\", Ti_min_halves[0], \"for T_min_half and:\", Ti_plus_halves[0], \"for T_plus_half.\")\n",
        "print(\"At grid 3, the coupling transmissibility coeffs are:\", Ti_min_halves[2], \"for T_min_half and:\", Ti_plus_halves[2], \"for T_plus_half.\")\n",
        "print(\"At grid 5, the coupling transmissibility coeffs are:\", Ti_min_halves[4], \"for T_min_half and:\", Ti_plus_halves[4], \"for T_plus_half.\")"
      ],
      "execution_count": 0,
      "outputs": [
        {
          "output_type": "stream",
          "text": [
            "[0.1267875 0.1267875 0.1267875 0.1267875 0.       ]\n",
            "[0.        0.1267875 0.1267875 0.1267875 0.1267875]\n",
            "At grid 1, the coupling transmissibility coeffs are: 0.0 for T_min_half and: 0.1267875 for T_plus_half.\n",
            "At grid 3, the coupling transmissibility coeffs are: 0.1267875 for T_min_half and: 0.1267875 for T_plus_half.\n",
            "At grid 5, the coupling transmissibility coeffs are: 0.1267875 for T_min_half and: 0.0 for T_plus_half.\n"
          ],
          "name": "stdout"
        }
      ]
    },
    {
      "cell_type": "markdown",
      "metadata": {
        "id": "Ektv_akOYbZO",
        "colab_type": "text"
      },
      "source": [
        "Requires array for $q_{sc}$"
      ]
    },
    {
      "cell_type": "code",
      "metadata": {
        "id": "Jh-Uh_VDYe86",
        "colab_type": "code",
        "colab": {}
      },
      "source": [
        "qsc = [0, 0, 0, -150, 0] # production well in grid 4"
      ],
      "execution_count": 0,
      "outputs": []
    },
    {
      "cell_type": "markdown",
      "metadata": {
        "id": "lnmDayyidQqU",
        "colab_type": "text"
      },
      "source": [
        "Calculate $p_{i}^{n+1}$ for each grid in each time\n",
        "\n",
        "Steps in iteration:\n",
        "* Calculate coefficients for `pi_next_minus`, `pi_next`, `pi_next_plus`, and `pi` for each grid in each timestep\n",
        "\n",
        "* Construct tridiagonal matrix from the calculated `pi_next_minus`, `pi_next`, `pi_next_plus`, and `pi` in each timestep\n",
        "\n",
        "* Solve the tridiagonal matrix with **TDMA** in each timestep"
      ]
    },
    {
      "cell_type": "markdown",
      "metadata": {
        "id": "aBCqJfhaAdF2",
        "colab_type": "text"
      },
      "source": [
        "### For the first timestep"
      ]
    },
    {
      "cell_type": "code",
      "metadata": {
        "id": "3R1R7XP2dH3s",
        "colab_type": "code",
        "colab": {
          "base_uri": "https://localhost:8080/",
          "height": 50
        },
        "outputId": "76316141-c50f-4cb7-9d65-7e7fc6d5625d"
      },
      "source": [
        "import sys, os\n",
        "sys.path.append('/content/reservoir-engineering/Reservoir Simulation Ertekin/Unit 5 Finite-Difference Approximation to Linear-Flow Equations')\n",
        "from tdma_implicit import TDMAsolver\n",
        "\n",
        "pi = np.full(ngrid, p_initial) # array of pressure in each grid [6000, 6000, 6000, 6000, 6000]\n",
        "\n",
        "pi_next_plus_arr = []\n",
        "pi_next_arr = []\n",
        "pi_next_minus_arr = []\n",
        "pi_arr = []\n",
        "\n",
        "for i in range(len(pi)):\n",
        "  pi_next_plus = Ti_plus_halves[i]\n",
        "  pi_next = -(factor + Ti_plus_halves[i] + Ti_min_halves[i])\n",
        "  pi_next_minus = Ti_min_halves[i]\n",
        "  pi_current = -(qsc[i] + (factor * pi[i]))\n",
        "\n",
        "  pi_next_plus_arr.append(float(pi_next_plus))\n",
        "  pi_next_arr.append(float(pi_next))\n",
        "  pi_next_minus_arr.append(float(pi_next_minus))\n",
        "  pi_arr.append(float(pi_current))\n",
        "\n",
        "pi_next_plus_arr = pi_next_plus_arr[:-1]\n",
        "pi_next_minus_arr = pi_next_minus_arr[1:]\n",
        "\n",
        "p_new = TDMAsolver(pi_next_minus_arr, pi_next_arr, pi_next_plus_arr, pi_arr)\n",
        "p_new"
      ],
      "execution_count": 63,
      "outputs": [
        {
          "output_type": "execute_result",
          "data": {
            "text/plain": [
              "array([5999.08253536, 5995.02302466, 5968.94186457, 5805.43760672,\n",
              "       5964.13401632])"
            ]
          },
          "metadata": {
            "tags": []
          },
          "execution_count": 63
        }
      ]
    },
    {
      "cell_type": "markdown",
      "metadata": {
        "id": "RGye4n79AeqO",
        "colab_type": "text"
      },
      "source": [
        "### For the next timesteps (iterative)"
      ]
    },
    {
      "cell_type": "code",
      "metadata": {
        "id": "U-6o9_Ui8w5C",
        "colab_type": "code",
        "colab": {
          "base_uri": "https://localhost:8080/",
          "height": 758
        },
        "outputId": "3e598a65-861a-40bc-bf63-71782e89b364"
      },
      "source": [
        "import sys, os\n",
        "sys.path.append('/content/reservoir-engineering/Reservoir Simulation Ertekin/Unit 5 Finite-Difference Approximation to Linear-Flow Equations')\n",
        "from tdma_implicit import TDMAsolver\n",
        "\n",
        "pi = np.full(ngrid, p_initial) # array of pressure in each grid [6000, 6000, 6000, 6000, 6000]\n",
        "time = np.arange(15, 370, delta_t)\n",
        "\n",
        "p_new_arr = []\n",
        "\n",
        "for j in range(len(time)):\n",
        "  pi_next_plus_arr = []\n",
        "  pi_next_arr = []\n",
        "  pi_next_minus_arr = []\n",
        "  pi_arr = []\n",
        "\n",
        "  for i in range(len(pi)):\n",
        "    pi_next_plus = Ti_plus_halves[i]\n",
        "    pi_next = -(factor + Ti_plus_halves[i] + Ti_min_halves[i])\n",
        "    pi_next_minus = Ti_min_halves[i]\n",
        "    pi_current = -(qsc[i] + (factor * pi[i]))\n",
        "\n",
        "    pi_next_plus_arr.append(float(pi_next_plus))\n",
        "    pi_next_arr.append(float(pi_next))\n",
        "    pi_next_minus_arr.append(float(pi_next_minus))\n",
        "    pi_arr.append(float(pi_current))\n",
        "\n",
        "  pi_next_plus_arr = pi_next_plus_arr[:-1]\n",
        "  pi_next_minus_arr = pi_next_minus_arr[1:]\n",
        "\n",
        "  p_new = TDMAsolver(pi_next_minus_arr, pi_next_arr, pi_next_plus_arr, pi_arr)\n",
        "  p_new_arr.append(p_new)\n",
        "  pi = p_new # updating pi\n",
        "\n",
        "df = pd.DataFrame.from_records(p_new_arr)\n",
        "df = pd.DataFrame(pd.np.column_stack([time, df]), columns=['time', 'grid 1', 'grid 2', 'grid 3', 'grid 4', 'grid 5'])\n",
        "df"
      ],
      "execution_count": 76,
      "outputs": [
        {
          "output_type": "execute_result",
          "data": {
            "text/html": [
              "<div>\n",
              "<style scoped>\n",
              "    .dataframe tbody tr th:only-of-type {\n",
              "        vertical-align: middle;\n",
              "    }\n",
              "\n",
              "    .dataframe tbody tr th {\n",
              "        vertical-align: top;\n",
              "    }\n",
              "\n",
              "    .dataframe thead th {\n",
              "        text-align: right;\n",
              "    }\n",
              "</style>\n",
              "<table border=\"1\" class=\"dataframe\">\n",
              "  <thead>\n",
              "    <tr style=\"text-align: right;\">\n",
              "      <th></th>\n",
              "      <th>time</th>\n",
              "      <th>grid 1</th>\n",
              "      <th>grid 2</th>\n",
              "      <th>grid 3</th>\n",
              "      <th>grid 4</th>\n",
              "      <th>grid 5</th>\n",
              "    </tr>\n",
              "  </thead>\n",
              "  <tbody>\n",
              "    <tr>\n",
              "      <th>0</th>\n",
              "      <td>15.0</td>\n",
              "      <td>5999.082535</td>\n",
              "      <td>5995.023025</td>\n",
              "      <td>5968.941865</td>\n",
              "      <td>5805.437607</td>\n",
              "      <td>5964.134016</td>\n",
              "    </tr>\n",
              "    <tr>\n",
              "      <th>1</th>\n",
              "      <td>30.0</td>\n",
              "      <td>5996.288586</td>\n",
              "      <td>5983.926184</td>\n",
              "      <td>5922.463533</td>\n",
              "      <td>5655.347957</td>\n",
              "      <td>5907.211835</td>\n",
              "    </tr>\n",
              "    <tr>\n",
              "      <th>2</th>\n",
              "      <td>45.0</td>\n",
              "      <td>5990.905854</td>\n",
              "      <td>5967.088850</td>\n",
              "      <td>5868.771602</td>\n",
              "      <td>5532.883385</td>\n",
              "      <td>5838.207451</td>\n",
              "    </tr>\n",
              "    <tr>\n",
              "      <th>3</th>\n",
              "      <td>60.0</td>\n",
              "      <td>5982.510213</td>\n",
              "      <td>5945.361975</td>\n",
              "      <td>5812.078717</td>\n",
              "      <td>5427.946146</td>\n",
              "      <td>5762.579140</td>\n",
              "    </tr>\n",
              "    <tr>\n",
              "      <th>4</th>\n",
              "      <td>75.0</td>\n",
              "      <td>5970.918387</td>\n",
              "      <td>5919.627971</td>\n",
              "      <td>5754.472173</td>\n",
              "      <td>5334.424389</td>\n",
              "      <td>5683.652318</td>\n",
              "    </tr>\n",
              "    <tr>\n",
              "      <th>5</th>\n",
              "      <td>90.0</td>\n",
              "      <td>5956.120544</td>\n",
              "      <td>5890.644450</td>\n",
              "      <td>5696.924816</td>\n",
              "      <td>5248.575083</td>\n",
              "      <td>5603.449393</td>\n",
              "    </tr>\n",
              "    <tr>\n",
              "      <th>6</th>\n",
              "      <td>105.0</td>\n",
              "      <td>5938.219314</td>\n",
              "      <td>5859.011646</td>\n",
              "      <td>5639.838141</td>\n",
              "      <td>5168.072925</td>\n",
              "      <td>5523.191307</td>\n",
              "    </tr>\n",
              "    <tr>\n",
              "      <th>7</th>\n",
              "      <td>120.0</td>\n",
              "      <td>5917.382850</td>\n",
              "      <td>5825.187636</td>\n",
              "      <td>5583.331141</td>\n",
              "      <td>5091.447822</td>\n",
              "      <td>5443.602932</td>\n",
              "    </tr>\n",
              "    <tr>\n",
              "      <th>8</th>\n",
              "      <td>135.0</td>\n",
              "      <td>5893.811872</td>\n",
              "      <td>5789.517243</td>\n",
              "      <td>5527.391637</td>\n",
              "      <td>5017.750206</td>\n",
              "      <td>5365.100470</td>\n",
              "    </tr>\n",
              "    <tr>\n",
              "      <th>9</th>\n",
              "      <td>150.0</td>\n",
              "      <td>5867.718063</td>\n",
              "      <td>5752.260646</td>\n",
              "      <td>5471.953765</td>\n",
              "      <td>4946.350635</td>\n",
              "      <td>5287.907367</td>\n",
              "    </tr>\n",
              "    <tr>\n",
              "      <th>10</th>\n",
              "      <td>165.0</td>\n",
              "      <td>5839.310787</td>\n",
              "      <td>5713.616960</td>\n",
              "      <td>5416.936208</td>\n",
              "      <td>4876.818979</td>\n",
              "      <td>5212.126590</td>\n",
              "    </tr>\n",
              "    <tr>\n",
              "      <th>11</th>\n",
              "      <td>180.0</td>\n",
              "      <td>5808.789548</td>\n",
              "      <td>5673.742058</td>\n",
              "      <td>5362.259877</td>\n",
              "      <td>4808.851043</td>\n",
              "      <td>5137.786046</td>\n",
              "    </tr>\n",
              "    <tr>\n",
              "      <th>12</th>\n",
              "      <td>195.0</td>\n",
              "      <td>5776.340195</td>\n",
              "      <td>5632.761371</td>\n",
              "      <td>5307.855084</td>\n",
              "      <td>4742.223617</td>\n",
              "      <td>5064.867352</td>\n",
              "    </tr>\n",
              "    <tr>\n",
              "      <th>13</th>\n",
              "      <td>210.0</td>\n",
              "      <td>5742.133469</td>\n",
              "      <td>5590.778787</td>\n",
              "      <td>5253.663542</td>\n",
              "      <td>4676.766694</td>\n",
              "      <td>4993.324174</td>\n",
              "    </tr>\n",
              "    <tr>\n",
              "      <th>14</th>\n",
              "      <td>225.0</td>\n",
              "      <td>5706.324933</td>\n",
              "      <td>5547.882710</td>\n",
              "      <td>5199.637987</td>\n",
              "      <td>4612.346098</td>\n",
              "      <td>4923.093986</td>\n",
              "    </tr>\n",
              "    <tr>\n",
              "      <th>15</th>\n",
              "      <td>240.0</td>\n",
              "      <td>5669.055664</td>\n",
              "      <td>5504.150133</td>\n",
              "      <td>5145.740831</td>\n",
              "      <td>4548.852500</td>\n",
              "      <td>4854.105633</td>\n",
              "    </tr>\n",
              "    <tr>\n",
              "      <th>16</th>\n",
              "      <td>255.0</td>\n",
              "      <td>5630.453327</td>\n",
              "      <td>5459.649358</td>\n",
              "      <td>5091.942574</td>\n",
              "      <td>4486.194350</td>\n",
              "      <td>4786.284201</td>\n",
              "    </tr>\n",
              "    <tr>\n",
              "      <th>17</th>\n",
              "      <td>270.0</td>\n",
              "      <td>5590.633376</td>\n",
              "      <td>5414.441824</td>\n",
              "      <td>5038.220256</td>\n",
              "      <td>4424.293264</td>\n",
              "      <td>4719.554137</td>\n",
              "    </tr>\n",
              "    <tr>\n",
              "      <th>18</th>\n",
              "      <td>285.0</td>\n",
              "      <td>5549.700270</td>\n",
              "      <td>5368.583339</td>\n",
              "      <td>4984.556126</td>\n",
              "      <td>4363.080946</td>\n",
              "      <td>4653.841224</td>\n",
              "    </tr>\n",
              "    <tr>\n",
              "      <th>19</th>\n",
              "      <td>300.0</td>\n",
              "      <td>5507.748621</td>\n",
              "      <td>5322.124937</td>\n",
              "      <td>4930.936509</td>\n",
              "      <td>4302.497078</td>\n",
              "      <td>4589.073808</td>\n",
              "    </tr>\n",
              "    <tr>\n",
              "      <th>20</th>\n",
              "      <td>315.0</td>\n",
              "      <td>5464.864239</td>\n",
              "      <td>5275.113485</td>\n",
              "      <td>4877.350909</td>\n",
              "      <td>4242.487843</td>\n",
              "      <td>4525.183524</td>\n",
              "    </tr>\n",
              "    <tr>\n",
              "      <th>21</th>\n",
              "      <td>330.0</td>\n",
              "      <td>5421.125072</td>\n",
              "      <td>5227.592144</td>\n",
              "      <td>4823.791283</td>\n",
              "      <td>4183.004859</td>\n",
              "      <td>4462.105690</td>\n",
              "    </tr>\n",
              "    <tr>\n",
              "      <th>22</th>\n",
              "      <td>345.0</td>\n",
              "      <td>5376.602035</td>\n",
              "      <td>5179.600717</td>\n",
              "      <td>4770.251479</td>\n",
              "      <td>4124.004382</td>\n",
              "      <td>4399.779483</td>\n",
              "    </tr>\n",
              "    <tr>\n",
              "      <th>23</th>\n",
              "      <td>360.0</td>\n",
              "      <td>5331.359745</td>\n",
              "      <td>5131.175945</td>\n",
              "      <td>4716.726794</td>\n",
              "      <td>4065.446688</td>\n",
              "      <td>4338.147970</td>\n",
              "    </tr>\n",
              "  </tbody>\n",
              "</table>\n",
              "</div>"
            ],
            "text/plain": [
              "     time       grid 1       grid 2       grid 3       grid 4       grid 5\n",
              "0    15.0  5999.082535  5995.023025  5968.941865  5805.437607  5964.134016\n",
              "1    30.0  5996.288586  5983.926184  5922.463533  5655.347957  5907.211835\n",
              "2    45.0  5990.905854  5967.088850  5868.771602  5532.883385  5838.207451\n",
              "3    60.0  5982.510213  5945.361975  5812.078717  5427.946146  5762.579140\n",
              "4    75.0  5970.918387  5919.627971  5754.472173  5334.424389  5683.652318\n",
              "5    90.0  5956.120544  5890.644450  5696.924816  5248.575083  5603.449393\n",
              "6   105.0  5938.219314  5859.011646  5639.838141  5168.072925  5523.191307\n",
              "7   120.0  5917.382850  5825.187636  5583.331141  5091.447822  5443.602932\n",
              "8   135.0  5893.811872  5789.517243  5527.391637  5017.750206  5365.100470\n",
              "9   150.0  5867.718063  5752.260646  5471.953765  4946.350635  5287.907367\n",
              "10  165.0  5839.310787  5713.616960  5416.936208  4876.818979  5212.126590\n",
              "11  180.0  5808.789548  5673.742058  5362.259877  4808.851043  5137.786046\n",
              "12  195.0  5776.340195  5632.761371  5307.855084  4742.223617  5064.867352\n",
              "13  210.0  5742.133469  5590.778787  5253.663542  4676.766694  4993.324174\n",
              "14  225.0  5706.324933  5547.882710  5199.637987  4612.346098  4923.093986\n",
              "15  240.0  5669.055664  5504.150133  5145.740831  4548.852500  4854.105633\n",
              "16  255.0  5630.453327  5459.649358  5091.942574  4486.194350  4786.284201\n",
              "17  270.0  5590.633376  5414.441824  5038.220256  4424.293264  4719.554137\n",
              "18  285.0  5549.700270  5368.583339  4984.556126  4363.080946  4653.841224\n",
              "19  300.0  5507.748621  5322.124937  4930.936509  4302.497078  4589.073808\n",
              "20  315.0  5464.864239  5275.113485  4877.350909  4242.487843  4525.183524\n",
              "21  330.0  5421.125072  5227.592144  4823.791283  4183.004859  4462.105690\n",
              "22  345.0  5376.602035  5179.600717  4770.251479  4124.004382  4399.779483\n",
              "23  360.0  5331.359745  5131.175945  4716.726794  4065.446688  4338.147970"
            ]
          },
          "metadata": {
            "tags": []
          },
          "execution_count": 76
        }
      ]
    }
  ]
}