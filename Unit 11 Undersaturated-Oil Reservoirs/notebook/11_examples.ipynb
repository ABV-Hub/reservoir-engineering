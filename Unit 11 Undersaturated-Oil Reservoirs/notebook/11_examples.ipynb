{
  "nbformat": 4,
  "nbformat_minor": 0,
  "metadata": {
    "colab": {
      "name": "11_examples.ipynb",
      "provenance": [],
      "collapsed_sections": [],
      "authorship_tag": "ABX9TyN/HbYTyDHYQHAZD6fIYr5F",
      "include_colab_link": true
    },
    "kernelspec": {
      "name": "python3",
      "display_name": "Python 3"
    }
  },
  "cells": [
    {
      "cell_type": "markdown",
      "metadata": {
        "id": "view-in-github",
        "colab_type": "text"
      },
      "source": [
        "<a href=\"https://colab.research.google.com/github/yohanesnuwara/reservoir-engineering/blob/master/Unit%2011%20Undersaturated-Oil%20Reservoirs/notebook/11_examples.ipynb\" target=\"_parent\"><img src=\"https://colab.research.google.com/assets/colab-badge.svg\" alt=\"Open In Colab\"/></a>"
      ]
    },
    {
      "cell_type": "markdown",
      "metadata": {
        "id": "PV2yrnN0CkzE",
        "colab_type": "text"
      },
      "source": [
        "# **Unit 11. Undersaturated-Oil Reservoirs**"
      ]
    },
    {
      "cell_type": "code",
      "metadata": {
        "id": "7OyFOpyJDiVf",
        "colab_type": "code",
        "colab": {}
      },
      "source": [
        "import numpy as np\n",
        "import matplotlib.pyplot as plt\n",
        "import pandas as pd\n",
        "from scipy.optimize import curve_fit"
      ],
      "execution_count": 78,
      "outputs": []
    },
    {
      "cell_type": "markdown",
      "metadata": {
        "id": "fnj76tJ1C3Mm",
        "colab_type": "text"
      },
      "source": [
        "## Example 11.1\n",
        "\n",
        "Task 1. Calculate OOIP by neglected water and formation compressibilities\n",
        "\n",
        "Task 2. Calculate OOIP by including water and formation compressibilities"
      ]
    },
    {
      "cell_type": "code",
      "metadata": {
        "id": "hephoaPiHXrK",
        "colab_type": "code",
        "colab": {
          "base_uri": "https://localhost:8080/",
          "height": 106
        },
        "outputId": "1a389509-026a-4767-d165-05e5acc84910"
      },
      "source": [
        "# knowns\n",
        "Boi = 1.484 # RB/STB\n",
        "cf = 3E-6 # psi^-1\n",
        "pi = 3000 # psia\n",
        "pb = 1775 # psia\n",
        "Rsi = 845 # scf/STB\n",
        "cw = 3E-6 # psi^-1\n",
        "swi = .25\n",
        "temp = 150 # fahrenheit\n",
        "\n",
        "# production data\n",
        "p = np.array([3000, 2500])\n",
        "Np = np.array([0, 33000]) # STB\n",
        "Rp = np.array([0, 845]) # cumulative produced-gas/oil ratio, scf/STB\n",
        "Bo = np.array([1.484, 1.490]) # RB/STB\n",
        "Rs = np.array([845, 845]) # scf/STB\n",
        "\n",
        "data = pd.DataFrame({'p': p, 'Np': Np, 'Rp': Rp, 'Bo': Bo, 'Rs': Rs})\n",
        "data"
      ],
      "execution_count": 3,
      "outputs": [
        {
          "output_type": "execute_result",
          "data": {
            "text/html": [
              "<div>\n",
              "<style scoped>\n",
              "    .dataframe tbody tr th:only-of-type {\n",
              "        vertical-align: middle;\n",
              "    }\n",
              "\n",
              "    .dataframe tbody tr th {\n",
              "        vertical-align: top;\n",
              "    }\n",
              "\n",
              "    .dataframe thead th {\n",
              "        text-align: right;\n",
              "    }\n",
              "</style>\n",
              "<table border=\"1\" class=\"dataframe\">\n",
              "  <thead>\n",
              "    <tr style=\"text-align: right;\">\n",
              "      <th></th>\n",
              "      <th>p</th>\n",
              "      <th>Np</th>\n",
              "      <th>Rp</th>\n",
              "      <th>Bo</th>\n",
              "      <th>Rs</th>\n",
              "    </tr>\n",
              "  </thead>\n",
              "  <tbody>\n",
              "    <tr>\n",
              "      <th>0</th>\n",
              "      <td>3000</td>\n",
              "      <td>0</td>\n",
              "      <td>0</td>\n",
              "      <td>1.484</td>\n",
              "      <td>845</td>\n",
              "    </tr>\n",
              "    <tr>\n",
              "      <th>1</th>\n",
              "      <td>2500</td>\n",
              "      <td>33000</td>\n",
              "      <td>845</td>\n",
              "      <td>1.490</td>\n",
              "      <td>845</td>\n",
              "    </tr>\n",
              "  </tbody>\n",
              "</table>\n",
              "</div>"
            ],
            "text/plain": [
              "      p     Np   Rp     Bo   Rs\n",
              "0  3000      0    0  1.484  845\n",
              "1  2500  33000  845  1.490  845"
            ]
          },
          "metadata": {
            "tags": []
          },
          "execution_count": 3
        }
      ]
    },
    {
      "cell_type": "code",
      "metadata": {
        "id": "snWxFCx7Ec4l",
        "colab_type": "code",
        "colab": {
          "base_uri": "https://localhost:8080/",
          "height": 34
        },
        "outputId": "8b50726e-650f-4e0b-dd9f-911b79acb859"
      },
      "source": [
        "# Task 1. calculate OOIP by neglecting water and formation compressibility\n",
        "\n",
        "F = Np[-1] * Bo[-1]\n",
        "Eo = Bo[-1] - Bo[0]\n",
        "\n",
        "Nfoi1 = F / Eo\n",
        "print('Original Oil in Place by neglecting water and formation compressibility:', Nfoi1, 'STB')"
      ],
      "execution_count": 14,
      "outputs": [
        {
          "output_type": "stream",
          "text": [
            "Original Oil in Place by neglecting water and formation compressibility: 8194999.999999993 STB\n"
          ],
          "name": "stdout"
        }
      ]
    },
    {
      "cell_type": "code",
      "metadata": {
        "id": "bcDYJ9hZPMDt",
        "colab_type": "code",
        "colab": {
          "base_uri": "https://localhost:8080/",
          "height": 50
        },
        "outputId": "ae4de69a-e15c-460f-cd16-e200d1a241e0"
      },
      "source": [
        "# Task 2. calculate OOIP by including water and formation compressibility\n",
        "\n",
        "F = Np[-1] * Bo[-1]\n",
        "Eo = Bo[-1] - Bo[0]\n",
        "Efw = ((cf + (cw * swi)) / (1 - swi)) * (p[0] - p[-1])\n",
        "Eo_Boi_Efw = Eo + Bo[0] * Efw\n",
        "\n",
        "Nfoi2 = F / Eo_Boi_Efw\n",
        "print('Original Oil in Place by including water and formation compressibility:', Nfoi2, 'STB')\n",
        "\n",
        "print('OOIP by neglecting compressibilities has overestimated', np.round(((Nfoi1 - Nfoi2) * 100 / Nfoi2), 2), '% compared to OOIP calculation including compressibilities')"
      ],
      "execution_count": 18,
      "outputs": [
        {
          "output_type": "stream",
          "text": [
            "Original Oil in Place by including water and formation compressibility: 5063851.699279091 STB\n",
            "OOIP by neglecting compressibilities has overestimated 61.83 % compared to OOIP calculation including compressibilities\n"
          ],
          "name": "stdout"
        }
      ]
    },
    {
      "cell_type": "markdown",
      "metadata": {
        "id": "N_9Z0gO0SHHe",
        "colab_type": "text"
      },
      "source": [
        "## Example 11.2\n",
        "\n",
        "Task 1. Calculate OOIP and OGIP, use plot $F$ vs $E_o+B_{oi}E_{fw}$"
      ]
    },
    {
      "cell_type": "code",
      "metadata": {
        "id": "I4qNo0fITTII",
        "colab_type": "code",
        "colab": {
          "base_uri": "https://localhost:8080/",
          "height": 225
        },
        "outputId": "b22092f7-8a48-4d48-b881-b0c72dfd0215"
      },
      "source": [
        "# knowns\n",
        "Bob = 1.56 # oil FVF at bubblepoint, RB/STB\n",
        "Boi = 1.532 # RB/STB\n",
        "Rsi = 900 # scf/STB\n",
        "cob = 21E-5 # oil compressibility at bubblepoint, psi^-1\n",
        "cf = 3E-6 # psi^-1\n",
        "cw = 4E-6 # psi^-1\n",
        "pi = 3115 # psia\n",
        "pb = 2255 # psia\n",
        "swi = .25\n",
        "\n",
        "# production data\n",
        "# during production, the bubblepoint pressure has been exceeded in Sept 1944\n",
        "date = np.array([np.datetime64('1941-01'), np.datetime64('1942-04'), np.datetime64('1942-08'), np.datetime64('1944-09'), np.datetime64('1945-12'), np.datetime64('1947-01')])\n",
        "p = np.array([3115, 2565, 2255, 2055, 1680, 1150])\n",
        "Np = np.array([0, 65, 100, 375, 575, 715]) * 1000 # STB\n",
        "Gp = np.array([0, 67, 105, 370, 800, 1600]) # MMscf\n",
        "Bt = np.array([1.5320, 1.55, 1.56, 1.62445, 1.80715, 2.35585]) # RB/STB\n",
        "Bg_inv = np.array([np.nan, 180, 156, 141, 113.5, 74]) # scf/res ft3\n",
        "\n",
        "status = []\n",
        "for i in range(len(p)):\n",
        "  if p[i] >= pb:\n",
        "    _ = 'above bubble'\n",
        "  if p[i] < pb:\n",
        "    _ = 'below bubble'\n",
        "  status.append(_)\n",
        "\n",
        "data = pd.DataFrame({'date': date, 'p': p, 'Np': Np, 'Gp': Gp, 'Bt': Bt, '1/Bg': Bg_inv, 'status': status})\n",
        "\n",
        "# conversion\n",
        "Gp = Gp * 1E+6 # MMscf to scf\n",
        "Bg_inv = Bg_inv / 0.178108 # scf/res ft3 to scf/res bbl\n",
        "Bg = 1 / Bg_inv # res bbl/scf\n",
        "\n",
        "data"
      ],
      "execution_count": 63,
      "outputs": [
        {
          "output_type": "execute_result",
          "data": {
            "text/html": [
              "<div>\n",
              "<style scoped>\n",
              "    .dataframe tbody tr th:only-of-type {\n",
              "        vertical-align: middle;\n",
              "    }\n",
              "\n",
              "    .dataframe tbody tr th {\n",
              "        vertical-align: top;\n",
              "    }\n",
              "\n",
              "    .dataframe thead th {\n",
              "        text-align: right;\n",
              "    }\n",
              "</style>\n",
              "<table border=\"1\" class=\"dataframe\">\n",
              "  <thead>\n",
              "    <tr style=\"text-align: right;\">\n",
              "      <th></th>\n",
              "      <th>date</th>\n",
              "      <th>p</th>\n",
              "      <th>Np</th>\n",
              "      <th>Gp</th>\n",
              "      <th>Bt</th>\n",
              "      <th>1/Bg</th>\n",
              "      <th>status</th>\n",
              "    </tr>\n",
              "  </thead>\n",
              "  <tbody>\n",
              "    <tr>\n",
              "      <th>0</th>\n",
              "      <td>1941-01-01</td>\n",
              "      <td>3115</td>\n",
              "      <td>0</td>\n",
              "      <td>0</td>\n",
              "      <td>1.53200</td>\n",
              "      <td>NaN</td>\n",
              "      <td>above bubble</td>\n",
              "    </tr>\n",
              "    <tr>\n",
              "      <th>1</th>\n",
              "      <td>1942-04-01</td>\n",
              "      <td>2565</td>\n",
              "      <td>65000</td>\n",
              "      <td>67</td>\n",
              "      <td>1.55000</td>\n",
              "      <td>180.0</td>\n",
              "      <td>above bubble</td>\n",
              "    </tr>\n",
              "    <tr>\n",
              "      <th>2</th>\n",
              "      <td>1942-08-01</td>\n",
              "      <td>2255</td>\n",
              "      <td>100000</td>\n",
              "      <td>105</td>\n",
              "      <td>1.56000</td>\n",
              "      <td>156.0</td>\n",
              "      <td>above bubble</td>\n",
              "    </tr>\n",
              "    <tr>\n",
              "      <th>3</th>\n",
              "      <td>1944-09-01</td>\n",
              "      <td>2055</td>\n",
              "      <td>375000</td>\n",
              "      <td>370</td>\n",
              "      <td>1.62445</td>\n",
              "      <td>141.0</td>\n",
              "      <td>below bubble</td>\n",
              "    </tr>\n",
              "    <tr>\n",
              "      <th>4</th>\n",
              "      <td>1945-12-01</td>\n",
              "      <td>1680</td>\n",
              "      <td>575000</td>\n",
              "      <td>800</td>\n",
              "      <td>1.80715</td>\n",
              "      <td>113.5</td>\n",
              "      <td>below bubble</td>\n",
              "    </tr>\n",
              "    <tr>\n",
              "      <th>5</th>\n",
              "      <td>1947-01-01</td>\n",
              "      <td>1150</td>\n",
              "      <td>715000</td>\n",
              "      <td>1600</td>\n",
              "      <td>2.35585</td>\n",
              "      <td>74.0</td>\n",
              "      <td>below bubble</td>\n",
              "    </tr>\n",
              "  </tbody>\n",
              "</table>\n",
              "</div>"
            ],
            "text/plain": [
              "        date     p      Np    Gp       Bt   1/Bg        status\n",
              "0 1941-01-01  3115       0     0  1.53200    NaN  above bubble\n",
              "1 1942-04-01  2565   65000    67  1.55000  180.0  above bubble\n",
              "2 1942-08-01  2255  100000   105  1.56000  156.0  above bubble\n",
              "3 1944-09-01  2055  375000   370  1.62445  141.0  below bubble\n",
              "4 1945-12-01  1680  575000   800  1.80715  113.5  below bubble\n",
              "5 1947-01-01  1150  715000  1600  2.35585   74.0  below bubble"
            ]
          },
          "metadata": {
            "tags": []
          },
          "execution_count": 63
        }
      ]
    },
    {
      "cell_type": "markdown",
      "metadata": {
        "id": "K6ReoxEfS2Pw",
        "colab_type": "text"
      },
      "source": [
        "In this Example 11.2, a formula is given to calculate the $B_{to}$ at pressure below bubblepoint. Originally, $B_{to}$ is calculated using Equation 11.8, but because the $R_s$ data is not known, so the formula is used.\n",
        "\n",
        "Above bubblepoint, Equation 11.8 reduces to:\n",
        "\n",
        "$$B_{to}=B_{t}$$\n",
        "\n",
        "Because $R_{s}$ = $R_{si}$, therefore $B_g(R_{si}-R_s)=0$"
      ]
    },
    {
      "cell_type": "code",
      "metadata": {
        "id": "7NwviPsVs_Ot",
        "colab_type": "code",
        "colab": {
          "base_uri": "https://localhost:8080/",
          "height": 225
        },
        "outputId": "a6062dab-1020-4e42-fa74-8b19c822382b"
      },
      "source": [
        "pi = p[0]\n",
        "Bti = Bt[0]\n",
        "Bto_above = Bt # Eq 11.8, term (Bg*(Rsi-Rs)) is 0 at pressure above bubblepoint (Rs=Rsi)\n",
        "Bto_below = Bob * (((pb - p) / ((1.282 * p) + (.000523 * (p**2)))) + 1) # formula given within the Example\n",
        "\n",
        "Bto = []\n",
        "for i in range(len(p)):\n",
        "  if p[i] >= pb:\n",
        "    Bto_ = Bt[i]\n",
        "  if p[i] < pb:\n",
        "    Bto_ = Bob * (((pb - p[i]) / ((1.282 * p[i]) + (.000523 * (p[i]**2)))) + 1)\n",
        "  Bto.append(Bto_) \n",
        "\n",
        "Efw = ((cf + (cw * swi)) / (1 - swi)) * (pi - p)\n",
        "Eo = Bto - Bti\n",
        "\n",
        "Eo_Bti_Efw = Eo + Bti * Efw\n",
        "\n",
        "F = (Np * (Bto - Rsi * Bg)) + (Gp * Bg)\n",
        "\n",
        "N = F / Eo_Bti_Efw\n",
        "\n",
        "params = pd.DataFrame({'p': p, 'F': F, 'Eo+(Bti*Efw)': Eo_Bti_Efw, 'N': N})\n",
        "params"
      ],
      "execution_count": 73,
      "outputs": [
        {
          "output_type": "execute_result",
          "data": {
            "text/html": [
              "<div>\n",
              "<style scoped>\n",
              "    .dataframe tbody tr th:only-of-type {\n",
              "        vertical-align: middle;\n",
              "    }\n",
              "\n",
              "    .dataframe tbody tr th {\n",
              "        vertical-align: top;\n",
              "    }\n",
              "\n",
              "    .dataframe thead th {\n",
              "        text-align: right;\n",
              "    }\n",
              "</style>\n",
              "<table border=\"1\" class=\"dataframe\">\n",
              "  <thead>\n",
              "    <tr style=\"text-align: right;\">\n",
              "      <th></th>\n",
              "      <th>p</th>\n",
              "      <th>F</th>\n",
              "      <th>Eo+(Bti*Efw)</th>\n",
              "      <th>N</th>\n",
              "    </tr>\n",
              "  </thead>\n",
              "  <tbody>\n",
              "    <tr>\n",
              "      <th>0</th>\n",
              "      <td>3115</td>\n",
              "      <td>NaN</td>\n",
              "      <td>0.000000</td>\n",
              "      <td>NaN</td>\n",
              "    </tr>\n",
              "    <tr>\n",
              "      <th>1</th>\n",
              "      <td>2565</td>\n",
              "      <td>1.091607e+05</td>\n",
              "      <td>0.022494</td>\n",
              "      <td>4.852908e+06</td>\n",
              "    </tr>\n",
              "    <tr>\n",
              "      <th>2</th>\n",
              "      <td>2255</td>\n",
              "      <td>1.731258e+05</td>\n",
              "      <td>0.035027</td>\n",
              "      <td>4.942670e+06</td>\n",
              "    </tr>\n",
              "    <tr>\n",
              "      <th>3</th>\n",
              "      <td>2055</td>\n",
              "      <td>6.502111e+05</td>\n",
              "      <td>0.101082</td>\n",
              "      <td>6.432526e+06</td>\n",
              "    </tr>\n",
              "    <tr>\n",
              "      <th>4</th>\n",
              "      <td>1680</td>\n",
              "      <td>1.482400e+06</td>\n",
              "      <td>0.286841</td>\n",
              "      <td>5.168023e+06</td>\n",
              "    </tr>\n",
              "    <tr>\n",
              "      <th>5</th>\n",
              "      <td>1150</td>\n",
              "      <td>3.986604e+06</td>\n",
              "      <td>0.839912</td>\n",
              "      <td>4.746453e+06</td>\n",
              "    </tr>\n",
              "  </tbody>\n",
              "</table>\n",
              "</div>"
            ],
            "text/plain": [
              "      p             F  Eo+(Bti*Efw)             N\n",
              "0  3115           NaN      0.000000           NaN\n",
              "1  2565  1.091607e+05      0.022494  4.852908e+06\n",
              "2  2255  1.731258e+05      0.035027  4.942670e+06\n",
              "3  2055  6.502111e+05      0.101082  6.432526e+06\n",
              "4  1680  1.482400e+06      0.286841  5.168023e+06\n",
              "5  1150  3.986604e+06      0.839912  4.746453e+06"
            ]
          },
          "metadata": {
            "tags": []
          },
          "execution_count": 73
        }
      ]
    },
    {
      "cell_type": "code",
      "metadata": {
        "id": "4VFU_TEsU3N2",
        "colab_type": "code",
        "colab": {
          "base_uri": "https://localhost:8080/",
          "height": 295
        },
        "outputId": "c612ee5e-d943-4f12-ba7f-898accee7f3b"
      },
      "source": [
        "# plot Bto vs pressure\n",
        "plt.plot(p, Bto, '.-')\n",
        "plt.title('Plot Total Oil FVF vs Pressure')\n",
        "plt.xlabel('Pressure (psia)'); plt.ylabel('Bto (RB/STB)')\n",
        "plt.show()"
      ],
      "execution_count": 76,
      "outputs": [
        {
          "output_type": "display_data",
          "data": {
            "image/png": "[encoded data removed]",
            "text/plain": [
              "<Figure size 432x288 with 1 Axes>"
            ]
          },
          "metadata": {
            "tags": [],
            "needs_background": "light"
          }
        }
      ]
    },
    {
      "cell_type": "markdown",
      "metadata": {
        "id": "7Y4vC4rnWwzj",
        "colab_type": "text"
      },
      "source": [
        "Plot 11.1"
      ]
    },
    {
      "cell_type": "code",
      "metadata": {
        "id": "RDBpVIqpP2tp",
        "colab_type": "code",
        "colab": {
          "base_uri": "https://localhost:8080/",
          "height": 312
        },
        "outputId": "667e17de-645e-49c5-d3b1-6fe9765f8858"
      },
      "source": [
        "# plot 11.1 and regression to calculate OOIP\n",
        "\n",
        "def linear(x, a):\n",
        "  # a: slope\n",
        "  y = a * x \n",
        "  return(y)\n",
        "\n",
        "popt, pcov = curve_fit(linear, Eo_Bti_Efw[1:], F[1:])\n",
        "print('OOIP using Plot 11.1 material balance:', popt[0], 'STB')\n",
        "\n",
        "y = Eo_Bti_Efw * popt[0]\n",
        "\n",
        "plt.plot(Eo_Bti_Efw, F, '.')\n",
        "plt.plot(Eo_Bti_Efw, y)\n",
        "plt.title('Plot 11.1: F vs Eo+(Bti* Efw)')\n",
        "plt.xlim(xmin=0); plt.ylim(ymin=0)\n",
        "plt.xlabel('Eo+(Bti*Efw) (RB/STB)'); plt.ylabel('F (res bbl)')\n",
        "plt.show()"
      ],
      "execution_count": 92,
      "outputs": [
        {
          "output_type": "stream",
          "text": [
            "OOIP using Plot 11.1 material balance: 4811739.154572299 STB\n"
          ],
          "name": "stdout"
        },
        {
          "output_type": "display_data",
          "data": {
            "image/png": "[encoded data removed]",
            "text/plain": [
              "<Figure size 432x288 with 1 Axes>"
            ]
          },
          "metadata": {
            "tags": [],
            "needs_background": "light"
          }
        }
      ]
    },
    {
      "cell_type": "markdown",
      "metadata": {
        "id": "5KLw1HScWy1D",
        "colab_type": "text"
      },
      "source": [
        "Plot 11.2: Waterdrive Diagnostic Plot"
      ]
    },
    {
      "cell_type": "code",
      "metadata": {
        "id": "ekNiQO_gW5YK",
        "colab_type": "code",
        "colab": {
          "base_uri": "https://localhost:8080/",
          "height": 312
        },
        "outputId": "7e46c527-f7c5-4892-aede-b11b061f36d2"
      },
      "source": [
        "# plot 11.2 and regression to calculate OOIP\n",
        "\n",
        "def linear(x, a, b):\n",
        "  # a: slope\n",
        "  # b: intercept\n",
        "  y = a * x + b\n",
        "  return(y)\n",
        "\n",
        "popt, pcov = curve_fit(linear, Np[1:], N[1:])\n",
        "print('OOIP using Plot 11.2 material balance:', popt[1], 'STB')\n",
        "\n",
        "y = Np * popt[0] + popt[1]\n",
        "\n",
        "plt.plot(Np, N, '.')\n",
        "plt.plot(Np, y)\n",
        "plt.title('Plot 11.2: F/(Eo+(Bti* Efw)) vs Np')\n",
        "plt.xlim(xmin=0); plt.ylim(ymin=0)\n",
        "plt.xlabel('Np (STB)'); plt.ylabel('N (STB)')\n",
        "plt.show()"
      ],
      "execution_count": 91,
      "outputs": [
        {
          "output_type": "stream",
          "text": [
            "OOIP using Plot 11.2 material balance: 5207192.68980829 STB\n"
          ],
          "name": "stdout"
        },
        {
          "output_type": "display_data",
          "data": {
            "image/png": "[encoded data removed]",
            "text/plain": [
              "<Figure size 432x288 with 1 Axes>"
            ]
          },
          "metadata": {
            "tags": [],
            "needs_background": "light"
          }
        }
      ]
    }
  ]
}