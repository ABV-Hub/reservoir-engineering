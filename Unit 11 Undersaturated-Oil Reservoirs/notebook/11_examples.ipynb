{
  "nbformat": 4,
  "nbformat_minor": 0,
  "metadata": {
    "colab": {
      "name": "11_examples.ipynb",
      "provenance": [],
      "collapsed_sections": [],
      "authorship_tag": "ABX9TyMmTtyEV05eeKhsfovueBRZ",
      "include_colab_link": true
    },
    "kernelspec": {
      "name": "python3",
      "display_name": "Python 3"
    }
  },
  "cells": [
    {
      "cell_type": "markdown",
      "metadata": {
        "id": "view-in-github",
        "colab_type": "text"
      },
      "source": [
        "<a href=\"https://colab.research.google.com/github/yohanesnuwara/reservoir-engineering/blob/master/Unit%2011%20Undersaturated-Oil%20Reservoirs/notebook/11_examples.ipynb\" target=\"_parent\"><img src=\"https://colab.research.google.com/assets/colab-badge.svg\" alt=\"Open In Colab\"/></a>"
      ]
    },
    {
      "cell_type": "markdown",
      "metadata": {
        "id": "PV2yrnN0CkzE",
        "colab_type": "text"
      },
      "source": [
        "# **Unit 11. Undersaturated-Oil Reservoirs**"
      ]
    },
    {
      "cell_type": "code",
      "metadata": {
        "id": "7OyFOpyJDiVf",
        "colab_type": "code",
        "colab": {}
      },
      "source": [
        "import numpy as np\n",
        "import matplotlib.pyplot as plt\n",
        "import pandas as pd\n",
        "from scipy.optimize import curve_fit"
      ],
      "execution_count": 2,
      "outputs": []
    },
    {
      "cell_type": "code",
      "metadata": {
        "id": "tB32lwOdJbNb",
        "colab_type": "code",
        "colab": {
          "base_uri": "https://localhost:8080/",
          "height": 134
        },
        "outputId": "4a54bb81-7eed-4cfc-b64e-a3749a80c6ab"
      },
      "source": [
        "!git clone https://github.com/yohanesnuwara/reservoir-engineering"
      ],
      "execution_count": 3,
      "outputs": [
        {
          "output_type": "stream",
          "text": [
            "Cloning into 'reservoir-engineering'...\n",
            "remote: Enumerating objects: 115, done.\u001b[K\n",
            "remote: Counting objects:   0% (1/115)\u001b[K\rremote: Counting objects:   1% (2/115)\u001b[K\rremote: Counting objects:   2% (3/115)\u001b[K\rremote: Counting objects:   3% (4/115)\u001b[K\rremote: Counting objects:   4% (5/115)\u001b[K\rremote: Counting objects:   5% (6/115)\u001b[K\rremote: Counting objects:   6% (7/115)\u001b[K\rremote: Counting objects:   7% (9/115)\u001b[K\rremote: Counting objects:   8% (10/115)\u001b[K\rremote: Counting objects:   9% (11/115)\u001b[K\rremote: Counting objects:  10% (12/115)\u001b[K\rremote: Counting objects:  11% (13/115)\u001b[K\rremote: Counting objects:  12% (14/115)\u001b[K\rremote: Counting objects:  13% (15/115)\u001b[K\rremote: Counting objects:  14% (17/115)\u001b[K\rremote: Counting objects:  15% (18/115)\u001b[K\rremote: Counting objects:  16% (19/115)\u001b[K\rremote: Counting objects:  17% (20/115)\u001b[K\rremote: Counting objects:  18% (21/115)\u001b[K\rremote: Counting objects:  19% (22/115)\u001b[K\rremote: Counting objects:  20% (23/115)\u001b[K\rremote: Counting objects:  21% (25/115)\u001b[K\rremote: Counting objects:  22% (26/115)\u001b[K\rremote: Counting objects:  23% (27/115)\u001b[K\rremote: Counting objects:  24% (28/115)\u001b[K\rremote: Counting objects:  25% (29/115)\u001b[K\rremote: Counting objects:  26% (30/115)\u001b[K\rremote: Counting objects:  27% (32/115)\u001b[K\rremote: Counting objects:  28% (33/115)\u001b[K\rremote: Counting objects:  29% (34/115)\u001b[K\rremote: Counting objects:  30% (35/115)\u001b[K\rremote: Counting objects:  31% (36/115)\u001b[K\rremote: Counting objects:  32% (37/115)\u001b[K\rremote: Counting objects:  33% (38/115)\u001b[K\rremote: Counting objects:  34% (40/115)\u001b[K\rremote: Counting objects:  35% (41/115)\u001b[K\rremote: Counting objects:  36% (42/115)\u001b[K\rremote: Counting objects:  37% (43/115)\u001b[K\rremote: Counting objects:  38% (44/115)\u001b[K\rremote: Counting objects:  39% (45/115)\u001b[K\rremote: Counting objects:  40% (46/115)\u001b[K\rremote: Counting objects:  41% (48/115)\u001b[K\rremote: Counting objects:  42% (49/115)\u001b[K\rremote: Counting objects:  43% (50/115)\u001b[K\rremote: Counting objects:  44% (51/115)\u001b[K\rremote: Counting objects:  45% (52/115)\u001b[K\rremote: Counting objects:  46% (53/115)\u001b[K\rremote: Counting objects:  47% (55/115)\u001b[K\rremote: Counting objects:  48% (56/115)\u001b[K\rremote: Counting objects:  49% (57/115)\u001b[K\rremote: Counting objects:  50% (58/115)\u001b[K\rremote: Counting objects:  51% (59/115)\u001b[K\rremote: Counting objects:  52% (60/115)\u001b[K\rremote: Counting objects:  53% (61/115)\u001b[K\rremote: Counting objects:  54% (63/115)\u001b[K\rremote: Counting objects:  55% (64/115)\u001b[K\rremote: Counting objects:  56% (65/115)\u001b[K\rremote: Counting objects:  57% (66/115)\u001b[K\rremote: Counting objects:  58% (67/115)\u001b[K\rremote: Counting objects:  59% (68/115)\u001b[K\rremote: Counting objects:  60% (69/115)\u001b[K\rremote: Counting objects:  61% (71/115)\u001b[K\rremote: Counting objects:  62% (72/115)\u001b[K\rremote: Counting objects:  63% (73/115)\u001b[K\rremote: Counting objects:  64% (74/115)\u001b[K\rremote: Counting objects:  65% (75/115)\u001b[K\rremote: Counting objects:  66% (76/115)\u001b[K\rremote: Counting objects:  67% (78/115)\u001b[K\rremote: Counting objects:  68% (79/115)\u001b[K\rremote: Counting objects:  69% (80/115)\u001b[K\rremote: Counting objects:  70% (81/115)\u001b[K\rremote: Counting objects:  71% (82/115)\u001b[K\rremote: Counting objects:  72% (83/115)\u001b[K\rremote: Counting objects:  73% (84/115)\u001b[K\rremote: Counting objects:  74% (86/115)\u001b[K\rremote: Counting objects:  75% (87/115)\u001b[K\rremote: Counting objects:  76% (88/115)\u001b[K\rremote: Counting objects:  77% (89/115)\u001b[K\rremote: Counting objects:  78% (90/115)\u001b[K\rremote: Counting objects:  79% (91/115)\u001b[K\rremote: Counting objects:  80% (92/115)\u001b[K\rremote: Counting objects:  81% (94/115)\u001b[K\rremote: Counting objects:  82% (95/115)\u001b[K\rremote: Counting objects:  83% (96/115)\u001b[K\rremote: Counting objects:  84% (97/115)\u001b[K\rremote: Counting objects:  85% (98/115)\u001b[K\rremote: Counting objects:  86% (99/115)\u001b[K\rremote: Counting objects:  87% (101/115)\u001b[K\rremote: Counting objects:  88% (102/115)\u001b[K\rremote: Counting objects:  89% (103/115)\u001b[K\rremote: Counting objects:  90% (104/115)\u001b[K\rremote: Counting objects:  91% (105/115)\u001b[K\rremote: Counting objects:  92% (106/115)\u001b[K\rremote: Counting objects:  93% (107/115)\u001b[K\rremote: Counting objects:  94% (109/115)\u001b[K\rremote: Counting objects:  95% (110/115)\u001b[K\rremote: Counting objects:  96% (111/115)\u001b[K\rremote: Counting objects:  97% (112/115)\u001b[K\rremote: Counting objects:  98% (113/115)\u001b[K\rremote: Counting objects:  99% (114/115)\u001b[K\rremote: Counting objects: 100% (115/115)\u001b[K\rremote: Counting objects: 100% (115/115), done.\u001b[K\n",
            "remote: Compressing objects: 100% (111/111), done.\u001b[K\n",
            "remote: Total 1260 (delta 48), reused 0 (delta 0), pack-reused 1145\u001b[K\n",
            "Receiving objects: 100% (1260/1260), 17.06 MiB | 32.48 MiB/s, done.\n",
            "Resolving deltas: 100% (569/569), done.\n"
          ],
          "name": "stdout"
        }
      ]
    },
    {
      "cell_type": "markdown",
      "metadata": {
        "id": "YQKmroOIKegw",
        "colab_type": "text"
      },
      "source": [
        "## Non-Volatile Undersaturated Oil Reservoir"
      ]
    },
    {
      "cell_type": "markdown",
      "metadata": {
        "id": "fnj76tJ1C3Mm",
        "colab_type": "text"
      },
      "source": [
        "### Example 11.1\n",
        "\n",
        "Task 1. Calculate OOIP by neglected water and formation compressibilities\n",
        "\n",
        "Task 2. Calculate OOIP by including water and formation compressibilities"
      ]
    },
    {
      "cell_type": "code",
      "metadata": {
        "id": "hephoaPiHXrK",
        "colab_type": "code",
        "colab": {
          "base_uri": "https://localhost:8080/",
          "height": 106
        },
        "outputId": "b320c672-76b6-40c2-d681-a964ffa1410a"
      },
      "source": [
        "# knowns\n",
        "Boi = 1.484 # RB/STB\n",
        "cf = 3E-6 # psi^-1\n",
        "pi = 3000 # psia\n",
        "pb = 1775 # psia\n",
        "Rsi = 845 # scf/STB\n",
        "cw = 3E-6 # psi^-1\n",
        "swi = .25\n",
        "temp = 150 # fahrenheit\n",
        "\n",
        "# production data\n",
        "p = np.array([3000, 2500])\n",
        "Np = np.array([0, 33000]) # STB\n",
        "Rp = np.array([0, 845]) # cumulative produced-gas/oil ratio, scf/STB\n",
        "Bo = np.array([1.484, 1.490]) # RB/STB\n",
        "Rs = np.array([845, 845]) # scf/STB\n",
        "\n",
        "data = pd.DataFrame({'p': p, 'Np': Np, 'Rp': Rp, 'Bo': Bo, 'Rs': Rs})\n",
        "data"
      ],
      "execution_count": 4,
      "outputs": [
        {
          "output_type": "execute_result",
          "data": {
            "text/html": [
              "<div>\n",
              "<style scoped>\n",
              "    .dataframe tbody tr th:only-of-type {\n",
              "        vertical-align: middle;\n",
              "    }\n",
              "\n",
              "    .dataframe tbody tr th {\n",
              "        vertical-align: top;\n",
              "    }\n",
              "\n",
              "    .dataframe thead th {\n",
              "        text-align: right;\n",
              "    }\n",
              "</style>\n",
              "<table border=\"1\" class=\"dataframe\">\n",
              "  <thead>\n",
              "    <tr style=\"text-align: right;\">\n",
              "      <th></th>\n",
              "      <th>p</th>\n",
              "      <th>Np</th>\n",
              "      <th>Rp</th>\n",
              "      <th>Bo</th>\n",
              "      <th>Rs</th>\n",
              "    </tr>\n",
              "  </thead>\n",
              "  <tbody>\n",
              "    <tr>\n",
              "      <th>0</th>\n",
              "      <td>3000</td>\n",
              "      <td>0</td>\n",
              "      <td>0</td>\n",
              "      <td>1.484</td>\n",
              "      <td>845</td>\n",
              "    </tr>\n",
              "    <tr>\n",
              "      <th>1</th>\n",
              "      <td>2500</td>\n",
              "      <td>33000</td>\n",
              "      <td>845</td>\n",
              "      <td>1.490</td>\n",
              "      <td>845</td>\n",
              "    </tr>\n",
              "  </tbody>\n",
              "</table>\n",
              "</div>"
            ],
            "text/plain": [
              "      p     Np   Rp     Bo   Rs\n",
              "0  3000      0    0  1.484  845\n",
              "1  2500  33000  845  1.490  845"
            ]
          },
          "metadata": {
            "tags": []
          },
          "execution_count": 4
        }
      ]
    },
    {
      "cell_type": "code",
      "metadata": {
        "id": "snWxFCx7Ec4l",
        "colab_type": "code",
        "colab": {
          "base_uri": "https://localhost:8080/",
          "height": 34
        },
        "outputId": "2b156340-12c1-4d4a-e65c-018ebf932952"
      },
      "source": [
        "# Task 1. calculate OOIP by neglecting water and formation compressibility\n",
        "\n",
        "F = Np[-1] * Bo[-1]\n",
        "Eo = Bo[-1] - Bo[0]\n",
        "\n",
        "Nfoi1 = F / Eo\n",
        "print('Original Oil in Place by neglecting water and formation compressibility:', Nfoi1, 'STB')"
      ],
      "execution_count": 5,
      "outputs": [
        {
          "output_type": "stream",
          "text": [
            "Original Oil in Place by neglecting water and formation compressibility: 8194999.999999993 STB\n"
          ],
          "name": "stdout"
        }
      ]
    },
    {
      "cell_type": "code",
      "metadata": {
        "id": "bcDYJ9hZPMDt",
        "colab_type": "code",
        "colab": {
          "base_uri": "https://localhost:8080/",
          "height": 50
        },
        "outputId": "c32ce0fd-d57f-4ddd-b4e9-da74f8523c07"
      },
      "source": [
        "# Task 2. calculate OOIP by including water and formation compressibility\n",
        "\n",
        "F = Np[-1] * Bo[-1]\n",
        "Eo = Bo[-1] - Bo[0]\n",
        "Efw = ((cf + (cw * swi)) / (1 - swi)) * (p[0] - p[-1])\n",
        "Eo_Boi_Efw = Eo + Bo[0] * Efw\n",
        "\n",
        "Nfoi2 = F / Eo_Boi_Efw\n",
        "print('Original Oil in Place by including water and formation compressibility:', Nfoi2, 'STB')\n",
        "\n",
        "print('OOIP by neglecting compressibilities has overestimated', np.round(((Nfoi1 - Nfoi2) * 100 / Nfoi2), 2), '% compared to OOIP calculation including compressibilities')"
      ],
      "execution_count": 6,
      "outputs": [
        {
          "output_type": "stream",
          "text": [
            "Original Oil in Place by including water and formation compressibility: 5063851.699279091 STB\n",
            "OOIP by neglecting compressibilities has overestimated 61.83 % compared to OOIP calculation including compressibilities\n"
          ],
          "name": "stdout"
        }
      ]
    },
    {
      "cell_type": "markdown",
      "metadata": {
        "id": "N_9Z0gO0SHHe",
        "colab_type": "text"
      },
      "source": [
        "### Example 11.2\n",
        "\n",
        "Task 1. Calculate OOIP and OGIP, use plot $F$ vs $E_o+B_{oi}E_{fw}$"
      ]
    },
    {
      "cell_type": "code",
      "metadata": {
        "id": "I4qNo0fITTII",
        "colab_type": "code",
        "colab": {
          "base_uri": "https://localhost:8080/",
          "height": 225
        },
        "outputId": "6cdd610b-285e-4128-bc1d-d102128ae231"
      },
      "source": [
        "# knowns\n",
        "Bob = 1.56 # oil FVF at bubblepoint, RB/STB\n",
        "Boi = 1.532 # RB/STB\n",
        "Rsi = 900 # scf/STB\n",
        "cob = 21E-5 # oil compressibility at bubblepoint, psi^-1\n",
        "cf = 3E-6 # psi^-1\n",
        "cw = 4E-6 # psi^-1\n",
        "pi = 3115 # psia\n",
        "pb = 2255 # psia\n",
        "swi = .25\n",
        "\n",
        "# production data\n",
        "# during production, the bubblepoint pressure has been exceeded in Sept 1944\n",
        "date = np.array([np.datetime64('1941-01'), np.datetime64('1942-04'), np.datetime64('1942-08'), np.datetime64('1944-09'), np.datetime64('1945-12'), np.datetime64('1947-01')])\n",
        "p = np.array([3115, 2565, 2255, 2055, 1680, 1150])\n",
        "Np = np.array([0, 65, 100, 375, 575, 715]) * 1000 # STB\n",
        "Gp = np.array([0, 67, 105, 370, 800, 1600]) # MMscf\n",
        "Bt = np.array([1.5320, 1.55, 1.56, 1.62445, 1.80715, 2.35585]) # RB/STB\n",
        "Bg_inv = np.array([np.nan, 180, 156, 141, 113.5, 74]) # scf/res ft3\n",
        "\n",
        "status = []\n",
        "for i in range(len(p)):\n",
        "  if p[i] >= pb:\n",
        "    _ = 'above bubble'\n",
        "  if p[i] < pb:\n",
        "    _ = 'below bubble'\n",
        "  status.append(_)\n",
        "\n",
        "data = pd.DataFrame({'date': date, 'p': p, 'Np': Np, 'Gp': Gp, 'Bt': Bt, '1/Bg': Bg_inv, 'status': status})\n",
        "\n",
        "# conversion\n",
        "Gp = Gp * 1E+6 # MMscf to scf\n",
        "Bg_inv = Bg_inv / 0.178108 # scf/res ft3 to scf/res bbl\n",
        "Bg = 1 / Bg_inv # res bbl/scf\n",
        "\n",
        "data"
      ],
      "execution_count": 7,
      "outputs": [
        {
          "output_type": "execute_result",
          "data": {
            "text/html": [
              "<div>\n",
              "<style scoped>\n",
              "    .dataframe tbody tr th:only-of-type {\n",
              "        vertical-align: middle;\n",
              "    }\n",
              "\n",
              "    .dataframe tbody tr th {\n",
              "        vertical-align: top;\n",
              "    }\n",
              "\n",
              "    .dataframe thead th {\n",
              "        text-align: right;\n",
              "    }\n",
              "</style>\n",
              "<table border=\"1\" class=\"dataframe\">\n",
              "  <thead>\n",
              "    <tr style=\"text-align: right;\">\n",
              "      <th></th>\n",
              "      <th>date</th>\n",
              "      <th>p</th>\n",
              "      <th>Np</th>\n",
              "      <th>Gp</th>\n",
              "      <th>Bt</th>\n",
              "      <th>1/Bg</th>\n",
              "      <th>status</th>\n",
              "    </tr>\n",
              "  </thead>\n",
              "  <tbody>\n",
              "    <tr>\n",
              "      <th>0</th>\n",
              "      <td>1941-01-01</td>\n",
              "      <td>3115</td>\n",
              "      <td>0</td>\n",
              "      <td>0</td>\n",
              "      <td>1.53200</td>\n",
              "      <td>NaN</td>\n",
              "      <td>above bubble</td>\n",
              "    </tr>\n",
              "    <tr>\n",
              "      <th>1</th>\n",
              "      <td>1942-04-01</td>\n",
              "      <td>2565</td>\n",
              "      <td>65000</td>\n",
              "      <td>67</td>\n",
              "      <td>1.55000</td>\n",
              "      <td>180.0</td>\n",
              "      <td>above bubble</td>\n",
              "    </tr>\n",
              "    <tr>\n",
              "      <th>2</th>\n",
              "      <td>1942-08-01</td>\n",
              "      <td>2255</td>\n",
              "      <td>100000</td>\n",
              "      <td>105</td>\n",
              "      <td>1.56000</td>\n",
              "      <td>156.0</td>\n",
              "      <td>above bubble</td>\n",
              "    </tr>\n",
              "    <tr>\n",
              "      <th>3</th>\n",
              "      <td>1944-09-01</td>\n",
              "      <td>2055</td>\n",
              "      <td>375000</td>\n",
              "      <td>370</td>\n",
              "      <td>1.62445</td>\n",
              "      <td>141.0</td>\n",
              "      <td>below bubble</td>\n",
              "    </tr>\n",
              "    <tr>\n",
              "      <th>4</th>\n",
              "      <td>1945-12-01</td>\n",
              "      <td>1680</td>\n",
              "      <td>575000</td>\n",
              "      <td>800</td>\n",
              "      <td>1.80715</td>\n",
              "      <td>113.5</td>\n",
              "      <td>below bubble</td>\n",
              "    </tr>\n",
              "    <tr>\n",
              "      <th>5</th>\n",
              "      <td>1947-01-01</td>\n",
              "      <td>1150</td>\n",
              "      <td>715000</td>\n",
              "      <td>1600</td>\n",
              "      <td>2.35585</td>\n",
              "      <td>74.0</td>\n",
              "      <td>below bubble</td>\n",
              "    </tr>\n",
              "  </tbody>\n",
              "</table>\n",
              "</div>"
            ],
            "text/plain": [
              "        date     p      Np    Gp       Bt   1/Bg        status\n",
              "0 1941-01-01  3115       0     0  1.53200    NaN  above bubble\n",
              "1 1942-04-01  2565   65000    67  1.55000  180.0  above bubble\n",
              "2 1942-08-01  2255  100000   105  1.56000  156.0  above bubble\n",
              "3 1944-09-01  2055  375000   370  1.62445  141.0  below bubble\n",
              "4 1945-12-01  1680  575000   800  1.80715  113.5  below bubble\n",
              "5 1947-01-01  1150  715000  1600  2.35585   74.0  below bubble"
            ]
          },
          "metadata": {
            "tags": []
          },
          "execution_count": 7
        }
      ]
    },
    {
      "cell_type": "markdown",
      "metadata": {
        "id": "K6ReoxEfS2Pw",
        "colab_type": "text"
      },
      "source": [
        "In this Example 11.2, a formula is given to calculate the $B_{to}$ at pressure below bubblepoint. Originally, $B_{to}$ is calculated using Equation 11.8, but because the $R_s$ data is not known, so the formula is used.\n",
        "\n",
        "$$B_{to}=B_{ob} \\left(\\frac{p_b-p}{1.282p+.00052p^2}+1 \\right)$$\n",
        "\n",
        "Above bubblepoint, Equation 11.8 reduces to:\n",
        "\n",
        "$$B_{to}=B_{t}$$\n",
        "\n",
        "Because $R_{s}$ = $R_{si}$, therefore $B_g(R_{si}-R_s)=0$"
      ]
    },
    {
      "cell_type": "code",
      "metadata": {
        "id": "7NwviPsVs_Ot",
        "colab_type": "code",
        "colab": {
          "base_uri": "https://localhost:8080/",
          "height": 225
        },
        "outputId": "a157d0cc-9be6-459d-db88-27dd488906af"
      },
      "source": [
        "pi = p[0]\n",
        "Bti = Bt[0]\n",
        "Bto_above = Bt # Eq 11.8, term (Bg*(Rsi-Rs)) is 0 at pressure above bubblepoint (Rs=Rsi)\n",
        "Bto_below = Bob * (((pb - p) / ((1.282 * p) + (.000523 * (p**2)))) + 1) # formula given within the Example\n",
        "\n",
        "Bto = []\n",
        "for i in range(len(p)):\n",
        "  if p[i] >= pb:\n",
        "    Bto_ = Bt[i]\n",
        "  if p[i] < pb:\n",
        "    Bto_ = Bob * (((pb - p[i]) / ((1.282 * p[i]) + (.000523 * (p[i]**2)))) + 1)\n",
        "  Bto.append(Bto_) \n",
        "\n",
        "Efw = ((cf + (cw * swi)) / (1 - swi)) * (pi - p)\n",
        "Eo = Bto - Bti\n",
        "\n",
        "Eo_Bti_Efw = Eo + Bti * Efw\n",
        "\n",
        "F = (Np * (Bto - Rsi * Bg)) + (Gp * Bg)\n",
        "\n",
        "N = F / Eo_Bti_Efw\n",
        "\n",
        "params = pd.DataFrame({'p': p, 'F': F, 'Eo+(Bti*Efw)': Eo_Bti_Efw, 'N': N})\n",
        "params"
      ],
      "execution_count": 8,
      "outputs": [
        {
          "output_type": "execute_result",
          "data": {
            "text/html": [
              "<div>\n",
              "<style scoped>\n",
              "    .dataframe tbody tr th:only-of-type {\n",
              "        vertical-align: middle;\n",
              "    }\n",
              "\n",
              "    .dataframe tbody tr th {\n",
              "        vertical-align: top;\n",
              "    }\n",
              "\n",
              "    .dataframe thead th {\n",
              "        text-align: right;\n",
              "    }\n",
              "</style>\n",
              "<table border=\"1\" class=\"dataframe\">\n",
              "  <thead>\n",
              "    <tr style=\"text-align: right;\">\n",
              "      <th></th>\n",
              "      <th>p</th>\n",
              "      <th>F</th>\n",
              "      <th>Eo+(Bti*Efw)</th>\n",
              "      <th>N</th>\n",
              "    </tr>\n",
              "  </thead>\n",
              "  <tbody>\n",
              "    <tr>\n",
              "      <th>0</th>\n",
              "      <td>3115</td>\n",
              "      <td>NaN</td>\n",
              "      <td>0.000000</td>\n",
              "      <td>NaN</td>\n",
              "    </tr>\n",
              "    <tr>\n",
              "      <th>1</th>\n",
              "      <td>2565</td>\n",
              "      <td>1.091607e+05</td>\n",
              "      <td>0.022494</td>\n",
              "      <td>4.852908e+06</td>\n",
              "    </tr>\n",
              "    <tr>\n",
              "      <th>2</th>\n",
              "      <td>2255</td>\n",
              "      <td>1.731258e+05</td>\n",
              "      <td>0.035027</td>\n",
              "      <td>4.942670e+06</td>\n",
              "    </tr>\n",
              "    <tr>\n",
              "      <th>3</th>\n",
              "      <td>2055</td>\n",
              "      <td>6.502111e+05</td>\n",
              "      <td>0.101082</td>\n",
              "      <td>6.432526e+06</td>\n",
              "    </tr>\n",
              "    <tr>\n",
              "      <th>4</th>\n",
              "      <td>1680</td>\n",
              "      <td>1.482400e+06</td>\n",
              "      <td>0.286841</td>\n",
              "      <td>5.168023e+06</td>\n",
              "    </tr>\n",
              "    <tr>\n",
              "      <th>5</th>\n",
              "      <td>1150</td>\n",
              "      <td>3.986604e+06</td>\n",
              "      <td>0.839912</td>\n",
              "      <td>4.746453e+06</td>\n",
              "    </tr>\n",
              "  </tbody>\n",
              "</table>\n",
              "</div>"
            ],
            "text/plain": [
              "      p             F  Eo+(Bti*Efw)             N\n",
              "0  3115           NaN      0.000000           NaN\n",
              "1  2565  1.091607e+05      0.022494  4.852908e+06\n",
              "2  2255  1.731258e+05      0.035027  4.942670e+06\n",
              "3  2055  6.502111e+05      0.101082  6.432526e+06\n",
              "4  1680  1.482400e+06      0.286841  5.168023e+06\n",
              "5  1150  3.986604e+06      0.839912  4.746453e+06"
            ]
          },
          "metadata": {
            "tags": []
          },
          "execution_count": 8
        }
      ]
    },
    {
      "cell_type": "code",
      "metadata": {
        "id": "4VFU_TEsU3N2",
        "colab_type": "code",
        "colab": {
          "base_uri": "https://localhost:8080/",
          "height": 295
        },
        "outputId": "68ee4146-ab99-4a02-e392-eb0a5f1a6848"
      },
      "source": [
        "# plot Bto vs pressure\n",
        "plt.plot(p, Bto, '.-')\n",
        "plt.title('Plot Total Oil FVF vs Pressure')\n",
        "plt.xlabel('Pressure (psia)'); plt.ylabel('Bto (RB/STB)')\n",
        "plt.show()"
      ],
      "execution_count": 9,
      "outputs": [
        {
          "output_type": "display_data",
          "data": {
            "image/png": "[encoded data removed]",
            "text/plain": [
              "<Figure size 432x288 with 1 Axes>"
            ]
          },
          "metadata": {
            "tags": [],
            "needs_background": "light"
          }
        }
      ]
    },
    {
      "cell_type": "markdown",
      "metadata": {
        "id": "7Y4vC4rnWwzj",
        "colab_type": "text"
      },
      "source": [
        "Plot 11.1"
      ]
    },
    {
      "cell_type": "code",
      "metadata": {
        "id": "RDBpVIqpP2tp",
        "colab_type": "code",
        "colab": {
          "base_uri": "https://localhost:8080/",
          "height": 312
        },
        "outputId": "0dd34e30-0a68-4656-c8fd-33ec674cebbe"
      },
      "source": [
        "# plot 11.1 and regression to calculate OOIP\n",
        "\n",
        "def linear(x, a):\n",
        "  # a: slope\n",
        "  y = a * x \n",
        "  return(y)\n",
        "\n",
        "popt, pcov = curve_fit(linear, Eo_Bti_Efw[1:], F[1:])\n",
        "print('OOIP using Plot 11.1 material balance:', popt[0], 'STB')\n",
        "\n",
        "y = Eo_Bti_Efw * popt[0]\n",
        "\n",
        "plt.plot(Eo_Bti_Efw, F, '.')\n",
        "plt.plot(Eo_Bti_Efw, y)\n",
        "plt.title('Plot 11.1: F vs Eo+(Bti* Efw)')\n",
        "plt.xlim(xmin=0); plt.ylim(ymin=0)\n",
        "plt.xlabel('Eo+(Bti*Efw) (RB/STB)'); plt.ylabel('F (res bbl)')\n",
        "plt.show()"
      ],
      "execution_count": 10,
      "outputs": [
        {
          "output_type": "stream",
          "text": [
            "OOIP using Plot 11.1 material balance: 4811739.154572299 STB\n"
          ],
          "name": "stdout"
        },
        {
          "output_type": "display_data",
          "data": {
            "image/png": "[encoded data removed]",
            "text/plain": [
              "<Figure size 432x288 with 1 Axes>"
            ]
          },
          "metadata": {
            "tags": [],
            "needs_background": "light"
          }
        }
      ]
    },
    {
      "cell_type": "markdown",
      "metadata": {
        "id": "5KLw1HScWy1D",
        "colab_type": "text"
      },
      "source": [
        "Plot 11.2: Waterdrive Diagnostic Plot"
      ]
    },
    {
      "cell_type": "code",
      "metadata": {
        "id": "ekNiQO_gW5YK",
        "colab_type": "code",
        "colab": {
          "base_uri": "https://localhost:8080/",
          "height": 312
        },
        "outputId": "cdd7fb0d-f51b-420d-d254-790f068cefa3"
      },
      "source": [
        "# plot 11.2 and regression to calculate OOIP\n",
        "\n",
        "def linear(x, a, b):\n",
        "  # a: slope\n",
        "  # b: intercept\n",
        "  y = a * x + b\n",
        "  return(y)\n",
        "\n",
        "popt, pcov = curve_fit(linear, Np[1:], N[1:])\n",
        "print('OOIP using Plot 11.2 material balance:', popt[1], 'STB')\n",
        "\n",
        "y = Np * popt[0] + popt[1]\n",
        "\n",
        "plt.plot(Np, N, '.')\n",
        "plt.plot(Np, y)\n",
        "plt.title('Plot 11.2: F/(Eo+(Bti* Efw)) vs Np')\n",
        "plt.xlim(xmin=0); plt.ylim(ymin=0)\n",
        "plt.xlabel('Np (STB)'); plt.ylabel('N (STB)')\n",
        "plt.show()"
      ],
      "execution_count": 11,
      "outputs": [
        {
          "output_type": "stream",
          "text": [
            "OOIP using Plot 11.2 material balance: 5207192.68980829 STB\n"
          ],
          "name": "stdout"
        },
        {
          "output_type": "display_data",
          "data": {
            "image/png": "[encoded data removed]",
            "text/plain": [
              "<Figure size 432x288 with 1 Axes>"
            ]
          },
          "metadata": {
            "tags": [],
            "needs_background": "light"
          }
        }
      ]
    },
    {
      "cell_type": "markdown",
      "metadata": {
        "id": "Y3HTZaSiq78K",
        "colab_type": "text"
      },
      "source": [
        "### Example 11.3"
      ]
    },
    {
      "cell_type": "markdown",
      "metadata": {
        "id": "zvH_KmvrrCJ8",
        "colab_type": "text"
      },
      "source": [
        "In this Example 11.3, we're being instructed to back-calculate to find the oil FVF ($B_o$) at 1,000 psi from the data provided in **Table 11.1** and **Table 11.4**\n",
        "\n",
        "At 1,000 psi, the pressure has exceeded **below the bubblepoint @ 1,775 psi**, therefore there will be two-phase (oil and gas in free-phase) at 1,000 psi.\n",
        "\n",
        "From Example 11.1, we already calculated that the **correct** initial oil in place ($N_{foi}$) is 5,063,852 STB.\n",
        "\n",
        "Here, we compare the result of $B_o$ if we **include PV compressibilities ($E_{fw}$)** and if we **neglect it**.\n",
        "\n",
        "Steps 1 to 12 has been provided as the solution. Step 1 to 6 are done to calculate the **reservoir volume of the free gas ($V_{gf}$)**.\n",
        "\n",
        "For calculation **including the compressibilities**, Step 8 and 9 are used. On the other hand, for calculation **neglecting the compressibilities**, Step 10 to 12 are used.\n",
        "\n",
        "Below is the Python implementation.\n",
        "\n"
      ]
    },
    {
      "cell_type": "code",
      "metadata": {
        "id": "jziI6fG5sm_S",
        "colab_type": "code",
        "colab": {
          "base_uri": "https://localhost:8080/",
          "height": 136
        },
        "outputId": "c1a9d175-a270-4a11-dc1c-74287fd30d00"
      },
      "source": [
        "# data Table 11.1 used for Example 11.1\n",
        "\n",
        "# knowns\n",
        "Boi = 1.484 # RB/STB\n",
        "cf = 3E-6 # psi^-1\n",
        "pi = 3000 # psia\n",
        "pb = 1775 # psia\n",
        "Rsi = 845 # scf/STB\n",
        "cw = 3E-6 # psi^-1\n",
        "swi = .25\n",
        "temp = 150 # fahrenheit\n",
        "\n",
        "# production data\n",
        "p = np.array([3000, 2500, 1000])\n",
        "Np = np.array([0, 33000, 868505]) # STB\n",
        "Rp = np.array([0, 845, 1447]) # cumulative produced-gas/oil ratio, scf/STB\n",
        "Bo = np.array([1.484, 1.490, np.nan]) # RB/STB\n",
        "z = np.array([np.nan, np.nan, 0.875])\n",
        "Rs = np.array([845, 845, 570]) # scf/STB\n",
        "\n",
        "# initial oil in place calculated from Example 11.1\n",
        "Nfoi = 5063852 # STB\n",
        "\n",
        "status = []\n",
        "for i in range(len(p)):\n",
        "  if p[i] >= pb:\n",
        "    _ = 'above bubble'\n",
        "  if p[i] < pb:\n",
        "    _ = 'below bubble'\n",
        "  status.append(_)\n",
        "\n",
        "data = pd.DataFrame({'p': p, 'Np': Np, 'Rp': Rp, 'Bo': Bo, 'z': z, 'Rs': Rs, 'status': status})\n",
        "data"
      ],
      "execution_count": 12,
      "outputs": [
        {
          "output_type": "execute_result",
          "data": {
            "text/html": [
              "<div>\n",
              "<style scoped>\n",
              "    .dataframe tbody tr th:only-of-type {\n",
              "        vertical-align: middle;\n",
              "    }\n",
              "\n",
              "    .dataframe tbody tr th {\n",
              "        vertical-align: top;\n",
              "    }\n",
              "\n",
              "    .dataframe thead th {\n",
              "        text-align: right;\n",
              "    }\n",
              "</style>\n",
              "<table border=\"1\" class=\"dataframe\">\n",
              "  <thead>\n",
              "    <tr style=\"text-align: right;\">\n",
              "      <th></th>\n",
              "      <th>p</th>\n",
              "      <th>Np</th>\n",
              "      <th>Rp</th>\n",
              "      <th>Bo</th>\n",
              "      <th>z</th>\n",
              "      <th>Rs</th>\n",
              "      <th>status</th>\n",
              "    </tr>\n",
              "  </thead>\n",
              "  <tbody>\n",
              "    <tr>\n",
              "      <th>0</th>\n",
              "      <td>3000</td>\n",
              "      <td>0</td>\n",
              "      <td>0</td>\n",
              "      <td>1.484</td>\n",
              "      <td>NaN</td>\n",
              "      <td>845</td>\n",
              "      <td>above bubble</td>\n",
              "    </tr>\n",
              "    <tr>\n",
              "      <th>1</th>\n",
              "      <td>2500</td>\n",
              "      <td>33000</td>\n",
              "      <td>845</td>\n",
              "      <td>1.490</td>\n",
              "      <td>NaN</td>\n",
              "      <td>845</td>\n",
              "      <td>above bubble</td>\n",
              "    </tr>\n",
              "    <tr>\n",
              "      <th>2</th>\n",
              "      <td>1000</td>\n",
              "      <td>868505</td>\n",
              "      <td>1447</td>\n",
              "      <td>NaN</td>\n",
              "      <td>0.875</td>\n",
              "      <td>570</td>\n",
              "      <td>below bubble</td>\n",
              "    </tr>\n",
              "  </tbody>\n",
              "</table>\n",
              "</div>"
            ],
            "text/plain": [
              "      p      Np    Rp     Bo      z   Rs        status\n",
              "0  3000       0     0  1.484    NaN  845  above bubble\n",
              "1  2500   33000   845  1.490    NaN  845  above bubble\n",
              "2  1000  868505  1447    NaN  0.875  570  below bubble"
            ]
          },
          "metadata": {
            "tags": []
          },
          "execution_count": 12
        }
      ]
    },
    {
      "cell_type": "code",
      "metadata": {
        "id": "wKpiaZ1VuFm_",
        "colab_type": "code",
        "colab": {
          "base_uri": "https://localhost:8080/",
          "height": 134
        },
        "outputId": "df5c6bc1-7bde-4225-8673-63657a076528"
      },
      "source": [
        "\" Steps 1 to 6 \"\n",
        "\n",
        "# Step 1. Calculate total initial gas @ 3,000 psi\n",
        "Rsi = Rs[0]\n",
        "Gfoi = Nfoi * Rsi\n",
        "print('Initial total gas @ 3,000 psia:', Gfoi * 1E-9, 'Bscf')\n",
        "\n",
        "# Step 2. Calculate total remaining gas (dissolved + free-phase) @ 1,000 psi\n",
        "Gp = Np[-1] * Rp[-1]\n",
        "print('Produced gas until @ 1,000 psia:', Gp * 1E-9 , 'Bscf')\n",
        "Gr = Gfoi - Gp\n",
        "print('Remaining total gas @ 1,000 psia:', Gr * 1E-9, 'Bscf')\n",
        "\n",
        "# Step 3. Calculate remaining dissolved gas (only) @ 1,000 psi\n",
        "Gsr = (Nfoi - Np[-1]) * Rs[-1]\n",
        "print('Remaining dissolved gas @ 1,000 psia:', Gsr * 1E-9, 'Bscf')\n",
        "\n",
        "# Step 4. Calculate remaining free-phase gas (only) @ 1,000 psi\n",
        "Gf = Gr - Gsr\n",
        "print('Remaining free-phase gas @ 1,000 psia:', Gf * 1E-9, 'Bscf')\n",
        "\n",
        "# Step 5. Calculate Bg in unit res ft3/scf @ 1,000 psi\n",
        "import sys\n",
        "sys.path.append('/content/reservoir-engineering/Unit 2 Review of Rock and Fluid Properties/functions')\n",
        "\n",
        "from gasfvf import *\n",
        "Bg = gasfvf(z[-1], (temp + 460), p[-1])\n",
        "print('Gas FVF @ 1,000 psia:', Bg, 'res ft3/scf')\n",
        "\n",
        "# Step 6. Calculate reservoir volume of the free gas\n",
        "Vgf = Bg * Gf\n",
        "print('Reservoir volume of the remaining free-phase gas @ 1,000 psia:', Vgf, 'res ft3')"
      ],
      "execution_count": 13,
      "outputs": [
        {
          "output_type": "stream",
          "text": [
            "Initial total gas @ 3,000 psia: 4.27895494 Bscf\n",
            "Produced gas until @ 1,000 psia: 1.256726735 Bscf\n",
            "Remaining total gas @ 1,000 psia: 3.0222282050000002 Bscf\n",
            "Remaining dissolved gas @ 1,000 psia: 2.39134779 Bscf\n",
            "Remaining free-phase gas @ 1,000 psia: 0.630880415 Bscf\n",
            "Gas FVF @ 1,000 psia: 0.015094076375 res ft3/scf\n",
            "Reservoir volume of the remaining free-phase gas @ 1,000 psia: 9522557.167501695 res ft3\n"
          ],
          "name": "stdout"
        }
      ]
    },
    {
      "cell_type": "markdown",
      "metadata": {
        "id": "6gW4uYchzwPE",
        "colab_type": "text"
      },
      "source": [
        "Calculating $B_o$ by including the compressibilities, as $E_{fw}$"
      ]
    },
    {
      "cell_type": "code",
      "metadata": {
        "id": "GxJ30J8NGgLi",
        "colab_type": "code",
        "colab": {
          "base_uri": "https://localhost:8080/",
          "height": 84
        },
        "outputId": "7f5664f7-cb6e-41ec-88ad-83a79f5ef2f0"
      },
      "source": [
        "\" Steps 7 to 9 \"\n",
        "\n",
        "# Step 7. Calculate total reservoir gas-oil ratio @ 1,000 psi\n",
        "# remaining total gas divided by remaining oil in the reservoir @ 1,000 psi\n",
        "\n",
        "# remaining oil\n",
        "Nr = Nfoi - Np[-1]\n",
        "print('Remaining oil @ 1,000 psia:', Nr * 1E-6, 'MMSTB')\n",
        "\n",
        "Rt = Gr / Nr\n",
        "print('Total reservoir gas-oil ratio @ 1,000 psia:', Rt, 'scf/STB')\n",
        "\n",
        "# Step 8. Calculate total oil (oil + dissolved gas) FVF @ 1,000 psi\n",
        "Boi = Bo[0]\n",
        "\n",
        "# convert Bg from res ft3/scf to RB/scf\n",
        "Bg_conv = Bg * .178108\n",
        "\n",
        "Efw = ((cf + (cw * swi)) / (1 - swi)) * (pi - p[-1])\n",
        "Bto = ((Np[-1] * Bg_conv * (Rp[-1] - Rsi)) + (Nfoi * Boi * (1 - Efw))) / (Nfoi - Np[-1])\n",
        "print('Total oil FVF @ 1,000 psia:', Bto, 'RB/STB')\n",
        "\n",
        "# Step 9. Calculate oil (only oil) FVF @ 1,000 psi\n",
        "Bo_calculated = Bto - (Bg_conv * (Rsi - Rs[-1]))\n",
        "print('Oil FVF @ 1,000 psia (including compressibility):', Bo_calculated, 'RB/STB') "
      ],
      "execution_count": 14,
      "outputs": [
        {
          "output_type": "stream",
          "text": [
            "Remaining oil @ 1,000 psia: 4.195347 MMSTB\n",
            "Total reservoir gas-oil ratio @ 1,000 psia: 720.3762179862596 scf/STB\n",
            "Total oil FVF @ 1,000 psia: 2.1083355467252582 RB/STB\n",
            "Oil FVF @ 1,000 psia (including compressibility): 1.3690322141006708 RB/STB\n"
          ],
          "name": "stdout"
        }
      ]
    },
    {
      "cell_type": "markdown",
      "metadata": {
        "id": "1bz6aherz2_7",
        "colab_type": "text"
      },
      "source": [
        "Calculating $B_o$ by neglecting the compressibilities"
      ]
    },
    {
      "cell_type": "code",
      "metadata": {
        "id": "XpTJMLJEzu7I",
        "colab_type": "code",
        "colab": {
          "base_uri": "https://localhost:8080/",
          "height": 67
        },
        "outputId": "0b3f7499-c7fe-402c-a0c7-85e3c6358cdb"
      },
      "source": [
        "\" Steps 10 to 12 \"\n",
        "\n",
        "# Step 10. Calculate volume occupied by the initial oil\n",
        "Voi = Nfoi * Boi\n",
        "print('Volume occupied by the initial oil:', Voi, 'res bbl')\n",
        "\n",
        "# Step 11. Calculate volume occupied by the current oil\n",
        "Vo = Voi - (Vgf / 5.61458)\n",
        "print('Volume occupied by the current oil:', Vo, 'res bbl')\n",
        "\n",
        "# Step 12. Calculate oil (only oil) FVF @ 1,000 psi\n",
        "Bo_neglecting = Vo / Nr\n",
        "print('Oil FVF @ 1,000 psia (neglecting compressibility):', Bo_neglecting, 'RB/STB')"
      ],
      "execution_count": 15,
      "outputs": [
        {
          "output_type": "stream",
          "text": [
            "Volume occupied by the initial oil: 7514756.368 res bbl\n",
            "Volume occupied by the current oil: 5818715.494506044 res bbl\n",
            "Oil FVF @ 1,000 psia (neglecting compressibility): 1.3869449879845563 RB/STB\n"
          ],
          "name": "stdout"
        }
      ]
    },
    {
      "cell_type": "markdown",
      "metadata": {
        "id": "NEBjGdV0K0wZ",
        "colab_type": "text"
      },
      "source": [
        "## Volatile Undersaturated Oil"
      ]
    },
    {
      "cell_type": "markdown",
      "metadata": {
        "id": "pmKxtNJbKKj1",
        "colab_type": "text"
      },
      "source": [
        "### Example. Antioch Field (Volatile-Oil)"
      ]
    },
    {
      "cell_type": "markdown",
      "metadata": {
        "id": "jsyGU_YULCtL",
        "colab_type": "text"
      },
      "source": [
        "Task 1. Calculate OOIP using Plot 1: $F$ vs $Eo+(B_{oi} E_{fw})$\n",
        "\n",
        "Task 2. Analyze the presence of waterdrive using Plot 2: $\\frac{F}{Eo+(B_{oi} E_{fw})}$ vs $N_p$"
      ]
    },
    {
      "cell_type": "code",
      "metadata": {
        "id": "RSyZJWOcLBnO",
        "colab_type": "code",
        "colab": {
          "base_uri": "https://localhost:8080/",
          "height": 906
        },
        "outputId": "66096c2f-2779-46a8-cb97-d93ec2580a58"
      },
      "source": [
        "# knowns\n",
        "pi = 5070 # psia\n",
        "temp = 246 # fahrenheit\n",
        "pb = 4677 # psia\n",
        "Gfgi = 31.976 # Bscf\n",
        "Nfoi = 10.992 # MMSTB\n",
        "Rvi = 343 # STB/MMscf\n",
        "Rsi = 2909 # scf/STB\n",
        "Boi = 2.695 # RB/STB\n",
        "Bgi = .926 # RB/Mscf\n",
        "swi = .283\n",
        "poro = .13\n",
        "k = 174 # md\n",
        "area = 1568 # acres\n",
        "h = 24.4 # ft\n",
        "cf = 6.5E-6 # formation compressibility, psi^-1\n",
        "cw = 4.5E-6 # water compressibility, psi^-1\n",
        "\n",
        "# fluid properties and production data\n",
        "columns = ['p', 'Bo', 'Bg', 'Rs', 'Rv', 'Np', 'Gp']\n",
        "data = pd.read_csv('/content/reservoir-engineering/Unit 11 Undersaturated-Oil Reservoirs/data/Table 11.5, 11.6-Antioch Volatile-Oil Reservoir Fluid Properties and Production Data.csv', names=columns)\n",
        "data"
      ],
      "execution_count": 16,
      "outputs": [
        {
          "output_type": "execute_result",
          "data": {
            "text/html": [
              "<div>\n",
              "<style scoped>\n",
              "    .dataframe tbody tr th:only-of-type {\n",
              "        vertical-align: middle;\n",
              "    }\n",
              "\n",
              "    .dataframe tbody tr th {\n",
              "        vertical-align: top;\n",
              "    }\n",
              "\n",
              "    .dataframe thead th {\n",
              "        text-align: right;\n",
              "    }\n",
              "</style>\n",
              "<table border=\"1\" class=\"dataframe\">\n",
              "  <thead>\n",
              "    <tr style=\"text-align: right;\">\n",
              "      <th></th>\n",
              "      <th>p</th>\n",
              "      <th>Bo</th>\n",
              "      <th>Bg</th>\n",
              "      <th>Rs</th>\n",
              "      <th>Rv</th>\n",
              "      <th>Np</th>\n",
              "      <th>Gp</th>\n",
              "    </tr>\n",
              "  </thead>\n",
              "  <tbody>\n",
              "    <tr>\n",
              "      <th>0</th>\n",
              "      <td>5070.0</td>\n",
              "      <td>2.695</td>\n",
              "      <td>0.000926</td>\n",
              "      <td>2909.0</td>\n",
              "      <td>0.000343</td>\n",
              "      <td>0.0</td>\n",
              "      <td>0.0</td>\n",
              "    </tr>\n",
              "    <tr>\n",
              "      <th>1</th>\n",
              "      <td>4998.0</td>\n",
              "      <td>2.713</td>\n",
              "      <td>0.000932</td>\n",
              "      <td>2909.0</td>\n",
              "      <td>0.000343</td>\n",
              "      <td>150000.0</td>\n",
              "      <td>300000.0</td>\n",
              "    </tr>\n",
              "    <tr>\n",
              "      <th>2</th>\n",
              "      <td>4798.0</td>\n",
              "      <td>2.740</td>\n",
              "      <td>0.000942</td>\n",
              "      <td>2909.0</td>\n",
              "      <td>0.000343</td>\n",
              "      <td>175000.0</td>\n",
              "      <td>509000.0</td>\n",
              "    </tr>\n",
              "    <tr>\n",
              "      <th>3</th>\n",
              "      <td>4698.0</td>\n",
              "      <td>2.754</td>\n",
              "      <td>0.000947</td>\n",
              "      <td>2909.0</td>\n",
              "      <td>0.000343</td>\n",
              "      <td>225000.0</td>\n",
              "      <td>654000.0</td>\n",
              "    </tr>\n",
              "    <tr>\n",
              "      <th>4</th>\n",
              "      <td>4658.0</td>\n",
              "      <td>2.707</td>\n",
              "      <td>0.000830</td>\n",
              "      <td>2834.0</td>\n",
              "      <td>0.000116</td>\n",
              "      <td>230000.0</td>\n",
              "      <td>664000.0</td>\n",
              "    </tr>\n",
              "    <tr>\n",
              "      <th>5</th>\n",
              "      <td>4598.0</td>\n",
              "      <td>2.631</td>\n",
              "      <td>0.000835</td>\n",
              "      <td>2711.0</td>\n",
              "      <td>0.000111</td>\n",
              "      <td>250000.0</td>\n",
              "      <td>719000.0</td>\n",
              "    </tr>\n",
              "    <tr>\n",
              "      <th>6</th>\n",
              "      <td>4498.0</td>\n",
              "      <td>2.484</td>\n",
              "      <td>0.000844</td>\n",
              "      <td>2479.0</td>\n",
              "      <td>0.000109</td>\n",
              "      <td>NaN</td>\n",
              "      <td>NaN</td>\n",
              "    </tr>\n",
              "    <tr>\n",
              "      <th>7</th>\n",
              "      <td>4398.0</td>\n",
              "      <td>2.338</td>\n",
              "      <td>0.000853</td>\n",
              "      <td>2247.0</td>\n",
              "      <td>0.000106</td>\n",
              "      <td>385000.0</td>\n",
              "      <td>1090000.0</td>\n",
              "    </tr>\n",
              "    <tr>\n",
              "      <th>8</th>\n",
              "      <td>4298.0</td>\n",
              "      <td>2.271</td>\n",
              "      <td>0.000864</td>\n",
              "      <td>2133.0</td>\n",
              "      <td>0.000100</td>\n",
              "      <td>NaN</td>\n",
              "      <td>NaN</td>\n",
              "    </tr>\n",
              "    <tr>\n",
              "      <th>9</th>\n",
              "      <td>4198.0</td>\n",
              "      <td>2.203</td>\n",
              "      <td>0.000874</td>\n",
              "      <td>2019.0</td>\n",
              "      <td>0.000094</td>\n",
              "      <td>600000.0</td>\n",
              "      <td>1750000.0</td>\n",
              "    </tr>\n",
              "    <tr>\n",
              "      <th>10</th>\n",
              "      <td>4098.0</td>\n",
              "      <td>2.148</td>\n",
              "      <td>0.000888</td>\n",
              "      <td>1923.0</td>\n",
              "      <td>0.000089</td>\n",
              "      <td>NaN</td>\n",
              "      <td>NaN</td>\n",
              "    </tr>\n",
              "    <tr>\n",
              "      <th>11</th>\n",
              "      <td>3998.0</td>\n",
              "      <td>2.093</td>\n",
              "      <td>0.000901</td>\n",
              "      <td>1828.0</td>\n",
              "      <td>0.000084</td>\n",
              "      <td>850000.0</td>\n",
              "      <td>2610000.0</td>\n",
              "    </tr>\n",
              "    <tr>\n",
              "      <th>12</th>\n",
              "      <td>3798.0</td>\n",
              "      <td>1.991</td>\n",
              "      <td>0.000933</td>\n",
              "      <td>1651.0</td>\n",
              "      <td>0.000074</td>\n",
              "      <td>1110000.0</td>\n",
              "      <td>3660000.0</td>\n",
              "    </tr>\n",
              "    <tr>\n",
              "      <th>13</th>\n",
              "      <td>3598.0</td>\n",
              "      <td>1.905</td>\n",
              "      <td>0.000970</td>\n",
              "      <td>1500.0</td>\n",
              "      <td>0.000066</td>\n",
              "      <td>1260000.0</td>\n",
              "      <td>4530000.0</td>\n",
              "    </tr>\n",
              "    <tr>\n",
              "      <th>14</th>\n",
              "      <td>3398.0</td>\n",
              "      <td>1.828</td>\n",
              "      <td>0.001005</td>\n",
              "      <td>1364.0</td>\n",
              "      <td>0.000060</td>\n",
              "      <td>NaN</td>\n",
              "      <td>NaN</td>\n",
              "    </tr>\n",
              "    <tr>\n",
              "      <th>15</th>\n",
              "      <td>3198.0</td>\n",
              "      <td>1.758</td>\n",
              "      <td>0.001066</td>\n",
              "      <td>1237.0</td>\n",
              "      <td>0.000054</td>\n",
              "      <td>NaN</td>\n",
              "      <td>NaN</td>\n",
              "    </tr>\n",
              "    <tr>\n",
              "      <th>16</th>\n",
              "      <td>2998.0</td>\n",
              "      <td>1.686</td>\n",
              "      <td>0.001125</td>\n",
              "      <td>1111.0</td>\n",
              "      <td>0.000049</td>\n",
              "      <td>NaN</td>\n",
              "      <td>NaN</td>\n",
              "    </tr>\n",
              "    <tr>\n",
              "      <th>17</th>\n",
              "      <td>2798.0</td>\n",
              "      <td>1.632</td>\n",
              "      <td>0.001196</td>\n",
              "      <td>1013.0</td>\n",
              "      <td>0.000044</td>\n",
              "      <td>NaN</td>\n",
              "      <td>NaN</td>\n",
              "    </tr>\n",
              "    <tr>\n",
              "      <th>18</th>\n",
              "      <td>2598.0</td>\n",
              "      <td>1.580</td>\n",
              "      <td>0.001281</td>\n",
              "      <td>918.0</td>\n",
              "      <td>0.000039</td>\n",
              "      <td>NaN</td>\n",
              "      <td>NaN</td>\n",
              "    </tr>\n",
              "    <tr>\n",
              "      <th>19</th>\n",
              "      <td>2398.0</td>\n",
              "      <td>1.534</td>\n",
              "      <td>0.001380</td>\n",
              "      <td>833.0</td>\n",
              "      <td>0.000036</td>\n",
              "      <td>NaN</td>\n",
              "      <td>NaN</td>\n",
              "    </tr>\n",
              "    <tr>\n",
              "      <th>20</th>\n",
              "      <td>2198.0</td>\n",
              "      <td>1.490</td>\n",
              "      <td>0.001498</td>\n",
              "      <td>752.0</td>\n",
              "      <td>0.000033</td>\n",
              "      <td>NaN</td>\n",
              "      <td>NaN</td>\n",
              "    </tr>\n",
              "    <tr>\n",
              "      <th>21</th>\n",
              "      <td>1998.0</td>\n",
              "      <td>1.450</td>\n",
              "      <td>0.001642</td>\n",
              "      <td>677.0</td>\n",
              "      <td>0.000030</td>\n",
              "      <td>NaN</td>\n",
              "      <td>NaN</td>\n",
              "    </tr>\n",
              "    <tr>\n",
              "      <th>22</th>\n",
              "      <td>1798.0</td>\n",
              "      <td>1.413</td>\n",
              "      <td>0.001819</td>\n",
              "      <td>608.0</td>\n",
              "      <td>0.000028</td>\n",
              "      <td>NaN</td>\n",
              "      <td>NaN</td>\n",
              "    </tr>\n",
              "    <tr>\n",
              "      <th>23</th>\n",
              "      <td>1598.0</td>\n",
              "      <td>1.367</td>\n",
              "      <td>0.002035</td>\n",
              "      <td>524.0</td>\n",
              "      <td>0.000026</td>\n",
              "      <td>NaN</td>\n",
              "      <td>NaN</td>\n",
              "    </tr>\n",
              "    <tr>\n",
              "      <th>24</th>\n",
              "      <td>1398.0</td>\n",
              "      <td>1.333</td>\n",
              "      <td>0.002315</td>\n",
              "      <td>461.0</td>\n",
              "      <td>0.000025</td>\n",
              "      <td>NaN</td>\n",
              "      <td>NaN</td>\n",
              "    </tr>\n",
              "    <tr>\n",
              "      <th>25</th>\n",
              "      <td>1198.0</td>\n",
              "      <td>1.305</td>\n",
              "      <td>0.002689</td>\n",
              "      <td>406.0</td>\n",
              "      <td>0.000024</td>\n",
              "      <td>NaN</td>\n",
              "      <td>NaN</td>\n",
              "    </tr>\n",
              "    <tr>\n",
              "      <th>26</th>\n",
              "      <td>998.0</td>\n",
              "      <td>1.272</td>\n",
              "      <td>0.003190</td>\n",
              "      <td>344.0</td>\n",
              "      <td>0.000024</td>\n",
              "      <td>NaN</td>\n",
              "      <td>NaN</td>\n",
              "    </tr>\n",
              "    <tr>\n",
              "      <th>27</th>\n",
              "      <td>798.0</td>\n",
              "      <td>1.239</td>\n",
              "      <td>0.003911</td>\n",
              "      <td>283.0</td>\n",
              "      <td>0.000024</td>\n",
              "      <td>NaN</td>\n",
              "      <td>NaN</td>\n",
              "    </tr>\n",
              "    <tr>\n",
              "      <th>28</th>\n",
              "      <td>598.0</td>\n",
              "      <td>1.205</td>\n",
              "      <td>0.005034</td>\n",
              "      <td>212.0</td>\n",
              "      <td>0.000026</td>\n",
              "      <td>NaN</td>\n",
              "      <td>NaN</td>\n",
              "    </tr>\n",
              "  </tbody>\n",
              "</table>\n",
              "</div>"
            ],
            "text/plain": [
              "         p     Bo        Bg      Rs        Rv         Np         Gp\n",
              "0   5070.0  2.695  0.000926  2909.0  0.000343        0.0        0.0\n",
              "1   4998.0  2.713  0.000932  2909.0  0.000343   150000.0   300000.0\n",
              "2   4798.0  2.740  0.000942  2909.0  0.000343   175000.0   509000.0\n",
              "3   4698.0  2.754  0.000947  2909.0  0.000343   225000.0   654000.0\n",
              "4   4658.0  2.707  0.000830  2834.0  0.000116   230000.0   664000.0\n",
              "5   4598.0  2.631  0.000835  2711.0  0.000111   250000.0   719000.0\n",
              "6   4498.0  2.484  0.000844  2479.0  0.000109        NaN        NaN\n",
              "7   4398.0  2.338  0.000853  2247.0  0.000106   385000.0  1090000.0\n",
              "8   4298.0  2.271  0.000864  2133.0  0.000100        NaN        NaN\n",
              "9   4198.0  2.203  0.000874  2019.0  0.000094   600000.0  1750000.0\n",
              "10  4098.0  2.148  0.000888  1923.0  0.000089        NaN        NaN\n",
              "11  3998.0  2.093  0.000901  1828.0  0.000084   850000.0  2610000.0\n",
              "12  3798.0  1.991  0.000933  1651.0  0.000074  1110000.0  3660000.0\n",
              "13  3598.0  1.905  0.000970  1500.0  0.000066  1260000.0  4530000.0\n",
              "14  3398.0  1.828  0.001005  1364.0  0.000060        NaN        NaN\n",
              "15  3198.0  1.758  0.001066  1237.0  0.000054        NaN        NaN\n",
              "16  2998.0  1.686  0.001125  1111.0  0.000049        NaN        NaN\n",
              "17  2798.0  1.632  0.001196  1013.0  0.000044        NaN        NaN\n",
              "18  2598.0  1.580  0.001281   918.0  0.000039        NaN        NaN\n",
              "19  2398.0  1.534  0.001380   833.0  0.000036        NaN        NaN\n",
              "20  2198.0  1.490  0.001498   752.0  0.000033        NaN        NaN\n",
              "21  1998.0  1.450  0.001642   677.0  0.000030        NaN        NaN\n",
              "22  1798.0  1.413  0.001819   608.0  0.000028        NaN        NaN\n",
              "23  1598.0  1.367  0.002035   524.0  0.000026        NaN        NaN\n",
              "24  1398.0  1.333  0.002315   461.0  0.000025        NaN        NaN\n",
              "25  1198.0  1.305  0.002689   406.0  0.000024        NaN        NaN\n",
              "26   998.0  1.272  0.003190   344.0  0.000024        NaN        NaN\n",
              "27   798.0  1.239  0.003911   283.0  0.000024        NaN        NaN\n",
              "28   598.0  1.205  0.005034   212.0  0.000026        NaN        NaN"
            ]
          },
          "metadata": {
            "tags": []
          },
          "execution_count": 16
        }
      ]
    },
    {
      "cell_type": "code",
      "metadata": {
        "id": "7AYK8TtT7Fa3",
        "colab_type": "code",
        "colab": {
          "base_uri": "https://localhost:8080/",
          "height": 524
        },
        "outputId": "96b89106-05b7-4e37-a7ff-035a43349ea6"
      },
      "source": [
        "# data cleansing first to remove data with NaN (no data) values\n",
        "\n",
        "print(\"NaN values in which column:\")\n",
        "print(data.isnull().sum())\n",
        "\n",
        "# drop rows with missing values\n",
        "data.dropna(inplace=True)\n",
        "\n",
        "# after removal, the index will be not set from 0\n",
        "# re-index dataframe (in order, started from 0)\n",
        "data = data.reset_index(drop=True)\n",
        "\n",
        "p = data['p']\n",
        "Bo = data['Bo'] # RB/STB\n",
        "Bg = data['Bg'] # RB/scf\n",
        "Rs = data['Rs'] # scf/STB\n",
        "Rv = data['Rv'] # STB/scf\n",
        "Np = data['Np'] # STB\n",
        "Gp = data['Gp'] * 1E+3 # Mscf to scf\n",
        "\n",
        "# add status\n",
        "status = []\n",
        "for i in range(len(p)):\n",
        "  if p[i] >= pb:\n",
        "    _ = 'above bubble'\n",
        "  if p[i] < pb:\n",
        "    _ = 'below bubble'\n",
        "  status.append(_)\n",
        "\n",
        "data['status'] = status\n",
        "\n",
        "data"
      ],
      "execution_count": 17,
      "outputs": [
        {
          "output_type": "stream",
          "text": [
            "NaN values in which column:\n",
            "p      0\n",
            "Bo     0\n",
            "Bg     0\n",
            "Rs     0\n",
            "Rv     0\n",
            "Np    18\n",
            "Gp    18\n",
            "dtype: int64\n"
          ],
          "name": "stdout"
        },
        {
          "output_type": "execute_result",
          "data": {
            "text/html": [
              "<div>\n",
              "<style scoped>\n",
              "    .dataframe tbody tr th:only-of-type {\n",
              "        vertical-align: middle;\n",
              "    }\n",
              "\n",
              "    .dataframe tbody tr th {\n",
              "        vertical-align: top;\n",
              "    }\n",
              "\n",
              "    .dataframe thead th {\n",
              "        text-align: right;\n",
              "    }\n",
              "</style>\n",
              "<table border=\"1\" class=\"dataframe\">\n",
              "  <thead>\n",
              "    <tr style=\"text-align: right;\">\n",
              "      <th></th>\n",
              "      <th>p</th>\n",
              "      <th>Bo</th>\n",
              "      <th>Bg</th>\n",
              "      <th>Rs</th>\n",
              "      <th>Rv</th>\n",
              "      <th>Np</th>\n",
              "      <th>Gp</th>\n",
              "      <th>status</th>\n",
              "    </tr>\n",
              "  </thead>\n",
              "  <tbody>\n",
              "    <tr>\n",
              "      <th>0</th>\n",
              "      <td>5070.0</td>\n",
              "      <td>2.695</td>\n",
              "      <td>0.000926</td>\n",
              "      <td>2909.0</td>\n",
              "      <td>0.000343</td>\n",
              "      <td>0.0</td>\n",
              "      <td>0.0</td>\n",
              "      <td>above bubble</td>\n",
              "    </tr>\n",
              "    <tr>\n",
              "      <th>1</th>\n",
              "      <td>4998.0</td>\n",
              "      <td>2.713</td>\n",
              "      <td>0.000932</td>\n",
              "      <td>2909.0</td>\n",
              "      <td>0.000343</td>\n",
              "      <td>150000.0</td>\n",
              "      <td>300000.0</td>\n",
              "      <td>above bubble</td>\n",
              "    </tr>\n",
              "    <tr>\n",
              "      <th>2</th>\n",
              "      <td>4798.0</td>\n",
              "      <td>2.740</td>\n",
              "      <td>0.000942</td>\n",
              "      <td>2909.0</td>\n",
              "      <td>0.000343</td>\n",
              "      <td>175000.0</td>\n",
              "      <td>509000.0</td>\n",
              "      <td>above bubble</td>\n",
              "    </tr>\n",
              "    <tr>\n",
              "      <th>3</th>\n",
              "      <td>4698.0</td>\n",
              "      <td>2.754</td>\n",
              "      <td>0.000947</td>\n",
              "      <td>2909.0</td>\n",
              "      <td>0.000343</td>\n",
              "      <td>225000.0</td>\n",
              "      <td>654000.0</td>\n",
              "      <td>above bubble</td>\n",
              "    </tr>\n",
              "    <tr>\n",
              "      <th>4</th>\n",
              "      <td>4658.0</td>\n",
              "      <td>2.707</td>\n",
              "      <td>0.000830</td>\n",
              "      <td>2834.0</td>\n",
              "      <td>0.000116</td>\n",
              "      <td>230000.0</td>\n",
              "      <td>664000.0</td>\n",
              "      <td>below bubble</td>\n",
              "    </tr>\n",
              "    <tr>\n",
              "      <th>5</th>\n",
              "      <td>4598.0</td>\n",
              "      <td>2.631</td>\n",
              "      <td>0.000835</td>\n",
              "      <td>2711.0</td>\n",
              "      <td>0.000111</td>\n",
              "      <td>250000.0</td>\n",
              "      <td>719000.0</td>\n",
              "      <td>below bubble</td>\n",
              "    </tr>\n",
              "    <tr>\n",
              "      <th>6</th>\n",
              "      <td>4398.0</td>\n",
              "      <td>2.338</td>\n",
              "      <td>0.000853</td>\n",
              "      <td>2247.0</td>\n",
              "      <td>0.000106</td>\n",
              "      <td>385000.0</td>\n",
              "      <td>1090000.0</td>\n",
              "      <td>below bubble</td>\n",
              "    </tr>\n",
              "    <tr>\n",
              "      <th>7</th>\n",
              "      <td>4198.0</td>\n",
              "      <td>2.203</td>\n",
              "      <td>0.000874</td>\n",
              "      <td>2019.0</td>\n",
              "      <td>0.000094</td>\n",
              "      <td>600000.0</td>\n",
              "      <td>1750000.0</td>\n",
              "      <td>below bubble</td>\n",
              "    </tr>\n",
              "    <tr>\n",
              "      <th>8</th>\n",
              "      <td>3998.0</td>\n",
              "      <td>2.093</td>\n",
              "      <td>0.000901</td>\n",
              "      <td>1828.0</td>\n",
              "      <td>0.000084</td>\n",
              "      <td>850000.0</td>\n",
              "      <td>2610000.0</td>\n",
              "      <td>below bubble</td>\n",
              "    </tr>\n",
              "    <tr>\n",
              "      <th>9</th>\n",
              "      <td>3798.0</td>\n",
              "      <td>1.991</td>\n",
              "      <td>0.000933</td>\n",
              "      <td>1651.0</td>\n",
              "      <td>0.000074</td>\n",
              "      <td>1110000.0</td>\n",
              "      <td>3660000.0</td>\n",
              "      <td>below bubble</td>\n",
              "    </tr>\n",
              "    <tr>\n",
              "      <th>10</th>\n",
              "      <td>3598.0</td>\n",
              "      <td>1.905</td>\n",
              "      <td>0.000970</td>\n",
              "      <td>1500.0</td>\n",
              "      <td>0.000066</td>\n",
              "      <td>1260000.0</td>\n",
              "      <td>4530000.0</td>\n",
              "      <td>below bubble</td>\n",
              "    </tr>\n",
              "  </tbody>\n",
              "</table>\n",
              "</div>"
            ],
            "text/plain": [
              "         p     Bo        Bg  ...         Np         Gp        status\n",
              "0   5070.0  2.695  0.000926  ...        0.0        0.0  above bubble\n",
              "1   4998.0  2.713  0.000932  ...   150000.0   300000.0  above bubble\n",
              "2   4798.0  2.740  0.000942  ...   175000.0   509000.0  above bubble\n",
              "3   4698.0  2.754  0.000947  ...   225000.0   654000.0  above bubble\n",
              "4   4658.0  2.707  0.000830  ...   230000.0   664000.0  below bubble\n",
              "5   4598.0  2.631  0.000835  ...   250000.0   719000.0  below bubble\n",
              "6   4398.0  2.338  0.000853  ...   385000.0  1090000.0  below bubble\n",
              "7   4198.0  2.203  0.000874  ...   600000.0  1750000.0  below bubble\n",
              "8   3998.0  2.093  0.000901  ...   850000.0  2610000.0  below bubble\n",
              "9   3798.0  1.991  0.000933  ...  1110000.0  3660000.0  below bubble\n",
              "10  3598.0  1.905  0.000970  ...  1260000.0  4530000.0  below bubble\n",
              "\n",
              "[11 rows x 8 columns]"
            ]
          },
          "metadata": {
            "tags": []
          },
          "execution_count": 17
        }
      ]
    },
    {
      "cell_type": "code",
      "metadata": {
        "id": "gDxHpCsmSS_5",
        "colab_type": "code",
        "colab": {
          "base_uri": "https://localhost:8080/",
          "height": 373
        },
        "outputId": "138f666c-642b-40c0-8ff5-51c7d3106fee"
      },
      "source": [
        "# calculate total oil FVF (Bto)\n",
        "Bto = ((Bo * (1 - (Rv * Rsi))) + (Bg * (Rsi - Rs))) / (1 - (Rv * Rs))\n",
        "\n",
        "# calculate Eo+(Boi*Efw)\n",
        "Efw = ((cf + (cw * swi)) / (1 - swi)) * (pi - p)\n",
        "Eo = Bto - Boi\n",
        "Eo_Bti_Efw = Eo + Boi * Efw\n",
        "\n",
        "# F = (Np * (Bto - Rsi * Bg)) + (Gp * Bg)\n",
        "F = (Np * ((Bo - (Rs * Bg)) / (1 - (Rv * Rs)))) + (Gp * ((Bg - (Rv * Bo)) / (1 - (Rv * Rs))))\n",
        "\n",
        "N = F / Eo_Bti_Efw\n",
        "\n",
        "\n",
        "result = pd.DataFrame({'p': p, 'Bto': Bto, 'Eo+Boi*Efw': Eo_Bti_Efw, 'F': F, 'F/(Eo+Boi*Efw)': N})\n",
        "result"
      ],
      "execution_count": 18,
      "outputs": [
        {
          "output_type": "execute_result",
          "data": {
            "text/html": [
              "<div>\n",
              "<style scoped>\n",
              "    .dataframe tbody tr th:only-of-type {\n",
              "        vertical-align: middle;\n",
              "    }\n",
              "\n",
              "    .dataframe tbody tr th {\n",
              "        vertical-align: top;\n",
              "    }\n",
              "\n",
              "    .dataframe thead th {\n",
              "        text-align: right;\n",
              "    }\n",
              "</style>\n",
              "<table border=\"1\" class=\"dataframe\">\n",
              "  <thead>\n",
              "    <tr style=\"text-align: right;\">\n",
              "      <th></th>\n",
              "      <th>p</th>\n",
              "      <th>Bto</th>\n",
              "      <th>Eo+Boi*Efw</th>\n",
              "      <th>F</th>\n",
              "      <th>F/(Eo+Boi*Efw)</th>\n",
              "    </tr>\n",
              "  </thead>\n",
              "  <tbody>\n",
              "    <tr>\n",
              "      <th>0</th>\n",
              "      <td>5070.0</td>\n",
              "      <td>2.695000</td>\n",
              "      <td>0.000000</td>\n",
              "      <td>0.000000e+00</td>\n",
              "      <td>NaN</td>\n",
              "    </tr>\n",
              "    <tr>\n",
              "      <th>1</th>\n",
              "      <td>4998.0</td>\n",
              "      <td>2.713000</td>\n",
              "      <td>0.020104</td>\n",
              "      <td>3.181654e+05</td>\n",
              "      <td>1.582619e+07</td>\n",
              "    </tr>\n",
              "    <tr>\n",
              "      <th>2</th>\n",
              "      <td>4798.0</td>\n",
              "      <td>2.740000</td>\n",
              "      <td>0.052947</td>\n",
              "      <td>4.794261e+05</td>\n",
              "      <td>9.054762e+06</td>\n",
              "    </tr>\n",
              "    <tr>\n",
              "      <th>3</th>\n",
              "      <td>4698.0</td>\n",
              "      <td>2.754000</td>\n",
              "      <td>0.069869</td>\n",
              "      <td>6.190859e+05</td>\n",
              "      <td>8.860635e+06</td>\n",
              "    </tr>\n",
              "    <tr>\n",
              "      <th>4</th>\n",
              "      <td>4658.0</td>\n",
              "      <td>2.764652</td>\n",
              "      <td>0.081690</td>\n",
              "      <td>6.319726e+05</td>\n",
              "      <td>7.736254e+06</td>\n",
              "    </tr>\n",
              "    <tr>\n",
              "      <th>5</th>\n",
              "      <td>4598.0</td>\n",
              "      <td>2.784782</td>\n",
              "      <td>0.103573</td>\n",
              "      <td>6.897880e+05</td>\n",
              "      <td>6.659905e+06</td>\n",
              "    </tr>\n",
              "    <tr>\n",
              "      <th>6</th>\n",
              "      <td>4398.0</td>\n",
              "      <td>2.863879</td>\n",
              "      <td>0.188513</td>\n",
              "      <td>1.078790e+06</td>\n",
              "      <td>5.722614e+06</td>\n",
              "    </tr>\n",
              "    <tr>\n",
              "      <th>7</th>\n",
              "      <td>4198.0</td>\n",
              "      <td>2.935593</td>\n",
              "      <td>0.266071</td>\n",
              "      <td>1.765142e+06</td>\n",
              "      <td>6.634094e+06</td>\n",
              "    </tr>\n",
              "    <tr>\n",
              "      <th>8</th>\n",
              "      <td>3998.0</td>\n",
              "      <td>3.019139</td>\n",
              "      <td>0.355461</td>\n",
              "      <td>2.683941e+06</td>\n",
              "      <td>7.550598e+06</td>\n",
              "    </tr>\n",
              "    <tr>\n",
              "      <th>9</th>\n",
              "      <td>3798.0</td>\n",
              "      <td>3.116927</td>\n",
              "      <td>0.459093</td>\n",
              "      <td>3.845548e+06</td>\n",
              "      <td>8.376411e+06</td>\n",
              "    </tr>\n",
              "    <tr>\n",
              "      <th>10</th>\n",
              "      <td>3598.0</td>\n",
              "      <td>3.225285</td>\n",
              "      <td>0.573294</td>\n",
              "      <td>4.874077e+06</td>\n",
              "      <td>8.501879e+06</td>\n",
              "    </tr>\n",
              "  </tbody>\n",
              "</table>\n",
              "</div>"
            ],
            "text/plain": [
              "         p       Bto  Eo+Boi*Efw             F  F/(Eo+Boi*Efw)\n",
              "0   5070.0  2.695000    0.000000  0.000000e+00             NaN\n",
              "1   4998.0  2.713000    0.020104  3.181654e+05    1.582619e+07\n",
              "2   4798.0  2.740000    0.052947  4.794261e+05    9.054762e+06\n",
              "3   4698.0  2.754000    0.069869  6.190859e+05    8.860635e+06\n",
              "4   4658.0  2.764652    0.081690  6.319726e+05    7.736254e+06\n",
              "5   4598.0  2.784782    0.103573  6.897880e+05    6.659905e+06\n",
              "6   4398.0  2.863879    0.188513  1.078790e+06    5.722614e+06\n",
              "7   4198.0  2.935593    0.266071  1.765142e+06    6.634094e+06\n",
              "8   3998.0  3.019139    0.355461  2.683941e+06    7.550598e+06\n",
              "9   3798.0  3.116927    0.459093  3.845548e+06    8.376411e+06\n",
              "10  3598.0  3.225285    0.573294  4.874077e+06    8.501879e+06"
            ]
          },
          "metadata": {
            "tags": []
          },
          "execution_count": 18
        }
      ]
    },
    {
      "cell_type": "code",
      "metadata": {
        "id": "VfsttAP11AIX",
        "colab_type": "code",
        "colab": {
          "base_uri": "https://localhost:8080/",
          "height": 312
        },
        "outputId": "cce50e6f-d8ba-454a-ed26-b7c87884b7a1"
      },
      "source": [
        "# plot 11.1 and regression to calculate OOIP\n",
        "\n",
        "def linear(x, a):\n",
        "  # a: slope\n",
        "  y = a * x \n",
        "  return(y)\n",
        "\n",
        "popt, pcov = curve_fit(linear, Eo_Bti_Efw[1:], F[1:])\n",
        "print('OOIP using Plot 11.1 material balance:', popt[0] / 1E+6, 'MMSTB')\n",
        "\n",
        "y = Eo_Bti_Efw * popt[0]\n",
        "\n",
        "plt.plot(Eo_Bti_Efw, F, '.')\n",
        "plt.plot(Eo_Bti_Efw, y)\n",
        "plt.title('Plot 11.1: F vs Eo+(Bti* Efw)')\n",
        "plt.xlim(xmin=0); plt.ylim(ymin=0)\n",
        "plt.xlabel('Eo+(Bti*Efw) (RB/STB)'); plt.ylabel('F (res bbl)')\n",
        "plt.show()"
      ],
      "execution_count": 19,
      "outputs": [
        {
          "output_type": "stream",
          "text": [
            "OOIP using Plot 11.1 material balance: 8.005087371256204 MMSTB\n"
          ],
          "name": "stdout"
        },
        {
          "output_type": "display_data",
          "data": {
            "image/png": "[encoded data removed]",
            "text/plain": [
              "<Figure size 432x288 with 1 Axes>"
            ]
          },
          "metadata": {
            "tags": [],
            "needs_background": "light"
          }
        }
      ]
    },
    {
      "cell_type": "code",
      "metadata": {
        "id": "RfeJb2HR2Pgh",
        "colab_type": "code",
        "colab": {
          "base_uri": "https://localhost:8080/",
          "height": 312
        },
        "outputId": "142fffd7-f530-4e17-9f91-740c38c3c93a"
      },
      "source": [
        "# plot 11.2 and regression to calculate OOIP\n",
        "\n",
        "def linear(x, a, b):\n",
        "  # a: slope\n",
        "  # b: intercept\n",
        "  y = a * x + b\n",
        "  return(y)\n",
        "\n",
        "popt, pcov = curve_fit(linear, Np[1:], N[1:])\n",
        "print('OOIP using Plot 11.2 material balance:', popt[1] / 1E+6, 'MMSTB')\n",
        "\n",
        "y = Np * popt[0] + popt[1]\n",
        "\n",
        "plt.plot(Np, N, '.')\n",
        "plt.plot(Np, y)\n",
        "plt.title('Plot 11.2: F/(Eo+(Bti* Efw)) vs Np')\n",
        "plt.xlim(xmin=0); plt.ylim(ymin=0)\n",
        "plt.xlabel('Np (STB)'); plt.ylabel('N (STB)')\n",
        "plt.show()"
      ],
      "execution_count": 20,
      "outputs": [
        {
          "output_type": "stream",
          "text": [
            "OOIP using Plot 11.2 material balance: 9.33081152981258 MMSTB\n"
          ],
          "name": "stdout"
        },
        {
          "output_type": "display_data",
          "data": {
            "image/png": "[encoded data removed]",
            "text/plain": [
              "<Figure size 432x288 with 1 Axes>"
            ]
          },
          "metadata": {
            "tags": [],
            "needs_background": "light"
          }
        }
      ]
    },
    {
      "cell_type": "markdown",
      "metadata": {
        "id": "L88OddM2FDLO",
        "colab_type": "text"
      },
      "source": [
        "## Waterdrive Undersaturated Oil Reservoirs"
      ]
    },
    {
      "cell_type": "markdown",
      "metadata": {
        "id": "ZgUGrIt0FHfZ",
        "colab_type": "text"
      },
      "source": [
        "### Example. Eocene Wilcox Reservoir"
      ]
    },
    {
      "cell_type": "code",
      "metadata": {
        "id": "wCFuTzJ7FGUD",
        "colab_type": "code",
        "colab": {
          "base_uri": "https://localhost:8080/",
          "height": 343
        },
        "outputId": "86860b73-0f8d-43d4-c75c-941dd61107db"
      },
      "source": [
        "# knowns\n",
        "pi = 3793 # psia\n",
        "pb = 3690 # psia\n",
        "Gfgi = 23 # Bscf\n",
        "Nfoi = 25.6 # MMSTB\n",
        "Rsi = 900 # scf/STB\n",
        "Boi = 1.54 # RB/STB\n",
        "Bgi = .0045716 # res ft3/scf\n",
        "swi = .15\n",
        "poro = .209\n",
        "k = 275 # md\n",
        "area = 1830 # acres\n",
        "h = 26 # ft\n",
        "\n",
        "# conversion\n",
        "Nfoi = Nfoi * 1E+6 # MMSTB to STB\n",
        "Gfgi = Gfgi * 1E+9 # Bscf to scf\n",
        "Bgi = Bgi * .178108 # convert res ft3/scf to RB/scf\n",
        "\n",
        "# compressibility not known, assume same to Antioch Field (previous Example)\n",
        "# Efw can be seen in the result Table 11.9, from which we can calculate the \n",
        "# ((cf + (cw * swi)) / (1 - swi)) term by dividing Efw by (pi-p)\n",
        "# this term will next be multiplied with (pi-p) for other pressure data\n",
        "Efw_known = .0000315\n",
        "pi_min_p_known = pi - 3786\n",
        "compressibility_constant = Efw_known / pi_min_p_known\n",
        "\n",
        "# data\n",
        "columns = ['date', 'p', 'Np', 'Rp', 'Wp', 'Bg', 'Bt']\n",
        "data = pd.read_csv('/content/reservoir-engineering/Unit 11 Undersaturated-Oil Reservoirs/data/Table 11.8-Wilcox Reservoir Properties and Production Data.csv', names=columns)\n",
        "\n",
        "\"Converting to Panda datetime\"\n",
        "# time data in format: 01/01/1942\n",
        "data['date'] =  pd.to_datetime(data['date'], format='%d/%m/%Y') # format check web: https://strftime.org/\n",
        "\n",
        "# add Gp and Rv as zeros\n",
        "p = data['p']\n",
        "Gp = np.zeros(len(p))\n",
        "Rv = np.zeros(len(p)) # the oil reservoir is non-volatile\n",
        "data['Gp'] = Gp\n",
        "data['Rv'] = Rv\n",
        "\n",
        "# add status\n",
        "status = []\n",
        "for i in range(len(p)):\n",
        "  if p[i] >= pb:\n",
        "    _ = 'above bubble'\n",
        "  if p[i] < pb:\n",
        "    _ = 'below bubble'\n",
        "  status.append(_)\n",
        "\n",
        "data['status'] = status\n",
        "\n",
        "data.head(10) # already converted to YYYY-MM-DD"
      ],
      "execution_count": 21,
      "outputs": [
        {
          "output_type": "execute_result",
          "data": {
            "text/html": [
              "<div>\n",
              "<style scoped>\n",
              "    .dataframe tbody tr th:only-of-type {\n",
              "        vertical-align: middle;\n",
              "    }\n",
              "\n",
              "    .dataframe tbody tr th {\n",
              "        vertical-align: top;\n",
              "    }\n",
              "\n",
              "    .dataframe thead th {\n",
              "        text-align: right;\n",
              "    }\n",
              "</style>\n",
              "<table border=\"1\" class=\"dataframe\">\n",
              "  <thead>\n",
              "    <tr style=\"text-align: right;\">\n",
              "      <th></th>\n",
              "      <th>date</th>\n",
              "      <th>p</th>\n",
              "      <th>Np</th>\n",
              "      <th>Rp</th>\n",
              "      <th>Wp</th>\n",
              "      <th>Bg</th>\n",
              "      <th>Bt</th>\n",
              "      <th>Gp</th>\n",
              "      <th>Rv</th>\n",
              "      <th>status</th>\n",
              "    </tr>\n",
              "  </thead>\n",
              "  <tbody>\n",
              "    <tr>\n",
              "      <th>0</th>\n",
              "      <td>1942-01-01</td>\n",
              "      <td>3786</td>\n",
              "      <td>13549</td>\n",
              "      <td>900</td>\n",
              "      <td>0</td>\n",
              "      <td>0.004693</td>\n",
              "      <td>1.540</td>\n",
              "      <td>0.0</td>\n",
              "      <td>0.0</td>\n",
              "      <td>above bubble</td>\n",
              "    </tr>\n",
              "    <tr>\n",
              "      <th>1</th>\n",
              "      <td>1942-01-01</td>\n",
              "      <td>3768</td>\n",
              "      <td>49005</td>\n",
              "      <td>900</td>\n",
              "      <td>370</td>\n",
              "      <td>0.004715</td>\n",
              "      <td>1.541</td>\n",
              "      <td>0.0</td>\n",
              "      <td>0.0</td>\n",
              "      <td>above bubble</td>\n",
              "    </tr>\n",
              "    <tr>\n",
              "      <th>2</th>\n",
              "      <td>1942-01-01</td>\n",
              "      <td>3739</td>\n",
              "      <td>99774</td>\n",
              "      <td>900</td>\n",
              "      <td>1030</td>\n",
              "      <td>0.004744</td>\n",
              "      <td>1.542</td>\n",
              "      <td>0.0</td>\n",
              "      <td>0.0</td>\n",
              "      <td>above bubble</td>\n",
              "    </tr>\n",
              "    <tr>\n",
              "      <th>3</th>\n",
              "      <td>1942-01-01</td>\n",
              "      <td>3699</td>\n",
              "      <td>171884</td>\n",
              "      <td>900</td>\n",
              "      <td>1750</td>\n",
              "      <td>0.004787</td>\n",
              "      <td>1.543</td>\n",
              "      <td>0.0</td>\n",
              "      <td>0.0</td>\n",
              "      <td>above bubble</td>\n",
              "    </tr>\n",
              "    <tr>\n",
              "      <th>4</th>\n",
              "      <td>1943-01-01</td>\n",
              "      <td>3657</td>\n",
              "      <td>324843</td>\n",
              "      <td>900</td>\n",
              "      <td>2834</td>\n",
              "      <td>0.004833</td>\n",
              "      <td>1.547</td>\n",
              "      <td>0.0</td>\n",
              "      <td>0.0</td>\n",
              "      <td>below bubble</td>\n",
              "    </tr>\n",
              "    <tr>\n",
              "      <th>5</th>\n",
              "      <td>1943-01-01</td>\n",
              "      <td>3613</td>\n",
              "      <td>528068</td>\n",
              "      <td>919</td>\n",
              "      <td>4840</td>\n",
              "      <td>0.004882</td>\n",
              "      <td>1.553</td>\n",
              "      <td>0.0</td>\n",
              "      <td>0.0</td>\n",
              "      <td>below bubble</td>\n",
              "    </tr>\n",
              "    <tr>\n",
              "      <th>6</th>\n",
              "      <td>1943-01-02</td>\n",
              "      <td>3558</td>\n",
              "      <td>788009</td>\n",
              "      <td>914</td>\n",
              "      <td>7749</td>\n",
              "      <td>0.004946</td>\n",
              "      <td>1.561</td>\n",
              "      <td>0.0</td>\n",
              "      <td>0.0</td>\n",
              "      <td>below bubble</td>\n",
              "    </tr>\n",
              "    <tr>\n",
              "      <th>7</th>\n",
              "      <td>1943-01-03</td>\n",
              "      <td>3511</td>\n",
              "      <td>1066911</td>\n",
              "      <td>910</td>\n",
              "      <td>13895</td>\n",
              "      <td>0.005002</td>\n",
              "      <td>1.567</td>\n",
              "      <td>0.0</td>\n",
              "      <td>0.0</td>\n",
              "      <td>below bubble</td>\n",
              "    </tr>\n",
              "    <tr>\n",
              "      <th>8</th>\n",
              "      <td>1944-01-01</td>\n",
              "      <td>3476</td>\n",
              "      <td>1339902</td>\n",
              "      <td>911</td>\n",
              "      <td>24808</td>\n",
              "      <td>0.005046</td>\n",
              "      <td>1.573</td>\n",
              "      <td>0.0</td>\n",
              "      <td>0.0</td>\n",
              "      <td>below bubble</td>\n",
              "    </tr>\n",
              "    <tr>\n",
              "      <th>9</th>\n",
              "      <td>1944-01-01</td>\n",
              "      <td>3414</td>\n",
              "      <td>1615461</td>\n",
              "      <td>917</td>\n",
              "      <td>37653</td>\n",
              "      <td>0.005086</td>\n",
              "      <td>1.582</td>\n",
              "      <td>0.0</td>\n",
              "      <td>0.0</td>\n",
              "      <td>below bubble</td>\n",
              "    </tr>\n",
              "  </tbody>\n",
              "</table>\n",
              "</div>"
            ],
            "text/plain": [
              "        date     p       Np   Rp  ...     Bt   Gp   Rv        status\n",
              "0 1942-01-01  3786    13549  900  ...  1.540  0.0  0.0  above bubble\n",
              "1 1942-01-01  3768    49005  900  ...  1.541  0.0  0.0  above bubble\n",
              "2 1942-01-01  3739    99774  900  ...  1.542  0.0  0.0  above bubble\n",
              "3 1942-01-01  3699   171884  900  ...  1.543  0.0  0.0  above bubble\n",
              "4 1943-01-01  3657   324843  900  ...  1.547  0.0  0.0  below bubble\n",
              "5 1943-01-01  3613   528068  919  ...  1.553  0.0  0.0  below bubble\n",
              "6 1943-01-02  3558   788009  914  ...  1.561  0.0  0.0  below bubble\n",
              "7 1943-01-03  3511  1066911  910  ...  1.567  0.0  0.0  below bubble\n",
              "8 1944-01-01  3476  1339902  911  ...  1.573  0.0  0.0  below bubble\n",
              "9 1944-01-01  3414  1615461  917  ...  1.582  0.0  0.0  below bubble\n",
              "\n",
              "[10 rows x 10 columns]"
            ]
          },
          "metadata": {
            "tags": []
          },
          "execution_count": 21
        }
      ]
    },
    {
      "cell_type": "markdown",
      "metadata": {
        "id": "Tt23W1QEWiYw",
        "colab_type": "text"
      },
      "source": [
        "Reservoir is non-volatile, because $R_v=0$. \n",
        "\n",
        "There is no data on $R_s$, but $B_{to}$ can be calculated through **Eq 11.15** if oil in place $N_{foi}$ is known. In this Example, yes, $N_{foi}$ is known (from volumetrics).\n",
        "\n",
        "$$B_{to}=\\frac{N_pB_g(R_p-R_{si})+N_{foi}B_{oi}(1-E_{fw})}{N_{foi}-N_p}$$"
      ]
    },
    {
      "cell_type": "code",
      "metadata": {
        "id": "ujkzhe2oeiq4",
        "colab_type": "code",
        "colab": {
          "base_uri": "https://localhost:8080/",
          "height": 343
        },
        "outputId": "391accbf-9525-4b83-c7c4-3bd12048140d"
      },
      "source": [
        "# calculate Efw\n",
        "Efw = compressibility_constant * (pi - p)\n",
        "\n",
        "# calculate Bto\n",
        "Np = data['Np'].values\n",
        "Bg = data['Bg'].values # res ft3/scf\n",
        "Bg = Bg * .178108 # convert res ft3/scf to RB/scf\n",
        "Rp = data['Rp'].values\n",
        "\n",
        "Bto = ((Np * Bg * (Rp - Rsi)) + (Nfoi * Boi * (1 - Efw))) / (Nfoi - Np)\n",
        "\n",
        "# calculate Eo\n",
        "Eo = Bto - Boi\n",
        "\n",
        "Eo_Boi_Efw = Eo + Boi * Efw\n",
        "F = (Np * (Bto - Rsi * Bg)) + (Gp * Bg)\n",
        "N = F / Eo_Boi_Efw\n",
        "\n",
        "result = pd.DataFrame({'p': p, 'Eo': Eo, 'Efw': Efw, '(Eo+(Boi*Efw))': Eo_Boi_Efw, 'F': F, 'F/(Eo+(Boi*Efw))': N})\n",
        "result.head(10)"
      ],
      "execution_count": 28,
      "outputs": [
        {
          "output_type": "execute_result",
          "data": {
            "text/html": [
              "<div>\n",
              "<style scoped>\n",
              "    .dataframe tbody tr th:only-of-type {\n",
              "        vertical-align: middle;\n",
              "    }\n",
              "\n",
              "    .dataframe tbody tr th {\n",
              "        vertical-align: top;\n",
              "    }\n",
              "\n",
              "    .dataframe thead th {\n",
              "        text-align: right;\n",
              "    }\n",
              "</style>\n",
              "<table border=\"1\" class=\"dataframe\">\n",
              "  <thead>\n",
              "    <tr style=\"text-align: right;\">\n",
              "      <th></th>\n",
              "      <th>p</th>\n",
              "      <th>Eo</th>\n",
              "      <th>Efw</th>\n",
              "      <th>(Eo+(Boi*Efw))</th>\n",
              "      <th>F</th>\n",
              "      <th>F/(Eo+(Boi*Efw))</th>\n",
              "    </tr>\n",
              "  </thead>\n",
              "  <tbody>\n",
              "    <tr>\n",
              "      <th>0</th>\n",
              "      <td>3786</td>\n",
              "      <td>0.000767</td>\n",
              "      <td>0.000031</td>\n",
              "      <td>0.000815</td>\n",
              "      <td>1.068249e+04</td>\n",
              "      <td>1.309991e+07</td>\n",
              "    </tr>\n",
              "    <tr>\n",
              "      <th>1</th>\n",
              "      <td>3768</td>\n",
              "      <td>0.002780</td>\n",
              "      <td>0.000112</td>\n",
              "      <td>0.002953</td>\n",
              "      <td>3.856668e+04</td>\n",
              "      <td>1.305894e+07</td>\n",
              "    </tr>\n",
              "    <tr>\n",
              "      <th>2</th>\n",
              "      <td>3739</td>\n",
              "      <td>0.005650</td>\n",
              "      <td>0.000243</td>\n",
              "      <td>0.006024</td>\n",
              "      <td>7.834167e+04</td>\n",
              "      <td>1.300482e+07</td>\n",
              "    </tr>\n",
              "    <tr>\n",
              "      <th>3</th>\n",
              "      <td>3699</td>\n",
              "      <td>0.009754</td>\n",
              "      <td>0.000423</td>\n",
              "      <td>0.010405</td>\n",
              "      <td>1.344944e+05</td>\n",
              "      <td>1.292546e+07</td>\n",
              "    </tr>\n",
              "    <tr>\n",
              "      <th>4</th>\n",
              "      <td>3657</td>\n",
              "      <td>0.018838</td>\n",
              "      <td>0.000612</td>\n",
              "      <td>0.019780</td>\n",
              "      <td>2.547416e+05</td>\n",
              "      <td>1.287850e+07</td>\n",
              "    </tr>\n",
              "    <tr>\n",
              "      <th>5</th>\n",
              "      <td>3613</td>\n",
              "      <td>0.031510</td>\n",
              "      <td>0.000810</td>\n",
              "      <td>0.032757</td>\n",
              "      <td>4.166151e+05</td>\n",
              "      <td>1.271822e+07</td>\n",
              "    </tr>\n",
              "    <tr>\n",
              "      <th>6</th>\n",
              "      <td>3558</td>\n",
              "      <td>0.047621</td>\n",
              "      <td>0.001058</td>\n",
              "      <td>0.049249</td>\n",
              "      <td>6.263210e+05</td>\n",
              "      <td>1.271740e+07</td>\n",
              "    </tr>\n",
              "    <tr>\n",
              "      <th>7</th>\n",
              "      <td>3511</td>\n",
              "      <td>0.065321</td>\n",
              "      <td>0.001269</td>\n",
              "      <td>0.067275</td>\n",
              "      <td>8.572228e+05</td>\n",
              "      <td>1.274207e+07</td>\n",
              "    </tr>\n",
              "    <tr>\n",
              "      <th>8</th>\n",
              "      <td>3476</td>\n",
              "      <td>0.083283</td>\n",
              "      <td>0.001427</td>\n",
              "      <td>0.085480</td>\n",
              "      <td>1.091341e+06</td>\n",
              "      <td>1.276723e+07</td>\n",
              "    </tr>\n",
              "    <tr>\n",
              "      <th>9</th>\n",
              "      <td>3414</td>\n",
              "      <td>0.101959</td>\n",
              "      <td>0.001705</td>\n",
              "      <td>0.104586</td>\n",
              "      <td>1.335481e+06</td>\n",
              "      <td>1.276923e+07</td>\n",
              "    </tr>\n",
              "  </tbody>\n",
              "</table>\n",
              "</div>"
            ],
            "text/plain": [
              "      p        Eo       Efw  (Eo+(Boi*Efw))             F  F/(Eo+(Boi*Efw))\n",
              "0  3786  0.000767  0.000031        0.000815  1.068249e+04      1.309991e+07\n",
              "1  3768  0.002780  0.000112        0.002953  3.856668e+04      1.305894e+07\n",
              "2  3739  0.005650  0.000243        0.006024  7.834167e+04      1.300482e+07\n",
              "3  3699  0.009754  0.000423        0.010405  1.344944e+05      1.292546e+07\n",
              "4  3657  0.018838  0.000612        0.019780  2.547416e+05      1.287850e+07\n",
              "5  3613  0.031510  0.000810        0.032757  4.166151e+05      1.271822e+07\n",
              "6  3558  0.047621  0.001058        0.049249  6.263210e+05      1.271740e+07\n",
              "7  3511  0.065321  0.001269        0.067275  8.572228e+05      1.274207e+07\n",
              "8  3476  0.083283  0.001427        0.085480  1.091341e+06      1.276723e+07\n",
              "9  3414  0.101959  0.001705        0.104586  1.335481e+06      1.276923e+07"
            ]
          },
          "metadata": {
            "tags": []
          },
          "execution_count": 28
        }
      ]
    },
    {
      "cell_type": "markdown",
      "metadata": {
        "id": "9I4E3c-g-ml3",
        "colab_type": "text"
      },
      "source": [
        "Comment: Result of $B_{to}$, hence the $E_o$ are different from the book."
      ]
    },
    {
      "cell_type": "code",
      "metadata": {
        "id": "JjwskxO3-vN3",
        "colab_type": "code",
        "colab": {
          "base_uri": "https://localhost:8080/",
          "height": 293
        },
        "outputId": "dee4a8c8-6cac-43a4-8f52-6e204cc07d16"
      },
      "source": [
        "plt.plot(Eo_Boi_Efw, F, '.-')"
      ],
      "execution_count": 29,
      "outputs": [
        {
          "output_type": "execute_result",
          "data": {
            "text/plain": [
              "[<matplotlib.lines.Line2D at 0x7f80214be550>]"
            ]
          },
          "metadata": {
            "tags": []
          },
          "execution_count": 29
        },
        {
          "output_type": "display_data",
          "data": {
            "image/png": "[encoded data removed]",
            "text/plain": [
              "<Figure size 432x288 with 1 Axes>"
            ]
          },
          "metadata": {
            "tags": [],
            "needs_background": "light"
          }
        }
      ]
    },
    {
      "cell_type": "code",
      "metadata": {
        "id": "TjF5Wkvp_CP_",
        "colab_type": "code",
        "colab": {
          "base_uri": "https://localhost:8080/",
          "height": 306
        },
        "outputId": "c7cff0c0-9303-4005-91e5-b8ccf2a250fa"
      },
      "source": [
        "plt.plot(Np, N, '.-')"
      ],
      "execution_count": 30,
      "outputs": [
        {
          "output_type": "execute_result",
          "data": {
            "text/plain": [
              "[<matplotlib.lines.Line2D at 0x7f8021498438>]"
            ]
          },
          "metadata": {
            "tags": []
          },
          "execution_count": 30
        },
        {
          "output_type": "display_data",
          "data": {
            "image/png": "[encoded data removed]",
            "text/plain": [
              "<Figure size 432x288 with 1 Axes>"
            ]
          },
          "metadata": {
            "tags": [],
            "needs_background": "light"
          }
        }
      ]
    }
  ]
}