{
  "nbformat": 4,
  "nbformat_minor": 0,
  "metadata": {
    "colab": {
      "name": "10_problems.ipynb",
      "provenance": [],
      "collapsed_sections": [],
      "toc_visible": true,
      "authorship_tag": "ABX9TyMs1om9yGCiSzasbJr673VN",
      "include_colab_link": true
    },
    "kernelspec": {
      "name": "python3",
      "display_name": "Python 3"
    }
  },
  "cells": [
    {
      "cell_type": "markdown",
      "metadata": {
        "id": "view-in-github",
        "colab_type": "text"
      },
      "source": [
        "<a href=\"https://colab.research.google.com/github/yohanesnuwara/reservoir-engineering/blob/master/Unit%2010%20Gas-Condensate%20Reservoirs/notebook/10_problems.ipynb\" target=\"_parent\"><img src=\"https://colab.research.google.com/assets/colab-badge.svg\" alt=\"Open In Colab\"/></a>"
      ]
    },
    {
      "cell_type": "markdown",
      "metadata": {
        "id": "mG9Z8CrEY3NJ",
        "colab_type": "text"
      },
      "source": [
        "# **Unit 10. Gas-Condensate Reservoirs**"
      ]
    },
    {
      "cell_type": "code",
      "metadata": {
        "id": "UAU6DdJ_Yxvy",
        "colab_type": "code",
        "colab": {}
      },
      "source": [
        "import numpy as np\n",
        "import matplotlib.pyplot as plt\n",
        "import pandas as pd"
      ],
      "execution_count": null,
      "outputs": []
    },
    {
      "cell_type": "code",
      "metadata": {
        "id": "P3lN-ts0vY18",
        "colab_type": "code",
        "colab": {
          "base_uri": "https://localhost:8080/",
          "height": 134
        },
        "outputId": "0a140029-cb83-4bbd-db1e-5f730fb61eb7"
      },
      "source": [
        "!git clone https://github.com/yohanesnuwara/reservoir-engineering"
      ],
      "execution_count": null,
      "outputs": [
        {
          "output_type": "stream",
          "text": [
            "Cloning into 'reservoir-engineering'...\n",
            "remote: Enumerating objects: 71, done.\u001b[K\n",
            "remote: Counting objects: 100% (71/71), done.\u001b[K\n",
            "remote: Compressing objects: 100% (71/71), done.\u001b[K\n",
            "remote: Total 1216 (delta 29), reused 0 (delta 0), pack-reused 1145\u001b[K\n",
            "Receiving objects: 100% (1216/1216), 16.98 MiB | 22.81 MiB/s, done.\n",
            "Resolving deltas: 100% (550/550), done.\n"
          ],
          "name": "stdout"
        }
      ]
    },
    {
      "cell_type": "code",
      "metadata": {
        "id": "PBp3zrYeQ4BN",
        "colab_type": "code",
        "colab": {}
      },
      "source": [
        "import sys\n",
        "sys.path.append('/content/reservoir-engineering/Unit 10 Gas-Condensate Reservoirs/functions')\n",
        "from cvd_condensate import cvd_condensate"
      ],
      "execution_count": null,
      "outputs": []
    },
    {
      "cell_type": "code",
      "metadata": {
        "id": "75cl_WMURFny",
        "colab_type": "code",
        "colab": {
          "base_uri": "https://localhost:8080/",
          "height": 353
        },
        "outputId": "473a2e60-0e93-4d7c-8b75-248caa11560b"
      },
      "source": [
        "help(cvd_condensate)"
      ],
      "execution_count": null,
      "outputs": [
        {
          "output_type": "stream",
          "text": [
            "Help on function cvd_condensate in module cvd_condensate:\n",
            "\n",
            "cvd_condensate(z, z2, temp, p, Gp, Np, Vo)\n",
            "    Calculate volatile oil-gas ratio of condensate from Constant-Volume Depletion (CVD) Study\n",
            "    Walsh and Towler (1995)\n",
            "    \n",
            "    Inputs\n",
            "    z: measured gas-phase compressibility factor (array)\n",
            "    z2: measured two-phase compressibility factor (array)\n",
            "    p: measured pressure (array)\n",
            "    Gp: gas produced in the PVT cell, in Mscf\n",
            "    Np: condensate produced in the PVT cell, in STB\n",
            "    Vo: condensate volume in the PVT cell\n",
            "    \n",
            "    Outputs:\n",
            "    Bo: in RB/STB\n",
            "    Bg: in RB/scf\n",
            "    Rs: in scf/STB\n",
            "    Rv: in STB/scf\n",
            "\n"
          ],
          "name": "stdout"
        }
      ]
    },
    {
      "cell_type": "code",
      "metadata": {
        "id": "XO9lEXvzDVCL",
        "colab_type": "code",
        "colab": {}
      },
      "source": [
        "def condensate_belowdew(Rs, Rv, Rsi, Rvi, Bo, Bg, Np, Gp):\n",
        "    \"\"\"\n",
        "    Calculate the parameters for material balance plot of gas-condensate reservoirs\n",
        "    below dewpoint pressure\n",
        "\n",
        "    Input:\n",
        "    Rs: array\n",
        "    Rv: array\n",
        "    Rsi: initial Rs, float (NOTE: if data doesn't provide, calculate it with calculate_condensate_params function)\n",
        "    Rvi: initial Rv, float (from data Rv)\n",
        "    Bo: array\n",
        "    Bg: array\n",
        "    Np: array\n",
        "    Gp: array\n",
        "\n",
        "    Material balance plots:\n",
        "    * Plot 10.1: F vs Eg\n",
        "\n",
        "    Output:\n",
        "    F: array\n",
        "    Eg: array\n",
        "\n",
        "    \"\"\"\n",
        "    Btg = ((Bg * (1 - (Rs * Rvi))) + (Bo * (Rvi - Rv))) / (1 - (Rv * Rs)) # in RB/STB\n",
        "    Bto = ((Bo * (1 - (Rv * Rsi))) + (Bg * (Rsi - Rs))) / (1 - (Rv * Rs)) # in RB/scf\n",
        "\n",
        "    Gi = 0\n",
        "    F = (Np * ((Bo - (Rs * Bg)) / (1 - (Rv * Rs)))) + ((Gp - Gi) * ((Bg - (Rv * Bo)) / (1 - (Rv * Rs))))\n",
        "    Eg = Btg - Bg[0]\n",
        "    return(F, Eg)\n",
        "\n",
        "def condensate_abovedew(Bg, Bgi, Gp, Gpi):\n",
        "    \"\"\"\n",
        "    Calculate the parameters for material balance plot of gas-condensate reservoirs\n",
        "    above dewpoint pressure\n",
        "\n",
        "    Input:\n",
        "    Bg: array\n",
        "    Bgi: initial Bg, float\n",
        "    Gp: array\n",
        "    Gpi: initial Gp, float\n",
        "\n",
        "    Material balance plots:\n",
        "    * Plot 10.1: F vs Eg\n",
        "\n",
        "    Output:\n",
        "    F: array\n",
        "    Eg: array\n",
        "\n",
        "    \"\"\"\n",
        "    Eg = Bg - Bgi\n",
        "    F = Bg * (Gp - Gpi)\n",
        "    return(F, Eg)"
      ],
      "execution_count": null,
      "outputs": []
    },
    {
      "cell_type": "markdown",
      "metadata": {
        "id": "Ufgv_VZkvjfS",
        "colab_type": "text"
      },
      "source": [
        "## Problem 10.1\n",
        "\n",
        "Task 1. Determine OGIP and initial condensate in place\n",
        "\n",
        "Task 2. Determine recovery at dewpoint\n",
        "\n",
        "Task 3. Determine recovery at each pressure\n",
        "\n",
        "Task 4. Calculate Bg, Bo, Rs, Rv"
      ]
    },
    {
      "cell_type": "markdown",
      "metadata": {
        "id": "cXmDZZ7CTJSY",
        "colab_type": "text"
      },
      "source": [
        "Note: Task 1 (calculate initial condensate in place) should be calculated after knowing the $R_{vi}$. So, I do Task 4 (calculate Rv) first to answer that."
      ]
    },
    {
      "cell_type": "code",
      "metadata": {
        "id": "Gq_-3n0RvfWV",
        "colab_type": "code",
        "colab": {
          "base_uri": "https://localhost:8080/",
          "height": 402
        },
        "outputId": "b8c96f63-301e-4e57-a32f-32e2f0972f31"
      },
      "source": [
        "# knowns\n",
        "\n",
        "Bg = 0.6058 # gas FVF @ 5450 psia, RB/Mscf\n",
        "area = 2200 # acre\n",
        "h = 35 # ft\n",
        "poro = 0.25\n",
        "swi = 0.2\n",
        "pi = 5800 # initial pressure, psia\n",
        "zi = 1.065 # initial gas compressibility factor\n",
        "\n",
        "# conversion\n",
        "area = area * 43560 # convert acre to ft2\n",
        "Bgi = Bg * (5.615 / 1E+03) # convert RB/Mscf to ft3/ft3\n",
        "\n",
        "columns = ['j', 'p', 'T', 'Gp', 'Np', 'z', 'z2', 'Vo']\n",
        "data = pd.read_csv('/content/reservoir-engineering/Unit 10 Gas-Condensate Reservoirs/data/Table 10.13-CVD Results for Problem 10.1.csv', names=columns)\n",
        "data"
      ],
      "execution_count": null,
      "outputs": [
        {
          "output_type": "execute_result",
          "data": {
            "text/html": [
              "<div>\n",
              "<style scoped>\n",
              "    .dataframe tbody tr th:only-of-type {\n",
              "        vertical-align: middle;\n",
              "    }\n",
              "\n",
              "    .dataframe tbody tr th {\n",
              "        vertical-align: top;\n",
              "    }\n",
              "\n",
              "    .dataframe thead th {\n",
              "        text-align: right;\n",
              "    }\n",
              "</style>\n",
              "<table border=\"1\" class=\"dataframe\">\n",
              "  <thead>\n",
              "    <tr style=\"text-align: right;\">\n",
              "      <th></th>\n",
              "      <th>j</th>\n",
              "      <th>p</th>\n",
              "      <th>T</th>\n",
              "      <th>Gp</th>\n",
              "      <th>Np</th>\n",
              "      <th>z</th>\n",
              "      <th>z2</th>\n",
              "      <th>Vo</th>\n",
              "    </tr>\n",
              "  </thead>\n",
              "  <tbody>\n",
              "    <tr>\n",
              "      <th>0</th>\n",
              "      <td>1</td>\n",
              "      <td>5450.0</td>\n",
              "      <td>215</td>\n",
              "      <td>0.00</td>\n",
              "      <td>0.00</td>\n",
              "      <td>1.0439</td>\n",
              "      <td>1.0439</td>\n",
              "      <td>0.0000</td>\n",
              "    </tr>\n",
              "    <tr>\n",
              "      <th>1</th>\n",
              "      <td>2</td>\n",
              "      <td>5300.0</td>\n",
              "      <td>215</td>\n",
              "      <td>11.51</td>\n",
              "      <td>1.82</td>\n",
              "      <td>1.0217</td>\n",
              "      <td>1.0269</td>\n",
              "      <td>0.0500</td>\n",
              "    </tr>\n",
              "    <tr>\n",
              "      <th>2</th>\n",
              "      <td>3</td>\n",
              "      <td>4800.0</td>\n",
              "      <td>215</td>\n",
              "      <td>61.64</td>\n",
              "      <td>7.53</td>\n",
              "      <td>0.9552</td>\n",
              "      <td>0.9779</td>\n",
              "      <td>0.1850</td>\n",
              "    </tr>\n",
              "    <tr>\n",
              "      <th>3</th>\n",
              "      <td>4</td>\n",
              "      <td>4300.0</td>\n",
              "      <td>215</td>\n",
              "      <td>119.02</td>\n",
              "      <td>12.64</td>\n",
              "      <td>0.9033</td>\n",
              "      <td>0.9311</td>\n",
              "      <td>0.2176</td>\n",
              "    </tr>\n",
              "    <tr>\n",
              "      <th>4</th>\n",
              "      <td>5</td>\n",
              "      <td>3800.0</td>\n",
              "      <td>215</td>\n",
              "      <td>190.70</td>\n",
              "      <td>17.31</td>\n",
              "      <td>0.8648</td>\n",
              "      <td>0.8927</td>\n",
              "      <td>0.2381</td>\n",
              "    </tr>\n",
              "    <tr>\n",
              "      <th>5</th>\n",
              "      <td>6</td>\n",
              "      <td>3300.0</td>\n",
              "      <td>215</td>\n",
              "      <td>272.80</td>\n",
              "      <td>21.28</td>\n",
              "      <td>0.8384</td>\n",
              "      <td>0.8590</td>\n",
              "      <td>0.2431</td>\n",
              "    </tr>\n",
              "    <tr>\n",
              "      <th>6</th>\n",
              "      <td>7</td>\n",
              "      <td>2800.0</td>\n",
              "      <td>215</td>\n",
              "      <td>366.85</td>\n",
              "      <td>24.57</td>\n",
              "      <td>0.8264</td>\n",
              "      <td>0.8320</td>\n",
              "      <td>0.2407</td>\n",
              "    </tr>\n",
              "    <tr>\n",
              "      <th>7</th>\n",
              "      <td>8</td>\n",
              "      <td>2300.0</td>\n",
              "      <td>215</td>\n",
              "      <td>469.94</td>\n",
              "      <td>27.15</td>\n",
              "      <td>0.8300</td>\n",
              "      <td>0.8093</td>\n",
              "      <td>0.2346</td>\n",
              "    </tr>\n",
              "    <tr>\n",
              "      <th>8</th>\n",
              "      <td>9</td>\n",
              "      <td>1800.0</td>\n",
              "      <td>215</td>\n",
              "      <td>579.24</td>\n",
              "      <td>29.22</td>\n",
              "      <td>0.8466</td>\n",
              "      <td>0.7868</td>\n",
              "      <td>0.2245</td>\n",
              "    </tr>\n",
              "    <tr>\n",
              "      <th>9</th>\n",
              "      <td>10</td>\n",
              "      <td>1300.0</td>\n",
              "      <td>215</td>\n",
              "      <td>690.53</td>\n",
              "      <td>30.89</td>\n",
              "      <td>0.8744</td>\n",
              "      <td>0.7531</td>\n",
              "      <td>0.2123</td>\n",
              "    </tr>\n",
              "    <tr>\n",
              "      <th>10</th>\n",
              "      <td>11</td>\n",
              "      <td>800.0</td>\n",
              "      <td>215</td>\n",
              "      <td>801.58</td>\n",
              "      <td>32.39</td>\n",
              "      <td>0.9127</td>\n",
              "      <td>0.6874</td>\n",
              "      <td>0.2003</td>\n",
              "    </tr>\n",
              "    <tr>\n",
              "      <th>11</th>\n",
              "      <td>12</td>\n",
              "      <td>0.0</td>\n",
              "      <td>215</td>\n",
              "      <td>1000.00</td>\n",
              "      <td>165.50</td>\n",
              "      <td>NaN</td>\n",
              "      <td>NaN</td>\n",
              "      <td>NaN</td>\n",
              "    </tr>\n",
              "  </tbody>\n",
              "</table>\n",
              "</div>"
            ],
            "text/plain": [
              "     j       p    T       Gp      Np       z      z2      Vo\n",
              "0    1  5450.0  215     0.00    0.00  1.0439  1.0439  0.0000\n",
              "1    2  5300.0  215    11.51    1.82  1.0217  1.0269  0.0500\n",
              "2    3  4800.0  215    61.64    7.53  0.9552  0.9779  0.1850\n",
              "3    4  4300.0  215   119.02   12.64  0.9033  0.9311  0.2176\n",
              "4    5  3800.0  215   190.70   17.31  0.8648  0.8927  0.2381\n",
              "5    6  3300.0  215   272.80   21.28  0.8384  0.8590  0.2431\n",
              "6    7  2800.0  215   366.85   24.57  0.8264  0.8320  0.2407\n",
              "7    8  2300.0  215   469.94   27.15  0.8300  0.8093  0.2346\n",
              "8    9  1800.0  215   579.24   29.22  0.8466  0.7868  0.2245\n",
              "9   10  1300.0  215   690.53   30.89  0.8744  0.7531  0.2123\n",
              "10  11   800.0  215   801.58   32.39  0.9127  0.6874  0.2003\n",
              "11  12     0.0  215  1000.00  165.50     NaN     NaN     NaN"
            ]
          },
          "metadata": {
            "tags": []
          },
          "execution_count": 4
        }
      ]
    },
    {
      "cell_type": "code",
      "metadata": {
        "id": "gPmUoylk5Jqw",
        "colab_type": "code",
        "colab": {
          "base_uri": "https://localhost:8080/",
          "height": 34
        },
        "outputId": "9638b9d6-9b8c-4e85-b675-4d0749f5a569"
      },
      "source": [
        "# Task 1. calculate OGIP and condensate in place by volumetrics\n",
        "\n",
        "# calculate initial gas in place volumetrics\n",
        "Gfgi_vol = (area * h * poro * (1 - swi)) / Bgi # result in scf\n",
        "print('Original gas in place calculated by volumetrics:', Gfgi_vol / 1E+09, 'Bscf')"
      ],
      "execution_count": null,
      "outputs": [
        {
          "output_type": "stream",
          "text": [
            "Original gas in place calculated by volumetrics: 197.21028573007675 Bscf\n"
          ],
          "name": "stdout"
        }
      ]
    },
    {
      "cell_type": "code",
      "metadata": {
        "id": "_iVhNkqfxfyu",
        "colab_type": "code",
        "colab": {
          "base_uri": "https://localhost:8080/",
          "height": 460
        },
        "outputId": "3d1a8409-d219-4b25-a90d-3e260545bf75"
      },
      "source": [
        "# Task 4. calculate Bg, Bo, Rs, Rv\n",
        "\n",
        "z = data['z'].values\n",
        "z2 = data['z2'].values\n",
        "p = data['p'].values\n",
        "Gp = data['Gp'].values\n",
        "Np = data['Np'].values\n",
        "Vo = data['Vo'].values\n",
        "temp = data['T'].iloc[0]\n",
        "\n",
        "# calculate Bo, Bg, Rs, Rv\n",
        "Bo, Bg, Rs, Rv = cvd_condensate(z, z2, temp, p, Gp, Np, Vo) # result in STB/MMscf\n",
        "\n",
        "# conversion\n",
        "Bg = np.array(Bg) * 1E+3 # RB/scf to RB/Mscf\n",
        "Rs = np.array(Rs) * 1E-3 # scf/STB to Mscf/STB\n",
        "Rv = np.array(Rv) * 1E+6 # STB/scf to STB/MMscf\n",
        "\n",
        "result = pd.DataFrame({'p (psia)': p[:-1], 'Bo (RB/STB)': Bo, 'Bg (RB/Mscf)': Bg,\n",
        "                       'Rs (Mscf/STB)': Rs, 'Rv (STB/MMscf)': Rv})\n",
        "result"
      ],
      "execution_count": null,
      "outputs": [
        {
          "output_type": "stream",
          "text": [
            "/content/reservoir-engineering/Unit 10 Gas-Condensate Reservoirs/functions/cvd_condensate.py:132: RuntimeWarning: invalid value encountered in double_scalars\n",
            "  Boj = Vtoj / Nfoj\n",
            "/content/reservoir-engineering/Unit 10 Gas-Condensate Reservoirs/functions/cvd_condensate.py:140: RuntimeWarning: invalid value encountered in double_scalars\n",
            "  Rsj = Gfoj / Nfoj\n"
          ],
          "name": "stderr"
        },
        {
          "output_type": "execute_result",
          "data": {
            "text/html": [
              "<div>\n",
              "<style scoped>\n",
              "    .dataframe tbody tr th:only-of-type {\n",
              "        vertical-align: middle;\n",
              "    }\n",
              "\n",
              "    .dataframe tbody tr th {\n",
              "        vertical-align: top;\n",
              "    }\n",
              "\n",
              "    .dataframe thead th {\n",
              "        text-align: right;\n",
              "    }\n",
              "</style>\n",
              "<table border=\"1\" class=\"dataframe\">\n",
              "  <thead>\n",
              "    <tr style=\"text-align: right;\">\n",
              "      <th></th>\n",
              "      <th>p (psia)</th>\n",
              "      <th>Bo (RB/STB)</th>\n",
              "      <th>Bg (RB/Mscf)</th>\n",
              "      <th>Rs (Mscf/STB)</th>\n",
              "      <th>Rv (STB/MMscf)</th>\n",
              "    </tr>\n",
              "  </thead>\n",
              "  <tbody>\n",
              "    <tr>\n",
              "      <th>0</th>\n",
              "      <td>5450.0</td>\n",
              "      <td>NaN</td>\n",
              "      <td>0.651205</td>\n",
              "      <td>NaN</td>\n",
              "      <td>165.500000</td>\n",
              "    </tr>\n",
              "    <tr>\n",
              "      <th>1</th>\n",
              "      <td>5300.0</td>\n",
              "      <td>2.315887</td>\n",
              "      <td>0.653802</td>\n",
              "      <td>3.006057</td>\n",
              "      <td>158.123371</td>\n",
              "    </tr>\n",
              "    <tr>\n",
              "      <th>2</th>\n",
              "      <td>4800.0</td>\n",
              "      <td>1.785745</td>\n",
              "      <td>0.667935</td>\n",
              "      <td>2.131139</td>\n",
              "      <td>113.903850</td>\n",
              "    </tr>\n",
              "    <tr>\n",
              "      <th>3</th>\n",
              "      <td>4300.0</td>\n",
              "      <td>1.611865</td>\n",
              "      <td>0.698619</td>\n",
              "      <td>1.725367</td>\n",
              "      <td>89.055420</td>\n",
              "    </tr>\n",
              "    <tr>\n",
              "      <th>4</th>\n",
              "      <td>3800.0</td>\n",
              "      <td>1.473220</td>\n",
              "      <td>0.752733</td>\n",
              "      <td>1.426785</td>\n",
              "      <td>65.150670</td>\n",
              "    </tr>\n",
              "    <tr>\n",
              "      <th>5</th>\n",
              "      <td>3300.0</td>\n",
              "      <td>1.369154</td>\n",
              "      <td>0.833501</td>\n",
              "      <td>1.174861</td>\n",
              "      <td>48.355664</td>\n",
              "    </tr>\n",
              "    <tr>\n",
              "      <th>6</th>\n",
              "      <td>2800.0</td>\n",
              "      <td>1.275349</td>\n",
              "      <td>0.959527</td>\n",
              "      <td>0.958751</td>\n",
              "      <td>34.981393</td>\n",
              "    </tr>\n",
              "    <tr>\n",
              "      <th>7</th>\n",
              "      <td>2300.0</td>\n",
              "      <td>1.197625</td>\n",
              "      <td>1.156391</td>\n",
              "      <td>0.776373</td>\n",
              "      <td>25.026676</td>\n",
              "    </tr>\n",
              "    <tr>\n",
              "      <th>8</th>\n",
              "      <td>1800.0</td>\n",
              "      <td>1.126269</td>\n",
              "      <td>1.477125</td>\n",
              "      <td>0.607631</td>\n",
              "      <td>18.938701</td>\n",
              "    </tr>\n",
              "    <tr>\n",
              "      <th>9</th>\n",
              "      <td>1300.0</td>\n",
              "      <td>1.056675</td>\n",
              "      <td>2.039332</td>\n",
              "      <td>0.442843</td>\n",
              "      <td>15.005841</td>\n",
              "    </tr>\n",
              "    <tr>\n",
              "      <th>10</th>\n",
              "      <td>800.0</td>\n",
              "      <td>0.996089</td>\n",
              "      <td>3.254247</td>\n",
              "      <td>0.293190</td>\n",
              "      <td>13.507429</td>\n",
              "    </tr>\n",
              "  </tbody>\n",
              "</table>\n",
              "</div>"
            ],
            "text/plain": [
              "    p (psia)  Bo (RB/STB)  Bg (RB/Mscf)  Rs (Mscf/STB)  Rv (STB/MMscf)\n",
              "0     5450.0          NaN      0.651205            NaN      165.500000\n",
              "1     5300.0     2.315887      0.653802       3.006057      158.123371\n",
              "2     4800.0     1.785745      0.667935       2.131139      113.903850\n",
              "3     4300.0     1.611865      0.698619       1.725367       89.055420\n",
              "4     3800.0     1.473220      0.752733       1.426785       65.150670\n",
              "5     3300.0     1.369154      0.833501       1.174861       48.355664\n",
              "6     2800.0     1.275349      0.959527       0.958751       34.981393\n",
              "7     2300.0     1.197625      1.156391       0.776373       25.026676\n",
              "8     1800.0     1.126269      1.477125       0.607631       18.938701\n",
              "9     1300.0     1.056675      2.039332       0.442843       15.005841\n",
              "10     800.0     0.996089      3.254247       0.293190       13.507429"
            ]
          },
          "metadata": {
            "tags": []
          },
          "execution_count": 11
        }
      ]
    },
    {
      "cell_type": "code",
      "metadata": {
        "id": "SyifGd7mTWqi",
        "colab_type": "code",
        "colab": {
          "base_uri": "https://localhost:8080/",
          "height": 34
        },
        "outputId": "8e30169c-3453-491c-ab91-6f00de6b9c40"
      },
      "source": [
        "# calculate initial condensate in place from ogip\n",
        "condensate_inplace_vol = Gfgi_vol * (Rv[0] / 1E+6) # convert Rv from STB/MMscf to STB/scf\n",
        "\n",
        "Gfgi_vol\n",
        "\n",
        "print('Original condensate in place calculated by volumetrics:', condensate_inplace_vol / 1E+6, 'MMSTB')"
      ],
      "execution_count": null,
      "outputs": [
        {
          "output_type": "stream",
          "text": [
            "Original condensate in place calculated by volumetrics: 32.63830228832771 MMSTB\n"
          ],
          "name": "stdout"
        }
      ]
    },
    {
      "cell_type": "markdown",
      "metadata": {
        "id": "-V8T_y8zgelq",
        "colab_type": "text"
      },
      "source": [
        "## Problem 10.2"
      ]
    },
    {
      "cell_type": "markdown",
      "metadata": {
        "id": "W4ewkqHEggty",
        "colab_type": "text"
      },
      "source": [
        "## Problem 10.3\n",
        "\n",
        "Task 1. Calculate original gas and condensate in place by volumetrics.\n",
        "\n",
        "Task 2. Compare the volumetrics result with material balance method."
      ]
    },
    {
      "cell_type": "code",
      "metadata": {
        "id": "7Ok0IiaBgiNV",
        "colab_type": "code",
        "colab": {
          "base_uri": "https://localhost:8080/",
          "height": 462
        },
        "outputId": "efb716c1-671e-4e31-bd52-1ae1a4b29fb2"
      },
      "source": [
        "# Task 1. calculate gas and condensate in place using volumetrics\n",
        "\n",
        "# knowns\n",
        "pi = 3691 # initial pressure, psia\n",
        "Pd = 3691 # dewpoint pressure, psia\n",
        "temp = 220 # fahrenheit\n",
        "Rvi = 86.5 # initial volatile oil-gas ratio, STB/MMscf\n",
        "Rsi = 11561 # initial solution gas-oil ratio, scf/STB\n",
        "Bgi = 0.87 # initial gas FVF, RB/Mscf\n",
        "swi = 0.3 # initial water saturation\n",
        "poro = 0.1\n",
        "area = 3100 # productive area, acre\n",
        "h = 50 # average thickness, ft\n",
        "min_k = 30 # minimum permeability of a range, mD\n",
        "max_k = 40 # maximum permeability of a range, mD\n",
        "\n",
        "# conversion\n",
        "area = area * 43560 # convert acre to ft2\n",
        "Bgi = Bgi * (5.615 / 1E+03) # convert RB/Mscf to ft3/ft3\n",
        "\n",
        "columns = ['p', 'Np', 'Gp', 'Bg', 'Bo', 'Rs', 'Rv']\n",
        "data = pd.read_csv('/content/reservoir-engineering/Unit 10 Gas-Condensate Reservoirs/data/Table 10.11-PVT and Production Data for Bacon-Lime Reservoir.csv', names=columns)\n",
        "data = data[:14]\n",
        "\n",
        "# add condition (below/above dew point) to the data\n",
        "p = data['p'].values\n",
        "status = []\n",
        "\n",
        "for i in p:\n",
        "  if i < Pd:\n",
        "    _ = 'below dew'\n",
        "  else:\n",
        "    _ = 'above dew'\n",
        "  status.append(_)\n",
        "\n",
        "data['status'] = status\n",
        "\n",
        "data"
      ],
      "execution_count": null,
      "outputs": [
        {
          "output_type": "execute_result",
          "data": {
            "text/html": [
              "<div>\n",
              "<style scoped>\n",
              "    .dataframe tbody tr th:only-of-type {\n",
              "        vertical-align: middle;\n",
              "    }\n",
              "\n",
              "    .dataframe tbody tr th {\n",
              "        vertical-align: top;\n",
              "    }\n",
              "\n",
              "    .dataframe thead th {\n",
              "        text-align: right;\n",
              "    }\n",
              "</style>\n",
              "<table border=\"1\" class=\"dataframe\">\n",
              "  <thead>\n",
              "    <tr style=\"text-align: right;\">\n",
              "      <th></th>\n",
              "      <th>p</th>\n",
              "      <th>Np</th>\n",
              "      <th>Gp</th>\n",
              "      <th>Bg</th>\n",
              "      <th>Bo</th>\n",
              "      <th>Rs</th>\n",
              "      <th>Rv</th>\n",
              "      <th>status</th>\n",
              "    </tr>\n",
              "  </thead>\n",
              "  <tbody>\n",
              "    <tr>\n",
              "      <th>0</th>\n",
              "      <td>3700.0</td>\n",
              "      <td>0.0</td>\n",
              "      <td>0.00</td>\n",
              "      <td>0.87</td>\n",
              "      <td>10.058</td>\n",
              "      <td>11560.7</td>\n",
              "      <td>86.5</td>\n",
              "      <td>above dew</td>\n",
              "    </tr>\n",
              "    <tr>\n",
              "      <th>1</th>\n",
              "      <td>3650.0</td>\n",
              "      <td>28600.0</td>\n",
              "      <td>0.34</td>\n",
              "      <td>0.88</td>\n",
              "      <td>2.417</td>\n",
              "      <td>2378.0</td>\n",
              "      <td>81.5</td>\n",
              "      <td>below dew</td>\n",
              "    </tr>\n",
              "    <tr>\n",
              "      <th>2</th>\n",
              "      <td>3400.0</td>\n",
              "      <td>93000.0</td>\n",
              "      <td>1.20</td>\n",
              "      <td>0.92</td>\n",
              "      <td>2.192</td>\n",
              "      <td>2010.0</td>\n",
              "      <td>70.5</td>\n",
              "      <td>below dew</td>\n",
              "    </tr>\n",
              "    <tr>\n",
              "      <th>3</th>\n",
              "      <td>3100.0</td>\n",
              "      <td>231000.0</td>\n",
              "      <td>3.30</td>\n",
              "      <td>0.99</td>\n",
              "      <td>1.916</td>\n",
              "      <td>1569.0</td>\n",
              "      <td>56.2</td>\n",
              "      <td>below dew</td>\n",
              "    </tr>\n",
              "    <tr>\n",
              "      <th>4</th>\n",
              "      <td>2800.0</td>\n",
              "      <td>270000.0</td>\n",
              "      <td>4.30</td>\n",
              "      <td>1.08</td>\n",
              "      <td>1.736</td>\n",
              "      <td>1272.0</td>\n",
              "      <td>46.5</td>\n",
              "      <td>below dew</td>\n",
              "    </tr>\n",
              "    <tr>\n",
              "      <th>5</th>\n",
              "      <td>2500.0</td>\n",
              "      <td>379000.0</td>\n",
              "      <td>6.60</td>\n",
              "      <td>1.20</td>\n",
              "      <td>1.617</td>\n",
              "      <td>1067.0</td>\n",
              "      <td>39.5</td>\n",
              "      <td>below dew</td>\n",
              "    </tr>\n",
              "    <tr>\n",
              "      <th>6</th>\n",
              "      <td>2200.0</td>\n",
              "      <td>481000.0</td>\n",
              "      <td>9.10</td>\n",
              "      <td>1.35</td>\n",
              "      <td>1.504</td>\n",
              "      <td>873.0</td>\n",
              "      <td>33.8</td>\n",
              "      <td>below dew</td>\n",
              "    </tr>\n",
              "    <tr>\n",
              "      <th>7</th>\n",
              "      <td>1900.0</td>\n",
              "      <td>517200.0</td>\n",
              "      <td>10.50</td>\n",
              "      <td>1.56</td>\n",
              "      <td>1.416</td>\n",
              "      <td>719.0</td>\n",
              "      <td>29.9</td>\n",
              "      <td>below dew</td>\n",
              "    </tr>\n",
              "    <tr>\n",
              "      <th>8</th>\n",
              "      <td>1600.0</td>\n",
              "      <td>549000.0</td>\n",
              "      <td>12.00</td>\n",
              "      <td>1.85</td>\n",
              "      <td>1.326</td>\n",
              "      <td>565.0</td>\n",
              "      <td>27.3</td>\n",
              "      <td>below dew</td>\n",
              "    </tr>\n",
              "    <tr>\n",
              "      <th>9</th>\n",
              "      <td>1300.0</td>\n",
              "      <td>580000.0</td>\n",
              "      <td>12.80</td>\n",
              "      <td>2.28</td>\n",
              "      <td>1.268</td>\n",
              "      <td>461.0</td>\n",
              "      <td>25.5</td>\n",
              "      <td>below dew</td>\n",
              "    </tr>\n",
              "    <tr>\n",
              "      <th>10</th>\n",
              "      <td>1000.0</td>\n",
              "      <td>675000.0</td>\n",
              "      <td>16.40</td>\n",
              "      <td>2.95</td>\n",
              "      <td>1.205</td>\n",
              "      <td>349.0</td>\n",
              "      <td>25.9</td>\n",
              "      <td>below dew</td>\n",
              "    </tr>\n",
              "    <tr>\n",
              "      <th>11</th>\n",
              "      <td>700.0</td>\n",
              "      <td>755000.0</td>\n",
              "      <td>19.10</td>\n",
              "      <td>4.09</td>\n",
              "      <td>1.149</td>\n",
              "      <td>249.0</td>\n",
              "      <td>28.3</td>\n",
              "      <td>below dew</td>\n",
              "    </tr>\n",
              "    <tr>\n",
              "      <th>12</th>\n",
              "      <td>600.0</td>\n",
              "      <td>803000.0</td>\n",
              "      <td>20.50</td>\n",
              "      <td>4.68</td>\n",
              "      <td>1.131</td>\n",
              "      <td>218.0</td>\n",
              "      <td>29.8</td>\n",
              "      <td>below dew</td>\n",
              "    </tr>\n",
              "    <tr>\n",
              "      <th>13</th>\n",
              "      <td>400.0</td>\n",
              "      <td>NaN</td>\n",
              "      <td>NaN</td>\n",
              "      <td>6.53</td>\n",
              "      <td>1.093</td>\n",
              "      <td>141.0</td>\n",
              "      <td>33.5</td>\n",
              "      <td>below dew</td>\n",
              "    </tr>\n",
              "  </tbody>\n",
              "</table>\n",
              "</div>"
            ],
            "text/plain": [
              "         p        Np     Gp    Bg      Bo       Rs    Rv     status\n",
              "0   3700.0       0.0   0.00  0.87  10.058  11560.7  86.5  above dew\n",
              "1   3650.0   28600.0   0.34  0.88   2.417   2378.0  81.5  below dew\n",
              "2   3400.0   93000.0   1.20  0.92   2.192   2010.0  70.5  below dew\n",
              "3   3100.0  231000.0   3.30  0.99   1.916   1569.0  56.2  below dew\n",
              "4   2800.0  270000.0   4.30  1.08   1.736   1272.0  46.5  below dew\n",
              "5   2500.0  379000.0   6.60  1.20   1.617   1067.0  39.5  below dew\n",
              "6   2200.0  481000.0   9.10  1.35   1.504    873.0  33.8  below dew\n",
              "7   1900.0  517200.0  10.50  1.56   1.416    719.0  29.9  below dew\n",
              "8   1600.0  549000.0  12.00  1.85   1.326    565.0  27.3  below dew\n",
              "9   1300.0  580000.0  12.80  2.28   1.268    461.0  25.5  below dew\n",
              "10  1000.0  675000.0  16.40  2.95   1.205    349.0  25.9  below dew\n",
              "11   700.0  755000.0  19.10  4.09   1.149    249.0  28.3  below dew\n",
              "12   600.0  803000.0  20.50  4.68   1.131    218.0  29.8  below dew\n",
              "13   400.0       NaN    NaN  6.53   1.093    141.0  33.5  below dew"
            ]
          },
          "metadata": {
            "tags": []
          },
          "execution_count": 75
        }
      ]
    },
    {
      "cell_type": "code",
      "metadata": {
        "id": "axSLuHU1rq0C",
        "colab_type": "code",
        "colab": {
          "base_uri": "https://localhost:8080/",
          "height": 50
        },
        "outputId": "cc7248a5-6cae-4bea-a977-92361b574243"
      },
      "source": [
        "# calculate initial gas in place volumetrics\n",
        "Gfgi_vol = (area * h * poro * (1 - swi)) / Bgi # result in scf\n",
        "\n",
        "# calculate initial condensate in place from ogip\n",
        "condensate_inplace_vol = (Gfgi_vol / 1E+06) * Rvi # result in STB\n",
        "\n",
        "print('Original gas in place calculated by volumetrics:', Gfgi_vol / 1E+09, 'Bscf')\n",
        "print('Original condensate in place calculated by volumetrics:', condensate_inplace_vol / 1E+06, 'MMSTB')"
      ],
      "execution_count": null,
      "outputs": [
        {
          "output_type": "stream",
          "text": [
            "Original gas in place calculated by volumetrics: 96.7494703227193 Bscf\n",
            "Original condensate in place calculated by volumetrics: 8.368829182915219 MMSTB\n"
          ],
          "name": "stdout"
        }
      ]
    },
    {
      "cell_type": "code",
      "metadata": {
        "id": "fq45HjLJDIaB",
        "colab_type": "code",
        "colab": {
          "base_uri": "https://localhost:8080/",
          "height": 295
        },
        "outputId": "7b54d589-d9ff-404f-8bf5-df86f5fc7d3d"
      },
      "source": [
        "# calculate initial gas in place by material balance plot\n",
        "\n",
        "# for above and below dewpoint, the calculation is different\n",
        "\n",
        "above = data.iloc[0]\n",
        "Bg = above['Bg'] / 1E+3 # RB/Mscf to RB/scf\n",
        "Bgi = Bg\n",
        "Gp = above['Gp'] * 1E+9 # Bscf to scf\n",
        "Gpi = Gp\n",
        "F_above, Eg_above = condensate_abovedew(Bg, Bgi, Gp, Gpi)\n",
        "\n",
        "below = data.iloc[1:]\n",
        "Rs = below['Rs'].values\n",
        "Rv = below['Rv'].values / 1E+6  # STB/MMscf to STB/scf\n",
        "Rsi = Rs[0]\n",
        "Rvi = Rv[0]\n",
        "Bo = below['Bo'].values\n",
        "Bg = below['Bg'].values / 1E+3 # RB/Mscf to RB/scf\n",
        "Np = below['Np'].values\n",
        "Gp = below['Gp'].values * 1E+9 # Bscf to scf\n",
        "F_below, Eg_below = condensate_belowdew(Rs, Rv, Rsi, Rvi, Bo, Bg, Np, Gp)\n",
        "\n",
        "F = np.append(F_above, F_below)\n",
        "Eg = np.append(Eg_above, Eg_below)\n",
        "\n",
        "plt.plot(Eg, F, '.')\n",
        "plt.title('Plot 10.1: F vs Eg')\n",
        "plt.xlabel('Eg (RB/scf)'); plt.ylabel('F (res bbl)')\n",
        "plt.xlim(xmin=0); plt.ylim(ymin=0)\n",
        "plt.show()"
      ],
      "execution_count": null,
      "outputs": [
        {
          "output_type": "display_data",
          "data": {
            "image/png": "[encoded data removed]",
            "text/plain": [
              "<Figure size 432x288 with 1 Axes>"
            ]
          },
          "metadata": {
            "tags": [],
            "needs_background": "light"
          }
        }
      ]
    },
    {
      "cell_type": "code",
      "metadata": {
        "id": "3c721588rlmL",
        "colab_type": "code",
        "colab": {
          "base_uri": "https://localhost:8080/",
          "height": 329
        },
        "outputId": "39876c30-4307-4eae-82d9-0ce643f7112f"
      },
      "source": [
        "import sys\n",
        "sys.path.append('/content/reservoir-engineering')\n",
        "from utilities import *\n",
        "\n",
        "plt.plot(Eg, F, '.')\n",
        "plt.title('Plot 10.1: F vs Eg')\n",
        "plt.xlabel('Eg (RB/scf)'); plt.ylabel('F (res bbl)')\n",
        "plt.xlim(xmin=0); plt.ylim(ymin=0)\n",
        "\n",
        "b, a = simple_linear_regression_traditional(Eg[:-1], F[:-1])\n",
        "\n",
        "y = a * Eg\n",
        "print('Initial Gas in Place by Material Balance:', a / 1E+9, 'Bscf')\n",
        "\n",
        "condensate_in_place = a * Rvi\n",
        "print('Initial Condensate in Place by Material Balance:', condensate_in_place / 1E+06, 'MMSTB')\n",
        "\n",
        "plt.plot(Eg, y)\n",
        "plt.show()"
      ],
      "execution_count": null,
      "outputs": [
        {
          "output_type": "stream",
          "text": [
            "Initial Gas in Place by Material Balance: 24.573469695040338 Bscf\n",
            "Initial Condensate in Place by Material Balance: 2.0027377801457873 MMSTB\n"
          ],
          "name": "stdout"
        },
        {
          "output_type": "display_data",
          "data": {
            "image/png": "[encoded data removed]",
            "text/plain": [
              "<Figure size 432x288 with 1 Axes>"
            ]
          },
          "metadata": {
            "tags": [],
            "needs_background": "light"
          }
        }
      ]
    },
    {
      "cell_type": "markdown",
      "metadata": {
        "id": "ml40bBQgtotS",
        "colab_type": "text"
      },
      "source": [
        "There is an indication of aquifer influx because it curves upward"
      ]
    },
    {
      "cell_type": "markdown",
      "metadata": {
        "id": "G34iMO07vGnL",
        "colab_type": "text"
      },
      "source": [
        "## Example 10.4\n",
        "\n",
        "Task 1. Calculate recovery factor of both gas and condensate at each pressure.\n",
        "\n",
        "Task 2. Calculate Bg, Bo, Rs, Rv"
      ]
    },
    {
      "cell_type": "code",
      "metadata": {
        "id": "bqFPxE53N_gb",
        "colab_type": "code",
        "colab": {
          "base_uri": "https://localhost:8080/",
          "height": 254
        },
        "outputId": "04f6e38a-67fd-40af-f933-a1b4bddc4b08"
      },
      "source": [
        "# data\n",
        "Bgi = .7782 # RB/Mscf @ 3428 psia\n",
        "\n",
        "p = np.array([3428, 3000, 2400, 1800, 1200, 700, 0])\n",
        "temp = np.full(7, 200)\n",
        "Gp = np.array([0, 94.96, 262.96, 452.25, 646.25, 803.36, 1000]) # Mscf\n",
        "Np = np.array([0, 8.31, 16.76, 23.09, 28.41, 33.06, 148.06]) # STB\n",
        "z = np.array([.803, .798, .802, .83, .877, .924, np.nan]) \n",
        "z2 = np.array([.803, .774, .748, .73, .703, .642, np.nan])\n",
        "Vo = np.array([0, .15, .199, .192, .171, .152, np.nan])\n",
        "\n",
        "data = pd.DataFrame({'p': p, 'T': temp, 'Gp': Gp, 'Np': Np, 'z': z, 'z2': z2, 'Vo': Vo})\n",
        "data"
      ],
      "execution_count": null,
      "outputs": [
        {
          "output_type": "execute_result",
          "data": {
            "text/html": [
              "<div>\n",
              "<style scoped>\n",
              "    .dataframe tbody tr th:only-of-type {\n",
              "        vertical-align: middle;\n",
              "    }\n",
              "\n",
              "    .dataframe tbody tr th {\n",
              "        vertical-align: top;\n",
              "    }\n",
              "\n",
              "    .dataframe thead th {\n",
              "        text-align: right;\n",
              "    }\n",
              "</style>\n",
              "<table border=\"1\" class=\"dataframe\">\n",
              "  <thead>\n",
              "    <tr style=\"text-align: right;\">\n",
              "      <th></th>\n",
              "      <th>p</th>\n",
              "      <th>T</th>\n",
              "      <th>Gp</th>\n",
              "      <th>Np</th>\n",
              "      <th>z</th>\n",
              "      <th>z2</th>\n",
              "      <th>Vo</th>\n",
              "    </tr>\n",
              "  </thead>\n",
              "  <tbody>\n",
              "    <tr>\n",
              "      <th>0</th>\n",
              "      <td>3428</td>\n",
              "      <td>200</td>\n",
              "      <td>0.00</td>\n",
              "      <td>0.00</td>\n",
              "      <td>0.803</td>\n",
              "      <td>0.803</td>\n",
              "      <td>0.000</td>\n",
              "    </tr>\n",
              "    <tr>\n",
              "      <th>1</th>\n",
              "      <td>3000</td>\n",
              "      <td>200</td>\n",
              "      <td>94.96</td>\n",
              "      <td>8.31</td>\n",
              "      <td>0.798</td>\n",
              "      <td>0.774</td>\n",
              "      <td>0.150</td>\n",
              "    </tr>\n",
              "    <tr>\n",
              "      <th>2</th>\n",
              "      <td>2400</td>\n",
              "      <td>200</td>\n",
              "      <td>262.96</td>\n",
              "      <td>16.76</td>\n",
              "      <td>0.802</td>\n",
              "      <td>0.748</td>\n",
              "      <td>0.199</td>\n",
              "    </tr>\n",
              "    <tr>\n",
              "      <th>3</th>\n",
              "      <td>1800</td>\n",
              "      <td>200</td>\n",
              "      <td>452.25</td>\n",
              "      <td>23.09</td>\n",
              "      <td>0.830</td>\n",
              "      <td>0.730</td>\n",
              "      <td>0.192</td>\n",
              "    </tr>\n",
              "    <tr>\n",
              "      <th>4</th>\n",
              "      <td>1200</td>\n",
              "      <td>200</td>\n",
              "      <td>646.25</td>\n",
              "      <td>28.41</td>\n",
              "      <td>0.877</td>\n",
              "      <td>0.703</td>\n",
              "      <td>0.171</td>\n",
              "    </tr>\n",
              "    <tr>\n",
              "      <th>5</th>\n",
              "      <td>700</td>\n",
              "      <td>200</td>\n",
              "      <td>803.36</td>\n",
              "      <td>33.06</td>\n",
              "      <td>0.924</td>\n",
              "      <td>0.642</td>\n",
              "      <td>0.152</td>\n",
              "    </tr>\n",
              "    <tr>\n",
              "      <th>6</th>\n",
              "      <td>0</td>\n",
              "      <td>200</td>\n",
              "      <td>1000.00</td>\n",
              "      <td>148.06</td>\n",
              "      <td>NaN</td>\n",
              "      <td>NaN</td>\n",
              "      <td>NaN</td>\n",
              "    </tr>\n",
              "  </tbody>\n",
              "</table>\n",
              "</div>"
            ],
            "text/plain": [
              "      p    T       Gp      Np      z     z2     Vo\n",
              "0  3428  200     0.00    0.00  0.803  0.803  0.000\n",
              "1  3000  200    94.96    8.31  0.798  0.774  0.150\n",
              "2  2400  200   262.96   16.76  0.802  0.748  0.199\n",
              "3  1800  200   452.25   23.09  0.830  0.730  0.192\n",
              "4  1200  200   646.25   28.41  0.877  0.703  0.171\n",
              "5   700  200   803.36   33.06  0.924  0.642  0.152\n",
              "6     0  200  1000.00  148.06    NaN    NaN    NaN"
            ]
          },
          "metadata": {
            "tags": []
          },
          "execution_count": 10
        }
      ]
    },
    {
      "cell_type": "code",
      "metadata": {
        "id": "byi8vpZBRMLn",
        "colab_type": "code",
        "colab": {
          "base_uri": "https://localhost:8080/",
          "height": 312
        },
        "outputId": "71935f22-e5a4-4dac-a281-3b05ef4f5eb8"
      },
      "source": [
        "# calculate Bo, Bg, Rs, Rv\n",
        "Bo, Bg, Rs, Rv = cvd_condensate(z, z2, temp, p, Gp, Np, Vo) # result in STB/MMscf\n",
        "\n",
        "# conversion\n",
        "Bg = np.array(Bg) * 1E+3 # RB/scf to RB/Mscf\n",
        "Rs = np.array(Rs) * 1E-3 # scf/STB to Mscf/STB\n",
        "Rv = np.array(Rv) * 1E+3 # STB/scf to STB/MMscf\n",
        "\n",
        "result = pd.DataFrame({'p (psia)': p[:-1], 'Bo (RB/STB)': Bo, 'Bg (RB/Mscf)': Bg,\n",
        "                       'Rs (Mscf/STB)': Rs, 'Rv (STB/Mscf)': Rv})\n",
        "result"
      ],
      "execution_count": null,
      "outputs": [
        {
          "output_type": "stream",
          "text": [
            "/content/reservoir-engineering/Unit 10 Gas-Condensate Reservoirs/functions/cvd_condensate.py:132: RuntimeWarning: invalid value encountered in double_scalars\n",
            "  Boj = Vtoj / Nfoj\n",
            "/content/reservoir-engineering/Unit 10 Gas-Condensate Reservoirs/functions/cvd_condensate.py:140: RuntimeWarning: invalid value encountered in double_scalars\n",
            "  Rsj = Gfoj / Nfoj\n"
          ],
          "name": "stderr"
        },
        {
          "output_type": "execute_result",
          "data": {
            "text/html": [
              "<div>\n",
              "<style scoped>\n",
              "    .dataframe tbody tr th:only-of-type {\n",
              "        vertical-align: middle;\n",
              "    }\n",
              "\n",
              "    .dataframe tbody tr th {\n",
              "        vertical-align: top;\n",
              "    }\n",
              "\n",
              "    .dataframe thead th {\n",
              "        text-align: right;\n",
              "    }\n",
              "</style>\n",
              "<table border=\"1\" class=\"dataframe\">\n",
              "  <thead>\n",
              "    <tr style=\"text-align: right;\">\n",
              "      <th></th>\n",
              "      <th>p (psia)</th>\n",
              "      <th>Bo (RB/STB)</th>\n",
              "      <th>Bg (RB/Mscf)</th>\n",
              "      <th>Rs (Mscf/STB)</th>\n",
              "      <th>Rv (STB/Mscf)</th>\n",
              "    </tr>\n",
              "  </thead>\n",
              "  <tbody>\n",
              "    <tr>\n",
              "      <th>0</th>\n",
              "      <td>3428</td>\n",
              "      <td>NaN</td>\n",
              "      <td>0.778700</td>\n",
              "      <td>NaN</td>\n",
              "      <td>0.148060</td>\n",
              "    </tr>\n",
              "    <tr>\n",
              "      <th>1</th>\n",
              "      <td>3000</td>\n",
              "      <td>1.666498</td>\n",
              "      <td>0.831507</td>\n",
              "      <td>1.555460</td>\n",
              "      <td>0.087511</td>\n",
              "    </tr>\n",
              "    <tr>\n",
              "      <th>2</th>\n",
              "      <td>2400</td>\n",
              "      <td>1.560108</td>\n",
              "      <td>0.981228</td>\n",
              "      <td>1.020553</td>\n",
              "      <td>0.050298</td>\n",
              "    </tr>\n",
              "    <tr>\n",
              "      <th>3</th>\n",
              "      <td>1800</td>\n",
              "      <td>1.371950</td>\n",
              "      <td>1.315572</td>\n",
              "      <td>0.637632</td>\n",
              "      <td>0.033441</td>\n",
              "    </tr>\n",
              "    <tr>\n",
              "      <th>4</th>\n",
              "      <td>1200</td>\n",
              "      <td>1.201430</td>\n",
              "      <td>2.007669</td>\n",
              "      <td>0.290637</td>\n",
              "      <td>0.027423</td>\n",
              "    </tr>\n",
              "    <tr>\n",
              "      <th>5</th>\n",
              "      <td>700</td>\n",
              "      <td>1.080637</td>\n",
              "      <td>3.573039</td>\n",
              "      <td>0.107997</td>\n",
              "      <td>0.029597</td>\n",
              "    </tr>\n",
              "  </tbody>\n",
              "</table>\n",
              "</div>"
            ],
            "text/plain": [
              "   p (psia)  Bo (RB/STB)  Bg (RB/Mscf)  Rs (Mscf/STB)  Rv (STB/Mscf)\n",
              "0      3428          NaN      0.778700            NaN       0.148060\n",
              "1      3000     1.666498      0.831507       1.555460       0.087511\n",
              "2      2400     1.560108      0.981228       1.020553       0.050298\n",
              "3      1800     1.371950      1.315572       0.637632       0.033441\n",
              "4      1200     1.201430      2.007669       0.290637       0.027423\n",
              "5       700     1.080637      3.573039       0.107997       0.029597"
            ]
          },
          "metadata": {
            "tags": []
          },
          "execution_count": 13
        }
      ]
    },
    {
      "cell_type": "markdown",
      "metadata": {
        "id": "TpLrQfrkdDhw",
        "colab_type": "text"
      },
      "source": [
        "## Example 10.5"
      ]
    },
    {
      "cell_type": "code",
      "metadata": {
        "id": "vjHZ47pogq-6",
        "colab_type": "code",
        "colab": {
          "base_uri": "https://localhost:8080/",
          "height": 462
        },
        "outputId": "d1ffad0c-13d0-4e76-b295-706ad1ec1605"
      },
      "source": [
        "columns = ['p', 'Np', 'Gp', 'Bg', 'Bo', 'Rs', 'Rv']\n",
        "data = pd.read_csv('/content/reservoir-engineering/Unit 10 Gas-Condensate Reservoirs/data/Table 10.15-PVT and Production Data for Problem 10.5.csv', names=columns)\n",
        "data"
      ],
      "execution_count": 32,
      "outputs": [
        {
          "output_type": "execute_result",
          "data": {
            "text/html": [
              "<div>\n",
              "<style scoped>\n",
              "    .dataframe tbody tr th:only-of-type {\n",
              "        vertical-align: middle;\n",
              "    }\n",
              "\n",
              "    .dataframe tbody tr th {\n",
              "        vertical-align: top;\n",
              "    }\n",
              "\n",
              "    .dataframe thead th {\n",
              "        text-align: right;\n",
              "    }\n",
              "</style>\n",
              "<table border=\"1\" class=\"dataframe\">\n",
              "  <thead>\n",
              "    <tr style=\"text-align: right;\">\n",
              "      <th></th>\n",
              "      <th>p</th>\n",
              "      <th>Np</th>\n",
              "      <th>Gp</th>\n",
              "      <th>Bg</th>\n",
              "      <th>Bo</th>\n",
              "      <th>Rs</th>\n",
              "      <th>Rv</th>\n",
              "    </tr>\n",
              "  </thead>\n",
              "  <tbody>\n",
              "    <tr>\n",
              "      <th>0</th>\n",
              "      <td>4500</td>\n",
              "      <td>0.0</td>\n",
              "      <td>0.000000e+00</td>\n",
              "      <td>0.000821</td>\n",
              "      <td>5.7015</td>\n",
              "      <td>6944</td>\n",
              "      <td>0.000144</td>\n",
              "    </tr>\n",
              "    <tr>\n",
              "      <th>1</th>\n",
              "      <td>4400</td>\n",
              "      <td>157000.0</td>\n",
              "      <td>1.090000e+09</td>\n",
              "      <td>0.000831</td>\n",
              "      <td>2.0338</td>\n",
              "      <td>2040</td>\n",
              "      <td>0.000142</td>\n",
              "    </tr>\n",
              "    <tr>\n",
              "      <th>2</th>\n",
              "      <td>4300</td>\n",
              "      <td>371000.0</td>\n",
              "      <td>2.490000e+09</td>\n",
              "      <td>0.000842</td>\n",
              "      <td>1.9717</td>\n",
              "      <td>1900</td>\n",
              "      <td>0.000134</td>\n",
              "    </tr>\n",
              "    <tr>\n",
              "      <th>3</th>\n",
              "      <td>4250</td>\n",
              "      <td>460000.0</td>\n",
              "      <td>3.220000e+09</td>\n",
              "      <td>0.000847</td>\n",
              "      <td>1.9420</td>\n",
              "      <td>1831</td>\n",
              "      <td>0.000130</td>\n",
              "    </tr>\n",
              "    <tr>\n",
              "      <th>4</th>\n",
              "      <td>4200</td>\n",
              "      <td>530000.0</td>\n",
              "      <td>3.890000e+09</td>\n",
              "      <td>0.000853</td>\n",
              "      <td>1.9132</td>\n",
              "      <td>1760</td>\n",
              "      <td>0.000126</td>\n",
              "    </tr>\n",
              "    <tr>\n",
              "      <th>5</th>\n",
              "      <td>4100</td>\n",
              "      <td>652000.0</td>\n",
              "      <td>5.090000e+09</td>\n",
              "      <td>0.000861</td>\n",
              "      <td>1.8579</td>\n",
              "      <td>1625</td>\n",
              "      <td>0.000118</td>\n",
              "    </tr>\n",
              "    <tr>\n",
              "      <th>6</th>\n",
              "      <td>4000</td>\n",
              "      <td>794000.0</td>\n",
              "      <td>6.500000e+09</td>\n",
              "      <td>0.000873</td>\n",
              "      <td>1.8059</td>\n",
              "      <td>1512</td>\n",
              "      <td>0.000110</td>\n",
              "    </tr>\n",
              "    <tr>\n",
              "      <th>7</th>\n",
              "      <td>3500</td>\n",
              "      <td>1610000.0</td>\n",
              "      <td>1.370000e+10</td>\n",
              "      <td>0.000951</td>\n",
              "      <td>1.5899</td>\n",
              "      <td>1139</td>\n",
              "      <td>0.000078</td>\n",
              "    </tr>\n",
              "    <tr>\n",
              "      <th>8</th>\n",
              "      <td>3000</td>\n",
              "      <td>2420000.0</td>\n",
              "      <td>2.180000e+10</td>\n",
              "      <td>0.001073</td>\n",
              "      <td>1.4372</td>\n",
              "      <td>879</td>\n",
              "      <td>0.000056</td>\n",
              "    </tr>\n",
              "    <tr>\n",
              "      <th>9</th>\n",
              "      <td>2500</td>\n",
              "      <td>3210000.0</td>\n",
              "      <td>3.080000e+10</td>\n",
              "      <td>0.001266</td>\n",
              "      <td>1.3336</td>\n",
              "      <td>671</td>\n",
              "      <td>0.000040</td>\n",
              "    </tr>\n",
              "    <tr>\n",
              "      <th>10</th>\n",
              "      <td>2000</td>\n",
              "      <td>4000000.0</td>\n",
              "      <td>4.080000e+10</td>\n",
              "      <td>0.001582</td>\n",
              "      <td>1.2647</td>\n",
              "      <td>493</td>\n",
              "      <td>0.000029</td>\n",
              "    </tr>\n",
              "    <tr>\n",
              "      <th>11</th>\n",
              "      <td>1500</td>\n",
              "      <td>4650000.0</td>\n",
              "      <td>5.110000e+10</td>\n",
              "      <td>0.002137</td>\n",
              "      <td>1.2165</td>\n",
              "      <td>335</td>\n",
              "      <td>0.000021</td>\n",
              "    </tr>\n",
              "    <tr>\n",
              "      <th>12</th>\n",
              "      <td>1000</td>\n",
              "      <td>5270000.0</td>\n",
              "      <td>6.170000e+10</td>\n",
              "      <td>0.003300</td>\n",
              "      <td>1.1746</td>\n",
              "      <td>193</td>\n",
              "      <td>0.000017</td>\n",
              "    </tr>\n",
              "    <tr>\n",
              "      <th>13</th>\n",
              "      <td>500</td>\n",
              "      <td>5660000.0</td>\n",
              "      <td>7.190000e+10</td>\n",
              "      <td>0.006897</td>\n",
              "      <td>1.1249</td>\n",
              "      <td>73</td>\n",
              "      <td>0.000019</td>\n",
              "    </tr>\n",
              "  </tbody>\n",
              "</table>\n",
              "</div>"
            ],
            "text/plain": [
              "       p         Np            Gp        Bg      Bo    Rs        Rv\n",
              "0   4500        0.0  0.000000e+00  0.000821  5.7015  6944  0.000144\n",
              "1   4400   157000.0  1.090000e+09  0.000831  2.0338  2040  0.000142\n",
              "2   4300   371000.0  2.490000e+09  0.000842  1.9717  1900  0.000134\n",
              "3   4250   460000.0  3.220000e+09  0.000847  1.9420  1831  0.000130\n",
              "4   4200   530000.0  3.890000e+09  0.000853  1.9132  1760  0.000126\n",
              "5   4100   652000.0  5.090000e+09  0.000861  1.8579  1625  0.000118\n",
              "6   4000   794000.0  6.500000e+09  0.000873  1.8059  1512  0.000110\n",
              "7   3500  1610000.0  1.370000e+10  0.000951  1.5899  1139  0.000078\n",
              "8   3000  2420000.0  2.180000e+10  0.001073  1.4372   879  0.000056\n",
              "9   2500  3210000.0  3.080000e+10  0.001266  1.3336   671  0.000040\n",
              "10  2000  4000000.0  4.080000e+10  0.001582  1.2647   493  0.000029\n",
              "11  1500  4650000.0  5.110000e+10  0.002137  1.2165   335  0.000021\n",
              "12  1000  5270000.0  6.170000e+10  0.003300  1.1746   193  0.000017\n",
              "13   500  5660000.0  7.190000e+10  0.006897  1.1249    73  0.000019"
            ]
          },
          "metadata": {
            "tags": []
          },
          "execution_count": 32
        }
      ]
    },
    {
      "cell_type": "code",
      "metadata": {
        "id": "oeOnaIKihGG1",
        "colab_type": "code",
        "colab": {
          "base_uri": "https://localhost:8080/",
          "height": 350
        },
        "outputId": "a1249584-2513-4351-d7e5-7a517867d2a1"
      },
      "source": [
        "p = data['p'].values\n",
        "Np = data['Np'].values\n",
        "Gp = data['Gp'].values\n",
        "Bg = data['Bg'].values\n",
        "Bo = data['Bo'].values\n",
        "Rs = data['Rs'].values\n",
        "Rv = data['Rv'].values\n",
        "\n",
        "plt.figure(figsize=(15,5))\n",
        "plt.plot(p, Rv, '.-')\n",
        "plt.title('Volatile Oil-Gas Ratio vs Pressure')\n",
        "plt.xlabel('Pressure (psia)'); plt.ylabel('Rv (STB/scf)')\n",
        "plt.show()"
      ],
      "execution_count": 33,
      "outputs": [
        {
          "output_type": "display_data",
          "data": {
            "image/png": "[encoded data removed]",
            "text/plain": [
              "<Figure size 1080x360 with 1 Axes>"
            ]
          },
          "metadata": {
            "tags": [],
            "needs_background": "light"
          }
        }
      ]
    },
    {
      "cell_type": "markdown",
      "metadata": {
        "id": "R4EhLkNViM55",
        "colab_type": "text"
      },
      "source": [
        "From the plot above, can be seen that the dewpoint pressure is 4,400 psia. Above the dewpoint pressure, $R_s$ will become constant."
      ]
    },
    {
      "cell_type": "code",
      "metadata": {
        "id": "Ex_zfjyYioOn",
        "colab_type": "code",
        "colab": {
          "base_uri": "https://localhost:8080/",
          "height": 295
        },
        "outputId": "08fd5efa-23d6-4531-8b04-0301d6f1b30c"
      },
      "source": [
        "# for above dewpoint pressure\n",
        "F_above, Eg_above = condensate_abovedew(Bg[0], Bg[0], Gp[0], Gp[0])\n",
        "\n",
        "# for below dewpoint pressure\n",
        "F_below, Eg_below = condensate_belowdew(Rs[1:], Rv[1:], (Rs[1:])[0], (Rv[1:])[0], Bo[1:], Bg[1:], Np[1:], Gp[1:])\n",
        "\n",
        "F = np.append(F_above, F_below)\n",
        "Eg = np.append(Eg_above, Eg_below)\n",
        "\n",
        "plt.plot(Eg, F, '.')\n",
        "plt.title('Plot 10.1: F vs Eg')\n",
        "plt.xlabel('Eg (RB/scf)'); plt.ylabel('F (res bbl)')\n",
        "plt.xlim(xmin=0); plt.ylim(ymin=0)\n",
        "plt.show()"
      ],
      "execution_count": 37,
      "outputs": [
        {
          "output_type": "display_data",
          "data": {
            "image/png": "[encoded data removed]",
            "text/plain": [
              "<Figure size 432x288 with 1 Axes>"
            ]
          },
          "metadata": {
            "tags": [],
            "needs_background": "light"
          }
        }
      ]
    },
    {
      "cell_type": "code",
      "metadata": {
        "id": "b8jCaFFCk-cd",
        "colab_type": "code",
        "colab": {
          "base_uri": "https://localhost:8080/",
          "height": 329
        },
        "outputId": "3e1bb4ea-8d13-4d3f-89b0-5d88bc5d3631"
      },
      "source": [
        "import sys\n",
        "sys.path.append('/content/reservoir-engineering')\n",
        "from utilities import *\n",
        "\n",
        "plt.plot(Eg, F, '.')\n",
        "plt.title('Plot 10.1: F vs Eg')\n",
        "plt.xlabel('Eg (RB/scf)'); plt.ylabel('F (res bbl)')\n",
        "plt.xlim(xmin=0); plt.ylim(ymin=0)\n",
        "\n",
        "b, a = simple_linear_regression_traditional(Eg[:-1], F[:-1])\n",
        "\n",
        "y = a * Eg\n",
        "print('Initial Gas in Place by Material Balance:', a / 1E+6, 'MMscf')\n",
        "\n",
        "condensate_in_place = a * Rv[0]\n",
        "print('Initial Condensate in Place by Material Balance:', condensate_in_place / 1E+03, 'MSTB')\n",
        "\n",
        "plt.plot(Eg, y)\n",
        "plt.show()"
      ],
      "execution_count": 41,
      "outputs": [
        {
          "output_type": "stream",
          "text": [
            "Initial Gas in Place by Material Balance: 80830.4698522221 MMscf\n",
            "Initial Condensate in Place by Material Balance: 11639.587658719984 MSTB\n"
          ],
          "name": "stdout"
        },
        {
          "output_type": "display_data",
          "data": {
            "image/png": "[encoded data removed]",
            "text/plain": [
              "<Figure size 432x288 with 1 Axes>"
            ]
          },
          "metadata": {
            "tags": [],
            "needs_background": "light"
          }
        }
      ]
    }
  ]
}