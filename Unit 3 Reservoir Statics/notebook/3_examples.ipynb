{
  "nbformat": 4,
  "nbformat_minor": 0,
  "metadata": {
    "colab": {
      "name": "3_examples.ipynb",
      "provenance": [],
      "authorship_tag": "ABX9TyNmRia8v41laOWkjlFkTtWP",
      "include_colab_link": true
    },
    "kernelspec": {
      "name": "python3",
      "display_name": "Python 3"
    }
  },
  "cells": [
    {
      "cell_type": "markdown",
      "metadata": {
        "id": "view-in-github",
        "colab_type": "text"
      },
      "source": [
        "<a href=\"https://colab.research.google.com/github/yohanesnuwara/reservoir-engineering/blob/master/Unit%203%20Reservoir%20Statics/notebook/3_examples.ipynb\" target=\"_parent\"><img src=\"https://colab.research.google.com/assets/colab-badge.svg\" alt=\"Open In Colab\"/></a>"
      ]
    },
    {
      "cell_type": "markdown",
      "metadata": {
        "id": "tEQdvRJyAD02",
        "colab_type": "text"
      },
      "source": [
        "# **Unit 3 Reservoir Statics (Examples)**"
      ]
    },
    {
      "cell_type": "code",
      "metadata": {
        "id": "leEpBdft__0Z",
        "colab_type": "code",
        "colab": {}
      },
      "source": [
        "import numpy as np\n",
        "import matplotlib.pyplot as plt\n",
        "import pandas as pd"
      ],
      "execution_count": 0,
      "outputs": []
    },
    {
      "cell_type": "code",
      "metadata": {
        "id": "OOUAd8CCAYmh",
        "colab_type": "code",
        "colab": {
          "base_uri": "https://localhost:8080/",
          "height": 134
        },
        "outputId": "16a32a4e-94f6-4401-9e6e-e854f6ccc985"
      },
      "source": [
        "!git clone https://github.com/yohanesnuwara/reservoir-engineering"
      ],
      "execution_count": 2,
      "outputs": [
        {
          "output_type": "stream",
          "text": [
            "Cloning into 'reservoir-engineering'...\n",
            "remote: Enumerating objects: 35, done.\u001b[K\n",
            "remote: Counting objects: 100% (35/35), done.\u001b[K\n",
            "remote: Compressing objects: 100% (32/32), done.\u001b[K\n",
            "remote: Total 193 (delta 13), reused 0 (delta 0), pack-reused 158\u001b[K\n",
            "Receiving objects: 100% (193/193), 221.18 KiB | 636.00 KiB/s, done.\n",
            "Resolving deltas: 100% (80/80), done.\n"
          ],
          "name": "stdout"
        }
      ]
    },
    {
      "cell_type": "code",
      "metadata": {
        "id": "Pwqwq0cdAgtx",
        "colab_type": "code",
        "colab": {}
      },
      "source": [
        "import sys, os\n",
        "sys.path.append('/content/reservoir-engineering/Unit 3 Reservoir Statics/functions')"
      ],
      "execution_count": 0,
      "outputs": []
    },
    {
      "cell_type": "markdown",
      "metadata": {
        "id": "CLbVlkliAxhL",
        "colab_type": "text"
      },
      "source": [
        "# Example 3.1 Calculating Oil Density in a Reservoir from Well Test Data"
      ]
    },
    {
      "cell_type": "code",
      "metadata": {
        "id": "D1MrTB5FBDur",
        "colab_type": "code",
        "colab": {
          "base_uri": "https://localhost:8080/",
          "height": 118
        },
        "outputId": "b07e2f17-a9ec-4964-a621-e54d34ceeb8c"
      },
      "source": [
        "\"Question. calculate oil density in the reservoir based on well data\"\n",
        "\n",
        "# known\n",
        "\n",
        "qo = 250 # in STB/day\n",
        "qg = 150 # Mscf/day\n",
        "api = 45\n",
        "sg = 0.82\n",
        "temp = 240 # in fahrenheit\n",
        "\n",
        "# standard conditions\n",
        "\n",
        "temp_sc = 60 # in fahrenheit\n",
        "pressure_sc = 14.73 # 1 atm = 14.73 psia\n",
        "z_sc = 1 # gas z factor at standard condition\n",
        "\n",
        "# calculate gas-oil ratio\n",
        "\n",
        "Rs = qg * 1000 / qo # in scf gas/STB oil\n",
        "Rs_converted = Rs * (1 / 5.6148) # convert to scf gas/scf oil\n",
        "print(\"Gas-oil ratio:\", Rs_converted, \"scf gas/scf oil\")\n",
        "\n",
        "# oil FVF at surface/standard condition using Standing correlation (Equation 2.37 See Unit 2)\n",
        "\n",
        "so = 141.5 / (api + 131.5)\n",
        "F = Rs * ((sg / so)**0.5) + (1.25 * temp_sc) # Rs must be in scf/STB\n",
        "Bo = 0.972 + (0.000147*(F**1.1756))\n",
        "print(\"Oil FVF at standard condition:\", Bo, \"RB/STB\")\n",
        "\n",
        "# oil density at surface/standard condition\n",
        "\n",
        "rhowater = 62.366 # 1 g/cm3 = 62.366 lbm/ft3\n",
        "rhooil_sc = so * rhowater\n",
        "print(\"Oil density at standard condition:\", rhooil_sc, \"lbm/ft3\")\n",
        "\n",
        "# gas density at surface/standard condition (Eq 2.23, real-gas law)\n",
        "\n",
        "R = 10.732 # gas constant in (ft3*psi)/(lb-mol*R)\n",
        "rhogas_sc = (28.97 * sg * pressure_sc) / (z_sc * R * (temp_sc + 459)) # temp converted to Rankine\n",
        "print(\"Gas density at standard condition:\", rhogas_sc, \"lbm/ft3\")\n",
        "\n",
        "# finally, oil density at reservoir condition\n",
        "\n",
        "rhooil = (rhooil_sc + (rhogas_sc * Rs_converted)) / Bo\n",
        "print(\"Oil density at reservoir condition:\", rhooil, \"lbm/ft3\")\n",
        "\n",
        "# oil density gradient\n",
        "\n",
        "rhooil_grad = rhooil / 144 # 144 is factor conversion from density lbm/ft3 to psi/ft\n",
        "print(\"Oil density gradient:\", rhooil_grad, \"psi/ft\")"
      ],
      "execution_count": 28,
      "outputs": [
        {
          "output_type": "stream",
          "text": [
            "Gas-oil ratio: 106.8604402650139 scf gas/scf oil\n",
            "Oil FVF at standard condition: 1.2871893623377872 RB/STB\n",
            "Oil density at standard condition: 49.99880453257791 lbm/ft3\n",
            "Gas density at standard condition: 0.06282276870641311 lbm/ft3\n",
            "Oil density at reservoir condition: 44.05884240078876 lbm/ft3\n",
            "Oil density gradient: 0.30596418333881087 psi/ft\n"
          ],
          "name": "stdout"
        }
      ]
    },
    {
      "cell_type": "markdown",
      "metadata": {
        "id": "NG9YEblsWlw_",
        "colab_type": "text"
      },
      "source": [
        "# Example 3.2 Investigating Whether Two Oil Wells Are in Pressure Communication"
      ]
    },
    {
      "cell_type": "code",
      "metadata": {
        "id": "4qqKX5UzWu2G",
        "colab_type": "code",
        "colab": {
          "base_uri": "https://localhost:8080/",
          "height": 101
        },
        "outputId": "8eedf3e9-4a67-407c-d512-c169c6f15e04"
      },
      "source": [
        "# Question. Are the two wells in pressure communication?\n",
        "\n",
        "# known\n",
        "\n",
        "api = 32\n",
        "Rs = 500 # in scf/STB\n",
        "temp = 200 # in fahrenheit\n",
        "sg = 0.72\n",
        "Bo = 1.3 # in RB/STB\n",
        "\n",
        "well1_elev = 7134; well2_elev = 7028 # well elevation in ft\n",
        "well1_depthkb = 5652; well2_depthkb = 5426 # well depth from KB in ft\n",
        "well1_pressure = 2453; well2_pressure = 2306 # well pressure in psia\n",
        "\n",
        "# standard conditions\n",
        "\n",
        "temp_sc = 60 # in fahrenheit\n",
        "pressure_sc = 14.73 # 1 atm = 14.73 psia\n",
        "z_sc = 1 # gas z factor at standard condition\n",
        "\n",
        "# calculate oil density at standard condition\n",
        "\n",
        "so = 141.5 / (131.5 + api)\n",
        "rhowater = 62.366\n",
        "rhooil_sc = so * rhowater\n",
        "# print(\"Oil density at standard condition:\", rhooil_sc, \"lbm/ft3\")\n",
        "\n",
        "# calculate gas density at standard condition\n",
        "\n",
        "R = 10.732 # gas constant in (ft3*psi)/(lb-mol*R)\n",
        "rhogas_sc = (28.97 * sg * pressure_sc) / (z_sc * R * (temp_sc + 459)) # temp converted to Rankine\n",
        "# print(\"Gas density at standard condition:\", rhogas_sc, \"lbm/ft3\")\n",
        "\n",
        "# calculate oil density at reservoir condition\n",
        "\n",
        "Rs_converted = Rs * (1 / 5.6148) # convert to scf gas/scf oil\n",
        "rhooil = (rhooil_sc + (rhogas_sc * Rs_converted)) / Bo\n",
        "print(\"Oil density at reservoir condition:\", rhooil, \"lbm/ft3\")\n",
        "\n",
        "# oil density gradient\n",
        "\n",
        "rhooil_grad = rhooil / 144 # 144 is factor conversion from density lbm/ft3 to psi/ft\n",
        "# print(\"Oil density gradient:\", rhooil_grad, \"psi/ft\")\n",
        "\n",
        "# check if the two wells are communicated\n",
        "\n",
        "well1_depthmsl = well1_elev - well1_depthkb\n",
        "well2_depthmsl = well2_elev - well2_depthkb\n",
        "delta_depth = np.abs(well2_depthmsl - well1_depthmsl)\n",
        "\n",
        "if well1_depthmsl > well2_depthmsl:\n",
        "  print(\"well 1 is shallower\", delta_depth, \"ft than well 2\")\n",
        "else:\n",
        "  print(\"well 1 is deeper\", delta_depth, \"ft than well 2\")\n",
        "\n",
        "well1_pressure_extrapolated = well2_pressure + rhooil_grad * delta_depth # pressure extrapolation, Eq 3.1\n",
        "print(\"From extrapolation, well 1 is supposed to be\", well1_pressure_extrapolated, \"psi\")\n",
        "\n",
        "delta_extrapolated_actual = np.abs(well1_pressure_extrapolated - well1_pressure)\n",
        "percent_delta = delta_extrapolated_actual / well1_pressure * 100\n",
        "\n",
        "print(\"Difference of extrapolated well 1 pressure to actual pressure:\", delta_extrapolated_actual, \"psi, or percent difference:\", percent_delta, \"%\")\n",
        "\n",
        "if percent_delta < 1:\n",
        "  print(\"The two wells are most likely in pressure communication\")\n",
        "else:\n",
        "  print(\"The two wells are most likely NOT in pressure communication\")"
      ],
      "execution_count": 43,
      "outputs": [
        {
          "output_type": "stream",
          "text": [
            "Oil density at reservoir condition: 45.29722499549856 lbm/ft3\n",
            "well 1 is deeper 120 ft than well 2\n",
            "From extrapolation, well 1 is supposed to be 2343.747687496249 psi\n",
            "Difference of extrapolated well 1 pressure to actual pressure: 109.252312503751 psi, or percent difference: 4.45382439884839 %\n",
            "The two wells are most likely NOT in pressure communication\n"
          ],
          "name": "stdout"
        }
      ]
    }
  ]
}