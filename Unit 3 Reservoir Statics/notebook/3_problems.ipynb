{
  "nbformat": 4,
  "nbformat_minor": 0,
  "metadata": {
    "colab": {
      "name": "3_problems.ipynb",
      "provenance": [],
      "collapsed_sections": [],
      "authorship_tag": "ABX9TyPlfbzvY3C4N7BbPJhXvreo",
      "include_colab_link": true
    },
    "kernelspec": {
      "name": "python3",
      "display_name": "Python 3"
    }
  },
  "cells": [
    {
      "cell_type": "markdown",
      "metadata": {
        "id": "view-in-github",
        "colab_type": "text"
      },
      "source": [
        "<a href=\"https://colab.research.google.com/github/yohanesnuwara/reservoir-engineering/blob/master/Unit%203%20Reservoir%20Statics/notebook/3_problems.ipynb\" target=\"_parent\"><img src=\"https://colab.research.google.com/assets/colab-badge.svg\" alt=\"Open In Colab\"/></a>"
      ]
    },
    {
      "cell_type": "markdown",
      "metadata": {
        "id": "iEIygngnod6u",
        "colab_type": "text"
      },
      "source": [
        "# **Unit 3 Reservoir Statics (Problems)**"
      ]
    },
    {
      "cell_type": "code",
      "metadata": {
        "id": "Lgq2G9z4obki",
        "colab_type": "code",
        "colab": {}
      },
      "source": [
        "import numpy as np\n",
        "import matplotlib.pyplot as plt\n",
        "import pandas as pd"
      ],
      "execution_count": 0,
      "outputs": []
    },
    {
      "cell_type": "code",
      "metadata": {
        "id": "2HiPwMNYojdW",
        "colab_type": "code",
        "colab": {
          "base_uri": "https://localhost:8080/",
          "height": 134
        },
        "outputId": "7a954d35-f93b-4742-cafa-84d0e0f5706f"
      },
      "source": [
        "!git clone https://github.com/yohanesnuwara/reservoir-engineering"
      ],
      "execution_count": 2,
      "outputs": [
        {
          "output_type": "stream",
          "text": [
            "Cloning into 'reservoir-engineering'...\n",
            "remote: Enumerating objects: 45, done.\u001b[K\n",
            "remote: Counting objects: 100% (45/45), done.\u001b[K\n",
            "remote: Compressing objects: 100% (40/40), done.\u001b[K\n",
            "remote: Total 203 (delta 16), reused 0 (delta 0), pack-reused 158\u001b[K\n",
            "Receiving objects: 100% (203/203), 225.03 KiB | 1.23 MiB/s, done.\n",
            "Resolving deltas: 100% (83/83), done.\n"
          ],
          "name": "stdout"
        }
      ]
    },
    {
      "cell_type": "code",
      "metadata": {
        "id": "n8Xb7-Ubooyu",
        "colab_type": "code",
        "colab": {}
      },
      "source": [
        "import sys, os\n",
        "sys.path.append('/content/reservoir-engineering/Unit 3 Reservoir Statics/functions')"
      ],
      "execution_count": 0,
      "outputs": []
    },
    {
      "cell_type": "markdown",
      "metadata": {
        "id": "CLJiRUfsorNR",
        "colab_type": "text"
      },
      "source": [
        "# Problem 3.1"
      ]
    },
    {
      "cell_type": "code",
      "metadata": {
        "id": "N8Jw7NB8owRw",
        "colab_type": "code",
        "colab": {
          "base_uri": "https://localhost:8080/",
          "height": 34
        },
        "outputId": "a26ec3c8-3224-4753-8b70-fe516b30b0c8"
      },
      "source": [
        "# Question 1. Determine oil density gradient for case 1\n",
        "\n",
        "# known\n",
        "\n",
        "so = 0.8 # stock-tank oil specific gravity\n",
        "sg = 0.65 # solution-gas specific gravity\n",
        "Rs = 940 # scf/STB\n",
        "Bo = 1.63\n",
        "\n",
        "# standard conditions\n",
        "\n",
        "temp_sc = 60 # in fahrenheit\n",
        "pressure_sc = 14.73 # 1 atm = 14.73 psia\n",
        "z_sc = 1 # gas z factor at standard condition\n",
        "\n",
        "def rhooilgrad(so, sg, Rs, Bo):\n",
        "  Rs_converted = 940 * (1/5.6148) # convert to scf oil/scf gas\n",
        "\n",
        "  # oil FVF at surface/standard condition using Standing correlation (Equation 2.37 See Unit 2)\n",
        "\n",
        "  F = Rs * ((sg / so)**0.5) + (1.25 * temp_sc) # Rs must be in scf/STB\n",
        "  Bo = 0.972 + (0.000147*(F**1.1756))\n",
        "\n",
        "  # oil density at surface/standard condition\n",
        "\n",
        "  rhowater = 62.366 # 1 g/cm3 = 62.366 lbm/ft3\n",
        "  rhooil_sc = so * rhowater\n",
        "\n",
        "  # gas density at surface/standard condition (Eq 2.23, real-gas law)\n",
        "\n",
        "  R = 10.732 # gas constant in (ft3*psi)/(lb-mol*R)\n",
        "  rhogas_sc = (28.97 * sg * pressure_sc) / (z_sc * R * (temp_sc + 459)) # temp converted to Rankine\n",
        "\n",
        "  # finally, oil density at reservoir condition\n",
        "\n",
        "  rhooil = (rhooil_sc + (rhogas_sc * Rs_converted)) / Bo\n",
        "\n",
        "  # oil density gradient\n",
        "\n",
        "  rhooil_grad = rhooil / 144 # 144 is factor conversion from density lbm/ft3 to psi/ft\n",
        "  rhooil_grad_converted = rhooil_grad * (6.89476 / 0.3048) # convert from psi/ft to kPa/m\n",
        "  return(rhooil_grad, rhooil_grad_converted)\n",
        "\n",
        "rhooil_grad, rhooil_grad_converted = rhooilgrad(so, sg, Rs, Bo)\n",
        "print(\"Oil density gradient for case 1:\", rhooil_grad, \"psi/ft, or:\", rhooil_grad_converted, \"kPa/m\")"
      ],
      "execution_count": 10,
      "outputs": [
        {
          "output_type": "stream",
          "text": [
            "Oil density gradient for case 1: 0.2844502289972827 psi/ft, or: 6.434435895279871 kPa/m\n"
          ],
          "name": "stdout"
        }
      ]
    },
    {
      "cell_type": "code",
      "metadata": {
        "id": "RX_XEJUprBy7",
        "colab_type": "code",
        "colab": {
          "base_uri": "https://localhost:8080/",
          "height": 34
        },
        "outputId": "47a7d8c3-9884-4fe4-8657-68df17b04f6f"
      },
      "source": [
        "# Question 2. Determine oil density gradient for case 2\n",
        "\n",
        "# known\n",
        "\n",
        "so = 0.9\n",
        "sg = 0.75\n",
        "Rs = 940 # scf/STB\n",
        "Bo = 1.63\n",
        "\n",
        "rhooil_grad, rhooil_grad_converted = rhooilgrad(so, sg, Rs, Bo)\n",
        "print(\"Oil density gradient for case 2:\", rhooil_grad, \"psi/ft, or:\", rhooil_grad_converted, \"kPa/m\")"
      ],
      "execution_count": 11,
      "outputs": [
        {
          "output_type": "stream",
          "text": [
            "Oil density gradient for case 2: 0.31978837177053765 psi/ft, or: 7.233806017548005 kPa/m\n"
          ],
          "name": "stdout"
        }
      ]
    },
    {
      "cell_type": "code",
      "metadata": {
        "id": "VsJZKbjerdF-",
        "colab_type": "code",
        "colab": {
          "base_uri": "https://localhost:8080/",
          "height": 34
        },
        "outputId": "9dda82af-0e97-4bf3-e0fc-5ba896d19498"
      },
      "source": [
        "# Question 3. Determine oil density gradient for case 2\n",
        "\n",
        "# known\n",
        "\n",
        "so = 0.8\n",
        "sg = 0.65\n",
        "Rs = 760 # scf/STB\n",
        "Bo = 1.43\n",
        "\n",
        "rhooil_grad, rhooil_grad_converted = rhooilgrad(so, sg, Rs, Bo)\n",
        "print(\"Oil density gradient for case 3:\", rhooil_grad, \"psi/ft, or:\", rhooil_grad_converted, \"kPa/m\")"
      ],
      "execution_count": 12,
      "outputs": [
        {
          "output_type": "stream",
          "text": [
            "Oil density gradient for case 3: 0.30401103004586716 psi/ft, or: 6.87691302335644 kPa/m\n"
          ],
          "name": "stdout"
        }
      ]
    },
    {
      "cell_type": "markdown",
      "metadata": {
        "id": "qdyrMOngsGBL",
        "colab_type": "text"
      },
      "source": [
        "# Problem 3.2"
      ]
    },
    {
      "cell_type": "code",
      "metadata": {
        "id": "k0U_uCk6sJaY",
        "colab_type": "code",
        "colab": {
          "base_uri": "https://localhost:8080/",
          "height": 101
        },
        "outputId": "9ecf29e4-4b68-45fe-bb06-abac2e06d6e4"
      },
      "source": [
        "# Question. Are the two wells in pressure communication?\n",
        "\n",
        "# known\n",
        "\n",
        "api = 38\n",
        "Rs = 510 # in scf/STB\n",
        "sg = 0.89\n",
        "Bo = 1.3 # in RB/STB\n",
        "\n",
        "well1_elev = 1202; well2_elev = 1098 # well elevation in ft MSL\n",
        "well1_depth = 4608; well2_depth = 4572 # well depth from KB in ft\n",
        "well1_pressure = 2108; well2_pressure = 2128 # well pressure in psia\n",
        "\n",
        "# standard conditions\n",
        "\n",
        "temp_sc = 60 # in fahrenheit\n",
        "pressure_sc = 14.73 # 1 atm = 14.73 psia\n",
        "z_sc = 1 # gas z factor at standard condition\n",
        "\n",
        "# calculate oil density at standard condition\n",
        "\n",
        "so = 141.5 / (131.5 + api)\n",
        "rhowater = 62.366\n",
        "rhooil_sc = so * rhowater\n",
        "# print(\"Oil density at standard condition:\", rhooil_sc, \"lbm/ft3\")\n",
        "\n",
        "# calculate gas density at standard condition\n",
        "\n",
        "R = 10.732 # gas constant in (ft3*psi)/(lb-mol*R)\n",
        "rhogas_sc = (28.97 * sg * pressure_sc) / (z_sc * R * (temp_sc + 459)) # temp converted to Rankine\n",
        "# print(\"Gas density at standard condition:\", rhogas_sc, \"lbm/ft3\")\n",
        "\n",
        "# calculate oil density at reservoir condition\n",
        "\n",
        "Rs_converted = Rs * (1 / 5.6148) # convert to scf gas/scf oil\n",
        "rhooil = (rhooil_sc + (rhogas_sc * Rs_converted)) / Bo\n",
        "print(\"Oil density at reservoir condition:\", rhooil, \"lbm/ft3\")\n",
        "\n",
        "# oil density gradient\n",
        "\n",
        "rhooil_grad = rhooil / 144 # 144 is factor conversion from density lbm/ft3 to psi/ft\n",
        "# print(\"Oil density gradient:\", rhooil_grad, \"psi/ft\")\n",
        "\n",
        "# check if the two wells are communicated\n",
        "\n",
        "well1_depthmsl = well1_elev - well1_depth\n",
        "well2_depthmsl = well2_elev - well2_depth\n",
        "delta_depth = np.abs(well2_depthmsl - well1_depthmsl)\n",
        "\n",
        "if well1_depthmsl > well2_depthmsl:\n",
        "  print(\"well 1 is shallower\", delta_depth, \"ft than well 2\")\n",
        "else:\n",
        "  print(\"well 1 is deeper\", delta_depth, \"ft than well 2\")\n",
        "\n",
        "well1_pressure_extrapolated = well2_pressure + rhooil_grad * delta_depth # pressure extrapolation, Eq 3.1\n",
        "print(\"From extrapolation, well 1 is supposed to be\", well1_pressure_extrapolated, \"psi\")\n",
        "\n",
        "delta_extrapolated_actual = np.abs(well1_pressure_extrapolated - well1_pressure)\n",
        "percent_delta = delta_extrapolated_actual / well1_pressure * 100\n",
        "\n",
        "print(\"Difference of extrapolated well 1 pressure to actual pressure:\", delta_extrapolated_actual, \"psi, or percent difference:\", percent_delta, \"%\")\n",
        "\n",
        "if percent_delta < 1:\n",
        "  print(\"The two wells are most likely in the same reservoir because pressure difference < significance 1%\")\n",
        "else:\n",
        "  print(\"The two wells are most likely NOT in the same reservoir because pressure difference > significance 1%\")"
      ],
      "execution_count": 22,
      "outputs": [
        {
          "output_type": "stream",
          "text": [
            "Oil density at reservoir condition: 44.81311666129863 lbm/ft3\n",
            "well 1 is shallower 68 ft than well 2\n",
            "From extrapolation, well 1 is supposed to be 2149.161749534502 psi\n",
            "Difference of extrapolated well 1 pressure to actual pressure: 41.16174953450218 psi, or percent difference: 1.9526446648245814 %\n",
            "The two wells are most likely NOT in the same reservoir because pressure difference > significance 1%\n"
          ],
          "name": "stdout"
        }
      ]
    },
    {
      "cell_type": "markdown",
      "metadata": {
        "id": "eZM01J--u-hV",
        "colab_type": "text"
      },
      "source": [
        "# Problem 3.3"
      ]
    },
    {
      "cell_type": "code",
      "metadata": {
        "id": "KwYEmF2Ku5ue",
        "colab_type": "code",
        "colab": {
          "base_uri": "https://localhost:8080/",
          "height": 50
        },
        "outputId": "47923743-3042-463a-cc15-9a3c5a2c3d42"
      },
      "source": [
        "# Question 1. Calculate density gradient of stock-tank oil (standard condition) and in reservoir\n",
        "\n",
        "# known\n",
        "\n",
        "api = 38.1\n",
        "Rs = 740 # in scf/STB\n",
        "sg = 0.85\n",
        "Bo = 1.451 # in RB/STB\n",
        "\n",
        "# standard conditions\n",
        "\n",
        "temp_sc = 60 # in fahrenheit\n",
        "pressure_sc = 14.73 # 1 atm = 14.73 psia\n",
        "z_sc = 1 # gas z factor at standard condition\n",
        "\n",
        "# calculate oil density at standard condition\n",
        "\n",
        "so = 141.5 / (131.5 + api)\n",
        "rhowater = 62.366\n",
        "rhooil_sc = so * rhowater\n",
        "# print(\"Oil density at standard condition:\", rhooil_sc, \"lbm/ft3\")\n",
        "\n",
        "# calculate gas density at standard condition\n",
        "\n",
        "R = 10.732 # gas constant in (ft3*psi)/(lb-mol*R)\n",
        "rhogas_sc = (28.97 * sg * pressure_sc) / (z_sc * R * (temp_sc + 459)) # temp converted to Rankine\n",
        "# print(\"Gas density at standard condition:\", rhogas_sc, \"lbm/ft3\")\n",
        "\n",
        "# calculate oil density at reservoir condition\n",
        "\n",
        "Rs_converted = Rs * (1 / 5.6148) # convert to scf gas/scf oil\n",
        "rhooil = (rhooil_sc + (rhogas_sc * Rs_converted)) / Bo\n",
        "# print(\"Oil density at reservoir condition:\", rhooil, \"lbm/ft3\")\n",
        "\n",
        "# reservoir oil density gradient\n",
        "\n",
        "rhooil_sc_grad = rhooil_sc / 144 # 144 is factor conversion from density lbm/ft3 to psi/ft\n",
        "print(\"Density gradient of stock-tank oil:\", rhooil_sc_grad, \"psi/ft\")\n",
        "\n",
        "# reservoir oil density gradient\n",
        "\n",
        "rhooil_grad = rhooil / 144 # 144 is factor conversion from density lbm/ft3 to psi/ft\n",
        "print(\"Density gradient of oil in reservoir:\", rhooil_grad, \"psi/ft\")"
      ],
      "execution_count": 23,
      "outputs": [
        {
          "output_type": "stream",
          "text": [
            "Density gradient of stock-tank oil: 0.36133995839884697 psi/ft\n",
            "Density gradient of oil in reservoir: 0.2901043719107 psi/ft\n"
          ],
          "name": "stdout"
        }
      ]
    },
    {
      "cell_type": "code",
      "metadata": {
        "id": "U14xYiU0vnMt",
        "colab_type": "code",
        "colab": {
          "base_uri": "https://localhost:8080/",
          "height": 84
        },
        "outputId": "95c5716f-297c-4197-8147-3c5bc8a2a3bb"
      },
      "source": [
        "# Question 2. Are the two wells in pressure communication?\n",
        "\n",
        "well1_elev = 5200; well2_elev = 5098 # well elevation in ft MSL\n",
        "well1_depth = 8838; well2_depth = 8719 # well depth from KB in ft\n",
        "well1_pressure = 3255; well2_pressure = 3226 # well pressure in psia\n",
        "\n",
        "well1_depthmsl = well1_elev - well1_depth\n",
        "well2_depthmsl = well2_elev - well2_depth\n",
        "delta_depth = np.abs(well2_depthmsl - well1_depthmsl)\n",
        "\n",
        "if well1_depthmsl > well2_depthmsl:\n",
        "  print(\"well 1 is shallower\", delta_depth, \"ft than well 2\")\n",
        "else:\n",
        "  print(\"well 1 is deeper\", delta_depth, \"ft than well 2\")\n",
        "\n",
        "well1_pressure_extrapolated = well2_pressure + rhooil_grad * delta_depth # pressure extrapolation, Eq 3.1\n",
        "print(\"From extrapolation, well 1 is supposed to be\", well1_pressure_extrapolated, \"psi\")\n",
        "\n",
        "delta_extrapolated_actual = np.abs(well1_pressure_extrapolated - well1_pressure)\n",
        "percent_delta = delta_extrapolated_actual / well1_pressure * 100\n",
        "\n",
        "print(\"Difference of extrapolated well 1 pressure to actual pressure:\", delta_extrapolated_actual, \"psi, or percent difference:\", percent_delta, \"%\")\n",
        "\n",
        "if percent_delta < 1:\n",
        "  print(\"The two wells are most likely in the same reservoir because pressure difference < significance 1%\")\n",
        "else:\n",
        "  print(\"The two wells are most likely NOT in the same reservoir because pressure difference > significance 1%\")"
      ],
      "execution_count": 24,
      "outputs": [
        {
          "output_type": "stream",
          "text": [
            "well 1 is deeper 17 ft than well 2\n",
            "From extrapolation, well 1 is supposed to be 3230.931774322482 psi\n",
            "Difference of extrapolated well 1 pressure to actual pressure: 24.068225677518058 psi, or percent difference: 0.7394232158991723 %\n",
            "The two wells are most likely in the same reservoir because pressure difference < significance 1%\n"
          ],
          "name": "stdout"
        }
      ]
    },
    {
      "cell_type": "markdown",
      "metadata": {
        "id": "3GCriN6RxKfj",
        "colab_type": "text"
      },
      "source": [
        "# Problem 3.4 "
      ]
    },
    {
      "cell_type": "code",
      "metadata": {
        "id": "uyZUJ2d3xNR8",
        "colab_type": "code",
        "colab": {
          "base_uri": "https://localhost:8080/",
          "height": 34
        },
        "outputId": "0beab5d1-4ef8-4f9a-a76d-756c7716dcdc"
      },
      "source": [
        "# Question 1. determine z factor (non-sour gas)\n",
        "\n",
        "# known\n",
        "\n",
        "sg = 0.69 \n",
        "pressure = 3416\n",
        "temp = 195\n",
        "x_h2s = 0\n",
        "x_co2 = 0\n",
        "\n",
        "import sys, os\n",
        "sys.path.append('/content/reservoir-engineering/Unit 2 Review of Rock and Fluid Properties/functions')\n",
        "\n",
        "from pseudoprops import pseudoprops\n",
        "\n",
        "P_pr, T_pr = pseudoprops(temp, pressure, sg, x_h2s, x_co2)\n",
        "\n",
        "from dranchuk_aboukassem import dranchuk\n",
        "\n",
        "rho_pr, z = dranchuk(T_pr, P_pr)\n",
        "print(\"Gas compressibility z factor:\", z)"
      ],
      "execution_count": 4,
      "outputs": [
        {
          "output_type": "stream",
          "text": [
            "Gas compressibility z factor: 0.9023620730438874\n"
          ],
          "name": "stdout"
        }
      ]
    },
    {
      "cell_type": "code",
      "metadata": {
        "id": "0I_7JC4S0OAd",
        "colab_type": "code",
        "colab": {
          "base_uri": "https://localhost:8080/",
          "height": 50
        },
        "outputId": "5ef98547-e6ad-4261-87bc-13385cdf5602"
      },
      "source": [
        "# Question 2. calculate gas density gradient and pressure at 100 ft below datum\n",
        "\n",
        "delta = 100\n",
        "R = 10.732\n",
        "\n",
        "rhogas = (28.97 * sg * pressure) / (z * R * (temp + 459)) # temp convert to Rankine\n",
        "\n",
        "# gas density gradient\n",
        "\n",
        "rhogas_grad = rhogas / 144\n",
        "print(\"Gas density gradient:\", rhogas_grad, \"psi/ft\")\n",
        "\n",
        "# extrapolate using Eq 3.1\n",
        "\n",
        "pressure_extrapolated_below = pressure + rhogas_grad * delta\n",
        "print(\"Using Eq 3.1, extrapolated pressure at\", delta, \"ft below datum:\", pressure_extrapolated_below, \"psi\")"
      ],
      "execution_count": 9,
      "outputs": [
        {
          "output_type": "stream",
          "text": [
            "Gas density gradient: 0.07487101318876115 psi/ft\n",
            "Using Eq 3.1, extrapolated pressure at 100 ft below datum: 3423.4871013188763 psi\n"
          ],
          "name": "stdout"
        }
      ]
    },
    {
      "cell_type": "code",
      "metadata": {
        "id": "KpWp_hh011xL",
        "colab_type": "code",
        "colab": {
          "base_uri": "https://localhost:8080/",
          "height": 50
        },
        "outputId": "3909e014-1326-47b7-fe1a-6f086b78c137"
      },
      "source": [
        "# Question 3. calculate surface shut-in pressure at 7500 ft above datum using Eq 3.1 and 3.7\n",
        "\n",
        "# Eq 3.1\n",
        "\n",
        "delta2 = 7500\n",
        "pressure_extrapolated_above1 = pressure - rhogas_grad * delta\n",
        "print(\"Using Eq 3.1, extrapolated pressure at\", delta2, \"ft above datum:\", pressure_extrapolated_above1, \"psi\")\n",
        "\n",
        "# Eq 3.7\n",
        "\n",
        "pressure_extrapolated_above2 = pressure*(np.exp(-(0.01877 * sg * delta) / (z * (temp + 459)))) # temp in Rankine\n",
        "print(\"Using Eq 3.7, extrapolated pressure at\", delta2, \"ft above datum:\", pressure_extrapolated_above2, \"psi\")"
      ],
      "execution_count": 12,
      "outputs": [
        {
          "output_type": "stream",
          "text": [
            "Using Eq 3.1, extrapolated pressure at 7500 ft above datum: 3408.5128986811237 psi\n",
            "Using Eq 3.7, extrapolated pressure at 7500 ft above datum: 3408.51147678938 psi\n"
          ],
          "name": "stdout"
        }
      ]
    }
  ]
}